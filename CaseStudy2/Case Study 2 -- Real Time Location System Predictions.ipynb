{
 "cells": [
  {
   "cell_type": "markdown",
   "metadata": {},
   "source": [
    "## Real Time Location System\n",
    "\n",
    "### Predicting Location with K- Nearest Neighbor\n",
    "\n",
    "### Team: Bin Yu, Nuoya Rezsonya  (add your name here)"
   ]
  },
  {
   "cell_type": "markdown",
   "metadata": {},
   "source": [
    "### Introduction ( we will add this part later)"
   ]
  },
  {
   "cell_type": "markdown",
   "metadata": {},
   "source": [
    "Introduction part"
   ]
  },
  {
   "cell_type": "markdown",
   "metadata": {},
   "source": [
    "### Methodology (we will add this part later)"
   ]
  },
  {
   "cell_type": "markdown",
   "metadata": {},
   "source": [
    "Talking about what we used in this notebook and reference the resource "
   ]
  },
  {
   "cell_type": "markdown",
   "metadata": {},
   "source": [
    "### Data Import"
   ]
  },
  {
   "cell_type": "markdown",
   "metadata": {},
   "source": [
    "This part will be words to describe the data source as in where it comes from, dimension of the data, column explaination(which is what)"
   ]
  },
  {
   "cell_type": "code",
   "execution_count": 4,
   "metadata": {},
   "outputs": [
    {
     "ename": "ERROR",
     "evalue": "Error in eval(expr, envir, enclos): object 'pwd' not found\n",
     "output_type": "error",
     "traceback": [
      "Error in eval(expr, envir, enclos): object 'pwd' not found\nTraceback:\n"
     ]
    }
   ],
   "source": [
    "pwd"
   ]
  },
  {
   "cell_type": "code",
   "execution_count": 5,
   "metadata": {},
   "outputs": [
    {
     "name": "stderr",
     "output_type": "stream",
     "text": [
      "Warning message in file(con, \"r\"):\n",
      "\"cannot open file 'data\\offline_final_trace.txt': No such file or directory\""
     ]
    },
    {
     "ename": "ERROR",
     "evalue": "Error in file(con, \"r\"): cannot open the connection\n",
     "output_type": "error",
     "traceback": [
      "Error in file(con, \"r\"): cannot open the connection\nTraceback:\n",
      "1. readLines(\"data\\\\offline_final_trace.txt\")",
      "2. file(con, \"r\")"
     ]
    }
   ],
   "source": [
    "# Import the data, please dont remove my import, you can comment out and add yours\n",
    "txt <- readLines( \"data\\\\offline_final_trace.txt\")\n"
   ]
  },
  {
   "cell_type": "code",
   "execution_count": 27,
   "metadata": {},
   "outputs": [
    {
     "name": "stdout",
     "output_type": "stream",
     "text": [
      "[1] \"The total number of lines in offline data = 151392\"\n",
      "[1] \"The number of comments in data = 5312\"\n",
      "[1] \"The actual number of data, non-comment lines = 146080\"\n"
     ]
    }
   ],
   "source": [
    "print(paste(\"The total number of lines in offline data =\",length(txt)))\n",
    "print(paste(\"The number of comments in data =\", sum(substr(txt, 1, 1) == \"#\"))) # there are comments in the data, figure out amount\n",
    "print(paste(\"The actual number of data, non-comment lines =\", length(txt) - sum(substr(txt, 1, 1) == \"#\"))) # the actual data lines\n"
   ]
  },
  {
   "cell_type": "code",
   "execution_count": null,
   "metadata": {},
   "outputs": [],
   "source": []
  }
 ],
 "metadata": {
  "kernelspec": {
   "display_name": "R",
   "language": "R",
   "name": "ir"
  },
  "language_info": {
   "codemirror_mode": "r",
   "file_extension": ".r",
   "mimetype": "text/x-r-source",
   "name": "R",
   "pygments_lexer": "r",
   "version": "3.5.1"
  }
 },
 "nbformat": 4,
 "nbformat_minor": 2
}
