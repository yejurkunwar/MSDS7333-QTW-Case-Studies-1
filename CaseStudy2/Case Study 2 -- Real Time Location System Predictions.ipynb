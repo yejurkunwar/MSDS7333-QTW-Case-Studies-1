{
 "cells": [
  {
   "cell_type": "markdown",
   "metadata": {},
   "source": [
    "<h1><center>Real Time Location System</center></h1>\n",
    "<h1><center>Predicting Location with K- Nearest Neighbor</center></h1>\n",
    "<h3><center> Bin Yu, Nuoya Rezsonya, Yejur Singh Kunwar, Iram Bakhtiar</center></h3>"
   ]
  },
  {
   "cell_type": "markdown",
   "metadata": {},
   "source": [
    "### Abstract"
   ]
  },
  {
   "cell_type": "markdown",
   "metadata": {},
   "source": [
    "Real-time locating systems(RTLS) are utilized to identify and locate objects or people in real time, usually indoor. We investigated the effect of changing or removing the access points to determine the accuracy from Nolan and Lang \"DATA SCIENCE IN R: a Case Studies Approach to Computational Reasoning and Problem Solving\" [1]. Our methodology includes K-NN model with Euclidian distance and Manhattan distance, both weighted and un-weighted to identify the location of the hand-devices. The weighted K-NN proved to show marginal improvement in location prediction."
   ]
  },
  {
   "cell_type": "markdown",
   "metadata": {},
   "source": [
    "### Introduction"
   ]
  },
  {
   "cell_type": "markdown",
   "metadata": {},
   "source": [
    "RTLS system are major component of indoor location tracking, inventory management, power management of the building, and many other use cases. In most RTLS, a wireless tag will be attached to the desire objects so that fixed reference points could receive the signals from the tags to determine the locations. In real world, this technology has been used in assembly line to locate the automobiles, hospitals to locate medical equipment and warehouses to locate the products etc. \n",
    "\n",
    "RTLS uses access points to measure the strength of signals from a handheld device and then predict the hand held device's location using K-NN algorithm. The way RTLS works could be broken down into three steps. Before implementing this application, a reference set of data is required. This data contains the measurements of the signal strength between a hand-held device and fixed access points. It is also known as offline data which you can consider them as training data. With this data, we can establish a model for the location of the device as a function of the strength of signals between the device and each access points. Then we use the model to predict the location of a tag when the location is unknown.\n",
    "\n",
    "In the case study from Nolan and Lang [1], the offline data has been provided which has 6 access points within a hallway on a specific floor at University of Mannheim and 166 points with 1 meter from each other as tags. See Figure 1: The Floor Plan.\n",
    "\n",
    "<h3><center>Figure 1: The Floor Plan</center></h3>\n",
    "\n",
    "<img src=\"FloorPlan.png\" style=\"height:400px\"/>\n",
    "\n",
    " \n",
    "\n"
   ]
  },
  {
   "cell_type": "markdown",
   "metadata": {},
   "source": [
    "### Background"
   ]
  },
  {
   "cell_type": "markdown",
   "metadata": {},
   "source": [
    "The offline data has been used to predict the locations of a device that the location is unknown. Predictions have been tested on the testing data which is the \"online\" data. In \"online\" data, 60 locations which are not included in the previous 166 points and orientation have been chosen randomly. A total of 110 signal have been measured from them to each access point. \"Online\" data is used to determine the performance of the RTLS model. \n",
    "\n",
    "In our case study, we will conduct a more thorough data analysis into these two MAC addresses including determining locations by using data corresponding to both MAC addresses. Then answer the following questions including:\n",
    "\n",
    "- Q1. Which of these two MAC addresses should be used and which should not be used for RTLS? \n",
    "- Q2. Which MAC address yields the best prediction of location?  \n",
    "- Q3. oes using data for both MAC addresses simultaneously yield more, or less, accurate prediction of location? (Note: this portion is derived from Exercise Q.9 in Nolan and Lang.)\n",
    "- Q4. While k-nearest neighbors have proven to be a good approach to determining location, alternate approaches have been proposed.  One simple alternative approach is to use weights on the received signal strength, where the weight is inversely proportional to the “distance” from the test observation.  This allows for the “nearest” points to have a greater contribution to the k-nearest neighbor location calculation than the points that are “further” away.  \n",
    "- Q5. Implement this alternative prediction method.  \n",
    "- Q6. For what range of values of weights are you able to obtain better prediction values than for the unweighted k-nearest neighbor approach? Use calcError() to compare this approach to the simple average."
   ]
  },
  {
   "cell_type": "markdown",
   "metadata": {},
   "source": [
    "### Methods"
   ]
  },
  {
   "cell_type": "markdown",
   "metadata": {},
   "source": [
    "This case study includes data import and exploration, data preparation, orientation exploration, MAC addresses exploration, singnal strength analysis, model construction to predict location to compare different model performance of different choices of MACs and lastly a weighted K-NN model to improve accuracy of the model that predicts the location of a hand held device where the location is unknown.\n",
    "\n",
    "The following code is the modification of the example code provided from Chapter 1 of Data Science in R: A Case Studies Approach to Computational Reasoning and Problem Solving by Deborah Nolan and Duncan Temple Lang. The source code can be found at http://rdatasciencecases.org/code.html and the dataset is at http://rdatasciencecases.org/Data.html.\n",
    "\n",
    "In order to answer listed questions, we have multiple process to compare the two MACs in terms of their strength, distribution and also their impacts on the modelling. The goal is to find out how to make a decision on keep one of them and the logic the decision is based on. We have included five different models and the last one is where we provide an alternative solution to improve the model performance:\n",
    "* Regular KNN without 00:0f:a3:39:dd:cd\n",
    "* Regular KNN without 00:0f:a3:39:e1:c0\n",
    "* Regular KNN with both MACs above\n",
    "* Regular KNN using Manhattan Distance\n",
    "* Weighted KNN considering the distance\n",
    "\n",
    "Now let us get started from data exploration."
   ]
  },
  {
   "cell_type": "markdown",
   "metadata": {},
   "source": [
    "### Data Import and Exploration\n",
    "\n",
    "In this notebook, we will be using the offline data provided by the book [2], Data Science in R: A Case Studies Approach to Computational Reasoning and Problem Solving by Deborah Nolan and Duncan Temple Lang. This offline data will be used as the training data to build the prediction model. It has a total of 151,392 rows in the file and 5,312 rows are comments. The total 146,080 data rows will be used in our data analysis. This is matching with our expetation of the number of line in the file (166 locations x 8 angles x 110 recordings)."
   ]
  },
  {
   "cell_type": "markdown",
   "metadata": {},
   "source": [
    "The data are not in a tablur data format that we can directly import into data frame using **read.table()**. The main data elements are separated by semicolons. And each field has the label and \"=\" followed by a value. The last part of the record is really a matrix contains 4 columns: MAC, orientation, channel frequency, mode. In the first record, there are 8 MACs has mode 3 (access point) and 2 MACs with mode 1 (Adhoc mode). \n",
    "\n",
    "The following is table of Units of Measurement(from Nolan and Lang Book,page 7 Table 1.1: Units of Measurement)\n",
    "\n",
    "<p align=\"left\">Variables              </p> |<p align=\"left\">Units</p>\n",
    ":-------------:|:-----------------------------------------\n",
    "<p align=\"left\">**t**</p> | <p align=\"left\">timestamp in milliseconds since midnight, January 1, 1970 UTC </p>\n",
    "<p align=\"left\">**id**</p> | <p align=\"left\">MAC address of the scanning device</p>\n",
    "<p align=\"left\">**pos**</p> | <p align=\"left\">the physical coordinate of the scanning device</p>\n",
    "<p align=\"left\">**degree**</p> | <p align=\"left\">orientation of the user carrying the scanning device in degrees</p> \n",
    "<p align=\"left\">**MAC**</p> | <p align=\"left\">MAC address of a responding peer (e.g., an accesspoint or a device in adhoc mode) with the corresponding values for signal strength in dBm\n",
    " <p align=\"left\"></p> | <p align=\"left\"> (Decibel-milliwatts), the channel frequency and its mode (access point = 3, device in adhoc mode = 1)\n"
   ]
  },
  {
   "cell_type": "code",
   "execution_count": 1,
   "metadata": {},
   "outputs": [
    {
     "name": "stderr",
     "output_type": "stream",
     "text": [
      "Warning message:\n",
      "\"package 'fields' was built under R version 3.5.3\"Loading required package: spam\n",
      "Warning message:\n",
      "\"package 'spam' was built under R version 3.5.3\"Loading required package: dotCall64\n",
      "Warning message:\n",
      "\"package 'dotCall64' was built under R version 3.5.3\"Loading required package: grid\n",
      "Spam version 2.2-2 (2019-03-07) is loaded.\n",
      "Type 'help( Spam)' or 'demo( spam)' for a short introduction \n",
      "and overview of this package.\n",
      "Help for individual functions is also obtained by adding the\n",
      "suffix '.spam' to the function name, e.g. 'help( chol.spam)'.\n",
      "\n",
      "Attaching package: 'spam'\n",
      "\n",
      "The following objects are masked from 'package:base':\n",
      "\n",
      "    backsolve, forwardsolve\n",
      "\n",
      "Loading required package: maps\n",
      "Warning message:\n",
      "\"package 'maps' was built under R version 3.5.3\"See https://github.com/NCAR/Fields for\n",
      " an extensive vignette, other supplements and source code \n",
      "Warning message:\n",
      "\"package 'codetools' was built under R version 3.5.2\"Warning message:\n",
      "\"package 'tictoc' was built under R version 3.5.2\"Warning message:\n",
      "\"package 'ggplot2' was built under R version 3.5.3\""
     ]
    }
   ],
   "source": [
    "# Installing and importing necessary libraries\n",
    "library(lattice)\n",
    "# install.packages('fields')  #(RUN THIS IF YOU DO NOT HAVE PACKAGE)\n",
    "# library(fields)\n",
    "#install.packages('tictoc', repos='http://cran.us.r-project.org')\n",
    "library(fields)\n",
    "library(codetools)\n",
    "library(tictoc)\n",
    "library(ggplot2)\n"
   ]
  },
  {
   "cell_type": "markdown",
   "metadata": {},
   "source": [
    "The following code is just to give us an idea how many rows of data we have and how many of them are the actual data that we can use. There are 5312 rows of comments and 146080 rows of actual data."
   ]
  },
  {
   "cell_type": "code",
   "execution_count": 2,
   "metadata": {},
   "outputs": [
    {
     "name": "stdout",
     "output_type": "stream",
     "text": [
      "[1] \"The total number of lines in offline data = 151392\"\n",
      "[1] \"The number of comments in data = 5312\"\n",
      "[1] \"The actual number of data, non-comment lines = 146080\"\n"
     ]
    }
   ],
   "source": [
    "# Importing data from data folder in this environments\n",
    "options(digits = 2)\n",
    "txt = readLines(\"Data/offline.final.trace.txt\")\n",
    "\n",
    "# Prelimniary data exploration for dimensions\n",
    "print(paste(\"The total number of lines in offline data =\",length(txt)))\n",
    "# there are comments in the data, figure out amount\n",
    "print(paste(\"The number of comments in data =\", sum(substr(txt, 1, 1) == \"#\"))) \n",
    "# the actual data lines\n",
    "print(paste(\"The actual number of data, non-comment lines =\", length(txt) - sum(substr(txt, 1, 1) == \"#\"))) "
   ]
  },
  {
   "cell_type": "markdown",
   "metadata": {},
   "source": [
    "Let us print out the first row of the data."
   ]
  },
  {
   "cell_type": "code",
   "execution_count": 3,
   "metadata": {},
   "outputs": [
    {
     "data": {
      "text/html": [
       "<ol class=list-inline>\n",
       "\t<li>'t=1139643118358'</li>\n",
       "\t<li>'id=00:02:2D:21:0F:33'</li>\n",
       "\t<li>'pos=0.0,0.0,0.0'</li>\n",
       "\t<li>'degree=0.0'</li>\n",
       "\t<li>'00:14:bf:b1:97:8a=-38,2437000000,3'</li>\n",
       "\t<li>'00:14:bf:b1:97:90=-56,2427000000,3'</li>\n",
       "\t<li>'00:0f:a3:39:e1:c0=-53,2462000000,3'</li>\n",
       "\t<li>'00:14:bf:b1:97:8d=-65,2442000000,3'</li>\n",
       "\t<li>'00:14:bf:b1:97:81=-65,2422000000,3'</li>\n",
       "\t<li>'00:14:bf:3b:c7:c6=-66,2432000000,3'</li>\n",
       "\t<li>'00:0f:a3:39:dd:cd=-75,2412000000,3'</li>\n",
       "\t<li>'00:0f:a3:39:e0:4b=-78,2462000000,3'</li>\n",
       "\t<li>'00:0f:a3:39:e2:10=-87,2437000000,3'</li>\n",
       "\t<li>'02:64:fb:68:52:e6=-88,2447000000,1'</li>\n",
       "\t<li>'02:00:42:55:31:00=-84,2457000000,1'</li>\n",
       "</ol>\n"
      ],
      "text/latex": [
       "\\begin{enumerate*}\n",
       "\\item 't=1139643118358'\n",
       "\\item 'id=00:02:2D:21:0F:33'\n",
       "\\item 'pos=0.0,0.0,0.0'\n",
       "\\item 'degree=0.0'\n",
       "\\item '00:14:bf:b1:97:8a=-38,2437000000,3'\n",
       "\\item '00:14:bf:b1:97:90=-56,2427000000,3'\n",
       "\\item '00:0f:a3:39:e1:c0=-53,2462000000,3'\n",
       "\\item '00:14:bf:b1:97:8d=-65,2442000000,3'\n",
       "\\item '00:14:bf:b1:97:81=-65,2422000000,3'\n",
       "\\item '00:14:bf:3b:c7:c6=-66,2432000000,3'\n",
       "\\item '00:0f:a3:39:dd:cd=-75,2412000000,3'\n",
       "\\item '00:0f:a3:39:e0:4b=-78,2462000000,3'\n",
       "\\item '00:0f:a3:39:e2:10=-87,2437000000,3'\n",
       "\\item '02:64:fb:68:52:e6=-88,2447000000,1'\n",
       "\\item '02:00:42:55:31:00=-84,2457000000,1'\n",
       "\\end{enumerate*}\n"
      ],
      "text/markdown": [
       "1. 't=1139643118358'\n",
       "2. 'id=00:02:2D:21:0F:33'\n",
       "3. 'pos=0.0,0.0,0.0'\n",
       "4. 'degree=0.0'\n",
       "5. '00:14:bf:b1:97:8a=-38,2437000000,3'\n",
       "6. '00:14:bf:b1:97:90=-56,2427000000,3'\n",
       "7. '00:0f:a3:39:e1:c0=-53,2462000000,3'\n",
       "8. '00:14:bf:b1:97:8d=-65,2442000000,3'\n",
       "9. '00:14:bf:b1:97:81=-65,2422000000,3'\n",
       "10. '00:14:bf:3b:c7:c6=-66,2432000000,3'\n",
       "11. '00:0f:a3:39:dd:cd=-75,2412000000,3'\n",
       "12. '00:0f:a3:39:e0:4b=-78,2462000000,3'\n",
       "13. '00:0f:a3:39:e2:10=-87,2437000000,3'\n",
       "14. '02:64:fb:68:52:e6=-88,2447000000,1'\n",
       "15. '02:00:42:55:31:00=-84,2457000000,1'\n",
       "\n",
       "\n"
      ],
      "text/plain": [
       " [1] \"t=1139643118358\"                    \"id=00:02:2D:21:0F:33\"              \n",
       " [3] \"pos=0.0,0.0,0.0\"                    \"degree=0.0\"                        \n",
       " [5] \"00:14:bf:b1:97:8a=-38,2437000000,3\" \"00:14:bf:b1:97:90=-56,2427000000,3\"\n",
       " [7] \"00:0f:a3:39:e1:c0=-53,2462000000,3\" \"00:14:bf:b1:97:8d=-65,2442000000,3\"\n",
       " [9] \"00:14:bf:b1:97:81=-65,2422000000,3\" \"00:14:bf:3b:c7:c6=-66,2432000000,3\"\n",
       "[11] \"00:0f:a3:39:dd:cd=-75,2412000000,3\" \"00:0f:a3:39:e0:4b=-78,2462000000,3\"\n",
       "[13] \"00:0f:a3:39:e2:10=-87,2437000000,3\" \"02:64:fb:68:52:e6=-88,2447000000,1\"\n",
       "[15] \"02:00:42:55:31:00=-84,2457000000,1\""
      ]
     },
     "metadata": {},
     "output_type": "display_data"
    }
   ],
   "source": [
    "# Take a look at first data row\n",
    "strsplit(txt[4], \";\")[[1]]"
   ]
  },
  {
   "cell_type": "markdown",
   "metadata": {},
   "source": [
    "### Data Preparation for Analysis -- Adding Structures to Data"
   ]
  },
  {
   "cell_type": "markdown",
   "metadata": {},
   "source": [
    "Since the data is not structured and we cannot directly import the text read through **readlines** into data frame. First of all we need to add structure to the data. We are using **strsplit** function and using ;=, as token to parse each line. Below function will define the logic we are going to use to import the data.\n",
    "\n",
    "The following step is to create a function that we could use to create matrixes for each line of data in \"offline and then merge them into a data frame which we will use for the final analysis.\n"
   ]
  },
  {
   "cell_type": "code",
   "execution_count": 4,
   "metadata": {},
   "outputs": [],
   "source": [
    "# Function for data cleaning, iterating over rows\n",
    "processLine = function(x)\n",
    "{\n",
    "    tokens = strsplit(x, \"[;=,]\")[[1]]\n",
    "    # ignore the row if it the line doesn't have MAC part.\n",
    "    if (length(tokens) == 10)\n",
    "      return(NULL)\n",
    "    tmp = matrix(tokens[ - (1:10) ], , 4, byrow = TRUE)\n",
    "    cbind(matrix(tokens[c(2, 4, 6:8, 10)], nrow(tmp), 6,\n",
    "    byrow = TRUE), tmp)\n",
    "}\n"
   ]
  },
  {
   "cell_type": "markdown",
   "metadata": {},
   "source": [
    "We are ignoring all of the comments rows which first character on the line is \"#\". then call processLine function through lappy. The result is saved into **offline** data frame. The offline data frame has 1,181,628 records and 10 columns."
   ]
  },
  {
   "cell_type": "code",
   "execution_count": 5,
   "metadata": {},
   "outputs": [
    {
     "data": {
      "text/html": [
       "<ol class=list-inline>\n",
       "\t<li>1181628</li>\n",
       "\t<li>10</li>\n",
       "</ol>\n"
      ],
      "text/latex": [
       "\\begin{enumerate*}\n",
       "\\item 1181628\n",
       "\\item 10\n",
       "\\end{enumerate*}\n"
      ],
      "text/markdown": [
       "1. 1181628\n",
       "2. 10\n",
       "\n",
       "\n"
      ],
      "text/plain": [
       "[1] 1181628      10"
      ]
     },
     "metadata": {},
     "output_type": "display_data"
    }
   ],
   "source": [
    "# get lines strip out the comments with # in the begining\n",
    "lines = txt[ substr(txt, 1, 1) != \"#\" ]\n",
    "# parsing each line and save it in staging table.\n",
    "tmp = lapply(lines, processLine)\n",
    "\n",
    "# setting an option to handle errors and change warnings into errors:\n",
    "options(error = recover, warn = 1)\n",
    "\n",
    "# call processline function to process lines from the text file\n",
    "tmp = lapply(lines, processLine)\n",
    "\n",
    "# put the data into data frame\n",
    "offline = as.data.frame(do.call(\"rbind\", tmp),\n",
    "                        stringsAsFactors = FALSE)\n",
    "dim(offline)"
   ]
  },
  {
   "cell_type": "markdown",
   "metadata": {},
   "source": [
    "Now we are adding headers to the variables and then data type rearrangment is performed here to make sure our variables are in the correct format for the analysis. Up to this point, the data already has numeric variables.\n",
    "\n",
    "The printed result shows that we have 10 columns in the data frame and variables including time, position X, position Y, signal, and orientation are all converted to numeric variables. \n",
    "\n",
    "However, we are not using all rows and columns to do the analysis. If we use the signal strengths as the measurement, we don't need the ad-hoc mode and removed about 203,185 records from the data frame. The field **type** has been removed as well. After the clean up process, we have 978,443 rows and 9 columns in offline data frame."
   ]
  },
  {
   "cell_type": "code",
   "execution_count": 6,
   "metadata": {},
   "outputs": [],
   "source": [
    "# Adding header\n",
    "names(offline) <- c(\"time\", \"scanMac\", \"posX\", \"posY\", \"posZ\", \n",
    "                   \"orientation\", \"mac\", \"signal\", \n",
    "                   \"channel\", \"type\")\n",
    "# Numeric varaible field\n",
    "numVars <- c(\"time\", \"posX\", \"posY\", \"posZ\", \n",
    "            \"orientation\", \"signal\")\n",
    "# convert the list of numeric columns to numeric data type\n",
    "offline[ numVars ] =  lapply(offline[ numVars ], as.numeric)"
   ]
  },
  {
   "cell_type": "code",
   "execution_count": 7,
   "metadata": {},
   "outputs": [
    {
     "data": {
      "text/html": [
       "<ol class=list-inline>\n",
       "\t<li>203185</li>\n",
       "\t<li>10</li>\n",
       "</ol>\n"
      ],
      "text/latex": [
       "\\begin{enumerate*}\n",
       "\\item 203185\n",
       "\\item 10\n",
       "\\end{enumerate*}\n"
      ],
      "text/markdown": [
       "1. 203185\n",
       "2. 10\n",
       "\n",
       "\n"
      ],
      "text/plain": [
       "[1] 203185     10"
      ]
     },
     "metadata": {},
     "output_type": "display_data"
    }
   ],
   "source": [
    "# show how many records are mode 1 (adhoc mode)\n",
    "dim(offline[ offline$type == \"1\", ])"
   ]
  },
  {
   "cell_type": "markdown",
   "metadata": {},
   "source": [
    "Since we are only use the signal strengths measurement in our analysis, we don't need adhoc (type =1) data. We will only keep access point (type = 3) records."
   ]
  },
  {
   "cell_type": "code",
   "execution_count": 8,
   "metadata": {},
   "outputs": [
    {
     "data": {
      "text/html": [
       "<ol class=list-inline>\n",
       "\t<li>978443</li>\n",
       "\t<li>9</li>\n",
       "</ol>\n"
      ],
      "text/latex": [
       "\\begin{enumerate*}\n",
       "\\item 978443\n",
       "\\item 9\n",
       "\\end{enumerate*}\n"
      ],
      "text/markdown": [
       "1. 978443\n",
       "2. 9\n",
       "\n",
       "\n"
      ],
      "text/plain": [
       "[1] 978443      9"
      ]
     },
     "metadata": {},
     "output_type": "display_data"
    }
   ],
   "source": [
    "# only get the mode 3 records for our analysis\n",
    "offline <- offline[ offline$type == \"3\", ]\n",
    "offline <- offline[ , \"type\" != names(offline) ]\n",
    "dim(offline)"
   ]
  },
  {
   "cell_type": "markdown",
   "metadata": {},
   "source": [
    "Now let us check the data types again to make sure variables are with the correct data type."
   ]
  },
  {
   "cell_type": "code",
   "execution_count": 9,
   "metadata": {},
   "outputs": [
    {
     "data": {
      "text/html": [
       "<dl class=dl-horizontal>\n",
       "\t<dt>time1</dt>\n",
       "\t\t<dd>'POSIXt'</dd>\n",
       "\t<dt>time2</dt>\n",
       "\t\t<dd>'POSIXct'</dd>\n",
       "\t<dt>scanMac</dt>\n",
       "\t\t<dd>'character'</dd>\n",
       "\t<dt>posX</dt>\n",
       "\t\t<dd>'numeric'</dd>\n",
       "\t<dt>posY</dt>\n",
       "\t\t<dd>'numeric'</dd>\n",
       "\t<dt>posZ</dt>\n",
       "\t\t<dd>'numeric'</dd>\n",
       "\t<dt>orientation</dt>\n",
       "\t\t<dd>'numeric'</dd>\n",
       "\t<dt>mac</dt>\n",
       "\t\t<dd>'character'</dd>\n",
       "\t<dt>signal</dt>\n",
       "\t\t<dd>'numeric'</dd>\n",
       "\t<dt>channel</dt>\n",
       "\t\t<dd>'character'</dd>\n",
       "\t<dt>rawTime</dt>\n",
       "\t\t<dd>'numeric'</dd>\n",
       "</dl>\n"
      ],
      "text/latex": [
       "\\begin{description*}\n",
       "\\item[time1] 'POSIXt'\n",
       "\\item[time2] 'POSIXct'\n",
       "\\item[scanMac] 'character'\n",
       "\\item[posX] 'numeric'\n",
       "\\item[posY] 'numeric'\n",
       "\\item[posZ] 'numeric'\n",
       "\\item[orientation] 'numeric'\n",
       "\\item[mac] 'character'\n",
       "\\item[signal] 'numeric'\n",
       "\\item[channel] 'character'\n",
       "\\item[rawTime] 'numeric'\n",
       "\\end{description*}\n"
      ],
      "text/markdown": [
       "time1\n",
       ":   'POSIXt'time2\n",
       ":   'POSIXct'scanMac\n",
       ":   'character'posX\n",
       ":   'numeric'posY\n",
       ":   'numeric'posZ\n",
       ":   'numeric'orientation\n",
       ":   'numeric'mac\n",
       ":   'character'signal\n",
       ":   'numeric'channel\n",
       ":   'character'rawTime\n",
       ":   'numeric'\n",
       "\n"
      ],
      "text/plain": [
       "      time1       time2     scanMac        posX        posY        posZ \n",
       "   \"POSIXt\"   \"POSIXct\" \"character\"   \"numeric\"   \"numeric\"   \"numeric\" \n",
       "orientation         mac      signal     channel     rawTime \n",
       "  \"numeric\" \"character\"   \"numeric\" \"character\"   \"numeric\" "
      ]
     },
     "metadata": {},
     "output_type": "display_data"
    }
   ],
   "source": [
    "# Formatting time and checking data types\n",
    "offline$rawTime <- offline$time\n",
    "offline$time <- offline$time/1000\n",
    "class(offline$time) <- c(\"POSIXt\", \"POSIXct\")\n",
    "unlist(lapply(offline, class))"
   ]
  },
  {
   "cell_type": "markdown",
   "metadata": {},
   "source": [
    "Based on the documentation, the time field is measured in number of the milliseconds. However the POSIXt is measured in the seconds. We scaled the time value to seconds. The original time saved into the rawtime field and convert the original time to time1 and time2 fields."
   ]
  },
  {
   "cell_type": "code",
   "execution_count": 10,
   "metadata": {},
   "outputs": [
    {
     "data": {
      "text/html": [
       "<table>\n",
       "<thead><tr><th scope=col>time</th><th scope=col>scanMac</th><th scope=col>posX</th><th scope=col>posY</th><th scope=col>posZ</th><th scope=col>orientation</th><th scope=col>mac</th><th scope=col>signal</th><th scope=col>channel</th><th scope=col>rawTime</th></tr></thead>\n",
       "<tbody>\n",
       "\t<tr><td>2006-02-10 23:31:58</td><td>00:02:2D:21:0F:33  </td><td>0                  </td><td>0                  </td><td>0                  </td><td>0                  </td><td>00:14:bf:b1:97:8a  </td><td>-38                </td><td>2437000000         </td><td>1.1e+12            </td></tr>\n",
       "\t<tr><td>2006-02-10 23:31:58</td><td>00:02:2D:21:0F:33  </td><td>0                  </td><td>0                  </td><td>0                  </td><td>0                  </td><td>00:14:bf:b1:97:90  </td><td>-56                </td><td>2427000000         </td><td>1.1e+12            </td></tr>\n",
       "\t<tr><td>2006-02-10 23:31:58</td><td>00:02:2D:21:0F:33  </td><td>0                  </td><td>0                  </td><td>0                  </td><td>0                  </td><td>00:0f:a3:39:e1:c0  </td><td>-53                </td><td>2462000000         </td><td>1.1e+12            </td></tr>\n",
       "\t<tr><td>2006-02-10 23:31:58</td><td>00:02:2D:21:0F:33  </td><td>0                  </td><td>0                  </td><td>0                  </td><td>0                  </td><td>00:14:bf:b1:97:8d  </td><td>-65                </td><td>2442000000         </td><td>1.1e+12            </td></tr>\n",
       "\t<tr><td>2006-02-10 23:31:58</td><td>00:02:2D:21:0F:33  </td><td>0                  </td><td>0                  </td><td>0                  </td><td>0                  </td><td>00:14:bf:b1:97:81  </td><td>-65                </td><td>2422000000         </td><td>1.1e+12            </td></tr>\n",
       "\t<tr><td>2006-02-10 23:31:58</td><td>00:02:2D:21:0F:33  </td><td>0                  </td><td>0                  </td><td>0                  </td><td>0                  </td><td>00:14:bf:3b:c7:c6  </td><td>-66                </td><td>2432000000         </td><td>1.1e+12            </td></tr>\n",
       "</tbody>\n",
       "</table>\n"
      ],
      "text/latex": [
       "\\begin{tabular}{r|llllllllll}\n",
       " time & scanMac & posX & posY & posZ & orientation & mac & signal & channel & rawTime\\\\\n",
       "\\hline\n",
       "\t 2006-02-10 23:31:58 & 00:02:2D:21:0F:33   & 0                   & 0                   & 0                   & 0                   & 00:14:bf:b1:97:8a   & -38                 & 2437000000          & 1.1e+12            \\\\\n",
       "\t 2006-02-10 23:31:58 & 00:02:2D:21:0F:33   & 0                   & 0                   & 0                   & 0                   & 00:14:bf:b1:97:90   & -56                 & 2427000000          & 1.1e+12            \\\\\n",
       "\t 2006-02-10 23:31:58 & 00:02:2D:21:0F:33   & 0                   & 0                   & 0                   & 0                   & 00:0f:a3:39:e1:c0   & -53                 & 2462000000          & 1.1e+12            \\\\\n",
       "\t 2006-02-10 23:31:58 & 00:02:2D:21:0F:33   & 0                   & 0                   & 0                   & 0                   & 00:14:bf:b1:97:8d   & -65                 & 2442000000          & 1.1e+12            \\\\\n",
       "\t 2006-02-10 23:31:58 & 00:02:2D:21:0F:33   & 0                   & 0                   & 0                   & 0                   & 00:14:bf:b1:97:81   & -65                 & 2422000000          & 1.1e+12            \\\\\n",
       "\t 2006-02-10 23:31:58 & 00:02:2D:21:0F:33   & 0                   & 0                   & 0                   & 0                   & 00:14:bf:3b:c7:c6   & -66                 & 2432000000          & 1.1e+12            \\\\\n",
       "\\end{tabular}\n"
      ],
      "text/markdown": [
       "\n",
       "time | scanMac | posX | posY | posZ | orientation | mac | signal | channel | rawTime | \n",
       "|---|---|---|---|---|---|\n",
       "| 2006-02-10 23:31:58 | 00:02:2D:21:0F:33   | 0                   | 0                   | 0                   | 0                   | 00:14:bf:b1:97:8a   | -38                 | 2437000000          | 1.1e+12             | \n",
       "| 2006-02-10 23:31:58 | 00:02:2D:21:0F:33   | 0                   | 0                   | 0                   | 0                   | 00:14:bf:b1:97:90   | -56                 | 2427000000          | 1.1e+12             | \n",
       "| 2006-02-10 23:31:58 | 00:02:2D:21:0F:33   | 0                   | 0                   | 0                   | 0                   | 00:0f:a3:39:e1:c0   | -53                 | 2462000000          | 1.1e+12             | \n",
       "| 2006-02-10 23:31:58 | 00:02:2D:21:0F:33   | 0                   | 0                   | 0                   | 0                   | 00:14:bf:b1:97:8d   | -65                 | 2442000000          | 1.1e+12             | \n",
       "| 2006-02-10 23:31:58 | 00:02:2D:21:0F:33   | 0                   | 0                   | 0                   | 0                   | 00:14:bf:b1:97:81   | -65                 | 2422000000          | 1.1e+12             | \n",
       "| 2006-02-10 23:31:58 | 00:02:2D:21:0F:33   | 0                   | 0                   | 0                   | 0                   | 00:14:bf:3b:c7:c6   | -66                 | 2432000000          | 1.1e+12             | \n",
       "\n",
       "\n"
      ],
      "text/plain": [
       "  time                scanMac           posX posY posZ orientation\n",
       "1 2006-02-10 23:31:58 00:02:2D:21:0F:33 0    0    0    0          \n",
       "2 2006-02-10 23:31:58 00:02:2D:21:0F:33 0    0    0    0          \n",
       "3 2006-02-10 23:31:58 00:02:2D:21:0F:33 0    0    0    0          \n",
       "4 2006-02-10 23:31:58 00:02:2D:21:0F:33 0    0    0    0          \n",
       "5 2006-02-10 23:31:58 00:02:2D:21:0F:33 0    0    0    0          \n",
       "6 2006-02-10 23:31:58 00:02:2D:21:0F:33 0    0    0    0          \n",
       "  mac               signal channel    rawTime\n",
       "1 00:14:bf:b1:97:8a -38    2437000000 1.1e+12\n",
       "2 00:14:bf:b1:97:90 -56    2427000000 1.1e+12\n",
       "3 00:0f:a3:39:e1:c0 -53    2462000000 1.1e+12\n",
       "4 00:14:bf:b1:97:8d -65    2442000000 1.1e+12\n",
       "5 00:14:bf:b1:97:81 -65    2422000000 1.1e+12\n",
       "6 00:14:bf:3b:c7:c6 -66    2432000000 1.1e+12"
      ]
     },
     "metadata": {},
     "output_type": "display_data"
    }
   ],
   "source": [
    "# Currently the table looks like this\n",
    "head(offline)"
   ]
  },
  {
   "cell_type": "markdown",
   "metadata": {},
   "source": [
    "Now the data has more structure, let us print out a summary table of all numeric variables."
   ]
  },
  {
   "cell_type": "code",
   "execution_count": 11,
   "metadata": {},
   "outputs": [
    {
     "name": "stdout",
     "output_type": "stream",
     "text": [
      "[1] \"Summary of all numeric variables in dataset\"\n"
     ]
    },
    {
     "data": {
      "text/plain": [
       "      time                          posX         posY           posZ  \n",
       " Min.   :2006-02-10 23:31:58   Min.   : 0   Min.   : 0.0   Min.   :0  \n",
       " 1st Qu.:2006-02-11 05:21:27   1st Qu.: 2   1st Qu.: 3.0   1st Qu.:0  \n",
       " Median :2006-02-11 11:57:58   Median :12   Median : 6.0   Median :0  \n",
       " Mean   :2006-02-16 06:57:37   Mean   :14   Mean   : 5.9   Mean   :0  \n",
       " 3rd Qu.:2006-02-19 06:52:40   3rd Qu.:23   3rd Qu.: 8.0   3rd Qu.:0  \n",
       " Max.   :2006-03-09 12:41:10   Max.   :33   Max.   :13.0   Max.   :0  \n",
       "  orientation      signal   \n",
       " Min.   :  0   Min.   :-99  \n",
       " 1st Qu.: 90   1st Qu.:-69  \n",
       " Median :180   Median :-60  \n",
       " Mean   :167   Mean   :-62  \n",
       " 3rd Qu.:270   3rd Qu.:-53  \n",
       " Max.   :360   Max.   :-25  "
      ]
     },
     "metadata": {},
     "output_type": "display_data"
    },
    {
     "data": {
      "text/plain": [
       "                mac               channel                    scanMac      \n",
       " 00:0f:a3:39:e1:c0:145862   2462000000:189774   00:02:2D:21:0F:33:978443  \n",
       " 00:0f:a3:39:dd:cd:145619   2437000000:152124                             \n",
       " 00:14:bf:b1:97:8a:132962   2412000000:145619                             \n",
       " 00:14:bf:3b:c7:c6:126529   2432000000:126529                             \n",
       " 00:14:bf:b1:97:90:122315   2427000000:122315                             \n",
       " 00:14:bf:b1:97:8d:121325   2442000000:121325                             \n",
       " (Other)          :183831   (Other)   :120757                             "
      ]
     },
     "metadata": {},
     "output_type": "display_data"
    }
   ],
   "source": [
    "print(\"Summary of all numeric variables in dataset\")\n",
    "summary(offline[, numVars])\n",
    "summary(sapply(offline[ , c(\"mac\", \"channel\", \"scanMac\")],\n",
    "                as.factor))\n",
    "\n"
   ]
  },
  {
   "cell_type": "markdown",
   "metadata": {},
   "source": [
    "We can remove **scanMac** and **posZ** columns as:\n",
    "\n",
    "* According the summary of the data frame, field **scanMac** only have 1 value 00:02:2D:21:0F:33:978443 which the MAC address from the hand-held device.\n",
    "* field **posZ** which is the elevation of the hand-held device which is 0. This is due to all of the measurements were taken on one floor of the building.\n"
   ]
  },
  {
   "cell_type": "code",
   "execution_count": 12,
   "metadata": {},
   "outputs": [],
   "source": [
    "# remove scanMac, posZ \n",
    "offline <- offline[ , !(names(offline) %in% c(\"scanMac\", \"posZ\"))]"
   ]
  },
  {
   "cell_type": "markdown",
   "metadata": {},
   "source": [
    "Now the offline data is ready for the analysis."
   ]
  },
  {
   "cell_type": "markdown",
   "metadata": {},
   "source": [
    "### Orientation Exploration"
   ]
  },
  {
   "cell_type": "markdown",
   "metadata": {},
   "source": [
    "From the results below, there are 203 unique values of orientations. According to the documentation, we should have only have 8 values for the orientation from 0 to 215.The figure below shows the distribution of the orientations which around 8 basic orientations that 45 degree apart. Also, 0 orientations is split into 2 groups, 0 and 360. The density plot below also approves the orientation problem with 0 orientation split into 2 groups. We also have noticed that the increment are not exactly 45 degrees but quite close. "
   ]
  },
  {
   "cell_type": "code",
   "execution_count": 13,
   "metadata": {},
   "outputs": [
    {
     "name": "stdout",
     "output_type": "stream",
     "text": [
      "[1] \"Number of Unique Orientation : 203\"\n",
      "[1] \"Empirical CDF of Orientation for the Hand-Held Device\"\n"
     ]
    },
    {
     "data": {
      "image/png": "[encoded data removed]",
      "text/plain": [
       "Plot with title \"Figure 2: Orientation vs. Empirical CDF\""
      ]
     },
     "metadata": {},
     "output_type": "display_data"
    }
   ],
   "source": [
    "# Length of orientation\n",
    "# Plotting the distribution of orientation\n",
    "#Computing an empirical cumulative distribution function, with “ecdf” object.\n",
    "print(paste(\"Number of Unique Orientation :\",length(unique(offline$orientation))))\n",
    "print(\"Empirical CDF of Orientation for the Hand-Held Device\")\n",
    "\n",
    "# draw plot\n",
    "oldPar <- par(mar = c(4, 4, 1, 1))\n",
    "plot(ecdf(offline$orientation), pch = 19, cex = 0.3,\n",
    "     xlim = c(-5, 365), axes = FALSE,\n",
    "     xlab = \"Orientation\", ylab = \"Empirical CDF\", \n",
    "     main = \"Figure 2: Orientation vs. Empirical CDF\")\n",
    "box()\n",
    "axis(2)\n",
    "axis(side = 1, at = seq(0, 360, by = 45))\n",
    "par(oldPar)\n"
   ]
  },
  {
   "cell_type": "markdown",
   "metadata": {},
   "source": [
    "Let us also check the density plot. There are 8 peaks."
   ]
  },
  {
   "cell_type": "code",
   "execution_count": 14,
   "metadata": {},
   "outputs": [
    {
     "data": {
      "image/png": "[encoded data removed]",
      "text/plain": [
       "Plot with title \"Figure 3: Density of Orientations\""
      ]
     },
     "metadata": {},
     "output_type": "display_data"
    }
   ],
   "source": [
    "# draw density plot\n",
    "oldPar <- par(mar = c(4, 4, 1, 1))\n",
    "plot(density(offline$orientation, bw = 2), \n",
    " xlab = \"orientation\", main = \"Figure 3: Density of Orientations\")\n",
    "par(oldPar)\n"
   ]
  },
  {
   "cell_type": "markdown",
   "metadata": {},
   "source": [
    "We use the **roundOrientation** function to standarlize the orientation. Based on the visualization below, you can see that we could arrive at 8 unique angles and the density plot also shows 8 peaks."
   ]
  },
  {
   "cell_type": "code",
   "execution_count": 15,
   "metadata": {},
   "outputs": [],
   "source": [
    "# function to round up the Orentation values\n",
    "roundOrientation <- function(angles) {\n",
    "  refs <- seq(0, by = 45, length  = 9)\n",
    "  q = sapply(angles, function(o) which.min(abs(o - refs)))\n",
    "  c(refs[1:8], 0)[q]\n",
    "}"
   ]
  },
  {
   "cell_type": "code",
   "execution_count": 16,
   "metadata": {},
   "outputs": [],
   "source": [
    "# round the orientation degree\n",
    "offline$angle <- roundOrientation(offline$orientation)"
   ]
  },
  {
   "cell_type": "code",
   "execution_count": 17,
   "metadata": {},
   "outputs": [
    {
     "data": {
      "text/html": [
       "<table>\n",
       "<thead><tr><th scope=col>time</th><th scope=col>posX</th><th scope=col>posY</th><th scope=col>orientation</th><th scope=col>mac</th><th scope=col>signal</th><th scope=col>channel</th><th scope=col>rawTime</th><th scope=col>angle</th></tr></thead>\n",
       "<tbody>\n",
       "\t<tr><td>2006-02-10 23:31:58</td><td>0                  </td><td>0                  </td><td>0                  </td><td>00:14:bf:b1:97:8a  </td><td>-38                </td><td>2437000000         </td><td>1.1e+12            </td><td>0                  </td></tr>\n",
       "\t<tr><td>2006-02-10 23:31:58</td><td>0                  </td><td>0                  </td><td>0                  </td><td>00:14:bf:b1:97:90  </td><td>-56                </td><td>2427000000         </td><td>1.1e+12            </td><td>0                  </td></tr>\n",
       "\t<tr><td>2006-02-10 23:31:58</td><td>0                  </td><td>0                  </td><td>0                  </td><td>00:0f:a3:39:e1:c0  </td><td>-53                </td><td>2462000000         </td><td>1.1e+12            </td><td>0                  </td></tr>\n",
       "\t<tr><td>2006-02-10 23:31:58</td><td>0                  </td><td>0                  </td><td>0                  </td><td>00:14:bf:b1:97:8d  </td><td>-65                </td><td>2442000000         </td><td>1.1e+12            </td><td>0                  </td></tr>\n",
       "\t<tr><td>2006-02-10 23:31:58</td><td>0                  </td><td>0                  </td><td>0                  </td><td>00:14:bf:b1:97:81  </td><td>-65                </td><td>2422000000         </td><td>1.1e+12            </td><td>0                  </td></tr>\n",
       "\t<tr><td>2006-02-10 23:31:58</td><td>0                  </td><td>0                  </td><td>0                  </td><td>00:14:bf:3b:c7:c6  </td><td>-66                </td><td>2432000000         </td><td>1.1e+12            </td><td>0                  </td></tr>\n",
       "</tbody>\n",
       "</table>\n"
      ],
      "text/latex": [
       "\\begin{tabular}{r|lllllllll}\n",
       " time & posX & posY & orientation & mac & signal & channel & rawTime & angle\\\\\n",
       "\\hline\n",
       "\t 2006-02-10 23:31:58 & 0                   & 0                   & 0                   & 00:14:bf:b1:97:8a   & -38                 & 2437000000          & 1.1e+12             & 0                  \\\\\n",
       "\t 2006-02-10 23:31:58 & 0                   & 0                   & 0                   & 00:14:bf:b1:97:90   & -56                 & 2427000000          & 1.1e+12             & 0                  \\\\\n",
       "\t 2006-02-10 23:31:58 & 0                   & 0                   & 0                   & 00:0f:a3:39:e1:c0   & -53                 & 2462000000          & 1.1e+12             & 0                  \\\\\n",
       "\t 2006-02-10 23:31:58 & 0                   & 0                   & 0                   & 00:14:bf:b1:97:8d   & -65                 & 2442000000          & 1.1e+12             & 0                  \\\\\n",
       "\t 2006-02-10 23:31:58 & 0                   & 0                   & 0                   & 00:14:bf:b1:97:81   & -65                 & 2422000000          & 1.1e+12             & 0                  \\\\\n",
       "\t 2006-02-10 23:31:58 & 0                   & 0                   & 0                   & 00:14:bf:3b:c7:c6   & -66                 & 2432000000          & 1.1e+12             & 0                  \\\\\n",
       "\\end{tabular}\n"
      ],
      "text/markdown": [
       "\n",
       "time | posX | posY | orientation | mac | signal | channel | rawTime | angle | \n",
       "|---|---|---|---|---|---|\n",
       "| 2006-02-10 23:31:58 | 0                   | 0                   | 0                   | 00:14:bf:b1:97:8a   | -38                 | 2437000000          | 1.1e+12             | 0                   | \n",
       "| 2006-02-10 23:31:58 | 0                   | 0                   | 0                   | 00:14:bf:b1:97:90   | -56                 | 2427000000          | 1.1e+12             | 0                   | \n",
       "| 2006-02-10 23:31:58 | 0                   | 0                   | 0                   | 00:0f:a3:39:e1:c0   | -53                 | 2462000000          | 1.1e+12             | 0                   | \n",
       "| 2006-02-10 23:31:58 | 0                   | 0                   | 0                   | 00:14:bf:b1:97:8d   | -65                 | 2442000000          | 1.1e+12             | 0                   | \n",
       "| 2006-02-10 23:31:58 | 0                   | 0                   | 0                   | 00:14:bf:b1:97:81   | -65                 | 2422000000          | 1.1e+12             | 0                   | \n",
       "| 2006-02-10 23:31:58 | 0                   | 0                   | 0                   | 00:14:bf:3b:c7:c6   | -66                 | 2432000000          | 1.1e+12             | 0                   | \n",
       "\n",
       "\n"
      ],
      "text/plain": [
       "  time                posX posY orientation mac               signal channel   \n",
       "1 2006-02-10 23:31:58 0    0    0           00:14:bf:b1:97:8a -38    2437000000\n",
       "2 2006-02-10 23:31:58 0    0    0           00:14:bf:b1:97:90 -56    2427000000\n",
       "3 2006-02-10 23:31:58 0    0    0           00:0f:a3:39:e1:c0 -53    2462000000\n",
       "4 2006-02-10 23:31:58 0    0    0           00:14:bf:b1:97:8d -65    2442000000\n",
       "5 2006-02-10 23:31:58 0    0    0           00:14:bf:b1:97:81 -65    2422000000\n",
       "6 2006-02-10 23:31:58 0    0    0           00:14:bf:3b:c7:c6 -66    2432000000\n",
       "  rawTime angle\n",
       "1 1.1e+12 0    \n",
       "2 1.1e+12 0    \n",
       "3 1.1e+12 0    \n",
       "4 1.1e+12 0    \n",
       "5 1.1e+12 0    \n",
       "6 1.1e+12 0    "
      ]
     },
     "metadata": {},
     "output_type": "display_data"
    },
    {
     "name": "stdout",
     "output_type": "stream",
     "text": [
      "[1] \"Number of Unique Angle : 8\"\n"
     ]
    }
   ],
   "source": [
    "\n",
    "head(offline)\n",
    "print(paste(\"Number of Unique Angle :\",length(unique(offline$angle))))"
   ]
  },
  {
   "cell_type": "code",
   "execution_count": 18,
   "metadata": {},
   "outputs": [
    {
     "data": {
      "image/png": "[encoded data removed]",
      "text/plain": [
       "Plot with title \"Figure 4: Density of Angles\""
      ]
     },
     "metadata": {},
     "output_type": "display_data"
    }
   ],
   "source": [
    "# draw density plot to find the density of the angels\n",
    "\n",
    "oldPar <- par(mar = c(4, 4, 1, 1))\n",
    "plot(density(offline$angle, bw = 2), \n",
    " xlab = \"angle\", main = \"Figure 4: Density of Angles\")\n",
    "par(oldPar)\n"
   ]
  },
  {
   "cell_type": "markdown",
   "metadata": {},
   "source": [
    "### MAC Addresses Exploration\n",
    "\n",
    "As the result from the code below, there are 12 MAC points in the dataset and this case study from Nolan and Lang had only 6 access points and did analysis on the 6 points. \n",
    "\n",
    "The resulting table below shows the access points and their records. There are three points with low number of records comparing to the rest of the points. They are 00:04:0e:5c:23:fc, 00:30:bd:f8:7f:c5 and 00:e0:63:82:8b:a9. We can tell that those points are either not near the testing area or only active for a short time during the measurement process due to the low number of counts. Also, among those points with high counts, 00:0f:a3:39:e0:4b and 00:0f:a3:39:e2:10 may not be among the access points on the map since they have lower number of counts. Then we can see the rest of the MACs are true access points. "
   ]
  },
  {
   "cell_type": "code",
   "execution_count": 19,
   "metadata": {},
   "outputs": [
    {
     "data": {
      "text/html": [
       "<ol class=list-inline>\n",
       "\t<li>12</li>\n",
       "\t<li>8</li>\n",
       "</ol>\n"
      ],
      "text/latex": [
       "\\begin{enumerate*}\n",
       "\\item 12\n",
       "\\item 8\n",
       "\\end{enumerate*}\n"
      ],
      "text/markdown": [
       "1. 12\n",
       "2. 8\n",
       "\n",
       "\n"
      ],
      "text/plain": [
       "[1] 12  8"
      ]
     },
     "metadata": {},
     "output_type": "display_data"
    },
    {
     "data": {
      "text/plain": [
       "\n",
       "00:04:0e:5c:23:fc 00:0f:a3:39:dd:cd 00:0f:a3:39:e0:4b 00:0f:a3:39:e1:c0 \n",
       "              418            145619             43508            145862 \n",
       "00:0f:a3:39:e2:10 00:14:bf:3b:c7:c6 00:14:bf:b1:97:81 00:14:bf:b1:97:8a \n",
       "            19162            126529            120339            132962 \n",
       "00:14:bf:b1:97:8d 00:14:bf:b1:97:90 00:30:bd:f8:7f:c5 00:e0:63:82:8b:a9 \n",
       "           121325            122315               301               103 "
      ]
     },
     "metadata": {},
     "output_type": "display_data"
    }
   ],
   "source": [
    "#get unique MACs and counts\n",
    "c(length(unique(offline$mac)), length(unique(offline$channel)))\n",
    "\n",
    "table(offline$mac)"
   ]
  },
  {
   "cell_type": "markdown",
   "metadata": {},
   "source": [
    "Now we remove other MACs and only keep MACs from location 1-7. And we list out the channel for each MAC."
   ]
  },
  {
   "cell_type": "code",
   "execution_count": 20,
   "metadata": {},
   "outputs": [],
   "source": [
    "# Only keep 1-7\n",
    "subMacs <- names(sort(table(offline$mac), decreasing = TRUE))[1:7]\n",
    "offline <- offline[ offline$mac %in% subMacs, ]"
   ]
  },
  {
   "cell_type": "code",
   "execution_count": 21,
   "metadata": {},
   "outputs": [
    {
     "data": {
      "text/html": [
       "<table>\n",
       "<thead><tr><th scope=col>time</th><th scope=col>posX</th><th scope=col>posY</th><th scope=col>orientation</th><th scope=col>mac</th><th scope=col>signal</th><th scope=col>channel</th><th scope=col>rawTime</th><th scope=col>angle</th></tr></thead>\n",
       "<tbody>\n",
       "\t<tr><td>2006-02-10 23:31:58</td><td>0                  </td><td>0                  </td><td>0                  </td><td>00:14:bf:b1:97:8a  </td><td>-38                </td><td>2437000000         </td><td>1.1e+12            </td><td>0                  </td></tr>\n",
       "\t<tr><td>2006-02-10 23:31:58</td><td>0                  </td><td>0                  </td><td>0                  </td><td>00:14:bf:b1:97:90  </td><td>-56                </td><td>2427000000         </td><td>1.1e+12            </td><td>0                  </td></tr>\n",
       "\t<tr><td>2006-02-10 23:31:58</td><td>0                  </td><td>0                  </td><td>0                  </td><td>00:0f:a3:39:e1:c0  </td><td>-53                </td><td>2462000000         </td><td>1.1e+12            </td><td>0                  </td></tr>\n",
       "\t<tr><td>2006-02-10 23:31:58</td><td>0                  </td><td>0                  </td><td>0                  </td><td>00:14:bf:b1:97:8d  </td><td>-65                </td><td>2442000000         </td><td>1.1e+12            </td><td>0                  </td></tr>\n",
       "\t<tr><td>2006-02-10 23:31:58</td><td>0                  </td><td>0                  </td><td>0                  </td><td>00:14:bf:b1:97:81  </td><td>-65                </td><td>2422000000         </td><td>1.1e+12            </td><td>0                  </td></tr>\n",
       "\t<tr><td>2006-02-10 23:31:58</td><td>0                  </td><td>0                  </td><td>0                  </td><td>00:14:bf:3b:c7:c6  </td><td>-66                </td><td>2432000000         </td><td>1.1e+12            </td><td>0                  </td></tr>\n",
       "</tbody>\n",
       "</table>\n"
      ],
      "text/latex": [
       "\\begin{tabular}{r|lllllllll}\n",
       " time & posX & posY & orientation & mac & signal & channel & rawTime & angle\\\\\n",
       "\\hline\n",
       "\t 2006-02-10 23:31:58 & 0                   & 0                   & 0                   & 00:14:bf:b1:97:8a   & -38                 & 2437000000          & 1.1e+12             & 0                  \\\\\n",
       "\t 2006-02-10 23:31:58 & 0                   & 0                   & 0                   & 00:14:bf:b1:97:90   & -56                 & 2427000000          & 1.1e+12             & 0                  \\\\\n",
       "\t 2006-02-10 23:31:58 & 0                   & 0                   & 0                   & 00:0f:a3:39:e1:c0   & -53                 & 2462000000          & 1.1e+12             & 0                  \\\\\n",
       "\t 2006-02-10 23:31:58 & 0                   & 0                   & 0                   & 00:14:bf:b1:97:8d   & -65                 & 2442000000          & 1.1e+12             & 0                  \\\\\n",
       "\t 2006-02-10 23:31:58 & 0                   & 0                   & 0                   & 00:14:bf:b1:97:81   & -65                 & 2422000000          & 1.1e+12             & 0                  \\\\\n",
       "\t 2006-02-10 23:31:58 & 0                   & 0                   & 0                   & 00:14:bf:3b:c7:c6   & -66                 & 2432000000          & 1.1e+12             & 0                  \\\\\n",
       "\\end{tabular}\n"
      ],
      "text/markdown": [
       "\n",
       "time | posX | posY | orientation | mac | signal | channel | rawTime | angle | \n",
       "|---|---|---|---|---|---|\n",
       "| 2006-02-10 23:31:58 | 0                   | 0                   | 0                   | 00:14:bf:b1:97:8a   | -38                 | 2437000000          | 1.1e+12             | 0                   | \n",
       "| 2006-02-10 23:31:58 | 0                   | 0                   | 0                   | 00:14:bf:b1:97:90   | -56                 | 2427000000          | 1.1e+12             | 0                   | \n",
       "| 2006-02-10 23:31:58 | 0                   | 0                   | 0                   | 00:0f:a3:39:e1:c0   | -53                 | 2462000000          | 1.1e+12             | 0                   | \n",
       "| 2006-02-10 23:31:58 | 0                   | 0                   | 0                   | 00:14:bf:b1:97:8d   | -65                 | 2442000000          | 1.1e+12             | 0                   | \n",
       "| 2006-02-10 23:31:58 | 0                   | 0                   | 0                   | 00:14:bf:b1:97:81   | -65                 | 2422000000          | 1.1e+12             | 0                   | \n",
       "| 2006-02-10 23:31:58 | 0                   | 0                   | 0                   | 00:14:bf:3b:c7:c6   | -66                 | 2432000000          | 1.1e+12             | 0                   | \n",
       "\n",
       "\n"
      ],
      "text/plain": [
       "  time                posX posY orientation mac               signal channel   \n",
       "1 2006-02-10 23:31:58 0    0    0           00:14:bf:b1:97:8a -38    2437000000\n",
       "2 2006-02-10 23:31:58 0    0    0           00:14:bf:b1:97:90 -56    2427000000\n",
       "3 2006-02-10 23:31:58 0    0    0           00:0f:a3:39:e1:c0 -53    2462000000\n",
       "4 2006-02-10 23:31:58 0    0    0           00:14:bf:b1:97:8d -65    2442000000\n",
       "5 2006-02-10 23:31:58 0    0    0           00:14:bf:b1:97:81 -65    2422000000\n",
       "6 2006-02-10 23:31:58 0    0    0           00:14:bf:3b:c7:c6 -66    2432000000\n",
       "  rawTime angle\n",
       "1 1.1e+12 0    \n",
       "2 1.1e+12 0    \n",
       "3 1.1e+12 0    \n",
       "4 1.1e+12 0    \n",
       "5 1.1e+12 0    \n",
       "6 1.1e+12 0    "
      ]
     },
     "metadata": {},
     "output_type": "display_data"
    }
   ],
   "source": [
    "head(offline)"
   ]
  },
  {
   "cell_type": "code",
   "execution_count": 22,
   "metadata": {},
   "outputs": [
    {
     "data": {
      "text/html": [
       "<dl class=dl-horizontal>\n",
       "\t<dt>00:0f:a3:39:dd:cd</dt>\n",
       "\t\t<dd>1</dd>\n",
       "\t<dt>00:0f:a3:39:e1:c0</dt>\n",
       "\t\t<dd>1</dd>\n",
       "\t<dt>00:14:bf:3b:c7:c6</dt>\n",
       "\t\t<dd>1</dd>\n",
       "\t<dt>00:14:bf:b1:97:81</dt>\n",
       "\t\t<dd>1</dd>\n",
       "\t<dt>00:14:bf:b1:97:8a</dt>\n",
       "\t\t<dd>1</dd>\n",
       "\t<dt>00:14:bf:b1:97:8d</dt>\n",
       "\t\t<dd>1</dd>\n",
       "\t<dt>00:14:bf:b1:97:90</dt>\n",
       "\t\t<dd>1</dd>\n",
       "</dl>\n"
      ],
      "text/latex": [
       "\\begin{description*}\n",
       "\\item[00:0f:a3:39:dd:cd] 1\n",
       "\\item[00:0f:a3:39:e1:c0] 1\n",
       "\\item[00:14:bf:3b:c7:c6] 1\n",
       "\\item[00:14:bf:b1:97:81] 1\n",
       "\\item[00:14:bf:b1:97:8a] 1\n",
       "\\item[00:14:bf:b1:97:8d] 1\n",
       "\\item[00:14:bf:b1:97:90] 1\n",
       "\\end{description*}\n"
      ],
      "text/markdown": [
       "00:0f:a3:39:dd:cd\n",
       ":   100:0f:a3:39:e1:c0\n",
       ":   100:14:bf:3b:c7:c6\n",
       ":   100:14:bf:b1:97:81\n",
       ":   100:14:bf:b1:97:8a\n",
       ":   100:14:bf:b1:97:8d\n",
       ":   100:14:bf:b1:97:90\n",
       ":   1\n",
       "\n"
      ],
      "text/plain": [
       "00:0f:a3:39:dd:cd 00:0f:a3:39:e1:c0 00:14:bf:3b:c7:c6 00:14:bf:b1:97:81 \n",
       "                1                 1                 1                 1 \n",
       "00:14:bf:b1:97:8a 00:14:bf:b1:97:8d 00:14:bf:b1:97:90 \n",
       "                1                 1                 1 "
      ]
     },
     "metadata": {},
     "output_type": "display_data"
    }
   ],
   "source": [
    "# list the channel for each MAC\n",
    "macChannel <- with(offline, table(mac, channel))\n",
    "apply(macChannel, 1, function(x) sum(x > 0))"
   ]
  },
  {
   "cell_type": "markdown",
   "metadata": {},
   "source": [
    "This above shows that MAC and channel is one to one relationship. Then we can eliminate **channel** from **offline** data frame."
   ]
  },
  {
   "cell_type": "code",
   "execution_count": 23,
   "metadata": {},
   "outputs": [
    {
     "data": {
      "text/html": [
       "<table>\n",
       "<thead><tr><th scope=col>time</th><th scope=col>posX</th><th scope=col>posY</th><th scope=col>orientation</th><th scope=col>mac</th><th scope=col>signal</th><th scope=col>rawTime</th><th scope=col>angle</th></tr></thead>\n",
       "<tbody>\n",
       "\t<tr><td>2006-02-10 23:31:58</td><td>0                  </td><td>0                  </td><td>0                  </td><td>00:14:bf:b1:97:8a  </td><td>-38                </td><td>1.1e+12            </td><td>0                  </td></tr>\n",
       "\t<tr><td>2006-02-10 23:31:58</td><td>0                  </td><td>0                  </td><td>0                  </td><td>00:14:bf:b1:97:90  </td><td>-56                </td><td>1.1e+12            </td><td>0                  </td></tr>\n",
       "\t<tr><td>2006-02-10 23:31:58</td><td>0                  </td><td>0                  </td><td>0                  </td><td>00:0f:a3:39:e1:c0  </td><td>-53                </td><td>1.1e+12            </td><td>0                  </td></tr>\n",
       "\t<tr><td>2006-02-10 23:31:58</td><td>0                  </td><td>0                  </td><td>0                  </td><td>00:14:bf:b1:97:8d  </td><td>-65                </td><td>1.1e+12            </td><td>0                  </td></tr>\n",
       "\t<tr><td>2006-02-10 23:31:58</td><td>0                  </td><td>0                  </td><td>0                  </td><td>00:14:bf:b1:97:81  </td><td>-65                </td><td>1.1e+12            </td><td>0                  </td></tr>\n",
       "\t<tr><td>2006-02-10 23:31:58</td><td>0                  </td><td>0                  </td><td>0                  </td><td>00:14:bf:3b:c7:c6  </td><td>-66                </td><td>1.1e+12            </td><td>0                  </td></tr>\n",
       "</tbody>\n",
       "</table>\n"
      ],
      "text/latex": [
       "\\begin{tabular}{r|llllllll}\n",
       " time & posX & posY & orientation & mac & signal & rawTime & angle\\\\\n",
       "\\hline\n",
       "\t 2006-02-10 23:31:58 & 0                   & 0                   & 0                   & 00:14:bf:b1:97:8a   & -38                 & 1.1e+12             & 0                  \\\\\n",
       "\t 2006-02-10 23:31:58 & 0                   & 0                   & 0                   & 00:14:bf:b1:97:90   & -56                 & 1.1e+12             & 0                  \\\\\n",
       "\t 2006-02-10 23:31:58 & 0                   & 0                   & 0                   & 00:0f:a3:39:e1:c0   & -53                 & 1.1e+12             & 0                  \\\\\n",
       "\t 2006-02-10 23:31:58 & 0                   & 0                   & 0                   & 00:14:bf:b1:97:8d   & -65                 & 1.1e+12             & 0                  \\\\\n",
       "\t 2006-02-10 23:31:58 & 0                   & 0                   & 0                   & 00:14:bf:b1:97:81   & -65                 & 1.1e+12             & 0                  \\\\\n",
       "\t 2006-02-10 23:31:58 & 0                   & 0                   & 0                   & 00:14:bf:3b:c7:c6   & -66                 & 1.1e+12             & 0                  \\\\\n",
       "\\end{tabular}\n"
      ],
      "text/markdown": [
       "\n",
       "time | posX | posY | orientation | mac | signal | rawTime | angle | \n",
       "|---|---|---|---|---|---|\n",
       "| 2006-02-10 23:31:58 | 0                   | 0                   | 0                   | 00:14:bf:b1:97:8a   | -38                 | 1.1e+12             | 0                   | \n",
       "| 2006-02-10 23:31:58 | 0                   | 0                   | 0                   | 00:14:bf:b1:97:90   | -56                 | 1.1e+12             | 0                   | \n",
       "| 2006-02-10 23:31:58 | 0                   | 0                   | 0                   | 00:0f:a3:39:e1:c0   | -53                 | 1.1e+12             | 0                   | \n",
       "| 2006-02-10 23:31:58 | 0                   | 0                   | 0                   | 00:14:bf:b1:97:8d   | -65                 | 1.1e+12             | 0                   | \n",
       "| 2006-02-10 23:31:58 | 0                   | 0                   | 0                   | 00:14:bf:b1:97:81   | -65                 | 1.1e+12             | 0                   | \n",
       "| 2006-02-10 23:31:58 | 0                   | 0                   | 0                   | 00:14:bf:3b:c7:c6   | -66                 | 1.1e+12             | 0                   | \n",
       "\n",
       "\n"
      ],
      "text/plain": [
       "  time                posX posY orientation mac               signal rawTime\n",
       "1 2006-02-10 23:31:58 0    0    0           00:14:bf:b1:97:8a -38    1.1e+12\n",
       "2 2006-02-10 23:31:58 0    0    0           00:14:bf:b1:97:90 -56    1.1e+12\n",
       "3 2006-02-10 23:31:58 0    0    0           00:0f:a3:39:e1:c0 -53    1.1e+12\n",
       "4 2006-02-10 23:31:58 0    0    0           00:14:bf:b1:97:8d -65    1.1e+12\n",
       "5 2006-02-10 23:31:58 0    0    0           00:14:bf:b1:97:81 -65    1.1e+12\n",
       "6 2006-02-10 23:31:58 0    0    0           00:14:bf:3b:c7:c6 -66    1.1e+12\n",
       "  angle\n",
       "1 0    \n",
       "2 0    \n",
       "3 0    \n",
       "4 0    \n",
       "5 0    \n",
       "6 0    "
      ]
     },
     "metadata": {},
     "output_type": "display_data"
    }
   ],
   "source": [
    "# remove channel column\n",
    "offline <- offline[ , \"channel\" != names(offline)]\n",
    "head(offline)"
   ]
  },
  {
   "cell_type": "markdown",
   "metadata": {},
   "source": [
    "### Position of the Hand-Held Device\n",
    "\n",
    "In **offline** data frame we see posX and postY fields, we can allocate the hand-device by (x,y). We can get the location and plot them together then we can see the signles in each location."
   ]
  },
  {
   "cell_type": "code",
   "execution_count": 24,
   "metadata": {},
   "outputs": [
    {
     "data": {
      "text/html": [
       "476"
      ],
      "text/latex": [
       "476"
      ],
      "text/markdown": [
       "476"
      ],
      "text/plain": [
       "[1] 476"
      ]
     },
     "metadata": {},
     "output_type": "display_data"
    }
   ],
   "source": [
    "\n",
    "# total positions\n",
    "locDF <- with(offline, \n",
    "             by(offline, list(posX, posY), function(x) x))\n",
    "length(locDF)\n"
   ]
  },
  {
   "cell_type": "code",
   "execution_count": 25,
   "metadata": {},
   "outputs": [
    {
     "data": {
      "text/html": [
       "310"
      ],
      "text/latex": [
       "310"
      ],
      "text/markdown": [
       "310"
      ],
      "text/plain": [
       "[1] 310"
      ]
     },
     "metadata": {},
     "output_type": "display_data"
    },
    {
     "data": {
      "text/html": [
       "166"
      ],
      "text/latex": [
       "166"
      ],
      "text/markdown": [
       "166"
      ],
      "text/plain": [
       "[1] 166"
      ]
     },
     "metadata": {},
     "output_type": "display_data"
    }
   ],
   "source": [
    "# number of null \n",
    "sum(sapply(locDF, is.null))\n",
    "# remove Null\n",
    "locDF <- locDF[ !sapply(locDF, is.null) ]\n",
    "\n",
    "length(locDF)"
   ]
  },
  {
   "cell_type": "markdown",
   "metadata": {},
   "source": [
    "There are 476 locations in the data frame, 310 of them are null and only 166 of them has the valid location."
   ]
  },
  {
   "cell_type": "code",
   "execution_count": 26,
   "metadata": {},
   "outputs": [
    {
     "data": {
      "text/html": [
       "'matrix'"
      ],
      "text/latex": [
       "'matrix'"
      ],
      "text/markdown": [
       "'matrix'"
      ],
      "text/plain": [
       "[1] \"matrix\""
      ]
     },
     "metadata": {},
     "output_type": "display_data"
    },
    {
     "data": {
      "text/html": [
       "<ol class=list-inline>\n",
       "\t<li>3</li>\n",
       "\t<li>166</li>\n",
       "</ol>\n"
      ],
      "text/latex": [
       "\\begin{enumerate*}\n",
       "\\item 3\n",
       "\\item 166\n",
       "\\end{enumerate*}\n"
      ],
      "text/markdown": [
       "1. 3\n",
       "2. 166\n",
       "\n",
       "\n"
      ],
      "text/plain": [
       "[1]   3 166"
      ]
     },
     "metadata": {},
     "output_type": "display_data"
    },
    {
     "data": {
      "text/html": [
       "<table>\n",
       "<tbody>\n",
       "\t<tr><th scope=row>posX</th><td>0</td><td>1</td><td>2</td><td>0</td><td>1</td><td>2</td><td>0</td><td>1</td></tr>\n",
       "\t<tr><th scope=row>posY</th><td>0</td><td>0</td><td>0</td><td>1</td><td>1</td><td>1</td><td>2</td><td>2</td></tr>\n",
       "\t<tr><th scope=row>count</th><td>5505</td><td>5505</td><td>5506</td><td>5524</td><td>5543</td><td>5558</td><td>5503</td><td>5564</td></tr>\n",
       "</tbody>\n",
       "</table>\n"
      ],
      "text/latex": [
       "\\begin{tabular}{r|llllllll}\n",
       "\tposX & 0 & 1 & 2 & 0 & 1 & 2 & 0 & 1\\\\\n",
       "\tposY & 0 & 0 & 0 & 1 & 1 & 1 & 2 & 2\\\\\n",
       "\tcount & 5505 & 5505 & 5506 & 5524 & 5543 & 5558 & 5503 & 5564\\\\\n",
       "\\end{tabular}\n"
      ],
      "text/markdown": [
       "\n",
       "| posX | 0 | 1 | 2 | 0 | 1 | 2 | 0 | 1 | \n",
       "| posY | 0 | 0 | 0 | 1 | 1 | 1 | 2 | 2 | \n",
       "| count | 5505 | 5505 | 5506 | 5524 | 5543 | 5558 | 5503 | 5564 | \n",
       "\n",
       "\n"
      ],
      "text/plain": [
       "      [,1] [,2] [,3] [,4] [,5] [,6] [,7] [,8]\n",
       "posX  0    1    2    0    1    2    0    1   \n",
       "posY  0    0    0    1    1    1    2    2   \n",
       "count 5505 5505 5506 5524 5543 5558 5503 5564"
      ]
     },
     "metadata": {},
     "output_type": "display_data"
    }
   ],
   "source": [
    "# Get the counts for each location.\n",
    "locCounts <- sapply(locDF, nrow)\n",
    "\n",
    "locCounts <- sapply(locDF, \n",
    "                   function(df) \n",
    "                     c(df[1, c(\"posX\", \"posY\")], count = nrow(df)))\n",
    "\n",
    "class(locCounts)\n",
    "\n",
    "dim(locCounts)\n",
    "\n",
    "locCounts[ , 1:8]"
   ]
  },
  {
   "cell_type": "markdown",
   "metadata": {},
   "source": [
    "From plot below, we see that there are roughly 5,500 records (8 Orientations x 110 replications x 7accesspoints) at each position. It is roughly the same number of signals detected at each location."
   ]
  },
  {
   "cell_type": "code",
   "execution_count": 27,
   "metadata": {},
   "outputs": [
    {
     "data": {
      "image/png": "[encoded data removed]",
      "text/plain": [
       "Plot with title \"Figure 5: XY By Count\""
      ]
     },
     "metadata": {},
     "output_type": "display_data"
    }
   ],
   "source": [
    "#pdf(file = \"Geo_XYByCount.pdf\", width = 10)\n",
    "oldPar <- par(mar = c(3.1, 3.1, 1, 1))\n",
    "\n",
    "locCounts <- t(locCounts)\n",
    "plot(locCounts, type = \"n\", xlab = \"\", ylab = \"\", main= \"Figure 5: XY By Count\")\n",
    "text(locCounts, labels = locCounts[,3], cex = .8, srt = 45)\n",
    "\n",
    "par(oldPar)\n",
    "#dev.off()"
   ]
  },
  {
   "cell_type": "markdown",
   "metadata": {},
   "source": [
    "### Create a readData Function\n",
    "\n",
    "Now we know what access points to use, we can use the readData function below to make sure that we can download the correct data and make the above steps more smooth and more efficient."
   ]
  },
  {
   "cell_type": "code",
   "execution_count": 28,
   "metadata": {},
   "outputs": [],
   "source": [
    "       \n",
    "# read data\n",
    "readData <- \n",
    "  function(filename = 'Data/offline.final.trace.txt', \n",
    "           subMacs = c(\"00:0f:a3:39:e1:c0\", \"00:0f:a3:39:dd:cd\", \"00:14:bf:b1:97:8a\",\n",
    "                       \"00:14:bf:3b:c7:c6\", \"00:14:bf:b1:97:90\", \"00:14:bf:b1:97:8d\",\n",
    "                       \"00:14:bf:b1:97:81\"))\n",
    "  {\n",
    "    txt <- readLines(filename)\n",
    "    lines <- txt[ substr(txt, 1, 1) != \"#\" ]\n",
    "    tmp <- lapply(lines, processLine)\n",
    "    offline <- as.data.frame(do.call(\"rbind\", tmp), \n",
    "                            stringsAsFactors= FALSE) \n",
    "    \n",
    "    names(offline) <- c(\"time\", \"scanMac\", \n",
    "                       \"posX\", \"posY\", \"posZ\", \"orientation\", \n",
    "                       \"mac\", \"signal\", \"channel\", \"type\")\n",
    "    \n",
    "     # keep only signals from access points\n",
    "    offline <- offline[ offline$type == \"3\", ]\n",
    "    \n",
    "    # drop scanMac, posZ, channel, and type - no info in them\n",
    "    dropVars <- c(\"scanMac\", \"posZ\", \"channel\", \"type\")\n",
    "    offline <- offline[ , !( names(offline) %in% dropVars ) ]\n",
    "    \n",
    "    # drop more unwanted access points\n",
    "    offline <- offline[ offline$mac %in% subMacs, ]\n",
    "    \n",
    "    # convert numeric values\n",
    "    numVars <- c(\"time\", \"posX\", \"posY\", \"orientation\", \"signal\")\n",
    "    offline[ numVars ] = lapply(offline[ numVars ], as.numeric)\n",
    "\n",
    "    # convert time to POSIX\n",
    "    offline$rawTime <- offline$time\n",
    "    offline$time <- offline$time/1000\n",
    "    class(offline$time) <- c(\"POSIXt\", \"POSIXct\")\n",
    "    \n",
    "    # round orientations to nearest 45\n",
    "    offline$angle <- roundOrientation(offline$orientation)\n",
    "      \n",
    "    return(offline)\n",
    "  }\n",
    "\n",
    "\n"
   ]
  },
  {
   "cell_type": "code",
   "execution_count": 29,
   "metadata": {},
   "outputs": [],
   "source": [
    "# call function to read the data from file\n",
    "offlineRedo <- readData()"
   ]
  },
  {
   "cell_type": "markdown",
   "metadata": {},
   "source": [
    "The following line is just to confirm that offline populated manually is the same as the function returns. "
   ]
  },
  {
   "cell_type": "code",
   "execution_count": 30,
   "metadata": {},
   "outputs": [
    {
     "data": {
      "text/html": [
       "TRUE"
      ],
      "text/latex": [
       "TRUE"
      ],
      "text/markdown": [
       "TRUE"
      ],
      "text/plain": [
       "[1] TRUE"
      ]
     },
     "metadata": {},
     "output_type": "display_data"
    }
   ],
   "source": [
    "identical(offline, offlineRedo)"
   ]
  },
  {
   "cell_type": "code",
   "execution_count": 31,
   "metadata": {},
   "outputs": [
    {
     "data": {
      "text/html": [
       "<ol class=list-inline>\n",
       "\t<li>'as.numeric'</li>\n",
       "\t<li>'processLine'</li>\n",
       "</ol>\n"
      ],
      "text/latex": [
       "\\begin{enumerate*}\n",
       "\\item 'as.numeric'\n",
       "\\item 'processLine'\n",
       "\\end{enumerate*}\n"
      ],
      "text/markdown": [
       "1. 'as.numeric'\n",
       "2. 'processLine'\n",
       "\n",
       "\n"
      ],
      "text/plain": [
       "[1] \"as.numeric\"  \"processLine\""
      ]
     },
     "metadata": {},
     "output_type": "display_data"
    }
   ],
   "source": [
    "library(codetools)\n",
    "findGlobals(readData, merge = FALSE)$variables"
   ]
  },
  {
   "cell_type": "code",
   "execution_count": 32,
   "metadata": {},
   "outputs": [
    {
     "data": {
      "text/html": [
       "<table>\n",
       "<thead><tr><th scope=col>time</th><th scope=col>posX</th><th scope=col>posY</th><th scope=col>orientation</th><th scope=col>mac</th><th scope=col>signal</th><th scope=col>rawTime</th><th scope=col>angle</th></tr></thead>\n",
       "<tbody>\n",
       "\t<tr><td>2006-02-10 23:31:58</td><td>0                  </td><td>0                  </td><td>0                  </td><td>00:14:bf:b1:97:8a  </td><td>-38                </td><td>1.1e+12            </td><td>0                  </td></tr>\n",
       "\t<tr><td>2006-02-10 23:31:58</td><td>0                  </td><td>0                  </td><td>0                  </td><td>00:14:bf:b1:97:90  </td><td>-56                </td><td>1.1e+12            </td><td>0                  </td></tr>\n",
       "\t<tr><td>2006-02-10 23:31:58</td><td>0                  </td><td>0                  </td><td>0                  </td><td>00:0f:a3:39:e1:c0  </td><td>-53                </td><td>1.1e+12            </td><td>0                  </td></tr>\n",
       "\t<tr><td>2006-02-10 23:31:58</td><td>0                  </td><td>0                  </td><td>0                  </td><td>00:14:bf:b1:97:8d  </td><td>-65                </td><td>1.1e+12            </td><td>0                  </td></tr>\n",
       "\t<tr><td>2006-02-10 23:31:58</td><td>0                  </td><td>0                  </td><td>0                  </td><td>00:14:bf:b1:97:81  </td><td>-65                </td><td>1.1e+12            </td><td>0                  </td></tr>\n",
       "\t<tr><td>2006-02-10 23:31:58</td><td>0                  </td><td>0                  </td><td>0                  </td><td>00:14:bf:3b:c7:c6  </td><td>-66                </td><td>1.1e+12            </td><td>0                  </td></tr>\n",
       "</tbody>\n",
       "</table>\n"
      ],
      "text/latex": [
       "\\begin{tabular}{r|llllllll}\n",
       " time & posX & posY & orientation & mac & signal & rawTime & angle\\\\\n",
       "\\hline\n",
       "\t 2006-02-10 23:31:58 & 0                   & 0                   & 0                   & 00:14:bf:b1:97:8a   & -38                 & 1.1e+12             & 0                  \\\\\n",
       "\t 2006-02-10 23:31:58 & 0                   & 0                   & 0                   & 00:14:bf:b1:97:90   & -56                 & 1.1e+12             & 0                  \\\\\n",
       "\t 2006-02-10 23:31:58 & 0                   & 0                   & 0                   & 00:0f:a3:39:e1:c0   & -53                 & 1.1e+12             & 0                  \\\\\n",
       "\t 2006-02-10 23:31:58 & 0                   & 0                   & 0                   & 00:14:bf:b1:97:8d   & -65                 & 1.1e+12             & 0                  \\\\\n",
       "\t 2006-02-10 23:31:58 & 0                   & 0                   & 0                   & 00:14:bf:b1:97:81   & -65                 & 1.1e+12             & 0                  \\\\\n",
       "\t 2006-02-10 23:31:58 & 0                   & 0                   & 0                   & 00:14:bf:3b:c7:c6   & -66                 & 1.1e+12             & 0                  \\\\\n",
       "\\end{tabular}\n"
      ],
      "text/markdown": [
       "\n",
       "time | posX | posY | orientation | mac | signal | rawTime | angle | \n",
       "|---|---|---|---|---|---|\n",
       "| 2006-02-10 23:31:58 | 0                   | 0                   | 0                   | 00:14:bf:b1:97:8a   | -38                 | 1.1e+12             | 0                   | \n",
       "| 2006-02-10 23:31:58 | 0                   | 0                   | 0                   | 00:14:bf:b1:97:90   | -56                 | 1.1e+12             | 0                   | \n",
       "| 2006-02-10 23:31:58 | 0                   | 0                   | 0                   | 00:0f:a3:39:e1:c0   | -53                 | 1.1e+12             | 0                   | \n",
       "| 2006-02-10 23:31:58 | 0                   | 0                   | 0                   | 00:14:bf:b1:97:8d   | -65                 | 1.1e+12             | 0                   | \n",
       "| 2006-02-10 23:31:58 | 0                   | 0                   | 0                   | 00:14:bf:b1:97:81   | -65                 | 1.1e+12             | 0                   | \n",
       "| 2006-02-10 23:31:58 | 0                   | 0                   | 0                   | 00:14:bf:3b:c7:c6   | -66                 | 1.1e+12             | 0                   | \n",
       "\n",
       "\n"
      ],
      "text/plain": [
       "  time                posX posY orientation mac               signal rawTime\n",
       "1 2006-02-10 23:31:58 0    0    0           00:14:bf:b1:97:8a -38    1.1e+12\n",
       "2 2006-02-10 23:31:58 0    0    0           00:14:bf:b1:97:90 -56    1.1e+12\n",
       "3 2006-02-10 23:31:58 0    0    0           00:0f:a3:39:e1:c0 -53    1.1e+12\n",
       "4 2006-02-10 23:31:58 0    0    0           00:14:bf:b1:97:8d -65    1.1e+12\n",
       "5 2006-02-10 23:31:58 0    0    0           00:14:bf:b1:97:81 -65    1.1e+12\n",
       "6 2006-02-10 23:31:58 0    0    0           00:14:bf:3b:c7:c6 -66    1.1e+12\n",
       "  angle\n",
       "1 0    \n",
       "2 0    \n",
       "3 0    \n",
       "4 0    \n",
       "5 0    \n",
       "6 0    "
      ]
     },
     "metadata": {},
     "output_type": "display_data"
    }
   ],
   "source": [
    "head(offline)"
   ]
  },
  {
   "cell_type": "markdown",
   "metadata": {},
   "source": [
    "### Singnal Strength Analysis\n",
    "\n",
    "For the case study for this chapter, Nolan and Lang provided a basic k-nearest neighbors approach to determine the location with an assumption that the floor plan for the building is accurate, see the Figure 1.1 above. The floor plan has six access points, but the data contains seven access points with roughly the expected number of signals. \n",
    "\n",
    "In the analysis presented in Nolan and Lang, a decision was made to keep the access point with MAC address 00:0f:a3:39:e1:c0 and to eliminate the data corresponding to MAC address 00:0f:a3:39:dd:cd. To find out which point is better predicting the \"online\" data and which one we should keep, we will need to see what is the whole picture behind these two points before we decide which we are going to use in our final model.\n",
    "\n",
    "In this part we are going to answer the following two questions through visualization comparison:\n",
    "\n",
    "* Question 1:  Which of these two MAC addresses should be used and which should not be used for RTLS?\n",
    "\n",
    "* Question 2:  Which MAC address yields the best prediction of location?\n",
    "\n",
    "We have two kinds of visualization below to tell how these two MACs are different from each other. One is the visualization of Signal Strength at Different Orientations for Access Points and the other is the Strength Distribution. The reason for this comparison is that we want to see how they vary in terms of strength distribution and the strength at different orientations. In Figure 6.1 below, we have dropped the access point 00:0f:a3:39:dd:cd. And in Figure 6.2 below, we dropped the other. Figure 7.1 and Figure 7.2 follow the same order. \n",
    "\n",
    "By Comparing these two points, we can see that they are similar in distribution, but they are different in strength. Figure 6.1 and 6.2 give us an idea how they are different in terms of strength. We do prefer a smaller absolute value of the signal strength because it indicates a stronger signal being received. The dropped access point 00:0f:a3:39:dd:cd has a higher absoluter value of signal strength when being compared to the other point. This is the key point for us to determine that 00:0f:a3:39:e1:c0 should be kept for the RTLS.\n",
    "\n"
   ]
  },
  {
   "cell_type": "code",
   "execution_count": 33,
   "metadata": {},
   "outputs": [
    {
     "data": {},
     "metadata": {},
     "output_type": "display_data"
    },
    {
     "data": {
      "image/png": "[encoded data removed]",
      "text/plain": [
       "plot without title"
      ]
     },
     "metadata": {},
     "output_type": "display_data"
    }
   ],
   "source": [
    "#pdf(file = \"Geo_BoxplotSignalByMacAngle.pdf\", width = 7)\n",
    "oldPar <- par(mar = c(3.1, 3, 1, 1))\n",
    "\n",
    "library(lattice)\n",
    "bwplot(signal ~ factor(angle) | mac, data = offline, \n",
    "       subset = posX == 2 & posY == 12 \n",
    "                & mac != \"00:0f:a3:39:dd:cd\", \n",
    "       layout = c(2,3), \n",
    "       main = \"Figure 6.1: Signal Strength at Different Orientations for Access Points\")\n",
    "\n",
    "par(oldPar)\n",
    "#dev.off()\n",
    "\n"
   ]
  },
  {
   "cell_type": "code",
   "execution_count": 34,
   "metadata": {},
   "outputs": [
    {
     "data": {
      "text/plain": [
       "   Min. 1st Qu.  Median    Mean 3rd Qu.    Max. \n",
       "    -98     -67     -59     -60     -53     -25 "
      ]
     },
     "metadata": {},
     "output_type": "display_data"
    }
   ],
   "source": [
    "summary(offline$signal)"
   ]
  },
  {
   "cell_type": "markdown",
   "metadata": {},
   "source": [
    "Now, instead of drop 00:0f:a3:39:dd:cd, we drop the 00:0f:a3:39:e1:c0. In this way we can see how the visualization change. "
   ]
  },
  {
   "cell_type": "code",
   "execution_count": 35,
   "metadata": {},
   "outputs": [
    {
     "data": {},
     "metadata": {},
     "output_type": "display_data"
    },
    {
     "data": {
      "image/png": "[encoded data removed]",
      "text/plain": [
       "plot without title"
      ]
     },
     "metadata": {},
     "output_type": "display_data"
    }
   ],
   "source": [
    "\n",
    "oldPar <- par(mar = c(3.1, 3, 1, 1))\n",
    "\n",
    "library(lattice)\n",
    "bwplot(signal ~ factor(angle) | mac, data = offline, \n",
    "       subset = posX == 2 & posY == 12 \n",
    "                & mac != \"00:0f:a3:39:e1:c0\", \n",
    "       layout = c(2,3), \n",
    "       main = \"Figure 6.2: Signal Strength at Different Orientations for Access Points\")\n",
    "\n",
    "par(oldPar)\n",
    "\n"
   ]
  },
  {
   "cell_type": "markdown",
   "metadata": {},
   "source": [
    "Both Figure 6.1 and Figure 6.2 demostrates the distribution of signal strength at different orientations for different access points. But Figure 6.1 dropped 00:0f:a3:39:dd:cd and Figure 6.2 dropped 00:0f:a3:39:e1:c0. As the signal strength varies with the orientation for close and far access points, both of these two points follow the same pattern. "
   ]
  },
  {
   "cell_type": "markdown",
   "metadata": {},
   "source": [
    "Now we can check for the strength distribution of them. Figure 7.1 is without 00:0f:a3:39:dd:cd while Figure 7.2 is without the other point.\n",
    "\n",
    "According to plots below, many of these distributions looks normal. However, some of them have secondary modes and skewness. It is confident to say that the center of the distribution varies with angle and MAC address. This tell us that the conditioning on angle and MAC address is warranted.\n"
   ]
  },
  {
   "cell_type": "code",
   "execution_count": 36,
   "metadata": {},
   "outputs": [
    {
     "data": {},
     "metadata": {},
     "output_type": "display_data"
    },
    {
     "data": {
      "image/png": "[encoded data removed]",
      "text/plain": [
       "plot without title"
      ]
     },
     "metadata": {},
     "output_type": "display_data"
    }
   ],
   "source": [
    "# plot for the signal strength distribution in each angle\n",
    "\n",
    "oldPar <- par(mar = c(3.1, 3, 1, 1))\n",
    "\n",
    "densityplot( ~ signal | mac + factor(angle), data = offline,\n",
    "             subset = posX == 24 & posY == 4 & \n",
    "                         mac != \"00:0f:a3:39:dd:cd\",main = \"Figure 7.1 : The Signal Strength Distribution in Each Angle\",\n",
    "             bw = 0.5, plot.points = FALSE)\n",
    "\n",
    "par(oldPar)\n"
   ]
  },
  {
   "cell_type": "code",
   "execution_count": 37,
   "metadata": {},
   "outputs": [
    {
     "data": {},
     "metadata": {},
     "output_type": "display_data"
    },
    {
     "data": {
      "image/png": "[encoded data removed]",
      "text/plain": [
       "plot without title"
      ]
     },
     "metadata": {},
     "output_type": "display_data"
    }
   ],
   "source": [
    "oldPar <- par(mar = c(3.1, 3, 1, 1))\n",
    "\n",
    "densityplot( ~ signal | mac + factor(angle), data = offline,\n",
    "             subset = posX == 24 & posY == 4 & \n",
    "                         mac != \"00:0f:a3:39:e1:c0\",main = \"Figure 7.2 : The Signal Strength Distribution in Each Angle\",\n",
    "             bw = 0.5, plot.points = FALSE)\n",
    "\n",
    "par(oldPar)"
   ]
  },
  {
   "cell_type": "code",
   "execution_count": 38,
   "metadata": {},
   "outputs": [],
   "source": [
    "#offline = offline[ offline$mac != \"00:0f:a3:39:dd:cd\", ]\n",
    "\n",
    "offline$posXY <- paste(offline$posX, offline$posY, sep = \"-\")\n",
    "\n",
    "byLocAngleAP <- with(offline, \n",
    "                    by(offline, list(posXY, angle, mac), \n",
    "                       function(x) x))\n",
    "\n",
    "signalSummary <- \n",
    "  lapply(byLocAngleAP,            \n",
    "         function(oneLoc) {\n",
    "           ans = oneLoc[1, ]\n",
    "           ans$medSignal = median(oneLoc$signal)\n",
    "           ans$avgSignal = mean(oneLoc$signal)\n",
    "           ans$num = length(oneLoc$signal)\n",
    "           ans$sdSignal = sd(oneLoc$signal)\n",
    "           ans$iqrSignal = IQR(oneLoc$signal)\n",
    "           ans\n",
    "           })\n",
    "\n",
    "offlineSummary <- do.call(\"rbind\", signalSummary) "
   ]
  },
  {
   "cell_type": "markdown",
   "metadata": {},
   "source": [
    "### Relationship between the mean of psignal strength and the standard deviation of signal strength.\n",
    "The following visualization can tell us that if there is a relationship between the mean signal strength and the standard deviation of the signal strength. \n",
    "\n",
    "From the plot below, we can definitely tell that there is a relationship and it is quite position as in the mean signal strength increases while the standard deviation of signal strength goes up. The weak signals have low variability and the stronger signals have greater variablity. This is also reasonable when considering the practical situation -- if near the access point, signal will be stronger. "
   ]
  },
  {
   "cell_type": "code",
   "execution_count": 39,
   "metadata": {},
   "outputs": [
    {
     "data": {},
     "metadata": {},
     "output_type": "display_data"
    },
    {
     "data": {
      "image/png": "[encoded data removed]",
      "text/plain": [
       "plot without title"
      ]
     },
     "metadata": {},
     "output_type": "display_data"
    }
   ],
   "source": [
    "\n",
    "oldPar <- par(mar = c(3.1, 3, 1, 1))\n",
    "\n",
    "breaks <- seq(-90, -30, by = 5)\n",
    "bwplot(sdSignal ~ cut(avgSignal, breaks = breaks),\n",
    "       data = offlineSummary, \n",
    "       subset = mac != \"00:0f:a3:39:dd:cd\",\n",
    "       xlab = \"Mean Signal\", ylab = \"SD Signal\", main = \"Figure 8: Mean Signal Strength vs. SD Signal Strength\")\n",
    "par(oldPar)\n"
   ]
  },
  {
   "cell_type": "markdown",
   "metadata": {},
   "source": [
    "### Relationship between the mean - median of signal strength and the number of observations.\n",
    "\n",
    "Heat map below shows the difference between the mean and median signal strength for each combination of location, access point, and angle against the number of observations.The differences are close 0 to 2 dBm. This visaulization is very interesting as in when the number of observation increases, the mean - median value will increase then converge at the interval of the number of observations between 100 and 120."
   ]
  },
  {
   "cell_type": "code",
   "execution_count": 40,
   "metadata": {},
   "outputs": [
    {
     "data": {
      "image/png": "[encoded data removed]",
      "text/plain": [
       "Plot with title \"Figure 9: Mean - Median Values vs. The number of Obs.\""
      ]
     },
     "metadata": {},
     "output_type": "display_data"
    }
   ],
   "source": [
    "\n",
    "oldPar <- par(mar = c(4.1, 4.1, 1, 1))\n",
    "\n",
    "with(offlineSummary, \n",
    "     smoothScatter((avgSignal - medSignal) ~ num, \n",
    "                   xlab = \"Number of Observations\", \n",
    "                   ylab = \"Mean - Median Values\", \n",
    "                   main = \"Figure 9: Mean - Median Values vs. The number of Obs.\"))\n",
    "abline(h = 0, col = \"#984ea3\", lwd = 2)\n",
    "\n",
    "lo.obj <- \n",
    "  with(offlineSummary,\n",
    "       loess(diff ~ num, \n",
    "             data = data.frame(diff = (avgSignal - medSignal),\n",
    "                               num = num)))\n",
    "\n",
    "lo.obj.pr = predict(lo.obj, newdata = data.frame(num = (70:120)))\n",
    "lines(x = 70:120, y = lo.obj.pr, col = \"#4daf4a\", lwd = 2)\n",
    "\n",
    "par(oldPar)\n",
    "\n",
    "\n",
    "\n"
   ]
  },
  {
   "cell_type": "markdown",
   "metadata": {},
   "source": [
    "Another good way to reflect the relationship between signal strength and distance is to use the countour heatmap. This will tell us a more comprehensive story of the strength and the location of that access point. There is color changing in the heatmap as the distance gets either further or closer. "
   ]
  },
  {
   "cell_type": "code",
   "execution_count": 41,
   "metadata": {},
   "outputs": [],
   "source": [
    "# surfaceSS function to find the relationship of the MAC and angle relationship\n",
    "surfaceSS <- function(data, mac, angle = 45) {\n",
    "  require(fields)\n",
    "  oneAPAngle = data[ data$mac == mac & data$angle == angle, ]\n",
    "  smoothSS = Tps(oneAPAngle[, c(\"posX\",\"posY\")], \n",
    "                 oneAPAngle$avgSignal)\n",
    "  vizSmooth = predictSurface(smoothSS)\n",
    "  plot.surface(vizSmooth, type = \"C\", \n",
    "               xlab = \"\", ylab = \"\", \n",
    "               main= paste(\"MAC: \",mac,\" Angle: \",angle),\n",
    "               xaxt = \"n\", yaxt = \"n\")\n",
    "  points(oneAPAngle$posX, oneAPAngle$posY, pch=19, cex = 0.5) \n",
    "}"
   ]
  },
  {
   "cell_type": "code",
   "execution_count": 42,
   "metadata": {},
   "outputs": [
    {
     "data": {
      "text/html": [
       "<ol class=list-inline>\n",
       "\t<li>'00:0f:a3:39:e1:c0'</li>\n",
       "\t<li>'00:0f:a3:39:dd:cd'</li>\n",
       "\t<li>'00:14:bf:b1:97:8a'</li>\n",
       "\t<li>'00:14:bf:3b:c7:c6'</li>\n",
       "\t<li>'00:14:bf:b1:97:90'</li>\n",
       "\t<li>'00:14:bf:b1:97:8d'</li>\n",
       "\t<li>'00:14:bf:b1:97:81'</li>\n",
       "</ol>\n"
      ],
      "text/latex": [
       "\\begin{enumerate*}\n",
       "\\item '00:0f:a3:39:e1:c0'\n",
       "\\item '00:0f:a3:39:dd:cd'\n",
       "\\item '00:14:bf:b1:97:8a'\n",
       "\\item '00:14:bf:3b:c7:c6'\n",
       "\\item '00:14:bf:b1:97:90'\n",
       "\\item '00:14:bf:b1:97:8d'\n",
       "\\item '00:14:bf:b1:97:81'\n",
       "\\end{enumerate*}\n"
      ],
      "text/markdown": [
       "1. '00:0f:a3:39:e1:c0'\n",
       "2. '00:0f:a3:39:dd:cd'\n",
       "3. '00:14:bf:b1:97:8a'\n",
       "4. '00:14:bf:3b:c7:c6'\n",
       "5. '00:14:bf:b1:97:90'\n",
       "6. '00:14:bf:b1:97:8d'\n",
       "7. '00:14:bf:b1:97:81'\n",
       "\n",
       "\n"
      ],
      "text/plain": [
       "[1] \"00:0f:a3:39:e1:c0\" \"00:0f:a3:39:dd:cd\" \"00:14:bf:b1:97:8a\"\n",
       "[4] \"00:14:bf:3b:c7:c6\" \"00:14:bf:b1:97:90\" \"00:14:bf:b1:97:8d\"\n",
       "[7] \"00:14:bf:b1:97:81\""
      ]
     },
     "metadata": {},
     "output_type": "display_data"
    }
   ],
   "source": [
    "subMacs"
   ]
  },
  {
   "cell_type": "markdown",
   "metadata": {},
   "source": [
    "The topographic heat map below shows the signal strength in two angles(0,135) for MAC 00:14:bf:b1:97:90 and 00:0f:a3:39:e1:c0. You can clearly see the location of the access point which is in the dark red area in the heat map. You can see how easy we can identify which point is located at what position in Figure 6.1 and Figure 6.2 from above. The MAC address 00:0f:a3:39:e1:c0 has an absolute value of strength between 50 and 60 which tells us it is in the yellowish zone and in the upper part. The 00:14:bf:b1:97:90 point has a strong and wide range of absolute strength starting from 40 which tells us it is located on the upper left corner."
   ]
  },
  {
   "cell_type": "code",
   "execution_count": 43,
   "metadata": {},
   "outputs": [
    {
     "data": {
      "text/html": [
       "<dl>\n",
       "\t<dt>$`00:14:bf:b1:97:90`</dt>\n",
       "\t\t<dd>NULL</dd>\n",
       "\t<dt>$`00:14:bf:b1:97:90`</dt>\n",
       "\t\t<dd>NULL</dd>\n",
       "\t<dt>$`00:0f:a3:39:e1:c0`</dt>\n",
       "\t\t<dd>NULL</dd>\n",
       "\t<dt>$`00:0f:a3:39:e1:c0`</dt>\n",
       "\t\t<dd>NULL</dd>\n",
       "</dl>\n"
      ],
      "text/latex": [
       "\\begin{description}\n",
       "\\item[\\$`00:14:bf:b1:97:90`] NULL\n",
       "\\item[\\$`00:14:bf:b1:97:90`] NULL\n",
       "\\item[\\$`00:0f:a3:39:e1:c0`] NULL\n",
       "\\item[\\$`00:0f:a3:39:e1:c0`] NULL\n",
       "\\end{description}\n"
      ],
      "text/markdown": [
       "$`00:14:bf:b1:97:90`\n",
       ":   NULL\n",
       "$`00:14:bf:b1:97:90`\n",
       ":   NULL\n",
       "$`00:0f:a3:39:e1:c0`\n",
       ":   NULL\n",
       "$`00:0f:a3:39:e1:c0`\n",
       ":   NULL\n",
       "\n",
       "\n"
      ],
      "text/plain": [
       "$`00:14:bf:b1:97:90`\n",
       "NULL\n",
       "\n",
       "$`00:14:bf:b1:97:90`\n",
       "NULL\n",
       "\n",
       "$`00:0f:a3:39:e1:c0`\n",
       "NULL\n",
       "\n",
       "$`00:0f:a3:39:e1:c0`\n",
       "NULL\n"
      ]
     },
     "metadata": {},
     "output_type": "display_data"
    },
    {
     "data": {
      "image/png": "[encoded data removed]",
      "text/plain": [
       "Plot with title \"Figure 10: Heatmap of MACs and Angles\""
      ]
     },
     "metadata": {},
     "output_type": "display_data"
    }
   ],
   "source": [
    "# 2 x 2 plot\n",
    "parCur <- par(mfrow = c(2,2), mar = rep(1, 4))\n",
    "\n",
    "mapply(surfaceSS, mac = subMacs[ rep(c(5, 1), each = 2) ], \n",
    "       angle = rep(c(0, 135), 2),\n",
    "       data = list(data = offlineSummary))\n",
    " \n",
    "par(parCur)\n",
    "title(\"Figure 10: Heatmap of MACs and Angles\", line = -30.7)"
   ]
  },
  {
   "cell_type": "code",
   "execution_count": 44,
   "metadata": {},
   "outputs": [],
   "source": [
    "# exclude 00:0f:a3:39:dd:cd\n",
    "# backup data frame for later us\n",
    "offlineSummary_bak <- offlineSummary\n",
    "offlineSummary <- subset(offlineSummary, mac != subMacs[2])"
   ]
  },
  {
   "cell_type": "markdown",
   "metadata": {},
   "source": [
    "Now we have removed the access point 00:0f:a3:39:dd:cd.\n",
    "\n",
    "The matrix blow is created based on the topographical heat map for each access point on the top of the floor plan. We decided the first access point 00:0f:a3:39:e1:c0 first (x=7.5, y=6.3) and according to the documentation the training data were mearusred at 1 meter intervals in the building. So we can use the grey dots on the plan to estimate the location of the access points.\n",
    "\n",
    "The Figure 7 from above indicates that the signal strength is negative correlated with the distance which mean the further the access point is the weaker the signal is. Nolan and Lang provided a scatter plot, see Figure 8 below, so that they can illustrate the relationship between the distance and the signal strength. The following code provides information of the location of each point. This also proves our understanding from above. 00:0f:a3:39:e1:c0\tand 00:14:bf:b1:97:90 are in the upper area.\n",
    "\n"
   ]
  },
  {
   "cell_type": "code",
   "execution_count": 45,
   "metadata": {},
   "outputs": [
    {
     "data": {
      "text/html": [
       "<table>\n",
       "<thead><tr><th></th><th scope=col>x</th><th scope=col>y</th></tr></thead>\n",
       "<tbody>\n",
       "\t<tr><th scope=row>00:0f:a3:39:e1:c0</th><td> 7.5</td><td> 6.3</td></tr>\n",
       "\t<tr><th scope=row>00:14:bf:b1:97:8a</th><td> 2.5</td><td>-0.8</td></tr>\n",
       "\t<tr><th scope=row>00:14:bf:3b:c7:c6</th><td>12.8</td><td>-2.8</td></tr>\n",
       "\t<tr><th scope=row>00:14:bf:b1:97:90</th><td> 1.0</td><td>14.0</td></tr>\n",
       "\t<tr><th scope=row>00:14:bf:b1:97:8d</th><td>33.5</td><td> 9.3</td></tr>\n",
       "\t<tr><th scope=row>00:14:bf:b1:97:81</th><td>33.5</td><td> 2.8</td></tr>\n",
       "</tbody>\n",
       "</table>\n"
      ],
      "text/latex": [
       "\\begin{tabular}{r|ll}\n",
       "  & x & y\\\\\n",
       "\\hline\n",
       "\t00:0f:a3:39:e1:c0 &  7.5 &  6.3\\\\\n",
       "\t00:14:bf:b1:97:8a &  2.5 & -0.8\\\\\n",
       "\t00:14:bf:3b:c7:c6 & 12.8 & -2.8\\\\\n",
       "\t00:14:bf:b1:97:90 &  1.0 & 14.0\\\\\n",
       "\t00:14:bf:b1:97:8d & 33.5 &  9.3\\\\\n",
       "\t00:14:bf:b1:97:81 & 33.5 &  2.8\\\\\n",
       "\\end{tabular}\n"
      ],
      "text/markdown": [
       "\n",
       "| <!--/--> | x | y | \n",
       "|---|---|---|---|---|---|\n",
       "| 00:0f:a3:39:e1:c0 |  7.5 |  6.3 | \n",
       "| 00:14:bf:b1:97:8a |  2.5 | -0.8 | \n",
       "| 00:14:bf:3b:c7:c6 | 12.8 | -2.8 | \n",
       "| 00:14:bf:b1:97:90 |  1.0 | 14.0 | \n",
       "| 00:14:bf:b1:97:8d | 33.5 |  9.3 | \n",
       "| 00:14:bf:b1:97:81 | 33.5 |  2.8 | \n",
       "\n",
       "\n"
      ],
      "text/plain": [
       "                  x    y   \n",
       "00:0f:a3:39:e1:c0  7.5  6.3\n",
       "00:14:bf:b1:97:8a  2.5 -0.8\n",
       "00:14:bf:3b:c7:c6 12.8 -2.8\n",
       "00:14:bf:b1:97:90  1.0 14.0\n",
       "00:14:bf:b1:97:8d 33.5  9.3\n",
       "00:14:bf:b1:97:81 33.5  2.8"
      ]
     },
     "metadata": {},
     "output_type": "display_data"
    }
   ],
   "source": [
    "\n",
    "# get the location of the access point.\n",
    "\n",
    "AP = matrix( c( 7.5, 6.3, 2.5, -.8, 12.8, -2.8,  \n",
    "                1, 14, 33.5, 9.3,  33.5, 2.8),\n",
    "            ncol = 2, byrow = TRUE,\n",
    "            dimnames = list(subMacs[ -2 ], c(\"x\", \"y\") ))\n",
    "\n",
    "AP"
   ]
  },
  {
   "cell_type": "code",
   "execution_count": 46,
   "metadata": {},
   "outputs": [],
   "source": [
    "# difference from each training point to each access point.\n",
    "diffs <- offlineSummary[ , c(\"posX\", \"posY\")] - \n",
    "          AP[ offlineSummary$mac, ]\n",
    "\n",
    "offlineSummary$dist <- sqrt(diffs[ , 1]^2 + diffs[ , 2]^2)\n"
   ]
  },
  {
   "cell_type": "markdown",
   "metadata": {},
   "source": [
    "We add a **dist** column to calculate the distance from each training point to the access point. The distance may have inversely proportional relationship with the signal strength."
   ]
  },
  {
   "cell_type": "code",
   "execution_count": 47,
   "metadata": {},
   "outputs": [
    {
     "data": {},
     "metadata": {},
     "output_type": "display_data"
    },
    {
     "data": {
      "image/png": "[encoded data removed]",
      "text/plain": [
       "plot without title"
      ]
     },
     "metadata": {},
     "output_type": "display_data"
    }
   ],
   "source": [
    "\n",
    "# Plot the relationship between the distance and the signal strength.\n",
    "\n",
    "oldPar = par(mar = c(3.1, 3.1, 1, 1))\n",
    "library(lattice)\n",
    "xyplot(signal ~ dist | factor(mac) + factor(angle), \n",
    "       data = offlineSummary, pch = 19, cex = 0.3,\n",
    "       xlab =\"distance\",\n",
    "       main = \"Figure 11: Scatter Plot of Distance vs. Signal Strength\")\n",
    "par(oldPar)\n"
   ]
  },
  {
   "cell_type": "markdown",
   "metadata": {},
   "source": [
    "#### Now we try Manattan Distance and do the same visualization again."
   ]
  },
  {
   "cell_type": "markdown",
   "metadata": {},
   "source": [
    "There are three kinds of distances we can use. Here we talk about Manhattan and Eclidean. Manhattan Distance is using the absolute value distance, as opposed to squared error (read Eclidean) distance. In theory, absolute value distance should give more robust results, whereas Euclidean would be influenced by unusual values. In practical, there is a chance that they give pretty similar result. You can see that Figure 11 and Figure 12 are quite similar. There is no absolute benefit using either one. The distance aggregation is based on the aggregation of each point. When two points are very close to each other, Manhanttan Distance will be less sensitive than Eclidean since it tends to make the difference stronger due to its calculation nature.\n"
   ]
  },
  {
   "cell_type": "code",
   "execution_count": 48,
   "metadata": {},
   "outputs": [],
   "source": [
    "offlineSummary$manhattan_dist <- abs(diffs[ , 1] + diffs[ , 2])"
   ]
  },
  {
   "cell_type": "code",
   "execution_count": 49,
   "metadata": {},
   "outputs": [
    {
     "data": {},
     "metadata": {},
     "output_type": "display_data"
    },
    {
     "data": {
      "image/png": "[encoded data removed]",
      "text/plain": [
       "plot without title"
      ]
     },
     "metadata": {},
     "output_type": "display_data"
    }
   ],
   "source": [
    "# Plot the relationship between the distance and the signal strength.\n",
    "oldPar = par(mar = c(3.1, 3.1, 1, 1))\n",
    "\n",
    "xyplot(signal ~ manhattan_dist | factor(mac) + factor(angle), \n",
    "       data = offlineSummary, pch = 19, cex = 0.3,\n",
    "       xlab =\"manhattan distance\",\n",
    "       main = \"Figure 12: Scatter Plot of Manhattan Distance vs. Signal Strength\"\n",
    "      )\n",
    "par(oldPar)"
   ]
  },
  {
   "cell_type": "markdown",
   "metadata": {},
   "source": [
    "## Model Construction to Predict Location"
   ]
  },
  {
   "cell_type": "markdown",
   "metadata": {},
   "source": [
    "### Prepare the Test Data"
   ]
  },
  {
   "cell_type": "code",
   "execution_count": 50,
   "metadata": {},
   "outputs": [
    {
     "data": {
      "text/html": [
       "60"
      ],
      "text/latex": [
       "60"
      ],
      "text/markdown": [
       "60"
      ],
      "text/plain": [
       "[1] 60"
      ]
     },
     "metadata": {},
     "output_type": "display_data"
    },
    {
     "data": {
      "text/plain": [
       "            \n",
       "               0  45  90 135 180 225 270 315\n",
       "  0-0.05       0   0   0 593   0   0   0   0\n",
       "  0.15-9.42    0   0 606   0   0   0   0   0\n",
       "  0.31-11.09   0   0   0   0   0 573   0   0\n",
       "  0.47-8.2   590   0   0   0   0   0   0   0\n",
       "  0.78-10.94 586   0   0   0   0   0   0   0\n",
       "  0.93-11.69   0   0   0   0 583   0   0   0"
      ]
     },
     "metadata": {},
     "output_type": "display_data"
    },
    {
     "data": {
      "text/html": [
       "<ol class=list-inline>\n",
       "\t<li>60</li>\n",
       "\t<li>11</li>\n",
       "</ol>\n"
      ],
      "text/latex": [
       "\\begin{enumerate*}\n",
       "\\item 60\n",
       "\\item 11\n",
       "\\end{enumerate*}\n"
      ],
      "text/markdown": [
       "1. 60\n",
       "2. 11\n",
       "\n",
       "\n"
      ],
      "text/plain": [
       "[1] 60 11"
      ]
     },
     "metadata": {},
     "output_type": "display_data"
    },
    {
     "data": {
      "text/html": [
       "<ol class=list-inline>\n",
       "\t<li>'posXY'</li>\n",
       "\t<li>'posX'</li>\n",
       "\t<li>'posY'</li>\n",
       "\t<li>'orientation'</li>\n",
       "\t<li>'angle'</li>\n",
       "\t<li>'00:0f:a3:39:e1:c0'</li>\n",
       "\t<li>'00:14:bf:3b:c7:c6'</li>\n",
       "\t<li>'00:14:bf:b1:97:81'</li>\n",
       "\t<li>'00:14:bf:b1:97:8a'</li>\n",
       "\t<li>'00:14:bf:b1:97:8d'</li>\n",
       "\t<li>'00:14:bf:b1:97:90'</li>\n",
       "</ol>\n"
      ],
      "text/latex": [
       "\\begin{enumerate*}\n",
       "\\item 'posXY'\n",
       "\\item 'posX'\n",
       "\\item 'posY'\n",
       "\\item 'orientation'\n",
       "\\item 'angle'\n",
       "\\item '00:0f:a3:39:e1:c0'\n",
       "\\item '00:14:bf:3b:c7:c6'\n",
       "\\item '00:14:bf:b1:97:81'\n",
       "\\item '00:14:bf:b1:97:8a'\n",
       "\\item '00:14:bf:b1:97:8d'\n",
       "\\item '00:14:bf:b1:97:90'\n",
       "\\end{enumerate*}\n"
      ],
      "text/markdown": [
       "1. 'posXY'\n",
       "2. 'posX'\n",
       "3. 'posY'\n",
       "4. 'orientation'\n",
       "5. 'angle'\n",
       "6. '00:0f:a3:39:e1:c0'\n",
       "7. '00:14:bf:3b:c7:c6'\n",
       "8. '00:14:bf:b1:97:81'\n",
       "9. '00:14:bf:b1:97:8a'\n",
       "10. '00:14:bf:b1:97:8d'\n",
       "11. '00:14:bf:b1:97:90'\n",
       "\n",
       "\n"
      ],
      "text/plain": [
       " [1] \"posXY\"             \"posX\"              \"posY\"             \n",
       " [4] \"orientation\"       \"angle\"             \"00:0f:a3:39:e1:c0\"\n",
       " [7] \"00:14:bf:3b:c7:c6\" \"00:14:bf:b1:97:81\" \"00:14:bf:b1:97:8a\"\n",
       "[10] \"00:14:bf:b1:97:8d\" \"00:14:bf:b1:97:90\""
      ]
     },
     "metadata": {},
     "output_type": "display_data"
    }
   ],
   "source": [
    "# Import and organize the data\n",
    "macs <- unique(offlineSummary$mac)\n",
    "online <- readData(\"Data/online.final.trace.txt\", subMacs = macs)\n",
    "# create unique identifier for location\n",
    "online$posXY <- paste(online$posX, online$posY, sep = \"-\")\n",
    "# unique number of locations\n",
    "length(unique(online$posXY))\n",
    "\n",
    "tabonlineXYA <- table(online$posXY, online$angle)\n",
    "tabonlineXYA[1:6, ]\n",
    "\n",
    "keepVars <- c(\"posXY\", \"posX\",\"posY\", \"orientation\", \"angle\")\n",
    "byLoc <- with(online, \n",
    "             by(online, list(posXY), \n",
    "                function(x) {\n",
    "                  ans = x[1, keepVars]\n",
    "                  avgSS = tapply(x$signal, x$mac, mean)\n",
    "                  y = matrix(avgSS, nrow = 1, ncol = 6,\n",
    "                        dimnames = list(ans$posXY, names(avgSS)))\n",
    "                  cbind(ans, y)\n",
    "                }))\n",
    "# confirm the data set\n",
    "onlineSummary <- do.call(\"rbind\", byLoc)  \n",
    "\n",
    "dim(onlineSummary)\n",
    "names(onlineSummary)"
   ]
  },
  {
   "cell_type": "markdown",
   "metadata": {},
   "source": [
    "### Choice of Orientation"
   ]
  },
  {
   "cell_type": "code",
   "execution_count": 51,
   "metadata": {},
   "outputs": [],
   "source": [
    "\n",
    "# function to aggregate the signal strengths from the angles and create a data structure.\n",
    "reshapeSS <- function(data, varSignal = \"signal\", \n",
    "                     keepVars = c(\"posXY\", \"posX\",\"posY\")) {\n",
    "  byLocation <-\n",
    "    with(data, by(data, list(posXY), \n",
    "                  function(x) {\n",
    "                    ans = x[1, keepVars]\n",
    "                    avgSS = tapply(x[ , varSignal ], x$mac, mean)\n",
    "                    y = matrix(avgSS, nrow = 1, ncol = 6,\n",
    "                               dimnames = list(ans$posXY,\n",
    "                                               names(avgSS)))\n",
    "                    cbind(ans, y)\n",
    "                  }))\n",
    "\n",
    "  newDataSS <- do.call(\"rbind\", byLocation)\n",
    "  return(newDataSS)\n",
    "}\n"
   ]
  },
  {
   "cell_type": "code",
   "execution_count": 52,
   "metadata": {},
   "outputs": [],
   "source": [
    "# function to get the average of the signal strengths for the different angles \n",
    "# to produce one set of signal strengths for each of the 166 locations in the training data\n",
    "selectTrain <- function(angleNewObs, signals = NULL, m = 1){\n",
    "  # m is the number of angles to keep between 1 and 5\n",
    "  refs <- seq(0, by = 45, length  = 8)\n",
    "  nearestAngle <- roundOrientation(angleNewObs)\n",
    "  \n",
    "  if (m %% 2 == 1) \n",
    "    angles <- seq(-45 * (m - 1) /2, 45 * (m - 1) /2, length = m)\n",
    "  else {\n",
    "    m <- m + 1\n",
    "    angles <- seq(-45 * (m - 1) /2, 45 * (m - 1) /2, length = m)\n",
    "    if (sign(angleNewObs - nearestAngle) > -1) \n",
    "      angles <- angles[ -1 ]\n",
    "    else \n",
    "      angles <- angles[ -m ]\n",
    "  }\n",
    "  angles <- angles + nearestAngle\n",
    "  angles[angles < 0] <- angles[ angles < 0 ] + 360\n",
    "  angles[angles > 360] <- angles[ angles > 360 ] - 360\n",
    "  angles <- sort(angles) \n",
    "  \n",
    "  offlineSubset <- signals[ signals$angle %in% angles, ]\n",
    "  reshapeSS(offlineSubset, varSignal = \"avgSignal\")\n",
    "}"
   ]
  },
  {
   "cell_type": "markdown",
   "metadata": {},
   "source": [
    "This approach below is to use the selecTrain fuction to find the nearest access point base on the signal strengths."
   ]
  },
  {
   "cell_type": "code",
   "execution_count": 53,
   "metadata": {},
   "outputs": [
    {
     "data": {
      "text/html": [
       "<table>\n",
       "<thead><tr><th></th><th scope=col>posXY</th><th scope=col>posX</th><th scope=col>posY</th><th scope=col>00:0f:a3:39:e1:c0</th><th scope=col>00:14:bf:3b:c7:c6</th><th scope=col>00:14:bf:b1:97:81</th><th scope=col>00:14:bf:b1:97:8a</th><th scope=col>00:14:bf:b1:97:8d</th><th scope=col>00:14:bf:b1:97:90</th></tr></thead>\n",
       "<tbody>\n",
       "\t<tr><th scope=row>0-0</th><td>0-0 </td><td>0   </td><td> 0  </td><td>-52 </td><td>-66 </td><td>-63 </td><td>-36 </td><td>-64 </td><td>-55 </td></tr>\n",
       "\t<tr><th scope=row>0-1</th><td>0-1 </td><td>0   </td><td> 1  </td><td>-53 </td><td>-65 </td><td>-64 </td><td>-39 </td><td>-65 </td><td>-59 </td></tr>\n",
       "\t<tr><th scope=row>0-10</th><td>0-10</td><td>0   </td><td>10  </td><td>-56 </td><td>-66 </td><td>-69 </td><td>-45 </td><td>-67 </td><td>-50 </td></tr>\n",
       "\t<tr><th scope=row>0-11</th><td>0-11</td><td>0   </td><td>11  </td><td>-55 </td><td>-67 </td><td>-70 </td><td>-48 </td><td>-67 </td><td>-55 </td></tr>\n",
       "\t<tr><th scope=row>0-12</th><td>0-12</td><td>0   </td><td>12  </td><td>-56 </td><td>-70 </td><td>-72 </td><td>-45 </td><td>-67 </td><td>-50 </td></tr>\n",
       "\t<tr><th scope=row>0-13</th><td>0-13</td><td>0   </td><td>13  </td><td>-55 </td><td>-71 </td><td>-73 </td><td>-43 </td><td>-69 </td><td>-54 </td></tr>\n",
       "</tbody>\n",
       "</table>\n"
      ],
      "text/latex": [
       "\\begin{tabular}{r|lllllllll}\n",
       "  & posXY & posX & posY & 00:0f:a3:39:e1:c0 & 00:14:bf:3b:c7:c6 & 00:14:bf:b1:97:81 & 00:14:bf:b1:97:8a & 00:14:bf:b1:97:8d & 00:14:bf:b1:97:90\\\\\n",
       "\\hline\n",
       "\t0-0 & 0-0  & 0    &  0   & -52  & -66  & -63  & -36  & -64  & -55 \\\\\n",
       "\t0-1 & 0-1  & 0    &  1   & -53  & -65  & -64  & -39  & -65  & -59 \\\\\n",
       "\t0-10 & 0-10 & 0    & 10   & -56  & -66  & -69  & -45  & -67  & -50 \\\\\n",
       "\t0-11 & 0-11 & 0    & 11   & -55  & -67  & -70  & -48  & -67  & -55 \\\\\n",
       "\t0-12 & 0-12 & 0    & 12   & -56  & -70  & -72  & -45  & -67  & -50 \\\\\n",
       "\t0-13 & 0-13 & 0    & 13   & -55  & -71  & -73  & -43  & -69  & -54 \\\\\n",
       "\\end{tabular}\n"
      ],
      "text/markdown": [
       "\n",
       "| <!--/--> | posXY | posX | posY | 00:0f:a3:39:e1:c0 | 00:14:bf:3b:c7:c6 | 00:14:bf:b1:97:81 | 00:14:bf:b1:97:8a | 00:14:bf:b1:97:8d | 00:14:bf:b1:97:90 | \n",
       "|---|---|---|---|---|---|\n",
       "| 0-0 | 0-0  | 0    |  0   | -52  | -66  | -63  | -36  | -64  | -55  | \n",
       "| 0-1 | 0-1  | 0    |  1   | -53  | -65  | -64  | -39  | -65  | -59  | \n",
       "| 0-10 | 0-10 | 0    | 10   | -56  | -66  | -69  | -45  | -67  | -50  | \n",
       "| 0-11 | 0-11 | 0    | 11   | -55  | -67  | -70  | -48  | -67  | -55  | \n",
       "| 0-12 | 0-12 | 0    | 12   | -56  | -70  | -72  | -45  | -67  | -50  | \n",
       "| 0-13 | 0-13 | 0    | 13   | -55  | -71  | -73  | -43  | -69  | -54  | \n",
       "\n",
       "\n"
      ],
      "text/plain": [
       "     posXY posX posY 00:0f:a3:39:e1:c0 00:14:bf:3b:c7:c6 00:14:bf:b1:97:81\n",
       "0-0  0-0   0     0   -52               -66               -63              \n",
       "0-1  0-1   0     1   -53               -65               -64              \n",
       "0-10 0-10  0    10   -56               -66               -69              \n",
       "0-11 0-11  0    11   -55               -67               -70              \n",
       "0-12 0-12  0    12   -56               -70               -72              \n",
       "0-13 0-13  0    13   -55               -71               -73              \n",
       "     00:14:bf:b1:97:8a 00:14:bf:b1:97:8d 00:14:bf:b1:97:90\n",
       "0-0  -36               -64               -55              \n",
       "0-1  -39               -65               -59              \n",
       "0-10 -45               -67               -50              \n",
       "0-11 -48               -67               -55              \n",
       "0-12 -45               -67               -50              \n",
       "0-13 -43               -69               -54              "
      ]
     },
     "metadata": {},
     "output_type": "display_data"
    },
    {
     "data": {
      "text/html": [
       "166"
      ],
      "text/latex": [
       "166"
      ],
      "text/markdown": [
       "166"
      ],
      "text/plain": [
       "[1] 166"
      ]
     },
     "metadata": {},
     "output_type": "display_data"
    }
   ],
   "source": [
    "\n",
    "\n",
    "train130 = selectTrain(130, offlineSummary, m = 3)\n",
    "\n",
    "head(train130)\n",
    "\n",
    "length(train130[[1]])\n",
    "\n"
   ]
  },
  {
   "cell_type": "markdown",
   "metadata": {},
   "source": [
    "### Find the Nearest Neighbors"
   ]
  },
  {
   "cell_type": "markdown",
   "metadata": {},
   "source": [
    "The case study provided by Nolan and Lang provided a simple KNN algorithm to prediction a new location. Clustering is quite subjective and the number of neighbors being assigned will directly affect the performance of the algorithm. That is the reason why the numbers of neighbors in a kNN model is so important and should be adjusted to either improve underfitting or reduce overfitting.\n",
    "\n",
    "In the following process, there are two numbers of neighbors we have picked. \n",
    " * One neighbor only, which could mean that the nearest neighbor(tag) is the prediction of the new device's position. \n",
    " * Three neighbors, which means the average of these three coordinates will the the prediction."
   ]
  },
  {
   "cell_type": "code",
   "execution_count": 54,
   "metadata": {},
   "outputs": [],
   "source": [
    "# function to calculate the distance from the test data to all of the training data and get the top 3 nearest.\n",
    "findNN <- function(newSignal, trainSubset) {\n",
    "  diffs <- apply(trainSubset[ , 4:9], 1, \n",
    "                function(x) x - newSignal)\n",
    "  dists <- apply(diffs, 2, function(x) sqrt(sum(x^2)) )\n",
    "  closest <- order(dists)\n",
    "  return(trainSubset[closest, 1:3 ])\n",
    "}\n",
    "\n",
    "# function to get the estimate location \n",
    "predXY <- function(newSignals, newAngles, trainData, \n",
    "                  numAngles = 1, k = 3){\n",
    "  \n",
    "  closeXY <- list(length = nrow(newSignals))\n",
    "  \n",
    "  for (i in 1:nrow(newSignals)) {\n",
    "    trainSS = selectTrain(newAngles[i], trainData, m = numAngles)\n",
    "    closeXY[[i]] <- \n",
    "      findNN(newSignal = as.numeric(newSignals[i, ]), trainSS)\n",
    "  }\n",
    "\n",
    "  estXY <- lapply(closeXY, \n",
    "                 function(x) sapply(x[ , 2:3], \n",
    "                                    function(x) mean(x[1:k])))\n",
    "  estXY <- do.call(\"rbind\", estXY)\n",
    "  return(estXY)\n",
    "}"
   ]
  },
  {
   "cell_type": "code",
   "execution_count": 55,
   "metadata": {},
   "outputs": [],
   "source": [
    "# two kinds of neighbors\n",
    "estXYk3 <- predXY(newSignals = onlineSummary[ , 6:11], \n",
    "                 newAngles = onlineSummary[ , 4], \n",
    "                 offlineSummary, numAngles = 3, k = 3)\n",
    "\n",
    "estXYk1 <- predXY(newSignals = onlineSummary[ , 6:11], \n",
    "                 newAngles = onlineSummary[ , 4], \n",
    "                 offlineSummary, numAngles = 3, k = 1)"
   ]
  },
  {
   "cell_type": "code",
   "execution_count": 56,
   "metadata": {},
   "outputs": [],
   "source": [
    "# floor error map\n",
    "floorErrorMap <- function(estXY, actualXY, trainPoints = NULL, AP = NULL){\n",
    "  \n",
    "    plot(0, 0, xlim = c(0, 35), ylim = c(-3, 15), type = \"n\",\n",
    "         xlab = \"\", ylab = \"\", axes = FALSE)\n",
    "    box()\n",
    "    if ( !is.null(AP) ) points(AP, pch = 15)\n",
    "    if ( !is.null(trainPoints) )\n",
    "      points(trainPoints, pch = 19, col=\"grey\", cex = 0.6)\n",
    "    \n",
    "    points(x = actualXY[, 1], y = actualXY[, 2], \n",
    "           pch = 19, cex = 0.8 )\n",
    "    points(x = estXY[, 1], y = estXY[, 2], \n",
    "           pch = 8, cex = 0.8 )\n",
    "    segments(x0 = estXY[, 1], y0 = estXY[, 2],\n",
    "             x1 = actualXY[, 1], y1 = actualXY[ , 2],\n",
    "             lwd = 2, col = \"red\")\n",
    "}"
   ]
  },
  {
   "cell_type": "code",
   "execution_count": 57,
   "metadata": {},
   "outputs": [],
   "source": [
    "trainPoints <- offlineSummary[ offlineSummary$angle == 0 & \n",
    "                              offlineSummary$mac == \"00:0f:a3:39:e1:c0\" ,\n",
    "                        c(\"posX\", \"posY\")]\n"
   ]
  },
  {
   "cell_type": "markdown",
   "metadata": {},
   "source": [
    "The following two visualizations are with different number of neighbors. The first one is with only one neighbor and the second will be with three neighbors. Both plots show the prediction and the actual position. In the first plot with only one neighbor, we have noticed that the nearest neighbor is not being used as a prediction as we thought it would be. The reason of this could be similarity of the signal strength. This could possibly makes the prediction with K=1 harder and less accurate. "
   ]
  },
  {
   "cell_type": "code",
   "execution_count": 58,
   "metadata": {},
   "outputs": [
    {
     "data": {
      "image/png": "[encoded data removed]",
      "text/plain": [
       "Plot with title \"Figure 13. K Nearest Neighbour K =1\""
      ]
     },
     "metadata": {},
     "output_type": "display_data"
    }
   ],
   "source": [
    "\n",
    "oldPar = par(mar = c(1, 1, 1, 1))\n",
    "floorErrorMap(estXYk1, onlineSummary[ , c(\"posX\",\"posY\")], \n",
    "              trainPoints = trainPoints, AP = AP)\n",
    "par(oldPar)\n",
    "title(\"Figure 13. K Nearest Neighbour K =1\",line = 3.4)\n"
   ]
  },
  {
   "cell_type": "code",
   "execution_count": 59,
   "metadata": {},
   "outputs": [
    {
     "data": {
      "image/png": "[encoded data removed]",
      "text/plain": [
       "Plot with title \"Figure 14. K-Nearest Neighbour K =3\""
      ]
     },
     "metadata": {},
     "output_type": "display_data"
    }
   ],
   "source": [
    "\n",
    "oldPar <- par(mar = c(1, 1, 1, 1))\n",
    "floorErrorMap(estXYk3, onlineSummary[ , c(\"posX\",\"posY\")], \n",
    "              trainPoints = trainPoints, AP = AP)\n",
    "par(oldPar)\n",
    "title(\"Figure 14. K-Nearest Neighbour K =3\",line = 3.4)"
   ]
  },
  {
   "cell_type": "code",
   "execution_count": 60,
   "metadata": {},
   "outputs": [],
   "source": [
    "# 00:0f:a3:39:dd:cd is definitly useless from above plot, then remove it from the data frame and save it into new data frame\n",
    "offline_bak <- offline\n",
    "offline <- offline[ offline$mac != \"00:0f:a3:39:dd:cd\", ]"
   ]
  },
  {
   "cell_type": "markdown",
   "metadata": {},
   "source": [
    "### Modeling with different MAC choices"
   ]
  },
  {
   "cell_type": "markdown",
   "metadata": {},
   "source": [
    "- Cross-Validation and Choice of k"
   ]
  },
  {
   "cell_type": "code",
   "execution_count": 61,
   "metadata": {},
   "outputs": [],
   "source": [
    "calcError <- function(estXY, actualXY) \n",
    "   sum( rowSums( (estXY - actualXY)^2) )\n"
   ]
  },
  {
   "cell_type": "code",
   "execution_count": 62,
   "metadata": {},
   "outputs": [],
   "source": [
    "# new reshapSS function\n",
    "reshapeSS <- function(data, varSignal = \"signal\", \n",
    "                     keepVars = c(\"posXY\", \"posX\",\"posY\"),\n",
    "                     sampleAngle = FALSE, \n",
    "                     refs = seq(0, 315, by = 45)) {\n",
    "  byLocation <-\n",
    "    with(data, by(data, list(posXY), \n",
    "                  function(x) {\n",
    "                    if (sampleAngle) {\n",
    "                      x <- x[x$angle == sample(refs, size = 1), ]}\n",
    "                    ans <- x[1, keepVars]\n",
    "                    avgSS <- tapply(x[ , varSignal ], x$mac, mean)\n",
    "                    y <- matrix(avgSS, nrow = 1, ncol = 6,\n",
    "                               dimnames = list(ans$posXY,\n",
    "                                               names(avgSS)))\n",
    "                    cbind(ans, y)\n",
    "                  }))\n",
    "\n",
    "  newDataSS <- do.call(\"rbind\", byLocation)\n",
    "  return(newDataSS)\n",
    "}"
   ]
  },
  {
   "cell_type": "code",
   "execution_count": 63,
   "metadata": {},
   "outputs": [],
   "source": [
    "# cross validation function to verify the model\n",
    "\n",
    "crossValidation <- function(train_full, train_summary, K=20, folds=11, \n",
    "                          keepVars = c(\"posXY\", \"posX\",\"posY\", \"orientation\", \"angle\"),\n",
    "                          Weighted=FALSE, distance = \"euclidean\") {\n",
    "  set.seed(25)\n",
    "  permuteLocs <- sample(unique(train_summary$posXY))\n",
    "  permuteLocs <- matrix(permuteLocs, ncol = folds, \n",
    "                       nrow = floor(length(permuteLocs)/folds))\n",
    "  onlineCVSummary <- reshapeSS(train_full, keepVars = keepVars, sampleAngle = TRUE)\n",
    "  err = rep(0, K)\n",
    "  for (j in 1:folds) {\n",
    "    onlineFold <- subset(onlineCVSummary, \n",
    "                        posXY %in% permuteLocs[ , j])\n",
    "    offlineFold <- subset(train_summary,\n",
    "                         posXY %in% permuteLocs[ , -j])\n",
    "    actualFold <- onlineFold[ , c(\"posX\", \"posY\")]\n",
    "    \n",
    "    for (k in 1:K) {\n",
    "      if(Weighted == TRUE){\n",
    "        estFold <- predXYWeighted(newSignals = onlineFold[ , 6:11],\n",
    "                            newAngles = onlineFold[ , 4], \n",
    "                            offlineFold, numAngles = 3, k = k)\n",
    "        err[k] <- err[k] + calcError(estFold, actualFold)\n",
    "        \n",
    "      } else {\n",
    "        if(distance == \"manhattan\"){\n",
    "            \n",
    "             estFold <- predXYManhattan(newSignals = onlineFold[ , 6:11],\n",
    "                         newAngles = onlineFold[ , 4], \n",
    "                         offlineFold, numAngles = 3, k = k)\n",
    "            err[k] <- err[k] + calcError(estFold, actualFold)\n",
    "            \n",
    "        } else {\n",
    "            estFold <- predXY(newSignals = onlineFold[ , 6:11],\n",
    "                             newAngles = onlineFold[ , 4], \n",
    "                             offlineFold, numAngles = 3, k = k)\n",
    "            err[k] <- err[k] + calcError(estFold, actualFold)\n",
    "            }\n",
    "      }\n",
    "    }\n",
    "  }\n",
    "  rmseMin <- min(err)\n",
    "  kMin <- which(err == rmseMin)[1]\n",
    "  return(list(rmseMin, kMin, err))\n",
    "}"
   ]
  },
  {
   "cell_type": "markdown",
   "metadata": {},
   "source": [
    "#### Cross-Validation without 00:0f:a3:39:dd:cd"
   ]
  },
  {
   "cell_type": "code",
   "execution_count": 64,
   "metadata": {},
   "outputs": [
    {
     "name": "stderr",
     "output_type": "stream",
     "text": [
      "Warning message in matrix(permuteLocs, ncol = folds, nrow = floor(length(permuteLocs)/folds)):\n",
      "\"data length [166] is not a sub-multiple or multiple of the number of rows [15]\""
     ]
    },
    {
     "name": "stdout",
     "output_type": "stream",
     "text": [
      "sleeping: 281.64 sec elapsed\n"
     ]
    }
   ],
   "source": [
    "tic(\"sleeping\")\n",
    "knnResultsCd <- crossValidation(offline, offlineSummary, K=20)\n",
    "toc()"
   ]
  },
  {
   "cell_type": "code",
   "execution_count": 65,
   "metadata": {},
   "outputs": [
    {
     "name": "stdout",
     "output_type": "stream",
     "text": [
      "[1] \"Results when remove MAC 00:0f:a3:39:dd:cd:\"\n",
      "[1] \"Mean Square Error:  1038.5   K Min:  6\"\n"
     ]
    }
   ],
   "source": [
    "print(\"Results when remove MAC 00:0f:a3:39:dd:cd:\")\n",
    "print(paste(\"Mean Square Error: \",knnResultsCd[1],\"  K Min: \",knnResultsCd[2]))"
   ]
  },
  {
   "cell_type": "markdown",
   "metadata": {},
   "source": [
    "#### Cross-Validation without 00:0f:a3:39:e1:c0"
   ]
  },
  {
   "cell_type": "code",
   "execution_count": 66,
   "metadata": {},
   "outputs": [
    {
     "name": "stderr",
     "output_type": "stream",
     "text": [
      "Warning message in matrix(permuteLocs, ncol = folds, nrow = floor(length(permuteLocs)/folds)):\n",
      "\"data length [166] is not a sub-multiple or multiple of the number of rows [15]\""
     ]
    },
    {
     "name": "stdout",
     "output_type": "stream",
     "text": [
      "sleeping: 288.03 sec elapsed\n"
     ]
    }
   ],
   "source": [
    "tic(\"sleeping\")\n",
    "offline_c0 <- offline_bak[ offline_bak$mac != \"00:0f:a3:39:e1:c0\", ]\n",
    "offlineSummary_c0 <- offlineSummary_bak[offlineSummary_bak$mac != \"00:0f:a3:39:e1:c0\", ]\n",
    "knnResultsC0 <- crossValidation(offline_c0, offlineSummary_c0, K=20)\n",
    "toc()"
   ]
  },
  {
   "cell_type": "code",
   "execution_count": 67,
   "metadata": {},
   "outputs": [
    {
     "name": "stdout",
     "output_type": "stream",
     "text": [
      "[1] \"Results when without MAC 00:0f:a3:39:e1:c0:\"\n",
      "[1] \"Mean Square Error:  935.611111111111   K Min:  6\"\n"
     ]
    }
   ],
   "source": [
    "print(\"Results when without MAC 00:0f:a3:39:e1:c0:\")\n",
    "print(paste(\"Mean Square Error: \",knnResultsC0[1],\"  K Min: \",knnResultsC0[2]))"
   ]
  },
  {
   "cell_type": "markdown",
   "metadata": {},
   "source": [
    "#### Cross-Validation with both MACs"
   ]
  },
  {
   "cell_type": "code",
   "execution_count": 68,
   "metadata": {},
   "outputs": [],
   "source": [
    "# when keep both data has 7 MACs\n",
    "reshapeSS <- function(data, varSignal = \"signal\", \n",
    "                     keepVars = c(\"posXY\", \"posX\",\"posY\"),\n",
    "                     sampleAngle = FALSE, \n",
    "                     refs = seq(0, 315, by = 45)) {\n",
    "  byLocation <-\n",
    "    with(data, by(data, list(posXY), \n",
    "                  function(x) {\n",
    "                    if (sampleAngle) {\n",
    "                      x <- x[x$angle == sample(refs, size = 1), ]}\n",
    "                    ans <- x[1, keepVars]\n",
    "                    avgSS <- tapply(x[ , varSignal ], x$mac, mean)\n",
    "                    y <- matrix(avgSS, nrow = 1, ncol = 7,\n",
    "                               dimnames = list(ans$posXY,\n",
    "                                               names(avgSS)))\n",
    "                    cbind(ans, y)\n",
    "                  }))\n",
    "\n",
    "  newDataSS <- do.call(\"rbind\", byLocation)\n",
    "  return(newDataSS)\n",
    "}"
   ]
  },
  {
   "cell_type": "code",
   "execution_count": 69,
   "metadata": {},
   "outputs": [
    {
     "name": "stderr",
     "output_type": "stream",
     "text": [
      "Warning message in matrix(permuteLocs, ncol = folds, nrow = floor(length(permuteLocs)/folds)):\n",
      "\"data length [166] is not a sub-multiple or multiple of the number of rows [15]\""
     ]
    },
    {
     "name": "stdout",
     "output_type": "stream",
     "text": [
      "sleeping: 281.78 sec elapsed\n"
     ]
    }
   ],
   "source": [
    "tic(\"sleeping\")\n",
    "knnResultsBoth <- crossValidation(offline_bak, offlineSummary_bak, K=20)\n",
    "toc()"
   ]
  },
  {
   "cell_type": "code",
   "execution_count": 70,
   "metadata": {},
   "outputs": [
    {
     "name": "stdout",
     "output_type": "stream",
     "text": [
      "[1] \"Results when keep both MACs:\"\n",
      "[1] \"Mean Square Error:  1100   K Min:  6\"\n"
     ]
    }
   ],
   "source": [
    "print(\"Results when keep both MACs:\")\n",
    "print(paste(\"Mean Square Error: \",knnResultsBoth[1],\"  K Min: \",knnResultsC0[2]))"
   ]
  },
  {
   "cell_type": "markdown",
   "metadata": {},
   "source": [
    "* Question 3: Does using data for both MAC addresses simultaneously yield more, or less, accurate prediction of location?\n",
    "\n",
    "If we use the KNN algorithm with twenty neighbors, we can see the calculated mean squared error decreases. This indicates that the algorithm actually improves if we do include the 00:0f:a3:39:dd:cd. The mean square error from removing 00:0f:a3:39:dd:cd is 1038.5 and by removing 00:0f:a3:39:e1:c0 has a less mean square error of 935.611. If we keep both, the mean square error is more than removing 00:0f:a3:39:e1:c0. \n",
    "\n",
    "Therefore, if we use mean square error as our performance evaluation metric, removing 00:0f:a3:39:e1:c0 will yield the best accurate prediction of location since this method grants the lowest mean square error. "
   ]
  },
  {
   "cell_type": "markdown",
   "metadata": {},
   "source": [
    "### Now we try Manhattan Distance again"
   ]
  },
  {
   "cell_type": "code",
   "execution_count": 71,
   "metadata": {},
   "outputs": [],
   "source": [
    "\n",
    "# function to calculate the distance from the test data to all of the training data and get the top 3 nearest.\n",
    "findNNManhattan <- function(newSignal, trainSubset) {\n",
    "  diffs <- apply(trainSubset[ , 4:9], 1, \n",
    "                function(x) x - newSignal)\n",
    "  print( head(diffs))\n",
    "  dists <- apply(diffs, 2, function(x) abs(sum(x)))\n",
    "  closest <- order(dists)\n",
    "  return(trainSubset[closest, 1:3 ])\n",
    "}"
   ]
  },
  {
   "cell_type": "code",
   "execution_count": 72,
   "metadata": {},
   "outputs": [],
   "source": [
    "# function for predicting the location X, Y with manhattan distance\n",
    "predXYManhattan <- function(newSignals, newAngles, trainData, \n",
    "                  numAngles = 1, k = 3){\n",
    "  \n",
    "  closeXY <- list(length = nrow(newSignals))\n",
    "  \n",
    "  for (i in 1:nrow(newSignals)) {\n",
    "    trainSS <- selectTrain(newAngles[i], trainData, m = numAngles)\n",
    "    closeXY[[i]] <-findNNManhattan(newSignal = as.numeric(newSignals[i, ]), trainSS)\n",
    "  }\n",
    "\n",
    "  estXY <- lapply(closeXY, \n",
    "                 function(x) sapply(x[ , 2:3], \n",
    "                                    function(x) mean(x[1:k])))\n",
    "  estXY <- do.call(\"rbind\", estXY)\n",
    "  return(estXY)\n",
    "}"
   ]
  },
  {
   "cell_type": "code",
   "execution_count": 73,
   "metadata": {},
   "outputs": [],
   "source": [
    "# we need to put the ncol back to 6\n",
    "reshapeSS <- function(data, varSignal = \"signal\", \n",
    "                     keepVars = c(\"posXY\", \"posX\",\"posY\"),\n",
    "                     sampleAngle = FALSE, \n",
    "                     refs = seq(0, 315, by = 45)) {\n",
    "  byLocation <-\n",
    "    with(data, by(data, list(posXY), \n",
    "                  function(x) {\n",
    "                    if (sampleAngle) {\n",
    "                      x <- x[x$angle == sample(refs, size = 1), ]}\n",
    "                    ans <- x[1, keepVars]\n",
    "                    avgSS <- tapply(x[ , varSignal ], x$mac, mean)\n",
    "                    y <- matrix(avgSS, nrow = 1, ncol = 6,\n",
    "                               dimnames = list(ans$posXY,\n",
    "                                               names(avgSS)))\n",
    "                    cbind(ans, y)\n",
    "                  }))\n",
    "\n",
    "  newDataSS <- do.call(\"rbind\", byLocation)\n",
    "  return(newDataSS)\n",
    "}"
   ]
  },
  {
   "cell_type": "code",
   "execution_count": 74,
   "metadata": {},
   "outputs": [
    {
     "name": "stderr",
     "output_type": "stream",
     "text": [
      "Warning message in matrix(permuteLocs, ncol = folds, nrow = floor(length(permuteLocs)/folds)):\n",
      "\"data length [166] is not a sub-multiple or multiple of the number of rows [15]\"IOPub data rate exceeded.\n",
      "The notebook server will temporarily stop sending output\n",
      "to the client in order to avoid crashing it.\n",
      "To change this limit, set the config variable\n",
      "`--NotebookApp.iopub_data_rate_limit`.\n",
      "\n",
      "Current values:\n",
      "NotebookApp.iopub_data_rate_limit=1000000.0 (bytes/sec)\n",
      "NotebookApp.rate_limit_window=3.0 (secs)\n",
      "\n"
     ]
    },
    {
     "name": "stdout",
     "output_type": "stream",
     "text": [
      "sleeping: 600.1 sec elapsed\n"
     ]
    }
   ],
   "source": [
    "tic(\"sleeping\")\n",
    "knnResultsManhattan <- crossValidation(offline, offlineSummary, K=20, distance=\"manhattan\")\n",
    "toc()"
   ]
  },
  {
   "cell_type": "code",
   "execution_count": 75,
   "metadata": {},
   "outputs": [
    {
     "name": "stdout",
     "output_type": "stream",
     "text": [
      "[1] \"Results when use Manhattan distance\"\n",
      "[1] \"Mean Square Error:  11470.9881656805   K Min:  13\"\n"
     ]
    }
   ],
   "source": [
    "print(\"Results when use Manhattan distance\")\n",
    "print(paste(\"Mean Square Error: \",knnResultsManhattan[1],\"  K Min: \",knnResultsManhattan[2]))"
   ]
  },
  {
   "cell_type": "markdown",
   "metadata": {},
   "source": [
    "### Alternative Solution"
   ]
  },
  {
   "cell_type": "markdown",
   "metadata": {},
   "source": [
    "- Q4. While k-nearest neighbors have proven to be a good approach to determining location, alternate approaches have been proposed.  \n",
    "\n",
    "    One simple alternative approach is to use weights on the received signal strength, where the weight is inversely proportional to the “distance” from the test observation.  This allows for the “nearest” points to have a greater contribution to the k-nearest neighbor location calculation than the points that are “further” away.  \n",
    "\n",
    "\n",
    "- Q5. Implement this alternative prediction method.  \n",
    "\n",
    "In the case study, the simple and intuitive non parametric machine learning technique k-Nearest Neighbor (or kNN) algorithm was used to predict the new locations. kNN is based on the premise that new observations will be compared to known locations of known data points/observations. To explain further where k=1, the location of the new observations (signal strengths by a new device in an unknown location) is assigned or estimated by finding the observation/location in our training dataset with the closest signal strength. The position of the new device is predicted by aggregating the locations of the k-points with the closest signal strength in our training data set.\n",
    "\n",
    "We need to reiterate that Clustering is quite subjective, and the number of neighbors being assigned will directly affect the performance of the algorithm. That is the reason why the numbers of neighbors in a kNN model is so important and should be adjusted to either improve underfitting or reduce overfitting.\n",
    "\n",
    "So far we have determined that using the k-NN algorithm with the mean squared error as the performance evaluation metric, removing 00:0f:a3:39:e1:c0 will yield the best accurate prediction of location since this method grants the lowest mean square error. \n",
    "\n",
    "So, while k-nearest neighbors has proven to be a good approach to determining location of new devices, alternate approaches have been proposed. One simple alternative approach is to use weights weighted k-NN algorithm. In the weighted k-NN algorithm all the k-nearest neighbors which are particularly close to the new observation (y, x), should get a\n",
    "higher weight in the decision than such neighbors that are far away from (y, x)[2] (https://epub.ub.uni-muenchen.de/1769/1/paper_399.pdf). For our case study this means that we need to use weights on the received signal strength, where the weight is inversely proportional to the “distance” from the test observation. This allows for the “nearest” points to have a greater contribution to the k-nearest neighbor location calculation than the points that are “further” away. According to the authors Nolan and Lang, the following computation maybe used for assigning weights to each k nearest neighbor:\n",
    "\n",
    "<img src=\"WKNN.png\" style=\"height:100px\" />\n",
    "\n",
    "                                                Equation 1: Euclidean Distance\n",
    "\n",
    "In the above formula “di” is the distance from the new point to the nearest k-neighbor in terms of signal strength.\n",
    "\n",
    "We implement this alternative prediction method by modifying the findNN  function to calculate the distance from the test data to all of the training data and get the top 3 nearest k-neighbors. Further, the predXY function is modified as well to calculate the wights for te k-nearest neighbors. The weights array are multiplied by matrix of x,y to get the weighted values. Running the weighted k-NN it is observed that K Min = 6 produces the optimal results with a MSE of 1015.18 \n",
    "\n",
    "\n",
    "\n",
    "- Q6. For what range of values of weights are you able to obtain better prediction values than for the unweighted k-nearest neighbor approach? \n",
    "\n",
    "    Use calcError() to compare this approach to the simple average."
   ]
  },
  {
   "cell_type": "code",
   "execution_count": 76,
   "metadata": {},
   "outputs": [],
   "source": [
    "# function to calculate the distance from the test data to all of the training data and get the top 3 nearest.\n",
    "findNNWeighted <- function(newSignal, trainSubset) {\n",
    "  diffs <- apply(trainSubset[ , 4:9], 1, \n",
    "                function(x) x - newSignal)\n",
    "  dists <- apply(diffs, 2, function(x) sqrt(sum(x^2)) )\n",
    "  closest <- order(dists)\n",
    "  weight <- as.numeric(1/dists[closest])\n",
    "  closeXY <- trainSubset[closest, 1:3 ]\n",
    "  return(cbind(closeXY,weight))\n",
    "}\n"
   ]
  },
  {
   "cell_type": "code",
   "execution_count": 77,
   "metadata": {},
   "outputs": [],
   "source": [
    "# function to get the estimate location \n",
    "predXYWeighted <- function(newSignals, newAngles, trainData, \n",
    "                  numAngles = 1, k = 3){\n",
    "  \n",
    "  closeXY <- list(length = nrow(newSignals))\n",
    "  \n",
    "  for (i in 1:nrow(newSignals)) {\n",
    "    trainSS <- selectTrain(newAngles[i], trainData, m = numAngles)\n",
    "    base <- findNNWeighted(newSignal = as.numeric(newSignals[i, ]), trainSS)\n",
    "    weights <- append(base[1:k, 4]/sum(base[1:k, 4]), rep(0, nrow(base)-k)) \n",
    "    base[, 2:3] = base[, 2:3]*weights # multiply weights array * matrix of x,y to get weighted vals\n",
    "    closeXY[[i]] = base[,1:3] # append weighted xy, x, y values to list\n",
    "  }\n",
    "\n",
    "  estXY <- lapply(closeXY, \n",
    "                 function(x) sapply(x[ , 2:3], \n",
    "                                    function(x) sum(x)))\n",
    "  estXY <- do.call(\"rbind\", estXY)\n",
    "  return(estXY)\n",
    "}"
   ]
  },
  {
   "cell_type": "code",
   "execution_count": 78,
   "metadata": {},
   "outputs": [
    {
     "name": "stderr",
     "output_type": "stream",
     "text": [
      "Warning message in matrix(permuteLocs, ncol = folds, nrow = floor(length(permuteLocs)/folds)):\n",
      "\"data length [166] is not a sub-multiple or multiple of the number of rows [15]\""
     ]
    },
    {
     "name": "stdout",
     "output_type": "stream",
     "text": [
      "sleeping: 227.52 sec elapsed\n"
     ]
    }
   ],
   "source": [
    "tic(\"sleeping\")\n",
    "knnResultsWeighted <- crossValidation(offline, offlineSummary, K=20, Weighted=TRUE)\n",
    "toc()\n"
   ]
  },
  {
   "cell_type": "code",
   "execution_count": 79,
   "metadata": {},
   "outputs": [
    {
     "name": "stdout",
     "output_type": "stream",
     "text": [
      "[1] \"Results when use weighted the distance\"\n",
      "[1] \"Mean Square Error:  1015.18690797938   K Min:  6\"\n"
     ]
    }
   ],
   "source": [
    "print(\"Results when use weighted the distance\")\n",
    "print(paste(\"Mean Square Error: \",knnResultsWeighted[1],\"  K Min: \",knnResultsWeighted[2]))"
   ]
  },
  {
   "cell_type": "markdown",
   "metadata": {},
   "source": [
    "####  Model Comparison Results"
   ]
  },
  {
   "cell_type": "code",
   "execution_count": 80,
   "metadata": {},
   "outputs": [
    {
     "name": "stdout",
     "output_type": "stream",
     "text": [
      "[1] \"Regular KNN without 00:0f:a3:39:dd:cd error:  1038.5  K Min:  6\"\n",
      "[1] \"Regular KNN without 00:0f:a3:39:e1:c0 error:  935.611111111111  K Min:  6\"\n",
      "[1] \"Regular KNN when keep both error:  1100  K Min:  4\"\n",
      "[1] \"Regular KNN using Manhattan Distance error:  11470.9881656805  K Min:  13\"\n",
      "[1] \"Weighted KNN error: 1015.18690797938  K Min:  6\"\n"
     ]
    }
   ],
   "source": [
    "# Regular without 00:0f:a3:39:dd:cd knn error\n",
    "print(paste(\"Regular KNN without 00:0f:a3:39:dd:cd error: \",knnResultsCd[1],\" K Min: \",knnResultsCd[2]))\n",
    "# Regular knn when without 00:0f:a3:39:dd:cd\n",
    "print(paste(\"Regular KNN without 00:0f:a3:39:e1:c0 error: \",knnResultsC0[1],\" K Min: \",knnResultsC0[2]))\n",
    "# Regular knn when keep both\n",
    "print(paste(\"Regular KNN when keep both error: \",knnResultsBoth[1],\" K Min: \",knnResultsBoth[2]))\n",
    "# Regular knn using Manhattan Distance error\n",
    "print(paste(\"Regular KNN using Manhattan Distance error: \",knnResultsManhattan[1],\" K Min: \",knnResultsManhattan[2]))\n",
    "# weighted knn error\n",
    "print(paste(\"Weighted KNN error:\",knnResultsWeighted[1],\" K Min: \",knnResultsWeighted[2]))"
   ]
  },
  {
   "cell_type": "code",
   "execution_count": 81,
   "metadata": {},
   "outputs": [
    {
     "data": {},
     "metadata": {},
     "output_type": "display_data"
    },
    {
     "data": {
      "image/png": "[encoded data removed]",
      "text/plain": [
       "plot without title"
      ]
     },
     "metadata": {},
     "output_type": "display_data"
    }
   ],
   "source": [
    "\n",
    "\n",
    "k = 20\n",
    "ggplot()+\n",
    "  geom_line(mapping=aes(x=seq(1,20,1), y=knnResultsCd[[3]], color=\"Without 00:0f:a3:39:dd:cd\"), linetype=\"solid\", show.legend = TRUE)+\n",
    "  geom_line(mapping=aes(x=seq(1,20,1), y=knnResultsC0[[3]], color=\"Without 00:0f:a3:39:e1:c0\"), linetype=\"dashed\", show.legend = TRUE)+\n",
    "  geom_line(mapping=aes(x=seq(1,20,1), y=knnResultsBoth[[3]], color=\"With Both MACs\"), linetype=\"dotted\", show.legend = TRUE)+\n",
    "  #geom_line(mapping=aes(x=seq(1,20,1), y=knnResultsManhattan[[3]], color=\"KNN using Manhattan Distance\"), linetype=\"dotdash\", show.legend = TRUE)+\n",
    "  geom_line(mapping=aes(x=seq(1,20,1), y=knnResultsWeighted[[3]], color=\"MSE of Weighted KNN\"), linetype=\"longdash\", show.legend = TRUE)+\n",
    "  ggtitle('Figure 15. Learning Curve given K (20)')+\n",
    "  labs(y=\"error\")\n"
   ]
  },
  {
   "cell_type": "markdown",
   "metadata": {},
   "source": [
    "### Conclusion"
   ]
  },
  {
   "attachments": {
    "image.png": {
     "image/png": "[encoded data removed]"
    }
   },
   "cell_type": "markdown",
   "metadata": {},
   "source": [
    "Looking at the table below, when we compare the MSE values, weighted KNN is very minimally better at predicting with an MSE of 1015.18 compared to the Regular KNN without 00:0f:a3:39:dd:cd with an MSE of 1038.5.\n",
    "\n",
    "![image.png](attachment:image.png)\n",
    "\n",
    "\n",
    "The Manhattan distance is based on absolute value distance, as opposed to mean squared error. In other words the distance between two points is the sum of the (absolute) differences of their coordinates [2] (add to refs http://www.ieee.ma/uaesb/pdf/distances-in-classification.pdf). \n",
    "\n",
    "<img src=\"Manhattan.png\" style=\"height:100px\"/>\n",
    "\n",
    "                                            Equation 2: Manhattan Distance\n",
    "\n",
    "\n",
    "Conclusively, K-NN algorithm can predict the location of the handheld devices accurately. However, there could be other possible variables that might influence the signal strength of the devices ranging from manufacturer, position, hindrance, and disturbance from other objects. Apart from data collection by industry to enhance their business capabilities, RTLS system may also improve our lives by giving us ability to navigate and save time to consumer goods."
   ]
  },
  {
   "cell_type": "markdown",
   "metadata": {},
   "source": [
    "### Reference\n"
   ]
  },
  {
   "cell_type": "markdown",
   "metadata": {},
   "source": [
    "1. Nolan, D., Temple Lang, D. DATA SCIENCE IN R: a Case Studies Approach to Computational Reasoning and Problem Solving. CRC PRESS, 2017.\n",
    "2. Source code: http://rdatasciencecases.org/code.html\n",
    "3. Dataset: http://rdatasciencecases.org/Data.html\n",
    "4. R plot anotation. https://stat.ethz.ch/R-manual/R-devel/RHOME/library/graphics/html/title.html\n",
    "5. Schliep, H. (2004). Weighted K-Nearest -Neighbor Techniques and Ordinal Classification. Accessed from https://epub.ub.uni-muenchen.de/1769/1/paper_399.pdf\n",
    "6. Cafe Scientifique. (IEEE, UAE). Distance In Classification. Accessed from http://www.ieee.ma/uaesb/pdf/distances-in-classification.pdf\n"
   ]
  },
  {
   "cell_type": "code",
   "execution_count": null,
   "metadata": {},
   "outputs": [],
   "source": []
  }
 ],
 "metadata": {
  "kernelspec": {
   "display_name": "R",
   "language": "R",
   "name": "ir"
  },
  "language_info": {
   "codemirror_mode": "r",
   "file_extension": ".r",
   "mimetype": "text/x-r-source",
   "name": "R",
   "pygments_lexer": "r",
   "version": "3.5.1"
  }
 },
 "nbformat": 4,
 "nbformat_minor": 2
}
