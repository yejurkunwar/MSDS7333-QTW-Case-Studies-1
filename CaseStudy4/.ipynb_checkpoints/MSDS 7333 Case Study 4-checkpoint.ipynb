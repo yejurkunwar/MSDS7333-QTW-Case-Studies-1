{
 "cells": [
  {
   "cell_type": "code",
   "execution_count": 9,
   "metadata": {},
   "outputs": [
    {
     "name": "stdout",
     "output_type": "stream",
     "text": [
      "package 'XML' successfully unpacked and MD5 sums checked\n",
      "\n",
      "The downloaded binary packages are in\n",
      "\tC:\\Users\\yubin\\AppData\\Local\\Temp\\RtmpmcNR5H\\downloaded_packages\n"
     ]
    }
   ],
   "source": [
    "#install.packages('XML', repos=\"http://cran.us.r-project.org\")\n",
    "#install.packages('tictoc', repos='http://cran.us.r-project.org')"
   ]
  },
  {
   "cell_type": "code",
   "execution_count": 11,
   "metadata": {},
   "outputs": [],
   "source": [
    "library(XML)"
   ]
  },
  {
   "cell_type": "code",
   "execution_count": 12,
   "metadata": {},
   "outputs": [],
   "source": [
    "ubase = \"http://www.cherryblossom.org/\"\n",
    "url = paste(ubase, \"results/2012/2012cucb10m-m.htm\", sep = \"\")\n",
    "doc = htmlParse(url)"
   ]
  },
  {
   "cell_type": "code",
   "execution_count": 19,
   "metadata": {},
   "outputs": [],
   "source": [
    "menURLs = \n",
    "  c(\"results/1999/cb99m.html\", \"results/2000/cb003m.htm\", \"results/2001/oof_m.html\",\n",
    "    \"results/2002/oofm.htm\", \"results/2003/CB03-M.HTM\",\n",
    "    \"results/2004/men.htm\", \"results/2005/CB05-M.htm\", \n",
    "    \"results/2006/men.htm\", \"results/2007/men.htm\", \n",
    "    \"results/2008/men.htm\", \"results/2009/09cucb-M.htm\",\n",
    "    \"results/2010/2010cucb10m-m.htm\", \n",
    "    \"results/2011/2011cucb10m-m.htm\",\n",
    "    \"results/2012/2012cucb10m-m.htm\")\n",
    "\n",
    "urls = paste(ubase, menURLs, sep = \"\")"
   ]
  },
  {
   "cell_type": "code",
   "execution_count": 24,
   "metadata": {},
   "outputs": [],
   "source": [
    "extractResTable =\n",
    "  #\n",
    "  # Retrieve data from web site, \n",
    "  # find the preformatted text,\n",
    "  # and write lines or return as a character vector.\n",
    "  #\n",
    "  function(url = \"http://www.cherryblossom.org/results/2009/09cucb-F.htm\",\n",
    "           year = 1999, sex = \"male\", file = NULL)\n",
    "  {\n",
    "    doc = htmlParse(url)\n",
    "\n",
    "    if (year == 2000) {\n",
    "      # Get preformatted text from 4th font element\n",
    "      # The top file is ill formed so the <pre> search doesn't work.\n",
    "      ff = getNodeSet(doc, \"//font\")\n",
    "      txt = xmlValue(ff[[4]])\n",
    "      els = strsplit(txt, \"\\r\\n\")[[1]]\n",
    "    }\n",
    "    else if (year == 1999) {\n",
    "      # Get preformatted text from 4th font element\n",
    "      pres = getNodeSet(doc, \"//pre\")\n",
    "      txt = xmlValue(pres[[1]])\n",
    "      els = strsplit(txt, \"\\n\")[[1]] \n",
    "    }\n",
    "    else if (year == 2009 & sex == \"male\") {\n",
    "      # Get preformatted text from <div class=\"Section1\"> element\n",
    "      # Each line of results is in a <pre> element\n",
    "      div1 = getNodeSet(doc, \"//div[@class='Section1']\")\n",
    "      pres = getNodeSet(div1[[1]], \"//pre\")\n",
    "      els = sapply(pres, xmlValue)\n",
    "    }\n",
    "    else {\n",
    "      # Get preformatted text from <pre> elements\n",
    "      pres = getNodeSet(doc, \"//pre\")\n",
    "      txt = xmlValue(pres[[1]])\n",
    "      els = strsplit(txt, \"\\r\\n\")[[1]]   \n",
    "    } \n",
    "    \n",
    "    if (is.null(file)) return(els)\n",
    "    # Write the lines as a text file.\n",
    "    writeLines(els, con = file)\n",
    "  }\n"
   ]
  },
  {
   "cell_type": "code",
   "execution_count": 25,
   "metadata": {},
   "outputs": [
    {
     "data": {
      "text/html": [
       "<dl class=dl-horizontal>\n",
       "\t<dt>1999</dt>\n",
       "\t\t<dd>3193</dd>\n",
       "\t<dt>2000</dt>\n",
       "\t\t<dd>3019</dd>\n",
       "\t<dt>2001</dt>\n",
       "\t\t<dd>3627</dd>\n",
       "\t<dt>2002</dt>\n",
       "\t\t<dd>3727</dd>\n",
       "\t<dt>2003</dt>\n",
       "\t\t<dd>3951</dd>\n",
       "\t<dt>2004</dt>\n",
       "\t\t<dd>4164</dd>\n",
       "\t<dt>2005</dt>\n",
       "\t\t<dd>4335</dd>\n",
       "\t<dt>2006</dt>\n",
       "\t\t<dd>5245</dd>\n",
       "\t<dt>2007</dt>\n",
       "\t\t<dd>5283</dd>\n",
       "\t<dt>2008</dt>\n",
       "\t\t<dd>5913</dd>\n",
       "\t<dt>2009</dt>\n",
       "\t\t<dd>6659</dd>\n",
       "\t<dt>2010</dt>\n",
       "\t\t<dd>6919</dd>\n",
       "\t<dt>2011</dt>\n",
       "\t\t<dd>7019</dd>\n",
       "\t<dt>2012</dt>\n",
       "\t\t<dd>7201</dd>\n",
       "</dl>\n"
      ],
      "text/latex": [
       "\\begin{description*}\n",
       "\\item[1999] 3193\n",
       "\\item[2000] 3019\n",
       "\\item[2001] 3627\n",
       "\\item[2002] 3727\n",
       "\\item[2003] 3951\n",
       "\\item[2004] 4164\n",
       "\\item[2005] 4335\n",
       "\\item[2006] 5245\n",
       "\\item[2007] 5283\n",
       "\\item[2008] 5913\n",
       "\\item[2009] 6659\n",
       "\\item[2010] 6919\n",
       "\\item[2011] 7019\n",
       "\\item[2012] 7201\n",
       "\\end{description*}\n"
      ],
      "text/markdown": [
       "1999\n",
       ":   31932000\n",
       ":   30192001\n",
       ":   36272002\n",
       ":   37272003\n",
       ":   39512004\n",
       ":   41642005\n",
       ":   43352006\n",
       ":   52452007\n",
       ":   52832008\n",
       ":   59132009\n",
       ":   66592010\n",
       ":   69192011\n",
       ":   70192012\n",
       ":   7201\n",
       "\n"
      ],
      "text/plain": [
       "1999 2000 2001 2002 2003 2004 2005 2006 2007 2008 2009 2010 2011 2012 \n",
       "3193 3019 3627 3727 3951 4164 4335 5245 5283 5913 6659 6919 7019 7201 "
      ]
     },
     "metadata": {},
     "output_type": "display_data"
    }
   ],
   "source": [
    "\n",
    "years = 1999:2012\n",
    "menTables = mapply(extractResTable, url = urls, year = years)\n",
    "names(menTables) = years\n",
    "sapply(menTables, length)\n"
   ]
  },
  {
   "cell_type": "code",
   "execution_count": null,
   "metadata": {},
   "outputs": [],
   "source": []
  }
 ],
 "metadata": {
  "kernelspec": {
   "display_name": "R",
   "language": "R",
   "name": "ir"
  },
  "language_info": {
   "codemirror_mode": "r",
   "file_extension": ".r",
   "mimetype": "text/x-r-source",
   "name": "R",
   "pygments_lexer": "r",
   "version": "3.5.1"
  }
 },
 "nbformat": 4,
 "nbformat_minor": 2
}
