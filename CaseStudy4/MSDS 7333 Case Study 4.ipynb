{
 "cells": [
  {
   "cell_type": "markdown",
   "metadata": {},
   "source": [
    "<h1><center> Web Scraping and Modeling Runners' Times in the Cherry Blossom Race </center></h1>\n",
    "<h3><center> Bin Yu, Nuoya Rezsonya, Yejur Singh Kunwar, Iram Bakhtiar</center></h3>"
   ]
  },
  {
   "cell_type": "markdown",
   "metadata": {},
   "source": [
    "# Deliverables -TO BE DELETED LATER\n",
    "\n",
    "#### FROM 2DS POST\n",
    "- Choose one of the following problems from the back of the chapter 2 : 7, 10, 11, or 17. Write a report on your analysis, including introduction, background, methods, results, and conclusions/discussions. Note that the focus of this study is getting the data into the correct format. The analysis section is going to be relatively simple from a statistical standpoint—graphics, descriptive statistics, etc., to answer the question from the problem that you chose.\n",
    "\n",
    "## Problem to Solve\n",
    "\n",
    "\n",
    "\n",
    "Q11. Normalize each male runner's time by the fastest time for the runner of the same age. To do this, find the fastest runner for each year of age from 20 to 80. The tapply() function may be helpful here. Smooth these times using loess() , and find the smoothed time using predict() . Use these smoothed times to normalize each run time. Use density plots, quantile-quantile plots, and summary statistics to compare the distribution of the age-normalized times for the runners in 1999 and 2012. What do you find? Repeat the process for the women. Compare the women in 1999 to the women in 2012 and to the men in 1999 and 2012.\n",
    "\n"
   ]
  },
  {
   "cell_type": "markdown",
   "metadata": {},
   "source": [
    "## Abstract"
   ]
  },
  {
   "cell_type": "markdown",
   "metadata": {},
   "source": [
    "### Introduction\n",
    "\n",
    "In this Data Era, there are potentials in analyzing data and bringing insights to a problem we have interests in. For instance, to find out whether there is a relationship between physical performance and aging and what the relationship is, road races data can be the data we could do analysis on. This kind of data is collected by the race organizers and it is at individual level. Data is often published on the Web. We can bring some insights to the question we have interests in. \n",
    "\n",
    "Cherry Blossom Ten Mile Run is one of the annual race held in Washington D.C. early April which the cherry blossom is blooming around this time. This race run started in 1973 as a training run for runners planning to compete in Boston Marathon. Its participants range from age 9 to 89. The organizer publish the results at http://www.cherryblossom.org/. The data published provides a very helpful resource including name, sex, hometown and final time of participants for us to learn the relationship between physical performance and aging.\n",
    "\n",
    "The original analysis was provided by the book of Daniel Kaplan and Deborah Nolan in the Data Science in R: A Case Studies Approach to Computational Reasoning and Problem Solving. The data has been already web-scraped and it has results from all years from 1999 to 2012. The data is divided by genders meaning MenTxt for men and WomenTxt for women. \n",
    "\n",
    "To answer the above questions, we are using the data for each gender. \n",
    "\n",
    "Resources: Daniel Kaplan and Deborah Nolan in the Data Science in R: A Case Studies Approach to Computational Reasoning and Problem Solving"
   ]
  },
  {
   "cell_type": "markdown",
   "metadata": {},
   "source": [
    "## Background"
   ]
  },
  {
   "cell_type": "markdown",
   "metadata": {},
   "source": [
    "## Methods\n",
    "\n",
    "### Data Import and Exploration\n",
    "\n",
    "Based on the initial data import in the book of Daniel Kaplan and Deborah Nolan in the Data Science in R: A Case Studies Approach to Computational Reasoning and Problem Solving, this process can be challenging due to the data format changing over time. Let us start off reading the raw file by using readLines() function."
   ]
  },
  {
   "cell_type": "markdown",
   "metadata": {},
   "source": [
    "## Results"
   ]
  },
  {
   "cell_type": "markdown",
   "metadata": {},
   "source": [
    "## Conclusion"
   ]
  },
  {
   "cell_type": "markdown",
   "metadata": {},
   "source": [
    "## CODE PORTION"
   ]
  },
  {
   "cell_type": "code",
   "execution_count": null,
   "metadata": {
    "scrolled": true
   },
   "outputs": [],
   "source": [
    "#install.packages('XML', repos=\"http://cran.us.r-project.org\")\n",
    "# install.packages('tictoc', repos='http://cran.us.r-project.org')\n",
    "# install.packages('XML', dependencies=TRUE, repos='http://cran.rstudio.com/')"
   ]
  },
  {
   "cell_type": "code",
   "execution_count": 1,
   "metadata": {},
   "outputs": [
    {
     "data": {
      "text/html": [
       "<ol class=list-inline>\n",
       "\t<li>'brewer.pal'</li>\n",
       "\t<li>'brewer.pal.info'</li>\n",
       "\t<li>'display.brewer.all'</li>\n",
       "\t<li>'display.brewer.pal'</li>\n",
       "</ol>\n"
      ],
      "text/latex": [
       "\\begin{enumerate*}\n",
       "\\item 'brewer.pal'\n",
       "\\item 'brewer.pal.info'\n",
       "\\item 'display.brewer.all'\n",
       "\\item 'display.brewer.pal'\n",
       "\\end{enumerate*}\n"
      ],
      "text/markdown": [
       "1. 'brewer.pal'\n",
       "2. 'brewer.pal.info'\n",
       "3. 'display.brewer.all'\n",
       "4. 'display.brewer.pal'\n",
       "\n",
       "\n"
      ],
      "text/plain": [
       "[1] \"brewer.pal\"         \"brewer.pal.info\"    \"display.brewer.all\"\n",
       "[4] \"display.brewer.pal\""
      ]
     },
     "metadata": {},
     "output_type": "display_data"
    }
   ],
   "source": [
    "library(\"XML\")\n",
    "library(RColorBrewer)\n",
    "ls(\"package:RColorBrewer\")"
   ]
  },
  {
   "cell_type": "markdown",
   "metadata": {},
   "source": [
    "### Extract files from Web Site"
   ]
  },
  {
   "cell_type": "code",
   "execution_count": 2,
   "metadata": {},
   "outputs": [],
   "source": [
    "# root path of the web site\n",
    "ubase = \"http://www.cherryblossom.org/\"\n",
    "years = 1999:2012\n",
    "\n",
    "womenURLs = \n",
    "  c(\"results/1999/cb99f.html\", \"results/2000/cb003f.htm\", \"results/2001/oof_f.html\",\n",
    "    \"results/2002/ooff.htm\", \"results/2003/CB03-F.HTM\",\n",
    "    \"results/2004/women.htm\", \"results/2005/CB05-F.htm\", \n",
    "    \"results/2006/women.htm\", \"results/2007/women.htm\", \n",
    "    \"results/2008/women.htm\", \"results/2009/09cucb-F.htm\",\n",
    "    \"results/2010/2010cucb10m-f.htm\", \n",
    "    \"results/2011/2011cucb10m-f.htm\",\n",
    "    \"results/2012/2012cucb10m-f.htm\")\n",
    "menURLs = \n",
    "  c(\"results/1999/cb99m.html\", \"results/2000/cb003m.htm\", \"results/2001/oof_m.html\",\n",
    "    \"results/2002/oofm.htm\", \"results/2003/CB03-M.HTM\",\n",
    "    \"results/2004/men.htm\", \"results/2005/CB05-M.htm\", \n",
    "    \"results/2006/men.htm\", \"results/2007/men.htm\", \n",
    "    \"results/2008/men.htm\", \"results/2009/09cucb-M.htm\",\n",
    "    \"results/2010/2010cucb10m-m.htm\", \n",
    "    \"results/2011/2011cucb10m-m.htm\",\n",
    "    \"results/2012/2012cucb10m-m.htm\")"
   ]
  },
  {
   "cell_type": "code",
   "execution_count": 3,
   "metadata": {},
   "outputs": [],
   "source": [
    "extractResTable =\n",
    "  #\n",
    "  # Retrieve data from web site, \n",
    "  # find the preformatted text,\n",
    "  # and write lines or return as a character vector.\n",
    "  #\n",
    "  function(url = \"http://www.cherryblossom.org/results/2009/09cucb-F.htm\",\n",
    "           year = 1999, sex = \"male\", file = NULL)\n",
    "  {\n",
    "    doc = htmlParse(url, encoding = \"UTF-8\")\n",
    "\n",
    "    if (year == 2000) {\n",
    "      # Get preformatted text from 4th font element\n",
    "      # The top file is ill formed so the <pre> search doesn't work.\n",
    "      ff = getNodeSet(doc, \"//font\")\n",
    "      txt = xmlValue(ff[[4]])\n",
    "      els = strsplit(txt, \"\\r\\n\")[[1]]\n",
    "    }\n",
    "    else if (year == 1999 & sex == \"male\") {\n",
    "      # Get preformatted text from 4th font element\n",
    "      pres = getNodeSet(doc, \"//pre\")\n",
    "      txt = xmlValue(pres[[1]])\n",
    "      els = strsplit(txt, \"\\n\")[[1]] \n",
    "    }\n",
    "    else if (year == 2009 & sex == \"male\") {\n",
    "      # Get preformatted text from <div class=\"Section1\"> element\n",
    "      # Each line of results is in a <pre> element\n",
    "      div1 = getNodeSet(doc, \"//div[@class='Section1']\")\n",
    "      pres = getNodeSet(div1[[1]], \"//pre\")\n",
    "      els = sapply(pres, xmlValue)\n",
    "    }\n",
    "    else {\n",
    "      # Get preformatted text from <pre> elements\n",
    "      pres = getNodeSet(doc, \"//pre\")\n",
    "      txt = xmlValue(pres[[1]])\n",
    "      els = strsplit(txt, \"\\r\\n\")[[1]]   \n",
    "    } \n",
    "    \n",
    "    if (is.null(file)) return(els)\n",
    "    # Write the lines as a text file.\n",
    "    writeLines(els, con = file)\n",
    "  }\n",
    "\n"
   ]
  },
  {
   "cell_type": "code",
   "execution_count": 4,
   "metadata": {},
   "outputs": [],
   "source": [
    "extractPath_men = './MenTxt/'\n",
    "menfiles = paste(extractPath_men, years,'.txt' ,sep = \"\")\n",
    "#files\n",
    "# generate url for men\n",
    "urls = paste(ubase, menURLs, sep = \"\")\n"
   ]
  },
  {
   "cell_type": "code",
   "execution_count": 5,
   "metadata": {},
   "outputs": [],
   "source": [
    "# extract files into folder for men\n",
    "menTables = mapply(extractResTable, url = urls, year = years,  file = menfiles)\n",
    "# names(menTables) = years\n",
    "# sapply(menTables, length)\n",
    "# save(menTables, file = \"CBMenTextTables.rda\")"
   ]
  },
  {
   "cell_type": "markdown",
   "metadata": {},
   "source": [
    "* extract women files"
   ]
  },
  {
   "cell_type": "code",
   "execution_count": 6,
   "metadata": {},
   "outputs": [],
   "source": [
    "# generate url for men\n",
    "extractPath_women = './WomenTxt/'\n",
    "womenfiles = paste(extractPath_women, years,'.txt' ,sep = \"\")\n",
    "urls = paste(ubase, womenURLs, sep = \"\")\n",
    "# extract files into folder for men\n",
    "womenTables = mapply(extractResTable, url = urls, year = years, sex= 'female', file = womenfiles)"
   ]
  },
  {
   "cell_type": "markdown",
   "metadata": {},
   "source": [
    "### Data Import and Cleanup"
   ]
  },
  {
   "cell_type": "code",
   "execution_count": 17,
   "metadata": {},
   "outputs": [],
   "source": [
    "# function to import text files\n",
    "extractVariables = \n",
    "  function(file, varNames =c(\"name\", \"home\", \"ag\", \"gun\",\n",
    "                             \"net\", \"time\"))\n",
    "{\n",
    "       # Find the index of the row with =s\n",
    "  eqIndex = grep(\"^===\", file)\n",
    "       # Extract the two key rows and the data\n",
    "  spacerRow = file[eqIndex] \n",
    "  headerRow = tolower(file[ eqIndex - 1 ])\n",
    "  body = file[ -(1 : eqIndex) ]\n",
    "  \n",
    "     # Remove footnotes and blank rows\n",
    "  footnotes = grep(\"^[[:blank:]]*(\\\\*|\\\\#)\", body)\n",
    "  if ( length(footnotes) > 0 ) body = body[ -footnotes ]\n",
    "  blanks = grep(\"^[[:blank:]]*$\", body)\n",
    "  if (length(blanks) > 0 ) body = body[ -blanks ]\n",
    "      \n",
    "       # Obtain the starting and ending positions of variables\n",
    "  searchLocs = findColLocs(spacerRow)\n",
    "  locCols = selectCols(varNames, headerRow, searchLocs)\n",
    "\n",
    "  Values = mapply(substr, list(body), start = locCols[1, ], \n",
    "                  stop = locCols[2, ])\n",
    "  colnames(Values) = varNames\n",
    "  \n",
    "  invisible(Values)\n",
    "}"
   ]
  },
  {
   "cell_type": "code",
   "execution_count": 18,
   "metadata": {},
   "outputs": [],
   "source": [
    "# function to find column location\n",
    "findColLocs = function(spacerRow) {\n",
    "\n",
    "  spaceLocs = gregexpr(\" \", spacerRow)[[1]]\n",
    "  rowLength = nchar(spacerRow)\n",
    "\n",
    "  if (substring(spacerRow, rowLength, rowLength) != \" \")\n",
    "    return( c(0, spaceLocs, rowLength + 1))\n",
    "  else return(c(0, spaceLocs))\n",
    "}"
   ]
  },
  {
   "cell_type": "code",
   "execution_count": 19,
   "metadata": {},
   "outputs": [],
   "source": [
    "# function to select clolumns\n",
    "selectCols = \n",
    "function(colNames, headerRow, searchLocs) \n",
    "{\n",
    "  sapply(colNames, \n",
    "         function(name, headerRow, searchLocs)\n",
    "         {\n",
    "           startPos = regexpr(name, headerRow)[[1]]\n",
    "           if (startPos == -1) \n",
    "             return( c(NA, NA) )\n",
    "    \n",
    "           index = sum(startPos >= searchLocs)\n",
    "           c(searchLocs[index] + 1, searchLocs[index + 1] - 1)\n",
    "         },\n",
    "         headerRow = headerRow, searchLocs = searchLocs )\n",
    "}\n"
   ]
  },
  {
   "cell_type": "code",
   "execution_count": 20,
   "metadata": {},
   "outputs": [
    {
     "name": "stderr",
     "output_type": "stream",
     "text": [
      "Warning message in grep(\"^===\", file):\n",
      "“input string 2398 is invalid in this locale”"
     ]
    },
    {
     "ename": "ERROR",
     "evalue": "Error in (function (x, start, stop) : invalid multibyte string at '<fc><be><8c><96><88><bc>a           27 Washington DC        42:21  8:29   52:26  8:27 1:24:02  8:25 '\n",
     "output_type": "error",
     "traceback": [
      "Error in (function (x, start, stop) : invalid multibyte string at '<fc><be><8c><96><88><bc>a           27 Washington DC        42:21  8:29   52:26  8:27 1:24:02  8:25 '\nTraceback:\n",
      "1. lapply(menFiles, extractVariables)",
      "2. FUN(X[[i]], ...)",
      "3. mapply(substr, list(body), start = locCols[1, ], stop = locCols[2, \n .     ])   # at line 23-24 of file <text>",
      "4. (function (x, start, stop) \n . {\n .     if (!is.character(x)) \n .         x <- as.character(x)\n .     .Internal(substr(x, as.integer(start), as.integer(stop)))\n . })(dots[[1L]][[1L]], start = dots[[2L]][[1L]], stop = dots[[3L]][[1L]])"
     ]
    }
   ],
   "source": [
    "# call extractVariables function to get \n",
    "mfilenames = paste(\"MenTxt/\", 1999:2012, \".txt\", sep = \"\")\n",
    "menFiles = lapply(mfilenames, readLines)\n",
    "names(menFiles) = 1999:2012\n",
    "\n",
    "menResMat = lapply(menFiles, extractVariables)\n",
    "length(menResMat)\n",
    "sapply(menResMat, nrow)"
   ]
  },
  {
   "cell_type": "markdown",
   "metadata": {},
   "source": [
    "### 2001.txt are missing header, copied from men 2001.txt, we need to see how to fix it programtically. -Bin"
   ]
  },
  {
   "cell_type": "code",
   "execution_count": null,
   "metadata": {},
   "outputs": [],
   "source": [
    "# call extractVariables function to get \n",
    "wmfilenames = paste(\"./WomenTxt/\", 1999:2012, \".txt\", sep = \"\")\n",
    "womenFiles = lapply(wmfilenames, readLines)\n",
    "names(womenFiles) = 1999:2012\n",
    "\n",
    "womenResMat = lapply(womenFiles, extractVariables)\n",
    "length(womenResMat)\n",
    "sapply(womenResMat, nrow)"
   ]
  },
  {
   "cell_type": "code",
   "execution_count": null,
   "metadata": {},
   "outputs": [],
   "source": [
    "# age distribution\n",
    "age = sapply(menResMat,\n",
    "             function(x) as.numeric(x[ , 'ag']))\n",
    "\n",
    "#pdf(\"CB_BoxplotAgeByYr.pdf\", width = 8, height = 5)\n",
    "oldPar = par(mar = c(4.1, 4.1, 1, 1))\n",
    "\n",
    "boxplot(age, ylab = \"Age\", xlab = \"Year\")\n",
    "\n",
    "par(oldPar)\n",
    "#dev.off()"
   ]
  },
  {
   "cell_type": "code",
   "execution_count": null,
   "metadata": {},
   "outputs": [],
   "source": [
    "# age distribution\n",
    "womenage = sapply(womenResMat,\n",
    "             function(x) as.numeric(x[ , 'ag']))\n",
    "\n",
    "#pdf(\"CB_BoxplotAgeByYr.pdf\", width = 8, height = 5)\n",
    "oldPar = par(mar = c(4.1, 4.1, 1, 1))\n",
    "\n",
    "boxplot(age, ylab = \"Age\", xlab = \"Year\")\n",
    "\n",
    "par(oldPar)\n",
    "#dev.off()"
   ]
  },
  {
   "cell_type": "code",
   "execution_count": null,
   "metadata": {},
   "outputs": [],
   "source": [
    "# find back age indexes\n",
    "sapply(age,  function(x) sum(is.na(x)))"
   ]
  },
  {
   "cell_type": "code",
   "execution_count": null,
   "metadata": {},
   "outputs": [],
   "source": [
    "# find back age indexes\n",
    "sapply(womenage,  function(x) sum(is.na(x)))"
   ]
  },
  {
   "cell_type": "markdown",
   "metadata": {},
   "source": [
    "## will remove these na later on"
   ]
  },
  {
   "cell_type": "code",
   "execution_count": null,
   "metadata": {},
   "outputs": [],
   "source": [
    "# function to convert the times\n",
    "convertTime = function(time) {\n",
    "  timePieces = strsplit(time, \":\")\n",
    "  timePieces = sapply(timePieces, as.numeric)\n",
    "  sapply(timePieces, function(x) {\n",
    "                      if (length(x) == 2) x[1] + x[2]/60\n",
    "                      else 60*x[1] + x[2] + x[3]/60\n",
    "                      })\n",
    "}\n"
   ]
  },
  {
   "cell_type": "code",
   "execution_count": null,
   "metadata": {},
   "outputs": [],
   "source": [
    "# function to create dataframe\n",
    "createDF = \n",
    "function(Res, year, sex) \n",
    "{\n",
    "       # Determine which time to use\n",
    "  useTime = if( !is.na(Res[1, 'net']) )  \n",
    "              Res[ , 'net']\n",
    "            else if( !is.na(Res[1, 'gun']) ) \n",
    "               Res[ , 'gun']\n",
    "            else \n",
    "               Res[ , 'time']\n",
    "\n",
    "  # Remove # and * and blanks from time\n",
    "  useTime = gsub(\"[#\\\\*[:blank:]]\", \"\", useTime)\n",
    "  runTime = convertTime(useTime[ useTime != \"\" ])\n",
    "  \n",
    "  # Drop rows with no time\n",
    "  Res = Res[ useTime != \"\", ]\n",
    "  \n",
    "  Results = data.frame(year = rep(year, nrow(Res)),\n",
    "                       sex = rep(sex, nrow(Res)),\n",
    "                       name = Res[ , 'name'],\n",
    "                       home = Res[ , 'home'],\n",
    "                       age = as.numeric(Res[, 'ag']), \n",
    "                       runTime = runTime,\n",
    "                       stringsAsFactors = FALSE)\n",
    "  invisible(Results)\n",
    "}"
   ]
  },
  {
   "cell_type": "code",
   "execution_count": null,
   "metadata": {},
   "outputs": [],
   "source": [
    "# fix 2006 NA\n",
    "separatorIdx = grep(\"^===\", menFiles[[\"2006\"]])\n",
    "separatorRow = menFiles[['2006']][separatorIdx]\n",
    "separatorRowX = paste(substring(separatorRow, 1, 63), \" \", \n",
    "                      substring(separatorRow, 65, nchar(separatorRow)), \n",
    "                      sep = \"\")\n",
    "menFiles[['2006']][separatorIdx] = separatorRowX\n",
    "menResMat = sapply(menFiles, extractVariables)"
   ]
  },
  {
   "cell_type": "code",
   "execution_count": null,
   "metadata": {},
   "outputs": [],
   "source": [
    "# fix 2006 NA\n",
    "separatorIdx = grep(\"^===\", menFiles[[\"2007\"]])\n",
    "separatorRow = menFiles[['2007']][separatorIdx]\n",
    "separatorRow\n",
    "separatorRowX = paste(substring(separatorRow, 1, 63), \" \", \n",
    "                      substring(separatorRow, 65, nchar(separatorRow)), \n",
    "                      sep = \"\")\n",
    "menFiles[['2007']][separatorIdx] = separatorRowX\n",
    "menResMat = sapply(menFiles, extractVariables)"
   ]
  },
  {
   "cell_type": "code",
   "execution_count": null,
   "metadata": {},
   "outputs": [],
   "source": [
    "# call createDF function for Men\n",
    "menDF = mapply(createDF, menResMat, year = 1999:2012,\n",
    "               sex = rep(\"M\", 14), SIMPLIFY = FALSE)\n",
    "sapply(menDF, function(x) sum(is.na(x$runTime)))"
   ]
  },
  {
   "cell_type": "code",
   "execution_count": null,
   "metadata": {},
   "outputs": [],
   "source": [
    "# call createDF function for women\n",
    "womenDF = mapply(createDF, womenResMat, year = 1999:2012,\n",
    "               sex = rep(\"F\", 14), SIMPLIFY = FALSE)\n",
    "sapply(womenDF, function(x) sum(is.na(x$runTime)))"
   ]
  },
  {
   "cell_type": "code",
   "execution_count": null,
   "metadata": {},
   "outputs": [],
   "source": [
    "#pdf(\"CB_BoxplotTimeByYr.pdf\", width = 8, height = 5)\n",
    "boxplot(sapply(menDF, function(x) x$runTime), \n",
    "        xlab = \"Year\", ylab = \"Run Time (min)\")\n",
    "#dev.off()"
   ]
  },
  {
   "cell_type": "code",
   "execution_count": null,
   "metadata": {},
   "outputs": [],
   "source": [
    "#pdf(\"CB_BoxplotTimeByYr.pdf\", width = 8, height = 5)\n",
    "boxplot(sapply(womenDF, function(x) x$runTime), \n",
    "        xlab = \"Year\", ylab = \"Run Time (min)\")\n",
    "#dev.off()"
   ]
  },
  {
   "cell_type": "code",
   "execution_count": null,
   "metadata": {},
   "outputs": [],
   "source": [
    "cbMen = do.call(rbind, menDF)\n",
    "save(cbMen, file = \"cbMen.rda\")\n",
    "\n",
    "dim(cbMen)"
   ]
  },
  {
   "cell_type": "code",
   "execution_count": null,
   "metadata": {},
   "outputs": [],
   "source": [
    "cbWomen = do.call(rbind, womenDF)\n",
    "save(cbWomen, file = \"cbWomen.rda\")\n",
    "\n",
    "dim(cbWomen)"
   ]
  },
  {
   "cell_type": "code",
   "execution_count": null,
   "metadata": {},
   "outputs": [],
   "source": [
    "load(\"cbMen.rda\")"
   ]
  },
  {
   "cell_type": "code",
   "execution_count": null,
   "metadata": {},
   "outputs": [],
   "source": [
    "load(\"cbWomen.rda\")"
   ]
  },
  {
   "cell_type": "code",
   "execution_count": null,
   "metadata": {},
   "outputs": [],
   "source": [
    "#pdf(\"CB_Overplot.pdf\", width = 8, height = 6)\n",
    "oldPar = par(mar = c(4.1, 4.1, 1, 1))\n",
    "\n",
    "plot(runTime ~ age, data = cbMen, ylim = c(40, 180),\n",
    "     xlab = \"Age (years)\", ylab = \"Run Time (minutes)\")\n",
    "\n",
    "par(oldPar)\n",
    "#dev.off()"
   ]
  },
  {
   "cell_type": "code",
   "execution_count": null,
   "metadata": {},
   "outputs": [],
   "source": [
    "#pdf(\"CB_Overplot.pdf\", width = 8, height = 6)\n",
    "oldPar = par(mar = c(4.1, 4.1, 1, 1))\n",
    "\n",
    "plot(runTime ~ age, data = cbWomen, ylim = c(40, 180),\n",
    "     xlab = \"Age (years)\", ylab = \"Run Time (minutes)\")\n",
    "\n",
    "par(oldPar)\n",
    "#dev.off()"
   ]
  },
  {
   "cell_type": "code",
   "execution_count": null,
   "metadata": {},
   "outputs": [],
   "source": [
    "\n",
    "\n",
    "display.brewer.all()\n",
    "\n",
    "Purples8 = brewer.pal(9, \"Purples\")[8]\n",
    "Purples8\n",
    "\n",
    "Purples8A = paste(Purples8, \"14\", sep = \"\")\n",
    "\n",
    "#pdf(\"CB_OverplotTransparent.pdf\", width = 8, height = 6)\n",
    "oldPar = par(mar = c(4.1, 4.1, 1, 1))\n",
    "plot(runTime ~ jitter(age, amount = 0.5), \n",
    "     data = cbMen, \n",
    "     pch = 19,cex = 0.2, col = Purples8A,\n",
    "     ylim = c(45, 165), xlim = c(15, 85),\n",
    "     xlab = \"Age (years)\", ylab = \"Run Time (minutes)\")\n",
    "par(oldPar)\n",
    "#dev.off()\n",
    "\n"
   ]
  },
  {
   "cell_type": "code",
   "execution_count": null,
   "metadata": {},
   "outputs": [],
   "source": [
    "display.brewer.all()\n",
    "\n",
    "Purples8 = brewer.pal(9, \"Purples\")[8]\n",
    "Purples8\n",
    "\n",
    "Purples8A = paste(Purples8, \"14\", sep = \"\")\n",
    "\n",
    "#pdf(\"CB_OverplotTransparent.pdf\", width = 8, height = 6)\n",
    "oldPar = par(mar = c(4.1, 4.1, 1, 1))\n",
    "plot(runTime ~ jitter(age, amount = 0.5), \n",
    "     data = cbWomen, \n",
    "     pch = 19,cex = 0.2, col = Purples8A,\n",
    "     ylim = c(45, 165), xlim = c(15, 85),\n",
    "     xlab = \"Age (years)\", ylab = \"Run Time (minutes)\")\n",
    "par(oldPar)\n",
    "#dev.off()\n"
   ]
  },
  {
   "cell_type": "code",
   "execution_count": null,
   "metadata": {},
   "outputs": [],
   "source": [
    "#pdf(\"CB_SmoothScatter.pdf\", width = 8, height = 6)\n",
    "oldPar = par(mar = c(4.1, 4.1, 1, 1))\n",
    "\n",
    "smoothScatter(y = cbMen$runTime, x = cbMen$age,\n",
    "              ylim = c(40, 165), xlim = c(15, 85),\n",
    "              xlab = \"Age (years)\", ylab = \"Run Time (minutes)\")\n",
    "\n",
    "par(oldPar)\n",
    "#dev.off()"
   ]
  },
  {
   "cell_type": "code",
   "execution_count": null,
   "metadata": {},
   "outputs": [],
   "source": [
    "#pdf(\"CB_SmoothScatter.pdf\", width = 8, height = 6)\n",
    "oldPar = par(mar = c(4.1, 4.1, 1, 1))\n",
    "\n",
    "smoothScatter(y = cbWomen$runTime, x = cbWomen$age,\n",
    "              ylim = c(40, 165), xlim = c(15, 85),\n",
    "              xlab = \"Age (years)\", ylab = \"Run Time (minutes)\")\n",
    "\n",
    "par(oldPar)\n",
    "#dev.off()"
   ]
  },
  {
   "cell_type": "code",
   "execution_count": null,
   "metadata": {},
   "outputs": [],
   "source": [
    "\n",
    "cbMenSub = cbMen[cbMen$runTime > 30 &\n",
    "                 !is.na(cbMen$age) & cbMen$age > 15, ]\n",
    "\n",
    "ageCat = cut(cbMenSub$age, breaks = c(seq(15, 75, 10), 90))\n",
    "table(ageCat)\n",
    "\n",
    "#pdf(\"CB_Boxplots.pdf\", width = 8, height = 6)\n",
    "oldPar = par(mar = c(4.1, 4.1, 1, 1))\n",
    "\n",
    "plot(cbMenSub$runTime ~ ageCat, \n",
    "     xlab = \"Age (years)\", ylab = \"Run Time (minutes)\")\n",
    "\n",
    "par(oldPar)\n",
    "#dev.off()"
   ]
  },
  {
   "cell_type": "code",
   "execution_count": null,
   "metadata": {},
   "outputs": [],
   "source": [
    "summary(cbWomenSub)"
   ]
  },
  {
   "cell_type": "markdown",
   "metadata": {},
   "source": [
    "### need to fix this error -Bin"
   ]
  },
  {
   "cell_type": "code",
   "execution_count": null,
   "metadata": {},
   "outputs": [],
   "source": [
    "cbWomenSub = cbWomen[cbWomen$runTime > 30 &\n",
    "                 !is.na(cbWomen$age) & cbWomen$age > 15, ]\n",
    "\n",
    "ageCat = cut(cbMenSub$age, breaks = c(seq(15, 75, 10), 90))\n",
    "table(ageCat)\n",
    "\n",
    "#pdf(\"CB_Boxplots.pdf\", width = 8, height = 6)\n",
    "oldPar = par(mar = c(4.1, 4.1, 1, 1))\n",
    "\n",
    "plot(cbWomenSub$runTime ~ ageCat, \n",
    "     xlab = \"Age (years)\", ylab = \"Run Time (minutes)\")\n",
    "\n",
    "par(oldPar)\n",
    "#dev.off()"
   ]
  },
  {
   "cell_type": "code",
   "execution_count": null,
   "metadata": {},
   "outputs": [],
   "source": [
    "lmAge = lm(runTime ~ age, data = cbMenSub)\n",
    "\n",
    "lmAge$coefficients\n",
    "\n",
    "summary(lmAge)\n",
    "\n",
    "class(lmAge)"
   ]
  },
  {
   "cell_type": "code",
   "execution_count": null,
   "metadata": {},
   "outputs": [],
   "source": [
    "lmWomenAge = lm(runTime ~ age, data = cbWomenSub)\n",
    "\n",
    "lmWomenAge$coefficients\n",
    "\n",
    "summary(lmWomenAge)\n",
    "\n",
    "class(lmWomenAge)"
   ]
  },
  {
   "cell_type": "markdown",
   "metadata": {},
   "source": [
    "* only choose 20 to 80 years old"
   ]
  },
  {
   "cell_type": "code",
   "execution_count": null,
   "metadata": {},
   "outputs": [],
   "source": [
    "age20to80 = 20:80"
   ]
  },
  {
   "cell_type": "code",
   "execution_count": null,
   "metadata": {},
   "outputs": [],
   "source": [
    "smoothScatter(x = cbMenSub$age, y = lmAge$residuals,\n",
    "              xlab = \"Age (years)\", ylab = \"Residuals\")"
   ]
  },
  {
   "cell_type": "code",
   "execution_count": null,
   "metadata": {},
   "outputs": [],
   "source": [
    "length(lmAge$residuals)"
   ]
  },
  {
   "cell_type": "code",
   "execution_count": null,
   "metadata": {},
   "outputs": [],
   "source": [
    "length(cbMenSub$age)"
   ]
  },
  {
   "cell_type": "code",
   "execution_count": null,
   "metadata": {},
   "outputs": [],
   "source": [
    "smoothScatter(x = cbWomenSub$age, y = lmWomenAge$residuals,\n",
    "              xlab = \"Age (years)\", ylab = \"Residuals\")"
   ]
  },
  {
   "cell_type": "code",
   "execution_count": null,
   "metadata": {},
   "outputs": [],
   "source": [
    "#pdf(\"CB_ResidSimpleLM.pdf\", width = 8, height = 6)\n",
    "oldPar = par(mar = c(4.1, 4.1, 1, 1))\n",
    "\n",
    "smoothScatter(x = cbMenSub$age, y = lmAge$residuals,\n",
    "              xlab = \"Age (years)\", ylab = \"Residuals\")\n",
    "abline(h = 0, col = \"purple\", lwd = 3)\n",
    " \n",
    "resid.lo = loess(resids ~ age, \n",
    "                 data = data.frame(resids = residuals(lmAge),\n",
    "                                   age = cbMenSub$age))\n",
    "\n",
    "resid.lo.pr = \n",
    "  predict(resid.lo, newdata = data.frame(age = age20to80))\n",
    "\n",
    "lines(x = age20to80, y = resid.lo.pr, col = \"green\", lwd = 2)\n",
    "par(oldPar)\n",
    "#dev.off()"
   ]
  },
  {
   "cell_type": "code",
   "execution_count": null,
   "metadata": {},
   "outputs": [],
   "source": [
    "menRes.lo = loess(runTime ~ age, cbMenSub)\n",
    "\n",
    "menRes.lo.pr = predict(menRes.lo, data.frame(age = age20to80))\n",
    "\n",
    "over50 = pmax(0, cbMenSub$age - 50)\n",
    "\n",
    "lmOver50 = lm(runTime ~ age + over50, data = cbMenSub)\n",
    "\n",
    "summary(lmOver50)"
   ]
  },
  {
   "cell_type": "code",
   "execution_count": null,
   "metadata": {},
   "outputs": [],
   "source": [
    "\n",
    "decades = seq(30, 60, by = 10)\n",
    "overAge = lapply(decades, \n",
    "                 function(x) pmax(0, (cbMenSub$age - x)))\n",
    "names(overAge) = paste(\"over\", decades, sep = \"\")\n",
    "overAge = as.data.frame(overAge)\n",
    "tail(overAge)\n",
    "\n",
    "lmPiecewise = lm(runTime ~ . , \n",
    "                 data = cbind(cbMenSub[, c(\"runTime\", \"age\")], \n",
    "                              overAge))\n",
    "\n",
    "summary(lmPiecewise)"
   ]
  },
  {
   "cell_type": "code",
   "execution_count": null,
   "metadata": {},
   "outputs": [],
   "source": [
    "overAge20 = lapply(decades, function(x) pmax(0, (age20to80 - x)))\n",
    "names(overAge20) = paste(\"over\", decades, sep = \"\")\n",
    "overAgeDF = cbind(age = data.frame(age = age20to80), overAge20)\n",
    "\n",
    "tail(overAgeDF)"
   ]
  },
  {
   "cell_type": "code",
   "execution_count": null,
   "metadata": {},
   "outputs": [],
   "source": [
    "predPiecewise = predict(lmPiecewise, overAgeDF)\n",
    "\n",
    "plot(predPiecewise ~ age20to80,\n",
    "     type = \"l\", col = \"purple\", lwd = 3,\n",
    "     xlab = \"Age (years)\", ylab = \"Run Time Prediction\")\n",
    "\n",
    "lines(x = age20to80, y = menRes.lo.pr, \n",
    "      col = \"green\", lty = 2, lwd = 3)\n",
    "legend(\"topleft\", col = c(\"purple\", \"green\"),\n",
    "       lty = c(1, 2), lwd= 3,\n",
    "       legend = c(\"Piecewise Linear\", \"Loess Curve\"), bty = \"n\")\n"
   ]
  },
  {
   "cell_type": "code",
   "execution_count": null,
   "metadata": {},
   "outputs": [],
   "source": [
    "\n",
    "#pdf(\"CB_PiecewiseLoessCurves.pdf\", width = 8, height = 6)\n",
    "plot(predPiecewise ~ age20to80,\n",
    "     type = \"l\", col = \"#984ea3\", lwd = 3,\n",
    "  #   type = \"l\", col = \"purple\", lwd = 2,\n",
    "     xlab = \"Age (years)\", ylab = \"Run Time Prediction\")\n",
    "\n",
    "lines(x = age20to80, y = menRes.lo.pr, col = \"#4daf4a\", lwd = 3, lty = 2)\n",
    "legend(\"topleft\", col = c(\"#984ea3\", \"#4daf4a\"), lty = c(1, 2), lwd = 3,\n",
    "       legend = c(\"Piecewise Linear\", \"Loess Curve\"), bty = \"n\")\n",
    "\n",
    "#lines(x = age20to80, y = menRes.lo.pr, col = \"green\", lwd = 2)\n",
    "#legend(\"topleft\", col = c(\"purple\", \"green\"), lty = 1, lwd = 2,\n",
    "#       legend = c(\"Piecewise Linear\", \"Loess Curve\"), bty = \"n\")\n",
    "#dev.off()"
   ]
  },
  {
   "cell_type": "code",
   "execution_count": null,
   "metadata": {},
   "outputs": [],
   "source": [
    "#pdf(\"CB_NumRunnersLinePlot.pdf\", width = 8, height = 6)\n",
    "oldPar = par(mar = c(4.1, 4.1, 1, 1))\n",
    "\n",
    "numRunners = with(cbMen, tapply(runTime, year, length))\n",
    "plot(numRunners ~ names(numRunners), type=\"l\", lwd = 2,\n",
    "     xlab = \"Years\", ylab = \"Number of Runners\")\n",
    "par(oldPar)\n",
    "#dev.off()"
   ]
  },
  {
   "cell_type": "code",
   "execution_count": null,
   "metadata": {},
   "outputs": [],
   "source": [
    "summary(cbMenSub$runTime[cbMenSub$year == 1999])\n",
    "\n",
    "summary(cbMenSub$runTime[cbMenSub$year == 2012])"
   ]
  },
  {
   "cell_type": "code",
   "execution_count": null,
   "metadata": {},
   "outputs": [],
   "source": [
    "#pdf(\"CB_AgeDensity99vs12.pdf\", width = 8, height = 6)\n",
    "oldPar = par(mar = c(4.1, 4.1, 1, 1))\n",
    "\n",
    "age1999 = cbMenSub[ cbMenSub$year == 1999, \"age\" ]\n",
    "age2012 = cbMenSub[ cbMenSub$year == 2012, \"age\" ]\n",
    "\n",
    "plot(density(age1999, na.rm = TRUE), \n",
    "     ylim = c(0, 0.05), col = \"purple\",\n",
    "     lwd = 3,  xlab = \"Age (years)\",  main = \"\")\n",
    "lines(density(age2012, na.rm = TRUE), \n",
    "      lwd = 3, lty = 2, col=\"green\")\n",
    "legend(\"topleft\", col = c(\"purple\", \"green\"), lty= 1:2, lwd = 3,\n",
    "       legend = c(\"1999\", \"2012\"), bty = \"n\")\n",
    "\n",
    "par(oldPar)\n",
    "#dev.off()"
   ]
  },
  {
   "cell_type": "code",
   "execution_count": null,
   "metadata": {},
   "outputs": [],
   "source": [
    "qqplot(age1999, age2012, pch = 19, cex = 0.5, \n",
    "       ylim = c(10,90), xlim = c(10,90), \n",
    "       xlab = \"Age in 1999 Race\",\n",
    "       ylab = \"Age in 2012 Race\", \n",
    "       main = \"Quantile-quantile plot of male runner's age\")\n",
    "abline(a =0, b = 1, col=\"red\", lwd = 2)\n",
    "\n",
    "mR.lo99 = loess(runTime ~ age, cbMenSub[ cbMenSub$year == 1999,])\n",
    "mR.lo.pr99 = predict(mR.lo99, data.frame(age = age20to80))\n",
    "\n",
    "mR.lo12 = loess(runTime ~ age, cbMenSub[ cbMenSub$year == 2012,])\n",
    "mR.lo.pr12 = predict(mR.lo12, data.frame(age = age20to80))"
   ]
  },
  {
   "cell_type": "code",
   "execution_count": null,
   "metadata": {},
   "outputs": [],
   "source": [
    "\n",
    "\n",
    "\n",
    "plot(mR.lo.pr99 ~ age20to80,\n",
    "     type = \"l\", col = \"purple\", lwd = 3,\n",
    "     xlab = \"Age (years)\", ylab = \"Fitted Run Time (minutes)\")\n",
    "   \n",
    "lines(x = age20to80, y = mR.lo.pr12,\n",
    "      col = \"green\", lty = 2, lwd = 3)\n",
    " \n",
    "legend(\"topleft\", col = c(\"purple\", \"green\"), lty = 1:2, lwd = 3,\n",
    "       legend = c(\"1999\", \"2012\"), bty = \"n\")\n"
   ]
  },
  {
   "cell_type": "code",
   "execution_count": null,
   "metadata": {},
   "outputs": [],
   "source": [
    "gap14 = mR.lo.pr12 - mR.lo.pr99\n",
    "\n",
    "#pdf(\"CB_DifferenceInFittedCurves.pdf\", width = 8, height = 6)\n",
    "oldPar = par(mar = c(4.1, 4.1, 1, 1))\n",
    "\n",
    "plot(gap14 ~ age20to80, type = \"l\" , xlab = \"Age (years)\", \n",
    "     ylab = \"Difference in Fitted Curves (minutes)\", lwd = 2)\n",
    "par(oldPar)\n",
    "#dev.off()"
   ]
  },
  {
   "cell_type": "code",
   "execution_count": null,
   "metadata": {},
   "outputs": [],
   "source": [
    "length(cbMenSub$runTime)"
   ]
  },
  {
   "cell_type": "code",
   "execution_count": null,
   "metadata": {},
   "outputs": [],
   "source": [
    "fastestMan = tapply(cbMenSub$runTime, cbMenSub$age, min, na.rm = TRUE)\n",
    "plot(fastestMan ~ names(fastestMan), type =\"l\", xlim = c(20, 80))\n",
    "ageFM = as.numeric(names(fastestMan))\n",
    "mR.loF = loess(fastestMan ~ ageFM)\n",
    "mR.lo.prF = predict(mR.loF, data.frame(age = ageFM), se = FALSE)\n",
    "lines(x = ageFM, y = mR.lo.prF, col = \"purple\", lwd = 2)\n",
    "\n",
    "timeNorm = cbMenSub$runTime / mR.lo.prF[as.character(cbMenSub$age)]\n",
    "time99Norm = timeNorm[cbMenSub$year == 1999]\n",
    "time12Norm = timeNorm[cbMenSub$year == 2012]\n",
    "summary(time99Norm)\n",
    "\n",
    "summary(time12Norm)"
   ]
  },
  {
   "cell_type": "code",
   "execution_count": null,
   "metadata": {},
   "outputs": [],
   "source": [
    "\n",
    "plot(density(100*time99Norm, na.rm = TRUE), \n",
    "    # ylim = c(0, 0.05), \n",
    "     col = \"purple\",\n",
    "     lwd = 3,  xlab = \"Time (percentage)\",\n",
    "     main = \"Time Distribution for 1999 and 2012 Runners\\n Percentage of the fastest runner for that age\")\n",
    "lines(density(100*time12Norm, na.rm = TRUE), \n",
    "          lwd = 3, col = \"green\")\n",
    "legend(\"topleft\", fill = c(\"purple\", \"green\"),\n",
    "       legend = c(\"1999\", \"2012\"), bty = \"n\")\n"
   ]
  },
  {
   "cell_type": "code",
   "execution_count": null,
   "metadata": {},
   "outputs": [],
   "source": [
    "\n",
    "trimBlanks = function(charVector) {\n",
    "  nameClean = gsub(\"^[[:blank:]]+\", \"\", charVector)\n",
    "  nameClean = gsub(\"[[:blank:]]+$\", \"\", nameClean)\n",
    "  nameClean = gsub(\"[[:blank:]]+\", \" \", nameClean)\n",
    "}\n",
    "\n",
    "nameClean = trimBlanks(cbMenSub$name)\n",
    "\n",
    "length(nameClean)\n",
    "\n",
    "length(unique(nameClean))\n",
    "\n",
    "table(table(nameClean))\n",
    "\n",
    "head( sort(table(nameClean), decreasing = TRUE), 1)\n",
    "\n",
    "mSmith = cbMenSub[nameClean == \"Michael Smith\", ]\n",
    "\n",
    "head(unique(mSmith$home))\n",
    "\n",
    "nameClean = tolower(nameClean)\n",
    "\n",
    "head( sort(table(nameClean), decreasing = TRUE), 1)\n",
    "\n",
    "nameClean = gsub(\"[,.]\", \"\", nameClean)\n",
    "\n",
    "tabNameYr = table(cbMenSub$year, nameClean)\n",
    "\n",
    "max(tabNameYr)\n",
    "\n",
    "class(tabNameYr)\n",
    "\n",
    "mode(tabNameYr)\n",
    "\n",
    "names(attributes(tabNameYr))\n",
    "\n",
    "dim(tabNameYr)\n",
    "\n",
    "head(colnames(tabNameYr), 3)\n",
    "\n",
    "which( tabNameYr == max(tabNameYr) )\n",
    "\n",
    "which( tabNameYr == max(tabNameYr), arr.ind = TRUE )\n",
    "\n",
    "indMax = which( tabNameYr == max(tabNameYr), arr.ind = TRUE )\n",
    "colnames(tabNameYr)[indMax[2]]\n",
    "\n",
    "cbMenSub$nameClean = nameClean\n",
    "\n",
    "cbMenSub$yob = cbMenSub$year - cbMenSub$age"
   ]
  },
  {
   "cell_type": "code",
   "execution_count": null,
   "metadata": {},
   "outputs": [],
   "source": [
    "\n",
    "# Fix home in a similar way\n",
    "homeClean = trimBlanks(tolower(cbMenSub$home))\n",
    "cbMenSub$homeClean = gsub(\"[,.]\", \"\", homeClean)\n",
    "\n",
    "vars = c(\"year\", \"homeClean\", \"nameClean\", \"yob\",  \"runTime\")\n",
    "mb = which(nameClean == \"michael brown\")\n",
    "birthOrder = order(cbMenSub$yob[mb])\n",
    "cbMenSub[mb[birthOrder], vars]\n",
    "\n",
    "cbMenSub$ID = paste(nameClean, cbMenSub$yob, sep = \"_\")"
   ]
  },
  {
   "cell_type": "code",
   "execution_count": null,
   "metadata": {},
   "outputs": [],
   "source": [
    "\n",
    "races = tapply(cbMenSub$year, cbMenSub$ID, length)\n",
    "\n",
    "races8 = names(races)[which(races >= 8)]\n",
    "\n",
    "men8 = cbMenSub[ cbMenSub$ID %in% races8, ]\n",
    "\n",
    "orderByRunner = order(men8$ID, men8$year)\n",
    "men8 = men8[orderByRunner, ]\n",
    "\n",
    "men8L = split(men8, men8$ID)\n",
    "names(men8L) = races8\n",
    "\n",
    "length(unique(men8$ID))\n",
    "\n",
    "gapTime = tapply(men8$runTime, men8$ID,\n",
    "                 function(t) any(abs(diff(t)) > 20))\n",
    "\n",
    "gapTime = sapply(men8L, function(df) \n",
    "                          any(abs(diff(df$runTime)) > 20))\n",
    "\n",
    "sum(gapTime)"
   ]
  },
  {
   "cell_type": "code",
   "execution_count": null,
   "metadata": {},
   "outputs": [],
   "source": [
    "\n",
    "lapply(men8L[ gapTime ][1:2], function(df) df[, vars])\n",
    "\n",
    "homeLen = nchar(cbMenSub$homeClean)\n",
    "\n",
    "cbMenSub$state = substr(cbMenSub$homeClean, \n",
    "                        start = homeLen - 1, stop = homeLen)\n",
    "\n",
    "cbMenSub$state[cbMenSub$year == 2006] = NA\n",
    "\n",
    "cbMenSub$ID = paste(cbMenSub$nameClean, cbMenSub$yob, \n",
    "                    cbMenSub$state, sep = \"_\")\n",
    "\n",
    "numRaces = tapply(cbMenSub$year, cbMenSub$ID, length)\n",
    "races8 = names(numRaces)[which(numRaces >= 8)]\n",
    "men8 = cbMenSub[ cbMenSub$ID %in% races8, ]\n",
    "orderByRunner = order(men8$ID, men8$year)\n",
    "men8 = men8[orderByRunner, ]\n",
    "\n",
    "men8L = split(men8, men8$ID)\n",
    "names(men8L) = races8\n",
    "\n",
    "length(races8)"
   ]
  },
  {
   "cell_type": "code",
   "execution_count": null,
   "metadata": {},
   "outputs": [],
   "source": [
    "\n",
    "groups = 1 + (1:length(men8L) %% 9)"
   ]
  },
  {
   "cell_type": "code",
   "execution_count": null,
   "metadata": {},
   "outputs": [],
   "source": [
    "\n",
    "addRunners = function(listRunners, colors, numLty) \n",
    "{\n",
    "  numRunners = length(listRunners)\n",
    "  colIndx = 1 + (1:numRunners) %% length(colors)\n",
    "  ltys = rep(1:numLty, each = length(colors), length = numRunners)\n",
    "\n",
    "  mapply(function(df, i) {      \n",
    "           lines(df$runTime ~ df$age, \n",
    "           col = colors[colIndx[i]], lwd = 2, lty = ltys[i])\n",
    "         }, listRunners, i = 1:numRunners) \n",
    "}\n"
   ]
  },
  {
   "cell_type": "code",
   "execution_count": null,
   "metadata": {},
   "outputs": [],
   "source": []
  },
  {
   "cell_type": "code",
   "execution_count": null,
   "metadata": {},
   "outputs": [],
   "source": [
    "\n",
    "fitOne = function(oneRunner, addLine = FALSE, col = \"grey\") {\n",
    "  lmOne = lm(runTime ~ age, data = oneRunner)\n",
    "  if (addLine) \n",
    "    lines(x = oneRunner$age, y = predict(lmOne), \n",
    "          col = col, lwd = 2, lty = 2)\n",
    "\n",
    "  ind = floor( (nrow(oneRunner) + 1) / 2)\n",
    "  res = c(coefficients(lmOne)[2], oneRunner$age[ind],\n",
    "          predict(lmOne)[ind])\n",
    "  names(res) = c(\"ageCoeff\", \"medAge\", \"predRunTime\")\n",
    "  return(res)\n",
    "}"
   ]
  },
  {
   "cell_type": "code",
   "execution_count": null,
   "metadata": {},
   "outputs": [],
   "source": [
    "colors = c(\"#e41a1c\", \"#377eb8\",\"#4daf4a\", \"#984ea3\", \n",
    "           \"#ff7f00\", \"#a65628\")\n",
    "\n",
    "par(mfrow = c(1, 1), mar = c(5, 4, 1, 1))\n",
    "\n",
    "plot( x = 0, y = 0, type = \"n\",\n",
    "      xlim = c(20, 80), ylim = c(50, 130),\n",
    "      xlab = \"Age (years)\", ylab = \"Run Time (minutes)\")\n",
    "     \n",
    "addRunners(men8L[ groups == 9 ], colors, numLty = 6)\n",
    "lapply(men8L[groups == 9], fitOne, addLine = TRUE, col = \"black\")"
   ]
  },
  {
   "cell_type": "code",
   "execution_count": null,
   "metadata": {},
   "outputs": [],
   "source": [
    "men8LongFit = lapply(men8L, fitOne)\n",
    "coeffs = sapply(men8LongFit, \"[\", \"ageCoeff\" )\n",
    "ages = sapply(men8LongFit, \"[\", \"medAge\")\n",
    "\n",
    "longCoeffs = lm(coeffs ~ ages)\n",
    "\n",
    "summary(longCoeffs)"
   ]
  },
  {
   "cell_type": "code",
   "execution_count": null,
   "metadata": {},
   "outputs": [],
   "source": [
    "\n",
    "#pdf(\"CB_LongCoeffs.pdf\", width = 10, height = 7)\n",
    "oldPar = par(mar = c(4.1, 4.1, 1, 1))\n",
    "plot(coeffs ~ ages, xlab = \"Median Age (years)\",\n",
    "     ylab = \"Coefficient (minutes per race / year)\")\n",
    "abline(longCoeffs, col = \"#984ea3\", lwd = 3)\n",
    "abline(h = 0, col=\"blue\", lwd = 3)\n",
    "loCoeffs = loess(coeffs ~ ages)\n",
    "ageV = min(ages):max(ages)\n",
    "predV = predict(loCoeffs, new = data.frame(ages = ageV))\n",
    "lines(x = ageV, y = predV, lwd = 3, lty = 2, col = \"#4daf4a\")\n",
    "par(oldPar)\n",
    "#dev.off()"
   ]
  },
  {
   "cell_type": "code",
   "execution_count": null,
   "metadata": {},
   "outputs": [],
   "source": []
  }
 ],
 "metadata": {
  "kernelspec": {
   "display_name": "R",
   "language": "R",
   "name": "ir"
  },
  "language_info": {
   "codemirror_mode": "r",
   "file_extension": ".r",
   "mimetype": "text/x-r-source",
   "name": "R",
   "pygments_lexer": "r",
   "version": "3.5.1"
  }
 },
 "nbformat": 4,
 "nbformat_minor": 2
}
