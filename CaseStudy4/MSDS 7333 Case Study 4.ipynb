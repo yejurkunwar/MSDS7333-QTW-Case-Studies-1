{
 "cells": [
  {
   "cell_type": "markdown",
   "metadata": {},
   "source": [
    "<h1><center> Modeling Runners' Times in the Cherry Blossom Race </center></h1>\n",
    "<h2><center> Web Scraping </center></h2>\n",
    "\n",
    "<h3><center> Bin Yu, Nuoya Rezsonya, Yejur Singh Kunwar, Iram Bakhtiar</center></h3>"
   ]
  },
  {
   "cell_type": "markdown",
   "metadata": {},
   "source": [
    "# Deliverables -TO BE DELETED LATER\n",
    "\n",
    "#### FROM 2DS POST\n",
    "- Choose one of the following problems from the back of the chapter 2 : 7, 10, 11, or 17. Write a report on your analysis, including introduction, background, methods, results, and conclusions/discussions. Note that the focus of this study is getting the data into the correct format. The analysis section is going to be relatively simple from a statistical standpoint—graphics, descriptive statistics, etc., to answer the question from the problem that you chose.\n",
    "\n",
    "## Problem to Solve\n",
    "\n",
    "\n",
    "\n",
    "Q11. Normalize each male runner's time by the fastest time for the runner of the same age. To do this, find the fastest runner for each year of age from 20 to 80. The tapply() function may be helpful here. Smooth these times using loess() , and find the smoothed time using predict() . Use these smoothed times to normalize each run time. Use density plots, quantile-quantile plots, and summary statistics to compare the distribution of the age-normalized times for the runners in 1999 and 2012. What do you find? Repeat the process for the women. Compare the women in 1999 to the women in 2012 and to the men in 1999 and 2012.\n",
    "\n"
   ]
  },
  {
   "cell_type": "markdown",
   "metadata": {},
   "source": [
    "## Abstract"
   ]
  },
  {
   "cell_type": "markdown",
   "metadata": {},
   "source": [
    "## Introduction"
   ]
  },
  {
   "cell_type": "markdown",
   "metadata": {},
   "source": [
    "## Background"
   ]
  },
  {
   "cell_type": "markdown",
   "metadata": {},
   "source": [
    "## Methodology"
   ]
  },
  {
   "cell_type": "markdown",
   "metadata": {},
   "source": [
    "## Results"
   ]
  },
  {
   "cell_type": "markdown",
   "metadata": {},
   "source": [
    "## Conclusion"
   ]
  },
  {
   "cell_type": "markdown",
   "metadata": {},
   "source": [
    "## CODE PORTION"
   ]
  },
  {
   "cell_type": "code",
   "execution_count": 1,
   "metadata": {
    "scrolled": true
   },
   "outputs": [],
   "source": [
    "#install.packages('XML', repos=\"http://cran.us.r-project.org\")\n",
    "# install.packages('tictoc', repos='http://cran.us.r-project.org')\n",
    "# install.packages('XML', dependencies=TRUE, repos='http://cran.rstudio.com/')"
   ]
  },
  {
   "cell_type": "code",
   "execution_count": 2,
   "metadata": {},
   "outputs": [
    {
     "name": "stderr",
     "output_type": "stream",
     "text": [
      "Warning message:\n",
      "\"package 'XML' was built under R version 3.5.2\""
     ]
    }
   ],
   "source": [
    "library(\"XML\")"
   ]
  },
  {
   "cell_type": "markdown",
   "metadata": {},
   "source": [
    "### Extract files from Web Site"
   ]
  },
  {
   "cell_type": "code",
   "execution_count": 7,
   "metadata": {},
   "outputs": [],
   "source": [
    "# root path of the web site\n",
    "ubase = \"http://www.cherryblossom.org/\"\n",
    "\n",
    "menURLs = \n",
    "  c(\"results/1999/cb99m.html\", \"results/2000/cb003m.htm\", \"results/2001/oof_m.html\",\n",
    "    \"results/2002/oofm.htm\", \"results/2003/CB03-M.HTM\",\n",
    "    \"results/2004/men.htm\", \"results/2005/CB05-M.htm\", \n",
    "    \"results/2006/men.htm\", \"results/2007/men.htm\", \n",
    "    \"results/2008/men.htm\", \"results/2009/09cucb-M.htm\",\n",
    "    \"results/2010/2010cucb10m-m.htm\", \n",
    "    \"results/2011/2011cucb10m-m.htm\",\n",
    "    \"results/2012/2012cucb10m-m.htm\")\n",
    "# generate url\n",
    "urls = paste(ubase, menURLs, sep = \"\")"
   ]
  },
  {
   "cell_type": "code",
   "execution_count": 4,
   "metadata": {},
   "outputs": [],
   "source": [
    "extractResTable =\n",
    "  #\n",
    "  # Retrieve data from web site, \n",
    "  # find the preformatted text,\n",
    "  # and write lines or return as a character vector.\n",
    "  #\n",
    "  function(url = \"http://www.cherryblossom.org/results/2009/09cucb-F.htm\",\n",
    "           year = 1999, sex = \"male\", file = NULL)\n",
    "  {\n",
    "    doc = htmlParse(url)\n",
    "\n",
    "    if (year == 2000) {\n",
    "      # Get preformatted text from 4th font element\n",
    "      # The top file is ill formed so the <pre> search doesn't work.\n",
    "      ff = getNodeSet(doc, \"//font\")\n",
    "      txt = xmlValue(ff[[4]])\n",
    "      els = strsplit(txt, \"\\r\\n\")[[1]]\n",
    "    }\n",
    "    else if (year == 1999) {\n",
    "      # Get preformatted text from 4th font element\n",
    "      pres = getNodeSet(doc, \"//pre\")\n",
    "      txt = xmlValue(pres[[1]])\n",
    "      els = strsplit(txt, \"\\n\")[[1]] \n",
    "    }\n",
    "    else if (year == 2009 & sex == \"male\") {\n",
    "      # Get preformatted text from <div class=\"Section1\"> element\n",
    "      # Each line of results is in a <pre> element\n",
    "      div1 = getNodeSet(doc, \"//div[@class='Section1']\")\n",
    "      pres = getNodeSet(div1[[1]], \"//pre\")\n",
    "      els = sapply(pres, xmlValue)\n",
    "    }\n",
    "    else {\n",
    "      # Get preformatted text from <pre> elements\n",
    "      pres = getNodeSet(doc, \"//pre\")\n",
    "      txt = xmlValue(pres[[1]])\n",
    "      els = strsplit(txt, \"\\r\\n\")[[1]]   \n",
    "    } \n",
    "    \n",
    "    if (is.null(file)) return(els)\n",
    "    # Write the lines as a text file.\n",
    "    writeLines(els, con = file)\n",
    "  }\n"
   ]
  },
  {
   "cell_type": "code",
   "execution_count": 12,
   "metadata": {},
   "outputs": [],
   "source": [
    "extractPath = './MenTxt/'\n",
    "years = 1999:2012\n",
    "files = paste(extractPath, years,'.txt' ,sep = \"\")\n",
    "#files"
   ]
  },
  {
   "cell_type": "code",
   "execution_count": 13,
   "metadata": {},
   "outputs": [],
   "source": [
    "# extract files into folder \n",
    "years = 1999:2012\n",
    "menTables = mapply(extractResTable, url = urls, year = years,file=files)"
   ]
  },
  {
   "cell_type": "markdown",
   "metadata": {},
   "source": [
    "### Data Import and Cleanup"
   ]
  },
  {
   "cell_type": "code",
   "execution_count": 14,
   "metadata": {},
   "outputs": [],
   "source": [
    "# function to import text files\n",
    "extractVariables = \n",
    "  function(file, varNames =c(\"name\", \"home\", \"ag\", \"gun\",\n",
    "                             \"net\", \"time\"))\n",
    "{\n",
    "       # Find the index of the row with =s\n",
    "  eqIndex = grep(\"^===\", file)\n",
    "       # Extract the two key rows and the data\n",
    "  spacerRow = file[eqIndex] \n",
    "  headerRow = tolower(file[ eqIndex - 1 ])\n",
    "  body = file[ -(1 : eqIndex) ]\n",
    "       \n",
    "       # Obtain the starting and ending positions of variables\n",
    "  searchLocs = findColLocs(spacerRow)\n",
    "  locCols = selectCols(varNames, headerRow, searchLocs)\n",
    "\n",
    "  Values = mapply(substr, list(body), start = locCols[1, ], \n",
    "                  stop = locCols[2, ])\n",
    "  colnames(Values) = varNames\n",
    "  \n",
    "  invisible(Values)\n",
    "}"
   ]
  },
  {
   "cell_type": "code",
   "execution_count": 16,
   "metadata": {},
   "outputs": [],
   "source": [
    "# function to find column location\n",
    "findColLocs = function(spacerRow) {\n",
    "\n",
    "  spaceLocs = gregexpr(\" \", spacerRow)[[1]]\n",
    "  rowLength = nchar(spacerRow)\n",
    "\n",
    "  if (substring(spacerRow, rowLength, rowLength) != \" \")\n",
    "    return( c(0, spaceLocs, rowLength + 1))\n",
    "  else return(c(0, spaceLocs))\n",
    "}"
   ]
  },
  {
   "cell_type": "code",
   "execution_count": 18,
   "metadata": {},
   "outputs": [],
   "source": [
    "# function to select clolumns\n",
    "selectCols = \n",
    "function(colNames, headerRow, searchLocs) \n",
    "{\n",
    "  sapply(colNames, \n",
    "         function(name, headerRow, searchLocs)\n",
    "         {\n",
    "           startPos = regexpr(name, headerRow)[[1]]\n",
    "           if (startPos == -1) \n",
    "             return( c(NA, NA) )\n",
    "    \n",
    "           index = sum(startPos >= searchLocs)\n",
    "           c(searchLocs[index] + 1, searchLocs[index + 1] - 1)\n",
    "         },\n",
    "         headerRow = headerRow, searchLocs = searchLocs )\n",
    "}\n"
   ]
  },
  {
   "cell_type": "code",
   "execution_count": 19,
   "metadata": {},
   "outputs": [
    {
     "data": {
      "text/html": [
       "14"
      ],
      "text/latex": [
       "14"
      ],
      "text/markdown": [
       "14"
      ],
      "text/plain": [
       "[1] 14"
      ]
     },
     "metadata": {},
     "output_type": "display_data"
    },
    {
     "data": {
      "text/html": [
       "<dl class=dl-horizontal>\n",
       "\t<dt>1999</dt>\n",
       "\t\t<dd>3190</dd>\n",
       "\t<dt>2000</dt>\n",
       "\t\t<dd>3017</dd>\n",
       "\t<dt>2001</dt>\n",
       "\t\t<dd>3622</dd>\n",
       "\t<dt>2002</dt>\n",
       "\t\t<dd>3724</dd>\n",
       "\t<dt>2003</dt>\n",
       "\t\t<dd>3948</dd>\n",
       "\t<dt>2004</dt>\n",
       "\t\t<dd>4156</dd>\n",
       "\t<dt>2005</dt>\n",
       "\t\t<dd>4327</dd>\n",
       "\t<dt>2006</dt>\n",
       "\t\t<dd>5237</dd>\n",
       "\t<dt>2007</dt>\n",
       "\t\t<dd>5276</dd>\n",
       "\t<dt>2008</dt>\n",
       "\t\t<dd>5905</dd>\n",
       "\t<dt>2009</dt>\n",
       "\t\t<dd>6651</dd>\n",
       "\t<dt>2010</dt>\n",
       "\t\t<dd>6911</dd>\n",
       "\t<dt>2011</dt>\n",
       "\t\t<dd>7011</dd>\n",
       "\t<dt>2012</dt>\n",
       "\t\t<dd>7193</dd>\n",
       "</dl>\n"
      ],
      "text/latex": [
       "\\begin{description*}\n",
       "\\item[1999] 3190\n",
       "\\item[2000] 3017\n",
       "\\item[2001] 3622\n",
       "\\item[2002] 3724\n",
       "\\item[2003] 3948\n",
       "\\item[2004] 4156\n",
       "\\item[2005] 4327\n",
       "\\item[2006] 5237\n",
       "\\item[2007] 5276\n",
       "\\item[2008] 5905\n",
       "\\item[2009] 6651\n",
       "\\item[2010] 6911\n",
       "\\item[2011] 7011\n",
       "\\item[2012] 7193\n",
       "\\end{description*}\n"
      ],
      "text/markdown": [
       "1999\n",
       ":   31902000\n",
       ":   30172001\n",
       ":   36222002\n",
       ":   37242003\n",
       ":   39482004\n",
       ":   41562005\n",
       ":   43272006\n",
       ":   52372007\n",
       ":   52762008\n",
       ":   59052009\n",
       ":   66512010\n",
       ":   69112011\n",
       ":   70112012\n",
       ":   7193\n",
       "\n"
      ],
      "text/plain": [
       "1999 2000 2001 2002 2003 2004 2005 2006 2007 2008 2009 2010 2011 2012 \n",
       "3190 3017 3622 3724 3948 4156 4327 5237 5276 5905 6651 6911 7011 7193 "
      ]
     },
     "metadata": {},
     "output_type": "display_data"
    }
   ],
   "source": [
    "# call extractVariables function to get \n",
    "mfilenames = paste(\"MenTxt/\", 1999:2012, \".txt\", sep = \"\")\n",
    "menFiles = lapply(mfilenames, readLines)\n",
    "names(menFiles) = 1999:2012\n",
    "\n",
    "menResMat = lapply(menFiles, extractVariables)\n",
    "length(menResMat)\n",
    "sapply(menResMat, nrow)"
   ]
  },
  {
   "cell_type": "code",
   "execution_count": null,
   "metadata": {},
   "outputs": [],
   "source": []
  }
 ],
 "metadata": {
  "kernelspec": {
   "display_name": "R",
   "language": "R",
   "name": "ir"
  },
  "language_info": {
   "codemirror_mode": "r",
   "file_extension": ".r",
   "mimetype": "text/x-r-source",
   "name": "R",
   "pygments_lexer": "r",
   "version": "3.5.1"
  }
 },
 "nbformat": 4,
 "nbformat_minor": 2
}
