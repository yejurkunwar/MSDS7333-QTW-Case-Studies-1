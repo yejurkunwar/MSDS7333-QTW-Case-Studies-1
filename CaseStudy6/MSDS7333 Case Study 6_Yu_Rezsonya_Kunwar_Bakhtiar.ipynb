{
 "cells": [
  {
   "cell_type": "markdown",
   "metadata": {},
   "source": [
    "<h1><center> Using Statistics to Identify Spam </center></h1>\n",
    "<h3><center> Bin Yu, Nuoya Rezsonya, Yejur Singh Kunwar, Iram Bakhtiar</center></h3>"
   ]
  },
  {
   "cell_type": "markdown",
   "metadata": {},
   "source": [
    "# Question\n",
    "\n",
    "\n",
    "You have the option to choose one (and only one) of the following problems from the back of chapter 3 (<a href=\"http://rdatasciencecases.org/\">http://rdatasciencecases.org/</a>): 19, 20, or 21 instead of the case study mentioned at the end of module 6.8.\n",
    "\n",
    "- Q.19 Consider the other parameters that can be used to control the recursive partitioning\n",
    "    process. Read the documentation for them in the rpart.control() documentation. Also,\n",
    "    carry out an Internet search for more information on how to tweak the rpart() tuning\n",
    "    parameters. Experiment with values for these parameters. Do the trees that result make\n",
    "    sense with your understanding of how the parameters are used? Can you improve the\n",
    "    prediction using them?"
   ]
  },
  {
   "cell_type": "markdown",
   "metadata": {},
   "source": [
    "# Contents\n",
    "\n",
    "1. [Abstract](#Abstract)\n",
    "2. [Introduction](#Introduction)\n",
    "3. [Background](#Background)\n",
    "4. [Methods](#Methods)\n",
    "5. [Results](#Results)\n",
    "6. [Conclusion](#Conclusion)\n",
    "7. [References](#References)\n",
    "8. [Appendix: Code](#Appendix)"
   ]
  },
  {
   "cell_type": "markdown",
   "metadata": {},
   "source": [
    "# Abstract\n",
    "\n",
    "\n",
    "[Back to Contents](#Contents)"
   ]
  },
  {
   "cell_type": "markdown",
   "metadata": {},
   "source": [
    "# Introduction\n",
    "\n",
    "\n",
    "\n",
    "\n",
    "\n",
    "[Back to Contents](#Contents)"
   ]
  },
  {
   "cell_type": "markdown",
   "metadata": {},
   "source": [
    "# Background\n",
    "\n",
    "\n",
    "\n",
    "[Back to Contents](#Contents)"
   ]
  },
  {
   "cell_type": "markdown",
   "metadata": {},
   "source": [
    "# Methods\n",
    "\n",
    "\n",
    "\n",
    "[Back to Contents](#Contents)"
   ]
  },
  {
   "cell_type": "markdown",
   "metadata": {},
   "source": [
    "# Results\n",
    "\n",
    "\n",
    "[Back to Contents](#Contents)"
   ]
  },
  {
   "cell_type": "markdown",
   "metadata": {},
   "source": [
    "# Conclusion\n",
    "\n",
    "[Back to Contents](#Contents)"
   ]
  },
  {
   "cell_type": "markdown",
   "metadata": {},
   "source": [
    "# References\n",
    "\n",
    "\n",
    "[Back to Contents](#Contents)\n"
   ]
  },
  {
   "cell_type": "markdown",
   "metadata": {},
   "source": [
    "# Appendix\n",
    "\n",
    "[Back to Contents](#Contents)\n",
    "\n",
    "## Code "
   ]
  },
  {
   "cell_type": "code",
   "execution_count": 1,
   "metadata": {},
   "outputs": [],
   "source": [
    "# install.packages(\"tm\", dependencies=TRUE, repos='http://cran.rstudio.com/')\n",
    "# above may not working very well, you can use conda to install in your jupyter environment.\n",
    "# conda install r-tm\n",
    "#install.packages(\"rpart\", dependencies=TRUE, repos='http://cran.rstudio.com/')\n",
    "#install.packages(\"rpart.plot\", dependencies=TRUE, repos='http://cran.rstudio.com/')\n",
    "#install.packages(\"MLmetrics\", dependencies=TRUE, repos='http://cran.rstudio.com/')\n",
    "# install.packages(\"naivebayes\", dependencies=TRUE, repos='http://cran.rstudio.com/')\n",
    "#install.packages(\"xgboost\", dependencies=TRUE, repos='http://cran.rstudio.com/')\n",
    "#install.packages(\"R.utils\", dependencies=TRUE, repos='http://cran.rstudio.com/')\n",
    "#install.packages(\"readtext\", dependencies=TRUE, repos='http://cran.rstudio.com/')\n",
    "#install.packages(\"filesstrings\", dependencies=TRUE, repos='http://cran.rstudio.com/')"
   ]
  },
  {
   "cell_type": "code",
   "execution_count": 2,
   "metadata": {},
   "outputs": [
    {
     "name": "stderr",
     "output_type": "stream",
     "text": [
      "Loading required package: lattice\n",
      "Loading required package: ggplot2\n",
      "Registered S3 methods overwritten by 'ggplot2':\n",
      "  method         from \n",
      "  [.quosures     rlang\n",
      "  c.quosures     rlang\n",
      "  print.quosures rlang\n",
      "\n",
      "Attaching package: 'ggplot2'\n",
      "\n",
      "The following object is masked from 'package:NLP':\n",
      "\n",
      "    annotate\n",
      "\n",
      "\n",
      "Attaching package: 'MLmetrics'\n",
      "\n",
      "The following objects are masked from 'package:caret':\n",
      "\n",
      "    MAE, RMSE\n",
      "\n",
      "The following object is masked from 'package:base':\n",
      "\n",
      "    Recall\n",
      "\n",
      "naivebayes 0.9.6 loaded\n",
      "randomForest 4.6-14\n",
      "Type rfNews() to see new features/changes/bug fixes.\n",
      "\n",
      "Attaching package: 'randomForest'\n",
      "\n",
      "The following object is masked from 'package:ggplot2':\n",
      "\n",
      "    margin\n",
      "\n",
      "Loading required package: R.oo\n",
      "Loading required package: R.methodsS3\n",
      "R.methodsS3 v1.7.1 (2016-02-15) successfully loaded. See ?R.methodsS3 for help.\n",
      "Registered S3 method overwritten by 'R.oo':\n",
      "  method        from       \n",
      "  throw.default R.methodsS3\n",
      "R.oo v1.22.0 (2018-04-21) successfully loaded. See ?R.oo for help.\n",
      "\n",
      "Attaching package: 'R.oo'\n",
      "\n",
      "The following objects are masked from 'package:methods':\n",
      "\n",
      "    getClasses, getMethods\n",
      "\n",
      "The following objects are masked from 'package:base':\n",
      "\n",
      "    attach, detach, gc, load, save\n",
      "\n",
      "R.utils v2.8.0 successfully loaded. See ?R.utils for help.\n",
      "\n",
      "Attaching package: 'R.utils'\n",
      "\n",
      "The following object is masked from 'package:utils':\n",
      "\n",
      "    timestamp\n",
      "\n",
      "The following objects are masked from 'package:base':\n",
      "\n",
      "    cat, commandArgs, getOption, inherits, isOpen, nullfile, parse,\n",
      "    warnings\n",
      "\n",
      "Loading required package: stringr\n"
     ]
    }
   ],
   "source": [
    "# import libraries\n",
    "\n",
    "library(NLP)\n",
    "library(tm)\n",
    "library(RColorBrewer)\n",
    "library(rpart)\n",
    "library(rpart.plot)\n",
    "library(RColorBrewer)\n",
    "library(caret)\n",
    "library(MLmetrics)\n",
    "library(naivebayes)\n",
    "library(e1071)\n",
    "library(randomForest)\n",
    "library(xgboost)\n",
    "library(R.utils)\n",
    "library(readtext)\n",
    "library(filesstrings)"
   ]
  },
  {
   "cell_type": "markdown",
   "metadata": {},
   "source": [
    "## Download Data from website"
   ]
  },
  {
   "cell_type": "code",
   "execution_count": 3,
   "metadata": {},
   "outputs": [],
   "source": [
    "# web site to download the spam messages\n",
    "url = 'https://spamassassin.apache.org/old/publiccorpus/'\n",
    "# spam path to save the files\n",
    "spamPath = \"./SpamAssassinMessages/\""
   ]
  },
  {
   "cell_type": "code",
   "execution_count": 4,
   "metadata": {},
   "outputs": [
    {
     "name": "stdout",
     "output_type": "stream",
     "text": [
      "[1] \"https://spamassassin.apache.org/old/publiccorpus/20030228_easy_ham.tar.bz2\"\n",
      "[1] \"https://spamassassin.apache.org/old/publiccorpus/20030228_hard_ham.tar.bz2\"\n",
      "[1] \"https://spamassassin.apache.org/old/publiccorpus/20030228_easy_ham_2.tar.bz2\"\n",
      "[1] \"https://spamassassin.apache.org/old/publiccorpus/20030228_spam.tar.bz2\"\n",
      "[1] \"https://spamassassin.apache.org/old/publiccorpus/20050311_spam_2.tar.bz2\"\n",
      "[1] \"https://spamassassin.apache.org/old/publiccorpus/20021010_easy_ham.tar.bz2\"\n",
      "[1] \"https://spamassassin.apache.org/old/publiccorpus/20021010_hard_ham.tar.bz2\"\n",
      "[1] \"https://spamassassin.apache.org/old/publiccorpus/20021010_spam.tar.bz2\"\n",
      "[1] \"https://spamassassin.apache.org/old/publiccorpus/20030228_spam_2.tar.bz2\"\n",
      "[1] \"./SpamAssassinMessages/20030228_easy_ham.tar\"\n",
      "[1] \"./SpamAssassinMessages/20030228_hard_ham.tar\"\n",
      "[1] \"./SpamAssassinMessages/20030228_easy_ham_2.tar\"\n",
      "[1] \"./SpamAssassinMessages/20030228_spam.tar\"\n",
      "[1] \"./SpamAssassinMessages/20050311_spam_2.tar\"\n",
      "[1] \"./SpamAssassinMessages/20021010_easy_ham.tar\"\n",
      "[1] \"./SpamAssassinMessages/20021010_hard_ham.tar\"\n",
      "[1] \"./SpamAssassinMessages/20021010_spam.tar\"\n",
      "[1] \"./SpamAssassinMessages/20030228_spam_2.tar\"\n",
      "[1] \"./SpamAssassinMessages/messages\"\n",
      "[1] \"./SpamAssassinMessages/messages\"\n",
      "[1] \"./SpamAssassinMessages/messages\"\n",
      "[1] \"./SpamAssassinMessages/messages\"\n",
      "[1] \"./SpamAssassinMessages/messages\"\n",
      "[1] \"./SpamAssassinMessages/messages\"\n",
      "[1] \"./SpamAssassinMessages/messages\"\n",
      "[1] \"./SpamAssassinMessages/messages\"\n",
      "[1] \"./SpamAssassinMessages/messages\"\n"
     ]
    }
   ],
   "source": [
    "# get the zip file list\n",
    "files = c('20030228_easy_ham.tar.bz2','20030228_hard_ham.tar.bz2','20030228_easy_ham_2.tar.bz2'\n",
    "          ,'20030228_spam.tar.bz2','20050311_spam_2.tar.bz2'\n",
    "          # t match with the book\n",
    "         ,'20021010_easy_ham.tar.bz2','20021010_hard_ham.tar.bz2','20021010_spam.tar.bz2','20030228_spam_2.tar.bz2'\n",
    "         )\n",
    "for (file in files){    \n",
    "    inputfile = paste(url,file,sep = \"\")\n",
    "    outputfile = paste(spamPath,file,sep = \"\")\n",
    "    print(inputfile)\n",
    "    download.file(inputfile,outputfile)\n",
    "}\n",
    "# unzip the zip files to tar\n",
    "for (file in files){\n",
    "    inputfile = paste(spamPath,file,sep = \"\")\n",
    "    outputfile = gsub(\".bz2\", \"\", file)\n",
    "    outputfile = paste(spamPath,outputfile,sep = \"\")\n",
    "    print(outputfile)\n",
    "    bunzip2(inputfile, outputfile, remove = FALSE, skip = TRUE)\n",
    "    }\n",
    "# unzip tar files to folders\n",
    "for (file in files){\n",
    "    inputfile = gsub(\".bz2\", \"\", file)\n",
    "    inputfile = paste(spamPath,inputfile,sep = \"\")\n",
    "    ouputfolder = paste(spamPath,\"messages\",sep = \"\")\n",
    "    print(ouputfolder)\n",
    "    untar(inputfile, list=FALSE,exdir = ouputfolder) \n",
    "    }"
   ]
  },
  {
   "cell_type": "code",
   "execution_count": 5,
   "metadata": {},
   "outputs": [
    {
     "data": {
      "text/html": [
       "TRUE"
      ],
      "text/latex": [
       "TRUE"
      ],
      "text/markdown": [
       "TRUE"
      ],
      "text/plain": [
       "[1] TRUE"
      ]
     },
     "metadata": {},
     "output_type": "display_data"
    }
   ],
   "source": [
    "# remove a file which is not email format\n",
    "file.remove(paste(spamPath,\"/messages/spam/0000.7b1b73cf36cf9dbc3d64e3f2ee2b91f1\",sep = \"\"))"
   ]
  },
  {
   "cell_type": "code",
   "execution_count": 6,
   "metadata": {},
   "outputs": [
    {
     "name": "stderr",
     "output_type": "stream",
     "text": [
      "Warning message in get_source(x, text_field = text_field, encoding = e, source = source, :\n",
      "\"Unsupported extension '0eaef7857bbbf3ebf5edbbdae2b30493' of file ./SpamAssassinMessages/messages/hard_ham/00228.0eaef7857bbbf3ebf5edbbdae2b30493 treating as plain text.\"1 file moved. 0 failed.\n",
      "Warning message in get_source(x, text_field = text_field, encoding = e, source = source, :\n",
      "\"Unsupported extension '7c6cc716ce3f3bfad7130dd3c8d7b072' of file ./SpamAssassinMessages/messages/hard_ham/0231.7c6cc716ce3f3bfad7130dd3c8d7b072 treating as plain text.\"1 file moved. 0 failed.\n",
      "Warning message in get_source(x, text_field = text_field, encoding = e, source = source, :\n",
      "\"Unsupported extension '7c6cc716ce3f3bfad7130dd3c8d7b072' of file ./SpamAssassinMessages/messages/hard_ham/0250.7c6cc716ce3f3bfad7130dd3c8d7b072 treating as plain text.\"1 file moved. 0 failed.\n",
      "Warning message in get_source(x, text_field = text_field, encoding = e, source = source, :\n",
      "\"Unsupported extension 'faa39d8e816c70f23b4bb8758d8a74f0' of file ./SpamAssassinMessages/messages/spam/00136.faa39d8e816c70f23b4bb8758d8a74f0 treating as plain text.\"1 file moved. 0 failed.\n",
      "Warning message in get_source(x, text_field = text_field, encoding = e, source = source, :\n",
      "\"Unsupported extension '260a940290dcb61f9327b224a368d4af' of file ./SpamAssassinMessages/messages/spam/0143.260a940290dcb61f9327b224a368d4af treating as plain text.\"1 file moved. 0 failed.\n"
     ]
    }
   ],
   "source": [
    "#fix the files have no \\n in the last row\n",
    "\n",
    "fixfiles = c(\"messages/hard_ham/00228.0eaef7857bbbf3ebf5edbbdae2b30493\"\n",
    "             ,\"messages/hard_ham/0231.7c6cc716ce3f3bfad7130dd3c8d7b072\"\n",
    "            ,\"messages/hard_ham/0250.7c6cc716ce3f3bfad7130dd3c8d7b072\"\n",
    "            ,\"messages/spam/00136.faa39d8e816c70f23b4bb8758d8a74f0\"\n",
    "             ,\"messages/spam/0143.260a940290dcb61f9327b224a368d4af\"\n",
    "            )\n",
    "for (file in fixfiles){\n",
    "    inputfile = paste(spamPath,file,sep = \"\")\n",
    "    #print(inputfile)\n",
    "    x = readtext(file=inputfile)\n",
    "    fileDesc = gsub(\"messages/hard_ham/\", \"\", file)\n",
    "    fileDesc = gsub(\"messages/spam/\", \"\", fileDesc)\n",
    "    #print (fileDesc)\n",
    "    f <- file(fileDesc, open=\"wb\")\n",
    "    write.table(x[\"text\"],file<-f,row.names=FALSE, col.names=FALSE,eol=\"\\n\",sep=\"\",quote=FALSE)\n",
    "    close(f)\n",
    "    targetfile=gsub(fileDesc, \"\", inputfile)\n",
    "    file.move(fileDesc,targetfile,overwrite = TRUE)\n",
    "}"
   ]
  },
  {
   "cell_type": "markdown",
   "metadata": {},
   "source": [
    "## Import the files into data frame"
   ]
  },
  {
   "cell_type": "code",
   "execution_count": 7,
   "metadata": {},
   "outputs": [
    {
     "data": {
      "text/html": [
       "<ol class=list-inline>\n",
       "\t<li>''</li>\n",
       "\t<li>'messages'</li>\n",
       "\t<li>'messages/easy_ham'</li>\n",
       "\t<li>'messages/easy_ham_2'</li>\n",
       "\t<li>'messages/hard_ham'</li>\n",
       "\t<li>'messages/spam'</li>\n",
       "\t<li>'messages/spam_2'</li>\n",
       "</ol>\n"
      ],
      "text/latex": [
       "\\begin{enumerate*}\n",
       "\\item ''\n",
       "\\item 'messages'\n",
       "\\item 'messages/easy\\_ham'\n",
       "\\item 'messages/easy\\_ham\\_2'\n",
       "\\item 'messages/hard\\_ham'\n",
       "\\item 'messages/spam'\n",
       "\\item 'messages/spam\\_2'\n",
       "\\end{enumerate*}\n"
      ],
      "text/markdown": [
       "1. ''\n",
       "2. 'messages'\n",
       "3. 'messages/easy_ham'\n",
       "4. 'messages/easy_ham_2'\n",
       "5. 'messages/hard_ham'\n",
       "6. 'messages/spam'\n",
       "7. 'messages/spam_2'\n",
       "\n",
       "\n"
      ],
      "text/plain": [
       "[1] \"\"                    \"messages\"            \"messages/easy_ham\"  \n",
       "[4] \"messages/easy_ham_2\" \"messages/hard_ham\"   \"messages/spam\"      \n",
       "[7] \"messages/spam_2\"    "
      ]
     },
     "metadata": {},
     "output_type": "display_data"
    }
   ],
   "source": [
    "\n",
    "#spamPath = system.file(package = \"RSpamData\")\n",
    "#spamPath = \"/Users/nolan/RPackages/RSpamData\"spamPath = \".\"\n",
    "spamPath = \"./SpamAssassinMessages/\"\n",
    "list.dirs(spamPath, full.names = FALSE)\n",
    "\n"
   ]
  },
  {
   "cell_type": "code",
   "execution_count": 8,
   "metadata": {},
   "outputs": [
    {
     "data": {
      "text/html": [
       "<ol class=list-inline>\n",
       "\t<li>'easy_ham'</li>\n",
       "\t<li>'easy_ham_2'</li>\n",
       "\t<li>'hard_ham'</li>\n",
       "\t<li>'spam'</li>\n",
       "\t<li>'spam_2'</li>\n",
       "</ol>\n"
      ],
      "text/latex": [
       "\\begin{enumerate*}\n",
       "\\item 'easy\\_ham'\n",
       "\\item 'easy\\_ham\\_2'\n",
       "\\item 'hard\\_ham'\n",
       "\\item 'spam'\n",
       "\\item 'spam\\_2'\n",
       "\\end{enumerate*}\n"
      ],
      "text/markdown": [
       "1. 'easy_ham'\n",
       "2. 'easy_ham_2'\n",
       "3. 'hard_ham'\n",
       "4. 'spam'\n",
       "5. 'spam_2'\n",
       "\n",
       "\n"
      ],
      "text/plain": [
       "[1] \"easy_ham\"   \"easy_ham_2\" \"hard_ham\"   \"spam\"       \"spam_2\"    "
      ]
     },
     "metadata": {},
     "output_type": "display_data"
    }
   ],
   "source": [
    "list.files(path = paste(spamPath, \"messages\", \n",
    "                        sep = .Platform$file.sep))\n",
    "\n"
   ]
  },
  {
   "cell_type": "code",
   "execution_count": 9,
   "metadata": {},
   "outputs": [
    {
     "data": {
      "text/html": [],
      "text/latex": [],
      "text/markdown": [],
      "text/plain": [
       "character(0)"
      ]
     },
     "metadata": {},
     "output_type": "display_data"
    }
   ],
   "source": [
    "list.files(path = paste(spamPath,'spam', sep=.Platform$file.sep))"
   ]
  },
  {
   "cell_type": "code",
   "execution_count": 10,
   "metadata": {},
   "outputs": [
    {
     "data": {
      "text/html": [
       "<ol class=list-inline>\n",
       "\t<li>'00001.317e78fa8ee2f54cd4890fdc09ba8176'</li>\n",
       "\t<li>'00002.9438920e9a55591b18e60d1ed37d992b'</li>\n",
       "\t<li>'00003.590eff932f8704d8b0fcbe69d023b54d'</li>\n",
       "\t<li>'00004.bdcc075fa4beb5157b5dd6cd41d8887b'</li>\n",
       "\t<li>'00005.ed0aba4d386c5e62bc737cf3f0ed9589'</li>\n",
       "\t<li>'00006.3ca1f399ccda5d897fecb8c57669a283'</li>\n",
       "</ol>\n"
      ],
      "text/latex": [
       "\\begin{enumerate*}\n",
       "\\item '00001.317e78fa8ee2f54cd4890fdc09ba8176'\n",
       "\\item '00002.9438920e9a55591b18e60d1ed37d992b'\n",
       "\\item '00003.590eff932f8704d8b0fcbe69d023b54d'\n",
       "\\item '00004.bdcc075fa4beb5157b5dd6cd41d8887b'\n",
       "\\item '00005.ed0aba4d386c5e62bc737cf3f0ed9589'\n",
       "\\item '00006.3ca1f399ccda5d897fecb8c57669a283'\n",
       "\\end{enumerate*}\n"
      ],
      "text/markdown": [
       "1. '00001.317e78fa8ee2f54cd4890fdc09ba8176'\n",
       "2. '00002.9438920e9a55591b18e60d1ed37d992b'\n",
       "3. '00003.590eff932f8704d8b0fcbe69d023b54d'\n",
       "4. '00004.bdcc075fa4beb5157b5dd6cd41d8887b'\n",
       "5. '00005.ed0aba4d386c5e62bc737cf3f0ed9589'\n",
       "6. '00006.3ca1f399ccda5d897fecb8c57669a283'\n",
       "\n",
       "\n"
      ],
      "text/plain": [
       "[1] \"00001.317e78fa8ee2f54cd4890fdc09ba8176\"\n",
       "[2] \"00002.9438920e9a55591b18e60d1ed37d992b\"\n",
       "[3] \"00003.590eff932f8704d8b0fcbe69d023b54d\"\n",
       "[4] \"00004.bdcc075fa4beb5157b5dd6cd41d8887b\"\n",
       "[5] \"00005.ed0aba4d386c5e62bc737cf3f0ed9589\"\n",
       "[6] \"00006.3ca1f399ccda5d897fecb8c57669a283\""
      ]
     },
     "metadata": {},
     "output_type": "display_data"
    },
    {
     "data": {
      "text/html": [
       "9353"
      ],
      "text/latex": [
       "9353"
      ],
      "text/markdown": [
       "9353"
      ],
      "text/plain": [
       "[1] 9353"
      ]
     },
     "metadata": {},
     "output_type": "display_data"
    },
    {
     "data": {
      "text/html": [
       "<dl class=dl-horizontal>\n",
       "\t<dt>./SpamAssassinMessages//messages/easy_ham</dt>\n",
       "\t\t<dd>5052</dd>\n",
       "\t<dt>./SpamAssassinMessages//messages/easy_ham_2</dt>\n",
       "\t\t<dd>1401</dd>\n",
       "\t<dt>./SpamAssassinMessages//messages/hard_ham</dt>\n",
       "\t\t<dd>501</dd>\n",
       "\t<dt>./SpamAssassinMessages//messages/spam</dt>\n",
       "\t\t<dd>1001</dd>\n",
       "\t<dt>./SpamAssassinMessages//messages/spam_2</dt>\n",
       "\t\t<dd>1398</dd>\n",
       "</dl>\n"
      ],
      "text/latex": [
       "\\begin{description*}\n",
       "\\item[./SpamAssassinMessages//messages/easy\\textbackslash{}\\_ham] 5052\n",
       "\\item[./SpamAssassinMessages//messages/easy\\textbackslash{}\\_ham\\textbackslash{}\\_2] 1401\n",
       "\\item[./SpamAssassinMessages//messages/hard\\textbackslash{}\\_ham] 501\n",
       "\\item[./SpamAssassinMessages//messages/spam] 1001\n",
       "\\item[./SpamAssassinMessages//messages/spam\\textbackslash{}\\_2] 1398\n",
       "\\end{description*}\n"
      ],
      "text/markdown": [
       "./SpamAssassinMessages//messages/easy_ham\n",
       ":   5052./SpamAssassinMessages//messages/easy_ham_2\n",
       ":   1401./SpamAssassinMessages//messages/hard_ham\n",
       ":   501./SpamAssassinMessages//messages/spam\n",
       ":   1001./SpamAssassinMessages//messages/spam_2\n",
       ":   1398\n",
       "\n"
      ],
      "text/plain": [
       "  ./SpamAssassinMessages//messages/easy_ham \n",
       "                                       5052 \n",
       "./SpamAssassinMessages//messages/easy_ham_2 \n",
       "                                       1401 \n",
       "  ./SpamAssassinMessages//messages/hard_ham \n",
       "                                        501 \n",
       "      ./SpamAssassinMessages//messages/spam \n",
       "                                       1001 \n",
       "    ./SpamAssassinMessages//messages/spam_2 \n",
       "                                       1398 "
      ]
     },
     "metadata": {},
     "output_type": "display_data"
    }
   ],
   "source": [
    "head(list.files(path = paste(spamPath, \"messages\", \"spam_2\",\n",
    "                             sep = .Platform$file.sep)))\n",
    "\n",
    "dirNames = list.files(path = paste(spamPath, \"messages\", \n",
    "                      sep = .Platform$file.sep))\n",
    "length(list.files(paste(spamPath, \"messages\", dirNames, \n",
    "                        sep = .Platform$file.sep)))\n",
    "\n",
    "sapply(paste(spamPath, \"messages\", dirNames, \n",
    "             sep = .Platform$file.sep), \n",
    "       function(dir) length(list.files(dir)) )\n",
    "\n",
    "fullDirNames = paste(spamPath, \"messages\", dirNames, \n",
    "                     sep = .Platform$file.sep)"
   ]
  },
  {
   "cell_type": "code",
   "execution_count": 11,
   "metadata": {},
   "outputs": [
    {
     "data": {
      "text/html": [
       "'./SpamAssassinMessages//messages/easy_ham/00001.7c53336b37003a9286aba55d2945844c'"
      ],
      "text/latex": [
       "'./SpamAssassinMessages//messages/easy\\_ham/00001.7c53336b37003a9286aba55d2945844c'"
      ],
      "text/markdown": [
       "'./SpamAssassinMessages//messages/easy_ham/00001.7c53336b37003a9286aba55d2945844c'"
      ],
      "text/plain": [
       "[1] \"./SpamAssassinMessages//messages/easy_ham/00001.7c53336b37003a9286aba55d2945844c\""
      ]
     },
     "metadata": {},
     "output_type": "display_data"
    },
    {
     "data": {
      "text/html": [
       "<ol class=list-inline>\n",
       "\t<li><span style=white-space:pre-wrap>'From exmh-workers-admin@redhat.com  Thu Aug 22 12:36:23 2002'</span></li>\n",
       "\t<li>'Return-Path: &lt;exmh-workers-admin@spamassassin.taint.org&gt;'</li>\n",
       "\t<li>'Delivered-To: zzzz@localhost.netnoteinc.com'</li>\n",
       "\t<li>'Received: from localhost (localhost [127.0.0.1])'</li>\n",
       "\t<li>'\\tby phobos.labs.netnoteinc.com (Postfix) with ESMTP id D03E543C36'</li>\n",
       "\t<li>'\\tfor &lt;zzzz@localhost&gt;; Thu, 22 Aug 2002 07:36:16 -0400 (EDT)'</li>\n",
       "</ol>\n"
      ],
      "text/latex": [
       "\\begin{enumerate*}\n",
       "\\item 'From exmh-workers-admin@redhat.com  Thu Aug 22 12:36:23 2002'\n",
       "\\item 'Return-Path: <exmh-workers-admin@spamassassin.taint.org>'\n",
       "\\item 'Delivered-To: zzzz@localhost.netnoteinc.com'\n",
       "\\item 'Received: from localhost (localhost {[}127.0.0.1{]})'\n",
       "\\item '\\textbackslash{}tby phobos.labs.netnoteinc.com (Postfix) with ESMTP id D03E543C36'\n",
       "\\item '\\textbackslash{}tfor <zzzz@localhost>; Thu, 22 Aug 2002 07:36:16 -0400 (EDT)'\n",
       "\\end{enumerate*}\n"
      ],
      "text/markdown": [
       "1. <span style=white-space:pre-wrap>'From exmh-workers-admin@redhat.com  Thu Aug 22 12:36:23 2002'</span>\n",
       "2. 'Return-Path: &lt;exmh-workers-admin@spamassassin.taint.org&gt;'\n",
       "3. 'Delivered-To: zzzz@localhost.netnoteinc.com'\n",
       "4. 'Received: from localhost (localhost [127.0.0.1])'\n",
       "5. '\\tby phobos.labs.netnoteinc.com (Postfix) with ESMTP id D03E543C36'\n",
       "6. '\\tfor &lt;zzzz@localhost&gt;; Thu, 22 Aug 2002 07:36:16 -0400 (EDT)'\n",
       "\n",
       "\n"
      ],
      "text/plain": [
       "[1] \"From exmh-workers-admin@redhat.com  Thu Aug 22 12:36:23 2002\"     \n",
       "[2] \"Return-Path: <exmh-workers-admin@spamassassin.taint.org>\"         \n",
       "[3] \"Delivered-To: zzzz@localhost.netnoteinc.com\"                      \n",
       "[4] \"Received: from localhost (localhost [127.0.0.1])\"                 \n",
       "[5] \"\\tby phobos.labs.netnoteinc.com (Postfix) with ESMTP id D03E543C36\"\n",
       "[6] \"\\tfor <zzzz@localhost>; Thu, 22 Aug 2002 07:36:16 -0400 (EDT)\"     "
      ]
     },
     "metadata": {},
     "output_type": "display_data"
    },
    {
     "data": {
      "text/html": [
       "63"
      ],
      "text/latex": [
       "63"
      ],
      "text/markdown": [
       "63"
      ],
      "text/plain": [
       "[1] 63"
      ]
     },
     "metadata": {},
     "output_type": "display_data"
    },
    {
     "data": {
      "text/html": [
       "63"
      ],
      "text/latex": [
       "63"
      ],
      "text/markdown": [
       "63"
      ],
      "text/plain": [
       "[1] 63"
      ]
     },
     "metadata": {},
     "output_type": "display_data"
    },
    {
     "data": {
      "text/html": [
       "<ol class=list-inline>\n",
       "\t<li>'List-Archive: &lt;https://listman.spamassassin.taint.org/mailman/private/exmh-workers/&gt;'</li>\n",
       "\t<li>'Date: Thu, 22 Aug 2002 18:26:25 +0700'</li>\n",
       "\t<li>''</li>\n",
       "\t<li><span style=white-space:pre-wrap>'    Date:        Wed, 21 Aug 2002 10:54:46 -0500'</span></li>\n",
       "\t<li><span style=white-space:pre-wrap>'    From:        Chris Garrigues &lt;cwg-dated-1030377287.06fa6d@DeepEddy.Com&gt;'</span></li>\n",
       "\t<li><span style=white-space:pre-wrap>'    Message-ID:  &lt;1029945287.4797.TMDA@deepeddy.vircio.com&gt;'</span></li>\n",
       "\t<li>''</li>\n",
       "\t<li>''</li>\n",
       "\t<li><span style=white-space:pre-wrap>'  | I can\\'t reproduce this error.'</span></li>\n",
       "</ol>\n"
      ],
      "text/latex": [
       "\\begin{enumerate*}\n",
       "\\item 'List-Archive: <https://listman.spamassassin.taint.org/mailman/private/exmh-workers/>'\n",
       "\\item 'Date: Thu, 22 Aug 2002 18:26:25 +0700'\n",
       "\\item ''\n",
       "\\item '    Date:        Wed, 21 Aug 2002 10:54:46 -0500'\n",
       "\\item '    From:        Chris Garrigues <cwg-dated-1030377287.06fa6d@DeepEddy.Com>'\n",
       "\\item '    Message-ID:  <1029945287.4797.TMDA@deepeddy.vircio.com>'\n",
       "\\item ''\n",
       "\\item ''\n",
       "\\item '  \\textbar{} I can\\textbackslash{}'t reproduce this error.'\n",
       "\\end{enumerate*}\n"
      ],
      "text/markdown": [
       "1. 'List-Archive: &lt;https://listman.spamassassin.taint.org/mailman/private/exmh-workers/&gt;'\n",
       "2. 'Date: Thu, 22 Aug 2002 18:26:25 +0700'\n",
       "3. ''\n",
       "4. <span style=white-space:pre-wrap>'    Date:        Wed, 21 Aug 2002 10:54:46 -0500'</span>\n",
       "5. <span style=white-space:pre-wrap>'    From:        Chris Garrigues &lt;cwg-dated-1030377287.06fa6d@DeepEddy.Com&gt;'</span>\n",
       "6. <span style=white-space:pre-wrap>'    Message-ID:  &lt;1029945287.4797.TMDA@deepeddy.vircio.com&gt;'</span>\n",
       "7. ''\n",
       "8. ''\n",
       "9. <span style=white-space:pre-wrap>'  | I can\\'t reproduce this error.'</span>\n",
       "\n",
       "\n"
      ],
      "text/plain": [
       "[1] \"List-Archive: <https://listman.spamassassin.taint.org/mailman/private/exmh-workers/>\"\n",
       "[2] \"Date: Thu, 22 Aug 2002 18:26:25 +0700\"                                               \n",
       "[3] \"\"                                                                                    \n",
       "[4] \"    Date:        Wed, 21 Aug 2002 10:54:46 -0500\"                                    \n",
       "[5] \"    From:        Chris Garrigues <cwg-dated-1030377287.06fa6d@DeepEddy.Com>\"         \n",
       "[6] \"    Message-ID:  <1029945287.4797.TMDA@deepeddy.vircio.com>\"                         \n",
       "[7] \"\"                                                                                    \n",
       "[8] \"\"                                                                                    \n",
       "[9] \"  | I can't reproduce this error.\"                                                   "
      ]
     },
     "metadata": {},
     "output_type": "display_data"
    }
   ],
   "source": [
    "fileNames = list.files(fullDirNames[1], full.names = TRUE)\n",
    "fileNames[1]\n",
    "\n",
    "msg = readLines(fileNames[1])\n",
    "head(msg)\n",
    "\n",
    "indx = c(1:5, 15, 27, 68, 69, 329, 404, 427, 516, 852, 971)\n",
    "fn = list.files(fullDirNames[1], full.names = TRUE)[indx]\n",
    "sampleEmail = sapply(fn, readLines)        \n",
    "\n",
    "msg = sampleEmail[[1]]\n",
    "which(msg == \"\")[1]\n",
    "\n",
    "match(\"\", msg)\n",
    "\n",
    "splitPoint = match(\"\", msg)\n",
    "\n",
    "msg[ (splitPoint - 2):(splitPoint + 6) ]\n",
    "\n",
    "header = msg[1:(splitPoint-1)]\n",
    "body = msg[ -(1:splitPoint) ]"
   ]
  },
  {
   "cell_type": "code",
   "execution_count": 12,
   "metadata": {},
   "outputs": [],
   "source": [
    "# function to split the email messages\n",
    "\n",
    "splitMessage = function(msg) {\n",
    "    \n",
    "    splitPoint = match(\"\", msg)\n",
    "    #print(splitPoint)\n",
    "#     if(is.na(splitPoint)!=TRUE){\n",
    "         header = msg[1:(splitPoint)-1]\n",
    "         body = msg[ -(1:splitPoint) ]        \n",
    "#     }\n",
    "      \n",
    "#     else {   \n",
    "#         print(msg)\n",
    "#         header = \"\"\n",
    "#         body = \"\" \n",
    "#     }\n",
    "   \n",
    "  return(list(header = header, body = body))\n",
    "}\n"
   ]
  },
  {
   "cell_type": "code",
   "execution_count": 13,
   "metadata": {},
   "outputs": [],
   "source": [
    "sampleSplit = lapply(sampleEmail, splitMessage)"
   ]
  },
  {
   "cell_type": "code",
   "execution_count": 14,
   "metadata": {},
   "outputs": [
    {
     "data": {
      "text/html": [
       "46"
      ],
      "text/latex": [
       "46"
      ],
      "text/markdown": [
       "46"
      ],
      "text/plain": [
       "[1] 46"
      ]
     },
     "metadata": {},
     "output_type": "display_data"
    },
    {
     "data": {
      "text/html": [],
      "text/latex": [],
      "text/markdown": [],
      "text/plain": [
       "integer(0)"
      ]
     },
     "metadata": {},
     "output_type": "display_data"
    },
    {
     "data": {
      "text/html": [
       "'Content-Type: text/plain; charset=us-ascii'"
      ],
      "text/latex": [
       "'Content-Type: text/plain; charset=us-ascii'"
      ],
      "text/markdown": [
       "'Content-Type: text/plain; charset=us-ascii'"
      ],
      "text/plain": [
       "[1] \"Content-Type: text/plain; charset=us-ascii\""
      ]
     },
     "metadata": {},
     "output_type": "display_data"
    }
   ],
   "source": [
    "header = sampleSplit[[1]]$header\n",
    "grep(\"Content-Type\", header)\n",
    "\n",
    "grep(\"multi\", tolower(header[46]))\n",
    "\n",
    "header[46]\n",
    "\n",
    "headerList = lapply(sampleSplit, function(msg) msg$header)\n",
    "CTloc = sapply(headerList, grep, pattern = \"Content-Type\")\n"
   ]
  },
  {
   "cell_type": "code",
   "execution_count": 15,
   "metadata": {},
   "outputs": [
    {
     "data": {
      "text/html": [
       "<dl class=dl-horizontal>\n",
       "\t<dt>./SpamAssassinMessages//messages/easy_ham/00001.7c53336b37003a9286aba55d2945844c</dt>\n",
       "\t\t<dd>46</dd>\n",
       "\t<dt>./SpamAssassinMessages//messages/easy_ham/00002.9c4069e25e1ef370c078db7ee85ff9ac</dt>\n",
       "\t\t<dd>45</dd>\n",
       "\t<dt>./SpamAssassinMessages//messages/easy_ham/00003.860e3c3cee1b42ead714c5c874fe25f7</dt>\n",
       "\t\t<dd>42</dd>\n",
       "\t<dt>./SpamAssassinMessages//messages/easy_ham/00004.864220c5b6930b209cc287c361c99af1</dt>\n",
       "\t\t<dd>30</dd>\n",
       "\t<dt>./SpamAssassinMessages//messages/easy_ham/00005.bf27cdeaf0b8c4647ecd61b1d09da613</dt>\n",
       "\t\t<dd>44</dd>\n",
       "\t<dt>./SpamAssassinMessages//messages/easy_ham/00014.cb20e10b2bfcb8210a1c310798532a57</dt>\n",
       "\t\t<dd>54</dd>\n",
       "\t<dt>./SpamAssassinMessages//messages/easy_ham/00025.d685245bdc4444f44fa091e6620b20b3</dt>\n",
       "\t\t<dd>&lt;NA&gt;</dd>\n",
       "\t<dt>./SpamAssassinMessages//messages/easy_ham/00062.009f5a1a8fa88f0b38299ad01562bb37</dt>\n",
       "\t\t<dd>21</dd>\n",
       "\t<dt>./SpamAssassinMessages//messages/easy_ham/00063.0acbc484a73f0e0b727e06c100d8df7b</dt>\n",
       "\t\t<dd>17</dd>\n",
       "\t<dt>./SpamAssassinMessages//messages/easy_ham/0030.77828e31de08ebb58b583688b87524cc</dt>\n",
       "\t\t<dd>52</dd>\n",
       "\t<dt>./SpamAssassinMessages//messages/easy_ham/00368.f86324a03e7ae7070cc40f302385f5d3</dt>\n",
       "\t\t<dd>31</dd>\n",
       "\t<dt>./SpamAssassinMessages//messages/easy_ham/00389.8606961eaeef7b921ce1c53773248d69</dt>\n",
       "\t\t<dd>52</dd>\n",
       "\t<dt>./SpamAssassinMessages//messages/easy_ham/0047.5c3e049737a2813d4ac6f13f02362fb1</dt>\n",
       "\t\t<dd>52</dd>\n",
       "\t<dt>./SpamAssassinMessages//messages/easy_ham/00775.0e012f373467846510d9db297e99a008</dt>\n",
       "\t\t<dd>27</dd>\n",
       "\t<dt>./SpamAssassinMessages//messages/easy_ham/00883.c44a035e7589e83076b7f1fed8fa97d5</dt>\n",
       "\t\t<dd>31</dd>\n",
       "</dl>\n"
      ],
      "text/latex": [
       "\\begin{description*}\n",
       "\\item[./SpamAssassinMessages//messages/easy\\textbackslash{}\\_ham/00001.7c53336b37003a9286aba55d2945844c] 46\n",
       "\\item[./SpamAssassinMessages//messages/easy\\textbackslash{}\\_ham/00002.9c4069e25e1ef370c078db7ee85ff9ac] 45\n",
       "\\item[./SpamAssassinMessages//messages/easy\\textbackslash{}\\_ham/00003.860e3c3cee1b42ead714c5c874fe25f7] 42\n",
       "\\item[./SpamAssassinMessages//messages/easy\\textbackslash{}\\_ham/00004.864220c5b6930b209cc287c361c99af1] 30\n",
       "\\item[./SpamAssassinMessages//messages/easy\\textbackslash{}\\_ham/00005.bf27cdeaf0b8c4647ecd61b1d09da613] 44\n",
       "\\item[./SpamAssassinMessages//messages/easy\\textbackslash{}\\_ham/00014.cb20e10b2bfcb8210a1c310798532a57] 54\n",
       "\\item[./SpamAssassinMessages//messages/easy\\textbackslash{}\\_ham/00025.d685245bdc4444f44fa091e6620b20b3] <NA>\n",
       "\\item[./SpamAssassinMessages//messages/easy\\textbackslash{}\\_ham/00062.009f5a1a8fa88f0b38299ad01562bb37] 21\n",
       "\\item[./SpamAssassinMessages//messages/easy\\textbackslash{}\\_ham/00063.0acbc484a73f0e0b727e06c100d8df7b] 17\n",
       "\\item[./SpamAssassinMessages//messages/easy\\textbackslash{}\\_ham/0030.77828e31de08ebb58b583688b87524cc] 52\n",
       "\\item[./SpamAssassinMessages//messages/easy\\textbackslash{}\\_ham/00368.f86324a03e7ae7070cc40f302385f5d3] 31\n",
       "\\item[./SpamAssassinMessages//messages/easy\\textbackslash{}\\_ham/00389.8606961eaeef7b921ce1c53773248d69] 52\n",
       "\\item[./SpamAssassinMessages//messages/easy\\textbackslash{}\\_ham/0047.5c3e049737a2813d4ac6f13f02362fb1] 52\n",
       "\\item[./SpamAssassinMessages//messages/easy\\textbackslash{}\\_ham/00775.0e012f373467846510d9db297e99a008] 27\n",
       "\\item[./SpamAssassinMessages//messages/easy\\textbackslash{}\\_ham/00883.c44a035e7589e83076b7f1fed8fa97d5] 31\n",
       "\\end{description*}\n"
      ],
      "text/markdown": [
       "./SpamAssassinMessages//messages/easy_ham/00001.7c53336b37003a9286aba55d2945844c\n",
       ":   46./SpamAssassinMessages//messages/easy_ham/00002.9c4069e25e1ef370c078db7ee85ff9ac\n",
       ":   45./SpamAssassinMessages//messages/easy_ham/00003.860e3c3cee1b42ead714c5c874fe25f7\n",
       ":   42./SpamAssassinMessages//messages/easy_ham/00004.864220c5b6930b209cc287c361c99af1\n",
       ":   30./SpamAssassinMessages//messages/easy_ham/00005.bf27cdeaf0b8c4647ecd61b1d09da613\n",
       ":   44./SpamAssassinMessages//messages/easy_ham/00014.cb20e10b2bfcb8210a1c310798532a57\n",
       ":   54./SpamAssassinMessages//messages/easy_ham/00025.d685245bdc4444f44fa091e6620b20b3\n",
       ":   &lt;NA&gt;./SpamAssassinMessages//messages/easy_ham/00062.009f5a1a8fa88f0b38299ad01562bb37\n",
       ":   21./SpamAssassinMessages//messages/easy_ham/00063.0acbc484a73f0e0b727e06c100d8df7b\n",
       ":   17./SpamAssassinMessages//messages/easy_ham/0030.77828e31de08ebb58b583688b87524cc\n",
       ":   52./SpamAssassinMessages//messages/easy_ham/00368.f86324a03e7ae7070cc40f302385f5d3\n",
       ":   31./SpamAssassinMessages//messages/easy_ham/00389.8606961eaeef7b921ce1c53773248d69\n",
       ":   52./SpamAssassinMessages//messages/easy_ham/0047.5c3e049737a2813d4ac6f13f02362fb1\n",
       ":   52./SpamAssassinMessages//messages/easy_ham/00775.0e012f373467846510d9db297e99a008\n",
       ":   27./SpamAssassinMessages//messages/easy_ham/00883.c44a035e7589e83076b7f1fed8fa97d5\n",
       ":   31\n",
       "\n"
      ],
      "text/plain": [
       "./SpamAssassinMessages//messages/easy_ham/00001.7c53336b37003a9286aba55d2945844c \n",
       "                                                                              46 \n",
       "./SpamAssassinMessages//messages/easy_ham/00002.9c4069e25e1ef370c078db7ee85ff9ac \n",
       "                                                                              45 \n",
       "./SpamAssassinMessages//messages/easy_ham/00003.860e3c3cee1b42ead714c5c874fe25f7 \n",
       "                                                                              42 \n",
       "./SpamAssassinMessages//messages/easy_ham/00004.864220c5b6930b209cc287c361c99af1 \n",
       "                                                                              30 \n",
       "./SpamAssassinMessages//messages/easy_ham/00005.bf27cdeaf0b8c4647ecd61b1d09da613 \n",
       "                                                                              44 \n",
       "./SpamAssassinMessages//messages/easy_ham/00014.cb20e10b2bfcb8210a1c310798532a57 \n",
       "                                                                              54 \n",
       "./SpamAssassinMessages//messages/easy_ham/00025.d685245bdc4444f44fa091e6620b20b3 \n",
       "                                                                              NA \n",
       "./SpamAssassinMessages//messages/easy_ham/00062.009f5a1a8fa88f0b38299ad01562bb37 \n",
       "                                                                              21 \n",
       "./SpamAssassinMessages//messages/easy_ham/00063.0acbc484a73f0e0b727e06c100d8df7b \n",
       "                                                                              17 \n",
       " ./SpamAssassinMessages//messages/easy_ham/0030.77828e31de08ebb58b583688b87524cc \n",
       "                                                                              52 \n",
       "./SpamAssassinMessages//messages/easy_ham/00368.f86324a03e7ae7070cc40f302385f5d3 \n",
       "                                                                              31 \n",
       "./SpamAssassinMessages//messages/easy_ham/00389.8606961eaeef7b921ce1c53773248d69 \n",
       "                                                                              52 \n",
       " ./SpamAssassinMessages//messages/easy_ham/0047.5c3e049737a2813d4ac6f13f02362fb1 \n",
       "                                                                              52 \n",
       "./SpamAssassinMessages//messages/easy_ham/00775.0e012f373467846510d9db297e99a008 \n",
       "                                                                              27 \n",
       "./SpamAssassinMessages//messages/easy_ham/00883.c44a035e7589e83076b7f1fed8fa97d5 \n",
       "                                                                              31 "
      ]
     },
     "metadata": {},
     "output_type": "display_data"
    },
    {
     "data": {
      "text/html": [
       "<dl class=dl-horizontal>\n",
       "\t<dt>./SpamAssassinMessages//messages/easy_ham/00001.7c53336b37003a9286aba55d2945844c</dt>\n",
       "\t\t<dd>FALSE</dd>\n",
       "\t<dt>./SpamAssassinMessages//messages/easy_ham/00002.9c4069e25e1ef370c078db7ee85ff9ac</dt>\n",
       "\t\t<dd>FALSE</dd>\n",
       "\t<dt>./SpamAssassinMessages//messages/easy_ham/00003.860e3c3cee1b42ead714c5c874fe25f7</dt>\n",
       "\t\t<dd>FALSE</dd>\n",
       "\t<dt>./SpamAssassinMessages//messages/easy_ham/00004.864220c5b6930b209cc287c361c99af1</dt>\n",
       "\t\t<dd>FALSE</dd>\n",
       "\t<dt>./SpamAssassinMessages//messages/easy_ham/00005.bf27cdeaf0b8c4647ecd61b1d09da613</dt>\n",
       "\t\t<dd>FALSE</dd>\n",
       "\t<dt>./SpamAssassinMessages//messages/easy_ham/00014.cb20e10b2bfcb8210a1c310798532a57</dt>\n",
       "\t\t<dd>TRUE</dd>\n",
       "\t<dt>./SpamAssassinMessages//messages/easy_ham/00025.d685245bdc4444f44fa091e6620b20b3</dt>\n",
       "\t\t<dd>FALSE</dd>\n",
       "\t<dt>./SpamAssassinMessages//messages/easy_ham/00062.009f5a1a8fa88f0b38299ad01562bb37</dt>\n",
       "\t\t<dd>TRUE</dd>\n",
       "\t<dt>./SpamAssassinMessages//messages/easy_ham/00063.0acbc484a73f0e0b727e06c100d8df7b</dt>\n",
       "\t\t<dd>TRUE</dd>\n",
       "\t<dt>./SpamAssassinMessages//messages/easy_ham/0030.77828e31de08ebb58b583688b87524cc</dt>\n",
       "\t\t<dd>TRUE</dd>\n",
       "\t<dt>./SpamAssassinMessages//messages/easy_ham/00368.f86324a03e7ae7070cc40f302385f5d3</dt>\n",
       "\t\t<dd>TRUE</dd>\n",
       "\t<dt>./SpamAssassinMessages//messages/easy_ham/00389.8606961eaeef7b921ce1c53773248d69</dt>\n",
       "\t\t<dd>TRUE</dd>\n",
       "\t<dt>./SpamAssassinMessages//messages/easy_ham/0047.5c3e049737a2813d4ac6f13f02362fb1</dt>\n",
       "\t\t<dd>TRUE</dd>\n",
       "\t<dt>./SpamAssassinMessages//messages/easy_ham/00775.0e012f373467846510d9db297e99a008</dt>\n",
       "\t\t<dd>TRUE</dd>\n",
       "\t<dt>./SpamAssassinMessages//messages/easy_ham/00883.c44a035e7589e83076b7f1fed8fa97d5</dt>\n",
       "\t\t<dd>TRUE</dd>\n",
       "</dl>\n"
      ],
      "text/latex": [
       "\\begin{description*}\n",
       "\\item[./SpamAssassinMessages//messages/easy\\textbackslash{}\\_ham/00001.7c53336b37003a9286aba55d2945844c] FALSE\n",
       "\\item[./SpamAssassinMessages//messages/easy\\textbackslash{}\\_ham/00002.9c4069e25e1ef370c078db7ee85ff9ac] FALSE\n",
       "\\item[./SpamAssassinMessages//messages/easy\\textbackslash{}\\_ham/00003.860e3c3cee1b42ead714c5c874fe25f7] FALSE\n",
       "\\item[./SpamAssassinMessages//messages/easy\\textbackslash{}\\_ham/00004.864220c5b6930b209cc287c361c99af1] FALSE\n",
       "\\item[./SpamAssassinMessages//messages/easy\\textbackslash{}\\_ham/00005.bf27cdeaf0b8c4647ecd61b1d09da613] FALSE\n",
       "\\item[./SpamAssassinMessages//messages/easy\\textbackslash{}\\_ham/00014.cb20e10b2bfcb8210a1c310798532a57] TRUE\n",
       "\\item[./SpamAssassinMessages//messages/easy\\textbackslash{}\\_ham/00025.d685245bdc4444f44fa091e6620b20b3] FALSE\n",
       "\\item[./SpamAssassinMessages//messages/easy\\textbackslash{}\\_ham/00062.009f5a1a8fa88f0b38299ad01562bb37] TRUE\n",
       "\\item[./SpamAssassinMessages//messages/easy\\textbackslash{}\\_ham/00063.0acbc484a73f0e0b727e06c100d8df7b] TRUE\n",
       "\\item[./SpamAssassinMessages//messages/easy\\textbackslash{}\\_ham/0030.77828e31de08ebb58b583688b87524cc] TRUE\n",
       "\\item[./SpamAssassinMessages//messages/easy\\textbackslash{}\\_ham/00368.f86324a03e7ae7070cc40f302385f5d3] TRUE\n",
       "\\item[./SpamAssassinMessages//messages/easy\\textbackslash{}\\_ham/00389.8606961eaeef7b921ce1c53773248d69] TRUE\n",
       "\\item[./SpamAssassinMessages//messages/easy\\textbackslash{}\\_ham/0047.5c3e049737a2813d4ac6f13f02362fb1] TRUE\n",
       "\\item[./SpamAssassinMessages//messages/easy\\textbackslash{}\\_ham/00775.0e012f373467846510d9db297e99a008] TRUE\n",
       "\\item[./SpamAssassinMessages//messages/easy\\textbackslash{}\\_ham/00883.c44a035e7589e83076b7f1fed8fa97d5] TRUE\n",
       "\\end{description*}\n"
      ],
      "text/markdown": [
       "./SpamAssassinMessages//messages/easy_ham/00001.7c53336b37003a9286aba55d2945844c\n",
       ":   FALSE./SpamAssassinMessages//messages/easy_ham/00002.9c4069e25e1ef370c078db7ee85ff9ac\n",
       ":   FALSE./SpamAssassinMessages//messages/easy_ham/00003.860e3c3cee1b42ead714c5c874fe25f7\n",
       ":   FALSE./SpamAssassinMessages//messages/easy_ham/00004.864220c5b6930b209cc287c361c99af1\n",
       ":   FALSE./SpamAssassinMessages//messages/easy_ham/00005.bf27cdeaf0b8c4647ecd61b1d09da613\n",
       ":   FALSE./SpamAssassinMessages//messages/easy_ham/00014.cb20e10b2bfcb8210a1c310798532a57\n",
       ":   TRUE./SpamAssassinMessages//messages/easy_ham/00025.d685245bdc4444f44fa091e6620b20b3\n",
       ":   FALSE./SpamAssassinMessages//messages/easy_ham/00062.009f5a1a8fa88f0b38299ad01562bb37\n",
       ":   TRUE./SpamAssassinMessages//messages/easy_ham/00063.0acbc484a73f0e0b727e06c100d8df7b\n",
       ":   TRUE./SpamAssassinMessages//messages/easy_ham/0030.77828e31de08ebb58b583688b87524cc\n",
       ":   TRUE./SpamAssassinMessages//messages/easy_ham/00368.f86324a03e7ae7070cc40f302385f5d3\n",
       ":   TRUE./SpamAssassinMessages//messages/easy_ham/00389.8606961eaeef7b921ce1c53773248d69\n",
       ":   TRUE./SpamAssassinMessages//messages/easy_ham/0047.5c3e049737a2813d4ac6f13f02362fb1\n",
       ":   TRUE./SpamAssassinMessages//messages/easy_ham/00775.0e012f373467846510d9db297e99a008\n",
       ":   TRUE./SpamAssassinMessages//messages/easy_ham/00883.c44a035e7589e83076b7f1fed8fa97d5\n",
       ":   TRUE\n",
       "\n"
      ],
      "text/plain": [
       "./SpamAssassinMessages//messages/easy_ham/00001.7c53336b37003a9286aba55d2945844c \n",
       "                                                                           FALSE \n",
       "./SpamAssassinMessages//messages/easy_ham/00002.9c4069e25e1ef370c078db7ee85ff9ac \n",
       "                                                                           FALSE \n",
       "./SpamAssassinMessages//messages/easy_ham/00003.860e3c3cee1b42ead714c5c874fe25f7 \n",
       "                                                                           FALSE \n",
       "./SpamAssassinMessages//messages/easy_ham/00004.864220c5b6930b209cc287c361c99af1 \n",
       "                                                                           FALSE \n",
       "./SpamAssassinMessages//messages/easy_ham/00005.bf27cdeaf0b8c4647ecd61b1d09da613 \n",
       "                                                                           FALSE \n",
       "./SpamAssassinMessages//messages/easy_ham/00014.cb20e10b2bfcb8210a1c310798532a57 \n",
       "                                                                            TRUE \n",
       "./SpamAssassinMessages//messages/easy_ham/00025.d685245bdc4444f44fa091e6620b20b3 \n",
       "                                                                           FALSE \n",
       "./SpamAssassinMessages//messages/easy_ham/00062.009f5a1a8fa88f0b38299ad01562bb37 \n",
       "                                                                            TRUE \n",
       "./SpamAssassinMessages//messages/easy_ham/00063.0acbc484a73f0e0b727e06c100d8df7b \n",
       "                                                                            TRUE \n",
       " ./SpamAssassinMessages//messages/easy_ham/0030.77828e31de08ebb58b583688b87524cc \n",
       "                                                                            TRUE \n",
       "./SpamAssassinMessages//messages/easy_ham/00368.f86324a03e7ae7070cc40f302385f5d3 \n",
       "                                                                            TRUE \n",
       "./SpamAssassinMessages//messages/easy_ham/00389.8606961eaeef7b921ce1c53773248d69 \n",
       "                                                                            TRUE \n",
       " ./SpamAssassinMessages//messages/easy_ham/0047.5c3e049737a2813d4ac6f13f02362fb1 \n",
       "                                                                            TRUE \n",
       "./SpamAssassinMessages//messages/easy_ham/00775.0e012f373467846510d9db297e99a008 \n",
       "                                                                            TRUE \n",
       "./SpamAssassinMessages//messages/easy_ham/00883.c44a035e7589e83076b7f1fed8fa97d5 \n",
       "                                                                            TRUE "
      ]
     },
     "metadata": {},
     "output_type": "display_data"
    }
   ],
   "source": [
    "\n",
    "\n",
    "sapply(headerList, function(header) {\n",
    "                       CTloc = grep(\"Content-Type\", header)\n",
    "                       if (length(CTloc) == 0) return(NA)\n",
    "                       CTloc\n",
    "                   })\n",
    "\n",
    "hasAttach = sapply(headerList, function(header) {\n",
    "  CTloc = grep(\"Content-Type\", header)\n",
    "  if (length(CTloc) == 0) return(FALSE)\n",
    "  grepl(\"multi\", tolower(header[CTloc])) \n",
    "})\n",
    "\n",
    "hasAttach\n"
   ]
  },
  {
   "cell_type": "code",
   "execution_count": 16,
   "metadata": {},
   "outputs": [
    {
     "data": {
      "text/html": [
       "<span style=white-space:pre-wrap>'    boundary=\"==_Exmh_-1317289252P\";'</span>"
      ],
      "text/latex": [
       "'    boundary=\"==\\_Exmh\\_-1317289252P\";'"
      ],
      "text/markdown": [
       "<span style=white-space:pre-wrap>'    boundary=\"==_Exmh_-1317289252P\";'</span>"
      ],
      "text/plain": [
       "[1] \"    boundary=\\\"==_Exmh_-1317289252P\\\";\""
      ]
     },
     "metadata": {},
     "output_type": "display_data"
    },
    {
     "data": {
      "text/html": [
       "'==_Exmh_-1317289252P'"
      ],
      "text/latex": [
       "'==\\_Exmh\\_-1317289252P'"
      ],
      "text/markdown": [
       "'==_Exmh_-1317289252P'"
      ],
      "text/plain": [
       "[1] \"==_Exmh_-1317289252P\""
      ]
     },
     "metadata": {},
     "output_type": "display_data"
    },
    {
     "data": {
      "text/html": [
       "'Content-Type: multipart/alternative; boundary=Apple-Mail-2-874629474'"
      ],
      "text/latex": [
       "'Content-Type: multipart/alternative; boundary=Apple-Mail-2-874629474'"
      ],
      "text/markdown": [
       "'Content-Type: multipart/alternative; boundary=Apple-Mail-2-874629474'"
      ],
      "text/plain": [
       "[1] \"Content-Type: multipart/alternative; boundary=Apple-Mail-2-874629474\""
      ]
     },
     "metadata": {},
     "output_type": "display_data"
    }
   ],
   "source": [
    "header = sampleSplit[[6]]$header\n",
    "boundaryIdx = grep(\"boundary=\", header)\n",
    "header[boundaryIdx]\n",
    "\n",
    "sub(\".*boundary=\\\"(.*)\\\";.*\", \"\\\\1\", header[boundaryIdx])\n",
    "\n",
    "header2 = headerList[[9]]\n",
    "boundaryIdx2 = grep(\"boundary=\", header2)\n",
    "header2[boundaryIdx2]"
   ]
  },
  {
   "cell_type": "code",
   "execution_count": 17,
   "metadata": {},
   "outputs": [
    {
     "data": {
      "text/html": [
       "'Content-Type: multipart/alternative; boundary=Apple-Mail-2-874629474'"
      ],
      "text/latex": [
       "'Content-Type: multipart/alternative; boundary=Apple-Mail-2-874629474'"
      ],
      "text/markdown": [
       "'Content-Type: multipart/alternative; boundary=Apple-Mail-2-874629474'"
      ],
      "text/plain": [
       "[1] \"Content-Type: multipart/alternative; boundary=Apple-Mail-2-874629474\""
      ]
     },
     "metadata": {},
     "output_type": "display_data"
    },
    {
     "data": {
      "text/html": [
       "'Apple-Mail-2-874629474'"
      ],
      "text/latex": [
       "'Apple-Mail-2-874629474'"
      ],
      "text/markdown": [
       "'Apple-Mail-2-874629474'"
      ],
      "text/plain": [
       "[1] \"Apple-Mail-2-874629474\""
      ]
     },
     "metadata": {},
     "output_type": "display_data"
    },
    {
     "data": {
      "text/html": [
       "'==_Exmh_-1317289252P;'"
      ],
      "text/latex": [
       "'==\\_Exmh\\_-1317289252P;'"
      ],
      "text/markdown": [
       "'==_Exmh_-1317289252P;'"
      ],
      "text/plain": [
       "[1] \"==_Exmh_-1317289252P;\""
      ]
     },
     "metadata": {},
     "output_type": "display_data"
    },
    {
     "data": {
      "text/html": [
       "'==_Exmh_-1317289252P'"
      ],
      "text/latex": [
       "'==\\_Exmh\\_-1317289252P'"
      ],
      "text/markdown": [
       "'==_Exmh_-1317289252P'"
      ],
      "text/plain": [
       "[1] \"==_Exmh_-1317289252P\""
      ]
     },
     "metadata": {},
     "output_type": "display_data"
    },
    {
     "data": {
      "text/html": [
       "<ol class=list-inline>\n",
       "\t<li>'--==_Exmh_-1317289252P'</li>\n",
       "\t<li>'Content-Type: text/plain; charset=us-ascii'</li>\n",
       "\t<li>''</li>\n",
       "\t<li><span style=white-space:pre-wrap>'&gt; From:  Chris Garrigues &lt;cwg-exmh@DeepEddy.Com&gt;'</span></li>\n",
       "\t<li><span style=white-space:pre-wrap>'&gt; Date:  Wed, 21 Aug 2002 10:40:39 -0500'</span></li>\n",
       "\t<li>'&gt;'</li>\n",
       "\t<li><span style=white-space:pre-wrap>'&gt; &gt; From:  Chris Garrigues &lt;cwg-exmh@DeepEddy.Com&gt;'</span></li>\n",
       "\t<li><span style=white-space:pre-wrap>'&gt; &gt; Date:  Wed, 21 Aug 2002 10:17:45 -0500'</span></li>\n",
       "\t<li>'&gt; &gt;'</li>\n",
       "\t<li>'&gt; &gt; Ouch...I\\'ll get right on it.'</li>\n",
       "\t<li>'&gt; &gt; '</li>\n",
       "\t<li><span style=white-space:pre-wrap>'&gt; &gt; &gt; From:  Robert Elz &lt;kre@munnari.OZ.AU&gt;'</span></li>\n",
       "\t<li><span style=white-space:pre-wrap>'&gt; &gt; &gt; Date:  Wed, 21 Aug 2002 19:30:01 +0700'</span></li>\n",
       "\t<li>'&gt; &gt; &gt;'</li>\n",
       "\t<li><span style=white-space:pre-wrap>'&gt; &gt; &gt; Any chance of having that lengthen instead?   I like all my exmh stuff'</span></li>\n",
       "\t<li><span style=white-space:pre-wrap>'&gt; &gt; &gt; in nice columns (fits the display better).   That is, I use the detache'</span></li>\n",
       "\t<li>'&gt; d'</li>\n",
       "\t<li><span style=white-space:pre-wrap>'&gt; &gt; &gt; folder list, one column.   The main exmh window takes up full screen,'</span></li>\n",
       "\t<li>'&gt; &gt; &gt; top to bottom, but less than half the width, etc...'</li>\n",
       "\t<li>'&gt; '</li>\n",
       "\t<li><span style=white-space:pre-wrap>'&gt; I thought about that.  The first order approximation would be to just add '</span></li>\n",
       "\t<li>'&gt; using pack .... -side top instead of pack ... -side left, however, since their '</li>\n",
       "\t<li>'&gt; each a different width, it would look funny.'</li>\n",
       "\t<li>''</li>\n",
       "\t<li><span style=white-space:pre-wrap>'I\\'ve done this.  It\\'s not as pretty as I think it should be, but it works.  '</span></li>\n",
       "\t<li><span style=white-space:pre-wrap>'I\\'m going to leave the cosmetic issues to others.  When I update the '</span></li>\n",
       "\t<li>'documentation, I\\'ll add this to the exmh.TODO file.'</li>\n",
       "\t<li>''</li>\n",
       "\t<li>'I\\'m leaving for a 2 1/2 week vacation in a week, so this is the last new '</li>\n",
       "\t<li><span style=white-space:pre-wrap>'functionality I\\'m going to add for a while.  Also, I now have pretty much '</span></li>\n",
       "\t<li>'everything in there that I want for my own use, so I\\'m probably pretty much '</li>\n",
       "\t<li><span style=white-space:pre-wrap>'done.  I\\'ll work on bug fixes and documentation before my vacation, and '</span></li>\n",
       "\t<li>'hopefully do nothing more afterwards.'</li>\n",
       "\t<li>''</li>\n",
       "\t<li>'Chris'</li>\n",
       "\t<li>''</li>\n",
       "\t<li>'-- '</li>\n",
       "\t<li><span style=white-space:pre-wrap>'Chris Garrigues                 http://www.DeepEddy.Com/~cwg/'</span></li>\n",
       "\t<li><span style=white-space:pre-wrap>'virCIO                          http://www.virCIO.Com'</span></li>\n",
       "\t<li>'716 Congress, Suite 200'</li>\n",
       "\t<li><span style=white-space:pre-wrap>'Austin, TX  78701\\t\\t+1 512 374 0500'</span></li>\n",
       "\t<li>''</li>\n",
       "\t<li><span style=white-space:pre-wrap>'  World War III:  The Wrong-Doers Vs. the Evil-Doers.'</span></li>\n",
       "\t<li>''</li>\n",
       "\t<li>''</li>\n",
       "\t<li>''</li>\n",
       "\t<li>''</li>\n",
       "\t<li>'--==_Exmh_-1317289252P'</li>\n",
       "\t<li>'Content-Type: application/pgp-signature'</li>\n",
       "\t<li>''</li>\n",
       "\t<li>'-----BEGIN PGP SIGNATURE-----'</li>\n",
       "\t<li>'Version: GnuPG v1.0.6 (GNU/Linux)'</li>\n",
       "\t<li>'Comment: Exmh version 2.2_20000822 06/23/2000'</li>\n",
       "\t<li>''</li>\n",
       "\t<li>'iD8DBQE9ZQJ/K9b4h5R0IUIRAiPuAJwL4mUus5whLNQZC8MsDlGpEdKNrACcDfZH'</li>\n",
       "\t<li>'PcGgN9frLIM+C5Z3vagi2wE='</li>\n",
       "\t<li>'=qJoJ'</li>\n",
       "\t<li>'-----END PGP SIGNATURE-----'</li>\n",
       "\t<li>''</li>\n",
       "\t<li>'--==_Exmh_-1317289252P--'</li>\n",
       "\t<li>''</li>\n",
       "\t<li>''</li>\n",
       "\t<li>''</li>\n",
       "\t<li>'_______________________________________________'</li>\n",
       "\t<li>'Exmh-workers mailing list'</li>\n",
       "\t<li>'Exmh-workers@redhat.com'</li>\n",
       "\t<li>'https://listman.redhat.com/mailman/listinfo/exmh-workers'</li>\n",
       "\t<li>''</li>\n",
       "</ol>\n"
      ],
      "text/latex": [
       "\\begin{enumerate*}\n",
       "\\item '--==\\_Exmh\\_-1317289252P'\n",
       "\\item 'Content-Type: text/plain; charset=us-ascii'\n",
       "\\item ''\n",
       "\\item '> From:  Chris Garrigues <cwg-exmh@DeepEddy.Com>'\n",
       "\\item '> Date:  Wed, 21 Aug 2002 10:40:39 -0500'\n",
       "\\item '>'\n",
       "\\item '> > From:  Chris Garrigues <cwg-exmh@DeepEddy.Com>'\n",
       "\\item '> > Date:  Wed, 21 Aug 2002 10:17:45 -0500'\n",
       "\\item '> >'\n",
       "\\item '> > Ouch...I\\textbackslash{}'ll get right on it.'\n",
       "\\item '> > '\n",
       "\\item '> > > From:  Robert Elz <kre@munnari.OZ.AU>'\n",
       "\\item '> > > Date:  Wed, 21 Aug 2002 19:30:01 +0700'\n",
       "\\item '> > >'\n",
       "\\item '> > > Any chance of having that lengthen instead?   I like all my exmh stuff'\n",
       "\\item '> > > in nice columns (fits the display better).   That is, I use the detache'\n",
       "\\item '> d'\n",
       "\\item '> > > folder list, one column.   The main exmh window takes up full screen,'\n",
       "\\item '> > > top to bottom, but less than half the width, etc...'\n",
       "\\item '> '\n",
       "\\item '> I thought about that.  The first order approximation would be to just add '\n",
       "\\item '> using pack .... -side top instead of pack ... -side left, however, since their '\n",
       "\\item '> each a different width, it would look funny.'\n",
       "\\item ''\n",
       "\\item 'I\\textbackslash{}'ve done this.  It\\textbackslash{}'s not as pretty as I think it should be, but it works.  '\n",
       "\\item 'I\\textbackslash{}'m going to leave the cosmetic issues to others.  When I update the '\n",
       "\\item 'documentation, I\\textbackslash{}'ll add this to the exmh.TODO file.'\n",
       "\\item ''\n",
       "\\item 'I\\textbackslash{}'m leaving for a 2 1/2 week vacation in a week, so this is the last new '\n",
       "\\item 'functionality I\\textbackslash{}'m going to add for a while.  Also, I now have pretty much '\n",
       "\\item 'everything in there that I want for my own use, so I\\textbackslash{}'m probably pretty much '\n",
       "\\item 'done.  I\\textbackslash{}'ll work on bug fixes and documentation before my vacation, and '\n",
       "\\item 'hopefully do nothing more afterwards.'\n",
       "\\item ''\n",
       "\\item 'Chris'\n",
       "\\item ''\n",
       "\\item '-- '\n",
       "\\item 'Chris Garrigues                 http://www.DeepEddy.Com/\\textasciitilde{}cwg/'\n",
       "\\item 'virCIO                          http://www.virCIO.Com'\n",
       "\\item '716 Congress, Suite 200'\n",
       "\\item 'Austin, TX  78701\\textbackslash{}t\\textbackslash{}t+1 512 374 0500'\n",
       "\\item ''\n",
       "\\item '  World War III:  The Wrong-Doers Vs. the Evil-Doers.'\n",
       "\\item ''\n",
       "\\item ''\n",
       "\\item ''\n",
       "\\item ''\n",
       "\\item '--==\\_Exmh\\_-1317289252P'\n",
       "\\item 'Content-Type: application/pgp-signature'\n",
       "\\item ''\n",
       "\\item '-----BEGIN PGP SIGNATURE-----'\n",
       "\\item 'Version: GnuPG v1.0.6 (GNU/Linux)'\n",
       "\\item 'Comment: Exmh version 2.2\\_20000822 06/23/2000'\n",
       "\\item ''\n",
       "\\item 'iD8DBQE9ZQJ/K9b4h5R0IUIRAiPuAJwL4mUus5whLNQZC8MsDlGpEdKNrACcDfZH'\n",
       "\\item 'PcGgN9frLIM+C5Z3vagi2wE='\n",
       "\\item '=qJoJ'\n",
       "\\item '-----END PGP SIGNATURE-----'\n",
       "\\item ''\n",
       "\\item '--==\\_Exmh\\_-1317289252P--'\n",
       "\\item ''\n",
       "\\item ''\n",
       "\\item ''\n",
       "\\item '\\_\\_\\_\\_\\_\\_\\_\\_\\_\\_\\_\\_\\_\\_\\_\\_\\_\\_\\_\\_\\_\\_\\_\\_\\_\\_\\_\\_\\_\\_\\_\\_\\_\\_\\_\\_\\_\\_\\_\\_\\_\\_\\_\\_\\_\\_\\_'\n",
       "\\item 'Exmh-workers mailing list'\n",
       "\\item 'Exmh-workers@redhat.com'\n",
       "\\item 'https://listman.redhat.com/mailman/listinfo/exmh-workers'\n",
       "\\item ''\n",
       "\\end{enumerate*}\n"
      ],
      "text/markdown": [
       "1. '--==_Exmh_-1317289252P'\n",
       "2. 'Content-Type: text/plain; charset=us-ascii'\n",
       "3. ''\n",
       "4. <span style=white-space:pre-wrap>'&gt; From:  Chris Garrigues &lt;cwg-exmh@DeepEddy.Com&gt;'</span>\n",
       "5. <span style=white-space:pre-wrap>'&gt; Date:  Wed, 21 Aug 2002 10:40:39 -0500'</span>\n",
       "6. '&gt;'\n",
       "7. <span style=white-space:pre-wrap>'&gt; &gt; From:  Chris Garrigues &lt;cwg-exmh@DeepEddy.Com&gt;'</span>\n",
       "8. <span style=white-space:pre-wrap>'&gt; &gt; Date:  Wed, 21 Aug 2002 10:17:45 -0500'</span>\n",
       "9. '&gt; &gt;'\n",
       "10. '&gt; &gt; Ouch...I\\'ll get right on it.'\n",
       "11. '&gt; &gt; '\n",
       "12. <span style=white-space:pre-wrap>'&gt; &gt; &gt; From:  Robert Elz &lt;kre@munnari.OZ.AU&gt;'</span>\n",
       "13. <span style=white-space:pre-wrap>'&gt; &gt; &gt; Date:  Wed, 21 Aug 2002 19:30:01 +0700'</span>\n",
       "14. '&gt; &gt; &gt;'\n",
       "15. <span style=white-space:pre-wrap>'&gt; &gt; &gt; Any chance of having that lengthen instead?   I like all my exmh stuff'</span>\n",
       "16. <span style=white-space:pre-wrap>'&gt; &gt; &gt; in nice columns (fits the display better).   That is, I use the detache'</span>\n",
       "17. '&gt; d'\n",
       "18. <span style=white-space:pre-wrap>'&gt; &gt; &gt; folder list, one column.   The main exmh window takes up full screen,'</span>\n",
       "19. '&gt; &gt; &gt; top to bottom, but less than half the width, etc...'\n",
       "20. '&gt; '\n",
       "21. <span style=white-space:pre-wrap>'&gt; I thought about that.  The first order approximation would be to just add '</span>\n",
       "22. '&gt; using pack .... -side top instead of pack ... -side left, however, since their '\n",
       "23. '&gt; each a different width, it would look funny.'\n",
       "24. ''\n",
       "25. <span style=white-space:pre-wrap>'I\\'ve done this.  It\\'s not as pretty as I think it should be, but it works.  '</span>\n",
       "26. <span style=white-space:pre-wrap>'I\\'m going to leave the cosmetic issues to others.  When I update the '</span>\n",
       "27. 'documentation, I\\'ll add this to the exmh.TODO file.'\n",
       "28. ''\n",
       "29. 'I\\'m leaving for a 2 1/2 week vacation in a week, so this is the last new '\n",
       "30. <span style=white-space:pre-wrap>'functionality I\\'m going to add for a while.  Also, I now have pretty much '</span>\n",
       "31. 'everything in there that I want for my own use, so I\\'m probably pretty much '\n",
       "32. <span style=white-space:pre-wrap>'done.  I\\'ll work on bug fixes and documentation before my vacation, and '</span>\n",
       "33. 'hopefully do nothing more afterwards.'\n",
       "34. ''\n",
       "35. 'Chris'\n",
       "36. ''\n",
       "37. '-- '\n",
       "38. <span style=white-space:pre-wrap>'Chris Garrigues                 http://www.DeepEddy.Com/~cwg/'</span>\n",
       "39. <span style=white-space:pre-wrap>'virCIO                          http://www.virCIO.Com'</span>\n",
       "40. '716 Congress, Suite 200'\n",
       "41. <span style=white-space:pre-wrap>'Austin, TX  78701\\t\\t+1 512 374 0500'</span>\n",
       "42. ''\n",
       "43. <span style=white-space:pre-wrap>'  World War III:  The Wrong-Doers Vs. the Evil-Doers.'</span>\n",
       "44. ''\n",
       "45. ''\n",
       "46. ''\n",
       "47. ''\n",
       "48. '--==_Exmh_-1317289252P'\n",
       "49. 'Content-Type: application/pgp-signature'\n",
       "50. ''\n",
       "51. '-----BEGIN PGP SIGNATURE-----'\n",
       "52. 'Version: GnuPG v1.0.6 (GNU/Linux)'\n",
       "53. 'Comment: Exmh version 2.2_20000822 06/23/2000'\n",
       "54. ''\n",
       "55. 'iD8DBQE9ZQJ/K9b4h5R0IUIRAiPuAJwL4mUus5whLNQZC8MsDlGpEdKNrACcDfZH'\n",
       "56. 'PcGgN9frLIM+C5Z3vagi2wE='\n",
       "57. '=qJoJ'\n",
       "58. '-----END PGP SIGNATURE-----'\n",
       "59. ''\n",
       "60. '--==_Exmh_-1317289252P--'\n",
       "61. ''\n",
       "62. ''\n",
       "63. ''\n",
       "64. '_______________________________________________'\n",
       "65. 'Exmh-workers mailing list'\n",
       "66. 'Exmh-workers@redhat.com'\n",
       "67. 'https://listman.redhat.com/mailman/listinfo/exmh-workers'\n",
       "68. ''\n",
       "\n",
       "\n"
      ],
      "text/plain": [
       " [1] \"--==_Exmh_-1317289252P\"                                                           \n",
       " [2] \"Content-Type: text/plain; charset=us-ascii\"                                       \n",
       " [3] \"\"                                                                                 \n",
       " [4] \"> From:  Chris Garrigues <cwg-exmh@DeepEddy.Com>\"                                 \n",
       " [5] \"> Date:  Wed, 21 Aug 2002 10:40:39 -0500\"                                         \n",
       " [6] \">\"                                                                                \n",
       " [7] \"> > From:  Chris Garrigues <cwg-exmh@DeepEddy.Com>\"                               \n",
       " [8] \"> > Date:  Wed, 21 Aug 2002 10:17:45 -0500\"                                       \n",
       " [9] \"> >\"                                                                              \n",
       "[10] \"> > Ouch...I'll get right on it.\"                                                 \n",
       "[11] \"> > \"                                                                             \n",
       "[12] \"> > > From:  Robert Elz <kre@munnari.OZ.AU>\"                                      \n",
       "[13] \"> > > Date:  Wed, 21 Aug 2002 19:30:01 +0700\"                                     \n",
       "[14] \"> > >\"                                                                            \n",
       "[15] \"> > > Any chance of having that lengthen instead?   I like all my exmh stuff\"     \n",
       "[16] \"> > > in nice columns (fits the display better).   That is, I use the detache\"    \n",
       "[17] \"> d\"                                                                              \n",
       "[18] \"> > > folder list, one column.   The main exmh window takes up full screen,\"      \n",
       "[19] \"> > > top to bottom, but less than half the width, etc...\"                        \n",
       "[20] \"> \"                                                                               \n",
       "[21] \"> I thought about that.  The first order approximation would be to just add \"     \n",
       "[22] \"> using pack .... -side top instead of pack ... -side left, however, since their \"\n",
       "[23] \"> each a different width, it would look funny.\"                                   \n",
       "[24] \"\"                                                                                 \n",
       "[25] \"I've done this.  It's not as pretty as I think it should be, but it works.  \"     \n",
       "[26] \"I'm going to leave the cosmetic issues to others.  When I update the \"            \n",
       "[27] \"documentation, I'll add this to the exmh.TODO file.\"                              \n",
       "[28] \"\"                                                                                 \n",
       "[29] \"I'm leaving for a 2 1/2 week vacation in a week, so this is the last new \"        \n",
       "[30] \"functionality I'm going to add for a while.  Also, I now have pretty much \"       \n",
       "[31] \"everything in there that I want for my own use, so I'm probably pretty much \"     \n",
       "[32] \"done.  I'll work on bug fixes and documentation before my vacation, and \"         \n",
       "[33] \"hopefully do nothing more afterwards.\"                                            \n",
       "[34] \"\"                                                                                 \n",
       "[35] \"Chris\"                                                                            \n",
       "[36] \"\"                                                                                 \n",
       "[37] \"-- \"                                                                              \n",
       "[38] \"Chris Garrigues                 http://www.DeepEddy.Com/~cwg/\"                    \n",
       "[39] \"virCIO                          http://www.virCIO.Com\"                            \n",
       "[40] \"716 Congress, Suite 200\"                                                          \n",
       "[41] \"Austin, TX  78701\\t\\t+1 512 374 0500\"                                               \n",
       "[42] \"\"                                                                                 \n",
       "[43] \"  World War III:  The Wrong-Doers Vs. the Evil-Doers.\"                            \n",
       "[44] \"\"                                                                                 \n",
       "[45] \"\"                                                                                 \n",
       "[46] \"\"                                                                                 \n",
       "[47] \"\"                                                                                 \n",
       "[48] \"--==_Exmh_-1317289252P\"                                                           \n",
       "[49] \"Content-Type: application/pgp-signature\"                                          \n",
       "[50] \"\"                                                                                 \n",
       "[51] \"-----BEGIN PGP SIGNATURE-----\"                                                    \n",
       "[52] \"Version: GnuPG v1.0.6 (GNU/Linux)\"                                                \n",
       "[53] \"Comment: Exmh version 2.2_20000822 06/23/2000\"                                    \n",
       "[54] \"\"                                                                                 \n",
       "[55] \"iD8DBQE9ZQJ/K9b4h5R0IUIRAiPuAJwL4mUus5whLNQZC8MsDlGpEdKNrACcDfZH\"                 \n",
       "[56] \"PcGgN9frLIM+C5Z3vagi2wE=\"                                                         \n",
       "[57] \"=qJoJ\"                                                                            \n",
       "[58] \"-----END PGP SIGNATURE-----\"                                                      \n",
       "[59] \"\"                                                                                 \n",
       "[60] \"--==_Exmh_-1317289252P--\"                                                         \n",
       "[61] \"\"                                                                                 \n",
       "[62] \"\"                                                                                 \n",
       "[63] \"\"                                                                                 \n",
       "[64] \"_______________________________________________\"                                  \n",
       "[65] \"Exmh-workers mailing list\"                                                        \n",
       "[66] \"Exmh-workers@redhat.com\"                                                          \n",
       "[67] \"https://listman.redhat.com/mailman/listinfo/exmh-workers\"                         \n",
       "[68] \"\"                                                                                 "
      ]
     },
     "metadata": {},
     "output_type": "display_data"
    }
   ],
   "source": [
    "sub('.*boundary=\"(.*)\";.*', \"\\\\1\", header2[boundaryIdx2])\n",
    "\n",
    "boundary2 = gsub('\"', \"\", header2[boundaryIdx2])\n",
    "\n",
    "sub(\".*boundary= *(.*);?.*\", \"\\\\1\", boundary2)\n",
    "\n",
    "boundary = gsub('\"', \"\", header[boundaryIdx])\n",
    "sub(\".*boundary= *(.*);?.*\", \"\\\\1\", boundary)\n",
    "\n",
    "sub(\".*boundary= *([^;]*);?.*\", \"\\\\1\", boundary)\n",
    "\n",
    "getBoundary = function(header) {\n",
    "  boundaryIdx = grep(\"boundary=\", header)\n",
    "  boundary = gsub('\"', \"\", header[boundaryIdx])\n",
    "  gsub(\".*boundary= *([^;]*);?.*\", \"\\\\1\", boundary)\n",
    "}\n",
    "\n",
    "sampleSplit[[6]]$body"
   ]
  },
  {
   "cell_type": "code",
   "execution_count": 18,
   "metadata": {},
   "outputs": [
    {
     "data": {
      "text/html": [
       "<ol class=list-inline>\n",
       "\t<li>2</li>\n",
       "\t<li>35</li>\n",
       "</ol>\n"
      ],
      "text/latex": [
       "\\begin{enumerate*}\n",
       "\\item 2\n",
       "\\item 35\n",
       "\\end{enumerate*}\n"
      ],
      "text/markdown": [
       "1. 2\n",
       "2. 35\n",
       "\n",
       "\n"
      ],
      "text/plain": [
       "[1]  2 35"
      ]
     },
     "metadata": {},
     "output_type": "display_data"
    },
    {
     "data": {
      "text/html": [
       "77"
      ],
      "text/latex": [
       "77"
      ],
      "text/markdown": [
       "77"
      ],
      "text/plain": [
       "[1] 77"
      ]
     },
     "metadata": {},
     "output_type": "display_data"
    },
    {
     "data": {
      "text/html": [
       "<ol class=list-inline>\n",
       "\t<li>'&gt;'</li>\n",
       "\t<li>'&gt;Yuck'</li>\n",
       "\t<li><span style=white-space:pre-wrap>'&gt;  '</span></li>\n",
       "\t<li>'&gt;'</li>\n",
       "\t<li>''</li>\n",
       "\t<li>''</li>\n",
       "</ol>\n"
      ],
      "text/latex": [
       "\\begin{enumerate*}\n",
       "\\item '>'\n",
       "\\item '>Yuck'\n",
       "\\item '>  '\n",
       "\\item '>'\n",
       "\\item ''\n",
       "\\item ''\n",
       "\\end{enumerate*}\n"
      ],
      "text/markdown": [
       "1. '&gt;'\n",
       "2. '&gt;Yuck'\n",
       "3. <span style=white-space:pre-wrap>'&gt;  '</span>\n",
       "4. '&gt;'\n",
       "5. ''\n",
       "6. ''\n",
       "\n",
       "\n"
      ],
      "text/plain": [
       "[1] \">\"     \">Yuck\" \">  \"   \">\"     \"\"      \"\"     "
      ]
     },
     "metadata": {},
     "output_type": "display_data"
    },
    {
     "data": {
      "text/html": [
       "<ol class=list-inline>\n",
       "\t<li><span style=white-space:pre-wrap>'&gt;  '</span></li>\n",
       "\t<li>'&gt;'</li>\n",
       "\t<li>''</li>\n",
       "\t<li>''</li>\n",
       "\t<li>''</li>\n",
       "\t<li>''</li>\n",
       "</ol>\n"
      ],
      "text/latex": [
       "\\begin{enumerate*}\n",
       "\\item '>  '\n",
       "\\item '>'\n",
       "\\item ''\n",
       "\\item ''\n",
       "\\item ''\n",
       "\\item ''\n",
       "\\end{enumerate*}\n"
      ],
      "text/markdown": [
       "1. <span style=white-space:pre-wrap>'&gt;  '</span>\n",
       "2. '&gt;'\n",
       "3. ''\n",
       "4. ''\n",
       "5. ''\n",
       "6. ''\n",
       "\n",
       "\n"
      ],
      "text/plain": [
       "[1] \">  \" \">\"   \"\"    \"\"    \"\"    \"\"   "
      ]
     },
     "metadata": {},
     "output_type": "display_data"
    }
   ],
   "source": [
    "\n",
    "\n",
    "boundary = getBoundary(headerList[[15]]) \n",
    "body = sampleSplit[[15]]$body\n",
    "\n",
    "bString = paste(\"--\", boundary, sep = \"\")\n",
    "bStringLocs = which(bString == body)\n",
    "bStringLocs\n",
    "\n",
    "eString = paste(\"--\", boundary, \"--\", sep = \"\")\n",
    "eStringLoc = which(eString == body)\n",
    "eStringLoc\n",
    "\n",
    "msg = body[ (bStringLocs[1] + 1) : (bStringLocs[2] - 1)]\n",
    "tail(msg)\n",
    "\n",
    "msg = c(msg, body[ (eStringLoc + 1) : length(body) ])\n",
    "tail(msg)"
   ]
  },
  {
   "cell_type": "code",
   "execution_count": 19,
   "metadata": {},
   "outputs": [],
   "source": [
    "dropAttach = function(body, boundary){\n",
    "  \n",
    "  bString = paste(\"--\", boundary, sep = \"\")\n",
    "  bStringLocs = which(bString == body)\n",
    "  \n",
    "  if (length(bStringLocs) <= 1) return(body)\n",
    "  \n",
    "  eString = paste(\"--\", boundary, \"--\", sep = \"\")\n",
    "  eStringLoc = which(eString == body)\n",
    "  if (length(eStringLoc) == 0) \n",
    "    return(body[ (bStringLocs[1] + 1) : (bStringLocs[2] - 1)])\n",
    "  \n",
    "  n = length(body)\n",
    "  if (eStringLoc < n) \n",
    "     return( body[ c( (bStringLocs[1] + 1) : (bStringLocs[2] - 1), \n",
    "                    ( (eStringLoc + 1) : n )) ] )\n",
    "  \n",
    "  return( body[ (bStringLocs[1] + 1) : (bStringLocs[2] - 1) ])\n",
    "}"
   ]
  },
  {
   "cell_type": "code",
   "execution_count": 20,
   "metadata": {},
   "outputs": [
    {
     "data": {
      "text/html": [
       "<ol class=list-inline>\n",
       "\t<li><span style=white-space:pre-wrap>'    Date:        Wed, 21 Aug 2002 10:54:46 -0500'</span></li>\n",
       "\t<li><span style=white-space:pre-wrap>'    From:        Chris Garrigues &lt;cwg-dated-1030377287.06fa6d@DeepEddy.Com&gt;'</span></li>\n",
       "\t<li><span style=white-space:pre-wrap>'    Message-ID:  &lt;1029945287.4797.TMDA@deepeddy.vircio.com&gt;'</span></li>\n",
       "\t<li>''</li>\n",
       "\t<li>''</li>\n",
       "\t<li><span style=white-space:pre-wrap>'  | I can\\'t reproduce this error.'</span></li>\n",
       "</ol>\n"
      ],
      "text/latex": [
       "\\begin{enumerate*}\n",
       "\\item '    Date:        Wed, 21 Aug 2002 10:54:46 -0500'\n",
       "\\item '    From:        Chris Garrigues <cwg-dated-1030377287.06fa6d@DeepEddy.Com>'\n",
       "\\item '    Message-ID:  <1029945287.4797.TMDA@deepeddy.vircio.com>'\n",
       "\\item ''\n",
       "\\item ''\n",
       "\\item '  \\textbar{} I can\\textbackslash{}'t reproduce this error.'\n",
       "\\end{enumerate*}\n"
      ],
      "text/markdown": [
       "1. <span style=white-space:pre-wrap>'    Date:        Wed, 21 Aug 2002 10:54:46 -0500'</span>\n",
       "2. <span style=white-space:pre-wrap>'    From:        Chris Garrigues &lt;cwg-dated-1030377287.06fa6d@DeepEddy.Com&gt;'</span>\n",
       "3. <span style=white-space:pre-wrap>'    Message-ID:  &lt;1029945287.4797.TMDA@deepeddy.vircio.com&gt;'</span>\n",
       "4. ''\n",
       "5. ''\n",
       "6. <span style=white-space:pre-wrap>'  | I can\\'t reproduce this error.'</span>\n",
       "\n",
       "\n"
      ],
      "text/plain": [
       "[1] \"    Date:        Wed, 21 Aug 2002 10:54:46 -0500\"                           \n",
       "[2] \"    From:        Chris Garrigues <cwg-dated-1030377287.06fa6d@DeepEddy.Com>\"\n",
       "[3] \"    Message-ID:  <1029945287.4797.TMDA@deepeddy.vircio.com>\"                \n",
       "[4] \"\"                                                                           \n",
       "[5] \"\"                                                                           \n",
       "[6] \"  | I can't reproduce this error.\"                                          "
      ]
     },
     "metadata": {},
     "output_type": "display_data"
    },
    {
     "data": {
      "text/html": [
       "<ol class=list-inline>\n",
       "\t<li>'Man Threatens Explosion In Moscow '</li>\n",
       "\t<li>''</li>\n",
       "\t<li>'Thursday August 22, 2002 1:40 PM'</li>\n",
       "\t<li>'MOSCOW (AP) - Security officers on Thursday seized an unidentified man who'</li>\n",
       "\t<li>'said he was armed with explosives and threatened to blow up his truck in'</li>\n",
       "\t<li>'front of Russia\\'s Federal Security Services headquarters in Moscow, NTV'</li>\n",
       "</ol>\n"
      ],
      "text/latex": [
       "\\begin{enumerate*}\n",
       "\\item 'Man Threatens Explosion In Moscow '\n",
       "\\item ''\n",
       "\\item 'Thursday August 22, 2002 1:40 PM'\n",
       "\\item 'MOSCOW (AP) - Security officers on Thursday seized an unidentified man who'\n",
       "\\item 'said he was armed with explosives and threatened to blow up his truck in'\n",
       "\\item 'front of Russia\\textbackslash{}'s Federal Security Services headquarters in Moscow, NTV'\n",
       "\\end{enumerate*}\n"
      ],
      "text/markdown": [
       "1. 'Man Threatens Explosion In Moscow '\n",
       "2. ''\n",
       "3. 'Thursday August 22, 2002 1:40 PM'\n",
       "4. 'MOSCOW (AP) - Security officers on Thursday seized an unidentified man who'\n",
       "5. 'said he was armed with explosives and threatened to blow up his truck in'\n",
       "6. 'front of Russia\\'s Federal Security Services headquarters in Moscow, NTV'\n",
       "\n",
       "\n"
      ],
      "text/plain": [
       "[1] \"Man Threatens Explosion In Moscow \"                                        \n",
       "[2] \"\"                                                                          \n",
       "[3] \"Thursday August 22, 2002 1:40 PM\"                                          \n",
       "[4] \"MOSCOW (AP) - Security officers on Thursday seized an unidentified man who\"\n",
       "[5] \"said he was armed with explosives and threatened to blow up his truck in\"  \n",
       "[6] \"front of Russia's Federal Security Services headquarters in Moscow, NTV\"   "
      ]
     },
     "metadata": {},
     "output_type": "display_data"
    },
    {
     "data": {
      "text/html": [
       "<ol class=list-inline>\n",
       "\t<li>'Man Threatens Explosion In Moscow '</li>\n",
       "\t<li>'Thursday August 22, 2002 1:40 PM'</li>\n",
       "\t<li>'4 DVDs Free +s&amp;p Join Now'</li>\n",
       "\t<li>'http://us.click.yahoo.com/pt6YBB/NXiEAA/mG3HAA/7gSolB/TM'</li>\n",
       "</ol>\n"
      ],
      "text/latex": [
       "\\begin{enumerate*}\n",
       "\\item 'Man Threatens Explosion In Moscow '\n",
       "\\item 'Thursday August 22, 2002 1:40 PM'\n",
       "\\item '4 DVDs Free +s\\&p Join Now'\n",
       "\\item 'http://us.click.yahoo.com/pt6YBB/NXiEAA/mG3HAA/7gSolB/TM'\n",
       "\\end{enumerate*}\n"
      ],
      "text/markdown": [
       "1. 'Man Threatens Explosion In Moscow '\n",
       "2. 'Thursday August 22, 2002 1:40 PM'\n",
       "3. '4 DVDs Free +s&amp;p Join Now'\n",
       "4. 'http://us.click.yahoo.com/pt6YBB/NXiEAA/mG3HAA/7gSolB/TM'\n",
       "\n",
       "\n"
      ],
      "text/plain": [
       "[1] \"Man Threatens Explosion In Moscow \"                      \n",
       "[2] \"Thursday August 22, 2002 1:40 PM\"                        \n",
       "[3] \"4 DVDs Free +s&p Join Now\"                               \n",
       "[4] \"http://us.click.yahoo.com/pt6YBB/NXiEAA/mG3HAA/7gSolB/TM\""
      ]
     },
     "metadata": {},
     "output_type": "display_data"
    },
    {
     "data": {
      "text/html": [
       "<ol class=list-inline>\n",
       "\t<li>'man threatens explosion in moscow '</li>\n",
       "\t<li>'thursday august pm'</li>\n",
       "\t<li>' dvds free s p join now'</li>\n",
       "\t<li>'http us click yahoo com pt ybb nxieaa mg haa gsolb tm'</li>\n",
       "</ol>\n"
      ],
      "text/latex": [
       "\\begin{enumerate*}\n",
       "\\item 'man threatens explosion in moscow '\n",
       "\\item 'thursday august pm'\n",
       "\\item ' dvds free s p join now'\n",
       "\\item 'http us click yahoo com pt ybb nxieaa mg haa gsolb tm'\n",
       "\\end{enumerate*}\n"
      ],
      "text/markdown": [
       "1. 'man threatens explosion in moscow '\n",
       "2. 'thursday august pm'\n",
       "3. ' dvds free s p join now'\n",
       "4. 'http us click yahoo com pt ybb nxieaa mg haa gsolb tm'\n",
       "\n",
       "\n"
      ],
      "text/plain": [
       "[1] \"man threatens explosion in moscow \"                   \n",
       "[2] \"thursday august pm\"                                   \n",
       "[3] \" dvds free s p join now\"                              \n",
       "[4] \"http us click yahoo com pt ybb nxieaa mg haa gsolb tm\""
      ]
     },
     "metadata": {},
     "output_type": "display_data"
    }
   ],
   "source": [
    "head(sampleSplit[[1]]$body)\n",
    "\n",
    "msg = sampleSplit[[3]]$body\n",
    "head(msg)\n",
    "\n",
    "msg[ c(1, 3, 26, 27) ]\n",
    "\n",
    "cleanMsg = tolower(gsub(\"[[:punct:]0-9[:blank:]]+\", \" \", msg))\n",
    "cleanMsg[ c(1, 3, 26, 27) ]"
   ]
  },
  {
   "cell_type": "code",
   "execution_count": 21,
   "metadata": {},
   "outputs": [],
   "source": [
    "\n",
    "stopWords = stopwords()\n",
    "cleanSW = tolower(gsub(\"[[:punct:]0-9[:blank:]]+\", \" \", stopWords))\n",
    "SWords = unlist(strsplit(cleanSW, \"[[:blank:]]+\"))\n",
    "SWords = SWords[ nchar(SWords) > 1 ]\n",
    "stopWords = unique(SWords)"
   ]
  },
  {
   "cell_type": "code",
   "execution_count": 22,
   "metadata": {},
   "outputs": [
    {
     "data": {
      "text/html": [
       "<ol class=list-inline>\n",
       "\t<li>'man'</li>\n",
       "\t<li>'threatens'</li>\n",
       "\t<li>'explosion'</li>\n",
       "\t<li>'moscow'</li>\n",
       "\t<li>'thursday'</li>\n",
       "\t<li>'august'</li>\n",
       "</ol>\n"
      ],
      "text/latex": [
       "\\begin{enumerate*}\n",
       "\\item 'man'\n",
       "\\item 'threatens'\n",
       "\\item 'explosion'\n",
       "\\item 'moscow'\n",
       "\\item 'thursday'\n",
       "\\item 'august'\n",
       "\\end{enumerate*}\n"
      ],
      "text/markdown": [
       "1. 'man'\n",
       "2. 'threatens'\n",
       "3. 'explosion'\n",
       "4. 'moscow'\n",
       "5. 'thursday'\n",
       "6. 'august'\n",
       "\n",
       "\n"
      ],
      "text/plain": [
       "[1] \"man\"       \"threatens\" \"explosion\" \"moscow\"    \"thursday\"  \"august\"   "
      ]
     },
     "metadata": {},
     "output_type": "display_data"
    }
   ],
   "source": [
    "words = unlist(strsplit(cleanMsg, \"[[:blank:]]+\"))\n",
    "\n",
    "words = words[ nchar(words) > 1 ]\n",
    "\n",
    "words = words[ !( words %in% stopWords) ]\n",
    "head(words)"
   ]
  },
  {
   "cell_type": "code",
   "execution_count": 23,
   "metadata": {},
   "outputs": [],
   "source": [
    "cleanText = function(msg)   {\n",
    "  tolower(gsub(\"[[:punct:]0-9[:space:][:blank:]]+\", \" \", msg))\n",
    "}\n",
    "\n",
    "findMsgWords = \n",
    "function(msg, stopWords) {\n",
    " if(is.null(msg))\n",
    "  return(character())\n",
    "\n",
    " words = unique(unlist(strsplit(cleanText(msg), \"[[:blank:]\\t]+\")))\n",
    " \n",
    " # drop empty and 1 letter words\n",
    " words = words[ nchar(words) > 1]\n",
    " words = words[ !( words %in% stopWords) ]\n",
    " invisible(words)\n",
    "}"
   ]
  },
  {
   "cell_type": "code",
   "execution_count": 24,
   "metadata": {},
   "outputs": [],
   "source": [
    "\n",
    "processAllWords = function(dirName, stopWords)\n",
    "{\n",
    "       # read all files in the directory\n",
    "  fileNames = list.files(dirName, full.names = TRUE)\n",
    "       # drop files that are not email, i.e., cmds\n",
    "  notEmail = grep(\"cmds$\", fileNames)\n",
    "  if ( length(notEmail) > 0) fileNames = fileNames[ - notEmail ]\n",
    "\n",
    "  messages = lapply(fileNames, readLines, encoding = \"latin1\")\n",
    "  \n",
    "       # split header and body\n",
    "  emailSplit = lapply(messages, splitMessage)\n",
    "       # put body and header in own lists\n",
    "  bodyList = lapply(emailSplit, function(msg) msg$body)\n",
    "  headerList = lapply(emailSplit, function(msg) msg$header)\n",
    "  rm(emailSplit)\n",
    "  \n",
    "       # determine which messages have attachments\n",
    "  hasAttach = sapply(headerList, function(header) {\n",
    "    CTloc = grep(\"Content-Type\", header)\n",
    "    if (length(CTloc) == 0) return(0)\n",
    "    multi = grep(\"multi\", tolower(header[CTloc])) \n",
    "    if (length(multi) == 0) return(0)\n",
    "    multi\n",
    "  })\n",
    "  \n",
    "  hasAttach = which(hasAttach > 0)\n",
    "  \n",
    "       # find boundary strings for messages with attachments\n",
    "  boundaries = sapply(headerList[hasAttach], getBoundary)\n",
    "  \n",
    "       # drop attachments from message body\n",
    "  bodyList[hasAttach] = mapply(dropAttach, bodyList[hasAttach], \n",
    "                               boundaries, SIMPLIFY = FALSE)\n",
    "  \n",
    "       # extract words from body\n",
    "  msgWordsList = lapply(bodyList, findMsgWords, stopWords)\n",
    "  \n",
    "  invisible(msgWordsList)\n",
    "}\n"
   ]
  },
  {
   "cell_type": "code",
   "execution_count": 25,
   "metadata": {},
   "outputs": [],
   "source": [
    "msgWordsList = lapply(fullDirNames, processAllWords, stopWords = stopWords) "
   ]
  },
  {
   "cell_type": "code",
   "execution_count": 26,
   "metadata": {},
   "outputs": [
    {
     "data": {
      "text/html": [
       "<ol class=list-inline>\n",
       "\t<li>5051</li>\n",
       "\t<li>1400</li>\n",
       "\t<li>500</li>\n",
       "\t<li>1000</li>\n",
       "\t<li>1397</li>\n",
       "</ol>\n"
      ],
      "text/latex": [
       "\\begin{enumerate*}\n",
       "\\item 5051\n",
       "\\item 1400\n",
       "\\item 500\n",
       "\\item 1000\n",
       "\\item 1397\n",
       "\\end{enumerate*}\n"
      ],
      "text/markdown": [
       "1. 5051\n",
       "2. 1400\n",
       "3. 500\n",
       "4. 1000\n",
       "5. 1397\n",
       "\n",
       "\n"
      ],
      "text/plain": [
       "[1] 5051 1400  500 1000 1397"
      ]
     },
     "metadata": {},
     "output_type": "display_data"
    }
   ],
   "source": [
    "numMsgs = sapply(msgWordsList, length)\n",
    "numMsgs"
   ]
  },
  {
   "cell_type": "code",
   "execution_count": 27,
   "metadata": {},
   "outputs": [
    {
     "data": {
      "text/html": [
       "80050"
      ],
      "text/latex": [
       "80050"
      ],
      "text/markdown": [
       "80050"
      ],
      "text/plain": [
       "[1] 80050"
      ]
     },
     "metadata": {},
     "output_type": "display_data"
    }
   ],
   "source": [
    "isSpam = rep(c(FALSE, FALSE, FALSE, TRUE, TRUE), numMsgs)\n",
    "\n",
    "msgWordsList = unlist(msgWordsList, recursive = FALSE)\n",
    "\n",
    "numEmail = length(isSpam)\n",
    "numSpam = sum(isSpam)\n",
    "numHam = numEmail - numSpam\n",
    "\n",
    "set.seed(418910)\n",
    "\n",
    "testSpamIdx = sample(numSpam, size = floor(numSpam/3))\n",
    "testHamIdx = sample(numHam, size = floor(numHam/3))\n",
    "\n",
    "testMsgWords = c((msgWordsList[isSpam])[testSpamIdx],\n",
    "                 (msgWordsList[!isSpam])[testHamIdx] )\n",
    "trainMsgWords = c((msgWordsList[isSpam])[ - testSpamIdx], \n",
    "                  (msgWordsList[!isSpam])[ - testHamIdx])\n",
    "\n",
    "testIsSpam = rep(c(TRUE, FALSE), \n",
    "                 c(length(testSpamIdx), length(testHamIdx)))\n",
    "trainIsSpam = rep(c(TRUE, FALSE), \n",
    "                 c(numSpam - length(testSpamIdx), \n",
    "                   numHam - length(testHamIdx)))\n",
    "\n",
    "bow = unique(unlist(trainMsgWords))\n",
    "\n",
    "length(bow)\n",
    "\n",
    "spamWordCounts = rep(0, length(bow))\n",
    "\n",
    "names(spamWordCounts) = bow\n",
    "\n",
    "tmp = lapply(trainMsgWords[trainIsSpam], unique)\n",
    "tt = table( unlist(tmp) )\n",
    "spamWordCounts[ names(tt) ] = tt"
   ]
  },
  {
   "cell_type": "code",
   "execution_count": 28,
   "metadata": {},
   "outputs": [],
   "source": [
    "computeFreqs =\n",
    "function(wordsList, spam, bow = unique(unlist(wordsList)))\n",
    "{\n",
    "   # create a matrix for spam, ham, and log odds\n",
    "  wordTable = matrix(0.5, nrow = 4, ncol = length(bow), \n",
    "                     dimnames = list(c(\"spam\", \"ham\", \n",
    "                                        \"presentLogOdds\", \n",
    "                                        \"absentLogOdds\"),  bow))\n",
    "\n",
    "   # For each spam message, add 1 to counts for words in message\n",
    "  counts.spam = table(unlist(lapply(wordsList[spam], unique)))\n",
    "  wordTable[\"spam\", names(counts.spam)] = counts.spam + .5\n",
    "\n",
    "   # Similarly for ham messages\n",
    "  counts.ham = table(unlist(lapply(wordsList[!spam], unique)))  \n",
    "  wordTable[\"ham\", names(counts.ham)] = counts.ham + .5  \n",
    "\n",
    "\n",
    "   # Find the total number of spam and ham\n",
    "  numSpam = sum(spam)\n",
    "  numHam = length(spam) - numSpam\n",
    "\n",
    "   # Prob(word|spam) and Prob(word | ham)\n",
    "  wordTable[\"spam\", ] = wordTable[\"spam\", ]/(numSpam + .5)\n",
    "  wordTable[\"ham\", ] = wordTable[\"ham\", ]/(numHam + .5)\n",
    "  \n",
    "   # log odds\n",
    "  wordTable[\"presentLogOdds\", ] = \n",
    "     log(wordTable[\"spam\",]) - log(wordTable[\"ham\", ])\n",
    "  wordTable[\"absentLogOdds\", ] = \n",
    "     log((1 - wordTable[\"spam\", ])) - log((1 -wordTable[\"ham\", ]))\n",
    "\n",
    "  invisible(wordTable)\n",
    "}"
   ]
  },
  {
   "cell_type": "code",
   "execution_count": 29,
   "metadata": {},
   "outputs": [
    {
     "data": {
      "text/html": [
       "15.024062974935"
      ],
      "text/latex": [
       "15.024062974935"
      ],
      "text/markdown": [
       "15.024062974935"
      ],
      "text/plain": [
       "[1] 15.02406"
      ]
     },
     "metadata": {},
     "output_type": "display_data"
    },
    {
     "data": {
      "text/html": [
       "-161.661420087411"
      ],
      "text/latex": [
       "-161.661420087411"
      ],
      "text/markdown": [
       "-161.661420087411"
      ],
      "text/plain": [
       "[1] -161.6614"
      ]
     },
     "metadata": {},
     "output_type": "display_data"
    },
    {
     "data": {
      "text/plain": [
       "$`FALSE`\n",
       "   Min. 1st Qu.  Median    Mean 3rd Qu.    Max. \n",
       "-1076.8  -137.2  -108.3  -125.6   -88.6   753.5 \n",
       "\n",
       "$`TRUE`\n",
       "    Min.  1st Qu.   Median     Mean  3rd Qu.     Max. \n",
       " -85.759   -7.506   36.431   84.980  111.270 1457.719 \n"
      ]
     },
     "metadata": {},
     "output_type": "display_data"
    }
   ],
   "source": [
    "trainTable = computeFreqs(trainMsgWords, trainIsSpam)\n",
    "\n",
    "newMsg = testMsgWords[[1]]\n",
    "\n",
    "newMsg = newMsg[!is.na(match(newMsg, colnames(trainTable)))]\n",
    "\n",
    "present = colnames(trainTable) %in% newMsg\n",
    "\n",
    "sum(trainTable[\"presentLogOdds\", present]) + \n",
    "  sum(trainTable[\"absentLogOdds\", !present])\n",
    "\n",
    "newMsg = testMsgWords[[ which(!testIsSpam)[1] ]]\n",
    "newMsg = newMsg[!is.na(match(newMsg, colnames(trainTable)))]\n",
    "present = (colnames(trainTable) %in% newMsg)\n",
    "sum(trainTable[\"presentLogOdds\", present]) + \n",
    "     sum(trainTable[\"absentLogOdds\", !present])\n",
    "\n",
    "computeMsgLLR = function(words, freqTable) \n",
    "{\n",
    "       # Discards words not in training data.\n",
    "  words = words[!is.na(match(words, colnames(freqTable)))]\n",
    "\n",
    "       # Find which words are present\n",
    "  present = colnames(freqTable) %in% words\n",
    "\n",
    "  sum(freqTable[\"presentLogOdds\", present]) +\n",
    "    sum(freqTable[\"absentLogOdds\", !present])\n",
    "}\n",
    "\n",
    "testLLR = sapply(testMsgWords, computeMsgLLR, trainTable)\n",
    "\n",
    "tapply(testLLR, testIsSpam, summary)\n"
   ]
  },
  {
   "cell_type": "code",
   "execution_count": 30,
   "metadata": {},
   "outputs": [
    {
     "data": {
      "image/png": "[encoded data removed]",
      "text/plain": [
       "plot without title"
      ]
     },
     "metadata": {},
     "output_type": "display_data"
    }
   ],
   "source": [
    "#pdf(\"SP_Boxplot.pdf\", width = 6, height = 6)\n",
    "spamLab = c(\"ham\", \"spam\")[1 + testIsSpam]\n",
    "boxplot(testLLR ~ spamLab, ylab = \"Log Likelihood Ratio\",\n",
    "      #  main = \"Log Likelihood Ratio for Randomly Chosen Test Messages\",\n",
    "        ylim=c(-500, 500))\n",
    "#dev.off()\n"
   ]
  },
  {
   "cell_type": "code",
   "execution_count": 31,
   "metadata": {},
   "outputs": [
    {
     "data": {
      "text/html": [
       "0.00388433318946914"
      ],
      "text/latex": [
       "0.00388433318946914"
      ],
      "text/markdown": [
       "0.00388433318946914"
      ],
      "text/plain": [
       "[1] 0.003884333"
      ]
     },
     "metadata": {},
     "output_type": "display_data"
    },
    {
     "data": {
      "text/html": [
       "0.00604229607250755"
      ],
      "text/latex": [
       "0.00604229607250755"
      ],
      "text/markdown": [
       "0.00604229607250755"
      ],
      "text/plain": [
       "[1] 0.006042296"
      ]
     },
     "metadata": {},
     "output_type": "display_data"
    }
   ],
   "source": [
    "typeIErrorRate = \n",
    "function(tau, llrVals, spam)\n",
    "{\n",
    "  classify = llrVals > tau\n",
    "  sum(classify & !spam)/sum(!spam)\n",
    "}\n",
    "\n",
    "typeIErrorRate(0, testLLR,testIsSpam)\n",
    "\n",
    "typeIErrorRate(-20, testLLR,testIsSpam)\n",
    "\n",
    "typeIErrorRates = \n",
    "function(llrVals, isSpam) \n",
    "{\n",
    "  o = order(llrVals)\n",
    "  llrVals =  llrVals[o]\n",
    "  isSpam = isSpam[o]\n",
    "\n",
    "  idx = which(!isSpam)\n",
    "  N = length(idx)\n",
    "  list(error = (N:1)/N, values = llrVals[idx])\n",
    "}"
   ]
  },
  {
   "cell_type": "code",
   "execution_count": 32,
   "metadata": {},
   "outputs": [],
   "source": [
    "typeIIErrorRates = function(llrVals, isSpam) {\n",
    "    \n",
    "  o = order(llrVals)\n",
    "  llrVals =  llrVals[o]\n",
    "  isSpam = isSpam[o]\n",
    "    \n",
    "    \n",
    "  idx = which(isSpam)\n",
    "  N = length(idx)\n",
    "  list(error = (1:(N))/N, values = llrVals[idx])\n",
    "  }  \n",
    "\n",
    "xI = typeIErrorRates(testLLR, testIsSpam)\n",
    "xII = typeIIErrorRates(testLLR, testIsSpam)\n",
    "tau01 = round(min(xI$values[xI$error <= 0.01]))\n",
    "t2 = max(xII$error[ xII$values < tau01 ])"
   ]
  },
  {
   "cell_type": "code",
   "execution_count": 33,
   "metadata": {},
   "outputs": [
    {
     "data": {
      "image/png": "[encoded data removed]",
      "text/plain": [
       "plot without title"
      ]
     },
     "metadata": {},
     "output_type": "display_data"
    }
   ],
   "source": [
    "#pdf(\"LinePlotTypeI+IIErrors.pdf\", width = 8, height = 6)\n",
    "\n",
    "#library(RColorBrewer)\n",
    "cols = brewer.pal(9, \"Set1\")[c(3, 4, 5)]\n",
    "plot(xII$error ~ xII$values,  type = \"l\", col = cols[1], lwd = 3,\n",
    "     xlim = c(-300, 250), ylim = c(0, 1),\n",
    "     xlab = \"Log Likelihood Ratio Values\", ylab=\"Error Rate\")\n",
    "points(xI$error ~ xI$values, type = \"l\", col = cols[2], lwd = 3)\n",
    "legend(x = 50, y = 0.4, fill = c(cols[2], cols[1]),\n",
    "       legend = c(\"Classify Ham as Spam\", \n",
    "                  \"Classify Spam as Ham\"), cex = 0.8,\n",
    "       bty = \"n\")\n",
    "abline(h=0.01, col =\"grey\", lwd = 3, lty = 2)\n",
    "text(-250, 0.05, pos = 4, \"Type I Error = 0.01\", col = cols[2])\n",
    "\n",
    "mtext(tau01, side = 1, line = 0.5, at = tau01, col = cols[3])\n",
    "segments(x0 = tau01, y0 = -.50, x1 = tau01, y1 = t2, \n",
    "         lwd = 2, col = \"grey\")\n",
    "text(tau01 + 20, 0.05, pos = 4,\n",
    "     paste(\"Type II Error = \", round(t2, digits = 2)), \n",
    "     col = cols[1])\n",
    "\n",
    "#dev.off()"
   ]
  },
  {
   "cell_type": "code",
   "execution_count": 34,
   "metadata": {},
   "outputs": [],
   "source": [
    "k = 5\n",
    "numTrain = length(trainMsgWords)\n",
    "partK = sample(numTrain)\n",
    "tot = k * floor(numTrain/k)\n",
    "partK = matrix(partK[1:tot], ncol = k)\n",
    "\n",
    "testFoldOdds = NULL\n",
    "for (i in 1:k) {\n",
    "  foldIdx = partK[ , i]\n",
    "  trainTabFold = computeFreqs(trainMsgWords[-foldIdx], trainIsSpam[-foldIdx])\n",
    "  testFoldOdds = c(testFoldOdds, \n",
    "               sapply(trainMsgWords[ foldIdx ], computeMsgLLR, trainTabFold))\n",
    "}\n",
    "\n",
    "testFoldSpam = NULL\n",
    "for (i in 1:k) {\n",
    "  foldIdx = partK[ , i]\n",
    "  testFoldSpam = c(testFoldSpam, trainIsSpam[foldIdx])\n",
    "}\n",
    "\n",
    "xFoldI = typeIErrorRates(testFoldOdds, testFoldSpam)\n",
    "xFoldII = typeIIErrorRates(testFoldOdds, testFoldSpam)\n",
    "tauFoldI = round(min(xFoldI$values[xFoldI$error <= 0.01]))\n",
    "tFold2 = xFoldII$error[ xFoldII$values < tauFoldI ]\n",
    "\n",
    "smallNums = rep((1/2)^40, 2000000)"
   ]
  },
  {
   "cell_type": "code",
   "execution_count": 35,
   "metadata": {},
   "outputs": [
    {
     "name": "stdout",
     "output_type": "stream",
     "text": [
      "[1] 1.8189894035458565e-06\n",
      "[1] 10000.000001818989\n",
      "[1] 10000\n"
     ]
    },
    {
     "data": {
      "text/html": [
       "<ol class=list-inline>\n",
       "\t<li><span style=white-space:pre-wrap>'From exmh-workers-admin@redhat.com  Thu Aug 22 12:36:23 2002'</span></li>\n",
       "\t<li>'Return-Path: &lt;exmh-workers-admin@spamassassin.taint.org&gt;'</li>\n",
       "\t<li>'Delivered-To: zzzz@localhost.netnoteinc.com'</li>\n",
       "\t<li>'Received: from localhost (localhost [127.0.0.1])'</li>\n",
       "\t<li>'\\tby phobos.labs.netnoteinc.com (Postfix) with ESMTP id D03E543C36'</li>\n",
       "\t<li>'\\tfor &lt;zzzz@localhost&gt;; Thu, 22 Aug 2002 07:36:16 -0400 (EDT)'</li>\n",
       "\t<li>'Received: from phobos [127.0.0.1]'</li>\n",
       "\t<li>'\\tby localhost with IMAP (fetchmail-5.9.0)'</li>\n",
       "\t<li>'\\tfor zzzz@localhost (single-drop); Thu, 22 Aug 2002 12:36:16 +0100 (IST)'</li>\n",
       "\t<li>'Received: from listman.spamassassin.taint.org (listman.spamassassin.taint.org [66.187.233.211]) by'</li>\n",
       "\t<li><span style=white-space:pre-wrap>'    dogma.slashnull.org (8.11.6/8.11.6) with ESMTP id g7MBYrZ04811 for'</span></li>\n",
       "\t<li><span style=white-space:pre-wrap>'    &lt;zzzz-exmh@spamassassin.taint.org&gt;; Thu, 22 Aug 2002 12:34:53 +0100'</span></li>\n",
       "</ol>\n"
      ],
      "text/latex": [
       "\\begin{enumerate*}\n",
       "\\item 'From exmh-workers-admin@redhat.com  Thu Aug 22 12:36:23 2002'\n",
       "\\item 'Return-Path: <exmh-workers-admin@spamassassin.taint.org>'\n",
       "\\item 'Delivered-To: zzzz@localhost.netnoteinc.com'\n",
       "\\item 'Received: from localhost (localhost {[}127.0.0.1{]})'\n",
       "\\item '\\textbackslash{}tby phobos.labs.netnoteinc.com (Postfix) with ESMTP id D03E543C36'\n",
       "\\item '\\textbackslash{}tfor <zzzz@localhost>; Thu, 22 Aug 2002 07:36:16 -0400 (EDT)'\n",
       "\\item 'Received: from phobos {[}127.0.0.1{]}'\n",
       "\\item '\\textbackslash{}tby localhost with IMAP (fetchmail-5.9.0)'\n",
       "\\item '\\textbackslash{}tfor zzzz@localhost (single-drop); Thu, 22 Aug 2002 12:36:16 +0100 (IST)'\n",
       "\\item 'Received: from listman.spamassassin.taint.org (listman.spamassassin.taint.org {[}66.187.233.211{]}) by'\n",
       "\\item '    dogma.slashnull.org (8.11.6/8.11.6) with ESMTP id g7MBYrZ04811 for'\n",
       "\\item '    <zzzz-exmh@spamassassin.taint.org>; Thu, 22 Aug 2002 12:34:53 +0100'\n",
       "\\end{enumerate*}\n"
      ],
      "text/markdown": [
       "1. <span style=white-space:pre-wrap>'From exmh-workers-admin@redhat.com  Thu Aug 22 12:36:23 2002'</span>\n",
       "2. 'Return-Path: &lt;exmh-workers-admin@spamassassin.taint.org&gt;'\n",
       "3. 'Delivered-To: zzzz@localhost.netnoteinc.com'\n",
       "4. 'Received: from localhost (localhost [127.0.0.1])'\n",
       "5. '\\tby phobos.labs.netnoteinc.com (Postfix) with ESMTP id D03E543C36'\n",
       "6. '\\tfor &lt;zzzz@localhost&gt;; Thu, 22 Aug 2002 07:36:16 -0400 (EDT)'\n",
       "7. 'Received: from phobos [127.0.0.1]'\n",
       "8. '\\tby localhost with IMAP (fetchmail-5.9.0)'\n",
       "9. '\\tfor zzzz@localhost (single-drop); Thu, 22 Aug 2002 12:36:16 +0100 (IST)'\n",
       "10. 'Received: from listman.spamassassin.taint.org (listman.spamassassin.taint.org [66.187.233.211]) by'\n",
       "11. <span style=white-space:pre-wrap>'    dogma.slashnull.org (8.11.6/8.11.6) with ESMTP id g7MBYrZ04811 for'</span>\n",
       "12. <span style=white-space:pre-wrap>'    &lt;zzzz-exmh@spamassassin.taint.org&gt;; Thu, 22 Aug 2002 12:34:53 +0100'</span>\n",
       "\n",
       "\n"
      ],
      "text/plain": [
       " [1] \"From exmh-workers-admin@redhat.com  Thu Aug 22 12:36:23 2002\"                                      \n",
       " [2] \"Return-Path: <exmh-workers-admin@spamassassin.taint.org>\"                                          \n",
       " [3] \"Delivered-To: zzzz@localhost.netnoteinc.com\"                                                       \n",
       " [4] \"Received: from localhost (localhost [127.0.0.1])\"                                                  \n",
       " [5] \"\\tby phobos.labs.netnoteinc.com (Postfix) with ESMTP id D03E543C36\"                                 \n",
       " [6] \"\\tfor <zzzz@localhost>; Thu, 22 Aug 2002 07:36:16 -0400 (EDT)\"                                      \n",
       " [7] \"Received: from phobos [127.0.0.1]\"                                                                 \n",
       " [8] \"\\tby localhost with IMAP (fetchmail-5.9.0)\"                                                         \n",
       " [9] \"\\tfor zzzz@localhost (single-drop); Thu, 22 Aug 2002 12:36:16 +0100 (IST)\"                          \n",
       "[10] \"Received: from listman.spamassassin.taint.org (listman.spamassassin.taint.org [66.187.233.211]) by\"\n",
       "[11] \"    dogma.slashnull.org (8.11.6/8.11.6) with ESMTP id g7MBYrZ04811 for\"                            \n",
       "[12] \"    <zzzz-exmh@spamassassin.taint.org>; Thu, 22 Aug 2002 12:34:53 +0100\"                           "
      ]
     },
     "metadata": {},
     "output_type": "display_data"
    },
    {
     "data": {
      "text/html": [
       "<span style=white-space:pre-wrap>'Top-From: exmh-workers-admin@redhat.com  Thu Aug 22 12:36:23 2002'</span>"
      ],
      "text/latex": [
       "'Top-From: exmh-workers-admin@redhat.com  Thu Aug 22 12:36:23 2002'"
      ],
      "text/markdown": [
       "<span style=white-space:pre-wrap>'Top-From: exmh-workers-admin@redhat.com  Thu Aug 22 12:36:23 2002'</span>"
      ],
      "text/plain": [
       "[1] \"Top-From: exmh-workers-admin@redhat.com  Thu Aug 22 12:36:23 2002\""
      ]
     },
     "metadata": {},
     "output_type": "display_data"
    }
   ],
   "source": [
    "largeNum = 10000\n",
    "\n",
    "print(sum(smallNums), digits = 20)\n",
    "\n",
    "print(largeNum + sum(smallNums), digits = 20)\n",
    "\n",
    "for (i in 1:length(smallNums)) {\n",
    "  largeNum = largeNum + smallNums[i]\n",
    "}\n",
    "print(largeNum, digits = 20)\n",
    "\n",
    "sampleSplit = lapply(sampleEmail, splitMessage)\n",
    "\n",
    "header = sampleSplit[[1]]$header\n",
    "header[1:12]\n",
    "\n",
    "header[1] = sub(\"^From\", \"Top-From:\", header[1])\n",
    "header[1]"
   ]
  },
  {
   "cell_type": "code",
   "execution_count": 36,
   "metadata": {},
   "outputs": [
    {
     "data": {
      "text/html": [
       "<ol>\n",
       "\t<li><ol class=list-inline>\n",
       "\t<li>'zzzz@localhost.netnoteinc.com'</li>\n",
       "\t<li>'exmh-workers@listman.spamassassin.taint.org'</li>\n",
       "</ol>\n",
       "</li>\n",
       "</ol>\n"
      ],
      "text/latex": [
       "\\begin{enumerate}\n",
       "\\item \\begin{enumerate*}\n",
       "\\item 'zzzz@localhost.netnoteinc.com'\n",
       "\\item 'exmh-workers@listman.spamassassin.taint.org'\n",
       "\\end{enumerate*}\n",
       "\n",
       "\\end{enumerate}\n"
      ],
      "text/markdown": [
       "1. 1. 'zzzz@localhost.netnoteinc.com'\n",
       "2. 'exmh-workers@listman.spamassassin.taint.org'\n",
       "\n",
       "\n",
       "\n",
       "\n",
       "\n"
      ],
      "text/plain": [
       "[[1]]\n",
       "[1] \"zzzz@localhost.netnoteinc.com\"              \n",
       "[2] \"exmh-workers@listman.spamassassin.taint.org\"\n"
      ]
     },
     "metadata": {},
     "output_type": "display_data"
    },
    {
     "data": {
      "text/html": [
       "<dl class=dl-horizontal>\n",
       "\t<dt>Delivered-To</dt>\n",
       "\t\t<dd>'zzzz@localhost.netnoteinc.com'</dd>\n",
       "\t<dt>Delivered-To</dt>\n",
       "\t\t<dd>'exmh-workers@listman.spamassassin.taint.org'</dd>\n",
       "</dl>\n"
      ],
      "text/latex": [
       "\\begin{description*}\n",
       "\\item[Delivered-To] 'zzzz@localhost.netnoteinc.com'\n",
       "\\item[Delivered-To] 'exmh-workers@listman.spamassassin.taint.org'\n",
       "\\end{description*}\n"
      ],
      "text/markdown": [
       "Delivered-To\n",
       ":   'zzzz@localhost.netnoteinc.com'Delivered-To\n",
       ":   'exmh-workers@listman.spamassassin.taint.org'\n",
       "\n"
      ],
      "text/plain": [
       "                                 Delivered-To \n",
       "              \"zzzz@localhost.netnoteinc.com\" \n",
       "                                 Delivered-To \n",
       "\"exmh-workers@listman.spamassassin.taint.org\" "
      ]
     },
     "metadata": {},
     "output_type": "display_data"
    },
    {
     "data": {
      "text/html": [
       "36"
      ],
      "text/latex": [
       "36"
      ],
      "text/markdown": [
       "36"
      ],
      "text/plain": [
       "[1] 36"
      ]
     },
     "metadata": {},
     "output_type": "display_data"
    },
    {
     "data": {
      "text/html": [
       "26"
      ],
      "text/latex": [
       "26"
      ],
      "text/markdown": [
       "26"
      ],
      "text/plain": [
       "[1] 26"
      ]
     },
     "metadata": {},
     "output_type": "display_data"
    }
   ],
   "source": [
    "headerPieces = read.dcf(textConnection(header), all = TRUE)\n",
    "\n",
    "headerPieces[, \"Delivered-To\"]\n",
    "\n",
    "\n",
    "headerVec = unlist(headerPieces)\n",
    "dupKeys = sapply(headerPieces, function(x) length(unlist(x)))\n",
    "names(headerVec) = rep(colnames(headerPieces), dupKeys)\n",
    "\n",
    "headerVec[ which(names(headerVec) == \"Delivered-To\") ]\n",
    "\n",
    "length(headerVec)\n",
    "\n",
    "length(unique(names(headerVec)))\n",
    "\n",
    "processHeader = function(header)\n",
    "{\n",
    "       # modify the first line to create a key:value pair\n",
    "  header[1] = sub(\"^From\", \"Top-From:\", header[1])\n",
    "  \n",
    "  headerMat = read.dcf(textConnection(header), all = TRUE)\n",
    "  headerVec = unlist(headerMat)\n",
    "  \n",
    "  dupKeys = sapply(headerMat, function(x) length(unlist(x)))\n",
    "  names(headerVec) = rep(colnames(headerMat), dupKeys)\n",
    "  \n",
    "  return(headerVec)\n",
    "}\n"
   ]
  },
  {
   "cell_type": "code",
   "execution_count": 37,
   "metadata": {},
   "outputs": [
    {
     "data": {
      "text/html": [
       "<ol class=list-inline>\n",
       "\t<li>'text/plain; charset=us-ascii'</li>\n",
       "\t<li>'text/plain; charset=US-ASCII'</li>\n",
       "\t<li>'text/plain; charset=US-ASCII'</li>\n",
       "\t<li>'text/plain; charset=\"us-ascii\"'</li>\n",
       "\t<li>'text/plain; charset=US-ASCII'</li>\n",
       "\t<li>'multipart/signed;\\nboundary=\"==_Exmh_-1317289252P\";\\nmicalg=pgp-sha1;\\nprotocol=\"application/pgp-signature\"'</li>\n",
       "\t<li>NA</li>\n",
       "\t<li>'multipart/alternative;\\nboundary=\"----=_NextPart_000_00C1_01C25017.F2F04E20\"'</li>\n",
       "\t<li>'multipart/alternative; boundary=Apple-Mail-2-874629474'</li>\n",
       "\t<li>'multipart/signed;\\nboundary=\"==_Exmh_-518574644P\";\\nmicalg=pgp-sha1;\\nprotocol=\"application/pgp-signature\"'</li>\n",
       "\t<li>'multipart/related;\\nboundary=\"------------090602010909000705010009\"'</li>\n",
       "\t<li>'multipart/signed;\\nboundary=\"==_Exmh_-451422450P\";\\nmicalg=pgp-sha1;\\nprotocol=\"application/pgp-signature\"'</li>\n",
       "\t<li>'multipart/signed;\\nboundary=\"==_Exmh_267413022P\";\\nmicalg=pgp-sha1;\\nprotocol=\"application/pgp-signature\"'</li>\n",
       "\t<li>'multipart/mixed;\\nboundary=\"----=_NextPart_000_0005_01C26412.7545C1D0\"'</li>\n",
       "\t<li>'multipart/alternative;\\nboundary=\"------------080209060700030309080805\"'</li>\n",
       "</ol>\n"
      ],
      "text/latex": [
       "\\begin{enumerate*}\n",
       "\\item 'text/plain; charset=us-ascii'\n",
       "\\item 'text/plain; charset=US-ASCII'\n",
       "\\item 'text/plain; charset=US-ASCII'\n",
       "\\item 'text/plain; charset=\"us-ascii\"'\n",
       "\\item 'text/plain; charset=US-ASCII'\n",
       "\\item 'multipart/signed;\\textbackslash{}nboundary=\"==\\_Exmh\\_-1317289252P\";\\textbackslash{}nmicalg=pgp-sha1;\\textbackslash{}nprotocol=\"application/pgp-signature\"'\n",
       "\\item NA\n",
       "\\item 'multipart/alternative;\\textbackslash{}nboundary=\"----=\\_NextPart\\_000\\_00C1\\_01C25017.F2F04E20\"'\n",
       "\\item 'multipart/alternative; boundary=Apple-Mail-2-874629474'\n",
       "\\item 'multipart/signed;\\textbackslash{}nboundary=\"==\\_Exmh\\_-518574644P\";\\textbackslash{}nmicalg=pgp-sha1;\\textbackslash{}nprotocol=\"application/pgp-signature\"'\n",
       "\\item 'multipart/related;\\textbackslash{}nboundary=\"------------090602010909000705010009\"'\n",
       "\\item 'multipart/signed;\\textbackslash{}nboundary=\"==\\_Exmh\\_-451422450P\";\\textbackslash{}nmicalg=pgp-sha1;\\textbackslash{}nprotocol=\"application/pgp-signature\"'\n",
       "\\item 'multipart/signed;\\textbackslash{}nboundary=\"==\\_Exmh\\_267413022P\";\\textbackslash{}nmicalg=pgp-sha1;\\textbackslash{}nprotocol=\"application/pgp-signature\"'\n",
       "\\item 'multipart/mixed;\\textbackslash{}nboundary=\"----=\\_NextPart\\_000\\_0005\\_01C26412.7545C1D0\"'\n",
       "\\item 'multipart/alternative;\\textbackslash{}nboundary=\"------------080209060700030309080805\"'\n",
       "\\end{enumerate*}\n"
      ],
      "text/markdown": [
       "1. 'text/plain; charset=us-ascii'\n",
       "2. 'text/plain; charset=US-ASCII'\n",
       "3. 'text/plain; charset=US-ASCII'\n",
       "4. 'text/plain; charset=\"us-ascii\"'\n",
       "5. 'text/plain; charset=US-ASCII'\n",
       "6. 'multipart/signed;\\nboundary=\"==_Exmh_-1317289252P\";\\nmicalg=pgp-sha1;\\nprotocol=\"application/pgp-signature\"'\n",
       "7. NA\n",
       "8. 'multipart/alternative;\\nboundary=\"----=_NextPart_000_00C1_01C25017.F2F04E20\"'\n",
       "9. 'multipart/alternative; boundary=Apple-Mail-2-874629474'\n",
       "10. 'multipart/signed;\\nboundary=\"==_Exmh_-518574644P\";\\nmicalg=pgp-sha1;\\nprotocol=\"application/pgp-signature\"'\n",
       "11. 'multipart/related;\\nboundary=\"------------090602010909000705010009\"'\n",
       "12. 'multipart/signed;\\nboundary=\"==_Exmh_-451422450P\";\\nmicalg=pgp-sha1;\\nprotocol=\"application/pgp-signature\"'\n",
       "13. 'multipart/signed;\\nboundary=\"==_Exmh_267413022P\";\\nmicalg=pgp-sha1;\\nprotocol=\"application/pgp-signature\"'\n",
       "14. 'multipart/mixed;\\nboundary=\"----=_NextPart_000_0005_01C26412.7545C1D0\"'\n",
       "15. 'multipart/alternative;\\nboundary=\"------------080209060700030309080805\"'\n",
       "\n",
       "\n"
      ],
      "text/plain": [
       " [1] \"text/plain; charset=us-ascii\"                                                                                   \n",
       " [2] \"text/plain; charset=US-ASCII\"                                                                                   \n",
       " [3] \"text/plain; charset=US-ASCII\"                                                                                   \n",
       " [4] \"text/plain; charset=\\\"us-ascii\\\"\"                                                                               \n",
       " [5] \"text/plain; charset=US-ASCII\"                                                                                   \n",
       " [6] \"multipart/signed;\\nboundary=\\\"==_Exmh_-1317289252P\\\";\\nmicalg=pgp-sha1;\\nprotocol=\\\"application/pgp-signature\\\"\"\n",
       " [7] NA                                                                                                               \n",
       " [8] \"multipart/alternative;\\nboundary=\\\"----=_NextPart_000_00C1_01C25017.F2F04E20\\\"\"                                 \n",
       " [9] \"multipart/alternative; boundary=Apple-Mail-2-874629474\"                                                         \n",
       "[10] \"multipart/signed;\\nboundary=\\\"==_Exmh_-518574644P\\\";\\nmicalg=pgp-sha1;\\nprotocol=\\\"application/pgp-signature\\\"\" \n",
       "[11] \"multipart/related;\\nboundary=\\\"------------090602010909000705010009\\\"\"                                          \n",
       "[12] \"multipart/signed;\\nboundary=\\\"==_Exmh_-451422450P\\\";\\nmicalg=pgp-sha1;\\nprotocol=\\\"application/pgp-signature\\\"\" \n",
       "[13] \"multipart/signed;\\nboundary=\\\"==_Exmh_267413022P\\\";\\nmicalg=pgp-sha1;\\nprotocol=\\\"application/pgp-signature\\\"\"  \n",
       "[14] \"multipart/mixed;\\nboundary=\\\"----=_NextPart_000_0005_01C26412.7545C1D0\\\"\"                                       \n",
       "[15] \"multipart/alternative;\\nboundary=\\\"------------080209060700030309080805\\\"\"                                      "
      ]
     },
     "metadata": {},
     "output_type": "display_data"
    },
    {
     "data": {
      "text/html": [
       "<ol class=list-inline>\n",
       "\t<li>6</li>\n",
       "\t<li>8</li>\n",
       "\t<li>9</li>\n",
       "\t<li>10</li>\n",
       "\t<li>11</li>\n",
       "\t<li>12</li>\n",
       "\t<li>13</li>\n",
       "\t<li>14</li>\n",
       "\t<li>15</li>\n",
       "</ol>\n"
      ],
      "text/latex": [
       "\\begin{enumerate*}\n",
       "\\item 6\n",
       "\\item 8\n",
       "\\item 9\n",
       "\\item 10\n",
       "\\item 11\n",
       "\\item 12\n",
       "\\item 13\n",
       "\\item 14\n",
       "\\item 15\n",
       "\\end{enumerate*}\n"
      ],
      "text/markdown": [
       "1. 6\n",
       "2. 8\n",
       "3. 9\n",
       "4. 10\n",
       "5. 11\n",
       "6. 12\n",
       "7. 13\n",
       "8. 14\n",
       "9. 15\n",
       "\n",
       "\n"
      ],
      "text/plain": [
       "[1]  6  8  9 10 11 12 13 14 15"
      ]
     },
     "metadata": {},
     "output_type": "display_data"
    },
    {
     "data": {
      "text/html": [
       "<ol class=list-inline>\n",
       "\t<li>'==_Exmh_-1317289252P'</li>\n",
       "\t<li>'----=_NextPart_000_00C1_01C25017.F2F04E20'</li>\n",
       "\t<li>'Apple-Mail-2-874629474'</li>\n",
       "\t<li>'==_Exmh_-518574644P'</li>\n",
       "\t<li>'------------090602010909000705010009'</li>\n",
       "\t<li>'==_Exmh_-451422450P'</li>\n",
       "\t<li>'==_Exmh_267413022P'</li>\n",
       "\t<li>'----=_NextPart_000_0005_01C26412.7545C1D0'</li>\n",
       "\t<li>'------------080209060700030309080805'</li>\n",
       "</ol>\n"
      ],
      "text/latex": [
       "\\begin{enumerate*}\n",
       "\\item '==\\_Exmh\\_-1317289252P'\n",
       "\\item '----=\\_NextPart\\_000\\_00C1\\_01C25017.F2F04E20'\n",
       "\\item 'Apple-Mail-2-874629474'\n",
       "\\item '==\\_Exmh\\_-518574644P'\n",
       "\\item '------------090602010909000705010009'\n",
       "\\item '==\\_Exmh\\_-451422450P'\n",
       "\\item '==\\_Exmh\\_267413022P'\n",
       "\\item '----=\\_NextPart\\_000\\_0005\\_01C26412.7545C1D0'\n",
       "\\item '------------080209060700030309080805'\n",
       "\\end{enumerate*}\n"
      ],
      "text/markdown": [
       "1. '==_Exmh_-1317289252P'\n",
       "2. '----=_NextPart_000_00C1_01C25017.F2F04E20'\n",
       "3. 'Apple-Mail-2-874629474'\n",
       "4. '==_Exmh_-518574644P'\n",
       "5. '------------090602010909000705010009'\n",
       "6. '==_Exmh_-451422450P'\n",
       "7. '==_Exmh_267413022P'\n",
       "8. '----=_NextPart_000_0005_01C26412.7545C1D0'\n",
       "9. '------------080209060700030309080805'\n",
       "\n",
       "\n"
      ],
      "text/plain": [
       "[1] \"==_Exmh_-1317289252P\"                     \n",
       "[2] \"----=_NextPart_000_00C1_01C25017.F2F04E20\"\n",
       "[3] \"Apple-Mail-2-874629474\"                   \n",
       "[4] \"==_Exmh_-518574644P\"                      \n",
       "[5] \"------------090602010909000705010009\"     \n",
       "[6] \"==_Exmh_-451422450P\"                      \n",
       "[7] \"==_Exmh_267413022P\"                       \n",
       "[8] \"----=_NextPart_000_0005_01C26412.7545C1D0\"\n",
       "[9] \"------------080209060700030309080805\"     "
      ]
     },
     "metadata": {},
     "output_type": "display_data"
    },
    {
     "data": {
      "text/html": [
       "<ol class=list-inline>\n",
       "\t<li>2</li>\n",
       "\t<li>35</li>\n",
       "</ol>\n"
      ],
      "text/latex": [
       "\\begin{enumerate*}\n",
       "\\item 2\n",
       "\\item 35\n",
       "\\end{enumerate*}\n"
      ],
      "text/markdown": [
       "1. 2\n",
       "2. 35\n",
       "\n",
       "\n"
      ],
      "text/plain": [
       "[1]  2 35"
      ]
     },
     "metadata": {},
     "output_type": "display_data"
    },
    {
     "data": {
      "text/html": [
       "77"
      ],
      "text/latex": [
       "77"
      ],
      "text/markdown": [
       "77"
      ],
      "text/plain": [
       "[1] 77"
      ]
     },
     "metadata": {},
     "output_type": "display_data"
    },
    {
     "data": {
      "text/html": [
       "42"
      ],
      "text/latex": [
       "42"
      ],
      "text/markdown": [
       "42"
      ],
      "text/plain": [
       "[1] 42"
      ]
     },
     "metadata": {},
     "output_type": "display_data"
    }
   ],
   "source": [
    "headerList = lapply(sampleSplit, \n",
    "                    function(msg) {\n",
    "                      processHeader(msg$header)} )\n",
    "\n",
    "contentTypes = sapply(headerList, function(header) \n",
    "                                        header[\"Content-Type\"])\n",
    "names(contentTypes) = NULL\n",
    "contentTypes\n",
    "\n",
    "hasAttach = grep(\"^ *multi\", tolower(contentTypes))\n",
    "hasAttach\n",
    "\n",
    "boundaries = getBoundary(contentTypes[ hasAttach ])\n",
    "boundaries\n",
    "\n",
    "boundary = boundaries[9]\n",
    "body = sampleSplit[[15]]$body\n",
    "\n",
    "bString = paste(\"--\", boundary, sep = \"\")\n",
    "bStringLocs = which(bString == body)\n",
    "bStringLocs\n",
    "\n",
    "eString = paste(\"--\", boundary, \"--\", sep = \"\")\n",
    "eStringLoc = which(eString == body)\n",
    "eStringLoc\n",
    "\n",
    "diff(c(bStringLocs[-1], eStringLoc))"
   ]
  },
  {
   "cell_type": "code",
   "execution_count": 38,
   "metadata": {},
   "outputs": [],
   "source": [
    "### This code has mistakes in it - and we fix them later!\n",
    "processAttach = function(body, contentType){\n",
    "  \n",
    "  boundary = getBoundary(contentType)\n",
    "  \n",
    "  bString = paste(\"--\", boundary, \"$\", sep = \"\")\n",
    "  bStringLocs = grep(bString, body)\n",
    "  \n",
    "  eString = paste(\"--\", boundary, \"--$\", sep = \"\")\n",
    "  eStringLoc = grep(eString, body)\n",
    "  \n",
    "  n = length(body)\n",
    "  \n",
    "  if (length(eStringLoc) == 0) eStringLoc = n + 1\n",
    "  if (length(bStringLocs) == 1) attachLocs = NULL\n",
    "  else attachLocs = c(bStringLocs[-1],  eStringLoc)\n",
    "  \n",
    "  msg = body[ (bStringLocs[1] + 1) : min(n, (bStringLocs[2] - 1), \n",
    "                                         na.rm = TRUE)]\n",
    "  \n",
    "  if ( eStringLoc < n )\n",
    "    msg = c(msg, body[ (eStringLoc + 1) : n ])\n",
    "  \n",
    "  if ( !is.null(attachLocs) ) {\n",
    "    attachLens = diff(attachLocs, lag = 1) \n",
    "    attachTypes = mapply(function(begL, endL) {\n",
    "      contentTypeLoc = grep(\"[Cc]ontent-[Tt]ype\", body[ (begL + 1) : (endL - 1)])\n",
    "      contentType = body[ begL + contentTypeLoc]\n",
    "      contentType = gsub('\"', \"\", contentType )\n",
    "      MIMEType = sub(\" *Content-Type: *([^;]*);?.*\", \"\\\\1\", contentType)\n",
    "      return(MIMEType)\n",
    "    }, attachLocs[-length(attachLocs)], attachLocs[-1])\n",
    "  }\n",
    "  \n",
    "  if (is.null(attachLocs)) return(list(body = msg, attachInfo = NULL) )\n",
    "  else return(list(body = msg, \n",
    "                   attachDF = data.frame(aLen = attachLens, \n",
    "                                         aType = attachTypes,\n",
    "                                         stringsAsFactors = FALSE)))                                \n",
    "}\n"
   ]
  },
  {
   "cell_type": "code",
   "execution_count": 39,
   "metadata": {},
   "outputs": [
    {
     "data": {
      "text/html": [
       "<dl>\n",
       "\t<dt>$`./SpamAssassinMessages//messages/easy_ham/00014.cb20e10b2bfcb8210a1c310798532a57`</dt>\n",
       "\t\t<dd>12</dd>\n",
       "\t<dt>$`./SpamAssassinMessages//messages/easy_ham/00062.009f5a1a8fa88f0b38299ad01562bb37`</dt>\n",
       "\t\t<dd><ol class=list-inline>\n",
       "\t<li>44</li>\n",
       "\t<li>44</li>\n",
       "</ol>\n",
       "</dd>\n",
       "\t<dt>$`./SpamAssassinMessages//messages/easy_ham/00063.0acbc484a73f0e0b727e06c100d8df7b`</dt>\n",
       "\t\t<dd>83</dd>\n",
       "\t<dt>$`./SpamAssassinMessages//messages/easy_ham/0030.77828e31de08ebb58b583688b87524cc`</dt>\n",
       "\t\t<dd>12</dd>\n",
       "\t<dt>$`./SpamAssassinMessages//messages/easy_ham/00368.f86324a03e7ae7070cc40f302385f5d3`</dt>\n",
       "\t\t<dd>NULL</dd>\n",
       "\t<dt>$`./SpamAssassinMessages//messages/easy_ham/00389.8606961eaeef7b921ce1c53773248d69`</dt>\n",
       "\t\t<dd>12</dd>\n",
       "</dl>\n"
      ],
      "text/latex": [
       "\\begin{description}\n",
       "\\item[\\$`./SpamAssassinMessages//messages/easy\\_ham/00014.cb20e10b2bfcb8210a1c310798532a57`] 12\n",
       "\\item[\\$`./SpamAssassinMessages//messages/easy\\_ham/00062.009f5a1a8fa88f0b38299ad01562bb37`] \\begin{enumerate*}\n",
       "\\item 44\n",
       "\\item 44\n",
       "\\end{enumerate*}\n",
       "\n",
       "\\item[\\$`./SpamAssassinMessages//messages/easy\\_ham/00063.0acbc484a73f0e0b727e06c100d8df7b`] 83\n",
       "\\item[\\$`./SpamAssassinMessages//messages/easy\\_ham/0030.77828e31de08ebb58b583688b87524cc`] 12\n",
       "\\item[\\$`./SpamAssassinMessages//messages/easy\\_ham/00368.f86324a03e7ae7070cc40f302385f5d3`] NULL\n",
       "\\item[\\$`./SpamAssassinMessages//messages/easy\\_ham/00389.8606961eaeef7b921ce1c53773248d69`] 12\n",
       "\\end{description}\n"
      ],
      "text/markdown": [
       "$`./SpamAssassinMessages//messages/easy_ham/00014.cb20e10b2bfcb8210a1c310798532a57`\n",
       ":   12\n",
       "$`./SpamAssassinMessages//messages/easy_ham/00062.009f5a1a8fa88f0b38299ad01562bb37`\n",
       ":   1. 44\n",
       "2. 44\n",
       "\n",
       "\n",
       "\n",
       "$`./SpamAssassinMessages//messages/easy_ham/00063.0acbc484a73f0e0b727e06c100d8df7b`\n",
       ":   83\n",
       "$`./SpamAssassinMessages//messages/easy_ham/0030.77828e31de08ebb58b583688b87524cc`\n",
       ":   12\n",
       "$`./SpamAssassinMessages//messages/easy_ham/00368.f86324a03e7ae7070cc40f302385f5d3`\n",
       ":   NULL\n",
       "$`./SpamAssassinMessages//messages/easy_ham/00389.8606961eaeef7b921ce1c53773248d69`\n",
       ":   12\n",
       "\n",
       "\n"
      ],
      "text/plain": [
       "$`./SpamAssassinMessages//messages/easy_ham/00014.cb20e10b2bfcb8210a1c310798532a57`\n",
       "[1] 12\n",
       "\n",
       "$`./SpamAssassinMessages//messages/easy_ham/00062.009f5a1a8fa88f0b38299ad01562bb37`\n",
       "[1] 44 44\n",
       "\n",
       "$`./SpamAssassinMessages//messages/easy_ham/00063.0acbc484a73f0e0b727e06c100d8df7b`\n",
       "[1] 83\n",
       "\n",
       "$`./SpamAssassinMessages//messages/easy_ham/0030.77828e31de08ebb58b583688b87524cc`\n",
       "[1] 12\n",
       "\n",
       "$`./SpamAssassinMessages//messages/easy_ham/00368.f86324a03e7ae7070cc40f302385f5d3`\n",
       "NULL\n",
       "\n",
       "$`./SpamAssassinMessages//messages/easy_ham/00389.8606961eaeef7b921ce1c53773248d69`\n",
       "[1] 12\n"
      ]
     },
     "metadata": {},
     "output_type": "display_data"
    },
    {
     "data": {
      "text/html": [
       "<table>\n",
       "<thead><tr><th scope=col>aLen</th><th scope=col>aType</th></tr></thead>\n",
       "<tbody>\n",
       "\t<tr><td>44                                                    </td><td>text/html                                             </td></tr>\n",
       "\t<tr><td>44                                                       </td><td>&lt;META http-equiv=3DContent-Type content=3Dtext/html; =</td></tr>\n",
       "</tbody>\n",
       "</table>\n"
      ],
      "text/latex": [
       "\\begin{tabular}{r|ll}\n",
       " aLen & aType\\\\\n",
       "\\hline\n",
       "\t 44                                                     & text/html                                             \\\\\n",
       "\t 44                                                     & <META http-equiv=3DContent-Type content=3Dtext/html; =\\\\\n",
       "\\end{tabular}\n"
      ],
      "text/markdown": [
       "\n",
       "| aLen | aType |\n",
       "|---|---|\n",
       "| 44                                                     | text/html                                              |\n",
       "| 44                                                     | <META http-equiv=3DContent-Type content=3Dtext/html; = |\n",
       "\n"
      ],
      "text/plain": [
       "  aLen aType                                                 \n",
       "1 44   text/html                                             \n",
       "2 44   <META http-equiv=3DContent-Type content=3Dtext/html; ="
      ]
     },
     "metadata": {},
     "output_type": "display_data"
    },
    {
     "data": {
      "text/html": [
       "86"
      ],
      "text/latex": [
       "86"
      ],
      "text/markdown": [
       "86"
      ],
      "text/plain": [
       "[1] 86"
      ]
     },
     "metadata": {},
     "output_type": "display_data"
    },
    {
     "data": {
      "text/html": [
       "<ol class=list-inline>\n",
       "\t<li>''</li>\n",
       "\t<li>'------=_NextPart_000_00C1_01C25017.F2F04E20'</li>\n",
       "\t<li>'Content-Type: text/html;'</li>\n",
       "\t<li>'\\tcharset=\"Windows-1252\"'</li>\n",
       "\t<li>'Content-Transfer-Encoding: quoted-printable'</li>\n",
       "\t<li>''</li>\n",
       "\t<li>'&lt;!DOCTYPE HTML PUBLIC \"-//W3C//DTD HTML 4.0 Transitional//EN\"&gt;'</li>\n",
       "\t<li>'&lt;HTML&gt;&lt;HEAD&gt;'</li>\n",
       "\t<li>'&lt;META http-equiv=3DContent-Type content=3D\"text/html; ='</li>\n",
       "\t<li>'charset=3Dwindows-1252\"&gt;'</li>\n",
       "\t<li>'&lt;META content=3D\"MSHTML 6.00.2716.2200\" name=3DGENERATOR&gt;'</li>\n",
       "</ol>\n"
      ],
      "text/latex": [
       "\\begin{enumerate*}\n",
       "\\item ''\n",
       "\\item '------=\\_NextPart\\_000\\_00C1\\_01C25017.F2F04E20'\n",
       "\\item 'Content-Type: text/html;'\n",
       "\\item '\\textbackslash{}tcharset=\"Windows-1252\"'\n",
       "\\item 'Content-Transfer-Encoding: quoted-printable'\n",
       "\\item ''\n",
       "\\item '<!DOCTYPE HTML PUBLIC \"-//W3C//DTD HTML 4.0 Transitional//EN\">'\n",
       "\\item '<HTML><HEAD>'\n",
       "\\item '<META http-equiv=3DContent-Type content=3D\"text/html; ='\n",
       "\\item 'charset=3Dwindows-1252\">'\n",
       "\\item '<META content=3D\"MSHTML 6.00.2716.2200\" name=3DGENERATOR>'\n",
       "\\end{enumerate*}\n"
      ],
      "text/markdown": [
       "1. ''\n",
       "2. '------=_NextPart_000_00C1_01C25017.F2F04E20'\n",
       "3. 'Content-Type: text/html;'\n",
       "4. '\\tcharset=\"Windows-1252\"'\n",
       "5. 'Content-Transfer-Encoding: quoted-printable'\n",
       "6. ''\n",
       "7. '&lt;!DOCTYPE HTML PUBLIC \"-//W3C//DTD HTML 4.0 Transitional//EN\"&gt;'\n",
       "8. '&lt;HTML&gt;&lt;HEAD&gt;'\n",
       "9. '&lt;META http-equiv=3DContent-Type content=3D\"text/html; ='\n",
       "10. 'charset=3Dwindows-1252\"&gt;'\n",
       "11. '&lt;META content=3D\"MSHTML 6.00.2716.2200\" name=3DGENERATOR&gt;'\n",
       "\n",
       "\n"
      ],
      "text/plain": [
       " [1] \"\"                                                                \n",
       " [2] \"------=_NextPart_000_00C1_01C25017.F2F04E20\"                     \n",
       " [3] \"Content-Type: text/html;\"                                        \n",
       " [4] \"\\tcharset=\\\"Windows-1252\\\"\"                                       \n",
       " [5] \"Content-Transfer-Encoding: quoted-printable\"                     \n",
       " [6] \"\"                                                                \n",
       " [7] \"<!DOCTYPE HTML PUBLIC \\\"-//W3C//DTD HTML 4.0 Transitional//EN\\\">\"\n",
       " [8] \"<HTML><HEAD>\"                                                    \n",
       " [9] \"<META http-equiv=3DContent-Type content=3D\\\"text/html; =\"        \n",
       "[10] \"charset=3Dwindows-1252\\\">\"                                       \n",
       "[11] \"<META content=3D\\\"MSHTML 6.00.2716.2200\\\" name=3DGENERATOR>\"     "
      ]
     },
     "metadata": {},
     "output_type": "display_data"
    }
   ],
   "source": [
    "bodyList = lapply(sampleSplit, function(msg) msg$body)\n",
    "attList = mapply(processAttach, bodyList[hasAttach], \n",
    "                 contentTypes[hasAttach], \n",
    "                 SIMPLIFY = FALSE)\n",
    "\n",
    "lens = sapply(attList, function(processedA) \n",
    "                           processedA$attachDF$aLen)\n",
    "head(lens)  # will cause an error with the first message. its ok.\n",
    "attList[[2]]$attachDF\n",
    "\n",
    "body = bodyList[hasAttach][[2]]\n",
    "length(body)\n",
    "\n",
    "body[35:45]"
   ]
  },
  {
   "cell_type": "code",
   "execution_count": 40,
   "metadata": {},
   "outputs": [],
   "source": [
    "processAttach = function(body, contentType){\n",
    "\n",
    "  n = length(body)\n",
    "  boundary = getBoundary(contentType)\n",
    " \n",
    "  bString = paste(\"--\", boundary, sep = \"\")\n",
    "  bStringLocs = which(bString == body)\n",
    "  eString = paste(\"--\", boundary, \"--\", sep = \"\")\n",
    "  eStringLoc = which(eString == body)\n",
    "  \n",
    "  if (length(eStringLoc) == 0) eStringLoc = n\n",
    "  if (length(bStringLocs) <= 1) {\n",
    "    attachLocs = NULL\n",
    "    msgLastLine = n\n",
    "    if (length(bStringLocs) == 0) bStringLocs = 0\n",
    "  } else {\n",
    "    attachLocs = c(bStringLocs[ -1 ],  eStringLoc)\n",
    "    msgLastLine = bStringLocs[2] - 1\n",
    "  }\n",
    "  \n",
    "  msg = body[ (bStringLocs[1] + 1) : msgLastLine] \n",
    "  if ( eStringLoc < n )\n",
    "    msg = c(msg, body[ (eStringLoc + 1) : n ])\n",
    "  \n",
    "  if ( !is.null(attachLocs) ) {\n",
    "    attachLens = diff(attachLocs, lag = 1) \n",
    "    attachTypes = mapply(function(begL, endL) {\n",
    "      CTloc = grep(\"^[Cc]ontent-[Tt]ype\", body[ (begL + 1) : (endL - 1)])\n",
    "      if ( length(CTloc) == 0 ) {\n",
    "        MIMEType = NA\n",
    "      } else {\n",
    "        CTval = body[ begL + CTloc[1] ]\n",
    "        CTval = gsub('\"', \"\", CTval )\n",
    "        MIMEType = sub(\" *[Cc]ontent-[Tt]ype: *([^;]*);?.*\", \"\\\\1\", CTval)   \n",
    "      }\n",
    "      return(MIMEType)\n",
    "    }, attachLocs[-length(attachLocs)], attachLocs[-1])\n",
    "  }\n",
    "  \n",
    "  if (is.null(attachLocs)) return(list(body = msg, attachDF = NULL) )\n",
    "  return(list(body = msg, \n",
    "             attachDF = data.frame(aLen = attachLens, \n",
    "                                     aType = unlist(attachTypes),\n",
    "                                     stringsAsFactors = FALSE)))                                \n",
    "}                       \n",
    "\n",
    "readEmail = function(dirName) {\n",
    "       # retrieve the names of files in directory\n",
    "  fileNames = list.files(dirName, full.names = TRUE)\n",
    "       # drop files that are not email\n",
    "  notEmail = grep(\"cmds$\", fileNames)\n",
    "  if ( length(notEmail) > 0) fileNames = fileNames[ - notEmail ]\n",
    "\n",
    "       # read all files in the directory\n",
    "  lapply(fileNames, readLines, encoding = \"latin1\")\n",
    "}\n",
    "\n"
   ]
  },
  {
   "cell_type": "code",
   "execution_count": 41,
   "metadata": {},
   "outputs": [],
   "source": [
    "processAllEmail = function(dirName, isSpam = FALSE)\n",
    "{\n",
    "       # read all files in the directory\n",
    "  messages = readEmail(dirName)\n",
    "  fileNames = names(messages)\n",
    "  n = length(messages)\n",
    "  \n",
    "       # split header from body\n",
    "  eSplit = lapply(messages, splitMessage)\n",
    "  rm(messages)\n",
    "\n",
    "       # process header as named character vector\n",
    "  headerList = lapply(eSplit, function(msg) \n",
    "                                 processHeader(msg$header))\n",
    "  \n",
    "       # extract content-type key\n",
    "  contentTypes = sapply(headerList, function(header) \n",
    "                                       header[\"Content-Type\"])\n",
    "  \n",
    "       # extract the body\n",
    "  bodyList = lapply(eSplit, function(msg) msg$body)\n",
    "  rm(eSplit)\n",
    "\n",
    "       # which email have attachments\n",
    "  hasAttach = grep(\"^ *multi\", tolower(contentTypes))\n",
    "\n",
    "       # get summary stats for attachments and the shorter body\n",
    "  attList = mapply(processAttach, bodyList[hasAttach], \n",
    "                   contentTypes[hasAttach], SIMPLIFY = FALSE)\n",
    "  \n",
    "  bodyList[hasAttach] = lapply(attList, function(attEl) \n",
    "                                           attEl$body)\n",
    " \n",
    "  attachInfo = vector(\"list\", length = n )\n",
    "  attachInfo[ hasAttach ] = lapply(attList, \n",
    "                                  function(attEl) attEl$attachDF)\n",
    " \n",
    "       # prepare return structure\n",
    "  emailList = mapply(function(header, body, attach, isSpam) {\n",
    "                       list(isSpam = isSpam, header = header, \n",
    "                            body = body, attach = attach)\n",
    "                     },\n",
    "                     headerList, bodyList, attachInfo, \n",
    "                     rep(isSpam, n), SIMPLIFY = FALSE )\n",
    "  names(emailList) = fileNames\n",
    "  \n",
    "  invisible(emailList)\n",
    "}"
   ]
  },
  {
   "cell_type": "code",
   "execution_count": 42,
   "metadata": {},
   "outputs": [
    {
     "data": {
      "text/html": [
       "FALSE"
      ],
      "text/latex": [
       "FALSE"
      ],
      "text/markdown": [
       "FALSE"
      ],
      "text/plain": [
       "[1] FALSE"
      ]
     },
     "metadata": {},
     "output_type": "display_data"
    },
    {
     "data": {
      "text/html": [
       "<ol class=list-inline>\n",
       "\t<li>FALSE</li>\n",
       "\t<li>FALSE</li>\n",
       "\t<li>TRUE</li>\n",
       "</ol>\n"
      ],
      "text/latex": [
       "\\begin{enumerate*}\n",
       "\\item FALSE\n",
       "\\item FALSE\n",
       "\\item TRUE\n",
       "\\end{enumerate*}\n"
      ],
      "text/markdown": [
       "1. FALSE\n",
       "2. FALSE\n",
       "3. TRUE\n",
       "\n",
       "\n"
      ],
      "text/plain": [
       "[1] FALSE FALSE  TRUE"
      ]
     },
     "metadata": {},
     "output_type": "display_data"
    },
    {
     "data": {
      "text/html": [
       "<ol class=list-inline>\n",
       "\t<li>'DEARMADAME'</li>\n",
       "\t<li>'WINNER'</li>\n",
       "\t<li>''</li>\n",
       "</ol>\n"
      ],
      "text/latex": [
       "\\begin{enumerate*}\n",
       "\\item 'DEARMADAME'\n",
       "\\item 'WINNER'\n",
       "\\item ''\n",
       "\\end{enumerate*}\n"
      ],
      "text/markdown": [
       "1. 'DEARMADAME'\n",
       "2. 'WINNER'\n",
       "3. ''\n",
       "\n",
       "\n"
      ],
      "text/plain": [
       "[1] \"DEARMADAME\" \"WINNER\"     \"\"          "
      ]
     },
     "metadata": {},
     "output_type": "display_data"
    },
    {
     "data": {
      "text/html": [
       "<ol class=list-inline>\n",
       "\t<li>'DEARMADAME'</li>\n",
       "\t<li>'WINNER'</li>\n",
       "\t<li>''</li>\n",
       "</ol>\n"
      ],
      "text/latex": [
       "\\begin{enumerate*}\n",
       "\\item 'DEARMADAME'\n",
       "\\item 'WINNER'\n",
       "\\item ''\n",
       "\\end{enumerate*}\n"
      ],
      "text/markdown": [
       "1. 'DEARMADAME'\n",
       "2. 'WINNER'\n",
       "3. ''\n",
       "\n",
       "\n"
      ],
      "text/plain": [
       "[1] \"DEARMADAME\" \"WINNER\"     \"\"          "
      ]
     },
     "metadata": {},
     "output_type": "display_data"
    }
   ],
   "source": [
    "emailStruct = mapply(processAllEmail, fullDirNames,\n",
    "                     isSpam = rep( c(FALSE, TRUE), 3:2))      \n",
    "emailStruct = unlist(emailStruct, recursive = FALSE)\n",
    "\n",
    "sampleStruct = emailStruct[ indx ]\n",
    "\n",
    "save(emailStruct, file=\"emailXX.rda\")\n",
    "\n",
    "header = sampleStruct[[1]]$header\n",
    "subject = header[\"Subject\"]\n",
    "els = strsplit(subject, \"\")\n",
    "all(els %in% LETTERS)\n",
    "\n",
    "testSubject = c(\"DEAR MADAME\", \"WINNER!\", \"\")\n",
    "\n",
    "els = strsplit(testSubject, \"\")\n",
    "sapply(els, function(subject) all(subject %in% LETTERS))\n",
    "\n",
    "\n",
    "gsub(\"[[:punct:] ]\", \"\", testSubject)\n",
    "\n",
    "gsub(\"[^[:alpha:]]\", \"\", testSubject)\n"
   ]
  },
  {
   "cell_type": "code",
   "execution_count": 43,
   "metadata": {},
   "outputs": [],
   "source": [
    "isYelling = function(msg) {\n",
    "  if ( \"Subject\" %in% names(msg$header) ) {\n",
    "     el = gsub(\"[^[:alpha:]]\", \"\", msg$header[\"Subject\"])\n",
    "     if (nchar(el) > 0) \n",
    "        nchar(gsub(\"[A-Z]\", \"\", el)) < 1\n",
    "     else \n",
    "        FALSE\n",
    "  } else \n",
    "    NA\n",
    "}\n",
    "\n",
    "perCaps =\n",
    "function(msg)\n",
    "{\n",
    "  body = paste(msg$body, collapse = \"\")\n",
    "\n",
    "       # Return NA if the body of the message is \"empty\"\n",
    "  if(length(body) == 0 || nchar(body) == 0) return(NA)\n",
    "\n",
    "       # Eliminate non-alpha characters\n",
    "  body = gsub(\"[^[:alpha:]]\", \"\", body)\n",
    "  capText = gsub(\"[^A-Z]\", \"\", body)\n",
    "  100 * nchar(capText)/nchar(body)\n",
    "}\n"
   ]
  },
  {
   "cell_type": "code",
   "execution_count": 44,
   "metadata": {},
   "outputs": [
    {
     "data": {
      "text/html": [
       "<dl class=dl-horizontal>\n",
       "\t<dt>./SpamAssassinMessages//messages/easy_ham1</dt>\n",
       "\t\t<dd>4.45103857566766</dd>\n",
       "\t<dt>./SpamAssassinMessages//messages/easy_ham2</dt>\n",
       "\t\t<dd>7.49128919860627</dd>\n",
       "\t<dt>./SpamAssassinMessages//messages/easy_ham3</dt>\n",
       "\t\t<dd>7.43609604957397</dd>\n",
       "\t<dt>./SpamAssassinMessages//messages/easy_ham4</dt>\n",
       "\t\t<dd>5.09090909090909</dd>\n",
       "\t<dt>./SpamAssassinMessages//messages/easy_ham5</dt>\n",
       "\t\t<dd>6.11664295874822</dd>\n",
       "\t<dt>./SpamAssassinMessages//messages/easy_ham15</dt>\n",
       "\t\t<dd>7.73286467486819</dd>\n",
       "\t<dt>./SpamAssassinMessages//messages/easy_ham27</dt>\n",
       "\t\t<dd>5.52325581395349</dd>\n",
       "\t<dt>./SpamAssassinMessages//messages/easy_ham68</dt>\n",
       "\t\t<dd>10.0591715976331</dd>\n",
       "\t<dt>./SpamAssassinMessages//messages/easy_ham69</dt>\n",
       "\t\t<dd>10.8858057630736</dd>\n",
       "\t<dt>./SpamAssassinMessages//messages/easy_ham329</dt>\n",
       "\t\t<dd>6.47249190938511</dd>\n",
       "\t<dt>./SpamAssassinMessages//messages/easy_ham404</dt>\n",
       "\t\t<dd>9.59725792630677</dd>\n",
       "\t<dt>./SpamAssassinMessages//messages/easy_ham427</dt>\n",
       "\t\t<dd>11.9700748129676</dd>\n",
       "\t<dt>./SpamAssassinMessages//messages/easy_ham516</dt>\n",
       "\t\t<dd>9.23379174852652</dd>\n",
       "\t<dt>./SpamAssassinMessages//messages/easy_ham852</dt>\n",
       "\t\t<dd>1.65562913907285</dd>\n",
       "\t<dt>./SpamAssassinMessages//messages/easy_ham971</dt>\n",
       "\t\t<dd>6.41791044776119</dd>\n",
       "</dl>\n"
      ],
      "text/latex": [
       "\\begin{description*}\n",
       "\\item[./SpamAssassinMessages//messages/easy\\textbackslash{}\\_ham1] 4.45103857566766\n",
       "\\item[./SpamAssassinMessages//messages/easy\\textbackslash{}\\_ham2] 7.49128919860627\n",
       "\\item[./SpamAssassinMessages//messages/easy\\textbackslash{}\\_ham3] 7.43609604957397\n",
       "\\item[./SpamAssassinMessages//messages/easy\\textbackslash{}\\_ham4] 5.09090909090909\n",
       "\\item[./SpamAssassinMessages//messages/easy\\textbackslash{}\\_ham5] 6.11664295874822\n",
       "\\item[./SpamAssassinMessages//messages/easy\\textbackslash{}\\_ham15] 7.73286467486819\n",
       "\\item[./SpamAssassinMessages//messages/easy\\textbackslash{}\\_ham27] 5.52325581395349\n",
       "\\item[./SpamAssassinMessages//messages/easy\\textbackslash{}\\_ham68] 10.0591715976331\n",
       "\\item[./SpamAssassinMessages//messages/easy\\textbackslash{}\\_ham69] 10.8858057630736\n",
       "\\item[./SpamAssassinMessages//messages/easy\\textbackslash{}\\_ham329] 6.47249190938511\n",
       "\\item[./SpamAssassinMessages//messages/easy\\textbackslash{}\\_ham404] 9.59725792630677\n",
       "\\item[./SpamAssassinMessages//messages/easy\\textbackslash{}\\_ham427] 11.9700748129676\n",
       "\\item[./SpamAssassinMessages//messages/easy\\textbackslash{}\\_ham516] 9.23379174852652\n",
       "\\item[./SpamAssassinMessages//messages/easy\\textbackslash{}\\_ham852] 1.65562913907285\n",
       "\\item[./SpamAssassinMessages//messages/easy\\textbackslash{}\\_ham971] 6.41791044776119\n",
       "\\end{description*}\n"
      ],
      "text/markdown": [
       "./SpamAssassinMessages//messages/easy_ham1\n",
       ":   4.45103857566766./SpamAssassinMessages//messages/easy_ham2\n",
       ":   7.49128919860627./SpamAssassinMessages//messages/easy_ham3\n",
       ":   7.43609604957397./SpamAssassinMessages//messages/easy_ham4\n",
       ":   5.09090909090909./SpamAssassinMessages//messages/easy_ham5\n",
       ":   6.11664295874822./SpamAssassinMessages//messages/easy_ham15\n",
       ":   7.73286467486819./SpamAssassinMessages//messages/easy_ham27\n",
       ":   5.52325581395349./SpamAssassinMessages//messages/easy_ham68\n",
       ":   10.0591715976331./SpamAssassinMessages//messages/easy_ham69\n",
       ":   10.8858057630736./SpamAssassinMessages//messages/easy_ham329\n",
       ":   6.47249190938511./SpamAssassinMessages//messages/easy_ham404\n",
       ":   9.59725792630677./SpamAssassinMessages//messages/easy_ham427\n",
       ":   11.9700748129676./SpamAssassinMessages//messages/easy_ham516\n",
       ":   9.23379174852652./SpamAssassinMessages//messages/easy_ham852\n",
       ":   1.65562913907285./SpamAssassinMessages//messages/easy_ham971\n",
       ":   6.41791044776119\n",
       "\n"
      ],
      "text/plain": [
       "  ./SpamAssassinMessages//messages/easy_ham1 \n",
       "                                    4.451039 \n",
       "  ./SpamAssassinMessages//messages/easy_ham2 \n",
       "                                    7.491289 \n",
       "  ./SpamAssassinMessages//messages/easy_ham3 \n",
       "                                    7.436096 \n",
       "  ./SpamAssassinMessages//messages/easy_ham4 \n",
       "                                    5.090909 \n",
       "  ./SpamAssassinMessages//messages/easy_ham5 \n",
       "                                    6.116643 \n",
       " ./SpamAssassinMessages//messages/easy_ham15 \n",
       "                                    7.732865 \n",
       " ./SpamAssassinMessages//messages/easy_ham27 \n",
       "                                    5.523256 \n",
       " ./SpamAssassinMessages//messages/easy_ham68 \n",
       "                                   10.059172 \n",
       " ./SpamAssassinMessages//messages/easy_ham69 \n",
       "                                   10.885806 \n",
       "./SpamAssassinMessages//messages/easy_ham329 \n",
       "                                    6.472492 \n",
       "./SpamAssassinMessages//messages/easy_ham404 \n",
       "                                    9.597258 \n",
       "./SpamAssassinMessages//messages/easy_ham427 \n",
       "                                   11.970075 \n",
       "./SpamAssassinMessages//messages/easy_ham516 \n",
       "                                    9.233792 \n",
       "./SpamAssassinMessages//messages/easy_ham852 \n",
       "                                    1.655629 \n",
       "./SpamAssassinMessages//messages/easy_ham971 \n",
       "                                    6.417910 "
      ]
     },
     "metadata": {},
     "output_type": "display_data"
    }
   ],
   "source": [
    "sapply(sampleStruct, perCaps)\n",
    "\n",
    "funcList = list( \n",
    " isRe = function(msg) {\n",
    "       \"Subject\" %in% names(msg$header) &&\n",
    "         length(grep(\"^[ \\t]*Re:\", msg$header[[\"Subject\"]])) > 0\n",
    "  },\n",
    "  numLines = function(msg) \n",
    "                length(msg$body),\n",
    "  isYelling = function(msg) {\n",
    "    if ( \"Subject\" %in% names(msg$header) ) {\n",
    "       el = gsub(\"[^[:alpha:]]\", \"\", msg$header[\"Subject\"])\n",
    "       if (nchar(el) > 0) \n",
    "         nchar(gsub(\"[A-Z]\", \"\", el)) < 1\n",
    "       else \n",
    "         FALSE\n",
    "    }\n",
    "    else NA\n",
    "  },\n",
    "  perCaps = function(msg) {\n",
    "    body = paste(msg$body, collapse = \"\")\n",
    "\n",
    "         # Return NA if the body of the message is \"empty\"\n",
    "    if(length(body) == 0 || nchar(body) == 0) return(NA)\n",
    "\n",
    "         # Eliminate non-alpha characters\n",
    "    body = gsub(\"[^[:alpha:]]\", \"\", body)\n",
    "    capText = gsub(\"[^A-Z]\", \"\", body)\n",
    "    100 * nchar(capText)/nchar(body)\n",
    "  }\n",
    ")"
   ]
  },
  {
   "cell_type": "code",
   "execution_count": 45,
   "metadata": {},
   "outputs": [
    {
     "data": {
      "text/html": [
       "<dl>\n",
       "\t<dt>$isRe</dt>\n",
       "\t\t<dd><dl class=dl-horizontal>\n",
       "\t<dt>./SpamAssassinMessages//messages/easy_ham1</dt>\n",
       "\t\t<dd>TRUE</dd>\n",
       "\t<dt>./SpamAssassinMessages//messages/easy_ham2</dt>\n",
       "\t\t<dd>FALSE</dd>\n",
       "\t<dt>./SpamAssassinMessages//messages/easy_ham3</dt>\n",
       "\t\t<dd>FALSE</dd>\n",
       "\t<dt>./SpamAssassinMessages//messages/easy_ham4</dt>\n",
       "\t\t<dd>FALSE</dd>\n",
       "\t<dt>./SpamAssassinMessages//messages/easy_ham5</dt>\n",
       "\t\t<dd>TRUE</dd>\n",
       "\t<dt>./SpamAssassinMessages//messages/easy_ham15</dt>\n",
       "\t\t<dd>TRUE</dd>\n",
       "\t<dt>./SpamAssassinMessages//messages/easy_ham27</dt>\n",
       "\t\t<dd>TRUE</dd>\n",
       "\t<dt>./SpamAssassinMessages//messages/easy_ham68</dt>\n",
       "\t\t<dd>FALSE</dd>\n",
       "\t<dt>./SpamAssassinMessages//messages/easy_ham69</dt>\n",
       "\t\t<dd>TRUE</dd>\n",
       "\t<dt>./SpamAssassinMessages//messages/easy_ham329</dt>\n",
       "\t\t<dd>TRUE</dd>\n",
       "\t<dt>./SpamAssassinMessages//messages/easy_ham404</dt>\n",
       "\t\t<dd>TRUE</dd>\n",
       "\t<dt>./SpamAssassinMessages//messages/easy_ham427</dt>\n",
       "\t\t<dd>TRUE</dd>\n",
       "\t<dt>./SpamAssassinMessages//messages/easy_ham516</dt>\n",
       "\t\t<dd>TRUE</dd>\n",
       "\t<dt>./SpamAssassinMessages//messages/easy_ham852</dt>\n",
       "\t\t<dd>FALSE</dd>\n",
       "\t<dt>./SpamAssassinMessages//messages/easy_ham971</dt>\n",
       "\t\t<dd>TRUE</dd>\n",
       "</dl>\n",
       "</dd>\n",
       "\t<dt>$numLines</dt>\n",
       "\t\t<dd><dl class=dl-horizontal>\n",
       "\t<dt>./SpamAssassinMessages//messages/easy_ham1</dt>\n",
       "\t\t<dd>50</dd>\n",
       "\t<dt>./SpamAssassinMessages//messages/easy_ham2</dt>\n",
       "\t\t<dd>26</dd>\n",
       "\t<dt>./SpamAssassinMessages//messages/easy_ham3</dt>\n",
       "\t\t<dd>38</dd>\n",
       "\t<dt>./SpamAssassinMessages//messages/easy_ham4</dt>\n",
       "\t\t<dd>32</dd>\n",
       "\t<dt>./SpamAssassinMessages//messages/easy_ham5</dt>\n",
       "\t\t<dd>31</dd>\n",
       "\t<dt>./SpamAssassinMessages//messages/easy_ham15</dt>\n",
       "\t\t<dd>54</dd>\n",
       "\t<dt>./SpamAssassinMessages//messages/easy_ham27</dt>\n",
       "\t\t<dd>35</dd>\n",
       "\t<dt>./SpamAssassinMessages//messages/easy_ham68</dt>\n",
       "\t\t<dd>36</dd>\n",
       "\t<dt>./SpamAssassinMessages//messages/easy_ham69</dt>\n",
       "\t\t<dd>65</dd>\n",
       "\t<dt>./SpamAssassinMessages//messages/easy_ham329</dt>\n",
       "\t\t<dd>58</dd>\n",
       "\t<dt>./SpamAssassinMessages//messages/easy_ham404</dt>\n",
       "\t\t<dd>70</dd>\n",
       "\t<dt>./SpamAssassinMessages//messages/easy_ham427</dt>\n",
       "\t\t<dd>31</dd>\n",
       "\t<dt>./SpamAssassinMessages//messages/easy_ham516</dt>\n",
       "\t\t<dd>38</dd>\n",
       "\t<dt>./SpamAssassinMessages//messages/easy_ham852</dt>\n",
       "\t\t<dd>28</dd>\n",
       "\t<dt>./SpamAssassinMessages//messages/easy_ham971</dt>\n",
       "\t\t<dd>34</dd>\n",
       "</dl>\n",
       "</dd>\n",
       "\t<dt>$isYelling</dt>\n",
       "\t\t<dd><dl class=dl-horizontal>\n",
       "\t<dt>./SpamAssassinMessages//messages/easy_ham1.Subject</dt>\n",
       "\t\t<dd>FALSE</dd>\n",
       "\t<dt>./SpamAssassinMessages//messages/easy_ham2.Subject</dt>\n",
       "\t\t<dd>FALSE</dd>\n",
       "\t<dt>./SpamAssassinMessages//messages/easy_ham3.Subject</dt>\n",
       "\t\t<dd>FALSE</dd>\n",
       "\t<dt>./SpamAssassinMessages//messages/easy_ham4.Subject</dt>\n",
       "\t\t<dd>FALSE</dd>\n",
       "\t<dt>./SpamAssassinMessages//messages/easy_ham5.Subject</dt>\n",
       "\t\t<dd>FALSE</dd>\n",
       "\t<dt>./SpamAssassinMessages//messages/easy_ham15.Subject</dt>\n",
       "\t\t<dd>FALSE</dd>\n",
       "\t<dt>./SpamAssassinMessages//messages/easy_ham27.Subject</dt>\n",
       "\t\t<dd>FALSE</dd>\n",
       "\t<dt>./SpamAssassinMessages//messages/easy_ham68.Subject</dt>\n",
       "\t\t<dd>FALSE</dd>\n",
       "\t<dt>./SpamAssassinMessages//messages/easy_ham69.Subject</dt>\n",
       "\t\t<dd>FALSE</dd>\n",
       "\t<dt>./SpamAssassinMessages//messages/easy_ham329.Subject</dt>\n",
       "\t\t<dd>FALSE</dd>\n",
       "\t<dt>./SpamAssassinMessages//messages/easy_ham404.Subject</dt>\n",
       "\t\t<dd>FALSE</dd>\n",
       "\t<dt>./SpamAssassinMessages//messages/easy_ham427.Subject</dt>\n",
       "\t\t<dd>FALSE</dd>\n",
       "\t<dt>./SpamAssassinMessages//messages/easy_ham516.Subject</dt>\n",
       "\t\t<dd>FALSE</dd>\n",
       "\t<dt>./SpamAssassinMessages//messages/easy_ham852.Subject</dt>\n",
       "\t\t<dd>FALSE</dd>\n",
       "\t<dt>./SpamAssassinMessages//messages/easy_ham971.Subject</dt>\n",
       "\t\t<dd>FALSE</dd>\n",
       "</dl>\n",
       "</dd>\n",
       "\t<dt>$perCaps</dt>\n",
       "\t\t<dd><dl class=dl-horizontal>\n",
       "\t<dt>./SpamAssassinMessages//messages/easy_ham1</dt>\n",
       "\t\t<dd>4.45103857566766</dd>\n",
       "\t<dt>./SpamAssassinMessages//messages/easy_ham2</dt>\n",
       "\t\t<dd>7.49128919860627</dd>\n",
       "\t<dt>./SpamAssassinMessages//messages/easy_ham3</dt>\n",
       "\t\t<dd>7.43609604957397</dd>\n",
       "\t<dt>./SpamAssassinMessages//messages/easy_ham4</dt>\n",
       "\t\t<dd>5.09090909090909</dd>\n",
       "\t<dt>./SpamAssassinMessages//messages/easy_ham5</dt>\n",
       "\t\t<dd>6.11664295874822</dd>\n",
       "\t<dt>./SpamAssassinMessages//messages/easy_ham15</dt>\n",
       "\t\t<dd>7.73286467486819</dd>\n",
       "\t<dt>./SpamAssassinMessages//messages/easy_ham27</dt>\n",
       "\t\t<dd>5.52325581395349</dd>\n",
       "\t<dt>./SpamAssassinMessages//messages/easy_ham68</dt>\n",
       "\t\t<dd>10.0591715976331</dd>\n",
       "\t<dt>./SpamAssassinMessages//messages/easy_ham69</dt>\n",
       "\t\t<dd>10.8858057630736</dd>\n",
       "\t<dt>./SpamAssassinMessages//messages/easy_ham329</dt>\n",
       "\t\t<dd>6.47249190938511</dd>\n",
       "\t<dt>./SpamAssassinMessages//messages/easy_ham404</dt>\n",
       "\t\t<dd>9.59725792630677</dd>\n",
       "\t<dt>./SpamAssassinMessages//messages/easy_ham427</dt>\n",
       "\t\t<dd>11.9700748129676</dd>\n",
       "\t<dt>./SpamAssassinMessages//messages/easy_ham516</dt>\n",
       "\t\t<dd>9.23379174852652</dd>\n",
       "\t<dt>./SpamAssassinMessages//messages/easy_ham852</dt>\n",
       "\t\t<dd>1.65562913907285</dd>\n",
       "\t<dt>./SpamAssassinMessages//messages/easy_ham971</dt>\n",
       "\t\t<dd>6.41791044776119</dd>\n",
       "</dl>\n",
       "</dd>\n",
       "</dl>\n"
      ],
      "text/latex": [
       "\\begin{description}\n",
       "\\item[\\$isRe] \\begin{description*}\n",
       "\\item[./SpamAssassinMessages//messages/easy\\textbackslash{}\\_ham1] TRUE\n",
       "\\item[./SpamAssassinMessages//messages/easy\\textbackslash{}\\_ham2] FALSE\n",
       "\\item[./SpamAssassinMessages//messages/easy\\textbackslash{}\\_ham3] FALSE\n",
       "\\item[./SpamAssassinMessages//messages/easy\\textbackslash{}\\_ham4] FALSE\n",
       "\\item[./SpamAssassinMessages//messages/easy\\textbackslash{}\\_ham5] TRUE\n",
       "\\item[./SpamAssassinMessages//messages/easy\\textbackslash{}\\_ham15] TRUE\n",
       "\\item[./SpamAssassinMessages//messages/easy\\textbackslash{}\\_ham27] TRUE\n",
       "\\item[./SpamAssassinMessages//messages/easy\\textbackslash{}\\_ham68] FALSE\n",
       "\\item[./SpamAssassinMessages//messages/easy\\textbackslash{}\\_ham69] TRUE\n",
       "\\item[./SpamAssassinMessages//messages/easy\\textbackslash{}\\_ham329] TRUE\n",
       "\\item[./SpamAssassinMessages//messages/easy\\textbackslash{}\\_ham404] TRUE\n",
       "\\item[./SpamAssassinMessages//messages/easy\\textbackslash{}\\_ham427] TRUE\n",
       "\\item[./SpamAssassinMessages//messages/easy\\textbackslash{}\\_ham516] TRUE\n",
       "\\item[./SpamAssassinMessages//messages/easy\\textbackslash{}\\_ham852] FALSE\n",
       "\\item[./SpamAssassinMessages//messages/easy\\textbackslash{}\\_ham971] TRUE\n",
       "\\end{description*}\n",
       "\n",
       "\\item[\\$numLines] \\begin{description*}\n",
       "\\item[./SpamAssassinMessages//messages/easy\\textbackslash{}\\_ham1] 50\n",
       "\\item[./SpamAssassinMessages//messages/easy\\textbackslash{}\\_ham2] 26\n",
       "\\item[./SpamAssassinMessages//messages/easy\\textbackslash{}\\_ham3] 38\n",
       "\\item[./SpamAssassinMessages//messages/easy\\textbackslash{}\\_ham4] 32\n",
       "\\item[./SpamAssassinMessages//messages/easy\\textbackslash{}\\_ham5] 31\n",
       "\\item[./SpamAssassinMessages//messages/easy\\textbackslash{}\\_ham15] 54\n",
       "\\item[./SpamAssassinMessages//messages/easy\\textbackslash{}\\_ham27] 35\n",
       "\\item[./SpamAssassinMessages//messages/easy\\textbackslash{}\\_ham68] 36\n",
       "\\item[./SpamAssassinMessages//messages/easy\\textbackslash{}\\_ham69] 65\n",
       "\\item[./SpamAssassinMessages//messages/easy\\textbackslash{}\\_ham329] 58\n",
       "\\item[./SpamAssassinMessages//messages/easy\\textbackslash{}\\_ham404] 70\n",
       "\\item[./SpamAssassinMessages//messages/easy\\textbackslash{}\\_ham427] 31\n",
       "\\item[./SpamAssassinMessages//messages/easy\\textbackslash{}\\_ham516] 38\n",
       "\\item[./SpamAssassinMessages//messages/easy\\textbackslash{}\\_ham852] 28\n",
       "\\item[./SpamAssassinMessages//messages/easy\\textbackslash{}\\_ham971] 34\n",
       "\\end{description*}\n",
       "\n",
       "\\item[\\$isYelling] \\begin{description*}\n",
       "\\item[./SpamAssassinMessages//messages/easy\\textbackslash{}\\_ham1.Subject] FALSE\n",
       "\\item[./SpamAssassinMessages//messages/easy\\textbackslash{}\\_ham2.Subject] FALSE\n",
       "\\item[./SpamAssassinMessages//messages/easy\\textbackslash{}\\_ham3.Subject] FALSE\n",
       "\\item[./SpamAssassinMessages//messages/easy\\textbackslash{}\\_ham4.Subject] FALSE\n",
       "\\item[./SpamAssassinMessages//messages/easy\\textbackslash{}\\_ham5.Subject] FALSE\n",
       "\\item[./SpamAssassinMessages//messages/easy\\textbackslash{}\\_ham15.Subject] FALSE\n",
       "\\item[./SpamAssassinMessages//messages/easy\\textbackslash{}\\_ham27.Subject] FALSE\n",
       "\\item[./SpamAssassinMessages//messages/easy\\textbackslash{}\\_ham68.Subject] FALSE\n",
       "\\item[./SpamAssassinMessages//messages/easy\\textbackslash{}\\_ham69.Subject] FALSE\n",
       "\\item[./SpamAssassinMessages//messages/easy\\textbackslash{}\\_ham329.Subject] FALSE\n",
       "\\item[./SpamAssassinMessages//messages/easy\\textbackslash{}\\_ham404.Subject] FALSE\n",
       "\\item[./SpamAssassinMessages//messages/easy\\textbackslash{}\\_ham427.Subject] FALSE\n",
       "\\item[./SpamAssassinMessages//messages/easy\\textbackslash{}\\_ham516.Subject] FALSE\n",
       "\\item[./SpamAssassinMessages//messages/easy\\textbackslash{}\\_ham852.Subject] FALSE\n",
       "\\item[./SpamAssassinMessages//messages/easy\\textbackslash{}\\_ham971.Subject] FALSE\n",
       "\\end{description*}\n",
       "\n",
       "\\item[\\$perCaps] \\begin{description*}\n",
       "\\item[./SpamAssassinMessages//messages/easy\\textbackslash{}\\_ham1] 4.45103857566766\n",
       "\\item[./SpamAssassinMessages//messages/easy\\textbackslash{}\\_ham2] 7.49128919860627\n",
       "\\item[./SpamAssassinMessages//messages/easy\\textbackslash{}\\_ham3] 7.43609604957397\n",
       "\\item[./SpamAssassinMessages//messages/easy\\textbackslash{}\\_ham4] 5.09090909090909\n",
       "\\item[./SpamAssassinMessages//messages/easy\\textbackslash{}\\_ham5] 6.11664295874822\n",
       "\\item[./SpamAssassinMessages//messages/easy\\textbackslash{}\\_ham15] 7.73286467486819\n",
       "\\item[./SpamAssassinMessages//messages/easy\\textbackslash{}\\_ham27] 5.52325581395349\n",
       "\\item[./SpamAssassinMessages//messages/easy\\textbackslash{}\\_ham68] 10.0591715976331\n",
       "\\item[./SpamAssassinMessages//messages/easy\\textbackslash{}\\_ham69] 10.8858057630736\n",
       "\\item[./SpamAssassinMessages//messages/easy\\textbackslash{}\\_ham329] 6.47249190938511\n",
       "\\item[./SpamAssassinMessages//messages/easy\\textbackslash{}\\_ham404] 9.59725792630677\n",
       "\\item[./SpamAssassinMessages//messages/easy\\textbackslash{}\\_ham427] 11.9700748129676\n",
       "\\item[./SpamAssassinMessages//messages/easy\\textbackslash{}\\_ham516] 9.23379174852652\n",
       "\\item[./SpamAssassinMessages//messages/easy\\textbackslash{}\\_ham852] 1.65562913907285\n",
       "\\item[./SpamAssassinMessages//messages/easy\\textbackslash{}\\_ham971] 6.41791044776119\n",
       "\\end{description*}\n",
       "\n",
       "\\end{description}\n"
      ],
      "text/markdown": [
       "$isRe\n",
       ":   ./SpamAssassinMessages//messages/easy_ham1\n",
       ":   TRUE./SpamAssassinMessages//messages/easy_ham2\n",
       ":   FALSE./SpamAssassinMessages//messages/easy_ham3\n",
       ":   FALSE./SpamAssassinMessages//messages/easy_ham4\n",
       ":   FALSE./SpamAssassinMessages//messages/easy_ham5\n",
       ":   TRUE./SpamAssassinMessages//messages/easy_ham15\n",
       ":   TRUE./SpamAssassinMessages//messages/easy_ham27\n",
       ":   TRUE./SpamAssassinMessages//messages/easy_ham68\n",
       ":   FALSE./SpamAssassinMessages//messages/easy_ham69\n",
       ":   TRUE./SpamAssassinMessages//messages/easy_ham329\n",
       ":   TRUE./SpamAssassinMessages//messages/easy_ham404\n",
       ":   TRUE./SpamAssassinMessages//messages/easy_ham427\n",
       ":   TRUE./SpamAssassinMessages//messages/easy_ham516\n",
       ":   TRUE./SpamAssassinMessages//messages/easy_ham852\n",
       ":   FALSE./SpamAssassinMessages//messages/easy_ham971\n",
       ":   TRUE\n",
       "\n",
       "\n",
       "$numLines\n",
       ":   ./SpamAssassinMessages//messages/easy_ham1\n",
       ":   50./SpamAssassinMessages//messages/easy_ham2\n",
       ":   26./SpamAssassinMessages//messages/easy_ham3\n",
       ":   38./SpamAssassinMessages//messages/easy_ham4\n",
       ":   32./SpamAssassinMessages//messages/easy_ham5\n",
       ":   31./SpamAssassinMessages//messages/easy_ham15\n",
       ":   54./SpamAssassinMessages//messages/easy_ham27\n",
       ":   35./SpamAssassinMessages//messages/easy_ham68\n",
       ":   36./SpamAssassinMessages//messages/easy_ham69\n",
       ":   65./SpamAssassinMessages//messages/easy_ham329\n",
       ":   58./SpamAssassinMessages//messages/easy_ham404\n",
       ":   70./SpamAssassinMessages//messages/easy_ham427\n",
       ":   31./SpamAssassinMessages//messages/easy_ham516\n",
       ":   38./SpamAssassinMessages//messages/easy_ham852\n",
       ":   28./SpamAssassinMessages//messages/easy_ham971\n",
       ":   34\n",
       "\n",
       "\n",
       "$isYelling\n",
       ":   ./SpamAssassinMessages//messages/easy_ham1.Subject\n",
       ":   FALSE./SpamAssassinMessages//messages/easy_ham2.Subject\n",
       ":   FALSE./SpamAssassinMessages//messages/easy_ham3.Subject\n",
       ":   FALSE./SpamAssassinMessages//messages/easy_ham4.Subject\n",
       ":   FALSE./SpamAssassinMessages//messages/easy_ham5.Subject\n",
       ":   FALSE./SpamAssassinMessages//messages/easy_ham15.Subject\n",
       ":   FALSE./SpamAssassinMessages//messages/easy_ham27.Subject\n",
       ":   FALSE./SpamAssassinMessages//messages/easy_ham68.Subject\n",
       ":   FALSE./SpamAssassinMessages//messages/easy_ham69.Subject\n",
       ":   FALSE./SpamAssassinMessages//messages/easy_ham329.Subject\n",
       ":   FALSE./SpamAssassinMessages//messages/easy_ham404.Subject\n",
       ":   FALSE./SpamAssassinMessages//messages/easy_ham427.Subject\n",
       ":   FALSE./SpamAssassinMessages//messages/easy_ham516.Subject\n",
       ":   FALSE./SpamAssassinMessages//messages/easy_ham852.Subject\n",
       ":   FALSE./SpamAssassinMessages//messages/easy_ham971.Subject\n",
       ":   FALSE\n",
       "\n",
       "\n",
       "$perCaps\n",
       ":   ./SpamAssassinMessages//messages/easy_ham1\n",
       ":   4.45103857566766./SpamAssassinMessages//messages/easy_ham2\n",
       ":   7.49128919860627./SpamAssassinMessages//messages/easy_ham3\n",
       ":   7.43609604957397./SpamAssassinMessages//messages/easy_ham4\n",
       ":   5.09090909090909./SpamAssassinMessages//messages/easy_ham5\n",
       ":   6.11664295874822./SpamAssassinMessages//messages/easy_ham15\n",
       ":   7.73286467486819./SpamAssassinMessages//messages/easy_ham27\n",
       ":   5.52325581395349./SpamAssassinMessages//messages/easy_ham68\n",
       ":   10.0591715976331./SpamAssassinMessages//messages/easy_ham69\n",
       ":   10.8858057630736./SpamAssassinMessages//messages/easy_ham329\n",
       ":   6.47249190938511./SpamAssassinMessages//messages/easy_ham404\n",
       ":   9.59725792630677./SpamAssassinMessages//messages/easy_ham427\n",
       ":   11.9700748129676./SpamAssassinMessages//messages/easy_ham516\n",
       ":   9.23379174852652./SpamAssassinMessages//messages/easy_ham852\n",
       ":   1.65562913907285./SpamAssassinMessages//messages/easy_ham971\n",
       ":   6.41791044776119\n",
       "\n",
       "\n",
       "\n",
       "\n"
      ],
      "text/plain": [
       "$isRe\n",
       "  ./SpamAssassinMessages//messages/easy_ham1 \n",
       "                                        TRUE \n",
       "  ./SpamAssassinMessages//messages/easy_ham2 \n",
       "                                       FALSE \n",
       "  ./SpamAssassinMessages//messages/easy_ham3 \n",
       "                                       FALSE \n",
       "  ./SpamAssassinMessages//messages/easy_ham4 \n",
       "                                       FALSE \n",
       "  ./SpamAssassinMessages//messages/easy_ham5 \n",
       "                                        TRUE \n",
       " ./SpamAssassinMessages//messages/easy_ham15 \n",
       "                                        TRUE \n",
       " ./SpamAssassinMessages//messages/easy_ham27 \n",
       "                                        TRUE \n",
       " ./SpamAssassinMessages//messages/easy_ham68 \n",
       "                                       FALSE \n",
       " ./SpamAssassinMessages//messages/easy_ham69 \n",
       "                                        TRUE \n",
       "./SpamAssassinMessages//messages/easy_ham329 \n",
       "                                        TRUE \n",
       "./SpamAssassinMessages//messages/easy_ham404 \n",
       "                                        TRUE \n",
       "./SpamAssassinMessages//messages/easy_ham427 \n",
       "                                        TRUE \n",
       "./SpamAssassinMessages//messages/easy_ham516 \n",
       "                                        TRUE \n",
       "./SpamAssassinMessages//messages/easy_ham852 \n",
       "                                       FALSE \n",
       "./SpamAssassinMessages//messages/easy_ham971 \n",
       "                                        TRUE \n",
       "\n",
       "$numLines\n",
       "  ./SpamAssassinMessages//messages/easy_ham1 \n",
       "                                          50 \n",
       "  ./SpamAssassinMessages//messages/easy_ham2 \n",
       "                                          26 \n",
       "  ./SpamAssassinMessages//messages/easy_ham3 \n",
       "                                          38 \n",
       "  ./SpamAssassinMessages//messages/easy_ham4 \n",
       "                                          32 \n",
       "  ./SpamAssassinMessages//messages/easy_ham5 \n",
       "                                          31 \n",
       " ./SpamAssassinMessages//messages/easy_ham15 \n",
       "                                          54 \n",
       " ./SpamAssassinMessages//messages/easy_ham27 \n",
       "                                          35 \n",
       " ./SpamAssassinMessages//messages/easy_ham68 \n",
       "                                          36 \n",
       " ./SpamAssassinMessages//messages/easy_ham69 \n",
       "                                          65 \n",
       "./SpamAssassinMessages//messages/easy_ham329 \n",
       "                                          58 \n",
       "./SpamAssassinMessages//messages/easy_ham404 \n",
       "                                          70 \n",
       "./SpamAssassinMessages//messages/easy_ham427 \n",
       "                                          31 \n",
       "./SpamAssassinMessages//messages/easy_ham516 \n",
       "                                          38 \n",
       "./SpamAssassinMessages//messages/easy_ham852 \n",
       "                                          28 \n",
       "./SpamAssassinMessages//messages/easy_ham971 \n",
       "                                          34 \n",
       "\n",
       "$isYelling\n",
       "  ./SpamAssassinMessages//messages/easy_ham1.Subject \n",
       "                                               FALSE \n",
       "  ./SpamAssassinMessages//messages/easy_ham2.Subject \n",
       "                                               FALSE \n",
       "  ./SpamAssassinMessages//messages/easy_ham3.Subject \n",
       "                                               FALSE \n",
       "  ./SpamAssassinMessages//messages/easy_ham4.Subject \n",
       "                                               FALSE \n",
       "  ./SpamAssassinMessages//messages/easy_ham5.Subject \n",
       "                                               FALSE \n",
       " ./SpamAssassinMessages//messages/easy_ham15.Subject \n",
       "                                               FALSE \n",
       " ./SpamAssassinMessages//messages/easy_ham27.Subject \n",
       "                                               FALSE \n",
       " ./SpamAssassinMessages//messages/easy_ham68.Subject \n",
       "                                               FALSE \n",
       " ./SpamAssassinMessages//messages/easy_ham69.Subject \n",
       "                                               FALSE \n",
       "./SpamAssassinMessages//messages/easy_ham329.Subject \n",
       "                                               FALSE \n",
       "./SpamAssassinMessages//messages/easy_ham404.Subject \n",
       "                                               FALSE \n",
       "./SpamAssassinMessages//messages/easy_ham427.Subject \n",
       "                                               FALSE \n",
       "./SpamAssassinMessages//messages/easy_ham516.Subject \n",
       "                                               FALSE \n",
       "./SpamAssassinMessages//messages/easy_ham852.Subject \n",
       "                                               FALSE \n",
       "./SpamAssassinMessages//messages/easy_ham971.Subject \n",
       "                                               FALSE \n",
       "\n",
       "$perCaps\n",
       "  ./SpamAssassinMessages//messages/easy_ham1 \n",
       "                                    4.451039 \n",
       "  ./SpamAssassinMessages//messages/easy_ham2 \n",
       "                                    7.491289 \n",
       "  ./SpamAssassinMessages//messages/easy_ham3 \n",
       "                                    7.436096 \n",
       "  ./SpamAssassinMessages//messages/easy_ham4 \n",
       "                                    5.090909 \n",
       "  ./SpamAssassinMessages//messages/easy_ham5 \n",
       "                                    6.116643 \n",
       " ./SpamAssassinMessages//messages/easy_ham15 \n",
       "                                    7.732865 \n",
       " ./SpamAssassinMessages//messages/easy_ham27 \n",
       "                                    5.523256 \n",
       " ./SpamAssassinMessages//messages/easy_ham68 \n",
       "                                   10.059172 \n",
       " ./SpamAssassinMessages//messages/easy_ham69 \n",
       "                                   10.885806 \n",
       "./SpamAssassinMessages//messages/easy_ham329 \n",
       "                                    6.472492 \n",
       "./SpamAssassinMessages//messages/easy_ham404 \n",
       "                                    9.597258 \n",
       "./SpamAssassinMessages//messages/easy_ham427 \n",
       "                                   11.970075 \n",
       "./SpamAssassinMessages//messages/easy_ham516 \n",
       "                                    9.233792 \n",
       "./SpamAssassinMessages//messages/easy_ham852 \n",
       "                                    1.655629 \n",
       "./SpamAssassinMessages//messages/easy_ham971 \n",
       "                                    6.417910 \n"
      ]
     },
     "metadata": {},
     "output_type": "display_data"
    },
    {
     "data": {
      "text/html": [
       "<table>\n",
       "<thead><tr><th></th><th scope=col>isRe</th><th scope=col>numLines</th><th scope=col>isYelling</th><th scope=col>perCaps</th></tr></thead>\n",
       "<tbody>\n",
       "\t<tr><th scope=row>./SpamAssassinMessages//messages/easy_ham1</th><td> TRUE   </td><td>50      </td><td>FALSE   </td><td>4.451039</td></tr>\n",
       "\t<tr><th scope=row>./SpamAssassinMessages//messages/easy_ham2</th><td>FALSE   </td><td>26      </td><td>FALSE   </td><td>7.491289</td></tr>\n",
       "\t<tr><th scope=row>./SpamAssassinMessages//messages/easy_ham3</th><td>FALSE   </td><td>38      </td><td>FALSE   </td><td>7.436096</td></tr>\n",
       "\t<tr><th scope=row>./SpamAssassinMessages//messages/easy_ham4</th><td>FALSE   </td><td>32      </td><td>FALSE   </td><td>5.090909</td></tr>\n",
       "\t<tr><th scope=row>./SpamAssassinMessages//messages/easy_ham5</th><td> TRUE   </td><td>31      </td><td>FALSE   </td><td>6.116643</td></tr>\n",
       "\t<tr><th scope=row>./SpamAssassinMessages//messages/easy_ham15</th><td> TRUE   </td><td>54      </td><td>FALSE   </td><td>7.732865</td></tr>\n",
       "</tbody>\n",
       "</table>\n"
      ],
      "text/latex": [
       "\\begin{tabular}{r|llll}\n",
       "  & isRe & numLines & isYelling & perCaps\\\\\n",
       "\\hline\n",
       "\t./SpamAssassinMessages//messages/easy\\_ham1 &  TRUE    & 50       & FALSE    & 4.451039\\\\\n",
       "\t./SpamAssassinMessages//messages/easy\\_ham2 & FALSE    & 26       & FALSE    & 7.491289\\\\\n",
       "\t./SpamAssassinMessages//messages/easy\\_ham3 & FALSE    & 38       & FALSE    & 7.436096\\\\\n",
       "\t./SpamAssassinMessages//messages/easy\\_ham4 & FALSE    & 32       & FALSE    & 5.090909\\\\\n",
       "\t./SpamAssassinMessages//messages/easy\\_ham5 &  TRUE    & 31       & FALSE    & 6.116643\\\\\n",
       "\t./SpamAssassinMessages//messages/easy\\_ham15 &  TRUE    & 54       & FALSE    & 7.732865\\\\\n",
       "\\end{tabular}\n"
      ],
      "text/markdown": [
       "\n",
       "| <!--/--> | isRe | numLines | isYelling | perCaps |\n",
       "|---|---|---|---|---|\n",
       "| ./SpamAssassinMessages//messages/easy_ham1 |  TRUE    | 50       | FALSE    | 4.451039 |\n",
       "| ./SpamAssassinMessages//messages/easy_ham2 | FALSE    | 26       | FALSE    | 7.491289 |\n",
       "| ./SpamAssassinMessages//messages/easy_ham3 | FALSE    | 38       | FALSE    | 7.436096 |\n",
       "| ./SpamAssassinMessages//messages/easy_ham4 | FALSE    | 32       | FALSE    | 5.090909 |\n",
       "| ./SpamAssassinMessages//messages/easy_ham5 |  TRUE    | 31       | FALSE    | 6.116643 |\n",
       "| ./SpamAssassinMessages//messages/easy_ham15 |  TRUE    | 54       | FALSE    | 7.732865 |\n",
       "\n"
      ],
      "text/plain": [
       "                                            isRe  numLines isYelling perCaps \n",
       "./SpamAssassinMessages//messages/easy_ham1   TRUE 50       FALSE     4.451039\n",
       "./SpamAssassinMessages//messages/easy_ham2  FALSE 26       FALSE     7.491289\n",
       "./SpamAssassinMessages//messages/easy_ham3  FALSE 38       FALSE     7.436096\n",
       "./SpamAssassinMessages//messages/easy_ham4  FALSE 32       FALSE     5.090909\n",
       "./SpamAssassinMessages//messages/easy_ham5   TRUE 31       FALSE     6.116643\n",
       "./SpamAssassinMessages//messages/easy_ham15  TRUE 54       FALSE     7.732865"
      ]
     },
     "metadata": {},
     "output_type": "display_data"
    }
   ],
   "source": [
    "lapply(funcList, function(func) \n",
    "                   sapply(sampleStruct, function(msg) func(msg)))\n",
    "\n",
    "createDerivedDF =\n",
    "function(email = emailStruct, operations = funcList, \n",
    "         verbose = FALSE)\n",
    "{\n",
    "  els = lapply(names(operations),\n",
    "               function(id) {\n",
    "                 if(verbose) print(id)\n",
    "                 e = operations[[id]]\n",
    "                 v = if(is.function(e)) \n",
    "                        sapply(email, e)\n",
    "                      else \n",
    "                        sapply(email, function(msg) eval(e))\n",
    "                 v\n",
    "         })\n",
    "\n",
    "   df = as.data.frame(els)\n",
    "   names(df) = names(operations)\n",
    "   invisible(df)\n",
    "}\n",
    "\n",
    "sampleDF = createDerivedDF(sampleStruct)\n",
    "head(sampleDF)"
   ]
  },
  {
   "cell_type": "code",
   "execution_count": 46,
   "metadata": {},
   "outputs": [],
   "source": [
    "funcList = list(\n",
    "  isSpam =\n",
    "    expression(msg$isSpam)\n",
    "  ,\n",
    "  isRe =\n",
    "    function(msg) {\n",
    "      # Can have a Fwd: Re:  ... but we are not looking for this here.\n",
    "      # We may want to look at In-Reply-To field.\n",
    "      \"Subject\" %in% names(msg$header) && \n",
    "        length(grep(\"^[ \\t]*Re:\", msg$header[[\"Subject\"]])) > 0\n",
    "    }\n",
    "  ,\n",
    "  numLines =\n",
    "    function(msg) length(msg$body)\n",
    "  ,\n",
    "  bodyCharCt =\n",
    "    function(msg)\n",
    "      sum(nchar(msg$body))\n",
    "  ,\n",
    "  underscore =\n",
    "    function(msg) {\n",
    "      if(!\"Reply-To\" %in% names(msg$header))\n",
    "        return(FALSE)\n",
    "      \n",
    "      txt <- msg$header[[\"Reply-To\"]]\n",
    "      length(grep(\"_\", txt)) > 0  && \n",
    "        length(grep(\"[0-9A-Za-z]+\", txt)) > 0\n",
    "    }\n",
    "  ,\n",
    "  subExcCt = \n",
    "    function(msg) {\n",
    "      x = msg$header[\"Subject\"]\n",
    "      if(length(x) == 0 || sum(nchar(x)) == 0 || is.na(x))\n",
    "        return(NA)\n",
    "      \n",
    "      sum(nchar(gsub(\"[^!]\",\"\", x)))\n",
    "    }\n",
    "  ,\n",
    "  subQuesCt =\n",
    "    function(msg) {\n",
    "      x = msg$header[\"Subject\"]\n",
    "      if(length(x) == 0 || sum(nchar(x)) == 0 || is.na(x))\n",
    "        return(NA)\n",
    "      \n",
    "      sum(nchar(gsub(\"[^?]\",\"\", x)))\n",
    "    }\n",
    "  ,\n",
    "  numAtt = \n",
    "    function(msg) {\n",
    "      if (is.null(msg$attach)) return(0)\n",
    "      else nrow(msg$attach)\n",
    "    }\n",
    "   \n",
    "  ,\n",
    "  priority =\n",
    "    function(msg) {\n",
    "      ans <- FALSE\n",
    "      # Look for names X-Priority, Priority, X-Msmail-Priority\n",
    "      # Look for high any where in the value\n",
    "      ind = grep(\"priority\", tolower(names(msg$header)))\n",
    "      if (length(ind) > 0)  {\n",
    "        ans <- length(grep(\"high\", tolower(msg$header[ind]))) >0\n",
    "      }\n",
    "      ans\n",
    "    }\n",
    "  ,\n",
    "  numRec =\n",
    "    function(msg) {\n",
    "      # unique or not.\n",
    "      els = getMessageRecipients(msg$header)\n",
    "      \n",
    "      if(length(els) == 0)\n",
    "        return(NA)\n",
    "      \n",
    "      # Split each line by \",\"  and in each of these elements, look for\n",
    "      # the @ sign. This handles\n",
    "      tmp = sapply(strsplit(els, \",\"), function(x) grep(\"@\", x))\n",
    "      sum(sapply(tmp, length))\n",
    "    }\n",
    "  ,\n",
    "  perCaps =\n",
    "    function(msg)\n",
    "    {\n",
    "      body = paste(msg$body, collapse = \"\")\n",
    "      \n",
    "      # Return NA if the body of the message is \"empty\"\n",
    "      if(length(body) == 0 || nchar(body) == 0) return(NA)\n",
    "      \n",
    "      # Eliminate non-alpha characters and empty lines \n",
    "      body = gsub(\"[^[:alpha:]]\", \"\", body)\n",
    "      els = unlist(strsplit(body, \"\"))\n",
    "      ctCap = sum(els %in% LETTERS)\n",
    "      100 * ctCap / length(els)\n",
    "    }\n",
    "  ,\n",
    "  isInReplyTo =\n",
    "    function(msg)\n",
    "    {\n",
    "      \"In-Reply-To\" %in% names(msg$header)\n",
    "    }\n",
    "  ,\n",
    "  sortedRec =\n",
    "    function(msg)\n",
    "    {\n",
    "      ids = getMessageRecipients(msg$header)\n",
    "      all(sort(ids) == ids)\n",
    "    }\n",
    "  ,\n",
    "  subPunc =\n",
    "    function(msg)\n",
    "    {\n",
    "      if(\"Subject\" %in% names(msg$header)) {\n",
    "        el = gsub(\"['/.:@-]\", \"\", msg$header[\"Subject\"])\n",
    "        length(grep(\"[A-Za-z][[:punct:]]+[A-Za-z]\", el)) > 0\n",
    "      }\n",
    "      else\n",
    "        FALSE\n",
    "    },\n",
    "  hour =\n",
    "    function(msg)\n",
    "    {\n",
    "      date = msg$header[\"Date\"]\n",
    "      if ( is.null(date) ) return(NA)\n",
    "      # Need to handle that there may be only one digit in the hour\n",
    "      locate = regexpr(\"[0-2]?[0-9]:[0-5][0-9]:[0-5][0-9]\", date)\n",
    "      \n",
    "      if (locate < 0)\n",
    "        locate = regexpr(\"[0-2]?[0-9]:[0-5][0-9]\", date)\n",
    "      if (locate < 0) return(NA)\n",
    "      \n",
    "      hour = substring(date, locate, locate+1)\n",
    "      hour = as.numeric(gsub(\":\", \"\", hour))\n",
    "      \n",
    "      locate = regexpr(\"PM\", date)\n",
    "      if (locate > 0) hour = hour + 12\n",
    "      \n",
    "      locate = regexpr(\"[+-][0-2][0-9]00\", date)\n",
    "      if (locate < 0) offset = 0\n",
    "      else offset = as.numeric(substring(date, locate, locate + 2))\n",
    "      (hour - offset) %% 24\n",
    "    }\n",
    "  ,\n",
    "  multipartText =\n",
    "    function(msg)\n",
    "    {\n",
    "      if (is.null(msg$attach)) return(FALSE)\n",
    "      numAtt = nrow(msg$attach)\n",
    "      \n",
    "      types = \n",
    "        length(grep(\"(html|plain|text)\", msg$attach$aType)) > (numAtt/2)\n",
    "    }\n",
    "  ,\n",
    "  hasImages =\n",
    "    function(msg)\n",
    "    {\n",
    "      if (is.null(msg$attach)) return(FALSE)\n",
    "      \n",
    "      length(grep(\"^ *image\", tolower(msg$attach$aType))) > 0\n",
    "    }\n",
    "  ,\n",
    "  isPGPsigned =\n",
    "    function(msg)\n",
    "    {\n",
    "      if (is.null(msg$attach)) return(FALSE)\n",
    "      \n",
    "      length(grep(\"pgp\", tolower(msg$attach$aType))) > 0\n",
    "    },\n",
    "  perHTML =\n",
    "    function(msg)\n",
    "    {\n",
    "      if(! (\"Content-Type\" %in% names(msg$header))) return(0)\n",
    "      \n",
    "      el = tolower(msg$header[\"Content-Type\"]) \n",
    "      if (length(grep(\"html\", el)) == 0) return(0)\n",
    "      \n",
    "      els = gsub(\"[[:space:]]\", \"\", msg$body)\n",
    "      totchar = sum(nchar(els))\n",
    "      totplain = sum(nchar(gsub(\"<[^<]+>\", \"\", els )))\n",
    "      100 * (totchar - totplain)/totchar\n",
    "    },\n",
    "  subSpamWords =\n",
    "    function(msg)\n",
    "    {\n",
    "      if(\"Subject\" %in% names(msg$header))\n",
    "        length(grep(paste(SpamCheckWords, collapse = \"|\"), \n",
    "                    tolower(msg$header[\"Subject\"]))) > 0\n",
    "      else\n",
    "        NA\n",
    "    }\n",
    "  ,\n",
    "  subBlanks =\n",
    "    function(msg)\n",
    "    {\n",
    "      if(\"Subject\" %in% names(msg$header)) {\n",
    "        x = msg$header[\"Subject\"]\n",
    "        # should we count blank subject line as 0 or 1 or NA?\n",
    "        if (nchar(x) == 1) return(0)\n",
    "        else 100 *(1 - (nchar(gsub(\"[[:blank:]]\", \"\", x))/nchar(x)))\n",
    "      } else NA\n",
    "    }\n",
    "  ,\n",
    "  noHost =\n",
    "    function(msg)\n",
    "    {\n",
    "      # Or use partial matching.\n",
    "      idx = pmatch(\"Message-\", names(msg$header))\n",
    "      \n",
    "      if(is.na(idx)) return(NA)\n",
    "      \n",
    "      tmp = msg$header[idx]\n",
    "      return(length(grep(\".*@[^[:space:]]+\", tmp)) ==  0)\n",
    "    }\n",
    "  ,\n",
    "  numEnd =\n",
    "    function(msg)\n",
    "    {\n",
    "      # If we just do a grep(\"[0-9]@\",  )\n",
    "      # we get matches on messages that have a From something like\n",
    "      # \" \\\"marty66@aol.com\\\" <synjan@ecis.com>\"\n",
    "      # and the marty66 is the \"user's name\" not the login\n",
    "      # So we can be more precise if we want.\n",
    "      x = names(msg$header)\n",
    "      if ( !( \"From\" %in% x) ) return(NA)\n",
    "      login = gsub(\"^.*<\", \"\", msg$header[\"From\"])\n",
    "      if ( is.null(login) ) \n",
    "        login = gsub(\"^.*<\", \"\", msg$header[\"X-From\"])\n",
    "      if ( is.null(login) ) return(NA)\n",
    "      login = strsplit(login, \"@\")[[1]][1]\n",
    "      length(grep(\"[0-9]+$\", login)) > 0\n",
    "    },\n",
    "  isYelling =\n",
    "    function(msg)\n",
    "    {\n",
    "      if ( \"Subject\" %in% names(msg$header) ) {\n",
    "        el = gsub(\"[^[:alpha:]]\", \"\", msg$header[\"Subject\"])\n",
    "        if (nchar(el) > 0) nchar(gsub(\"[A-Z]\", \"\", el)) < 1\n",
    "        else FALSE\n",
    "      }\n",
    "      else\n",
    "        NA\n",
    "    },\n",
    "  forwards =\n",
    "    function(msg)\n",
    "    {\n",
    "      x = msg$body\n",
    "      if(length(x) == 0 || sum(nchar(x)) == 0)\n",
    "        return(NA)\n",
    "      \n",
    "      ans = length(grep(\"^[[:space:]]*>\", x))\n",
    "      100 * ans / length(x)\n",
    "    },\n",
    "  isOrigMsg =\n",
    "    function(msg)\n",
    "    {\n",
    "      x = msg$body\n",
    "      if(length(x) == 0) return(NA)\n",
    "      \n",
    "      length(grep(\"^[^[:alpha:]]*original[^[:alpha:]]+message[^[:alpha:]]*$\", \n",
    "                  tolower(x) ) ) > 0\n",
    "    },\n",
    "  isDear =\n",
    "    function(msg)\n",
    "    {\n",
    "      x = msg$body\n",
    "      if(length(x) == 0) return(NA)\n",
    "      \n",
    "      length(grep(\"^[[:blank:]]*dear +(sir|madam)\\\\>\", \n",
    "                  tolower(x))) > 0\n",
    "    },\n",
    "  isWrote =\n",
    "    function(msg)\n",
    "    {\n",
    "      x = msg$body\n",
    "      if(length(x) == 0) return(NA)\n",
    "      \n",
    "      length(grep(\"(wrote|schrieb|ecrit|escribe):\", tolower(x) )) > 0\n",
    "    },\n",
    "  avgWordLen =\n",
    "    function(msg)\n",
    "    {\n",
    "      txt = paste(msg$body, collapse = \" \")\n",
    "      if(length(txt) == 0 || sum(nchar(txt)) == 0) return(0)\n",
    "      \n",
    "      txt = gsub(\"[^[:alpha:]]\", \" \", txt)\n",
    "      words = unlist(strsplit(txt, \"[[:blank:]]+\"))\n",
    "      wordLens = nchar(words)\n",
    "      mean(wordLens[ wordLens > 0 ])\n",
    "    }\n",
    "  ,\n",
    "  numDlr =\n",
    "    function(msg)\n",
    "    {\n",
    "      x = paste(msg$body, collapse = \"\")\n",
    "      if(length(x) == 0 || sum(nchar(x)) == 0)\n",
    "        return(NA)\n",
    "      \n",
    "      nchar(gsub(\"[^$]\",\"\", x))\n",
    "    }\n",
    ")\n",
    "\n"
   ]
  },
  {
   "cell_type": "code",
   "execution_count": 47,
   "metadata": {},
   "outputs": [
    {
     "data": {
      "text/html": [
       "<ol class=list-inline>\n",
       "\t<li>9348</li>\n",
       "\t<li>30</li>\n",
       "</ol>\n"
      ],
      "text/latex": [
       "\\begin{enumerate*}\n",
       "\\item 9348\n",
       "\\item 30\n",
       "\\end{enumerate*}\n"
      ],
      "text/markdown": [
       "1. 9348\n",
       "2. 30\n",
       "\n",
       "\n"
      ],
      "text/plain": [
       "[1] 9348   30"
      ]
     },
     "metadata": {},
     "output_type": "display_data"
    }
   ],
   "source": [
    "SpamCheckWords =\n",
    "  c(\"viagra\", \"pounds\", \"free\", \"weight\", \"guarantee\", \"million\", \n",
    "    \"dollars\", \"credit\", \"risk\", \"prescription\", \"generic\", \"drug\",\n",
    "    \"financial\", \"save\", \"dollar\", \"erotic\", \"million\", \"barrister\",\n",
    "    \"beneficiary\", \"easy\", \n",
    "    \"money back\", \"money\", \"credit card\")\n",
    "\n",
    "\n",
    "getMessageRecipients =\n",
    "  function(header)\n",
    "  {\n",
    "    c(if(\"To\" %in% names(header))  header[[\"To\"]] else character(0),\n",
    "      if(\"Cc\" %in% names(header))  header[[\"Cc\"]] else character(0),\n",
    "      if(\"Bcc\" %in% names(header)) header[[\"Bcc\"]] else character(0)\n",
    "    )\n",
    "  }\n",
    "\n",
    "emailDF = createDerivedDF(emailStruct)\n",
    "dim(emailDF)\n",
    "#save(emailDF, file = \"spamAssassinDerivedDF.rda\")"
   ]
  },
  {
   "cell_type": "code",
   "execution_count": 48,
   "metadata": {},
   "outputs": [
    {
     "data": {
      "text/html": [
       "<ol class=list-inline>\n",
       "\t<li>9348</li>\n",
       "\t<li>30</li>\n",
       "</ol>\n"
      ],
      "text/latex": [
       "\\begin{enumerate*}\n",
       "\\item 9348\n",
       "\\item 30\n",
       "\\end{enumerate*}\n"
      ],
      "text/markdown": [
       "1. 9348\n",
       "2. 30\n",
       "\n",
       "\n"
      ],
      "text/plain": [
       "[1] 9348   30"
      ]
     },
     "metadata": {},
     "output_type": "display_data"
    }
   ],
   "source": [
    "#load(\"Data/spamAssassinDerivedDF.rda\")\n",
    "dim(emailDF)\n",
    "\n",
    "perCaps2 =\n",
    "function(msg)\n",
    "{\n",
    "  body = paste(msg$body, collapse = \"\")\n",
    "\n",
    "       # Return NA if the body of the message is \"empty\"\n",
    "  if(length(body) == 0 || nchar(body) == 0) return(NA)\n",
    "\n",
    "       # Eliminate non-alpha characters and empty lines \n",
    "  body = gsub(\"[^[:alpha:]]\", \"\", body)\n",
    "  els = unlist(strsplit(body, \"\"))\n",
    "  ctCap = sum(els %in% LETTERS)\n",
    "  100 * ctCap / length(els)\n",
    "}\n"
   ]
  },
  {
   "cell_type": "code",
   "execution_count": 49,
   "metadata": {},
   "outputs": [
    {
     "data": {
      "text/html": [
       "TRUE"
      ],
      "text/latex": [
       "TRUE"
      ],
      "text/markdown": [
       "TRUE"
      ],
      "text/plain": [
       "[1] TRUE"
      ]
     },
     "metadata": {},
     "output_type": "display_data"
    },
    {
     "name": "stderr",
     "output_type": "stream",
     "text": [
      "Warning message in indNA == indNoSubject:\n",
      "\"longer object length is not a multiple of shorter object length\""
     ]
    },
    {
     "data": {
      "text/html": [
       "FALSE"
      ],
      "text/latex": [
       "FALSE"
      ],
      "text/markdown": [
       "FALSE"
      ],
      "text/plain": [
       "[1] FALSE"
      ]
     },
     "metadata": {},
     "output_type": "display_data"
    },
    {
     "data": {
      "text/html": [
       "TRUE"
      ],
      "text/latex": [
       "TRUE"
      ],
      "text/markdown": [
       "TRUE"
      ],
      "text/plain": [
       "[1] TRUE"
      ]
     },
     "metadata": {},
     "output_type": "display_data"
    }
   ],
   "source": [
    "pC = sapply(emailStruct, perCaps)\n",
    "pC2 = sapply(emailStruct, perCaps2)\n",
    "identical(pC, pC2)\n",
    "\n",
    "indNA = which(is.na(emailDF$subExcCt))\n",
    "\n",
    "indNoSubject = which(sapply(emailStruct, \n",
    "                            function(msg) \n",
    "                              !(\"Subject\" %in% names(msg$header))))\n",
    "\n",
    "all(indNA == indNoSubject)\n",
    "\n",
    "all(emailDF$bodyCharCt > emailDF$numLines)\n",
    "\n",
    "\n",
    "x.at = c(1,10,100,1000,10000,100000)\n",
    "y.at = c(1, 5, 10, 50, 100, 500, 5000)\n",
    "nL = 1 + emailDF$numLines\n",
    "nC = 1 + emailDF$bodyCharCt"
   ]
  },
  {
   "cell_type": "code",
   "execution_count": 50,
   "metadata": {},
   "outputs": [
    {
     "data": {
      "text/html": [
       "<strong>null device:</strong> 1"
      ],
      "text/latex": [
       "\\textbf{null device:} 1"
      ],
      "text/markdown": [
       "**null device:** 1"
      ],
      "text/plain": [
       "null device \n",
       "          1 "
      ]
     },
     "metadata": {},
     "output_type": "display_data"
    },
    {
     "data": {
      "image/png": "[encoded data removed]",
      "text/plain": [
       "plot without title"
      ]
     },
     "metadata": {},
     "output_type": "display_data"
    }
   ],
   "source": [
    "#pdf(\"ScatterPlotNumLinesNumChars.pdf\", width = 6, height = 4.5)\n",
    "plot(nL ~ nC, log = \"xy\", pch=\".\", xlim=c(1,100000), axes = FALSE,\n",
    "     xlab = \"Number of Characters\", ylab = \"Number of Lines\")\n",
    "box() \n",
    "axis(1, at = x.at, labels = formatC(x.at, digits = 0, format=\"d\"))\n",
    "axis(2, at = y.at, labels = formatC(y.at, digits = 0, format=\"d\")) \n",
    "abline(a=0, b=1, col=\"red\", lwd = 2)\n",
    "dev.off()\n",
    "\n",
    "#pdf(\"SPAM_boxplotsPercentCaps.pdf\", width = 5, height = 5)\n",
    "\n",
    "percent = emailDF$perCaps\n",
    "isSpamLabs = factor(emailDF$isSpam, labels = c(\"ham\", \"spam\"))\n",
    "boxplot(log(1 + percent) ~ isSpamLabs,\n",
    "        ylab = \"Percent Capitals (log)\")\n",
    "\n",
    "#dev.off()"
   ]
  },
  {
   "cell_type": "code",
   "execution_count": 51,
   "metadata": {},
   "outputs": [
    {
     "data": {
      "image/png": "[encoded data removed]",
      "text/plain": [
       "Plot with title \"Percentage of Capital Letters (log scale)\""
      ]
     },
     "metadata": {},
     "output_type": "display_data"
    }
   ],
   "source": [
    "logPerCapsSpam = log(1 + emailDF$perCaps[ emailDF$isSpam ])\n",
    "logPerCapsHam = log(1 + emailDF$perCaps[ !emailDF$isSpam ])\n",
    "\n",
    "qqplot(logPerCapsSpam, logPerCapsHam, \n",
    "       xlab = \"Regular Email\", ylab = \"Spam Email\", \n",
    "       main = \"Percentage of Capital Letters (log scale)\",\n",
    "       pch = 19, cex = 0.3)"
   ]
  },
  {
   "cell_type": "code",
   "execution_count": 52,
   "metadata": {},
   "outputs": [
    {
     "data": {
      "text/plain": [
       "    isSpamLabs\n",
       "      ham spam\n",
       "  0  6624 2158\n",
       "  1   314  230\n",
       "  2    11    6\n",
       "  4     0    1\n",
       "  5     1    2\n",
       "  18    1    0"
      ]
     },
     "metadata": {},
     "output_type": "display_data"
    },
    {
     "data": {
      "image/png": "[encoded data removed]",
      "text/plain": [
       "plot without title"
      ]
     },
     "metadata": {},
     "output_type": "display_data"
    },
    {
     "data": {
      "image/png": "[encoded data removed]",
      "text/plain": [
       "Plot with title \"\""
      ]
     },
     "metadata": {},
     "output_type": "display_data"
    }
   ],
   "source": [
    "#pdf(\"SPAM_scatterplotPercentCapsTotChars.pdf\", width = 8, height = 6)\n",
    " \n",
    "colI = c(\"#4DAF4A80\", \"#984EA380\")\n",
    "logBodyCharCt = log(1 + emailDF$bodyCharCt)\n",
    "logPerCaps = log(1 + emailDF$perCaps)\n",
    "plot(logPerCaps ~ logBodyCharCt, xlab = \"Total Characters (log)\",\n",
    "     ylab = \"Percent Capitals (log)\",\n",
    "     col = colI[1 + emailDF$isSpam],\n",
    "     xlim = c(2,12), pch = 19, cex = 0.5)\n",
    "\n",
    "#dev.off()\n",
    "\n",
    "table(emailDF$numAtt, isSpamLabs)\n",
    "#pdf(\"SPAM_mosaicPlots.pdf\", width = 8, height = 4)\n",
    "\n",
    "oldPar = par(mfrow = c(1, 2), mar = c(1,1,1,1))\n",
    "\n",
    "colM = c(\"#E41A1C80\", \"#377EB880\")\n",
    "isRe = factor(emailDF$isRe, labels = c(\"no Re:\", \"Re:\"))\n",
    "mosaicplot(table(isSpamLabs, isRe), main = \"\",\n",
    "           xlab = \"\", ylab = \"\", color = colM)\n",
    "\n",
    "fromNE = factor(emailDF$numEnd, labels = c(\"No #\", \"#\"))\n",
    "mosaicplot(table(isSpamLabs, fromNE), color = colM,\n",
    "           main = \"\", xlab=\"\", ylab = \"\")\n",
    "\n",
    "par(oldPar)\n",
    "\n",
    "#dev.off()\n",
    "\n",
    "\n",
    "\n",
    "setupRpart = function(data) {\n",
    "  logicalVars = which(sapply(data, is.logical))\n",
    "  facVars = lapply(data[ , logicalVars], \n",
    "                   function(x) {\n",
    "                      x = as.factor(x)\n",
    "                      levels(x) = c(\"F\", \"T\")\n",
    "                      x\n",
    "                   })\n",
    "  cbind(facVars, data[ , - logicalVars])\n",
    "}\n",
    "\n",
    "emailDFrp = setupRpart(emailDF)"
   ]
  },
  {
   "cell_type": "code",
   "execution_count": 53,
   "metadata": {},
   "outputs": [],
   "source": [
    "\n",
    "\n",
    "set.seed(418910)\n",
    "testSpamIdx = sample(numSpam, size = floor(numSpam/3))\n",
    "testHamIdx = sample(numHam, size = floor(numHam/3))\n",
    "\n",
    "testDF = \n",
    "  rbind( emailDFrp[ emailDFrp$isSpam == \"T\", ][testSpamIdx, ],\n",
    "         emailDFrp[emailDFrp$isSpam == \"F\", ][testHamIdx, ] )\n",
    "trainDF =\n",
    "  rbind( emailDFrp[emailDFrp$isSpam == \"T\", ][-testSpamIdx, ], \n",
    "         emailDFrp[emailDFrp$isSpam == \"F\", ][-testHamIdx, ])\n",
    "\n",
    "rpartFit = rpart(isSpam ~ ., data = trainDF, method = \"class\")\n"
   ]
  },
  {
   "cell_type": "code",
   "execution_count": 54,
   "metadata": {},
   "outputs": [
    {
     "data": {
      "text/html": [
       "<dl class=dl-horizontal>\n",
       "\t<dt>F</dt>\n",
       "\t\t<dd>2167</dd>\n",
       "\t<dt>T</dt>\n",
       "\t\t<dd>150</dd>\n",
       "</dl>\n"
      ],
      "text/latex": [
       "\\begin{description*}\n",
       "\\item[F] 2167\n",
       "\\item[T] 150\n",
       "\\end{description*}\n"
      ],
      "text/markdown": [
       "F\n",
       ":   2167T\n",
       ":   150\n",
       "\n"
      ],
      "text/plain": [
       "   F    T \n",
       "2167  150 "
      ]
     },
     "metadata": {},
     "output_type": "display_data"
    },
    {
     "data": {
      "text/html": [
       "0.0647388864911524"
      ],
      "text/latex": [
       "0.0647388864911524"
      ],
      "text/markdown": [
       "0.0647388864911524"
      ],
      "text/plain": [
       "[1] 0.06473889"
      ]
     },
     "metadata": {},
     "output_type": "display_data"
    },
    {
     "data": {
      "text/html": [
       "0.18648310387985"
      ],
      "text/latex": [
       "0.18648310387985"
      ],
      "text/markdown": [
       "0.18648310387985"
      ],
      "text/plain": [
       "[1] 0.1864831"
      ]
     },
     "metadata": {},
     "output_type": "display_data"
    },
    {
     "data": {
      "image/png": "[encoded data removed]",
      "text/plain": [
       "plot without title"
      ]
     },
     "metadata": {},
     "output_type": "display_data"
    }
   ],
   "source": [
    "\n",
    "\n",
    "\n",
    "prp(rpartFit, extra = 1)\n",
    "\n",
    "#library(rpart)\n",
    "#pdf(\"SPAM_rpartTree.pdf\", width = 7, height = 7)\n",
    "\n",
    "prp(rpartFit, extra = 1)\n",
    "#dev.off()\n",
    "\n",
    "predictions = predict(rpartFit, \n",
    "       newdata = testDF[, names(testDF) != \"isSpam\"],\n",
    "       type = \"class\")\n",
    " \n",
    "predsForHam = predictions[ testDF$isSpam == \"F\" ]\n",
    "summary(predsForHam)\n",
    "\n",
    "sum(predsForHam == \"T\") / length(predsForHam)\n",
    "\n",
    "predsForSpam = predictions[ testDF$isSpam == \"T\" ]\n",
    "sum(predsForSpam == \"F\") / length(predsForSpam)\n",
    "\n",
    "complexityVals = c(seq(0.00001, 0.0001, length=19),\n",
    "                   seq(0.0001, 0.001, length=19), \n",
    "                   seq(0.001, 0.005, length=9),\n",
    "                   seq(0.005, 0.01, length=9))"
   ]
  },
  {
   "cell_type": "code",
   "execution_count": 55,
   "metadata": {},
   "outputs": [],
   "source": [
    "fits = lapply(complexityVals, function(x) {\n",
    "         rpartObj = rpart(isSpam ~ ., data = trainDF,\n",
    "                          method=\"class\", \n",
    "                          control = rpart.control(cp=x) )\n",
    "           \n",
    "         predict(rpartObj, \n",
    "                 newdata = testDF[ , names(testDF) != \"isSpam\"],\n",
    "                 type = \"class\")\n",
    "        })\n",
    "\n",
    "spam = testDF$isSpam == \"T\"\n",
    "numSpam = sum(spam)\n",
    "numHam = sum(!spam)\n",
    "errs = sapply(fits, function(preds) {\n",
    "                      typeI = sum(preds[ !spam ] == \"T\") / numHam\n",
    "                      typeII = sum(preds[ spam ] == \"F\") / numSpam\n",
    "                      c(typeI = typeI, typeII = typeII)\n",
    "                     })\n"
   ]
  },
  {
   "cell_type": "code",
   "execution_count": 56,
   "metadata": {},
   "outputs": [
    {
     "data": {
      "image/png": "[encoded data removed]",
      "text/plain": [
       "plot without title"
      ]
     },
     "metadata": {},
     "output_type": "display_data"
    }
   ],
   "source": [
    "\n",
    "#pdf(\"SPAM_rpartTypeIandII.pdf\", width = 8, height = 7)\n",
    "#library(RColorBrewer)\n",
    "cols = brewer.pal(9, \"Set1\")[c(3, 4, 5)]\n",
    "plot(errs[1,] ~ complexityVals, type=\"l\", col=cols[2], \n",
    "     lwd = 2, ylim = c(0,0.2), xlim = c(0,0.01), \n",
    "     ylab=\"Error\", xlab=\"complexity parameter values\")\n",
    "points(errs[2,] ~ complexityVals, type=\"l\", col=cols[1], lwd = 2)\n",
    "\n",
    "text(x =c(0.003, 0.0035), y = c(0.12, 0.05), \n",
    "     labels=c(\"Type II Error\", \"Type I Error\"))\n",
    "\n",
    "minI = which(errs[1,] == min(errs[1,]))[1]\n",
    "abline(v = complexityVals[minI], col =\"grey\", lty =3, lwd=2)\n",
    "\n",
    "text(0.0007, errs[1, minI]+0.01, \n",
    "     formatC(errs[1, minI], digits = 2))\n",
    "text(0.0007, errs[2, minI]+0.01, \n",
    "     formatC(errs[2, minI], digits = 3))\n",
    "\n",
    "#dev.off()"
   ]
  },
  {
   "cell_type": "code",
   "execution_count": 57,
   "metadata": {},
   "outputs": [],
   "source": [
    "save(emailDFrp,file=\"data.Rda\")"
   ]
  },
  {
   "cell_type": "code",
   "execution_count": 58,
   "metadata": {},
   "outputs": [],
   "source": [
    "#library(caret)"
   ]
  },
  {
   "cell_type": "markdown",
   "metadata": {},
   "source": [
    "## Ok so first of all our data is in T/F 'factors'.  \n",
    "We need to change it to numbers.  And as it turns out, there are quite a few NANs as well.  Let's set those to zero because imputation was 9 weeks ago"
   ]
  },
  {
   "cell_type": "code",
   "execution_count": 59,
   "metadata": {},
   "outputs": [],
   "source": [
    "setupRnum = function(data) {\n",
    "  logicalVars = which(sapply(data, is.logical))\n",
    "  facVars = lapply(data[ , logicalVars], \n",
    "                   function(x) {\n",
    "                      x = as.numeric(x)\n",
    "                   })\n",
    "  cbind(facVars, data[ , - logicalVars])\n",
    "}\n",
    "\n",
    "emailDFnum = setupRnum(emailDF)\n",
    "\n",
    "emailDFnum[is.na(emailDFnum)]<-0"
   ]
  },
  {
   "cell_type": "markdown",
   "metadata": {},
   "source": [
    "## I think i may skip this and see if I can get the folds to work internally to caret\n",
    "However, one way to define your folds is to set a seed, and have your folds in a list that you can pass on to others to get the same splits."
   ]
  },
  {
   "cell_type": "code",
   "execution_count": 60,
   "metadata": {},
   "outputs": [
    {
     "data": {
      "text/html": [
       "<dl class=dl-horizontal>\n",
       "\t<dt>Fold1</dt>\n",
       "\t\t<dd>7479</dd>\n",
       "\t<dt>Fold2</dt>\n",
       "\t\t<dd>7478</dd>\n",
       "\t<dt>Fold3</dt>\n",
       "\t\t<dd>7478</dd>\n",
       "\t<dt>Fold4</dt>\n",
       "\t\t<dd>7479</dd>\n",
       "\t<dt>Fold5</dt>\n",
       "\t\t<dd>7478</dd>\n",
       "</dl>\n"
      ],
      "text/latex": [
       "\\begin{description*}\n",
       "\\item[Fold1] 7479\n",
       "\\item[Fold2] 7478\n",
       "\\item[Fold3] 7478\n",
       "\\item[Fold4] 7479\n",
       "\\item[Fold5] 7478\n",
       "\\end{description*}\n"
      ],
      "text/markdown": [
       "Fold1\n",
       ":   7479Fold2\n",
       ":   7478Fold3\n",
       ":   7478Fold4\n",
       ":   7479Fold5\n",
       ":   7478\n",
       "\n"
      ],
      "text/plain": [
       "Fold1 Fold2 Fold3 Fold4 Fold5 \n",
       " 7479  7478  7478  7479  7478 "
      ]
     },
     "metadata": {},
     "output_type": "display_data"
    }
   ],
   "source": [
    "\n",
    "cv_folds <- createFolds(emailDFnum$isSpam, k=5, list=TRUE, returnTrain = TRUE)\n",
    "lengths(cv_folds)"
   ]
  },
  {
   "cell_type": "markdown",
   "metadata": {},
   "source": [
    "## Finally Metric Stuff\n",
    "Because our authors prefer Type I/II errors, but the cool kids know that precision/recall/F1 is where its at, while the default of caret is accuracy and kappa.  To get us all on the same page, I create a function that returns the metrics we want.  However, rather than re-invent the wheel, I just install a package.  I am not sure if it had Type I/II errors so those I made my self.  \\#MLSwag"
   ]
  },
  {
   "cell_type": "code",
   "execution_count": 61,
   "metadata": {},
   "outputs": [],
   "source": [
    "#library(MLmetrics)\n",
    "f1 <- function(data, lev = NULL, model = NULL) {\n",
    "  f1_val <- F1_Score(y_pred = data$pred, y_true = data$obs, positive = lev[1])\n",
    "  p <- Precision(y_pred = data$pred, y_true = data$obs, positive = lev[1])\n",
    "  r <- Recall(y_pred = data$pred, y_true = data$obs, positive = lev[1])\n",
    "  fp <-sum(data$pred==0 & data$obs==1)/length(data$pred)  \n",
    " \n",
    "  fn <-sum(data$pred==1 & data$obs==0)/length(data$pred)\n",
    "    c(F1 = f1_val,\n",
    "    prec = p,\n",
    "    rec = r,\n",
    "    Type_I_err=fp,\n",
    "    Type_II_err=fn\n",
    "   )\n",
    "}"
   ]
  },
  {
   "cell_type": "markdown",
   "metadata": {},
   "source": [
    "ok so lets get the naive bayes packages installed. (first 2 lines)\n",
    "The next line makes a dataframe of all the parameters to check.  \n",
    "If you don't know what they are, look them up\n",
    "https://topepo.github.io/caret/available-models.html\n",
    "\n",
    "Then we create a trainControl object.  It tells caret how to train--using a cross-validation ('cv') with 3 folds in this case (number = 3).  We want the final predictions of the best model and our summary is the custom function from above.\n",
    "\n",
    "Then we create our model: \"model_nb\".  We user the caret::train method.  We make 'isSpam' a factor because R is dumb and can't figure out that 1 and 0 are classes.  \n",
    "*as.factor(isSpam) ~ .*  means Y=as.factor(isSpam), X=everything else.\n",
    "    \n",
    "*method* is the package we are using, and we pass our tuning grid."
   ]
  },
  {
   "cell_type": "code",
   "execution_count": 62,
   "metadata": {},
   "outputs": [
    {
     "name": "stderr",
     "output_type": "stream",
     "text": [
      "Warning message in train.default(x, y, weights = w, ...):\n",
      "\"The metric \"Accuracy\" was not in the result set. F1 will be used instead.\"Warning message:\n",
      "\"model fit failed for Fold1: laplace=0.0, usekernel= TRUE, adjust=FALSE Error in density.default(x, na.rm = TRUE, ...) : 'bw' is not positive.\n",
      "\"Warning message:\n",
      "\"model fit failed for Fold1: laplace=0.1, usekernel= TRUE, adjust=FALSE Error in density.default(x, na.rm = TRUE, ...) : 'bw' is not positive.\n",
      "\"Warning message:\n",
      "\"model fit failed for Fold1: laplace=0.3, usekernel= TRUE, adjust=FALSE Error in density.default(x, na.rm = TRUE, ...) : 'bw' is not positive.\n",
      "\"Warning message:\n",
      "\"model fit failed for Fold1: laplace=0.5, usekernel= TRUE, adjust=FALSE Error in density.default(x, na.rm = TRUE, ...) : 'bw' is not positive.\n",
      "\"Warning message:\n",
      "\"model fit failed for Fold1: laplace=1.0, usekernel= TRUE, adjust=FALSE Error in density.default(x, na.rm = TRUE, ...) : 'bw' is not positive.\n",
      "\"Warning message:\n",
      "\"model fit failed for Fold2: laplace=0.0, usekernel= TRUE, adjust=FALSE Error in density.default(x, na.rm = TRUE, ...) : 'bw' is not positive.\n",
      "\"Warning message:\n",
      "\"model fit failed for Fold2: laplace=0.1, usekernel= TRUE, adjust=FALSE Error in density.default(x, na.rm = TRUE, ...) : 'bw' is not positive.\n",
      "\"Warning message:\n",
      "\"model fit failed for Fold2: laplace=0.3, usekernel= TRUE, adjust=FALSE Error in density.default(x, na.rm = TRUE, ...) : 'bw' is not positive.\n",
      "\"Warning message:\n",
      "\"model fit failed for Fold2: laplace=0.5, usekernel= TRUE, adjust=FALSE Error in density.default(x, na.rm = TRUE, ...) : 'bw' is not positive.\n",
      "\"Warning message:\n",
      "\"model fit failed for Fold2: laplace=1.0, usekernel= TRUE, adjust=FALSE Error in density.default(x, na.rm = TRUE, ...) : 'bw' is not positive.\n",
      "\"Warning message:\n",
      "\"model fit failed for Fold3: laplace=0.0, usekernel= TRUE, adjust=FALSE Error in density.default(x, na.rm = TRUE, ...) : 'bw' is not positive.\n",
      "\"Warning message:\n",
      "\"model fit failed for Fold3: laplace=0.1, usekernel= TRUE, adjust=FALSE Error in density.default(x, na.rm = TRUE, ...) : 'bw' is not positive.\n",
      "\"Warning message:\n",
      "\"model fit failed for Fold3: laplace=0.3, usekernel= TRUE, adjust=FALSE Error in density.default(x, na.rm = TRUE, ...) : 'bw' is not positive.\n",
      "\"Warning message:\n",
      "\"model fit failed for Fold3: laplace=0.5, usekernel= TRUE, adjust=FALSE Error in density.default(x, na.rm = TRUE, ...) : 'bw' is not positive.\n",
      "\"Warning message:\n",
      "\"model fit failed for Fold3: laplace=1.0, usekernel= TRUE, adjust=FALSE Error in density.default(x, na.rm = TRUE, ...) : 'bw' is not positive.\n",
      "\"Warning message in nominalTrainWorkflow(x = x, y = y, wts = weights, info = trainInfo, :\n",
      "\"There were missing values in resampled performance measures.\"Warning message in train.default(x, y, weights = w, ...):\n",
      "\"missing values found in aggregated results\""
     ]
    },
    {
     "data": {
      "text/plain": [
       "Naive Bayes \n",
       "\n",
       "9348 samples\n",
       "  29 predictor\n",
       "   2 classes: '0', '1' \n",
       "\n",
       "No pre-processing\n",
       "Resampling: Cross-Validated (3 fold) \n",
       "Summary of sample sizes: 6232, 6232, 6232 \n",
       "Resampling results across tuning parameters:\n",
       "\n",
       "  laplace  usekernel  adjust  F1         prec       rec        Type_I_err\n",
       "  0.0      FALSE      FALSE   0.9246638  0.9391819  0.9106603  0.04385965\n",
       "  0.0      FALSE       TRUE   0.9246638  0.9391819  0.9106603  0.04385965\n",
       "  0.0       TRUE      FALSE         NaN        NaN        NaN         NaN\n",
       "  0.0       TRUE       TRUE   0.8928485  0.8080024  0.9979859  0.17693624\n",
       "  0.1      FALSE      FALSE   0.9246638  0.9391819  0.9106603  0.04385965\n",
       "  0.1      FALSE       TRUE   0.9246638  0.9391819  0.9106603  0.04385965\n",
       "  0.1       TRUE      FALSE         NaN        NaN        NaN         NaN\n",
       "  0.1       TRUE       TRUE   0.8928485  0.8080024  0.9979859  0.17693624\n",
       "  0.3      FALSE      FALSE   0.9246638  0.9391819  0.9106603  0.04385965\n",
       "  0.3      FALSE       TRUE   0.9246638  0.9391819  0.9106603  0.04385965\n",
       "  0.3       TRUE      FALSE         NaN        NaN        NaN         NaN\n",
       "  0.3       TRUE       TRUE   0.8928485  0.8080024  0.9979859  0.17693624\n",
       "  0.5      FALSE      FALSE   0.9246638  0.9391819  0.9106603  0.04385965\n",
       "  0.5      FALSE       TRUE   0.9246638  0.9391819  0.9106603  0.04385965\n",
       "  0.5       TRUE      FALSE         NaN        NaN        NaN         NaN\n",
       "  0.5       TRUE       TRUE   0.8928485  0.8080024  0.9979859  0.17693624\n",
       "  1.0      FALSE      FALSE   0.9246638  0.9391819  0.9106603  0.04385965\n",
       "  1.0      FALSE       TRUE   0.9246638  0.9391819  0.9106603  0.04385965\n",
       "  1.0       TRUE      FALSE         NaN        NaN        NaN         NaN\n",
       "  1.0       TRUE       TRUE   0.8928485  0.8080024  0.9979859  0.17693624\n",
       "  Type_II_err\n",
       "  0.066431322\n",
       "  0.066431322\n",
       "          NaN\n",
       "  0.001497647\n",
       "  0.066431322\n",
       "  0.066431322\n",
       "          NaN\n",
       "  0.001497647\n",
       "  0.066431322\n",
       "  0.066431322\n",
       "          NaN\n",
       "  0.001497647\n",
       "  0.066431322\n",
       "  0.066431322\n",
       "          NaN\n",
       "  0.001497647\n",
       "  0.066431322\n",
       "  0.066431322\n",
       "          NaN\n",
       "  0.001497647\n",
       "\n",
       "F1 was used to select the optimal model using the largest value.\n",
       "The final values used for the model were laplace = 0, usekernel = FALSE\n",
       " and adjust = FALSE."
      ]
     },
     "metadata": {},
     "output_type": "display_data"
    }
   ],
   "source": [
    "#library(naivebayes)\n",
    "#library(e1071)\n",
    "nb_grid<-expand.grid(laplace=c(0,0.1,0.3,0.5,1), usekernel=c(T,F), adjust=c(T,F))\n",
    "train_control<-trainControl(method=\"cv\", number=3, savePredictions = 'final',summaryFunction = f1)\n",
    "model_nb<-caret::train(as.factor(isSpam) ~ .,data=emailDFnum, trControl = train_control, method='naive_bayes',tuneGrid = nb_grid)\n",
    "model_nb"
   ]
  },
  {
   "cell_type": "code",
   "execution_count": 63,
   "metadata": {},
   "outputs": [
    {
     "data": {
      "text/plain": [
       "\n",
       "Fold1 Fold2 Fold3 \n",
       " 3116  3116  3116 "
      ]
     },
     "metadata": {},
     "output_type": "display_data"
    }
   ],
   "source": [
    "#Did the boss fool us with the folds?  Nope.\n",
    "table(model_nb$pred['Resample'])"
   ]
  },
  {
   "cell_type": "code",
   "execution_count": 64,
   "metadata": {},
   "outputs": [
    {
     "name": "stderr",
     "output_type": "stream",
     "text": [
      "Warning message in train.default(x, y, weights = w, ...):\n",
      "\"The metric \"Accuracy\" was not in the result set. F1 will be used instead.\""
     ]
    },
    {
     "data": {
      "text/plain": [
       "CART \n",
       "\n",
       "9348 samples\n",
       "  29 predictor\n",
       "   2 classes: '0', '1' \n",
       "\n",
       "No pre-processing\n",
       "Resampling: Cross-Validated (5 fold) \n",
       "Summary of sample sizes: 7479, 7479, 7479, 7477, 7478 \n",
       "Resampling results across tuning parameters:\n",
       "\n",
       "  cp      F1         prec       rec        Type_I_err  Type_II_err\n",
       "  0.0000  0.9596888  0.9554070  0.9640332  0.03348309  0.02674432 \n",
       "  0.0005  0.9613245  0.9555690  0.9671986  0.03348338  0.02439069 \n",
       "  0.0010  0.9624957  0.9558961  0.9692123  0.03326907  0.02289343 \n",
       "  0.0015  0.9608399  0.9563117  0.9654712  0.03284110  0.02567486 \n",
       "  0.0020  0.9590725  0.9542425  0.9640324  0.03444572  0.02674507 \n",
       "  0.0025  0.9575885  0.9537888  0.9614443  0.03465951  0.02866923 \n",
       "  0.0030  0.9567757  0.9535960  0.9600055  0.03476600  0.02973938 \n",
       "  0.0035  0.9567782  0.9536058  0.9600055  0.03476583  0.02973938 \n",
       "  0.0040  0.9543780  0.9503799  0.9584231  0.03722721  0.03091585 \n",
       "  0.0045  0.9538252  0.9494280  0.9582792  0.03797616  0.03102274 \n",
       "  0.0050  0.9512657  0.9488234  0.9538188  0.03829644  0.03434002 \n",
       "  0.0055  0.9501069  0.9465409  0.9538193  0.04011514  0.03433957 \n",
       "  0.0060  0.9496384  0.9454663  0.9539631  0.04097098  0.03423256 \n",
       "  0.0065  0.9483590  0.9442010  0.9526685  0.04193407  0.03519530 \n",
       "  0.0070  0.9478233  0.9416651  0.9542512  0.04407425  0.03401820 \n",
       "  0.0075  0.9460079  0.9406625  0.9516622  0.04482365  0.03594270 \n",
       "  0.0080  0.9460079  0.9406625  0.9516622  0.04482365  0.03594270 \n",
       "  0.0085  0.9447747  0.9366023  0.9533874  0.04824486  0.03466019 \n",
       "  0.0090  0.9447075  0.9364728  0.9533874  0.04835187  0.03466019 \n",
       "  0.0095  0.9443100  0.9357074  0.9533874  0.04899335  0.03466019 \n",
       "  0.0100  0.9430050  0.9347132  0.9518047  0.04974241  0.03583695 \n",
       "\n",
       "F1 was used to select the optimal model using the largest value.\n",
       "The final value used for the model was cp = 0.001."
      ]
     },
     "metadata": {},
     "output_type": "display_data"
    }
   ],
   "source": [
    "val<-seq(from = 0, to=0.01, by=0.0005)\n",
    "#library(rpart)\n",
    "cart_grid<-expand.grid(cp=val)\n",
    "train_control<-trainControl(method=\"cv\", number =5, savePredictions = 'final',summaryFunction = f1)\n",
    "model_rpart<-caret::train(as.factor(isSpam) ~ .,data=emailDFnum, trControl = train_control, method='rpart',tuneGrid = cart_grid)\n",
    "model_rpart"
   ]
  },
  {
   "cell_type": "code",
   "execution_count": null,
   "metadata": {},
   "outputs": [
    {
     "name": "stderr",
     "output_type": "stream",
     "text": [
      "Warning message in train.default(x, y, weights = w, ...):\n",
      "\"The metric \"Accuracy\" was not in the result set. F1 will be used instead.\""
     ]
    }
   ],
   "source": [
    "#library(randomForest)\n",
    "rf_grid<-expand.grid(mtry=seq(from =1, to = 25, by = 2))\n",
    "train_control<-trainControl(method=\"cv\", number=3, savePredictions = 'final',summaryFunction = f1)\n",
    "model_rf<-caret::train(as.factor(isSpam) ~ .,data=emailDFnum, trControl = train_control, ntree=200,method='rf',tuneGrid = rf_grid)\n",
    "model_rf"
   ]
  },
  {
   "cell_type": "code",
   "execution_count": null,
   "metadata": {
    "scrolled": true
   },
   "outputs": [],
   "source": [
    "#library(xgboost)\n",
    "xgb_grid<-expand.grid(nrounds = 100, max_depth = c(3,5,7,9,11), eta = c(0.01,0.03,0.1), gamma=c(1,3,5,10), colsample_bytree=1, min_child_weight=1, subsample=1)\n",
    "train_control<-trainControl(method=\"cv\", number=3, savePredictions = 'final',summaryFunction = f1)\n",
    "model_xgb<-caret::train(as.factor(isSpam) ~ .,data=emailDFnum, trControl = train_control,method='xgbTree',tuneGrid = xgb_grid)\n",
    "model_xgb"
   ]
  },
  {
   "cell_type": "code",
   "execution_count": null,
   "metadata": {},
   "outputs": [],
   "source": []
  }
 ],
 "metadata": {
  "kernelspec": {
   "display_name": "R",
   "language": "R",
   "name": "ir"
  },
  "language_info": {
   "codemirror_mode": "r",
   "file_extension": ".r",
   "mimetype": "text/x-r-source",
   "name": "R",
   "pygments_lexer": "r",
   "version": "3.6.0"
  }
 },
 "nbformat": 4,
 "nbformat_minor": 2
}
