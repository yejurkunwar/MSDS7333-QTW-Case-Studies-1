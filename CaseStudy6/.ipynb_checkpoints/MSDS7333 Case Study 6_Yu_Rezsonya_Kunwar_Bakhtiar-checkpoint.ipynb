{
 "cells": [
  {
   "cell_type": "markdown",
   "metadata": {},
   "source": [
    "<h1><center> Using Statistics to Identify Spam </center></h1>\n",
    "<h3><center> Bin Yu, Nuoya Rezsonya, Yejur Singh Kunwar, Iram Bakhtiar</center></h3>"
   ]
  },
  {
   "cell_type": "markdown",
   "metadata": {},
   "source": [
    "# Question\n",
    "\n",
    "\n",
    "You have the option to choose one (and only one) of the following problems from the back of chapter 3 (http://rdatasciencecases.org/): 19, 20, or 21 instead of the case study mentioned at the end of module 6.8.\n",
    "\n",
    "- Q.19 Consider the other parameters that can be used to control the recursive partitioning\n",
    "    process. Read the documentation for them in the rpart.control() documentation. Also,\n",
    "    carry out an Internet search for more information on how to tweak the rpart() tuning\n",
    "    parameters. Experiment with values for these parameters. Do the trees that result make\n",
    "    sense with your understanding of how the parameters are used? Can you improve the\n",
    "    prediction using them?\n",
    "- Q.20 In Section 3.6.3 we used the test set that we had put aside to both select \u001c",
    " , the\n",
    "    threshold for the log odds, and to evaluate the Type I and II errors incurred when\n",
    "    we use this threshold. Ideally, we choose \u001c",
    " from another set of messages that is both\n",
    "    independent of our training data and our test data. The method of cross-validation is\n",
    "    designed to use the training set for training and validating the model. Implement 5-fold\n",
    "    cross-validation to choose \u001c",
    " and assess the error rate with our training data. To do this,\n",
    "    follow the steps:\n",
    "    - (a) Use the sample() function to permute the indices of the training set, and organize these permuted indices into 5 equal-size sets, called folds.\n",
    "    - (b) For each fold, take the corresponding subset from the training data to use as a ‘test’set. Use the remaining messages in the training data as the training set. Apply the functions developed in Section 3.6 to estimate the probabilities that a word occurs in a message given it is spam or ham, and use these probabilities to compute the log likelihood ratio for the messages in the training set.\n",
    "    - (c) Pool all of the LLR values from the messages in all of the folds, i.e., from all of the training data, and use these values and the typeIErrorRate() function to select a threshold that achieves a 1% Type I error.\n",
    "    - (d) Apply this threshold to our original/real test set and find its Type I and Type II errors.\n",
    "- Q.21 Often in statistics, when we combine two methods, the resulting hybrid outperforms\n",
    "    the two pure methods. For example, consider a naïve Bayes approach that incorporates\n",
    "    the derived variables into the probability calculation. For simplicity, you might try a few\n",
    "    variables that result from the important splits in the recursive partitioning tree from\n",
    "    Figure 3.8, e.g., whether or not the percentage of capitals in the message body exceeds\n",
    "    13%. These variables have only 2 values as the splits are based on yes–no questions.\n",
    "    Develop a hybrid classifier that uses both the word vectors and these additional features.\n",
    "            `\n",
    "`"
   ]
  },
  {
   "cell_type": "markdown",
   "metadata": {},
   "source": [
    "# Contents\n",
    "\n",
    "1. [Abstract](#Abstract)\n",
    "2. [Introduction](#Introduction)\n",
    "3. [Background](#Background)\n",
    "4. [Methods](#Methods)\n",
    "5. [Results](#Results)\n",
    "6. [Conclusion](#Conclusion)\n",
    "7. [References](#References)\n",
    "8. [Appendix: Code](#Appendix)"
   ]
  },
  {
   "cell_type": "markdown",
   "metadata": {},
   "source": [
    "# Abstract\n",
    "\n",
    "\n",
    "[Back to Contents](#Contents)"
   ]
  },
  {
   "cell_type": "markdown",
   "metadata": {},
   "source": [
    "# Introduction\n",
    "\n",
    "\n",
    "\n",
    "\n",
    "\n",
    "[Back to Contents](#Contents)"
   ]
  },
  {
   "cell_type": "markdown",
   "metadata": {},
   "source": [
    "# Background\n",
    "\n",
    "\n",
    "\n",
    "[Back to Contents](#Contents)"
   ]
  },
  {
   "cell_type": "markdown",
   "metadata": {},
   "source": [
    "# Methods\n",
    "\n",
    "\n",
    "\n",
    "[Back to Contents](#Contents)"
   ]
  },
  {
   "cell_type": "markdown",
   "metadata": {},
   "source": [
    "# Results\n",
    "\n",
    "\n",
    "[Back to Contents](#Contents)"
   ]
  },
  {
   "cell_type": "markdown",
   "metadata": {},
   "source": [
    "# Conclusion\n",
    "\n",
    "[Back to Contents](#Contents)"
   ]
  },
  {
   "cell_type": "markdown",
   "metadata": {},
   "source": [
    "# References\n",
    "\n",
    "\n",
    "[Back to Contents](#Contents)\n"
   ]
  },
  {
   "cell_type": "markdown",
   "metadata": {},
   "source": [
    "# Appendix\n",
    "\n",
    "[Back to Contents](#Contents)\n",
    "\n",
    "## Code "
   ]
  },
  {
   "cell_type": "code",
   "execution_count": null,
   "metadata": {},
   "outputs": [],
   "source": [
    "# install.packages(\"rpart\")"
   ]
  },
  {
   "cell_type": "code",
   "execution_count": 58,
   "metadata": {},
   "outputs": [
    {
     "name": "stderr",
     "output_type": "stream",
     "text": [
      "also installing the dependencies 'plotrix', 'Formula', 'plotmo', 'TeachingDemos', 'earth'\n",
      "\n"
     ]
    },
    {
     "name": "stdout",
     "output_type": "stream",
     "text": [
      "package 'plotrix' successfully unpacked and MD5 sums checked\n",
      "package 'Formula' successfully unpacked and MD5 sums checked\n",
      "package 'plotmo' successfully unpacked and MD5 sums checked\n",
      "package 'TeachingDemos' successfully unpacked and MD5 sums checked\n",
      "package 'earth' successfully unpacked and MD5 sums checked\n",
      "package 'rpart.plot' successfully unpacked and MD5 sums checked\n",
      "\n",
      "The downloaded binary packages are in\n",
      "\tC:\\Users\\yubin\\AppData\\Local\\Temp\\Rtmp4moaWF\\downloaded_packages\n"
     ]
    }
   ],
   "source": [
    "#install.packages(\"rpart.plot\", dependencies=TRUE, repos='http://cran.rstudio.com/')\n",
    "\n"
   ]
  },
  {
   "cell_type": "code",
   "execution_count": 67,
   "metadata": {},
   "outputs": [
    {
     "name": "stderr",
     "output_type": "stream",
     "text": [
      "also installing the dependencies 'gtools', 'gdata', 'gplots', 'ROCR', 'e1071'\n",
      "\n"
     ]
    },
    {
     "name": "stdout",
     "output_type": "stream",
     "text": [
      "package 'gtools' successfully unpacked and MD5 sums checked\n",
      "package 'gdata' successfully unpacked and MD5 sums checked\n",
      "package 'gplots' successfully unpacked and MD5 sums checked\n",
      "package 'ROCR' successfully unpacked and MD5 sums checked\n",
      "package 'e1071' successfully unpacked and MD5 sums checked\n",
      "package 'MLmetrics' successfully unpacked and MD5 sums checked\n",
      "\n",
      "The downloaded binary packages are in\n",
      "\tC:\\Users\\yubin\\AppData\\Local\\Temp\\Rtmp4moaWF\\downloaded_packages\n"
     ]
    }
   ],
   "source": [
    "#install.packages(\"MLmetrics\", dependencies=TRUE, repos='http://cran.rstudio.com/')"
   ]
  },
  {
   "cell_type": "code",
   "execution_count": 70,
   "metadata": {},
   "outputs": [
    {
     "name": "stdout",
     "output_type": "stream",
     "text": [
      "package 'naivebayes' successfully unpacked and MD5 sums checked\n",
      "\n",
      "The downloaded binary packages are in\n",
      "\tC:\\Users\\yubin\\AppData\\Local\\Temp\\Rtmp4moaWF\\downloaded_packages\n"
     ]
    }
   ],
   "source": [
    "#install.packages(\"naivebayes\", dependencies=TRUE, repos='http://cran.rstudio.com/')\n",
    "\n"
   ]
  },
  {
   "cell_type": "code",
   "execution_count": 76,
   "metadata": {},
   "outputs": [
    {
     "name": "stderr",
     "output_type": "stream",
     "text": [
      "also installing the dependencies 'brew', 'Rook', 'gridExtra', 'downloader', 'influenceR', 'rgexf', 'viridis', 'visNetwork', 'lmtest', 'rex', 'stringdist', 'DiagrammeR', 'Ckmeans.1d.dp', 'vcd', 'lintr', 'igraph'\n",
      "\n"
     ]
    },
    {
     "name": "stdout",
     "output_type": "stream",
     "text": [
      "package 'brew' successfully unpacked and MD5 sums checked\n",
      "package 'Rook' successfully unpacked and MD5 sums checked\n",
      "package 'gridExtra' successfully unpacked and MD5 sums checked\n",
      "package 'downloader' successfully unpacked and MD5 sums checked\n",
      "package 'influenceR' successfully unpacked and MD5 sums checked\n",
      "package 'rgexf' successfully unpacked and MD5 sums checked\n",
      "package 'viridis' successfully unpacked and MD5 sums checked\n",
      "package 'visNetwork' successfully unpacked and MD5 sums checked\n",
      "package 'lmtest' successfully unpacked and MD5 sums checked\n",
      "package 'rex' successfully unpacked and MD5 sums checked\n",
      "package 'stringdist' successfully unpacked and MD5 sums checked\n",
      "package 'DiagrammeR' successfully unpacked and MD5 sums checked\n",
      "package 'Ckmeans.1d.dp' successfully unpacked and MD5 sums checked\n",
      "package 'vcd' successfully unpacked and MD5 sums checked\n",
      "package 'lintr' successfully unpacked and MD5 sums checked\n",
      "package 'igraph' successfully unpacked and MD5 sums checked\n",
      "package 'xgboost' successfully unpacked and MD5 sums checked\n",
      "\n",
      "The downloaded binary packages are in\n",
      "\tC:\\Users\\yubin\\AppData\\Local\\Temp\\Rtmp4moaWF\\downloaded_packages\n"
     ]
    }
   ],
   "source": [
    "# install.packages(\"xgboost\", dependencies=TRUE, repos='http://cran.rstudio.com/')\n"
   ]
  },
  {
   "cell_type": "code",
   "execution_count": 1,
   "metadata": {},
   "outputs": [],
   "source": [
    "library(\"NLP\")"
   ]
  },
  {
   "cell_type": "code",
   "execution_count": 2,
   "metadata": {},
   "outputs": [],
   "source": [
    "library(\"tm\")"
   ]
  },
  {
   "cell_type": "code",
   "execution_count": 3,
   "metadata": {},
   "outputs": [
    {
     "data": {
      "text/html": [
       "<ol class=list-inline>\n",
       "\t<li>''</li>\n",
       "\t<li>'messages'</li>\n",
       "\t<li>'messages/easy_ham'</li>\n",
       "\t<li>'messages/easy_ham_2'</li>\n",
       "\t<li>'messages/hard_ham'</li>\n",
       "\t<li>'messages/spam'</li>\n",
       "\t<li>'messages/spam_2'</li>\n",
       "</ol>\n"
      ],
      "text/latex": [
       "\\begin{enumerate*}\n",
       "\\item ''\n",
       "\\item 'messages'\n",
       "\\item 'messages/easy\\_ham'\n",
       "\\item 'messages/easy\\_ham\\_2'\n",
       "\\item 'messages/hard\\_ham'\n",
       "\\item 'messages/spam'\n",
       "\\item 'messages/spam\\_2'\n",
       "\\end{enumerate*}\n"
      ],
      "text/markdown": [
       "1. ''\n",
       "2. 'messages'\n",
       "3. 'messages/easy_ham'\n",
       "4. 'messages/easy_ham_2'\n",
       "5. 'messages/hard_ham'\n",
       "6. 'messages/spam'\n",
       "7. 'messages/spam_2'\n",
       "\n",
       "\n"
      ],
      "text/plain": [
       "[1] \"\"                    \"messages\"            \"messages/easy_ham\"  \n",
       "[4] \"messages/easy_ham_2\" \"messages/hard_ham\"   \"messages/spam\"      \n",
       "[7] \"messages/spam_2\"    "
      ]
     },
     "metadata": {},
     "output_type": "display_data"
    }
   ],
   "source": [
    "\n",
    "#spamPath = system.file(package = \"RSpamData\")\n",
    "#spamPath = \"/Users/nolan/RPackages/RSpamData\"spamPath = \".\"\n",
    "spamPath = \"./SpamAssassinMessages/\"\n",
    "list.dirs(spamPath, full.names = FALSE)\n",
    "\n"
   ]
  },
  {
   "cell_type": "code",
   "execution_count": 4,
   "metadata": {},
   "outputs": [
    {
     "data": {
      "text/html": [
       "<ol class=list-inline>\n",
       "\t<li>'easy_ham'</li>\n",
       "\t<li>'easy_ham_2'</li>\n",
       "\t<li>'hard_ham'</li>\n",
       "\t<li>'spam'</li>\n",
       "\t<li>'spam_2'</li>\n",
       "</ol>\n"
      ],
      "text/latex": [
       "\\begin{enumerate*}\n",
       "\\item 'easy\\_ham'\n",
       "\\item 'easy\\_ham\\_2'\n",
       "\\item 'hard\\_ham'\n",
       "\\item 'spam'\n",
       "\\item 'spam\\_2'\n",
       "\\end{enumerate*}\n"
      ],
      "text/markdown": [
       "1. 'easy_ham'\n",
       "2. 'easy_ham_2'\n",
       "3. 'hard_ham'\n",
       "4. 'spam'\n",
       "5. 'spam_2'\n",
       "\n",
       "\n"
      ],
      "text/plain": [
       "[1] \"easy_ham\"   \"easy_ham_2\" \"hard_ham\"   \"spam\"       \"spam_2\"    "
      ]
     },
     "metadata": {},
     "output_type": "display_data"
    }
   ],
   "source": [
    "list.files(path = paste(spamPath, \"messages\", \n",
    "                        sep = .Platform$file.sep))\n",
    "\n"
   ]
  },
  {
   "cell_type": "code",
   "execution_count": 5,
   "metadata": {},
   "outputs": [
    {
     "data": {
      "text/html": [],
      "text/latex": [],
      "text/markdown": [],
      "text/plain": [
       "character(0)"
      ]
     },
     "metadata": {},
     "output_type": "display_data"
    }
   ],
   "source": [
    "list.files(path = paste(spamPath,'spam', sep=.Platform$file.sep))"
   ]
  },
  {
   "cell_type": "code",
   "execution_count": 6,
   "metadata": {},
   "outputs": [
    {
     "data": {
      "text/html": [
       "<ol class=list-inline>\n",
       "\t<li>'00001.317e78fa8ee2f54cd4890fdc09ba8176'</li>\n",
       "\t<li>'00002.9438920e9a55591b18e60d1ed37d992b'</li>\n",
       "\t<li>'00003.590eff932f8704d8b0fcbe69d023b54d'</li>\n",
       "\t<li>'00004.bdcc075fa4beb5157b5dd6cd41d8887b'</li>\n",
       "\t<li>'00005.ed0aba4d386c5e62bc737cf3f0ed9589'</li>\n",
       "\t<li>'00006.3ca1f399ccda5d897fecb8c57669a283'</li>\n",
       "</ol>\n"
      ],
      "text/latex": [
       "\\begin{enumerate*}\n",
       "\\item '00001.317e78fa8ee2f54cd4890fdc09ba8176'\n",
       "\\item '00002.9438920e9a55591b18e60d1ed37d992b'\n",
       "\\item '00003.590eff932f8704d8b0fcbe69d023b54d'\n",
       "\\item '00004.bdcc075fa4beb5157b5dd6cd41d8887b'\n",
       "\\item '00005.ed0aba4d386c5e62bc737cf3f0ed9589'\n",
       "\\item '00006.3ca1f399ccda5d897fecb8c57669a283'\n",
       "\\end{enumerate*}\n"
      ],
      "text/markdown": [
       "1. '00001.317e78fa8ee2f54cd4890fdc09ba8176'\n",
       "2. '00002.9438920e9a55591b18e60d1ed37d992b'\n",
       "3. '00003.590eff932f8704d8b0fcbe69d023b54d'\n",
       "4. '00004.bdcc075fa4beb5157b5dd6cd41d8887b'\n",
       "5. '00005.ed0aba4d386c5e62bc737cf3f0ed9589'\n",
       "6. '00006.3ca1f399ccda5d897fecb8c57669a283'\n",
       "\n",
       "\n"
      ],
      "text/plain": [
       "[1] \"00001.317e78fa8ee2f54cd4890fdc09ba8176\"\n",
       "[2] \"00002.9438920e9a55591b18e60d1ed37d992b\"\n",
       "[3] \"00003.590eff932f8704d8b0fcbe69d023b54d\"\n",
       "[4] \"00004.bdcc075fa4beb5157b5dd6cd41d8887b\"\n",
       "[5] \"00005.ed0aba4d386c5e62bc737cf3f0ed9589\"\n",
       "[6] \"00006.3ca1f399ccda5d897fecb8c57669a283\""
      ]
     },
     "metadata": {},
     "output_type": "display_data"
    },
    {
     "data": {
      "text/html": [
       "6051"
      ],
      "text/latex": [
       "6051"
      ],
      "text/markdown": [
       "6051"
      ],
      "text/plain": [
       "[1] 6051"
      ]
     },
     "metadata": {},
     "output_type": "display_data"
    },
    {
     "data": {
      "text/html": [
       "<dl class=dl-horizontal>\n",
       "\t<dt>./SpamAssassinMessages//messages/easy_ham</dt>\n",
       "\t\t<dd>2501</dd>\n",
       "\t<dt>./SpamAssassinMessages//messages/easy_ham_2</dt>\n",
       "\t\t<dd>1401</dd>\n",
       "\t<dt>./SpamAssassinMessages//messages/hard_ham</dt>\n",
       "\t\t<dd>251</dd>\n",
       "\t<dt>./SpamAssassinMessages//messages/spam</dt>\n",
       "\t\t<dd>501</dd>\n",
       "\t<dt>./SpamAssassinMessages//messages/spam_2</dt>\n",
       "\t\t<dd>1397</dd>\n",
       "</dl>\n"
      ],
      "text/latex": [
       "\\begin{description*}\n",
       "\\item[./SpamAssassinMessages//messages/easy\\textbackslash{}\\_ham] 2501\n",
       "\\item[./SpamAssassinMessages//messages/easy\\textbackslash{}\\_ham\\textbackslash{}\\_2] 1401\n",
       "\\item[./SpamAssassinMessages//messages/hard\\textbackslash{}\\_ham] 251\n",
       "\\item[./SpamAssassinMessages//messages/spam] 501\n",
       "\\item[./SpamAssassinMessages//messages/spam\\textbackslash{}\\_2] 1397\n",
       "\\end{description*}\n"
      ],
      "text/markdown": [
       "./SpamAssassinMessages//messages/easy_ham\n",
       ":   2501./SpamAssassinMessages//messages/easy_ham_2\n",
       ":   1401./SpamAssassinMessages//messages/hard_ham\n",
       ":   251./SpamAssassinMessages//messages/spam\n",
       ":   501./SpamAssassinMessages//messages/spam_2\n",
       ":   1397\n",
       "\n"
      ],
      "text/plain": [
       "  ./SpamAssassinMessages//messages/easy_ham \n",
       "                                       2501 \n",
       "./SpamAssassinMessages//messages/easy_ham_2 \n",
       "                                       1401 \n",
       "  ./SpamAssassinMessages//messages/hard_ham \n",
       "                                        251 \n",
       "      ./SpamAssassinMessages//messages/spam \n",
       "                                        501 \n",
       "    ./SpamAssassinMessages//messages/spam_2 \n",
       "                                       1397 "
      ]
     },
     "metadata": {},
     "output_type": "display_data"
    }
   ],
   "source": [
    "head(list.files(path = paste(spamPath, \"messages\", \"spam_2\",\n",
    "                             sep = .Platform$file.sep)))\n",
    "\n",
    "dirNames = list.files(path = paste(spamPath, \"messages\", \n",
    "                      sep = .Platform$file.sep))\n",
    "length(list.files(paste(spamPath, \"messages\", dirNames, \n",
    "                        sep = .Platform$file.sep)))\n",
    "\n",
    "sapply(paste(spamPath, \"messages\", dirNames, \n",
    "             sep = .Platform$file.sep), \n",
    "       function(dir) length(list.files(dir)) )\n",
    "\n",
    "fullDirNames = paste(spamPath, \"messages\", dirNames, \n",
    "                     sep = .Platform$file.sep)"
   ]
  },
  {
   "cell_type": "code",
   "execution_count": 7,
   "metadata": {},
   "outputs": [
    {
     "data": {
      "text/html": [
       "'./SpamAssassinMessages//messages/easy_ham/00001.7c53336b37003a9286aba55d2945844c'"
      ],
      "text/latex": [
       "'./SpamAssassinMessages//messages/easy\\_ham/00001.7c53336b37003a9286aba55d2945844c'"
      ],
      "text/markdown": [
       "'./SpamAssassinMessages//messages/easy_ham/00001.7c53336b37003a9286aba55d2945844c'"
      ],
      "text/plain": [
       "[1] \"./SpamAssassinMessages//messages/easy_ham/00001.7c53336b37003a9286aba55d2945844c\""
      ]
     },
     "metadata": {},
     "output_type": "display_data"
    },
    {
     "data": {
      "text/html": [
       "<ol class=list-inline>\n",
       "\t<li><span style=white-space:pre-wrap>'From exmh-workers-admin@redhat.com  Thu Aug 22 12:36:23 2002'</span></li>\n",
       "\t<li>'Return-Path: &lt;exmh-workers-admin@spamassassin.taint.org&gt;'</li>\n",
       "\t<li>'Delivered-To: zzzz@localhost.netnoteinc.com'</li>\n",
       "\t<li>'Received: from localhost (localhost [127.0.0.1])'</li>\n",
       "\t<li>'\\tby phobos.labs.netnoteinc.com (Postfix) with ESMTP id D03E543C36'</li>\n",
       "\t<li>'\\tfor &lt;zzzz@localhost&gt;; Thu, 22 Aug 2002 07:36:16 -0400 (EDT)'</li>\n",
       "</ol>\n"
      ],
      "text/latex": [
       "\\begin{enumerate*}\n",
       "\\item 'From exmh-workers-admin@redhat.com  Thu Aug 22 12:36:23 2002'\n",
       "\\item 'Return-Path: <exmh-workers-admin@spamassassin.taint.org>'\n",
       "\\item 'Delivered-To: zzzz@localhost.netnoteinc.com'\n",
       "\\item 'Received: from localhost (localhost {[}127.0.0.1{]})'\n",
       "\\item '\\textbackslash{}tby phobos.labs.netnoteinc.com (Postfix) with ESMTP id D03E543C36'\n",
       "\\item '\\textbackslash{}tfor <zzzz@localhost>; Thu, 22 Aug 2002 07:36:16 -0400 (EDT)'\n",
       "\\end{enumerate*}\n"
      ],
      "text/markdown": [
       "1. <span style=white-space:pre-wrap>'From exmh-workers-admin@redhat.com  Thu Aug 22 12:36:23 2002'</span>\n",
       "2. 'Return-Path: &lt;exmh-workers-admin@spamassassin.taint.org&gt;'\n",
       "3. 'Delivered-To: zzzz@localhost.netnoteinc.com'\n",
       "4. 'Received: from localhost (localhost [127.0.0.1])'\n",
       "5. '\\tby phobos.labs.netnoteinc.com (Postfix) with ESMTP id D03E543C36'\n",
       "6. '\\tfor &lt;zzzz@localhost&gt;; Thu, 22 Aug 2002 07:36:16 -0400 (EDT)'\n",
       "\n",
       "\n"
      ],
      "text/plain": [
       "[1] \"From exmh-workers-admin@redhat.com  Thu Aug 22 12:36:23 2002\"     \n",
       "[2] \"Return-Path: <exmh-workers-admin@spamassassin.taint.org>\"         \n",
       "[3] \"Delivered-To: zzzz@localhost.netnoteinc.com\"                      \n",
       "[4] \"Received: from localhost (localhost [127.0.0.1])\"                 \n",
       "[5] \"\\tby phobos.labs.netnoteinc.com (Postfix) with ESMTP id D03E543C36\"\n",
       "[6] \"\\tfor <zzzz@localhost>; Thu, 22 Aug 2002 07:36:16 -0400 (EDT)\"     "
      ]
     },
     "metadata": {},
     "output_type": "display_data"
    },
    {
     "data": {
      "text/html": [
       "63"
      ],
      "text/latex": [
       "63"
      ],
      "text/markdown": [
       "63"
      ],
      "text/plain": [
       "[1] 63"
      ]
     },
     "metadata": {},
     "output_type": "display_data"
    },
    {
     "data": {
      "text/html": [
       "63"
      ],
      "text/latex": [
       "63"
      ],
      "text/markdown": [
       "63"
      ],
      "text/plain": [
       "[1] 63"
      ]
     },
     "metadata": {},
     "output_type": "display_data"
    },
    {
     "data": {
      "text/html": [
       "<ol class=list-inline>\n",
       "\t<li>'List-Archive: &lt;https://listman.spamassassin.taint.org/mailman/private/exmh-workers/&gt;'</li>\n",
       "\t<li>'Date: Thu, 22 Aug 2002 18:26:25 +0700'</li>\n",
       "\t<li>''</li>\n",
       "\t<li><span style=white-space:pre-wrap>'    Date:        Wed, 21 Aug 2002 10:54:46 -0500'</span></li>\n",
       "\t<li><span style=white-space:pre-wrap>'    From:        Chris Garrigues &lt;cwg-dated-1030377287.06fa6d@DeepEddy.Com&gt;'</span></li>\n",
       "\t<li><span style=white-space:pre-wrap>'    Message-ID:  &lt;1029945287.4797.TMDA@deepeddy.vircio.com&gt;'</span></li>\n",
       "\t<li>''</li>\n",
       "\t<li>''</li>\n",
       "\t<li><span style=white-space:pre-wrap>'  | I can\\'t reproduce this error.'</span></li>\n",
       "</ol>\n"
      ],
      "text/latex": [
       "\\begin{enumerate*}\n",
       "\\item 'List-Archive: <https://listman.spamassassin.taint.org/mailman/private/exmh-workers/>'\n",
       "\\item 'Date: Thu, 22 Aug 2002 18:26:25 +0700'\n",
       "\\item ''\n",
       "\\item '    Date:        Wed, 21 Aug 2002 10:54:46 -0500'\n",
       "\\item '    From:        Chris Garrigues <cwg-dated-1030377287.06fa6d@DeepEddy.Com>'\n",
       "\\item '    Message-ID:  <1029945287.4797.TMDA@deepeddy.vircio.com>'\n",
       "\\item ''\n",
       "\\item ''\n",
       "\\item '  \\textbar{} I can\\textbackslash{}'t reproduce this error.'\n",
       "\\end{enumerate*}\n"
      ],
      "text/markdown": [
       "1. 'List-Archive: &lt;https://listman.spamassassin.taint.org/mailman/private/exmh-workers/&gt;'\n",
       "2. 'Date: Thu, 22 Aug 2002 18:26:25 +0700'\n",
       "3. ''\n",
       "4. <span style=white-space:pre-wrap>'    Date:        Wed, 21 Aug 2002 10:54:46 -0500'</span>\n",
       "5. <span style=white-space:pre-wrap>'    From:        Chris Garrigues &lt;cwg-dated-1030377287.06fa6d@DeepEddy.Com&gt;'</span>\n",
       "6. <span style=white-space:pre-wrap>'    Message-ID:  &lt;1029945287.4797.TMDA@deepeddy.vircio.com&gt;'</span>\n",
       "7. ''\n",
       "8. ''\n",
       "9. <span style=white-space:pre-wrap>'  | I can\\'t reproduce this error.'</span>\n",
       "\n",
       "\n"
      ],
      "text/plain": [
       "[1] \"List-Archive: <https://listman.spamassassin.taint.org/mailman/private/exmh-workers/>\"\n",
       "[2] \"Date: Thu, 22 Aug 2002 18:26:25 +0700\"                                               \n",
       "[3] \"\"                                                                                    \n",
       "[4] \"    Date:        Wed, 21 Aug 2002 10:54:46 -0500\"                                    \n",
       "[5] \"    From:        Chris Garrigues <cwg-dated-1030377287.06fa6d@DeepEddy.Com>\"         \n",
       "[6] \"    Message-ID:  <1029945287.4797.TMDA@deepeddy.vircio.com>\"                         \n",
       "[7] \"\"                                                                                    \n",
       "[8] \"\"                                                                                    \n",
       "[9] \"  | I can't reproduce this error.\"                                                   "
      ]
     },
     "metadata": {},
     "output_type": "display_data"
    }
   ],
   "source": [
    "fileNames = list.files(fullDirNames[1], full.names = TRUE)\n",
    "fileNames[1]\n",
    "\n",
    "msg = readLines(fileNames[1])\n",
    "head(msg)\n",
    "\n",
    "indx = c(1:5, 15, 27, 68, 69, 329, 404, 427, 516, 852, 971)\n",
    "fn = list.files(fullDirNames[1], full.names = TRUE)[indx]\n",
    "sampleEmail = sapply(fn, readLines)        \n",
    "\n",
    "msg = sampleEmail[[1]]\n",
    "which(msg == \"\")[1]\n",
    "\n",
    "match(\"\", msg)\n",
    "\n",
    "splitPoint = match(\"\", msg)\n",
    "\n",
    "msg[ (splitPoint - 2):(splitPoint + 6) ]\n",
    "\n",
    "header = msg[1:(splitPoint-1)]\n",
    "body = msg[ -(1:splitPoint) ]\n",
    "\n",
    "splitMessage = function(msg) {\n",
    "  splitPoint = match(\"\", msg)\n",
    "  header = msg[1:(splitPoint)-1]\n",
    "  body = msg[ -(1:splitPoint) ]\n",
    "  return(list(header = header, body = body))\n",
    "}\n",
    "\n",
    "sampleSplit = lapply(sampleEmail, splitMessage)"
   ]
  },
  {
   "cell_type": "code",
   "execution_count": 8,
   "metadata": {},
   "outputs": [
    {
     "data": {
      "text/html": [
       "46"
      ],
      "text/latex": [
       "46"
      ],
      "text/markdown": [
       "46"
      ],
      "text/plain": [
       "[1] 46"
      ]
     },
     "metadata": {},
     "output_type": "display_data"
    },
    {
     "data": {
      "text/html": [],
      "text/latex": [],
      "text/markdown": [],
      "text/plain": [
       "integer(0)"
      ]
     },
     "metadata": {},
     "output_type": "display_data"
    },
    {
     "data": {
      "text/html": [
       "'Content-Type: text/plain; charset=us-ascii'"
      ],
      "text/latex": [
       "'Content-Type: text/plain; charset=us-ascii'"
      ],
      "text/markdown": [
       "'Content-Type: text/plain; charset=us-ascii'"
      ],
      "text/plain": [
       "[1] \"Content-Type: text/plain; charset=us-ascii\""
      ]
     },
     "metadata": {},
     "output_type": "display_data"
    },
    {
     "data": {
      "text/html": [
       "<dl>\n",
       "\t<dt>$`./SpamAssassinMessages//messages/easy_ham/00001.7c53336b37003a9286aba55d2945844c`</dt>\n",
       "\t\t<dd>46</dd>\n",
       "\t<dt>$`./SpamAssassinMessages//messages/easy_ham/00002.9c4069e25e1ef370c078db7ee85ff9ac`</dt>\n",
       "\t\t<dd>45</dd>\n",
       "\t<dt>$`./SpamAssassinMessages//messages/easy_ham/00003.860e3c3cee1b42ead714c5c874fe25f7`</dt>\n",
       "\t\t<dd>42</dd>\n",
       "\t<dt>$`./SpamAssassinMessages//messages/easy_ham/00004.864220c5b6930b209cc287c361c99af1`</dt>\n",
       "\t\t<dd>30</dd>\n",
       "\t<dt>$`./SpamAssassinMessages//messages/easy_ham/00005.bf27cdeaf0b8c4647ecd61b1d09da613`</dt>\n",
       "\t\t<dd>44</dd>\n",
       "\t<dt>$`./SpamAssassinMessages//messages/easy_ham/00015.4d7026347ba7478c9db04c70913e68fd`</dt>\n",
       "\t\t<dd>29</dd>\n",
       "\t<dt>$`./SpamAssassinMessages//messages/easy_ham/00027.4d456dd9ce0afde7629f94dc3034e0bb`</dt>\n",
       "\t\t<dd></dd>\n",
       "\t<dt>$`./SpamAssassinMessages//messages/easy_ham/00068.5053f669dda8f920e5300ed327cdd986`</dt>\n",
       "\t\t<dd></dd>\n",
       "\t<dt>$`./SpamAssassinMessages//messages/easy_ham/00069.1477f740f56d3e0bd132ad70993edda5`</dt>\n",
       "\t\t<dd>33</dd>\n",
       "\t<dt>$`./SpamAssassinMessages//messages/easy_ham/00329.84bd9e3cd5592c4335ded8736acbccae`</dt>\n",
       "\t\t<dd>31</dd>\n",
       "\t<dt>$`./SpamAssassinMessages//messages/easy_ham/00404.fb2c69f7df37b12bc62737254d0ea36a`</dt>\n",
       "\t\t<dd>27</dd>\n",
       "\t<dt>$`./SpamAssassinMessages//messages/easy_ham/00427.49db73be9017efca7355ee80f173a26c`</dt>\n",
       "\t\t<dd>32</dd>\n",
       "\t<dt>$`./SpamAssassinMessages//messages/easy_ham/00516.139a390f9320423395da77f14f7118db`</dt>\n",
       "\t\t<dd>36</dd>\n",
       "\t<dt>$`./SpamAssassinMessages//messages/easy_ham/00852.8be48f515c9ecb089aa3fc5983eaf038`</dt>\n",
       "\t\t<dd>30</dd>\n",
       "\t<dt>$`./SpamAssassinMessages//messages/easy_ham/00971.5b0ba338d08a9077b1256678781e4a93`</dt>\n",
       "\t\t<dd>49</dd>\n",
       "</dl>\n"
      ],
      "text/latex": [
       "\\begin{description}\n",
       "\\item[\\$`./SpamAssassinMessages//messages/easy\\_ham/00001.7c53336b37003a9286aba55d2945844c`] 46\n",
       "\\item[\\$`./SpamAssassinMessages//messages/easy\\_ham/00002.9c4069e25e1ef370c078db7ee85ff9ac`] 45\n",
       "\\item[\\$`./SpamAssassinMessages//messages/easy\\_ham/00003.860e3c3cee1b42ead714c5c874fe25f7`] 42\n",
       "\\item[\\$`./SpamAssassinMessages//messages/easy\\_ham/00004.864220c5b6930b209cc287c361c99af1`] 30\n",
       "\\item[\\$`./SpamAssassinMessages//messages/easy\\_ham/00005.bf27cdeaf0b8c4647ecd61b1d09da613`] 44\n",
       "\\item[\\$`./SpamAssassinMessages//messages/easy\\_ham/00015.4d7026347ba7478c9db04c70913e68fd`] 29\n",
       "\\item[\\$`./SpamAssassinMessages//messages/easy\\_ham/00027.4d456dd9ce0afde7629f94dc3034e0bb`] \n",
       "\\item[\\$`./SpamAssassinMessages//messages/easy\\_ham/00068.5053f669dda8f920e5300ed327cdd986`] \n",
       "\\item[\\$`./SpamAssassinMessages//messages/easy\\_ham/00069.1477f740f56d3e0bd132ad70993edda5`] 33\n",
       "\\item[\\$`./SpamAssassinMessages//messages/easy\\_ham/00329.84bd9e3cd5592c4335ded8736acbccae`] 31\n",
       "\\item[\\$`./SpamAssassinMessages//messages/easy\\_ham/00404.fb2c69f7df37b12bc62737254d0ea36a`] 27\n",
       "\\item[\\$`./SpamAssassinMessages//messages/easy\\_ham/00427.49db73be9017efca7355ee80f173a26c`] 32\n",
       "\\item[\\$`./SpamAssassinMessages//messages/easy\\_ham/00516.139a390f9320423395da77f14f7118db`] 36\n",
       "\\item[\\$`./SpamAssassinMessages//messages/easy\\_ham/00852.8be48f515c9ecb089aa3fc5983eaf038`] 30\n",
       "\\item[\\$`./SpamAssassinMessages//messages/easy\\_ham/00971.5b0ba338d08a9077b1256678781e4a93`] 49\n",
       "\\end{description}\n"
      ],
      "text/markdown": [
       "$`./SpamAssassinMessages//messages/easy_ham/00001.7c53336b37003a9286aba55d2945844c`\n",
       ":   46\n",
       "$`./SpamAssassinMessages//messages/easy_ham/00002.9c4069e25e1ef370c078db7ee85ff9ac`\n",
       ":   45\n",
       "$`./SpamAssassinMessages//messages/easy_ham/00003.860e3c3cee1b42ead714c5c874fe25f7`\n",
       ":   42\n",
       "$`./SpamAssassinMessages//messages/easy_ham/00004.864220c5b6930b209cc287c361c99af1`\n",
       ":   30\n",
       "$`./SpamAssassinMessages//messages/easy_ham/00005.bf27cdeaf0b8c4647ecd61b1d09da613`\n",
       ":   44\n",
       "$`./SpamAssassinMessages//messages/easy_ham/00015.4d7026347ba7478c9db04c70913e68fd`\n",
       ":   29\n",
       "$`./SpamAssassinMessages//messages/easy_ham/00027.4d456dd9ce0afde7629f94dc3034e0bb`\n",
       ":   \n",
       "$`./SpamAssassinMessages//messages/easy_ham/00068.5053f669dda8f920e5300ed327cdd986`\n",
       ":   \n",
       "$`./SpamAssassinMessages//messages/easy_ham/00069.1477f740f56d3e0bd132ad70993edda5`\n",
       ":   33\n",
       "$`./SpamAssassinMessages//messages/easy_ham/00329.84bd9e3cd5592c4335ded8736acbccae`\n",
       ":   31\n",
       "$`./SpamAssassinMessages//messages/easy_ham/00404.fb2c69f7df37b12bc62737254d0ea36a`\n",
       ":   27\n",
       "$`./SpamAssassinMessages//messages/easy_ham/00427.49db73be9017efca7355ee80f173a26c`\n",
       ":   32\n",
       "$`./SpamAssassinMessages//messages/easy_ham/00516.139a390f9320423395da77f14f7118db`\n",
       ":   36\n",
       "$`./SpamAssassinMessages//messages/easy_ham/00852.8be48f515c9ecb089aa3fc5983eaf038`\n",
       ":   30\n",
       "$`./SpamAssassinMessages//messages/easy_ham/00971.5b0ba338d08a9077b1256678781e4a93`\n",
       ":   49\n",
       "\n",
       "\n"
      ],
      "text/plain": [
       "$`./SpamAssassinMessages//messages/easy_ham/00001.7c53336b37003a9286aba55d2945844c`\n",
       "[1] 46\n",
       "\n",
       "$`./SpamAssassinMessages//messages/easy_ham/00002.9c4069e25e1ef370c078db7ee85ff9ac`\n",
       "[1] 45\n",
       "\n",
       "$`./SpamAssassinMessages//messages/easy_ham/00003.860e3c3cee1b42ead714c5c874fe25f7`\n",
       "[1] 42\n",
       "\n",
       "$`./SpamAssassinMessages//messages/easy_ham/00004.864220c5b6930b209cc287c361c99af1`\n",
       "[1] 30\n",
       "\n",
       "$`./SpamAssassinMessages//messages/easy_ham/00005.bf27cdeaf0b8c4647ecd61b1d09da613`\n",
       "[1] 44\n",
       "\n",
       "$`./SpamAssassinMessages//messages/easy_ham/00015.4d7026347ba7478c9db04c70913e68fd`\n",
       "[1] 29\n",
       "\n",
       "$`./SpamAssassinMessages//messages/easy_ham/00027.4d456dd9ce0afde7629f94dc3034e0bb`\n",
       "integer(0)\n",
       "\n",
       "$`./SpamAssassinMessages//messages/easy_ham/00068.5053f669dda8f920e5300ed327cdd986`\n",
       "integer(0)\n",
       "\n",
       "$`./SpamAssassinMessages//messages/easy_ham/00069.1477f740f56d3e0bd132ad70993edda5`\n",
       "[1] 33\n",
       "\n",
       "$`./SpamAssassinMessages//messages/easy_ham/00329.84bd9e3cd5592c4335ded8736acbccae`\n",
       "[1] 31\n",
       "\n",
       "$`./SpamAssassinMessages//messages/easy_ham/00404.fb2c69f7df37b12bc62737254d0ea36a`\n",
       "[1] 27\n",
       "\n",
       "$`./SpamAssassinMessages//messages/easy_ham/00427.49db73be9017efca7355ee80f173a26c`\n",
       "[1] 32\n",
       "\n",
       "$`./SpamAssassinMessages//messages/easy_ham/00516.139a390f9320423395da77f14f7118db`\n",
       "[1] 36\n",
       "\n",
       "$`./SpamAssassinMessages//messages/easy_ham/00852.8be48f515c9ecb089aa3fc5983eaf038`\n",
       "[1] 30\n",
       "\n",
       "$`./SpamAssassinMessages//messages/easy_ham/00971.5b0ba338d08a9077b1256678781e4a93`\n",
       "[1] 49\n"
      ]
     },
     "metadata": {},
     "output_type": "display_data"
    },
    {
     "data": {
      "text/html": [
       "<dl class=dl-horizontal>\n",
       "\t<dt>./SpamAssassinMessages//messages/easy_ham/00001.7c53336b37003a9286aba55d2945844c</dt>\n",
       "\t\t<dd>46</dd>\n",
       "\t<dt>./SpamAssassinMessages//messages/easy_ham/00002.9c4069e25e1ef370c078db7ee85ff9ac</dt>\n",
       "\t\t<dd>45</dd>\n",
       "\t<dt>./SpamAssassinMessages//messages/easy_ham/00003.860e3c3cee1b42ead714c5c874fe25f7</dt>\n",
       "\t\t<dd>42</dd>\n",
       "\t<dt>./SpamAssassinMessages//messages/easy_ham/00004.864220c5b6930b209cc287c361c99af1</dt>\n",
       "\t\t<dd>30</dd>\n",
       "\t<dt>./SpamAssassinMessages//messages/easy_ham/00005.bf27cdeaf0b8c4647ecd61b1d09da613</dt>\n",
       "\t\t<dd>44</dd>\n",
       "\t<dt>./SpamAssassinMessages//messages/easy_ham/00015.4d7026347ba7478c9db04c70913e68fd</dt>\n",
       "\t\t<dd>29</dd>\n",
       "\t<dt>./SpamAssassinMessages//messages/easy_ham/00027.4d456dd9ce0afde7629f94dc3034e0bb</dt>\n",
       "\t\t<dd>&lt;NA&gt;</dd>\n",
       "\t<dt>./SpamAssassinMessages//messages/easy_ham/00068.5053f669dda8f920e5300ed327cdd986</dt>\n",
       "\t\t<dd>&lt;NA&gt;</dd>\n",
       "\t<dt>./SpamAssassinMessages//messages/easy_ham/00069.1477f740f56d3e0bd132ad70993edda5</dt>\n",
       "\t\t<dd>33</dd>\n",
       "\t<dt>./SpamAssassinMessages//messages/easy_ham/00329.84bd9e3cd5592c4335ded8736acbccae</dt>\n",
       "\t\t<dd>31</dd>\n",
       "\t<dt>./SpamAssassinMessages//messages/easy_ham/00404.fb2c69f7df37b12bc62737254d0ea36a</dt>\n",
       "\t\t<dd>27</dd>\n",
       "\t<dt>./SpamAssassinMessages//messages/easy_ham/00427.49db73be9017efca7355ee80f173a26c</dt>\n",
       "\t\t<dd>32</dd>\n",
       "\t<dt>./SpamAssassinMessages//messages/easy_ham/00516.139a390f9320423395da77f14f7118db</dt>\n",
       "\t\t<dd>36</dd>\n",
       "\t<dt>./SpamAssassinMessages//messages/easy_ham/00852.8be48f515c9ecb089aa3fc5983eaf038</dt>\n",
       "\t\t<dd>30</dd>\n",
       "\t<dt>./SpamAssassinMessages//messages/easy_ham/00971.5b0ba338d08a9077b1256678781e4a93</dt>\n",
       "\t\t<dd>49</dd>\n",
       "</dl>\n"
      ],
      "text/latex": [
       "\\begin{description*}\n",
       "\\item[./SpamAssassinMessages//messages/easy\\textbackslash{}\\_ham/00001.7c53336b37003a9286aba55d2945844c] 46\n",
       "\\item[./SpamAssassinMessages//messages/easy\\textbackslash{}\\_ham/00002.9c4069e25e1ef370c078db7ee85ff9ac] 45\n",
       "\\item[./SpamAssassinMessages//messages/easy\\textbackslash{}\\_ham/00003.860e3c3cee1b42ead714c5c874fe25f7] 42\n",
       "\\item[./SpamAssassinMessages//messages/easy\\textbackslash{}\\_ham/00004.864220c5b6930b209cc287c361c99af1] 30\n",
       "\\item[./SpamAssassinMessages//messages/easy\\textbackslash{}\\_ham/00005.bf27cdeaf0b8c4647ecd61b1d09da613] 44\n",
       "\\item[./SpamAssassinMessages//messages/easy\\textbackslash{}\\_ham/00015.4d7026347ba7478c9db04c70913e68fd] 29\n",
       "\\item[./SpamAssassinMessages//messages/easy\\textbackslash{}\\_ham/00027.4d456dd9ce0afde7629f94dc3034e0bb] <NA>\n",
       "\\item[./SpamAssassinMessages//messages/easy\\textbackslash{}\\_ham/00068.5053f669dda8f920e5300ed327cdd986] <NA>\n",
       "\\item[./SpamAssassinMessages//messages/easy\\textbackslash{}\\_ham/00069.1477f740f56d3e0bd132ad70993edda5] 33\n",
       "\\item[./SpamAssassinMessages//messages/easy\\textbackslash{}\\_ham/00329.84bd9e3cd5592c4335ded8736acbccae] 31\n",
       "\\item[./SpamAssassinMessages//messages/easy\\textbackslash{}\\_ham/00404.fb2c69f7df37b12bc62737254d0ea36a] 27\n",
       "\\item[./SpamAssassinMessages//messages/easy\\textbackslash{}\\_ham/00427.49db73be9017efca7355ee80f173a26c] 32\n",
       "\\item[./SpamAssassinMessages//messages/easy\\textbackslash{}\\_ham/00516.139a390f9320423395da77f14f7118db] 36\n",
       "\\item[./SpamAssassinMessages//messages/easy\\textbackslash{}\\_ham/00852.8be48f515c9ecb089aa3fc5983eaf038] 30\n",
       "\\item[./SpamAssassinMessages//messages/easy\\textbackslash{}\\_ham/00971.5b0ba338d08a9077b1256678781e4a93] 49\n",
       "\\end{description*}\n"
      ],
      "text/markdown": [
       "./SpamAssassinMessages//messages/easy_ham/00001.7c53336b37003a9286aba55d2945844c\n",
       ":   46./SpamAssassinMessages//messages/easy_ham/00002.9c4069e25e1ef370c078db7ee85ff9ac\n",
       ":   45./SpamAssassinMessages//messages/easy_ham/00003.860e3c3cee1b42ead714c5c874fe25f7\n",
       ":   42./SpamAssassinMessages//messages/easy_ham/00004.864220c5b6930b209cc287c361c99af1\n",
       ":   30./SpamAssassinMessages//messages/easy_ham/00005.bf27cdeaf0b8c4647ecd61b1d09da613\n",
       ":   44./SpamAssassinMessages//messages/easy_ham/00015.4d7026347ba7478c9db04c70913e68fd\n",
       ":   29./SpamAssassinMessages//messages/easy_ham/00027.4d456dd9ce0afde7629f94dc3034e0bb\n",
       ":   &lt;NA&gt;./SpamAssassinMessages//messages/easy_ham/00068.5053f669dda8f920e5300ed327cdd986\n",
       ":   &lt;NA&gt;./SpamAssassinMessages//messages/easy_ham/00069.1477f740f56d3e0bd132ad70993edda5\n",
       ":   33./SpamAssassinMessages//messages/easy_ham/00329.84bd9e3cd5592c4335ded8736acbccae\n",
       ":   31./SpamAssassinMessages//messages/easy_ham/00404.fb2c69f7df37b12bc62737254d0ea36a\n",
       ":   27./SpamAssassinMessages//messages/easy_ham/00427.49db73be9017efca7355ee80f173a26c\n",
       ":   32./SpamAssassinMessages//messages/easy_ham/00516.139a390f9320423395da77f14f7118db\n",
       ":   36./SpamAssassinMessages//messages/easy_ham/00852.8be48f515c9ecb089aa3fc5983eaf038\n",
       ":   30./SpamAssassinMessages//messages/easy_ham/00971.5b0ba338d08a9077b1256678781e4a93\n",
       ":   49\n",
       "\n"
      ],
      "text/plain": [
       "./SpamAssassinMessages//messages/easy_ham/00001.7c53336b37003a9286aba55d2945844c \n",
       "                                                                              46 \n",
       "./SpamAssassinMessages//messages/easy_ham/00002.9c4069e25e1ef370c078db7ee85ff9ac \n",
       "                                                                              45 \n",
       "./SpamAssassinMessages//messages/easy_ham/00003.860e3c3cee1b42ead714c5c874fe25f7 \n",
       "                                                                              42 \n",
       "./SpamAssassinMessages//messages/easy_ham/00004.864220c5b6930b209cc287c361c99af1 \n",
       "                                                                              30 \n",
       "./SpamAssassinMessages//messages/easy_ham/00005.bf27cdeaf0b8c4647ecd61b1d09da613 \n",
       "                                                                              44 \n",
       "./SpamAssassinMessages//messages/easy_ham/00015.4d7026347ba7478c9db04c70913e68fd \n",
       "                                                                              29 \n",
       "./SpamAssassinMessages//messages/easy_ham/00027.4d456dd9ce0afde7629f94dc3034e0bb \n",
       "                                                                              NA \n",
       "./SpamAssassinMessages//messages/easy_ham/00068.5053f669dda8f920e5300ed327cdd986 \n",
       "                                                                              NA \n",
       "./SpamAssassinMessages//messages/easy_ham/00069.1477f740f56d3e0bd132ad70993edda5 \n",
       "                                                                              33 \n",
       "./SpamAssassinMessages//messages/easy_ham/00329.84bd9e3cd5592c4335ded8736acbccae \n",
       "                                                                              31 \n",
       "./SpamAssassinMessages//messages/easy_ham/00404.fb2c69f7df37b12bc62737254d0ea36a \n",
       "                                                                              27 \n",
       "./SpamAssassinMessages//messages/easy_ham/00427.49db73be9017efca7355ee80f173a26c \n",
       "                                                                              32 \n",
       "./SpamAssassinMessages//messages/easy_ham/00516.139a390f9320423395da77f14f7118db \n",
       "                                                                              36 \n",
       "./SpamAssassinMessages//messages/easy_ham/00852.8be48f515c9ecb089aa3fc5983eaf038 \n",
       "                                                                              30 \n",
       "./SpamAssassinMessages//messages/easy_ham/00971.5b0ba338d08a9077b1256678781e4a93 \n",
       "                                                                              49 "
      ]
     },
     "metadata": {},
     "output_type": "display_data"
    },
    {
     "data": {
      "text/html": [
       "<dl class=dl-horizontal>\n",
       "\t<dt>./SpamAssassinMessages//messages/easy_ham/00001.7c53336b37003a9286aba55d2945844c</dt>\n",
       "\t\t<dd>FALSE</dd>\n",
       "\t<dt>./SpamAssassinMessages//messages/easy_ham/00002.9c4069e25e1ef370c078db7ee85ff9ac</dt>\n",
       "\t\t<dd>FALSE</dd>\n",
       "\t<dt>./SpamAssassinMessages//messages/easy_ham/00003.860e3c3cee1b42ead714c5c874fe25f7</dt>\n",
       "\t\t<dd>FALSE</dd>\n",
       "\t<dt>./SpamAssassinMessages//messages/easy_ham/00004.864220c5b6930b209cc287c361c99af1</dt>\n",
       "\t\t<dd>FALSE</dd>\n",
       "\t<dt>./SpamAssassinMessages//messages/easy_ham/00005.bf27cdeaf0b8c4647ecd61b1d09da613</dt>\n",
       "\t\t<dd>FALSE</dd>\n",
       "\t<dt>./SpamAssassinMessages//messages/easy_ham/00015.4d7026347ba7478c9db04c70913e68fd</dt>\n",
       "\t\t<dd>FALSE</dd>\n",
       "\t<dt>./SpamAssassinMessages//messages/easy_ham/00027.4d456dd9ce0afde7629f94dc3034e0bb</dt>\n",
       "\t\t<dd>FALSE</dd>\n",
       "\t<dt>./SpamAssassinMessages//messages/easy_ham/00068.5053f669dda8f920e5300ed327cdd986</dt>\n",
       "\t\t<dd>FALSE</dd>\n",
       "\t<dt>./SpamAssassinMessages//messages/easy_ham/00069.1477f740f56d3e0bd132ad70993edda5</dt>\n",
       "\t\t<dd>FALSE</dd>\n",
       "\t<dt>./SpamAssassinMessages//messages/easy_ham/00329.84bd9e3cd5592c4335ded8736acbccae</dt>\n",
       "\t\t<dd>FALSE</dd>\n",
       "\t<dt>./SpamAssassinMessages//messages/easy_ham/00404.fb2c69f7df37b12bc62737254d0ea36a</dt>\n",
       "\t\t<dd>FALSE</dd>\n",
       "\t<dt>./SpamAssassinMessages//messages/easy_ham/00427.49db73be9017efca7355ee80f173a26c</dt>\n",
       "\t\t<dd>FALSE</dd>\n",
       "\t<dt>./SpamAssassinMessages//messages/easy_ham/00516.139a390f9320423395da77f14f7118db</dt>\n",
       "\t\t<dd>FALSE</dd>\n",
       "\t<dt>./SpamAssassinMessages//messages/easy_ham/00852.8be48f515c9ecb089aa3fc5983eaf038</dt>\n",
       "\t\t<dd>FALSE</dd>\n",
       "\t<dt>./SpamAssassinMessages//messages/easy_ham/00971.5b0ba338d08a9077b1256678781e4a93</dt>\n",
       "\t\t<dd>FALSE</dd>\n",
       "</dl>\n"
      ],
      "text/latex": [
       "\\begin{description*}\n",
       "\\item[./SpamAssassinMessages//messages/easy\\textbackslash{}\\_ham/00001.7c53336b37003a9286aba55d2945844c] FALSE\n",
       "\\item[./SpamAssassinMessages//messages/easy\\textbackslash{}\\_ham/00002.9c4069e25e1ef370c078db7ee85ff9ac] FALSE\n",
       "\\item[./SpamAssassinMessages//messages/easy\\textbackslash{}\\_ham/00003.860e3c3cee1b42ead714c5c874fe25f7] FALSE\n",
       "\\item[./SpamAssassinMessages//messages/easy\\textbackslash{}\\_ham/00004.864220c5b6930b209cc287c361c99af1] FALSE\n",
       "\\item[./SpamAssassinMessages//messages/easy\\textbackslash{}\\_ham/00005.bf27cdeaf0b8c4647ecd61b1d09da613] FALSE\n",
       "\\item[./SpamAssassinMessages//messages/easy\\textbackslash{}\\_ham/00015.4d7026347ba7478c9db04c70913e68fd] FALSE\n",
       "\\item[./SpamAssassinMessages//messages/easy\\textbackslash{}\\_ham/00027.4d456dd9ce0afde7629f94dc3034e0bb] FALSE\n",
       "\\item[./SpamAssassinMessages//messages/easy\\textbackslash{}\\_ham/00068.5053f669dda8f920e5300ed327cdd986] FALSE\n",
       "\\item[./SpamAssassinMessages//messages/easy\\textbackslash{}\\_ham/00069.1477f740f56d3e0bd132ad70993edda5] FALSE\n",
       "\\item[./SpamAssassinMessages//messages/easy\\textbackslash{}\\_ham/00329.84bd9e3cd5592c4335ded8736acbccae] FALSE\n",
       "\\item[./SpamAssassinMessages//messages/easy\\textbackslash{}\\_ham/00404.fb2c69f7df37b12bc62737254d0ea36a] FALSE\n",
       "\\item[./SpamAssassinMessages//messages/easy\\textbackslash{}\\_ham/00427.49db73be9017efca7355ee80f173a26c] FALSE\n",
       "\\item[./SpamAssassinMessages//messages/easy\\textbackslash{}\\_ham/00516.139a390f9320423395da77f14f7118db] FALSE\n",
       "\\item[./SpamAssassinMessages//messages/easy\\textbackslash{}\\_ham/00852.8be48f515c9ecb089aa3fc5983eaf038] FALSE\n",
       "\\item[./SpamAssassinMessages//messages/easy\\textbackslash{}\\_ham/00971.5b0ba338d08a9077b1256678781e4a93] FALSE\n",
       "\\end{description*}\n"
      ],
      "text/markdown": [
       "./SpamAssassinMessages//messages/easy_ham/00001.7c53336b37003a9286aba55d2945844c\n",
       ":   FALSE./SpamAssassinMessages//messages/easy_ham/00002.9c4069e25e1ef370c078db7ee85ff9ac\n",
       ":   FALSE./SpamAssassinMessages//messages/easy_ham/00003.860e3c3cee1b42ead714c5c874fe25f7\n",
       ":   FALSE./SpamAssassinMessages//messages/easy_ham/00004.864220c5b6930b209cc287c361c99af1\n",
       ":   FALSE./SpamAssassinMessages//messages/easy_ham/00005.bf27cdeaf0b8c4647ecd61b1d09da613\n",
       ":   FALSE./SpamAssassinMessages//messages/easy_ham/00015.4d7026347ba7478c9db04c70913e68fd\n",
       ":   FALSE./SpamAssassinMessages//messages/easy_ham/00027.4d456dd9ce0afde7629f94dc3034e0bb\n",
       ":   FALSE./SpamAssassinMessages//messages/easy_ham/00068.5053f669dda8f920e5300ed327cdd986\n",
       ":   FALSE./SpamAssassinMessages//messages/easy_ham/00069.1477f740f56d3e0bd132ad70993edda5\n",
       ":   FALSE./SpamAssassinMessages//messages/easy_ham/00329.84bd9e3cd5592c4335ded8736acbccae\n",
       ":   FALSE./SpamAssassinMessages//messages/easy_ham/00404.fb2c69f7df37b12bc62737254d0ea36a\n",
       ":   FALSE./SpamAssassinMessages//messages/easy_ham/00427.49db73be9017efca7355ee80f173a26c\n",
       ":   FALSE./SpamAssassinMessages//messages/easy_ham/00516.139a390f9320423395da77f14f7118db\n",
       ":   FALSE./SpamAssassinMessages//messages/easy_ham/00852.8be48f515c9ecb089aa3fc5983eaf038\n",
       ":   FALSE./SpamAssassinMessages//messages/easy_ham/00971.5b0ba338d08a9077b1256678781e4a93\n",
       ":   FALSE\n",
       "\n"
      ],
      "text/plain": [
       "./SpamAssassinMessages//messages/easy_ham/00001.7c53336b37003a9286aba55d2945844c \n",
       "                                                                           FALSE \n",
       "./SpamAssassinMessages//messages/easy_ham/00002.9c4069e25e1ef370c078db7ee85ff9ac \n",
       "                                                                           FALSE \n",
       "./SpamAssassinMessages//messages/easy_ham/00003.860e3c3cee1b42ead714c5c874fe25f7 \n",
       "                                                                           FALSE \n",
       "./SpamAssassinMessages//messages/easy_ham/00004.864220c5b6930b209cc287c361c99af1 \n",
       "                                                                           FALSE \n",
       "./SpamAssassinMessages//messages/easy_ham/00005.bf27cdeaf0b8c4647ecd61b1d09da613 \n",
       "                                                                           FALSE \n",
       "./SpamAssassinMessages//messages/easy_ham/00015.4d7026347ba7478c9db04c70913e68fd \n",
       "                                                                           FALSE \n",
       "./SpamAssassinMessages//messages/easy_ham/00027.4d456dd9ce0afde7629f94dc3034e0bb \n",
       "                                                                           FALSE \n",
       "./SpamAssassinMessages//messages/easy_ham/00068.5053f669dda8f920e5300ed327cdd986 \n",
       "                                                                           FALSE \n",
       "./SpamAssassinMessages//messages/easy_ham/00069.1477f740f56d3e0bd132ad70993edda5 \n",
       "                                                                           FALSE \n",
       "./SpamAssassinMessages//messages/easy_ham/00329.84bd9e3cd5592c4335ded8736acbccae \n",
       "                                                                           FALSE \n",
       "./SpamAssassinMessages//messages/easy_ham/00404.fb2c69f7df37b12bc62737254d0ea36a \n",
       "                                                                           FALSE \n",
       "./SpamAssassinMessages//messages/easy_ham/00427.49db73be9017efca7355ee80f173a26c \n",
       "                                                                           FALSE \n",
       "./SpamAssassinMessages//messages/easy_ham/00516.139a390f9320423395da77f14f7118db \n",
       "                                                                           FALSE \n",
       "./SpamAssassinMessages//messages/easy_ham/00852.8be48f515c9ecb089aa3fc5983eaf038 \n",
       "                                                                           FALSE \n",
       "./SpamAssassinMessages//messages/easy_ham/00971.5b0ba338d08a9077b1256678781e4a93 \n",
       "                                                                           FALSE "
      ]
     },
     "metadata": {},
     "output_type": "display_data"
    }
   ],
   "source": [
    "header = sampleSplit[[1]]$header\n",
    "grep(\"Content-Type\", header)\n",
    "\n",
    "grep(\"multi\", tolower(header[46]))\n",
    "\n",
    "header[46]\n",
    "\n",
    "headerList = lapply(sampleSplit, function(msg) msg$header)\n",
    "CTloc = sapply(headerList, grep, pattern = \"Content-Type\")\n",
    "CTloc\n",
    "\n",
    "sapply(headerList, function(header) {\n",
    "                       CTloc = grep(\"Content-Type\", header)\n",
    "                       if (length(CTloc) == 0) return(NA)\n",
    "                       CTloc\n",
    "                   })\n",
    "\n",
    "hasAttach = sapply(headerList, function(header) {\n",
    "  CTloc = grep(\"Content-Type\", header)\n",
    "  if (length(CTloc) == 0) return(FALSE)\n",
    "  grepl(\"multi\", tolower(header[CTloc])) \n",
    "})\n",
    "\n",
    "hasAttach\n"
   ]
  },
  {
   "cell_type": "code",
   "execution_count": 9,
   "metadata": {},
   "outputs": [
    {
     "data": {
      "text/html": [],
      "text/latex": [],
      "text/markdown": [],
      "text/plain": [
       "character(0)"
      ]
     },
     "metadata": {},
     "output_type": "display_data"
    },
    {
     "data": {
      "text/html": [],
      "text/latex": [],
      "text/markdown": [],
      "text/plain": [
       "character(0)"
      ]
     },
     "metadata": {},
     "output_type": "display_data"
    },
    {
     "data": {
      "text/html": [],
      "text/latex": [],
      "text/markdown": [],
      "text/plain": [
       "character(0)"
      ]
     },
     "metadata": {},
     "output_type": "display_data"
    }
   ],
   "source": [
    "header = sampleSplit[[6]]$header\n",
    "boundaryIdx = grep(\"boundary=\", header)\n",
    "header[boundaryIdx]\n",
    "\n",
    "sub(\".*boundary=\\\"(.*)\\\";.*\", \"\\\\1\", header[boundaryIdx])\n",
    "\n",
    "header2 = headerList[[9]]\n",
    "boundaryIdx2 = grep(\"boundary=\", header2)\n",
    "header2[boundaryIdx2]"
   ]
  },
  {
   "cell_type": "code",
   "execution_count": 10,
   "metadata": {},
   "outputs": [
    {
     "data": {
      "text/html": [],
      "text/latex": [],
      "text/markdown": [],
      "text/plain": [
       "character(0)"
      ]
     },
     "metadata": {},
     "output_type": "display_data"
    },
    {
     "data": {
      "text/html": [],
      "text/latex": [],
      "text/markdown": [],
      "text/plain": [
       "character(0)"
      ]
     },
     "metadata": {},
     "output_type": "display_data"
    },
    {
     "data": {
      "text/html": [],
      "text/latex": [],
      "text/markdown": [],
      "text/plain": [
       "character(0)"
      ]
     },
     "metadata": {},
     "output_type": "display_data"
    },
    {
     "data": {
      "text/html": [],
      "text/latex": [],
      "text/markdown": [],
      "text/plain": [
       "character(0)"
      ]
     },
     "metadata": {},
     "output_type": "display_data"
    },
    {
     "data": {
      "text/html": [
       "<ol class=list-inline>\n",
       "\t<li>'SpamAssassin is hurting democracy!'</li>\n",
       "\t<li>'Owen'</li>\n",
       "\t<li>'---------------------------------------------------------------------------------------------------------------------'</li>\n",
       "\t<li>''</li>\n",
       "\t<li>'http://www.bayarea.com/mld/mercurynews/news/opinion/3900215.htm'</li>\n",
       "\t<li>''</li>\n",
       "\t<li>'Internet can level the political playing field'</li>\n",
       "\t<li>'By Mike McCurry and Larry Purpuro'</li>\n",
       "\t<li>''</li>\n",
       "\t<li>'NOT many months from now, people across the country will experience one '</li>\n",
       "\t<li>'of the great recurring features of American democracy. At shopping '</li>\n",
       "\t<li>'malls, on factory floors, at church socials and even on our front '</li>\n",
       "\t<li>'stoops, we will be approached by individuals who want to represent us in '</li>\n",
       "\t<li>'public office. While chances are high that we won\\'t know them '</li>\n",
       "\t<li>'personally, they will walk up to us, offer a handshake and a flier and '</li>\n",
       "\t<li>'ask for our votes.'</li>\n",
       "\t<li>''</li>\n",
       "\t<li>'Just as technology is affecting every other area of communication, it '</li>\n",
       "\t<li>'has begun to affect the way political candidates communicate with voters.'</li>\n",
       "\t<li>''</li>\n",
       "\t<li>'In this year\\'s GOP gubernatorial primary, California Secretary of State '</li>\n",
       "\t<li>'Bill Jones, who faced better-funded candidates, acquired the e-mail '</li>\n",
       "\t<li>'addresses of more than a million potential California voters and sent '</li>\n",
       "\t<li>'each an unsolicited e-mail asking for support.'</li>\n",
       "\t<li>''</li>\n",
       "\t<li>'That day, he might have chosen any of the more traditional -- and more '</li>\n",
       "\t<li>'expensive -- methods of contacting voters, such as direct mail, radio '</li>\n",
       "\t<li>'spots or TV ads. But he spent only about 2 cents per message, instead of '</li>\n",
       "\t<li>'35 cents or more per message for direct mail or in another medium.'</li>\n",
       "\t<li>''</li>\n",
       "\t<li>'Had Jones chosen direct mail, radio or TV, that communication would have '</li>\n",
       "\t<li>'been equally ``unsolicited,\\'\\' as defined in the e-mail world. Few voters '</li>\n",
       "\t<li>'would have ``opted in\\'\\' to receive campaign information from Jones '</li>\n",
       "\t<li>'through any of those channels.'</li>\n",
       "\t<li>''</li>\n",
       "\t<li>'The response to Jones\\' e-mail effort, however, was swift and intense. He '</li>\n",
       "\t<li>'was lambasted by anti-spam advocates, and media coverage was almost '</li>\n",
       "\t<li>'entirely negative. To be fair, some of Jones\\' tactics could have been '</li>\n",
       "\t<li>'refined. He used a less-than-perfect list and no standard-practice '</li>\n",
       "\t<li>'``paid for\\'\\' disclaimer in the message.'</li>\n",
       "\t<li>''</li>\n",
       "\t<li>'His detractors, however, attacked him not for his tactical miscues but '</li>\n",
       "\t<li>'because the e-mail was sent unsolicited. In fact, Jones\\' online campaign '</li>\n",
       "\t<li>'may have been his most visible asset. In an era of cynicism toward money '</li>\n",
       "\t<li>'in politics -- money typically spent on other unsolicited communication '</li>\n",
       "\t<li>'mediums -- Jones tried to level the playing field.'</li>\n",
       "\t<li>''</li>\n",
       "\t<li>'No one likes commercial spam. It is irrelevant and untargeted and can be '</li>\n",
       "\t<li>'highly intrusive and even offensive. But as a sophisticated society, '</li>\n",
       "\t<li>'it\\'s time to differentiate commercial spam from very different '</li>\n",
       "\t<li>'unsolicited e-mail sent by political candidates to voters.'</li>\n",
       "\t<li>''</li>\n",
       "\t<li>'The debate is particularly relevant in light of legislation in Congress '</li>\n",
       "\t<li>'that would constitute the first federal law to directly address spam. We '</li>\n",
       "\t<li>'believe e-mail is no more intrusive than direct mail, telemarketing or '</li>\n",
       "\t<li>'TV advertising when it comes to politicians seeking to reach voters. A '</li>\n",
       "\t<li>'simple link in good e-mail campaigns allows recipients to opt out of '</li>\n",
       "\t<li>'future mailings. Direct mail takes at least a phone call or stamp to be '</li>\n",
       "\t<li>'taken off a list, and viewers must repeatedly endure TV ads.'</li>\n",
       "\t<li>''</li>\n",
       "\t<li>'When a candidate lacks a large campaign war chest, he or she can use the '</li>\n",
       "\t<li>'Internet to provide constituents with information to better prepare them '</li>\n",
       "\t<li>'to perform their civic duty of casting educated votes. With more than 60 '</li>\n",
       "\t<li>'percent of all potential voters in this country possessing e-mail '</li>\n",
       "\t<li>'accounts, it makes sense that political candidates use this medium.'</li>\n",
       "\t<li>''</li>\n",
       "\t<li>'Candidates might avoid some of the tactical problems encountered by the '</li>\n",
       "\t<li>'Jones campaign if they use the technologies available today that better '</li>\n",
       "\t<li>'ensure quality of e-mail lists and target content to specific recipient '</li>\n",
       "\t<li>'groups.'</li>\n",
       "\t<li>''</li>\n",
       "\t<li>'But the broader point remains. When a political candidate sends a voter '</li>\n",
       "\t<li>'an e-mail, that recipient can choose to delete the message without '</li>\n",
       "\t<li>'opening it, unsubscribe from the list, read it or even reply and engage '</li>\n",
       "\t<li>'the sender. That choice should belong to the voter -- not to anti-spam '</li>\n",
       "\t<li>'advocates whose efforts are better focused on commercial e-mail. '</li>\n",
       "\t<li>'Political candidates should be free to communicate with voters as best '</li>\n",
       "\t<li>'they can, and let voters decide what to do with that information.'</li>\n",
       "\t<li>''</li>\n",
       "\t<li>''</li>\n",
       "\t<li>'--------------------------------------------------------------------------------'</li>\n",
       "\t<li>'Mike McCurry, former press secretary for President Clinton, is CEO of an '</li>\n",
       "\t<li>'advocacy management and communications software company. Larry Purpuro, '</li>\n",
       "\t<li>'the former Republican National Committee deputy chief of staff, is '</li>\n",
       "\t<li>'founder and president of a political e-marketing firm. This was written '</li>\n",
       "\t<li>'for the Los Angeles Times. '</li>\n",
       "\t<li>''</li>\n",
       "\t<li>'http://xent.com/mailman/listinfo/fork'</li>\n",
       "\t<li>''</li>\n",
       "</ol>\n"
      ],
      "text/latex": [
       "\\begin{enumerate*}\n",
       "\\item 'SpamAssassin is hurting democracy!'\n",
       "\\item 'Owen'\n",
       "\\item '---------------------------------------------------------------------------------------------------------------------'\n",
       "\\item ''\n",
       "\\item 'http://www.bayarea.com/mld/mercurynews/news/opinion/3900215.htm'\n",
       "\\item ''\n",
       "\\item 'Internet can level the political playing field'\n",
       "\\item 'By Mike McCurry and Larry Purpuro'\n",
       "\\item ''\n",
       "\\item 'NOT many months from now, people across the country will experience one '\n",
       "\\item 'of the great recurring features of American democracy. At shopping '\n",
       "\\item 'malls, on factory floors, at church socials and even on our front '\n",
       "\\item 'stoops, we will be approached by individuals who want to represent us in '\n",
       "\\item 'public office. While chances are high that we won\\textbackslash{}'t know them '\n",
       "\\item 'personally, they will walk up to us, offer a handshake and a flier and '\n",
       "\\item 'ask for our votes.'\n",
       "\\item ''\n",
       "\\item 'Just as technology is affecting every other area of communication, it '\n",
       "\\item 'has begun to affect the way political candidates communicate with voters.'\n",
       "\\item ''\n",
       "\\item 'In this year\\textbackslash{}'s GOP gubernatorial primary, California Secretary of State '\n",
       "\\item 'Bill Jones, who faced better-funded candidates, acquired the e-mail '\n",
       "\\item 'addresses of more than a million potential California voters and sent '\n",
       "\\item 'each an unsolicited e-mail asking for support.'\n",
       "\\item ''\n",
       "\\item 'That day, he might have chosen any of the more traditional -- and more '\n",
       "\\item 'expensive -- methods of contacting voters, such as direct mail, radio '\n",
       "\\item 'spots or TV ads. But he spent only about 2 cents per message, instead of '\n",
       "\\item '35 cents or more per message for direct mail or in another medium.'\n",
       "\\item ''\n",
       "\\item 'Had Jones chosen direct mail, radio or TV, that communication would have '\n",
       "\\item 'been equally ``unsolicited,\\textbackslash{}'\\textbackslash{}' as defined in the e-mail world. Few voters '\n",
       "\\item 'would have ``opted in\\textbackslash{}'\\textbackslash{}' to receive campaign information from Jones '\n",
       "\\item 'through any of those channels.'\n",
       "\\item ''\n",
       "\\item 'The response to Jones\\textbackslash{}' e-mail effort, however, was swift and intense. He '\n",
       "\\item 'was lambasted by anti-spam advocates, and media coverage was almost '\n",
       "\\item 'entirely negative. To be fair, some of Jones\\textbackslash{}' tactics could have been '\n",
       "\\item 'refined. He used a less-than-perfect list and no standard-practice '\n",
       "\\item '``paid for\\textbackslash{}'\\textbackslash{}' disclaimer in the message.'\n",
       "\\item ''\n",
       "\\item 'His detractors, however, attacked him not for his tactical miscues but '\n",
       "\\item 'because the e-mail was sent unsolicited. In fact, Jones\\textbackslash{}' online campaign '\n",
       "\\item 'may have been his most visible asset. In an era of cynicism toward money '\n",
       "\\item 'in politics -- money typically spent on other unsolicited communication '\n",
       "\\item 'mediums -- Jones tried to level the playing field.'\n",
       "\\item ''\n",
       "\\item 'No one likes commercial spam. It is irrelevant and untargeted and can be '\n",
       "\\item 'highly intrusive and even offensive. But as a sophisticated society, '\n",
       "\\item 'it\\textbackslash{}'s time to differentiate commercial spam from very different '\n",
       "\\item 'unsolicited e-mail sent by political candidates to voters.'\n",
       "\\item ''\n",
       "\\item 'The debate is particularly relevant in light of legislation in Congress '\n",
       "\\item 'that would constitute the first federal law to directly address spam. We '\n",
       "\\item 'believe e-mail is no more intrusive than direct mail, telemarketing or '\n",
       "\\item 'TV advertising when it comes to politicians seeking to reach voters. A '\n",
       "\\item 'simple link in good e-mail campaigns allows recipients to opt out of '\n",
       "\\item 'future mailings. Direct mail takes at least a phone call or stamp to be '\n",
       "\\item 'taken off a list, and viewers must repeatedly endure TV ads.'\n",
       "\\item ''\n",
       "\\item 'When a candidate lacks a large campaign war chest, he or she can use the '\n",
       "\\item 'Internet to provide constituents with information to better prepare them '\n",
       "\\item 'to perform their civic duty of casting educated votes. With more than 60 '\n",
       "\\item 'percent of all potential voters in this country possessing e-mail '\n",
       "\\item 'accounts, it makes sense that political candidates use this medium.'\n",
       "\\item ''\n",
       "\\item 'Candidates might avoid some of the tactical problems encountered by the '\n",
       "\\item 'Jones campaign if they use the technologies available today that better '\n",
       "\\item 'ensure quality of e-mail lists and target content to specific recipient '\n",
       "\\item 'groups.'\n",
       "\\item ''\n",
       "\\item 'But the broader point remains. When a political candidate sends a voter '\n",
       "\\item 'an e-mail, that recipient can choose to delete the message without '\n",
       "\\item 'opening it, unsubscribe from the list, read it or even reply and engage '\n",
       "\\item 'the sender. That choice should belong to the voter -- not to anti-spam '\n",
       "\\item 'advocates whose efforts are better focused on commercial e-mail. '\n",
       "\\item 'Political candidates should be free to communicate with voters as best '\n",
       "\\item 'they can, and let voters decide what to do with that information.'\n",
       "\\item ''\n",
       "\\item ''\n",
       "\\item '--------------------------------------------------------------------------------'\n",
       "\\item 'Mike McCurry, former press secretary for President Clinton, is CEO of an '\n",
       "\\item 'advocacy management and communications software company. Larry Purpuro, '\n",
       "\\item 'the former Republican National Committee deputy chief of staff, is '\n",
       "\\item 'founder and president of a political e-marketing firm. This was written '\n",
       "\\item 'for the Los Angeles Times. '\n",
       "\\item ''\n",
       "\\item 'http://xent.com/mailman/listinfo/fork'\n",
       "\\item ''\n",
       "\\end{enumerate*}\n"
      ],
      "text/markdown": [
       "1. 'SpamAssassin is hurting democracy!'\n",
       "2. 'Owen'\n",
       "3. '---------------------------------------------------------------------------------------------------------------------'\n",
       "4. ''\n",
       "5. 'http://www.bayarea.com/mld/mercurynews/news/opinion/3900215.htm'\n",
       "6. ''\n",
       "7. 'Internet can level the political playing field'\n",
       "8. 'By Mike McCurry and Larry Purpuro'\n",
       "9. ''\n",
       "10. 'NOT many months from now, people across the country will experience one '\n",
       "11. 'of the great recurring features of American democracy. At shopping '\n",
       "12. 'malls, on factory floors, at church socials and even on our front '\n",
       "13. 'stoops, we will be approached by individuals who want to represent us in '\n",
       "14. 'public office. While chances are high that we won\\'t know them '\n",
       "15. 'personally, they will walk up to us, offer a handshake and a flier and '\n",
       "16. 'ask for our votes.'\n",
       "17. ''\n",
       "18. 'Just as technology is affecting every other area of communication, it '\n",
       "19. 'has begun to affect the way political candidates communicate with voters.'\n",
       "20. ''\n",
       "21. 'In this year\\'s GOP gubernatorial primary, California Secretary of State '\n",
       "22. 'Bill Jones, who faced better-funded candidates, acquired the e-mail '\n",
       "23. 'addresses of more than a million potential California voters and sent '\n",
       "24. 'each an unsolicited e-mail asking for support.'\n",
       "25. ''\n",
       "26. 'That day, he might have chosen any of the more traditional -- and more '\n",
       "27. 'expensive -- methods of contacting voters, such as direct mail, radio '\n",
       "28. 'spots or TV ads. But he spent only about 2 cents per message, instead of '\n",
       "29. '35 cents or more per message for direct mail or in another medium.'\n",
       "30. ''\n",
       "31. 'Had Jones chosen direct mail, radio or TV, that communication would have '\n",
       "32. 'been equally ``unsolicited,\\'\\' as defined in the e-mail world. Few voters '\n",
       "33. 'would have ``opted in\\'\\' to receive campaign information from Jones '\n",
       "34. 'through any of those channels.'\n",
       "35. ''\n",
       "36. 'The response to Jones\\' e-mail effort, however, was swift and intense. He '\n",
       "37. 'was lambasted by anti-spam advocates, and media coverage was almost '\n",
       "38. 'entirely negative. To be fair, some of Jones\\' tactics could have been '\n",
       "39. 'refined. He used a less-than-perfect list and no standard-practice '\n",
       "40. '``paid for\\'\\' disclaimer in the message.'\n",
       "41. ''\n",
       "42. 'His detractors, however, attacked him not for his tactical miscues but '\n",
       "43. 'because the e-mail was sent unsolicited. In fact, Jones\\' online campaign '\n",
       "44. 'may have been his most visible asset. In an era of cynicism toward money '\n",
       "45. 'in politics -- money typically spent on other unsolicited communication '\n",
       "46. 'mediums -- Jones tried to level the playing field.'\n",
       "47. ''\n",
       "48. 'No one likes commercial spam. It is irrelevant and untargeted and can be '\n",
       "49. 'highly intrusive and even offensive. But as a sophisticated society, '\n",
       "50. 'it\\'s time to differentiate commercial spam from very different '\n",
       "51. 'unsolicited e-mail sent by political candidates to voters.'\n",
       "52. ''\n",
       "53. 'The debate is particularly relevant in light of legislation in Congress '\n",
       "54. 'that would constitute the first federal law to directly address spam. We '\n",
       "55. 'believe e-mail is no more intrusive than direct mail, telemarketing or '\n",
       "56. 'TV advertising when it comes to politicians seeking to reach voters. A '\n",
       "57. 'simple link in good e-mail campaigns allows recipients to opt out of '\n",
       "58. 'future mailings. Direct mail takes at least a phone call or stamp to be '\n",
       "59. 'taken off a list, and viewers must repeatedly endure TV ads.'\n",
       "60. ''\n",
       "61. 'When a candidate lacks a large campaign war chest, he or she can use the '\n",
       "62. 'Internet to provide constituents with information to better prepare them '\n",
       "63. 'to perform their civic duty of casting educated votes. With more than 60 '\n",
       "64. 'percent of all potential voters in this country possessing e-mail '\n",
       "65. 'accounts, it makes sense that political candidates use this medium.'\n",
       "66. ''\n",
       "67. 'Candidates might avoid some of the tactical problems encountered by the '\n",
       "68. 'Jones campaign if they use the technologies available today that better '\n",
       "69. 'ensure quality of e-mail lists and target content to specific recipient '\n",
       "70. 'groups.'\n",
       "71. ''\n",
       "72. 'But the broader point remains. When a political candidate sends a voter '\n",
       "73. 'an e-mail, that recipient can choose to delete the message without '\n",
       "74. 'opening it, unsubscribe from the list, read it or even reply and engage '\n",
       "75. 'the sender. That choice should belong to the voter -- not to anti-spam '\n",
       "76. 'advocates whose efforts are better focused on commercial e-mail. '\n",
       "77. 'Political candidates should be free to communicate with voters as best '\n",
       "78. 'they can, and let voters decide what to do with that information.'\n",
       "79. ''\n",
       "80. ''\n",
       "81. '--------------------------------------------------------------------------------'\n",
       "82. 'Mike McCurry, former press secretary for President Clinton, is CEO of an '\n",
       "83. 'advocacy management and communications software company. Larry Purpuro, '\n",
       "84. 'the former Republican National Committee deputy chief of staff, is '\n",
       "85. 'founder and president of a political e-marketing firm. This was written '\n",
       "86. 'for the Los Angeles Times. '\n",
       "87. ''\n",
       "88. 'http://xent.com/mailman/listinfo/fork'\n",
       "89. ''\n",
       "\n",
       "\n"
      ],
      "text/plain": [
       " [1] \"SpamAssassin is hurting democracy!\"                                                                                   \n",
       " [2] \"Owen\"                                                                                                                 \n",
       " [3] \"---------------------------------------------------------------------------------------------------------------------\"\n",
       " [4] \"\"                                                                                                                     \n",
       " [5] \"http://www.bayarea.com/mld/mercurynews/news/opinion/3900215.htm\"                                                      \n",
       " [6] \"\"                                                                                                                     \n",
       " [7] \"Internet can level the political playing field\"                                                                       \n",
       " [8] \"By Mike McCurry and Larry Purpuro\"                                                                                    \n",
       " [9] \"\"                                                                                                                     \n",
       "[10] \"NOT many months from now, people across the country will experience one \"                                             \n",
       "[11] \"of the great recurring features of American democracy. At shopping \"                                                  \n",
       "[12] \"malls, on factory floors, at church socials and even on our front \"                                                   \n",
       "[13] \"stoops, we will be approached by individuals who want to represent us in \"                                            \n",
       "[14] \"public office. While chances are high that we won't know them \"                                                       \n",
       "[15] \"personally, they will walk up to us, offer a handshake and a flier and \"                                              \n",
       "[16] \"ask for our votes.\"                                                                                                   \n",
       "[17] \"\"                                                                                                                     \n",
       "[18] \"Just as technology is affecting every other area of communication, it \"                                               \n",
       "[19] \"has begun to affect the way political candidates communicate with voters.\"                                            \n",
       "[20] \"\"                                                                                                                     \n",
       "[21] \"In this year's GOP gubernatorial primary, California Secretary of State \"                                             \n",
       "[22] \"Bill Jones, who faced better-funded candidates, acquired the e-mail \"                                                 \n",
       "[23] \"addresses of more than a million potential California voters and sent \"                                               \n",
       "[24] \"each an unsolicited e-mail asking for support.\"                                                                       \n",
       "[25] \"\"                                                                                                                     \n",
       "[26] \"That day, he might have chosen any of the more traditional -- and more \"                                              \n",
       "[27] \"expensive -- methods of contacting voters, such as direct mail, radio \"                                               \n",
       "[28] \"spots or TV ads. But he spent only about 2 cents per message, instead of \"                                            \n",
       "[29] \"35 cents or more per message for direct mail or in another medium.\"                                                   \n",
       "[30] \"\"                                                                                                                     \n",
       "[31] \"Had Jones chosen direct mail, radio or TV, that communication would have \"                                            \n",
       "[32] \"been equally ``unsolicited,'' as defined in the e-mail world. Few voters \"                                            \n",
       "[33] \"would have ``opted in'' to receive campaign information from Jones \"                                                  \n",
       "[34] \"through any of those channels.\"                                                                                       \n",
       "[35] \"\"                                                                                                                     \n",
       "[36] \"The response to Jones' e-mail effort, however, was swift and intense. He \"                                            \n",
       "[37] \"was lambasted by anti-spam advocates, and media coverage was almost \"                                                 \n",
       "[38] \"entirely negative. To be fair, some of Jones' tactics could have been \"                                               \n",
       "[39] \"refined. He used a less-than-perfect list and no standard-practice \"                                                  \n",
       "[40] \"``paid for'' disclaimer in the message.\"                                                                              \n",
       "[41] \"\"                                                                                                                     \n",
       "[42] \"His detractors, however, attacked him not for his tactical miscues but \"                                              \n",
       "[43] \"because the e-mail was sent unsolicited. In fact, Jones' online campaign \"                                            \n",
       "[44] \"may have been his most visible asset. In an era of cynicism toward money \"                                            \n",
       "[45] \"in politics -- money typically spent on other unsolicited communication \"                                             \n",
       "[46] \"mediums -- Jones tried to level the playing field.\"                                                                   \n",
       "[47] \"\"                                                                                                                     \n",
       "[48] \"No one likes commercial spam. It is irrelevant and untargeted and can be \"                                            \n",
       "[49] \"highly intrusive and even offensive. But as a sophisticated society, \"                                                \n",
       "[50] \"it's time to differentiate commercial spam from very different \"                                                      \n",
       "[51] \"unsolicited e-mail sent by political candidates to voters.\"                                                           \n",
       "[52] \"\"                                                                                                                     \n",
       "[53] \"The debate is particularly relevant in light of legislation in Congress \"                                             \n",
       "[54] \"that would constitute the first federal law to directly address spam. We \"                                            \n",
       "[55] \"believe e-mail is no more intrusive than direct mail, telemarketing or \"                                              \n",
       "[56] \"TV advertising when it comes to politicians seeking to reach voters. A \"                                              \n",
       "[57] \"simple link in good e-mail campaigns allows recipients to opt out of \"                                                \n",
       "[58] \"future mailings. Direct mail takes at least a phone call or stamp to be \"                                             \n",
       "[59] \"taken off a list, and viewers must repeatedly endure TV ads.\"                                                         \n",
       "[60] \"\"                                                                                                                     \n",
       "[61] \"When a candidate lacks a large campaign war chest, he or she can use the \"                                            \n",
       "[62] \"Internet to provide constituents with information to better prepare them \"                                            \n",
       "[63] \"to perform their civic duty of casting educated votes. With more than 60 \"                                            \n",
       "[64] \"percent of all potential voters in this country possessing e-mail \"                                                   \n",
       "[65] \"accounts, it makes sense that political candidates use this medium.\"                                                  \n",
       "[66] \"\"                                                                                                                     \n",
       "[67] \"Candidates might avoid some of the tactical problems encountered by the \"                                             \n",
       "[68] \"Jones campaign if they use the technologies available today that better \"                                             \n",
       "[69] \"ensure quality of e-mail lists and target content to specific recipient \"                                             \n",
       "[70] \"groups.\"                                                                                                              \n",
       "[71] \"\"                                                                                                                     \n",
       "[72] \"But the broader point remains. When a political candidate sends a voter \"                                             \n",
       "[73] \"an e-mail, that recipient can choose to delete the message without \"                                                  \n",
       "[74] \"opening it, unsubscribe from the list, read it or even reply and engage \"                                             \n",
       "[75] \"the sender. That choice should belong to the voter -- not to anti-spam \"                                              \n",
       "[76] \"advocates whose efforts are better focused on commercial e-mail. \"                                                    \n",
       "[77] \"Political candidates should be free to communicate with voters as best \"                                              \n",
       "[78] \"they can, and let voters decide what to do with that information.\"                                                    \n",
       "[79] \"\"                                                                                                                     \n",
       "[80] \"\"                                                                                                                     \n",
       "[81] \"--------------------------------------------------------------------------------\"                                     \n",
       "[82] \"Mike McCurry, former press secretary for President Clinton, is CEO of an \"                                            \n",
       "[83] \"advocacy management and communications software company. Larry Purpuro, \"                                             \n",
       "[84] \"the former Republican National Committee deputy chief of staff, is \"                                                  \n",
       "[85] \"founder and president of a political e-marketing firm. This was written \"                                             \n",
       "[86] \"for the Los Angeles Times. \"                                                                                          \n",
       "[87] \"\"                                                                                                                     \n",
       "[88] \"http://xent.com/mailman/listinfo/fork\"                                                                                \n",
       "[89] \"\"                                                                                                                     "
      ]
     },
     "metadata": {},
     "output_type": "display_data"
    }
   ],
   "source": [
    "sub('.*boundary=\"(.*)\";.*', \"\\\\1\", header2[boundaryIdx2])\n",
    "\n",
    "boundary2 = gsub('\"', \"\", header2[boundaryIdx2])\n",
    "\n",
    "sub(\".*boundary= *(.*);?.*\", \"\\\\1\", boundary2)\n",
    "\n",
    "boundary = gsub('\"', \"\", header[boundaryIdx])\n",
    "sub(\".*boundary= *(.*);?.*\", \"\\\\1\", boundary)\n",
    "\n",
    "sub(\".*boundary= *([^;]*);?.*\", \"\\\\1\", boundary)\n",
    "\n",
    "getBoundary = function(header) {\n",
    "  boundaryIdx = grep(\"boundary=\", header)\n",
    "  boundary = gsub('\"', \"\", header[boundaryIdx])\n",
    "  gsub(\".*boundary= *([^;]*);?.*\", \"\\\\1\", boundary)\n",
    "}\n",
    "\n",
    "sampleSplit[[6]]$body"
   ]
  },
  {
   "cell_type": "code",
   "execution_count": 11,
   "metadata": {},
   "outputs": [
    {
     "data": {
      "text/html": [],
      "text/latex": [],
      "text/markdown": [],
      "text/plain": [
       "integer(0)"
      ]
     },
     "metadata": {},
     "output_type": "display_data"
    },
    {
     "data": {
      "text/html": [],
      "text/latex": [],
      "text/markdown": [],
      "text/plain": [
       "integer(0)"
      ]
     },
     "metadata": {},
     "output_type": "display_data"
    },
    {
     "ename": "ERROR",
     "evalue": "Error in (bStringLocs[1] + 1):(bStringLocs[2] - 1): NA/NaN argument\n",
     "output_type": "error",
     "traceback": [
      "Error in (bStringLocs[1] + 1):(bStringLocs[2] - 1): NA/NaN argument\nTraceback:\n"
     ]
    }
   ],
   "source": [
    "\n",
    "\n",
    "boundary = getBoundary(headerList[[15]]) \n",
    "body = sampleSplit[[15]]$body\n",
    "\n",
    "bString = paste(\"--\", boundary, sep = \"\")\n",
    "bStringLocs = which(bString == body)\n",
    "bStringLocs\n",
    "\n",
    "eString = paste(\"--\", boundary, \"--\", sep = \"\")\n",
    "eStringLoc = which(eString == body)\n",
    "eStringLoc\n",
    "\n",
    "msg = body[ (bStringLocs[1] + 1) : (bStringLocs[2] - 1)]\n",
    "tail(msg)\n",
    "\n",
    "msg = c(msg, body[ (eStringLoc + 1) : length(body) ])\n",
    "tail(msg)"
   ]
  },
  {
   "cell_type": "code",
   "execution_count": 12,
   "metadata": {},
   "outputs": [],
   "source": [
    "dropAttach = function(body, boundary){\n",
    "  \n",
    "  bString = paste(\"--\", boundary, sep = \"\")\n",
    "  bStringLocs = which(bString == body)\n",
    "  \n",
    "  if (length(bStringLocs) <= 1) return(body)\n",
    "  \n",
    "  eString = paste(\"--\", boundary, \"--\", sep = \"\")\n",
    "  eStringLoc = which(eString == body)\n",
    "  if (length(eStringLoc) == 0) \n",
    "    return(body[ (bStringLocs[1] + 1) : (bStringLocs[2] - 1)])\n",
    "  \n",
    "  n = length(body)\n",
    "  if (eStringLoc < n) \n",
    "     return( body[ c( (bStringLocs[1] + 1) : (bStringLocs[2] - 1), \n",
    "                    ( (eStringLoc + 1) : n )) ] )\n",
    "  \n",
    "  return( body[ (bStringLocs[1] + 1) : (bStringLocs[2] - 1) ])\n",
    "}"
   ]
  },
  {
   "cell_type": "code",
   "execution_count": 78,
   "metadata": {},
   "outputs": [
    {
     "data": {
      "text/html": [
       "<ol class=list-inline>\n",
       "\t<li><span style=white-space:pre-wrap>'    Date:        Wed, 21 Aug 2002 10:54:46 -0500'</span></li>\n",
       "\t<li><span style=white-space:pre-wrap>'    From:        Chris Garrigues &lt;cwg-dated-1030377287.06fa6d@DeepEddy.Com&gt;'</span></li>\n",
       "\t<li><span style=white-space:pre-wrap>'    Message-ID:  &lt;1029945287.4797.TMDA@deepeddy.vircio.com&gt;'</span></li>\n",
       "\t<li>''</li>\n",
       "\t<li>''</li>\n",
       "\t<li><span style=white-space:pre-wrap>'  | I can\\'t reproduce this error.'</span></li>\n",
       "</ol>\n"
      ],
      "text/latex": [
       "\\begin{enumerate*}\n",
       "\\item '    Date:        Wed, 21 Aug 2002 10:54:46 -0500'\n",
       "\\item '    From:        Chris Garrigues <cwg-dated-1030377287.06fa6d@DeepEddy.Com>'\n",
       "\\item '    Message-ID:  <1029945287.4797.TMDA@deepeddy.vircio.com>'\n",
       "\\item ''\n",
       "\\item ''\n",
       "\\item '  \\textbar{} I can\\textbackslash{}'t reproduce this error.'\n",
       "\\end{enumerate*}\n"
      ],
      "text/markdown": [
       "1. <span style=white-space:pre-wrap>'    Date:        Wed, 21 Aug 2002 10:54:46 -0500'</span>\n",
       "2. <span style=white-space:pre-wrap>'    From:        Chris Garrigues &lt;cwg-dated-1030377287.06fa6d@DeepEddy.Com&gt;'</span>\n",
       "3. <span style=white-space:pre-wrap>'    Message-ID:  &lt;1029945287.4797.TMDA@deepeddy.vircio.com&gt;'</span>\n",
       "4. ''\n",
       "5. ''\n",
       "6. <span style=white-space:pre-wrap>'  | I can\\'t reproduce this error.'</span>\n",
       "\n",
       "\n"
      ],
      "text/plain": [
       "[1] \"    Date:        Wed, 21 Aug 2002 10:54:46 -0500\"                           \n",
       "[2] \"    From:        Chris Garrigues <cwg-dated-1030377287.06fa6d@DeepEddy.Com>\"\n",
       "[3] \"    Message-ID:  <1029945287.4797.TMDA@deepeddy.vircio.com>\"                \n",
       "[4] \"\"                                                                           \n",
       "[5] \"\"                                                                           \n",
       "[6] \"  | I can't reproduce this error.\"                                          "
      ]
     },
     "metadata": {},
     "output_type": "display_data"
    },
    {
     "data": {
      "text/html": [
       "<ol class=list-inline>\n",
       "\t<li>'Man Threatens Explosion In Moscow '</li>\n",
       "\t<li>''</li>\n",
       "\t<li>'Thursday August 22, 2002 1:40 PM'</li>\n",
       "\t<li>'MOSCOW (AP) - Security officers on Thursday seized an unidentified man who'</li>\n",
       "\t<li>'said he was armed with explosives and threatened to blow up his truck in'</li>\n",
       "\t<li>'front of Russia\\'s Federal Security Services headquarters in Moscow, NTV'</li>\n",
       "</ol>\n"
      ],
      "text/latex": [
       "\\begin{enumerate*}\n",
       "\\item 'Man Threatens Explosion In Moscow '\n",
       "\\item ''\n",
       "\\item 'Thursday August 22, 2002 1:40 PM'\n",
       "\\item 'MOSCOW (AP) - Security officers on Thursday seized an unidentified man who'\n",
       "\\item 'said he was armed with explosives and threatened to blow up his truck in'\n",
       "\\item 'front of Russia\\textbackslash{}'s Federal Security Services headquarters in Moscow, NTV'\n",
       "\\end{enumerate*}\n"
      ],
      "text/markdown": [
       "1. 'Man Threatens Explosion In Moscow '\n",
       "2. ''\n",
       "3. 'Thursday August 22, 2002 1:40 PM'\n",
       "4. 'MOSCOW (AP) - Security officers on Thursday seized an unidentified man who'\n",
       "5. 'said he was armed with explosives and threatened to blow up his truck in'\n",
       "6. 'front of Russia\\'s Federal Security Services headquarters in Moscow, NTV'\n",
       "\n",
       "\n"
      ],
      "text/plain": [
       "[1] \"Man Threatens Explosion In Moscow \"                                        \n",
       "[2] \"\"                                                                          \n",
       "[3] \"Thursday August 22, 2002 1:40 PM\"                                          \n",
       "[4] \"MOSCOW (AP) - Security officers on Thursday seized an unidentified man who\"\n",
       "[5] \"said he was armed with explosives and threatened to blow up his truck in\"  \n",
       "[6] \"front of Russia's Federal Security Services headquarters in Moscow, NTV\"   "
      ]
     },
     "metadata": {},
     "output_type": "display_data"
    },
    {
     "data": {
      "text/html": [
       "<ol class=list-inline>\n",
       "\t<li>'Man Threatens Explosion In Moscow '</li>\n",
       "\t<li>'Thursday August 22, 2002 1:40 PM'</li>\n",
       "\t<li>'4 DVDs Free +s&amp;p Join Now'</li>\n",
       "\t<li>'http://us.click.yahoo.com/pt6YBB/NXiEAA/mG3HAA/7gSolB/TM'</li>\n",
       "</ol>\n"
      ],
      "text/latex": [
       "\\begin{enumerate*}\n",
       "\\item 'Man Threatens Explosion In Moscow '\n",
       "\\item 'Thursday August 22, 2002 1:40 PM'\n",
       "\\item '4 DVDs Free +s\\&p Join Now'\n",
       "\\item 'http://us.click.yahoo.com/pt6YBB/NXiEAA/mG3HAA/7gSolB/TM'\n",
       "\\end{enumerate*}\n"
      ],
      "text/markdown": [
       "1. 'Man Threatens Explosion In Moscow '\n",
       "2. 'Thursday August 22, 2002 1:40 PM'\n",
       "3. '4 DVDs Free +s&amp;p Join Now'\n",
       "4. 'http://us.click.yahoo.com/pt6YBB/NXiEAA/mG3HAA/7gSolB/TM'\n",
       "\n",
       "\n"
      ],
      "text/plain": [
       "[1] \"Man Threatens Explosion In Moscow \"                      \n",
       "[2] \"Thursday August 22, 2002 1:40 PM\"                        \n",
       "[3] \"4 DVDs Free +s&p Join Now\"                               \n",
       "[4] \"http://us.click.yahoo.com/pt6YBB/NXiEAA/mG3HAA/7gSolB/TM\""
      ]
     },
     "metadata": {},
     "output_type": "display_data"
    },
    {
     "data": {
      "text/html": [
       "<ol class=list-inline>\n",
       "\t<li>'man threatens explosion in moscow '</li>\n",
       "\t<li>'thursday august pm'</li>\n",
       "\t<li>' dvds free s p join now'</li>\n",
       "\t<li>'http us click yahoo com pt ybb nxieaa mg haa gsolb tm'</li>\n",
       "</ol>\n"
      ],
      "text/latex": [
       "\\begin{enumerate*}\n",
       "\\item 'man threatens explosion in moscow '\n",
       "\\item 'thursday august pm'\n",
       "\\item ' dvds free s p join now'\n",
       "\\item 'http us click yahoo com pt ybb nxieaa mg haa gsolb tm'\n",
       "\\end{enumerate*}\n"
      ],
      "text/markdown": [
       "1. 'man threatens explosion in moscow '\n",
       "2. 'thursday august pm'\n",
       "3. ' dvds free s p join now'\n",
       "4. 'http us click yahoo com pt ybb nxieaa mg haa gsolb tm'\n",
       "\n",
       "\n"
      ],
      "text/plain": [
       "[1] \"man threatens explosion in moscow \"                   \n",
       "[2] \"thursday august pm\"                                   \n",
       "[3] \" dvds free s p join now\"                              \n",
       "[4] \"http us click yahoo com pt ybb nxieaa mg haa gsolb tm\""
      ]
     },
     "metadata": {},
     "output_type": "display_data"
    }
   ],
   "source": [
    "\n",
    "\n",
    "head(sampleSplit[[1]]$body)\n",
    "\n",
    "msg = sampleSplit[[3]]$body\n",
    "head(msg)\n",
    "\n",
    "msg[ c(1, 3, 26, 27) ]\n",
    "\n",
    "cleanMsg = tolower(gsub(\"[[:punct:]0-9[:blank:]]+\", \" \", msg))\n",
    "cleanMsg[ c(1, 3, 26, 27) ]"
   ]
  },
  {
   "cell_type": "code",
   "execution_count": 17,
   "metadata": {},
   "outputs": [],
   "source": [
    "\n",
    "\n",
    "library(\"tm\")\n",
    "stopWords = stopwords()\n",
    "cleanSW = tolower(gsub(\"[[:punct:]0-9[:blank:]]+\", \" \", stopWords))\n",
    "SWords = unlist(strsplit(cleanSW, \"[[:blank:]]+\"))\n",
    "SWords = SWords[ nchar(SWords) > 1 ]\n",
    "stopWords = unique(SWords)"
   ]
  },
  {
   "cell_type": "code",
   "execution_count": 79,
   "metadata": {},
   "outputs": [
    {
     "data": {
      "text/html": [
       "<ol class=list-inline>\n",
       "\t<li>'man'</li>\n",
       "\t<li>'threatens'</li>\n",
       "\t<li>'explosion'</li>\n",
       "\t<li>'moscow'</li>\n",
       "\t<li>'thursday'</li>\n",
       "\t<li>'august'</li>\n",
       "</ol>\n"
      ],
      "text/latex": [
       "\\begin{enumerate*}\n",
       "\\item 'man'\n",
       "\\item 'threatens'\n",
       "\\item 'explosion'\n",
       "\\item 'moscow'\n",
       "\\item 'thursday'\n",
       "\\item 'august'\n",
       "\\end{enumerate*}\n"
      ],
      "text/markdown": [
       "1. 'man'\n",
       "2. 'threatens'\n",
       "3. 'explosion'\n",
       "4. 'moscow'\n",
       "5. 'thursday'\n",
       "6. 'august'\n",
       "\n",
       "\n"
      ],
      "text/plain": [
       "[1] \"man\"       \"threatens\" \"explosion\" \"moscow\"    \"thursday\"  \"august\"   "
      ]
     },
     "metadata": {},
     "output_type": "display_data"
    }
   ],
   "source": [
    "words = unlist(strsplit(cleanMsg, \"[[:blank:]]+\"))\n",
    "\n",
    "words = words[ nchar(words) > 1 ]\n",
    "\n",
    "words = words[ !( words %in% stopWords) ]\n",
    "head(words)"
   ]
  },
  {
   "cell_type": "code",
   "execution_count": 13,
   "metadata": {},
   "outputs": [],
   "source": [
    "cleanText =\n",
    "function(msg)   {\n",
    "  tolower(gsub(\"[[:punct:]0-9[:space:][:blank:]]+\", \" \", msg))\n",
    "}\n",
    "\n",
    "findMsgWords = \n",
    "function(msg, stopWords) {\n",
    " if(is.null(msg))\n",
    "  return(character())\n",
    "\n",
    " words = unique(unlist(strsplit(cleanText(msg), \"[[:blank:]\\t]+\")))\n",
    " \n",
    " # drop empty and 1 letter words\n",
    " words = words[ nchar(words) > 1]\n",
    " words = words[ !( words %in% stopWords) ]\n",
    " invisible(words)\n",
    "}"
   ]
  },
  {
   "cell_type": "code",
   "execution_count": 14,
   "metadata": {},
   "outputs": [],
   "source": [
    "\n",
    "processAllWords = function(dirName, stopWords)\n",
    "{\n",
    "       # read all files in the directory\n",
    "  fileNames = list.files(dirName, full.names = TRUE)\n",
    "       # drop files that are not email, i.e., cmds\n",
    "  notEmail = grep(\"cmds$\", fileNames)\n",
    "  if ( length(notEmail) > 0) fileNames = fileNames[ - notEmail ]\n",
    "\n",
    "  messages = lapply(fileNames, readLines, encoding = \"latin1\")\n",
    "  \n",
    "       # split header and body\n",
    "  emailSplit = lapply(messages, splitMessage)\n",
    "       # put body and header in own lists\n",
    "  bodyList = lapply(emailSplit, function(msg) msg$body)\n",
    "  headerList = lapply(emailSplit, function(msg) msg$header)\n",
    "  rm(emailSplit)\n",
    "  \n",
    "       # determine which messages have attachments\n",
    "  hasAttach = sapply(headerList, function(header) {\n",
    "    CTloc = grep(\"Content-Type\", header)\n",
    "    if (length(CTloc) == 0) return(0)\n",
    "    multi = grep(\"multi\", tolower(header[CTloc])) \n",
    "    if (length(multi) == 0) return(0)\n",
    "    multi\n",
    "  })\n",
    "  \n",
    "  hasAttach = which(hasAttach > 0)\n",
    "  \n",
    "       # find boundary strings for messages with attachments\n",
    "  boundaries = sapply(headerList[hasAttach], getBoundary)\n",
    "  \n",
    "       # drop attachments from message body\n",
    "  bodyList[hasAttach] = mapply(dropAttach, bodyList[hasAttach], \n",
    "                               boundaries, SIMPLIFY = FALSE)\n",
    "  \n",
    "       # extract words from body\n",
    "  msgWordsList = lapply(bodyList, findMsgWords, stopWords)\n",
    "  \n",
    "  invisible(msgWordsList)\n",
    "}\n"
   ]
  },
  {
   "cell_type": "code",
   "execution_count": 15,
   "metadata": {},
   "outputs": [
    {
     "data": {
      "text/html": [
       "<ol class=list-inline>\n",
       "\t<li>'./SpamAssassinMessages//messages/easy_ham'</li>\n",
       "\t<li>'./SpamAssassinMessages//messages/easy_ham_2'</li>\n",
       "\t<li>'./SpamAssassinMessages//messages/hard_ham'</li>\n",
       "\t<li>'./SpamAssassinMessages//messages/spam'</li>\n",
       "\t<li>'./SpamAssassinMessages//messages/spam_2'</li>\n",
       "</ol>\n"
      ],
      "text/latex": [
       "\\begin{enumerate*}\n",
       "\\item './SpamAssassinMessages//messages/easy\\_ham'\n",
       "\\item './SpamAssassinMessages//messages/easy\\_ham\\_2'\n",
       "\\item './SpamAssassinMessages//messages/hard\\_ham'\n",
       "\\item './SpamAssassinMessages//messages/spam'\n",
       "\\item './SpamAssassinMessages//messages/spam\\_2'\n",
       "\\end{enumerate*}\n"
      ],
      "text/markdown": [
       "1. './SpamAssassinMessages//messages/easy_ham'\n",
       "2. './SpamAssassinMessages//messages/easy_ham_2'\n",
       "3. './SpamAssassinMessages//messages/hard_ham'\n",
       "4. './SpamAssassinMessages//messages/spam'\n",
       "5. './SpamAssassinMessages//messages/spam_2'\n",
       "\n",
       "\n"
      ],
      "text/plain": [
       "[1] \"./SpamAssassinMessages//messages/easy_ham\"  \n",
       "[2] \"./SpamAssassinMessages//messages/easy_ham_2\"\n",
       "[3] \"./SpamAssassinMessages//messages/hard_ham\"  \n",
       "[4] \"./SpamAssassinMessages//messages/spam\"      \n",
       "[5] \"./SpamAssassinMessages//messages/spam_2\"    "
      ]
     },
     "metadata": {},
     "output_type": "display_data"
    }
   ],
   "source": [
    "fullDirNames"
   ]
  },
  {
   "cell_type": "code",
   "execution_count": 19,
   "metadata": {},
   "outputs": [
    {
     "name": "stderr",
     "output_type": "stream",
     "text": [
      "Warning message in FUN(X[[i]], ...):\n",
      "\"incomplete final line found on './SpamAssassinMessages//messages/hard_ham/00228.0eaef7857bbbf3ebf5edbbdae2b30493'\"Warning message in FUN(X[[i]], ...):\n",
      "\"incomplete final line found on './SpamAssassinMessages//messages/spam/00136.faa39d8e816c70f23b4bb8758d8a74f0'\""
     ]
    }
   ],
   "source": [
    "msgWordsList = lapply(fullDirNames, processAllWords, stopWords = stopWords) "
   ]
  },
  {
   "cell_type": "code",
   "execution_count": 20,
   "metadata": {},
   "outputs": [
    {
     "data": {
      "text/html": [
       "<ol>\n",
       "\t<li><ol class=list-inline>\n",
       "\t<li>'yes'</li>\n",
       "\t<li>'great'</li>\n",
       "\t<li>'minds'</li>\n",
       "\t<li>'think'</li>\n",
       "\t<li>'alike'</li>\n",
       "\t<li>'even'</li>\n",
       "\t<li>'withput'</li>\n",
       "\t<li>'eval'</li>\n",
       "\t<li>'rules'</li>\n",
       "\t<li>'useful'</li>\n",
       "\t<li>'allow'</li>\n",
       "\t<li>'us'</li>\n",
       "\t<li>'respond'</li>\n",
       "\t<li>'quickly'</li>\n",
       "\t<li>'spammer'</li>\n",
       "\t<li>'tricks'</li>\n",
       "\t<li>'theo'</li>\n",
       "\t<li>'van'</li>\n",
       "\t<li>'dinter'</li>\n",
       "\t<li>'wrote'</li>\n",
       "\t<li>'thu'</li>\n",
       "\t<li>'aug'</li>\n",
       "\t<li>'marc'</li>\n",
       "\t<li>'perkel'</li>\n",
       "\t<li>'anyone'</li>\n",
       "\t<li>'though'</li>\n",
       "\t<li>'idea'</li>\n",
       "\t<li>'live'</li>\n",
       "\t<li>'updates'</li>\n",
       "\t<li>'release'</li>\n",
       "\t<li>'user'</li>\n",
       "\t<li>'run'</li>\n",
       "\t<li>'cron'</li>\n",
       "\t<li>'job'</li>\n",
       "\t<li>'week'</li>\n",
       "\t<li>'get'</li>\n",
       "\t<li>'new'</li>\n",
       "\t<li>'default'</li>\n",
       "\t<li>'rule'</li>\n",
       "\t<li>'set'</li>\n",
       "\t<li>'react'</li>\n",
       "\t<li>'faster'</li>\n",
       "\t<li>'suggested'</li>\n",
       "\t<li>'months'</li>\n",
       "\t<li>'ago'</li>\n",
       "\t<li>'remember'</li>\n",
       "\t<li>'details'</li>\n",
       "\t<li>'came'</li>\n",
       "\t<li>'except'</li>\n",
       "\t<li>'non'</li>\n",
       "\t<li>'since'</li>\n",
       "\t<li>'require'</li>\n",
       "\t<li>'code'</li>\n",
       "\t<li>'changes'</li>\n",
       "\t<li>'sf'</li>\n",
       "\t<li>'net'</li>\n",
       "\t<li>'email'</li>\n",
       "\t<li>'sponsored'</li>\n",
       "\t<li>'osdn'</li>\n",
       "\t<li>'tired'</li>\n",
       "\t<li>'old'</li>\n",
       "\t<li>'cell'</li>\n",
       "\t<li>'phone'</li>\n",
       "\t<li>'free'</li>\n",
       "\t<li>'https'</li>\n",
       "\t<li>'www'</li>\n",
       "\t<li>'inphonic'</li>\n",
       "\t<li>'com'</li>\n",
       "\t<li>'asp'</li>\n",
       "\t<li>'sourceforge'</li>\n",
       "\t<li>'refcode'</li>\n",
       "\t<li>'vs'</li>\n",
       "\t<li>'spamassassin'</li>\n",
       "\t<li>'devel'</li>\n",
       "\t<li>'mailing'</li>\n",
       "\t<li>'list'</li>\n",
       "\t<li>'lists'</li>\n",
       "\t<li>'listinfo'</li>\n",
       "</ol>\n",
       "</li>\n",
       "</ol>\n"
      ],
      "text/latex": [
       "\\begin{enumerate}\n",
       "\\item \\begin{enumerate*}\n",
       "\\item 'yes'\n",
       "\\item 'great'\n",
       "\\item 'minds'\n",
       "\\item 'think'\n",
       "\\item 'alike'\n",
       "\\item 'even'\n",
       "\\item 'withput'\n",
       "\\item 'eval'\n",
       "\\item 'rules'\n",
       "\\item 'useful'\n",
       "\\item 'allow'\n",
       "\\item 'us'\n",
       "\\item 'respond'\n",
       "\\item 'quickly'\n",
       "\\item 'spammer'\n",
       "\\item 'tricks'\n",
       "\\item 'theo'\n",
       "\\item 'van'\n",
       "\\item 'dinter'\n",
       "\\item 'wrote'\n",
       "\\item 'thu'\n",
       "\\item 'aug'\n",
       "\\item 'marc'\n",
       "\\item 'perkel'\n",
       "\\item 'anyone'\n",
       "\\item 'though'\n",
       "\\item 'idea'\n",
       "\\item 'live'\n",
       "\\item 'updates'\n",
       "\\item 'release'\n",
       "\\item 'user'\n",
       "\\item 'run'\n",
       "\\item 'cron'\n",
       "\\item 'job'\n",
       "\\item 'week'\n",
       "\\item 'get'\n",
       "\\item 'new'\n",
       "\\item 'default'\n",
       "\\item 'rule'\n",
       "\\item 'set'\n",
       "\\item 'react'\n",
       "\\item 'faster'\n",
       "\\item 'suggested'\n",
       "\\item 'months'\n",
       "\\item 'ago'\n",
       "\\item 'remember'\n",
       "\\item 'details'\n",
       "\\item 'came'\n",
       "\\item 'except'\n",
       "\\item 'non'\n",
       "\\item 'since'\n",
       "\\item 'require'\n",
       "\\item 'code'\n",
       "\\item 'changes'\n",
       "\\item 'sf'\n",
       "\\item 'net'\n",
       "\\item 'email'\n",
       "\\item 'sponsored'\n",
       "\\item 'osdn'\n",
       "\\item 'tired'\n",
       "\\item 'old'\n",
       "\\item 'cell'\n",
       "\\item 'phone'\n",
       "\\item 'free'\n",
       "\\item 'https'\n",
       "\\item 'www'\n",
       "\\item 'inphonic'\n",
       "\\item 'com'\n",
       "\\item 'asp'\n",
       "\\item 'sourceforge'\n",
       "\\item 'refcode'\n",
       "\\item 'vs'\n",
       "\\item 'spamassassin'\n",
       "\\item 'devel'\n",
       "\\item 'mailing'\n",
       "\\item 'list'\n",
       "\\item 'lists'\n",
       "\\item 'listinfo'\n",
       "\\end{enumerate*}\n",
       "\n",
       "\\end{enumerate}\n"
      ],
      "text/markdown": [
       "1. 1. 'yes'\n",
       "2. 'great'\n",
       "3. 'minds'\n",
       "4. 'think'\n",
       "5. 'alike'\n",
       "6. 'even'\n",
       "7. 'withput'\n",
       "8. 'eval'\n",
       "9. 'rules'\n",
       "10. 'useful'\n",
       "11. 'allow'\n",
       "12. 'us'\n",
       "13. 'respond'\n",
       "14. 'quickly'\n",
       "15. 'spammer'\n",
       "16. 'tricks'\n",
       "17. 'theo'\n",
       "18. 'van'\n",
       "19. 'dinter'\n",
       "20. 'wrote'\n",
       "21. 'thu'\n",
       "22. 'aug'\n",
       "23. 'marc'\n",
       "24. 'perkel'\n",
       "25. 'anyone'\n",
       "26. 'though'\n",
       "27. 'idea'\n",
       "28. 'live'\n",
       "29. 'updates'\n",
       "30. 'release'\n",
       "31. 'user'\n",
       "32. 'run'\n",
       "33. 'cron'\n",
       "34. 'job'\n",
       "35. 'week'\n",
       "36. 'get'\n",
       "37. 'new'\n",
       "38. 'default'\n",
       "39. 'rule'\n",
       "40. 'set'\n",
       "41. 'react'\n",
       "42. 'faster'\n",
       "43. 'suggested'\n",
       "44. 'months'\n",
       "45. 'ago'\n",
       "46. 'remember'\n",
       "47. 'details'\n",
       "48. 'came'\n",
       "49. 'except'\n",
       "50. 'non'\n",
       "51. 'since'\n",
       "52. 'require'\n",
       "53. 'code'\n",
       "54. 'changes'\n",
       "55. 'sf'\n",
       "56. 'net'\n",
       "57. 'email'\n",
       "58. 'sponsored'\n",
       "59. 'osdn'\n",
       "60. 'tired'\n",
       "61. 'old'\n",
       "62. 'cell'\n",
       "63. 'phone'\n",
       "64. 'free'\n",
       "65. 'https'\n",
       "66. 'www'\n",
       "67. 'inphonic'\n",
       "68. 'com'\n",
       "69. 'asp'\n",
       "70. 'sourceforge'\n",
       "71. 'refcode'\n",
       "72. 'vs'\n",
       "73. 'spamassassin'\n",
       "74. 'devel'\n",
       "75. 'mailing'\n",
       "76. 'list'\n",
       "77. 'lists'\n",
       "78. 'listinfo'\n",
       "\n",
       "\n",
       "\n",
       "\n",
       "\n"
      ],
      "text/plain": [
       "[[1]]\n",
       " [1] \"yes\"          \"great\"        \"minds\"        \"think\"        \"alike\"       \n",
       " [6] \"even\"         \"withput\"      \"eval\"         \"rules\"        \"useful\"      \n",
       "[11] \"allow\"        \"us\"           \"respond\"      \"quickly\"      \"spammer\"     \n",
       "[16] \"tricks\"       \"theo\"         \"van\"          \"dinter\"       \"wrote\"       \n",
       "[21] \"thu\"          \"aug\"          \"marc\"         \"perkel\"       \"anyone\"      \n",
       "[26] \"though\"       \"idea\"         \"live\"         \"updates\"      \"release\"     \n",
       "[31] \"user\"         \"run\"          \"cron\"         \"job\"          \"week\"        \n",
       "[36] \"get\"          \"new\"          \"default\"      \"rule\"         \"set\"         \n",
       "[41] \"react\"        \"faster\"       \"suggested\"    \"months\"       \"ago\"         \n",
       "[46] \"remember\"     \"details\"      \"came\"         \"except\"       \"non\"         \n",
       "[51] \"since\"        \"require\"      \"code\"         \"changes\"      \"sf\"          \n",
       "[56] \"net\"          \"email\"        \"sponsored\"    \"osdn\"         \"tired\"       \n",
       "[61] \"old\"          \"cell\"         \"phone\"        \"free\"         \"https\"       \n",
       "[66] \"www\"          \"inphonic\"     \"com\"          \"asp\"          \"sourceforge\" \n",
       "[71] \"refcode\"      \"vs\"           \"spamassassin\" \"devel\"        \"mailing\"     \n",
       "[76] \"list\"         \"lists\"        \"listinfo\"    \n"
      ]
     },
     "metadata": {},
     "output_type": "display_data"
    }
   ],
   "source": [
    "msgWordsList[[1]][12]"
   ]
  },
  {
   "cell_type": "code",
   "execution_count": 21,
   "metadata": {},
   "outputs": [
    {
     "data": {
      "text/html": [
       "<ol class=list-inline>\n",
       "\t<li>2500</li>\n",
       "\t<li>1400</li>\n",
       "\t<li>250</li>\n",
       "\t<li>500</li>\n",
       "\t<li>1396</li>\n",
       "</ol>\n"
      ],
      "text/latex": [
       "\\begin{enumerate*}\n",
       "\\item 2500\n",
       "\\item 1400\n",
       "\\item 250\n",
       "\\item 500\n",
       "\\item 1396\n",
       "\\end{enumerate*}\n"
      ],
      "text/markdown": [
       "1. 2500\n",
       "2. 1400\n",
       "3. 250\n",
       "4. 500\n",
       "5. 1396\n",
       "\n",
       "\n"
      ],
      "text/plain": [
       "[1] 2500 1400  250  500 1396"
      ]
     },
     "metadata": {},
     "output_type": "display_data"
    }
   ],
   "source": [
    "numMsgs = sapply(msgWordsList, length)\n",
    "numMsgs"
   ]
  },
  {
   "cell_type": "code",
   "execution_count": 22,
   "metadata": {},
   "outputs": [
    {
     "data": {
      "text/html": [
       "62969"
      ],
      "text/latex": [
       "62969"
      ],
      "text/markdown": [
       "62969"
      ],
      "text/plain": [
       "[1] 62969"
      ]
     },
     "metadata": {},
     "output_type": "display_data"
    }
   ],
   "source": [
    "isSpam = rep(c(FALSE, FALSE, FALSE, TRUE, TRUE), numMsgs)\n",
    "\n",
    "msgWordsList = unlist(msgWordsList, recursive = FALSE)\n",
    "\n",
    "numEmail = length(isSpam)\n",
    "numSpam = sum(isSpam)\n",
    "numHam = numEmail - numSpam\n",
    "\n",
    "set.seed(418910)\n",
    "\n",
    "testSpamIdx = sample(numSpam, size = floor(numSpam/3))\n",
    "testHamIdx = sample(numHam, size = floor(numHam/3))\n",
    "\n",
    "testMsgWords = c((msgWordsList[isSpam])[testSpamIdx],\n",
    "                 (msgWordsList[!isSpam])[testHamIdx] )\n",
    "trainMsgWords = c((msgWordsList[isSpam])[ - testSpamIdx], \n",
    "                  (msgWordsList[!isSpam])[ - testHamIdx])\n",
    "\n",
    "testIsSpam = rep(c(TRUE, FALSE), \n",
    "                 c(length(testSpamIdx), length(testHamIdx)))\n",
    "trainIsSpam = rep(c(TRUE, FALSE), \n",
    "                 c(numSpam - length(testSpamIdx), \n",
    "                   numHam - length(testHamIdx)))\n",
    "\n",
    "bow = unique(unlist(trainMsgWords))\n",
    "\n",
    "length(bow)\n",
    "\n",
    "spamWordCounts = rep(0, length(bow))\n",
    "\n",
    "names(spamWordCounts) = bow\n",
    "\n",
    "tmp = lapply(trainMsgWords[trainIsSpam], unique)\n",
    "tt = table( unlist(tmp) )\n",
    "spamWordCounts[ names(tt) ] = tt"
   ]
  },
  {
   "cell_type": "code",
   "execution_count": 23,
   "metadata": {},
   "outputs": [],
   "source": [
    "computeFreqs =\n",
    "function(wordsList, spam, bow = unique(unlist(wordsList)))\n",
    "{\n",
    "   # create a matrix for spam, ham, and log odds\n",
    "  wordTable = matrix(0.5, nrow = 4, ncol = length(bow), \n",
    "                     dimnames = list(c(\"spam\", \"ham\", \n",
    "                                        \"presentLogOdds\", \n",
    "                                        \"absentLogOdds\"),  bow))\n",
    "\n",
    "   # For each spam message, add 1 to counts for words in message\n",
    "  counts.spam = table(unlist(lapply(wordsList[spam], unique)))\n",
    "  wordTable[\"spam\", names(counts.spam)] = counts.spam + .5\n",
    "\n",
    "   # Similarly for ham messages\n",
    "  counts.ham = table(unlist(lapply(wordsList[!spam], unique)))  \n",
    "  wordTable[\"ham\", names(counts.ham)] = counts.ham + .5  \n",
    "\n",
    "\n",
    "   # Find the total number of spam and ham\n",
    "  numSpam = sum(spam)\n",
    "  numHam = length(spam) - numSpam\n",
    "\n",
    "   # Prob(word|spam) and Prob(word | ham)\n",
    "  wordTable[\"spam\", ] = wordTable[\"spam\", ]/(numSpam + .5)\n",
    "  wordTable[\"ham\", ] = wordTable[\"ham\", ]/(numHam + .5)\n",
    "  \n",
    "   # log odds\n",
    "  wordTable[\"presentLogOdds\", ] = \n",
    "     log(wordTable[\"spam\",]) - log(wordTable[\"ham\", ])\n",
    "  wordTable[\"absentLogOdds\", ] = \n",
    "     log((1 - wordTable[\"spam\", ])) - log((1 -wordTable[\"ham\", ]))\n",
    "\n",
    "  invisible(wordTable)\n",
    "}"
   ]
  },
  {
   "cell_type": "code",
   "execution_count": 24,
   "metadata": {},
   "outputs": [
    {
     "data": {
      "text/html": [
       "16.1732824519508"
      ],
      "text/latex": [
       "16.1732824519508"
      ],
      "text/markdown": [
       "16.1732824519508"
      ],
      "text/plain": [
       "[1] 16.17328"
      ]
     },
     "metadata": {},
     "output_type": "display_data"
    },
    {
     "data": {
      "text/html": [
       "-122.257247092333"
      ],
      "text/latex": [
       "-122.257247092333"
      ],
      "text/markdown": [
       "-122.257247092333"
      ],
      "text/plain": [
       "[1] -122.2572"
      ]
     },
     "metadata": {},
     "output_type": "display_data"
    },
    {
     "data": {
      "text/plain": [
       "$`FALSE`\n",
       "   Min. 1st Qu.  Median    Mean 3rd Qu.    Max. \n",
       "-606.66 -117.67  -93.33 -103.03  -74.01  154.15 \n",
       "\n",
       "$`TRUE`\n",
       "   Min. 1st Qu.  Median    Mean 3rd Qu.    Max. \n",
       " -64.86   11.97   63.22   93.56  129.56  903.81 \n"
      ]
     },
     "metadata": {},
     "output_type": "display_data"
    }
   ],
   "source": [
    "trainTable = computeFreqs(trainMsgWords, trainIsSpam)\n",
    "\n",
    "newMsg = testMsgWords[[1]]\n",
    "\n",
    "newMsg = newMsg[!is.na(match(newMsg, colnames(trainTable)))]\n",
    "\n",
    "present = colnames(trainTable) %in% newMsg\n",
    "\n",
    "sum(trainTable[\"presentLogOdds\", present]) + \n",
    "  sum(trainTable[\"absentLogOdds\", !present])\n",
    "\n",
    "newMsg = testMsgWords[[ which(!testIsSpam)[1] ]]\n",
    "newMsg = newMsg[!is.na(match(newMsg, colnames(trainTable)))]\n",
    "present = (colnames(trainTable) %in% newMsg)\n",
    "sum(trainTable[\"presentLogOdds\", present]) + \n",
    "     sum(trainTable[\"absentLogOdds\", !present])\n",
    "\n",
    "computeMsgLLR = function(words, freqTable) \n",
    "{\n",
    "       # Discards words not in training data.\n",
    "  words = words[!is.na(match(words, colnames(freqTable)))]\n",
    "\n",
    "       # Find which words are present\n",
    "  present = colnames(freqTable) %in% words\n",
    "\n",
    "  sum(freqTable[\"presentLogOdds\", present]) +\n",
    "    sum(freqTable[\"absentLogOdds\", !present])\n",
    "}\n",
    "\n",
    "testLLR = sapply(testMsgWords, computeMsgLLR, trainTable)\n",
    "\n",
    "tapply(testLLR, testIsSpam, summary)\n"
   ]
  },
  {
   "cell_type": "code",
   "execution_count": 25,
   "metadata": {},
   "outputs": [
    {
     "data": {
      "image/png": "[encoded data removed]",
      "text/plain": [
       "plot without title"
      ]
     },
     "metadata": {},
     "output_type": "display_data"
    }
   ],
   "source": [
    "#pdf(\"SP_Boxplot.pdf\", width = 6, height = 6)\n",
    "spamLab = c(\"ham\", \"spam\")[1 + testIsSpam]\n",
    "boxplot(testLLR ~ spamLab, ylab = \"Log Likelihood Ratio\",\n",
    "      #  main = \"Log Likelihood Ratio for Randomly Chosen Test Messages\",\n",
    "        ylim=c(-500, 500))\n",
    "#dev.off()\n"
   ]
  },
  {
   "cell_type": "code",
   "execution_count": 26,
   "metadata": {},
   "outputs": [
    {
     "data": {
      "text/html": [
       "0.00433839479392625"
      ],
      "text/latex": [
       "0.00433839479392625"
      ],
      "text/markdown": [
       "0.00433839479392625"
      ],
      "text/plain": [
       "[1] 0.004338395"
      ]
     },
     "metadata": {},
     "output_type": "display_data"
    },
    {
     "data": {
      "text/html": [
       "0.00650759219088937"
      ],
      "text/latex": [
       "0.00650759219088937"
      ],
      "text/markdown": [
       "0.00650759219088937"
      ],
      "text/plain": [
       "[1] 0.006507592"
      ]
     },
     "metadata": {},
     "output_type": "display_data"
    }
   ],
   "source": [
    "typeIErrorRate = \n",
    "function(tau, llrVals, spam)\n",
    "{\n",
    "  classify = llrVals > tau\n",
    "  sum(classify & !spam)/sum(!spam)\n",
    "}\n",
    "\n",
    "typeIErrorRate(0, testLLR,testIsSpam)\n",
    "\n",
    "typeIErrorRate(-20, testLLR,testIsSpam)\n",
    "\n",
    "typeIErrorRates = \n",
    "function(llrVals, isSpam) \n",
    "{\n",
    "  o = order(llrVals)\n",
    "  llrVals =  llrVals[o]\n",
    "  isSpam = isSpam[o]\n",
    "\n",
    "  idx = which(!isSpam)\n",
    "  N = length(idx)\n",
    "  list(error = (N:1)/N, values = llrVals[idx])\n",
    "}"
   ]
  },
  {
   "cell_type": "code",
   "execution_count": 27,
   "metadata": {},
   "outputs": [],
   "source": [
    "typeIIErrorRates = function(llrVals, isSpam) {\n",
    "    \n",
    "  o = order(llrVals)\n",
    "  llrVals =  llrVals[o]\n",
    "  isSpam = isSpam[o]\n",
    "    \n",
    "    \n",
    "  idx = which(isSpam)\n",
    "  N = length(idx)\n",
    "  list(error = (1:(N))/N, values = llrVals[idx])\n",
    "  }  \n",
    "\n",
    "xI = typeIErrorRates(testLLR, testIsSpam)\n",
    "xII = typeIIErrorRates(testLLR, testIsSpam)\n",
    "tau01 = round(min(xI$values[xI$error <= 0.01]))\n",
    "t2 = max(xII$error[ xII$values < tau01 ])"
   ]
  },
  {
   "cell_type": "code",
   "execution_count": 28,
   "metadata": {},
   "outputs": [
    {
     "data": {
      "image/png": "[encoded data removed]",
      "text/plain": [
       "plot without title"
      ]
     },
     "metadata": {},
     "output_type": "display_data"
    }
   ],
   "source": [
    "#pdf(\"LinePlotTypeI+IIErrors.pdf\", width = 8, height = 6)\n",
    "\n",
    "library(RColorBrewer)\n",
    "cols = brewer.pal(9, \"Set1\")[c(3, 4, 5)]\n",
    "plot(xII$error ~ xII$values,  type = \"l\", col = cols[1], lwd = 3,\n",
    "     xlim = c(-300, 250), ylim = c(0, 1),\n",
    "     xlab = \"Log Likelihood Ratio Values\", ylab=\"Error Rate\")\n",
    "points(xI$error ~ xI$values, type = \"l\", col = cols[2], lwd = 3)\n",
    "legend(x = 50, y = 0.4, fill = c(cols[2], cols[1]),\n",
    "       legend = c(\"Classify Ham as Spam\", \n",
    "                  \"Classify Spam as Ham\"), cex = 0.8,\n",
    "       bty = \"n\")\n",
    "abline(h=0.01, col =\"grey\", lwd = 3, lty = 2)\n",
    "text(-250, 0.05, pos = 4, \"Type I Error = 0.01\", col = cols[2])\n",
    "\n",
    "mtext(tau01, side = 1, line = 0.5, at = tau01, col = cols[3])\n",
    "segments(x0 = tau01, y0 = -.50, x1 = tau01, y1 = t2, \n",
    "         lwd = 2, col = \"grey\")\n",
    "text(tau01 + 20, 0.05, pos = 4,\n",
    "     paste(\"Type II Error = \", round(t2, digits = 2)), \n",
    "     col = cols[1])\n",
    "\n",
    "#dev.off()"
   ]
  },
  {
   "cell_type": "code",
   "execution_count": 29,
   "metadata": {},
   "outputs": [],
   "source": [
    "k = 5\n",
    "numTrain = length(trainMsgWords)\n",
    "partK = sample(numTrain)\n",
    "tot = k * floor(numTrain/k)\n",
    "partK = matrix(partK[1:tot], ncol = k)\n",
    "\n",
    "testFoldOdds = NULL\n",
    "for (i in 1:k) {\n",
    "  foldIdx = partK[ , i]\n",
    "  trainTabFold = computeFreqs(trainMsgWords[-foldIdx], trainIsSpam[-foldIdx])\n",
    "  testFoldOdds = c(testFoldOdds, \n",
    "               sapply(trainMsgWords[ foldIdx ], computeMsgLLR, trainTabFold))\n",
    "}\n",
    "\n",
    "testFoldSpam = NULL\n",
    "for (i in 1:k) {\n",
    "  foldIdx = partK[ , i]\n",
    "  testFoldSpam = c(testFoldSpam, trainIsSpam[foldIdx])\n",
    "}\n",
    "\n",
    "xFoldI = typeIErrorRates(testFoldOdds, testFoldSpam)\n",
    "xFoldII = typeIIErrorRates(testFoldOdds, testFoldSpam)\n",
    "tauFoldI = round(min(xFoldI$values[xFoldI$error <= 0.01]))\n",
    "tFold2 = xFoldII$error[ xFoldII$values < tauFoldI ]\n",
    "\n",
    "smallNums = rep((1/2)^40, 2000000)"
   ]
  },
  {
   "cell_type": "code",
   "execution_count": 30,
   "metadata": {},
   "outputs": [
    {
     "name": "stdout",
     "output_type": "stream",
     "text": [
      "[1] 1.8189894035458565e-06\n",
      "[1] 10000.000001818989\n",
      "[1] 10000\n"
     ]
    },
    {
     "data": {
      "text/html": [
       "<ol class=list-inline>\n",
       "\t<li><span style=white-space:pre-wrap>'From exmh-workers-admin@redhat.com  Thu Aug 22 12:36:23 2002'</span></li>\n",
       "\t<li>'Return-Path: &lt;exmh-workers-admin@spamassassin.taint.org&gt;'</li>\n",
       "\t<li>'Delivered-To: zzzz@localhost.netnoteinc.com'</li>\n",
       "\t<li>'Received: from localhost (localhost [127.0.0.1])'</li>\n",
       "\t<li>'\\tby phobos.labs.netnoteinc.com (Postfix) with ESMTP id D03E543C36'</li>\n",
       "\t<li>'\\tfor &lt;zzzz@localhost&gt;; Thu, 22 Aug 2002 07:36:16 -0400 (EDT)'</li>\n",
       "\t<li>'Received: from phobos [127.0.0.1]'</li>\n",
       "\t<li>'\\tby localhost with IMAP (fetchmail-5.9.0)'</li>\n",
       "\t<li>'\\tfor zzzz@localhost (single-drop); Thu, 22 Aug 2002 12:36:16 +0100 (IST)'</li>\n",
       "\t<li>'Received: from listman.spamassassin.taint.org (listman.spamassassin.taint.org [66.187.233.211]) by'</li>\n",
       "\t<li><span style=white-space:pre-wrap>'    dogma.slashnull.org (8.11.6/8.11.6) with ESMTP id g7MBYrZ04811 for'</span></li>\n",
       "\t<li><span style=white-space:pre-wrap>'    &lt;zzzz-exmh@spamassassin.taint.org&gt;; Thu, 22 Aug 2002 12:34:53 +0100'</span></li>\n",
       "</ol>\n"
      ],
      "text/latex": [
       "\\begin{enumerate*}\n",
       "\\item 'From exmh-workers-admin@redhat.com  Thu Aug 22 12:36:23 2002'\n",
       "\\item 'Return-Path: <exmh-workers-admin@spamassassin.taint.org>'\n",
       "\\item 'Delivered-To: zzzz@localhost.netnoteinc.com'\n",
       "\\item 'Received: from localhost (localhost {[}127.0.0.1{]})'\n",
       "\\item '\\textbackslash{}tby phobos.labs.netnoteinc.com (Postfix) with ESMTP id D03E543C36'\n",
       "\\item '\\textbackslash{}tfor <zzzz@localhost>; Thu, 22 Aug 2002 07:36:16 -0400 (EDT)'\n",
       "\\item 'Received: from phobos {[}127.0.0.1{]}'\n",
       "\\item '\\textbackslash{}tby localhost with IMAP (fetchmail-5.9.0)'\n",
       "\\item '\\textbackslash{}tfor zzzz@localhost (single-drop); Thu, 22 Aug 2002 12:36:16 +0100 (IST)'\n",
       "\\item 'Received: from listman.spamassassin.taint.org (listman.spamassassin.taint.org {[}66.187.233.211{]}) by'\n",
       "\\item '    dogma.slashnull.org (8.11.6/8.11.6) with ESMTP id g7MBYrZ04811 for'\n",
       "\\item '    <zzzz-exmh@spamassassin.taint.org>; Thu, 22 Aug 2002 12:34:53 +0100'\n",
       "\\end{enumerate*}\n"
      ],
      "text/markdown": [
       "1. <span style=white-space:pre-wrap>'From exmh-workers-admin@redhat.com  Thu Aug 22 12:36:23 2002'</span>\n",
       "2. 'Return-Path: &lt;exmh-workers-admin@spamassassin.taint.org&gt;'\n",
       "3. 'Delivered-To: zzzz@localhost.netnoteinc.com'\n",
       "4. 'Received: from localhost (localhost [127.0.0.1])'\n",
       "5. '\\tby phobos.labs.netnoteinc.com (Postfix) with ESMTP id D03E543C36'\n",
       "6. '\\tfor &lt;zzzz@localhost&gt;; Thu, 22 Aug 2002 07:36:16 -0400 (EDT)'\n",
       "7. 'Received: from phobos [127.0.0.1]'\n",
       "8. '\\tby localhost with IMAP (fetchmail-5.9.0)'\n",
       "9. '\\tfor zzzz@localhost (single-drop); Thu, 22 Aug 2002 12:36:16 +0100 (IST)'\n",
       "10. 'Received: from listman.spamassassin.taint.org (listman.spamassassin.taint.org [66.187.233.211]) by'\n",
       "11. <span style=white-space:pre-wrap>'    dogma.slashnull.org (8.11.6/8.11.6) with ESMTP id g7MBYrZ04811 for'</span>\n",
       "12. <span style=white-space:pre-wrap>'    &lt;zzzz-exmh@spamassassin.taint.org&gt;; Thu, 22 Aug 2002 12:34:53 +0100'</span>\n",
       "\n",
       "\n"
      ],
      "text/plain": [
       " [1] \"From exmh-workers-admin@redhat.com  Thu Aug 22 12:36:23 2002\"                                      \n",
       " [2] \"Return-Path: <exmh-workers-admin@spamassassin.taint.org>\"                                          \n",
       " [3] \"Delivered-To: zzzz@localhost.netnoteinc.com\"                                                       \n",
       " [4] \"Received: from localhost (localhost [127.0.0.1])\"                                                  \n",
       " [5] \"\\tby phobos.labs.netnoteinc.com (Postfix) with ESMTP id D03E543C36\"                                 \n",
       " [6] \"\\tfor <zzzz@localhost>; Thu, 22 Aug 2002 07:36:16 -0400 (EDT)\"                                      \n",
       " [7] \"Received: from phobos [127.0.0.1]\"                                                                 \n",
       " [8] \"\\tby localhost with IMAP (fetchmail-5.9.0)\"                                                         \n",
       " [9] \"\\tfor zzzz@localhost (single-drop); Thu, 22 Aug 2002 12:36:16 +0100 (IST)\"                          \n",
       "[10] \"Received: from listman.spamassassin.taint.org (listman.spamassassin.taint.org [66.187.233.211]) by\"\n",
       "[11] \"    dogma.slashnull.org (8.11.6/8.11.6) with ESMTP id g7MBYrZ04811 for\"                            \n",
       "[12] \"    <zzzz-exmh@spamassassin.taint.org>; Thu, 22 Aug 2002 12:34:53 +0100\"                           "
      ]
     },
     "metadata": {},
     "output_type": "display_data"
    },
    {
     "data": {
      "text/html": [
       "<span style=white-space:pre-wrap>'Top-From: exmh-workers-admin@redhat.com  Thu Aug 22 12:36:23 2002'</span>"
      ],
      "text/latex": [
       "'Top-From: exmh-workers-admin@redhat.com  Thu Aug 22 12:36:23 2002'"
      ],
      "text/markdown": [
       "<span style=white-space:pre-wrap>'Top-From: exmh-workers-admin@redhat.com  Thu Aug 22 12:36:23 2002'</span>"
      ],
      "text/plain": [
       "[1] \"Top-From: exmh-workers-admin@redhat.com  Thu Aug 22 12:36:23 2002\""
      ]
     },
     "metadata": {},
     "output_type": "display_data"
    }
   ],
   "source": [
    "largeNum = 10000\n",
    "\n",
    "print(sum(smallNums), digits = 20)\n",
    "\n",
    "print(largeNum + sum(smallNums), digits = 20)\n",
    "\n",
    "for (i in 1:length(smallNums)) {\n",
    "  largeNum = largeNum + smallNums[i]\n",
    "}\n",
    "print(largeNum, digits = 20)\n",
    "\n",
    "sampleSplit = lapply(sampleEmail, splitMessage)\n",
    "\n",
    "header = sampleSplit[[1]]$header\n",
    "header[1:12]\n",
    "\n",
    "header[1] = sub(\"^From\", \"Top-From:\", header[1])\n",
    "header[1]"
   ]
  },
  {
   "cell_type": "code",
   "execution_count": 31,
   "metadata": {},
   "outputs": [
    {
     "data": {
      "text/html": [
       "<ol>\n",
       "\t<li><ol class=list-inline>\n",
       "\t<li>'zzzz@localhost.netnoteinc.com'</li>\n",
       "\t<li>'exmh-workers@listman.spamassassin.taint.org'</li>\n",
       "</ol>\n",
       "</li>\n",
       "</ol>\n"
      ],
      "text/latex": [
       "\\begin{enumerate}\n",
       "\\item \\begin{enumerate*}\n",
       "\\item 'zzzz@localhost.netnoteinc.com'\n",
       "\\item 'exmh-workers@listman.spamassassin.taint.org'\n",
       "\\end{enumerate*}\n",
       "\n",
       "\\end{enumerate}\n"
      ],
      "text/markdown": [
       "1. 1. 'zzzz@localhost.netnoteinc.com'\n",
       "2. 'exmh-workers@listman.spamassassin.taint.org'\n",
       "\n",
       "\n",
       "\n",
       "\n",
       "\n"
      ],
      "text/plain": [
       "[[1]]\n",
       "[1] \"zzzz@localhost.netnoteinc.com\"              \n",
       "[2] \"exmh-workers@listman.spamassassin.taint.org\"\n"
      ]
     },
     "metadata": {},
     "output_type": "display_data"
    },
    {
     "data": {
      "text/html": [
       "<dl class=dl-horizontal>\n",
       "\t<dt>Delivered-To</dt>\n",
       "\t\t<dd>'zzzz@localhost.netnoteinc.com'</dd>\n",
       "\t<dt>Delivered-To</dt>\n",
       "\t\t<dd>'exmh-workers@listman.spamassassin.taint.org'</dd>\n",
       "</dl>\n"
      ],
      "text/latex": [
       "\\begin{description*}\n",
       "\\item[Delivered-To] 'zzzz@localhost.netnoteinc.com'\n",
       "\\item[Delivered-To] 'exmh-workers@listman.spamassassin.taint.org'\n",
       "\\end{description*}\n"
      ],
      "text/markdown": [
       "Delivered-To\n",
       ":   'zzzz@localhost.netnoteinc.com'Delivered-To\n",
       ":   'exmh-workers@listman.spamassassin.taint.org'\n",
       "\n"
      ],
      "text/plain": [
       "                                 Delivered-To \n",
       "              \"zzzz@localhost.netnoteinc.com\" \n",
       "                                 Delivered-To \n",
       "\"exmh-workers@listman.spamassassin.taint.org\" "
      ]
     },
     "metadata": {},
     "output_type": "display_data"
    },
    {
     "data": {
      "text/html": [
       "36"
      ],
      "text/latex": [
       "36"
      ],
      "text/markdown": [
       "36"
      ],
      "text/plain": [
       "[1] 36"
      ]
     },
     "metadata": {},
     "output_type": "display_data"
    },
    {
     "data": {
      "text/html": [
       "26"
      ],
      "text/latex": [
       "26"
      ],
      "text/markdown": [
       "26"
      ],
      "text/plain": [
       "[1] 26"
      ]
     },
     "metadata": {},
     "output_type": "display_data"
    }
   ],
   "source": [
    "headerPieces = read.dcf(textConnection(header), all = TRUE)\n",
    "\n",
    "headerPieces[, \"Delivered-To\"]\n",
    "\n",
    "\n",
    "headerVec = unlist(headerPieces)\n",
    "dupKeys = sapply(headerPieces, function(x) length(unlist(x)))\n",
    "names(headerVec) = rep(colnames(headerPieces), dupKeys)\n",
    "\n",
    "headerVec[ which(names(headerVec) == \"Delivered-To\") ]\n",
    "\n",
    "length(headerVec)\n",
    "\n",
    "length(unique(names(headerVec)))\n",
    "\n",
    "processHeader = function(header)\n",
    "{\n",
    "       # modify the first line to create a key:value pair\n",
    "  header[1] = sub(\"^From\", \"Top-From:\", header[1])\n",
    "  \n",
    "  headerMat = read.dcf(textConnection(header), all = TRUE)\n",
    "  headerVec = unlist(headerMat)\n",
    "  \n",
    "  dupKeys = sapply(headerMat, function(x) length(unlist(x)))\n",
    "  names(headerVec) = rep(colnames(headerMat), dupKeys)\n",
    "  \n",
    "  return(headerVec)\n",
    "}\n"
   ]
  },
  {
   "cell_type": "code",
   "execution_count": 32,
   "metadata": {},
   "outputs": [
    {
     "data": {
      "text/html": [
       "<ol class=list-inline>\n",
       "\t<li>'text/plain; charset=us-ascii'</li>\n",
       "\t<li>'text/plain; charset=US-ASCII'</li>\n",
       "\t<li>'text/plain; charset=US-ASCII'</li>\n",
       "\t<li>'text/plain; charset=\"us-ascii\"'</li>\n",
       "\t<li>'text/plain; charset=US-ASCII'</li>\n",
       "\t<li>'text/plain; charset=us-ascii; format=flowed'</li>\n",
       "\t<li>NA</li>\n",
       "\t<li>NA</li>\n",
       "\t<li>'text/plain; charset=us-ascii; format=flowed'</li>\n",
       "\t<li>'text/plain; charset=us-ascii'</li>\n",
       "\t<li>'text/plain; charset=\"iso-8859-1\"'</li>\n",
       "\t<li>'text/plain; charset=us-ascii; format=flowed'</li>\n",
       "\t<li>'text/plain; charset=us-ascii'</li>\n",
       "\t<li>'TEXT/PLAIN; charset=US-ASCII'</li>\n",
       "\t<li>'text/plain; charset=us-ascii'</li>\n",
       "</ol>\n"
      ],
      "text/latex": [
       "\\begin{enumerate*}\n",
       "\\item 'text/plain; charset=us-ascii'\n",
       "\\item 'text/plain; charset=US-ASCII'\n",
       "\\item 'text/plain; charset=US-ASCII'\n",
       "\\item 'text/plain; charset=\"us-ascii\"'\n",
       "\\item 'text/plain; charset=US-ASCII'\n",
       "\\item 'text/plain; charset=us-ascii; format=flowed'\n",
       "\\item NA\n",
       "\\item NA\n",
       "\\item 'text/plain; charset=us-ascii; format=flowed'\n",
       "\\item 'text/plain; charset=us-ascii'\n",
       "\\item 'text/plain; charset=\"iso-8859-1\"'\n",
       "\\item 'text/plain; charset=us-ascii; format=flowed'\n",
       "\\item 'text/plain; charset=us-ascii'\n",
       "\\item 'TEXT/PLAIN; charset=US-ASCII'\n",
       "\\item 'text/plain; charset=us-ascii'\n",
       "\\end{enumerate*}\n"
      ],
      "text/markdown": [
       "1. 'text/plain; charset=us-ascii'\n",
       "2. 'text/plain; charset=US-ASCII'\n",
       "3. 'text/plain; charset=US-ASCII'\n",
       "4. 'text/plain; charset=\"us-ascii\"'\n",
       "5. 'text/plain; charset=US-ASCII'\n",
       "6. 'text/plain; charset=us-ascii; format=flowed'\n",
       "7. NA\n",
       "8. NA\n",
       "9. 'text/plain; charset=us-ascii; format=flowed'\n",
       "10. 'text/plain; charset=us-ascii'\n",
       "11. 'text/plain; charset=\"iso-8859-1\"'\n",
       "12. 'text/plain; charset=us-ascii; format=flowed'\n",
       "13. 'text/plain; charset=us-ascii'\n",
       "14. 'TEXT/PLAIN; charset=US-ASCII'\n",
       "15. 'text/plain; charset=us-ascii'\n",
       "\n",
       "\n"
      ],
      "text/plain": [
       " [1] \"text/plain; charset=us-ascii\"               \n",
       " [2] \"text/plain; charset=US-ASCII\"               \n",
       " [3] \"text/plain; charset=US-ASCII\"               \n",
       " [4] \"text/plain; charset=\\\"us-ascii\\\"\"           \n",
       " [5] \"text/plain; charset=US-ASCII\"               \n",
       " [6] \"text/plain; charset=us-ascii; format=flowed\"\n",
       " [7] NA                                           \n",
       " [8] NA                                           \n",
       " [9] \"text/plain; charset=us-ascii; format=flowed\"\n",
       "[10] \"text/plain; charset=us-ascii\"               \n",
       "[11] \"text/plain; charset=\\\"iso-8859-1\\\"\"         \n",
       "[12] \"text/plain; charset=us-ascii; format=flowed\"\n",
       "[13] \"text/plain; charset=us-ascii\"               \n",
       "[14] \"TEXT/PLAIN; charset=US-ASCII\"               \n",
       "[15] \"text/plain; charset=us-ascii\"               "
      ]
     },
     "metadata": {},
     "output_type": "display_data"
    },
    {
     "data": {
      "text/html": [],
      "text/latex": [],
      "text/markdown": [],
      "text/plain": [
       "integer(0)"
      ]
     },
     "metadata": {},
     "output_type": "display_data"
    },
    {
     "data": {
      "text/html": [],
      "text/latex": [],
      "text/markdown": [],
      "text/plain": [
       "character(0)"
      ]
     },
     "metadata": {},
     "output_type": "display_data"
    },
    {
     "data": {
      "text/html": [],
      "text/latex": [],
      "text/markdown": [],
      "text/plain": [
       "integer(0)"
      ]
     },
     "metadata": {},
     "output_type": "display_data"
    },
    {
     "data": {
      "text/html": [],
      "text/latex": [],
      "text/markdown": [],
      "text/plain": [
       "integer(0)"
      ]
     },
     "metadata": {},
     "output_type": "display_data"
    },
    {
     "data": {
      "text/html": [],
      "text/latex": [],
      "text/markdown": [],
      "text/plain": [
       "integer(0)"
      ]
     },
     "metadata": {},
     "output_type": "display_data"
    }
   ],
   "source": [
    "headerList = lapply(sampleSplit, \n",
    "                    function(msg) {\n",
    "                      processHeader(msg$header)} )\n",
    "\n",
    "contentTypes = sapply(headerList, function(header) \n",
    "                                        header[\"Content-Type\"])\n",
    "names(contentTypes) = NULL\n",
    "contentTypes\n",
    "\n",
    "hasAttach = grep(\"^ *multi\", tolower(contentTypes))\n",
    "hasAttach\n",
    "\n",
    "boundaries = getBoundary(contentTypes[ hasAttach ])\n",
    "boundaries\n",
    "\n",
    "boundary = boundaries[9]\n",
    "body = sampleSplit[[15]]$body\n",
    "\n",
    "bString = paste(\"--\", boundary, sep = \"\")\n",
    "bStringLocs = which(bString == body)\n",
    "bStringLocs\n",
    "\n",
    "eString = paste(\"--\", boundary, \"--\", sep = \"\")\n",
    "eStringLoc = which(eString == body)\n",
    "eStringLoc\n",
    "\n",
    "diff(c(bStringLocs[-1], eStringLoc))"
   ]
  },
  {
   "cell_type": "code",
   "execution_count": 33,
   "metadata": {},
   "outputs": [],
   "source": [
    "### This code has mistakes in it - and we fix them later!\n",
    "processAttach = function(body, contentType){\n",
    "  \n",
    "  boundary = getBoundary(contentType)\n",
    "  \n",
    "  bString = paste(\"--\", boundary, \"$\", sep = \"\")\n",
    "  bStringLocs = grep(bString, body)\n",
    "  \n",
    "  eString = paste(\"--\", boundary, \"--$\", sep = \"\")\n",
    "  eStringLoc = grep(eString, body)\n",
    "  \n",
    "  n = length(body)\n",
    "  \n",
    "  if (length(eStringLoc) == 0) eStringLoc = n + 1\n",
    "  if (length(bStringLocs) == 1) attachLocs = NULL\n",
    "  else attachLocs = c(bStringLocs[-1],  eStringLoc)\n",
    "  \n",
    "  msg = body[ (bStringLocs[1] + 1) : min(n, (bStringLocs[2] - 1), \n",
    "                                         na.rm = TRUE)]\n",
    "  \n",
    "  if ( eStringLoc < n )\n",
    "    msg = c(msg, body[ (eStringLoc + 1) : n ])\n",
    "  \n",
    "  if ( !is.null(attachLocs) ) {\n",
    "    attachLens = diff(attachLocs, lag = 1) \n",
    "    attachTypes = mapply(function(begL, endL) {\n",
    "      contentTypeLoc = grep(\"[Cc]ontent-[Tt]ype\", body[ (begL + 1) : (endL - 1)])\n",
    "      contentType = body[ begL + contentTypeLoc]\n",
    "      contentType = gsub('\"', \"\", contentType )\n",
    "      MIMEType = sub(\" *Content-Type: *([^;]*);?.*\", \"\\\\1\", contentType)\n",
    "      return(MIMEType)\n",
    "    }, attachLocs[-length(attachLocs)], attachLocs[-1])\n",
    "  }\n",
    "  \n",
    "  if (is.null(attachLocs)) return(list(body = msg, attachInfo = NULL) )\n",
    "  else return(list(body = msg, \n",
    "                   attachDF = data.frame(aLen = attachLens, \n",
    "                                         aType = attachTypes,\n",
    "                                         stringsAsFactors = FALSE)))                                \n",
    "}\n"
   ]
  },
  {
   "cell_type": "code",
   "execution_count": 34,
   "metadata": {},
   "outputs": [
    {
     "data": {
      "text/html": [
       "<dl>\n",
       "</dl>\n"
      ],
      "text/latex": [
       "\\begin{description}\n",
       "\\end{description}\n"
      ],
      "text/markdown": [
       "\n",
       "\n"
      ],
      "text/plain": [
       "named list()"
      ]
     },
     "metadata": {},
     "output_type": "display_data"
    },
    {
     "ename": "ERROR",
     "evalue": "Error in attList[[2]]: subscript out of bounds\n",
     "output_type": "error",
     "traceback": [
      "Error in attList[[2]]: subscript out of bounds\nTraceback:\n"
     ]
    }
   ],
   "source": [
    "bodyList = lapply(sampleSplit, function(msg) msg$body)\n",
    "attList = mapply(processAttach, bodyList[hasAttach], \n",
    "                 contentTypes[hasAttach], \n",
    "                 SIMPLIFY = FALSE)\n",
    "\n",
    "lens = sapply(attList, function(processedA) \n",
    "                           processedA$attachDF$aLen)\n",
    "head(lens)  # will cause an error with the first message. its ok.\n",
    "attList[[2]]$attachDF\n",
    "\n",
    "body = bodyList[hasAttach][[2]]\n",
    "length(body)\n",
    "\n",
    "body[35:45]"
   ]
  },
  {
   "cell_type": "code",
   "execution_count": 35,
   "metadata": {},
   "outputs": [],
   "source": [
    "processAttach = function(body, contentType){\n",
    "\n",
    "  n = length(body)\n",
    "  boundary = getBoundary(contentType)\n",
    " \n",
    "  bString = paste(\"--\", boundary, sep = \"\")\n",
    "  bStringLocs = which(bString == body)\n",
    "  eString = paste(\"--\", boundary, \"--\", sep = \"\")\n",
    "  eStringLoc = which(eString == body)\n",
    "  \n",
    "  if (length(eStringLoc) == 0) eStringLoc = n\n",
    "  if (length(bStringLocs) <= 1) {\n",
    "    attachLocs = NULL\n",
    "    msgLastLine = n\n",
    "    if (length(bStringLocs) == 0) bStringLocs = 0\n",
    "  } else {\n",
    "    attachLocs = c(bStringLocs[ -1 ],  eStringLoc)\n",
    "    msgLastLine = bStringLocs[2] - 1\n",
    "  }\n",
    "  \n",
    "  msg = body[ (bStringLocs[1] + 1) : msgLastLine] \n",
    "  if ( eStringLoc < n )\n",
    "    msg = c(msg, body[ (eStringLoc + 1) : n ])\n",
    "  \n",
    "  if ( !is.null(attachLocs) ) {\n",
    "    attachLens = diff(attachLocs, lag = 1) \n",
    "    attachTypes = mapply(function(begL, endL) {\n",
    "      CTloc = grep(\"^[Cc]ontent-[Tt]ype\", body[ (begL + 1) : (endL - 1)])\n",
    "      if ( length(CTloc) == 0 ) {\n",
    "        MIMEType = NA\n",
    "      } else {\n",
    "        CTval = body[ begL + CTloc[1] ]\n",
    "        CTval = gsub('\"', \"\", CTval )\n",
    "        MIMEType = sub(\" *[Cc]ontent-[Tt]ype: *([^;]*);?.*\", \"\\\\1\", CTval)   \n",
    "      }\n",
    "      return(MIMEType)\n",
    "    }, attachLocs[-length(attachLocs)], attachLocs[-1])\n",
    "  }\n",
    "  \n",
    "  if (is.null(attachLocs)) return(list(body = msg, attachDF = NULL) )\n",
    "  return(list(body = msg, \n",
    "             attachDF = data.frame(aLen = attachLens, \n",
    "                                     aType = unlist(attachTypes),\n",
    "                                     stringsAsFactors = FALSE)))                                \n",
    "}                       \n",
    "\n",
    "readEmail = function(dirName) {\n",
    "       # retrieve the names of files in directory\n",
    "  fileNames = list.files(dirName, full.names = TRUE)\n",
    "       # drop files that are not email\n",
    "  notEmail = grep(\"cmds$\", fileNames)\n",
    "  if ( length(notEmail) > 0) fileNames = fileNames[ - notEmail ]\n",
    "\n",
    "       # read all files in the directory\n",
    "  lapply(fileNames, readLines, encoding = \"latin1\")\n",
    "}\n",
    "\n"
   ]
  },
  {
   "cell_type": "code",
   "execution_count": 36,
   "metadata": {},
   "outputs": [],
   "source": [
    "processAllEmail = function(dirName, isSpam = FALSE)\n",
    "{\n",
    "       # read all files in the directory\n",
    "  messages = readEmail(dirName)\n",
    "  fileNames = names(messages)\n",
    "  n = length(messages)\n",
    "  \n",
    "       # split header from body\n",
    "  eSplit = lapply(messages, splitMessage)\n",
    "  rm(messages)\n",
    "\n",
    "       # process header as named character vector\n",
    "  headerList = lapply(eSplit, function(msg) \n",
    "                                 processHeader(msg$header))\n",
    "  \n",
    "       # extract content-type key\n",
    "  contentTypes = sapply(headerList, function(header) \n",
    "                                       header[\"Content-Type\"])\n",
    "  \n",
    "       # extract the body\n",
    "  bodyList = lapply(eSplit, function(msg) msg$body)\n",
    "  rm(eSplit)\n",
    "\n",
    "       # which email have attachments\n",
    "  hasAttach = grep(\"^ *multi\", tolower(contentTypes))\n",
    "\n",
    "       # get summary stats for attachments and the shorter body\n",
    "  attList = mapply(processAttach, bodyList[hasAttach], \n",
    "                   contentTypes[hasAttach], SIMPLIFY = FALSE)\n",
    "  \n",
    "  bodyList[hasAttach] = lapply(attList, function(attEl) \n",
    "                                           attEl$body)\n",
    " \n",
    "  attachInfo = vector(\"list\", length = n )\n",
    "  attachInfo[ hasAttach ] = lapply(attList, \n",
    "                                  function(attEl) attEl$attachDF)\n",
    " \n",
    "       # prepare return structure\n",
    "  emailList = mapply(function(header, body, attach, isSpam) {\n",
    "                       list(isSpam = isSpam, header = header, \n",
    "                            body = body, attach = attach)\n",
    "                     },\n",
    "                     headerList, bodyList, attachInfo, \n",
    "                     rep(isSpam, n), SIMPLIFY = FALSE )\n",
    "  names(emailList) = fileNames\n",
    "  \n",
    "  invisible(emailList)\n",
    "}"
   ]
  },
  {
   "cell_type": "code",
   "execution_count": 37,
   "metadata": {},
   "outputs": [
    {
     "name": "stderr",
     "output_type": "stream",
     "text": [
      "Warning message in FUN(X[[i]], ...):\n",
      "\"incomplete final line found on './SpamAssassinMessages//messages/hard_ham/00228.0eaef7857bbbf3ebf5edbbdae2b30493'\"Warning message in FUN(X[[i]], ...):\n",
      "\"incomplete final line found on './SpamAssassinMessages//messages/spam/00136.faa39d8e816c70f23b4bb8758d8a74f0'\""
     ]
    },
    {
     "data": {
      "text/html": [
       "FALSE"
      ],
      "text/latex": [
       "FALSE"
      ],
      "text/markdown": [
       "FALSE"
      ],
      "text/plain": [
       "[1] FALSE"
      ]
     },
     "metadata": {},
     "output_type": "display_data"
    },
    {
     "data": {
      "text/html": [
       "<ol class=list-inline>\n",
       "\t<li>FALSE</li>\n",
       "\t<li>FALSE</li>\n",
       "\t<li>TRUE</li>\n",
       "</ol>\n"
      ],
      "text/latex": [
       "\\begin{enumerate*}\n",
       "\\item FALSE\n",
       "\\item FALSE\n",
       "\\item TRUE\n",
       "\\end{enumerate*}\n"
      ],
      "text/markdown": [
       "1. FALSE\n",
       "2. FALSE\n",
       "3. TRUE\n",
       "\n",
       "\n"
      ],
      "text/plain": [
       "[1] FALSE FALSE  TRUE"
      ]
     },
     "metadata": {},
     "output_type": "display_data"
    },
    {
     "data": {
      "text/html": [
       "<ol class=list-inline>\n",
       "\t<li>'DEARMADAME'</li>\n",
       "\t<li>'WINNER'</li>\n",
       "\t<li>''</li>\n",
       "</ol>\n"
      ],
      "text/latex": [
       "\\begin{enumerate*}\n",
       "\\item 'DEARMADAME'\n",
       "\\item 'WINNER'\n",
       "\\item ''\n",
       "\\end{enumerate*}\n"
      ],
      "text/markdown": [
       "1. 'DEARMADAME'\n",
       "2. 'WINNER'\n",
       "3. ''\n",
       "\n",
       "\n"
      ],
      "text/plain": [
       "[1] \"DEARMADAME\" \"WINNER\"     \"\"          "
      ]
     },
     "metadata": {},
     "output_type": "display_data"
    },
    {
     "data": {
      "text/html": [
       "<ol class=list-inline>\n",
       "\t<li>'DEARMADAME'</li>\n",
       "\t<li>'WINNER'</li>\n",
       "\t<li>''</li>\n",
       "</ol>\n"
      ],
      "text/latex": [
       "\\begin{enumerate*}\n",
       "\\item 'DEARMADAME'\n",
       "\\item 'WINNER'\n",
       "\\item ''\n",
       "\\end{enumerate*}\n"
      ],
      "text/markdown": [
       "1. 'DEARMADAME'\n",
       "2. 'WINNER'\n",
       "3. ''\n",
       "\n",
       "\n"
      ],
      "text/plain": [
       "[1] \"DEARMADAME\" \"WINNER\"     \"\"          "
      ]
     },
     "metadata": {},
     "output_type": "display_data"
    }
   ],
   "source": [
    "emailStruct = mapply(processAllEmail, fullDirNames,\n",
    "                     isSpam = rep( c(FALSE, TRUE), 3:2))      \n",
    "emailStruct = unlist(emailStruct, recursive = FALSE)\n",
    "\n",
    "sampleStruct = emailStruct[ indx ]\n",
    "\n",
    "save(emailStruct, file=\"emailXX.rda\")\n",
    "\n",
    "header = sampleStruct[[1]]$header\n",
    "subject = header[\"Subject\"]\n",
    "els = strsplit(subject, \"\")\n",
    "all(els %in% LETTERS)\n",
    "\n",
    "testSubject = c(\"DEAR MADAME\", \"WINNER!\", \"\")\n",
    "\n",
    "els = strsplit(testSubject, \"\")\n",
    "sapply(els, function(subject) all(subject %in% LETTERS))\n",
    "\n",
    "\n",
    "gsub(\"[[:punct:] ]\", \"\", testSubject)\n",
    "\n",
    "gsub(\"[^[:alpha:]]\", \"\", testSubject)\n"
   ]
  },
  {
   "cell_type": "code",
   "execution_count": 38,
   "metadata": {},
   "outputs": [],
   "source": [
    "isYelling = function(msg) {\n",
    "  if ( \"Subject\" %in% names(msg$header) ) {\n",
    "     el = gsub(\"[^[:alpha:]]\", \"\", msg$header[\"Subject\"])\n",
    "     if (nchar(el) > 0) \n",
    "        nchar(gsub(\"[A-Z]\", \"\", el)) < 1\n",
    "     else \n",
    "        FALSE\n",
    "  } else \n",
    "    NA\n",
    "}\n",
    "\n",
    "perCaps =\n",
    "function(msg)\n",
    "{\n",
    "  body = paste(msg$body, collapse = \"\")\n",
    "\n",
    "       # Return NA if the body of the message is \"empty\"\n",
    "  if(length(body) == 0 || nchar(body) == 0) return(NA)\n",
    "\n",
    "       # Eliminate non-alpha characters\n",
    "  body = gsub(\"[^[:alpha:]]\", \"\", body)\n",
    "  capText = gsub(\"[^A-Z]\", \"\", body)\n",
    "  100 * nchar(capText)/nchar(body)\n",
    "}\n"
   ]
  },
  {
   "cell_type": "code",
   "execution_count": 39,
   "metadata": {},
   "outputs": [
    {
     "data": {
      "text/html": [
       "<dl class=dl-horizontal>\n",
       "\t<dt>./SpamAssassinMessages//messages/easy_ham1</dt>\n",
       "\t\t<dd>4.45103857566766</dd>\n",
       "\t<dt>./SpamAssassinMessages//messages/easy_ham2</dt>\n",
       "\t\t<dd>7.49128919860627</dd>\n",
       "\t<dt>./SpamAssassinMessages//messages/easy_ham3</dt>\n",
       "\t\t<dd>7.43609604957397</dd>\n",
       "\t<dt>./SpamAssassinMessages//messages/easy_ham4</dt>\n",
       "\t\t<dd>5.09090909090909</dd>\n",
       "\t<dt>./SpamAssassinMessages//messages/easy_ham5</dt>\n",
       "\t\t<dd>6.11664295874822</dd>\n",
       "\t<dt>./SpamAssassinMessages//messages/easy_ham15</dt>\n",
       "\t\t<dd>2.44179443498013</dd>\n",
       "\t<dt>./SpamAssassinMessages//messages/easy_ham27</dt>\n",
       "\t\t<dd>6.42857142857143</dd>\n",
       "\t<dt>./SpamAssassinMessages//messages/easy_ham68</dt>\n",
       "\t\t<dd>2.51593425025159</dd>\n",
       "\t<dt>./SpamAssassinMessages//messages/easy_ham69</dt>\n",
       "\t\t<dd>21.9934994582882</dd>\n",
       "\t<dt>./SpamAssassinMessages//messages/easy_ham329</dt>\n",
       "\t\t<dd>4.12272291466922</dd>\n",
       "\t<dt>./SpamAssassinMessages//messages/easy_ham404</dt>\n",
       "\t\t<dd>4.6875</dd>\n",
       "\t<dt>./SpamAssassinMessages//messages/easy_ham427</dt>\n",
       "\t\t<dd>3.35781741867786</dd>\n",
       "\t<dt>./SpamAssassinMessages//messages/easy_ham516</dt>\n",
       "\t\t<dd>4.22974176313446</dd>\n",
       "\t<dt>./SpamAssassinMessages//messages/easy_ham852</dt>\n",
       "\t\t<dd>3.7542662116041</dd>\n",
       "\t<dt>./SpamAssassinMessages//messages/easy_ham971</dt>\n",
       "\t\t<dd>8.98305084745763</dd>\n",
       "</dl>\n"
      ],
      "text/latex": [
       "\\begin{description*}\n",
       "\\item[./SpamAssassinMessages//messages/easy\\textbackslash{}\\_ham1] 4.45103857566766\n",
       "\\item[./SpamAssassinMessages//messages/easy\\textbackslash{}\\_ham2] 7.49128919860627\n",
       "\\item[./SpamAssassinMessages//messages/easy\\textbackslash{}\\_ham3] 7.43609604957397\n",
       "\\item[./SpamAssassinMessages//messages/easy\\textbackslash{}\\_ham4] 5.09090909090909\n",
       "\\item[./SpamAssassinMessages//messages/easy\\textbackslash{}\\_ham5] 6.11664295874822\n",
       "\\item[./SpamAssassinMessages//messages/easy\\textbackslash{}\\_ham15] 2.44179443498013\n",
       "\\item[./SpamAssassinMessages//messages/easy\\textbackslash{}\\_ham27] 6.42857142857143\n",
       "\\item[./SpamAssassinMessages//messages/easy\\textbackslash{}\\_ham68] 2.51593425025159\n",
       "\\item[./SpamAssassinMessages//messages/easy\\textbackslash{}\\_ham69] 21.9934994582882\n",
       "\\item[./SpamAssassinMessages//messages/easy\\textbackslash{}\\_ham329] 4.12272291466922\n",
       "\\item[./SpamAssassinMessages//messages/easy\\textbackslash{}\\_ham404] 4.6875\n",
       "\\item[./SpamAssassinMessages//messages/easy\\textbackslash{}\\_ham427] 3.35781741867786\n",
       "\\item[./SpamAssassinMessages//messages/easy\\textbackslash{}\\_ham516] 4.22974176313446\n",
       "\\item[./SpamAssassinMessages//messages/easy\\textbackslash{}\\_ham852] 3.7542662116041\n",
       "\\item[./SpamAssassinMessages//messages/easy\\textbackslash{}\\_ham971] 8.98305084745763\n",
       "\\end{description*}\n"
      ],
      "text/markdown": [
       "./SpamAssassinMessages//messages/easy_ham1\n",
       ":   4.45103857566766./SpamAssassinMessages//messages/easy_ham2\n",
       ":   7.49128919860627./SpamAssassinMessages//messages/easy_ham3\n",
       ":   7.43609604957397./SpamAssassinMessages//messages/easy_ham4\n",
       ":   5.09090909090909./SpamAssassinMessages//messages/easy_ham5\n",
       ":   6.11664295874822./SpamAssassinMessages//messages/easy_ham15\n",
       ":   2.44179443498013./SpamAssassinMessages//messages/easy_ham27\n",
       ":   6.42857142857143./SpamAssassinMessages//messages/easy_ham68\n",
       ":   2.51593425025159./SpamAssassinMessages//messages/easy_ham69\n",
       ":   21.9934994582882./SpamAssassinMessages//messages/easy_ham329\n",
       ":   4.12272291466922./SpamAssassinMessages//messages/easy_ham404\n",
       ":   4.6875./SpamAssassinMessages//messages/easy_ham427\n",
       ":   3.35781741867786./SpamAssassinMessages//messages/easy_ham516\n",
       ":   4.22974176313446./SpamAssassinMessages//messages/easy_ham852\n",
       ":   3.7542662116041./SpamAssassinMessages//messages/easy_ham971\n",
       ":   8.98305084745763\n",
       "\n"
      ],
      "text/plain": [
       "  ./SpamAssassinMessages//messages/easy_ham1 \n",
       "                                    4.451039 \n",
       "  ./SpamAssassinMessages//messages/easy_ham2 \n",
       "                                    7.491289 \n",
       "  ./SpamAssassinMessages//messages/easy_ham3 \n",
       "                                    7.436096 \n",
       "  ./SpamAssassinMessages//messages/easy_ham4 \n",
       "                                    5.090909 \n",
       "  ./SpamAssassinMessages//messages/easy_ham5 \n",
       "                                    6.116643 \n",
       " ./SpamAssassinMessages//messages/easy_ham15 \n",
       "                                    2.441794 \n",
       " ./SpamAssassinMessages//messages/easy_ham27 \n",
       "                                    6.428571 \n",
       " ./SpamAssassinMessages//messages/easy_ham68 \n",
       "                                    2.515934 \n",
       " ./SpamAssassinMessages//messages/easy_ham69 \n",
       "                                   21.993499 \n",
       "./SpamAssassinMessages//messages/easy_ham329 \n",
       "                                    4.122723 \n",
       "./SpamAssassinMessages//messages/easy_ham404 \n",
       "                                    4.687500 \n",
       "./SpamAssassinMessages//messages/easy_ham427 \n",
       "                                    3.357817 \n",
       "./SpamAssassinMessages//messages/easy_ham516 \n",
       "                                    4.229742 \n",
       "./SpamAssassinMessages//messages/easy_ham852 \n",
       "                                    3.754266 \n",
       "./SpamAssassinMessages//messages/easy_ham971 \n",
       "                                    8.983051 "
      ]
     },
     "metadata": {},
     "output_type": "display_data"
    }
   ],
   "source": [
    "sapply(sampleStruct, perCaps)\n",
    "\n",
    "funcList = list( \n",
    " isRe = function(msg) {\n",
    "       \"Subject\" %in% names(msg$header) &&\n",
    "         length(grep(\"^[ \\t]*Re:\", msg$header[[\"Subject\"]])) > 0\n",
    "  },\n",
    "  numLines = function(msg) \n",
    "                length(msg$body),\n",
    "  isYelling = function(msg) {\n",
    "    if ( \"Subject\" %in% names(msg$header) ) {\n",
    "       el = gsub(\"[^[:alpha:]]\", \"\", msg$header[\"Subject\"])\n",
    "       if (nchar(el) > 0) \n",
    "         nchar(gsub(\"[A-Z]\", \"\", el)) < 1\n",
    "       else \n",
    "         FALSE\n",
    "    }\n",
    "    else NA\n",
    "  },\n",
    "  perCaps = function(msg) {\n",
    "    body = paste(msg$body, collapse = \"\")\n",
    "\n",
    "         # Return NA if the body of the message is \"empty\"\n",
    "    if(length(body) == 0 || nchar(body) == 0) return(NA)\n",
    "\n",
    "         # Eliminate non-alpha characters\n",
    "    body = gsub(\"[^[:alpha:]]\", \"\", body)\n",
    "    capText = gsub(\"[^A-Z]\", \"\", body)\n",
    "    100 * nchar(capText)/nchar(body)\n",
    "  }\n",
    ")"
   ]
  },
  {
   "cell_type": "code",
   "execution_count": 40,
   "metadata": {},
   "outputs": [
    {
     "data": {
      "text/html": [
       "<dl>\n",
       "\t<dt>$isRe</dt>\n",
       "\t\t<dd><dl class=dl-horizontal>\n",
       "\t<dt>./SpamAssassinMessages//messages/easy_ham1</dt>\n",
       "\t\t<dd>TRUE</dd>\n",
       "\t<dt>./SpamAssassinMessages//messages/easy_ham2</dt>\n",
       "\t\t<dd>FALSE</dd>\n",
       "\t<dt>./SpamAssassinMessages//messages/easy_ham3</dt>\n",
       "\t\t<dd>FALSE</dd>\n",
       "\t<dt>./SpamAssassinMessages//messages/easy_ham4</dt>\n",
       "\t\t<dd>FALSE</dd>\n",
       "\t<dt>./SpamAssassinMessages//messages/easy_ham5</dt>\n",
       "\t\t<dd>TRUE</dd>\n",
       "\t<dt>./SpamAssassinMessages//messages/easy_ham15</dt>\n",
       "\t\t<dd>FALSE</dd>\n",
       "\t<dt>./SpamAssassinMessages//messages/easy_ham27</dt>\n",
       "\t\t<dd>FALSE</dd>\n",
       "\t<dt>./SpamAssassinMessages//messages/easy_ham68</dt>\n",
       "\t\t<dd>FALSE</dd>\n",
       "\t<dt>./SpamAssassinMessages//messages/easy_ham69</dt>\n",
       "\t\t<dd>FALSE</dd>\n",
       "\t<dt>./SpamAssassinMessages//messages/easy_ham329</dt>\n",
       "\t\t<dd>FALSE</dd>\n",
       "\t<dt>./SpamAssassinMessages//messages/easy_ham404</dt>\n",
       "\t\t<dd>TRUE</dd>\n",
       "\t<dt>./SpamAssassinMessages//messages/easy_ham427</dt>\n",
       "\t\t<dd>TRUE</dd>\n",
       "\t<dt>./SpamAssassinMessages//messages/easy_ham516</dt>\n",
       "\t\t<dd>FALSE</dd>\n",
       "\t<dt>./SpamAssassinMessages//messages/easy_ham852</dt>\n",
       "\t\t<dd>TRUE</dd>\n",
       "\t<dt>./SpamAssassinMessages//messages/easy_ham971</dt>\n",
       "\t\t<dd>TRUE</dd>\n",
       "</dl>\n",
       "</dd>\n",
       "\t<dt>$numLines</dt>\n",
       "\t\t<dd><dl class=dl-horizontal>\n",
       "\t<dt>./SpamAssassinMessages//messages/easy_ham1</dt>\n",
       "\t\t<dd>50</dd>\n",
       "\t<dt>./SpamAssassinMessages//messages/easy_ham2</dt>\n",
       "\t\t<dd>26</dd>\n",
       "\t<dt>./SpamAssassinMessages//messages/easy_ham3</dt>\n",
       "\t\t<dd>38</dd>\n",
       "\t<dt>./SpamAssassinMessages//messages/easy_ham4</dt>\n",
       "\t\t<dd>32</dd>\n",
       "\t<dt>./SpamAssassinMessages//messages/easy_ham5</dt>\n",
       "\t\t<dd>31</dd>\n",
       "\t<dt>./SpamAssassinMessages//messages/easy_ham15</dt>\n",
       "\t\t<dd>89</dd>\n",
       "\t<dt>./SpamAssassinMessages//messages/easy_ham27</dt>\n",
       "\t\t<dd>33</dd>\n",
       "\t<dt>./SpamAssassinMessages//messages/easy_ham68</dt>\n",
       "\t\t<dd>102</dd>\n",
       "\t<dt>./SpamAssassinMessages//messages/easy_ham69</dt>\n",
       "\t\t<dd>46</dd>\n",
       "\t<dt>./SpamAssassinMessages//messages/easy_ham329</dt>\n",
       "\t\t<dd>32</dd>\n",
       "\t<dt>./SpamAssassinMessages//messages/easy_ham404</dt>\n",
       "\t\t<dd>11</dd>\n",
       "\t<dt>./SpamAssassinMessages//messages/easy_ham427</dt>\n",
       "\t\t<dd>29</dd>\n",
       "\t<dt>./SpamAssassinMessages//messages/easy_ham516</dt>\n",
       "\t\t<dd>74</dd>\n",
       "\t<dt>./SpamAssassinMessages//messages/easy_ham852</dt>\n",
       "\t\t<dd>15</dd>\n",
       "\t<dt>./SpamAssassinMessages//messages/easy_ham971</dt>\n",
       "\t\t<dd>38</dd>\n",
       "</dl>\n",
       "</dd>\n",
       "\t<dt>$isYelling</dt>\n",
       "\t\t<dd><dl class=dl-horizontal>\n",
       "\t<dt>./SpamAssassinMessages//messages/easy_ham1.Subject</dt>\n",
       "\t\t<dd>FALSE</dd>\n",
       "\t<dt>./SpamAssassinMessages//messages/easy_ham2.Subject</dt>\n",
       "\t\t<dd>FALSE</dd>\n",
       "\t<dt>./SpamAssassinMessages//messages/easy_ham3.Subject</dt>\n",
       "\t\t<dd>FALSE</dd>\n",
       "\t<dt>./SpamAssassinMessages//messages/easy_ham4.Subject</dt>\n",
       "\t\t<dd>FALSE</dd>\n",
       "\t<dt>./SpamAssassinMessages//messages/easy_ham5.Subject</dt>\n",
       "\t\t<dd>FALSE</dd>\n",
       "\t<dt>./SpamAssassinMessages//messages/easy_ham15.Subject</dt>\n",
       "\t\t<dd>FALSE</dd>\n",
       "\t<dt>./SpamAssassinMessages//messages/easy_ham27.Subject</dt>\n",
       "\t\t<dd>FALSE</dd>\n",
       "\t<dt>./SpamAssassinMessages//messages/easy_ham68.Subject</dt>\n",
       "\t\t<dd>FALSE</dd>\n",
       "\t<dt>./SpamAssassinMessages//messages/easy_ham69.Subject</dt>\n",
       "\t\t<dd>FALSE</dd>\n",
       "\t<dt>./SpamAssassinMessages//messages/easy_ham329.Subject</dt>\n",
       "\t\t<dd>FALSE</dd>\n",
       "\t<dt>./SpamAssassinMessages//messages/easy_ham404.Subject</dt>\n",
       "\t\t<dd>FALSE</dd>\n",
       "\t<dt>./SpamAssassinMessages//messages/easy_ham427.Subject</dt>\n",
       "\t\t<dd>FALSE</dd>\n",
       "\t<dt>./SpamAssassinMessages//messages/easy_ham516.Subject</dt>\n",
       "\t\t<dd>FALSE</dd>\n",
       "\t<dt>./SpamAssassinMessages//messages/easy_ham852.Subject</dt>\n",
       "\t\t<dd>FALSE</dd>\n",
       "\t<dt>./SpamAssassinMessages//messages/easy_ham971.Subject</dt>\n",
       "\t\t<dd>FALSE</dd>\n",
       "</dl>\n",
       "</dd>\n",
       "\t<dt>$perCaps</dt>\n",
       "\t\t<dd><dl class=dl-horizontal>\n",
       "\t<dt>./SpamAssassinMessages//messages/easy_ham1</dt>\n",
       "\t\t<dd>4.45103857566766</dd>\n",
       "\t<dt>./SpamAssassinMessages//messages/easy_ham2</dt>\n",
       "\t\t<dd>7.49128919860627</dd>\n",
       "\t<dt>./SpamAssassinMessages//messages/easy_ham3</dt>\n",
       "\t\t<dd>7.43609604957397</dd>\n",
       "\t<dt>./SpamAssassinMessages//messages/easy_ham4</dt>\n",
       "\t\t<dd>5.09090909090909</dd>\n",
       "\t<dt>./SpamAssassinMessages//messages/easy_ham5</dt>\n",
       "\t\t<dd>6.11664295874822</dd>\n",
       "\t<dt>./SpamAssassinMessages//messages/easy_ham15</dt>\n",
       "\t\t<dd>2.44179443498013</dd>\n",
       "\t<dt>./SpamAssassinMessages//messages/easy_ham27</dt>\n",
       "\t\t<dd>6.42857142857143</dd>\n",
       "\t<dt>./SpamAssassinMessages//messages/easy_ham68</dt>\n",
       "\t\t<dd>2.51593425025159</dd>\n",
       "\t<dt>./SpamAssassinMessages//messages/easy_ham69</dt>\n",
       "\t\t<dd>21.9934994582882</dd>\n",
       "\t<dt>./SpamAssassinMessages//messages/easy_ham329</dt>\n",
       "\t\t<dd>4.12272291466922</dd>\n",
       "\t<dt>./SpamAssassinMessages//messages/easy_ham404</dt>\n",
       "\t\t<dd>4.6875</dd>\n",
       "\t<dt>./SpamAssassinMessages//messages/easy_ham427</dt>\n",
       "\t\t<dd>3.35781741867786</dd>\n",
       "\t<dt>./SpamAssassinMessages//messages/easy_ham516</dt>\n",
       "\t\t<dd>4.22974176313446</dd>\n",
       "\t<dt>./SpamAssassinMessages//messages/easy_ham852</dt>\n",
       "\t\t<dd>3.7542662116041</dd>\n",
       "\t<dt>./SpamAssassinMessages//messages/easy_ham971</dt>\n",
       "\t\t<dd>8.98305084745763</dd>\n",
       "</dl>\n",
       "</dd>\n",
       "</dl>\n"
      ],
      "text/latex": [
       "\\begin{description}\n",
       "\\item[\\$isRe] \\begin{description*}\n",
       "\\item[./SpamAssassinMessages//messages/easy\\textbackslash{}\\_ham1] TRUE\n",
       "\\item[./SpamAssassinMessages//messages/easy\\textbackslash{}\\_ham2] FALSE\n",
       "\\item[./SpamAssassinMessages//messages/easy\\textbackslash{}\\_ham3] FALSE\n",
       "\\item[./SpamAssassinMessages//messages/easy\\textbackslash{}\\_ham4] FALSE\n",
       "\\item[./SpamAssassinMessages//messages/easy\\textbackslash{}\\_ham5] TRUE\n",
       "\\item[./SpamAssassinMessages//messages/easy\\textbackslash{}\\_ham15] FALSE\n",
       "\\item[./SpamAssassinMessages//messages/easy\\textbackslash{}\\_ham27] FALSE\n",
       "\\item[./SpamAssassinMessages//messages/easy\\textbackslash{}\\_ham68] FALSE\n",
       "\\item[./SpamAssassinMessages//messages/easy\\textbackslash{}\\_ham69] FALSE\n",
       "\\item[./SpamAssassinMessages//messages/easy\\textbackslash{}\\_ham329] FALSE\n",
       "\\item[./SpamAssassinMessages//messages/easy\\textbackslash{}\\_ham404] TRUE\n",
       "\\item[./SpamAssassinMessages//messages/easy\\textbackslash{}\\_ham427] TRUE\n",
       "\\item[./SpamAssassinMessages//messages/easy\\textbackslash{}\\_ham516] FALSE\n",
       "\\item[./SpamAssassinMessages//messages/easy\\textbackslash{}\\_ham852] TRUE\n",
       "\\item[./SpamAssassinMessages//messages/easy\\textbackslash{}\\_ham971] TRUE\n",
       "\\end{description*}\n",
       "\n",
       "\\item[\\$numLines] \\begin{description*}\n",
       "\\item[./SpamAssassinMessages//messages/easy\\textbackslash{}\\_ham1] 50\n",
       "\\item[./SpamAssassinMessages//messages/easy\\textbackslash{}\\_ham2] 26\n",
       "\\item[./SpamAssassinMessages//messages/easy\\textbackslash{}\\_ham3] 38\n",
       "\\item[./SpamAssassinMessages//messages/easy\\textbackslash{}\\_ham4] 32\n",
       "\\item[./SpamAssassinMessages//messages/easy\\textbackslash{}\\_ham5] 31\n",
       "\\item[./SpamAssassinMessages//messages/easy\\textbackslash{}\\_ham15] 89\n",
       "\\item[./SpamAssassinMessages//messages/easy\\textbackslash{}\\_ham27] 33\n",
       "\\item[./SpamAssassinMessages//messages/easy\\textbackslash{}\\_ham68] 102\n",
       "\\item[./SpamAssassinMessages//messages/easy\\textbackslash{}\\_ham69] 46\n",
       "\\item[./SpamAssassinMessages//messages/easy\\textbackslash{}\\_ham329] 32\n",
       "\\item[./SpamAssassinMessages//messages/easy\\textbackslash{}\\_ham404] 11\n",
       "\\item[./SpamAssassinMessages//messages/easy\\textbackslash{}\\_ham427] 29\n",
       "\\item[./SpamAssassinMessages//messages/easy\\textbackslash{}\\_ham516] 74\n",
       "\\item[./SpamAssassinMessages//messages/easy\\textbackslash{}\\_ham852] 15\n",
       "\\item[./SpamAssassinMessages//messages/easy\\textbackslash{}\\_ham971] 38\n",
       "\\end{description*}\n",
       "\n",
       "\\item[\\$isYelling] \\begin{description*}\n",
       "\\item[./SpamAssassinMessages//messages/easy\\textbackslash{}\\_ham1.Subject] FALSE\n",
       "\\item[./SpamAssassinMessages//messages/easy\\textbackslash{}\\_ham2.Subject] FALSE\n",
       "\\item[./SpamAssassinMessages//messages/easy\\textbackslash{}\\_ham3.Subject] FALSE\n",
       "\\item[./SpamAssassinMessages//messages/easy\\textbackslash{}\\_ham4.Subject] FALSE\n",
       "\\item[./SpamAssassinMessages//messages/easy\\textbackslash{}\\_ham5.Subject] FALSE\n",
       "\\item[./SpamAssassinMessages//messages/easy\\textbackslash{}\\_ham15.Subject] FALSE\n",
       "\\item[./SpamAssassinMessages//messages/easy\\textbackslash{}\\_ham27.Subject] FALSE\n",
       "\\item[./SpamAssassinMessages//messages/easy\\textbackslash{}\\_ham68.Subject] FALSE\n",
       "\\item[./SpamAssassinMessages//messages/easy\\textbackslash{}\\_ham69.Subject] FALSE\n",
       "\\item[./SpamAssassinMessages//messages/easy\\textbackslash{}\\_ham329.Subject] FALSE\n",
       "\\item[./SpamAssassinMessages//messages/easy\\textbackslash{}\\_ham404.Subject] FALSE\n",
       "\\item[./SpamAssassinMessages//messages/easy\\textbackslash{}\\_ham427.Subject] FALSE\n",
       "\\item[./SpamAssassinMessages//messages/easy\\textbackslash{}\\_ham516.Subject] FALSE\n",
       "\\item[./SpamAssassinMessages//messages/easy\\textbackslash{}\\_ham852.Subject] FALSE\n",
       "\\item[./SpamAssassinMessages//messages/easy\\textbackslash{}\\_ham971.Subject] FALSE\n",
       "\\end{description*}\n",
       "\n",
       "\\item[\\$perCaps] \\begin{description*}\n",
       "\\item[./SpamAssassinMessages//messages/easy\\textbackslash{}\\_ham1] 4.45103857566766\n",
       "\\item[./SpamAssassinMessages//messages/easy\\textbackslash{}\\_ham2] 7.49128919860627\n",
       "\\item[./SpamAssassinMessages//messages/easy\\textbackslash{}\\_ham3] 7.43609604957397\n",
       "\\item[./SpamAssassinMessages//messages/easy\\textbackslash{}\\_ham4] 5.09090909090909\n",
       "\\item[./SpamAssassinMessages//messages/easy\\textbackslash{}\\_ham5] 6.11664295874822\n",
       "\\item[./SpamAssassinMessages//messages/easy\\textbackslash{}\\_ham15] 2.44179443498013\n",
       "\\item[./SpamAssassinMessages//messages/easy\\textbackslash{}\\_ham27] 6.42857142857143\n",
       "\\item[./SpamAssassinMessages//messages/easy\\textbackslash{}\\_ham68] 2.51593425025159\n",
       "\\item[./SpamAssassinMessages//messages/easy\\textbackslash{}\\_ham69] 21.9934994582882\n",
       "\\item[./SpamAssassinMessages//messages/easy\\textbackslash{}\\_ham329] 4.12272291466922\n",
       "\\item[./SpamAssassinMessages//messages/easy\\textbackslash{}\\_ham404] 4.6875\n",
       "\\item[./SpamAssassinMessages//messages/easy\\textbackslash{}\\_ham427] 3.35781741867786\n",
       "\\item[./SpamAssassinMessages//messages/easy\\textbackslash{}\\_ham516] 4.22974176313446\n",
       "\\item[./SpamAssassinMessages//messages/easy\\textbackslash{}\\_ham852] 3.7542662116041\n",
       "\\item[./SpamAssassinMessages//messages/easy\\textbackslash{}\\_ham971] 8.98305084745763\n",
       "\\end{description*}\n",
       "\n",
       "\\end{description}\n"
      ],
      "text/markdown": [
       "$isRe\n",
       ":   ./SpamAssassinMessages//messages/easy_ham1\n",
       ":   TRUE./SpamAssassinMessages//messages/easy_ham2\n",
       ":   FALSE./SpamAssassinMessages//messages/easy_ham3\n",
       ":   FALSE./SpamAssassinMessages//messages/easy_ham4\n",
       ":   FALSE./SpamAssassinMessages//messages/easy_ham5\n",
       ":   TRUE./SpamAssassinMessages//messages/easy_ham15\n",
       ":   FALSE./SpamAssassinMessages//messages/easy_ham27\n",
       ":   FALSE./SpamAssassinMessages//messages/easy_ham68\n",
       ":   FALSE./SpamAssassinMessages//messages/easy_ham69\n",
       ":   FALSE./SpamAssassinMessages//messages/easy_ham329\n",
       ":   FALSE./SpamAssassinMessages//messages/easy_ham404\n",
       ":   TRUE./SpamAssassinMessages//messages/easy_ham427\n",
       ":   TRUE./SpamAssassinMessages//messages/easy_ham516\n",
       ":   FALSE./SpamAssassinMessages//messages/easy_ham852\n",
       ":   TRUE./SpamAssassinMessages//messages/easy_ham971\n",
       ":   TRUE\n",
       "\n",
       "\n",
       "$numLines\n",
       ":   ./SpamAssassinMessages//messages/easy_ham1\n",
       ":   50./SpamAssassinMessages//messages/easy_ham2\n",
       ":   26./SpamAssassinMessages//messages/easy_ham3\n",
       ":   38./SpamAssassinMessages//messages/easy_ham4\n",
       ":   32./SpamAssassinMessages//messages/easy_ham5\n",
       ":   31./SpamAssassinMessages//messages/easy_ham15\n",
       ":   89./SpamAssassinMessages//messages/easy_ham27\n",
       ":   33./SpamAssassinMessages//messages/easy_ham68\n",
       ":   102./SpamAssassinMessages//messages/easy_ham69\n",
       ":   46./SpamAssassinMessages//messages/easy_ham329\n",
       ":   32./SpamAssassinMessages//messages/easy_ham404\n",
       ":   11./SpamAssassinMessages//messages/easy_ham427\n",
       ":   29./SpamAssassinMessages//messages/easy_ham516\n",
       ":   74./SpamAssassinMessages//messages/easy_ham852\n",
       ":   15./SpamAssassinMessages//messages/easy_ham971\n",
       ":   38\n",
       "\n",
       "\n",
       "$isYelling\n",
       ":   ./SpamAssassinMessages//messages/easy_ham1.Subject\n",
       ":   FALSE./SpamAssassinMessages//messages/easy_ham2.Subject\n",
       ":   FALSE./SpamAssassinMessages//messages/easy_ham3.Subject\n",
       ":   FALSE./SpamAssassinMessages//messages/easy_ham4.Subject\n",
       ":   FALSE./SpamAssassinMessages//messages/easy_ham5.Subject\n",
       ":   FALSE./SpamAssassinMessages//messages/easy_ham15.Subject\n",
       ":   FALSE./SpamAssassinMessages//messages/easy_ham27.Subject\n",
       ":   FALSE./SpamAssassinMessages//messages/easy_ham68.Subject\n",
       ":   FALSE./SpamAssassinMessages//messages/easy_ham69.Subject\n",
       ":   FALSE./SpamAssassinMessages//messages/easy_ham329.Subject\n",
       ":   FALSE./SpamAssassinMessages//messages/easy_ham404.Subject\n",
       ":   FALSE./SpamAssassinMessages//messages/easy_ham427.Subject\n",
       ":   FALSE./SpamAssassinMessages//messages/easy_ham516.Subject\n",
       ":   FALSE./SpamAssassinMessages//messages/easy_ham852.Subject\n",
       ":   FALSE./SpamAssassinMessages//messages/easy_ham971.Subject\n",
       ":   FALSE\n",
       "\n",
       "\n",
       "$perCaps\n",
       ":   ./SpamAssassinMessages//messages/easy_ham1\n",
       ":   4.45103857566766./SpamAssassinMessages//messages/easy_ham2\n",
       ":   7.49128919860627./SpamAssassinMessages//messages/easy_ham3\n",
       ":   7.43609604957397./SpamAssassinMessages//messages/easy_ham4\n",
       ":   5.09090909090909./SpamAssassinMessages//messages/easy_ham5\n",
       ":   6.11664295874822./SpamAssassinMessages//messages/easy_ham15\n",
       ":   2.44179443498013./SpamAssassinMessages//messages/easy_ham27\n",
       ":   6.42857142857143./SpamAssassinMessages//messages/easy_ham68\n",
       ":   2.51593425025159./SpamAssassinMessages//messages/easy_ham69\n",
       ":   21.9934994582882./SpamAssassinMessages//messages/easy_ham329\n",
       ":   4.12272291466922./SpamAssassinMessages//messages/easy_ham404\n",
       ":   4.6875./SpamAssassinMessages//messages/easy_ham427\n",
       ":   3.35781741867786./SpamAssassinMessages//messages/easy_ham516\n",
       ":   4.22974176313446./SpamAssassinMessages//messages/easy_ham852\n",
       ":   3.7542662116041./SpamAssassinMessages//messages/easy_ham971\n",
       ":   8.98305084745763\n",
       "\n",
       "\n",
       "\n",
       "\n"
      ],
      "text/plain": [
       "$isRe\n",
       "  ./SpamAssassinMessages//messages/easy_ham1 \n",
       "                                        TRUE \n",
       "  ./SpamAssassinMessages//messages/easy_ham2 \n",
       "                                       FALSE \n",
       "  ./SpamAssassinMessages//messages/easy_ham3 \n",
       "                                       FALSE \n",
       "  ./SpamAssassinMessages//messages/easy_ham4 \n",
       "                                       FALSE \n",
       "  ./SpamAssassinMessages//messages/easy_ham5 \n",
       "                                        TRUE \n",
       " ./SpamAssassinMessages//messages/easy_ham15 \n",
       "                                       FALSE \n",
       " ./SpamAssassinMessages//messages/easy_ham27 \n",
       "                                       FALSE \n",
       " ./SpamAssassinMessages//messages/easy_ham68 \n",
       "                                       FALSE \n",
       " ./SpamAssassinMessages//messages/easy_ham69 \n",
       "                                       FALSE \n",
       "./SpamAssassinMessages//messages/easy_ham329 \n",
       "                                       FALSE \n",
       "./SpamAssassinMessages//messages/easy_ham404 \n",
       "                                        TRUE \n",
       "./SpamAssassinMessages//messages/easy_ham427 \n",
       "                                        TRUE \n",
       "./SpamAssassinMessages//messages/easy_ham516 \n",
       "                                       FALSE \n",
       "./SpamAssassinMessages//messages/easy_ham852 \n",
       "                                        TRUE \n",
       "./SpamAssassinMessages//messages/easy_ham971 \n",
       "                                        TRUE \n",
       "\n",
       "$numLines\n",
       "  ./SpamAssassinMessages//messages/easy_ham1 \n",
       "                                          50 \n",
       "  ./SpamAssassinMessages//messages/easy_ham2 \n",
       "                                          26 \n",
       "  ./SpamAssassinMessages//messages/easy_ham3 \n",
       "                                          38 \n",
       "  ./SpamAssassinMessages//messages/easy_ham4 \n",
       "                                          32 \n",
       "  ./SpamAssassinMessages//messages/easy_ham5 \n",
       "                                          31 \n",
       " ./SpamAssassinMessages//messages/easy_ham15 \n",
       "                                          89 \n",
       " ./SpamAssassinMessages//messages/easy_ham27 \n",
       "                                          33 \n",
       " ./SpamAssassinMessages//messages/easy_ham68 \n",
       "                                         102 \n",
       " ./SpamAssassinMessages//messages/easy_ham69 \n",
       "                                          46 \n",
       "./SpamAssassinMessages//messages/easy_ham329 \n",
       "                                          32 \n",
       "./SpamAssassinMessages//messages/easy_ham404 \n",
       "                                          11 \n",
       "./SpamAssassinMessages//messages/easy_ham427 \n",
       "                                          29 \n",
       "./SpamAssassinMessages//messages/easy_ham516 \n",
       "                                          74 \n",
       "./SpamAssassinMessages//messages/easy_ham852 \n",
       "                                          15 \n",
       "./SpamAssassinMessages//messages/easy_ham971 \n",
       "                                          38 \n",
       "\n",
       "$isYelling\n",
       "  ./SpamAssassinMessages//messages/easy_ham1.Subject \n",
       "                                               FALSE \n",
       "  ./SpamAssassinMessages//messages/easy_ham2.Subject \n",
       "                                               FALSE \n",
       "  ./SpamAssassinMessages//messages/easy_ham3.Subject \n",
       "                                               FALSE \n",
       "  ./SpamAssassinMessages//messages/easy_ham4.Subject \n",
       "                                               FALSE \n",
       "  ./SpamAssassinMessages//messages/easy_ham5.Subject \n",
       "                                               FALSE \n",
       " ./SpamAssassinMessages//messages/easy_ham15.Subject \n",
       "                                               FALSE \n",
       " ./SpamAssassinMessages//messages/easy_ham27.Subject \n",
       "                                               FALSE \n",
       " ./SpamAssassinMessages//messages/easy_ham68.Subject \n",
       "                                               FALSE \n",
       " ./SpamAssassinMessages//messages/easy_ham69.Subject \n",
       "                                               FALSE \n",
       "./SpamAssassinMessages//messages/easy_ham329.Subject \n",
       "                                               FALSE \n",
       "./SpamAssassinMessages//messages/easy_ham404.Subject \n",
       "                                               FALSE \n",
       "./SpamAssassinMessages//messages/easy_ham427.Subject \n",
       "                                               FALSE \n",
       "./SpamAssassinMessages//messages/easy_ham516.Subject \n",
       "                                               FALSE \n",
       "./SpamAssassinMessages//messages/easy_ham852.Subject \n",
       "                                               FALSE \n",
       "./SpamAssassinMessages//messages/easy_ham971.Subject \n",
       "                                               FALSE \n",
       "\n",
       "$perCaps\n",
       "  ./SpamAssassinMessages//messages/easy_ham1 \n",
       "                                    4.451039 \n",
       "  ./SpamAssassinMessages//messages/easy_ham2 \n",
       "                                    7.491289 \n",
       "  ./SpamAssassinMessages//messages/easy_ham3 \n",
       "                                    7.436096 \n",
       "  ./SpamAssassinMessages//messages/easy_ham4 \n",
       "                                    5.090909 \n",
       "  ./SpamAssassinMessages//messages/easy_ham5 \n",
       "                                    6.116643 \n",
       " ./SpamAssassinMessages//messages/easy_ham15 \n",
       "                                    2.441794 \n",
       " ./SpamAssassinMessages//messages/easy_ham27 \n",
       "                                    6.428571 \n",
       " ./SpamAssassinMessages//messages/easy_ham68 \n",
       "                                    2.515934 \n",
       " ./SpamAssassinMessages//messages/easy_ham69 \n",
       "                                   21.993499 \n",
       "./SpamAssassinMessages//messages/easy_ham329 \n",
       "                                    4.122723 \n",
       "./SpamAssassinMessages//messages/easy_ham404 \n",
       "                                    4.687500 \n",
       "./SpamAssassinMessages//messages/easy_ham427 \n",
       "                                    3.357817 \n",
       "./SpamAssassinMessages//messages/easy_ham516 \n",
       "                                    4.229742 \n",
       "./SpamAssassinMessages//messages/easy_ham852 \n",
       "                                    3.754266 \n",
       "./SpamAssassinMessages//messages/easy_ham971 \n",
       "                                    8.983051 \n"
      ]
     },
     "metadata": {},
     "output_type": "display_data"
    },
    {
     "data": {
      "text/html": [
       "<table>\n",
       "<thead><tr><th></th><th scope=col>isRe</th><th scope=col>numLines</th><th scope=col>isYelling</th><th scope=col>perCaps</th></tr></thead>\n",
       "<tbody>\n",
       "\t<tr><th scope=row>./SpamAssassinMessages//messages/easy_ham1</th><td> TRUE   </td><td>50      </td><td>FALSE   </td><td>4.451039</td></tr>\n",
       "\t<tr><th scope=row>./SpamAssassinMessages//messages/easy_ham2</th><td>FALSE   </td><td>26      </td><td>FALSE   </td><td>7.491289</td></tr>\n",
       "\t<tr><th scope=row>./SpamAssassinMessages//messages/easy_ham3</th><td>FALSE   </td><td>38      </td><td>FALSE   </td><td>7.436096</td></tr>\n",
       "\t<tr><th scope=row>./SpamAssassinMessages//messages/easy_ham4</th><td>FALSE   </td><td>32      </td><td>FALSE   </td><td>5.090909</td></tr>\n",
       "\t<tr><th scope=row>./SpamAssassinMessages//messages/easy_ham5</th><td> TRUE   </td><td>31      </td><td>FALSE   </td><td>6.116643</td></tr>\n",
       "\t<tr><th scope=row>./SpamAssassinMessages//messages/easy_ham15</th><td>FALSE   </td><td>89      </td><td>FALSE   </td><td>2.441794</td></tr>\n",
       "</tbody>\n",
       "</table>\n"
      ],
      "text/latex": [
       "\\begin{tabular}{r|llll}\n",
       "  & isRe & numLines & isYelling & perCaps\\\\\n",
       "\\hline\n",
       "\t./SpamAssassinMessages//messages/easy\\_ham1 &  TRUE    & 50       & FALSE    & 4.451039\\\\\n",
       "\t./SpamAssassinMessages//messages/easy\\_ham2 & FALSE    & 26       & FALSE    & 7.491289\\\\\n",
       "\t./SpamAssassinMessages//messages/easy\\_ham3 & FALSE    & 38       & FALSE    & 7.436096\\\\\n",
       "\t./SpamAssassinMessages//messages/easy\\_ham4 & FALSE    & 32       & FALSE    & 5.090909\\\\\n",
       "\t./SpamAssassinMessages//messages/easy\\_ham5 &  TRUE    & 31       & FALSE    & 6.116643\\\\\n",
       "\t./SpamAssassinMessages//messages/easy\\_ham15 & FALSE    & 89       & FALSE    & 2.441794\\\\\n",
       "\\end{tabular}\n"
      ],
      "text/markdown": [
       "\n",
       "| <!--/--> | isRe | numLines | isYelling | perCaps | \n",
       "|---|---|---|---|---|---|\n",
       "| ./SpamAssassinMessages//messages/easy_ham1 |  TRUE    | 50       | FALSE    | 4.451039 | \n",
       "| ./SpamAssassinMessages//messages/easy_ham2 | FALSE    | 26       | FALSE    | 7.491289 | \n",
       "| ./SpamAssassinMessages//messages/easy_ham3 | FALSE    | 38       | FALSE    | 7.436096 | \n",
       "| ./SpamAssassinMessages//messages/easy_ham4 | FALSE    | 32       | FALSE    | 5.090909 | \n",
       "| ./SpamAssassinMessages//messages/easy_ham5 |  TRUE    | 31       | FALSE    | 6.116643 | \n",
       "| ./SpamAssassinMessages//messages/easy_ham15 | FALSE    | 89       | FALSE    | 2.441794 | \n",
       "\n",
       "\n"
      ],
      "text/plain": [
       "                                            isRe  numLines isYelling perCaps \n",
       "./SpamAssassinMessages//messages/easy_ham1   TRUE 50       FALSE     4.451039\n",
       "./SpamAssassinMessages//messages/easy_ham2  FALSE 26       FALSE     7.491289\n",
       "./SpamAssassinMessages//messages/easy_ham3  FALSE 38       FALSE     7.436096\n",
       "./SpamAssassinMessages//messages/easy_ham4  FALSE 32       FALSE     5.090909\n",
       "./SpamAssassinMessages//messages/easy_ham5   TRUE 31       FALSE     6.116643\n",
       "./SpamAssassinMessages//messages/easy_ham15 FALSE 89       FALSE     2.441794"
      ]
     },
     "metadata": {},
     "output_type": "display_data"
    }
   ],
   "source": [
    "lapply(funcList, function(func) \n",
    "                   sapply(sampleStruct, function(msg) func(msg)))\n",
    "\n",
    "createDerivedDF =\n",
    "function(email = emailStruct, operations = funcList, \n",
    "         verbose = FALSE)\n",
    "{\n",
    "  els = lapply(names(operations),\n",
    "               function(id) {\n",
    "                 if(verbose) print(id)\n",
    "                 e = operations[[id]]\n",
    "                 v = if(is.function(e)) \n",
    "                        sapply(email, e)\n",
    "                      else \n",
    "                        sapply(email, function(msg) eval(e))\n",
    "                 v\n",
    "         })\n",
    "\n",
    "   df = as.data.frame(els)\n",
    "   names(df) = names(operations)\n",
    "   invisible(df)\n",
    "}\n",
    "\n",
    "sampleDF = createDerivedDF(sampleStruct)\n",
    "head(sampleDF)"
   ]
  },
  {
   "cell_type": "code",
   "execution_count": 41,
   "metadata": {},
   "outputs": [],
   "source": [
    "funcList = list(\n",
    "  isSpam =\n",
    "    expression(msg$isSpam)\n",
    "  ,\n",
    "  isRe =\n",
    "    function(msg) {\n",
    "      # Can have a Fwd: Re:  ... but we are not looking for this here.\n",
    "      # We may want to look at In-Reply-To field.\n",
    "      \"Subject\" %in% names(msg$header) && \n",
    "        length(grep(\"^[ \\t]*Re:\", msg$header[[\"Subject\"]])) > 0\n",
    "    }\n",
    "  ,\n",
    "  numLines =\n",
    "    function(msg) length(msg$body)\n",
    "  ,\n",
    "  bodyCharCt =\n",
    "    function(msg)\n",
    "      sum(nchar(msg$body))\n",
    "  ,\n",
    "  underscore =\n",
    "    function(msg) {\n",
    "      if(!\"Reply-To\" %in% names(msg$header))\n",
    "        return(FALSE)\n",
    "      \n",
    "      txt <- msg$header[[\"Reply-To\"]]\n",
    "      length(grep(\"_\", txt)) > 0  && \n",
    "        length(grep(\"[0-9A-Za-z]+\", txt)) > 0\n",
    "    }\n",
    "  ,\n",
    "  subExcCt = \n",
    "    function(msg) {\n",
    "      x = msg$header[\"Subject\"]\n",
    "      if(length(x) == 0 || sum(nchar(x)) == 0 || is.na(x))\n",
    "        return(NA)\n",
    "      \n",
    "      sum(nchar(gsub(\"[^!]\",\"\", x)))\n",
    "    }\n",
    "  ,\n",
    "  subQuesCt =\n",
    "    function(msg) {\n",
    "      x = msg$header[\"Subject\"]\n",
    "      if(length(x) == 0 || sum(nchar(x)) == 0 || is.na(x))\n",
    "        return(NA)\n",
    "      \n",
    "      sum(nchar(gsub(\"[^?]\",\"\", x)))\n",
    "    }\n",
    "  ,\n",
    "  numAtt = \n",
    "    function(msg) {\n",
    "      if (is.null(msg$attach)) return(0)\n",
    "      else nrow(msg$attach)\n",
    "    }\n",
    "   \n",
    "  ,\n",
    "  priority =\n",
    "    function(msg) {\n",
    "      ans <- FALSE\n",
    "      # Look for names X-Priority, Priority, X-Msmail-Priority\n",
    "      # Look for high any where in the value\n",
    "      ind = grep(\"priority\", tolower(names(msg$header)))\n",
    "      if (length(ind) > 0)  {\n",
    "        ans <- length(grep(\"high\", tolower(msg$header[ind]))) >0\n",
    "      }\n",
    "      ans\n",
    "    }\n",
    "  ,\n",
    "  numRec =\n",
    "    function(msg) {\n",
    "      # unique or not.\n",
    "      els = getMessageRecipients(msg$header)\n",
    "      \n",
    "      if(length(els) == 0)\n",
    "        return(NA)\n",
    "      \n",
    "      # Split each line by \",\"  and in each of these elements, look for\n",
    "      # the @ sign. This handles\n",
    "      tmp = sapply(strsplit(els, \",\"), function(x) grep(\"@\", x))\n",
    "      sum(sapply(tmp, length))\n",
    "    }\n",
    "  ,\n",
    "  perCaps =\n",
    "    function(msg)\n",
    "    {\n",
    "      body = paste(msg$body, collapse = \"\")\n",
    "      \n",
    "      # Return NA if the body of the message is \"empty\"\n",
    "      if(length(body) == 0 || nchar(body) == 0) return(NA)\n",
    "      \n",
    "      # Eliminate non-alpha characters and empty lines \n",
    "      body = gsub(\"[^[:alpha:]]\", \"\", body)\n",
    "      els = unlist(strsplit(body, \"\"))\n",
    "      ctCap = sum(els %in% LETTERS)\n",
    "      100 * ctCap / length(els)\n",
    "    }\n",
    "  ,\n",
    "  isInReplyTo =\n",
    "    function(msg)\n",
    "    {\n",
    "      \"In-Reply-To\" %in% names(msg$header)\n",
    "    }\n",
    "  ,\n",
    "  sortedRec =\n",
    "    function(msg)\n",
    "    {\n",
    "      ids = getMessageRecipients(msg$header)\n",
    "      all(sort(ids) == ids)\n",
    "    }\n",
    "  ,\n",
    "  subPunc =\n",
    "    function(msg)\n",
    "    {\n",
    "      if(\"Subject\" %in% names(msg$header)) {\n",
    "        el = gsub(\"['/.:@-]\", \"\", msg$header[\"Subject\"])\n",
    "        length(grep(\"[A-Za-z][[:punct:]]+[A-Za-z]\", el)) > 0\n",
    "      }\n",
    "      else\n",
    "        FALSE\n",
    "    },\n",
    "  hour =\n",
    "    function(msg)\n",
    "    {\n",
    "      date = msg$header[\"Date\"]\n",
    "      if ( is.null(date) ) return(NA)\n",
    "      # Need to handle that there may be only one digit in the hour\n",
    "      locate = regexpr(\"[0-2]?[0-9]:[0-5][0-9]:[0-5][0-9]\", date)\n",
    "      \n",
    "      if (locate < 0)\n",
    "        locate = regexpr(\"[0-2]?[0-9]:[0-5][0-9]\", date)\n",
    "      if (locate < 0) return(NA)\n",
    "      \n",
    "      hour = substring(date, locate, locate+1)\n",
    "      hour = as.numeric(gsub(\":\", \"\", hour))\n",
    "      \n",
    "      locate = regexpr(\"PM\", date)\n",
    "      if (locate > 0) hour = hour + 12\n",
    "      \n",
    "      locate = regexpr(\"[+-][0-2][0-9]00\", date)\n",
    "      if (locate < 0) offset = 0\n",
    "      else offset = as.numeric(substring(date, locate, locate + 2))\n",
    "      (hour - offset) %% 24\n",
    "    }\n",
    "  ,\n",
    "  multipartText =\n",
    "    function(msg)\n",
    "    {\n",
    "      if (is.null(msg$attach)) return(FALSE)\n",
    "      numAtt = nrow(msg$attach)\n",
    "      \n",
    "      types = \n",
    "        length(grep(\"(html|plain|text)\", msg$attach$aType)) > (numAtt/2)\n",
    "    }\n",
    "  ,\n",
    "  hasImages =\n",
    "    function(msg)\n",
    "    {\n",
    "      if (is.null(msg$attach)) return(FALSE)\n",
    "      \n",
    "      length(grep(\"^ *image\", tolower(msg$attach$aType))) > 0\n",
    "    }\n",
    "  ,\n",
    "  isPGPsigned =\n",
    "    function(msg)\n",
    "    {\n",
    "      if (is.null(msg$attach)) return(FALSE)\n",
    "      \n",
    "      length(grep(\"pgp\", tolower(msg$attach$aType))) > 0\n",
    "    },\n",
    "  perHTML =\n",
    "    function(msg)\n",
    "    {\n",
    "      if(! (\"Content-Type\" %in% names(msg$header))) return(0)\n",
    "      \n",
    "      el = tolower(msg$header[\"Content-Type\"]) \n",
    "      if (length(grep(\"html\", el)) == 0) return(0)\n",
    "      \n",
    "      els = gsub(\"[[:space:]]\", \"\", msg$body)\n",
    "      totchar = sum(nchar(els))\n",
    "      totplain = sum(nchar(gsub(\"<[^<]+>\", \"\", els )))\n",
    "      100 * (totchar - totplain)/totchar\n",
    "    },\n",
    "  subSpamWords =\n",
    "    function(msg)\n",
    "    {\n",
    "      if(\"Subject\" %in% names(msg$header))\n",
    "        length(grep(paste(SpamCheckWords, collapse = \"|\"), \n",
    "                    tolower(msg$header[\"Subject\"]))) > 0\n",
    "      else\n",
    "        NA\n",
    "    }\n",
    "  ,\n",
    "  subBlanks =\n",
    "    function(msg)\n",
    "    {\n",
    "      if(\"Subject\" %in% names(msg$header)) {\n",
    "        x = msg$header[\"Subject\"]\n",
    "        # should we count blank subject line as 0 or 1 or NA?\n",
    "        if (nchar(x) == 1) return(0)\n",
    "        else 100 *(1 - (nchar(gsub(\"[[:blank:]]\", \"\", x))/nchar(x)))\n",
    "      } else NA\n",
    "    }\n",
    "  ,\n",
    "  noHost =\n",
    "    function(msg)\n",
    "    {\n",
    "      # Or use partial matching.\n",
    "      idx = pmatch(\"Message-\", names(msg$header))\n",
    "      \n",
    "      if(is.na(idx)) return(NA)\n",
    "      \n",
    "      tmp = msg$header[idx]\n",
    "      return(length(grep(\".*@[^[:space:]]+\", tmp)) ==  0)\n",
    "    }\n",
    "  ,\n",
    "  numEnd =\n",
    "    function(msg)\n",
    "    {\n",
    "      # If we just do a grep(\"[0-9]@\",  )\n",
    "      # we get matches on messages that have a From something like\n",
    "      # \" \\\"marty66@aol.com\\\" <synjan@ecis.com>\"\n",
    "      # and the marty66 is the \"user's name\" not the login\n",
    "      # So we can be more precise if we want.\n",
    "      x = names(msg$header)\n",
    "      if ( !( \"From\" %in% x) ) return(NA)\n",
    "      login = gsub(\"^.*<\", \"\", msg$header[\"From\"])\n",
    "      if ( is.null(login) ) \n",
    "        login = gsub(\"^.*<\", \"\", msg$header[\"X-From\"])\n",
    "      if ( is.null(login) ) return(NA)\n",
    "      login = strsplit(login, \"@\")[[1]][1]\n",
    "      length(grep(\"[0-9]+$\", login)) > 0\n",
    "    },\n",
    "  isYelling =\n",
    "    function(msg)\n",
    "    {\n",
    "      if ( \"Subject\" %in% names(msg$header) ) {\n",
    "        el = gsub(\"[^[:alpha:]]\", \"\", msg$header[\"Subject\"])\n",
    "        if (nchar(el) > 0) nchar(gsub(\"[A-Z]\", \"\", el)) < 1\n",
    "        else FALSE\n",
    "      }\n",
    "      else\n",
    "        NA\n",
    "    },\n",
    "  forwards =\n",
    "    function(msg)\n",
    "    {\n",
    "      x = msg$body\n",
    "      if(length(x) == 0 || sum(nchar(x)) == 0)\n",
    "        return(NA)\n",
    "      \n",
    "      ans = length(grep(\"^[[:space:]]*>\", x))\n",
    "      100 * ans / length(x)\n",
    "    },\n",
    "  isOrigMsg =\n",
    "    function(msg)\n",
    "    {\n",
    "      x = msg$body\n",
    "      if(length(x) == 0) return(NA)\n",
    "      \n",
    "      length(grep(\"^[^[:alpha:]]*original[^[:alpha:]]+message[^[:alpha:]]*$\", \n",
    "                  tolower(x) ) ) > 0\n",
    "    },\n",
    "  isDear =\n",
    "    function(msg)\n",
    "    {\n",
    "      x = msg$body\n",
    "      if(length(x) == 0) return(NA)\n",
    "      \n",
    "      length(grep(\"^[[:blank:]]*dear +(sir|madam)\\\\>\", \n",
    "                  tolower(x))) > 0\n",
    "    },\n",
    "  isWrote =\n",
    "    function(msg)\n",
    "    {\n",
    "      x = msg$body\n",
    "      if(length(x) == 0) return(NA)\n",
    "      \n",
    "      length(grep(\"(wrote|schrieb|ecrit|escribe):\", tolower(x) )) > 0\n",
    "    },\n",
    "  avgWordLen =\n",
    "    function(msg)\n",
    "    {\n",
    "      txt = paste(msg$body, collapse = \" \")\n",
    "      if(length(txt) == 0 || sum(nchar(txt)) == 0) return(0)\n",
    "      \n",
    "      txt = gsub(\"[^[:alpha:]]\", \" \", txt)\n",
    "      words = unlist(strsplit(txt, \"[[:blank:]]+\"))\n",
    "      wordLens = nchar(words)\n",
    "      mean(wordLens[ wordLens > 0 ])\n",
    "    }\n",
    "  ,\n",
    "  numDlr =\n",
    "    function(msg)\n",
    "    {\n",
    "      x = paste(msg$body, collapse = \"\")\n",
    "      if(length(x) == 0 || sum(nchar(x)) == 0)\n",
    "        return(NA)\n",
    "      \n",
    "      nchar(gsub(\"[^$]\",\"\", x))\n",
    "    }\n",
    ")\n",
    "\n"
   ]
  },
  {
   "cell_type": "code",
   "execution_count": 42,
   "metadata": {},
   "outputs": [
    {
     "data": {
      "text/html": [
       "<ol class=list-inline>\n",
       "\t<li>6046</li>\n",
       "\t<li>30</li>\n",
       "</ol>\n"
      ],
      "text/latex": [
       "\\begin{enumerate*}\n",
       "\\item 6046\n",
       "\\item 30\n",
       "\\end{enumerate*}\n"
      ],
      "text/markdown": [
       "1. 6046\n",
       "2. 30\n",
       "\n",
       "\n"
      ],
      "text/plain": [
       "[1] 6046   30"
      ]
     },
     "metadata": {},
     "output_type": "display_data"
    }
   ],
   "source": [
    "SpamCheckWords =\n",
    "  c(\"viagra\", \"pounds\", \"free\", \"weight\", \"guarantee\", \"million\", \n",
    "    \"dollars\", \"credit\", \"risk\", \"prescription\", \"generic\", \"drug\",\n",
    "    \"financial\", \"save\", \"dollar\", \"erotic\", \"million\", \"barrister\",\n",
    "    \"beneficiary\", \"easy\", \n",
    "    \"money back\", \"money\", \"credit card\")\n",
    "\n",
    "\n",
    "getMessageRecipients =\n",
    "  function(header)\n",
    "  {\n",
    "    c(if(\"To\" %in% names(header))  header[[\"To\"]] else character(0),\n",
    "      if(\"Cc\" %in% names(header))  header[[\"Cc\"]] else character(0),\n",
    "      if(\"Bcc\" %in% names(header)) header[[\"Bcc\"]] else character(0)\n",
    "    )\n",
    "  }\n",
    "\n",
    "emailDF = createDerivedDF(emailStruct)\n",
    "dim(emailDF)\n",
    "#save(emailDF, file = \"spamAssassinDerivedDF.rda\")"
   ]
  },
  {
   "cell_type": "code",
   "execution_count": 43,
   "metadata": {},
   "outputs": [
    {
     "data": {
      "text/html": [
       "<ol class=list-inline>\n",
       "\t<li>6046</li>\n",
       "\t<li>30</li>\n",
       "</ol>\n"
      ],
      "text/latex": [
       "\\begin{enumerate*}\n",
       "\\item 6046\n",
       "\\item 30\n",
       "\\end{enumerate*}\n"
      ],
      "text/markdown": [
       "1. 6046\n",
       "2. 30\n",
       "\n",
       "\n"
      ],
      "text/plain": [
       "[1] 6046   30"
      ]
     },
     "metadata": {},
     "output_type": "display_data"
    }
   ],
   "source": [
    "#load(\"Data/spamAssassinDerivedDF.rda\")\n",
    "dim(emailDF)\n",
    "\n",
    "perCaps2 =\n",
    "function(msg)\n",
    "{\n",
    "  body = paste(msg$body, collapse = \"\")\n",
    "\n",
    "       # Return NA if the body of the message is \"empty\"\n",
    "  if(length(body) == 0 || nchar(body) == 0) return(NA)\n",
    "\n",
    "       # Eliminate non-alpha characters and empty lines \n",
    "  body = gsub(\"[^[:alpha:]]\", \"\", body)\n",
    "  els = unlist(strsplit(body, \"\"))\n",
    "  ctCap = sum(els %in% LETTERS)\n",
    "  100 * ctCap / length(els)\n",
    "}\n"
   ]
  },
  {
   "cell_type": "code",
   "execution_count": 44,
   "metadata": {},
   "outputs": [
    {
     "data": {
      "text/html": [
       "TRUE"
      ],
      "text/latex": [
       "TRUE"
      ],
      "text/markdown": [
       "TRUE"
      ],
      "text/plain": [
       "[1] TRUE"
      ]
     },
     "metadata": {},
     "output_type": "display_data"
    },
    {
     "name": "stderr",
     "output_type": "stream",
     "text": [
      "Warning message in indNA == indNoSubject:\n",
      "\"longer object length is not a multiple of shorter object length\""
     ]
    },
    {
     "data": {
      "text/html": [
       "FALSE"
      ],
      "text/latex": [
       "FALSE"
      ],
      "text/markdown": [
       "FALSE"
      ],
      "text/plain": [
       "[1] FALSE"
      ]
     },
     "metadata": {},
     "output_type": "display_data"
    },
    {
     "data": {
      "text/html": [
       "TRUE"
      ],
      "text/latex": [
       "TRUE"
      ],
      "text/markdown": [
       "TRUE"
      ],
      "text/plain": [
       "[1] TRUE"
      ]
     },
     "metadata": {},
     "output_type": "display_data"
    }
   ],
   "source": [
    "pC = sapply(emailStruct, perCaps)\n",
    "pC2 = sapply(emailStruct, perCaps2)\n",
    "identical(pC, pC2)\n",
    "\n",
    "indNA = which(is.na(emailDF$subExcCt))\n",
    "\n",
    "indNoSubject = which(sapply(emailStruct, \n",
    "                            function(msg) \n",
    "                              !(\"Subject\" %in% names(msg$header))))\n",
    "\n",
    "all(indNA == indNoSubject)\n",
    "\n",
    "all(emailDF$bodyCharCt > emailDF$numLines)\n",
    "\n",
    "\n",
    "x.at = c(1,10,100,1000,10000,100000)\n",
    "y.at = c(1, 5, 10, 50, 100, 500, 5000)\n",
    "nL = 1 + emailDF$numLines\n",
    "nC = 1 + emailDF$bodyCharCt"
   ]
  },
  {
   "cell_type": "code",
   "execution_count": 45,
   "metadata": {},
   "outputs": [
    {
     "data": {
      "text/html": [
       "<strong>null device:</strong> 1"
      ],
      "text/latex": [
       "\\textbf{null device:} 1"
      ],
      "text/markdown": [
       "**null device:** 1"
      ],
      "text/plain": [
       "null device \n",
       "          1 "
      ]
     },
     "metadata": {},
     "output_type": "display_data"
    },
    {
     "data": {
      "image/png": "[encoded data removed]",
      "text/plain": [
       "plot without title"
      ]
     },
     "metadata": {},
     "output_type": "display_data"
    }
   ],
   "source": [
    "#pdf(\"ScatterPlotNumLinesNumChars.pdf\", width = 6, height = 4.5)\n",
    "plot(nL ~ nC, log = \"xy\", pch=\".\", xlim=c(1,100000), axes = FALSE,\n",
    "     xlab = \"Number of Characters\", ylab = \"Number of Lines\")\n",
    "box() \n",
    "axis(1, at = x.at, labels = formatC(x.at, digits = 0, format=\"d\"))\n",
    "axis(2, at = y.at, labels = formatC(y.at, digits = 0, format=\"d\")) \n",
    "abline(a=0, b=1, col=\"red\", lwd = 2)\n",
    "dev.off()\n",
    "\n",
    "#pdf(\"SPAM_boxplotsPercentCaps.pdf\", width = 5, height = 5)\n",
    "\n",
    "percent = emailDF$perCaps\n",
    "isSpamLabs = factor(emailDF$isSpam, labels = c(\"ham\", \"spam\"))\n",
    "boxplot(log(1 + percent) ~ isSpamLabs,\n",
    "        ylab = \"Percent Capitals (log)\")\n",
    "\n",
    "#dev.off()"
   ]
  },
  {
   "cell_type": "code",
   "execution_count": 46,
   "metadata": {},
   "outputs": [
    {
     "data": {
      "image/png": "[encoded data removed]",
      "text/plain": [
       "Plot with title \"Percentage of Capital Letters (log scale)\""
      ]
     },
     "metadata": {},
     "output_type": "display_data"
    }
   ],
   "source": [
    "logPerCapsSpam = log(1 + emailDF$perCaps[ emailDF$isSpam ])\n",
    "logPerCapsHam = log(1 + emailDF$perCaps[ !emailDF$isSpam ])\n",
    "\n",
    "qqplot(logPerCapsSpam, logPerCapsHam, \n",
    "       xlab = \"Regular Email\", ylab = \"Spam Email\", \n",
    "       main = \"Percentage of Capital Letters (log scale)\",\n",
    "       pch = 19, cex = 0.3)"
   ]
  },
  {
   "cell_type": "code",
   "execution_count": 47,
   "metadata": {},
   "outputs": [
    {
     "data": {
      "text/plain": [
       "    isSpamLabs\n",
       "      ham spam\n",
       "  0  3959 1711\n",
       "  1   182  177\n",
       "  2     7    5\n",
       "  4     0    1\n",
       "  5     1    2\n",
       "  18    1    0"
      ]
     },
     "metadata": {},
     "output_type": "display_data"
    },
    {
     "data": {
      "image/png": "[encoded data removed]",
      "text/plain": [
       "plot without title"
      ]
     },
     "metadata": {},
     "output_type": "display_data"
    },
    {
     "data": {
      "image/png": "[encoded data removed]",
      "text/plain": [
       "Plot with title \"\""
      ]
     },
     "metadata": {},
     "output_type": "display_data"
    }
   ],
   "source": [
    "#pdf(\"SPAM_scatterplotPercentCapsTotChars.pdf\", width = 8, height = 6)\n",
    " \n",
    "colI = c(\"#4DAF4A80\", \"#984EA380\")\n",
    "logBodyCharCt = log(1 + emailDF$bodyCharCt)\n",
    "logPerCaps = log(1 + emailDF$perCaps)\n",
    "plot(logPerCaps ~ logBodyCharCt, xlab = \"Total Characters (log)\",\n",
    "     ylab = \"Percent Capitals (log)\",\n",
    "     col = colI[1 + emailDF$isSpam],\n",
    "     xlim = c(2,12), pch = 19, cex = 0.5)\n",
    "\n",
    "#dev.off()\n",
    "\n",
    "table(emailDF$numAtt, isSpamLabs)\n",
    "#pdf(\"SPAM_mosaicPlots.pdf\", width = 8, height = 4)\n",
    "\n",
    "oldPar = par(mfrow = c(1, 2), mar = c(1,1,1,1))\n",
    "\n",
    "colM = c(\"#E41A1C80\", \"#377EB880\")\n",
    "isRe = factor(emailDF$isRe, labels = c(\"no Re:\", \"Re:\"))\n",
    "mosaicplot(table(isSpamLabs, isRe), main = \"\",\n",
    "           xlab = \"\", ylab = \"\", color = colM)\n",
    "\n",
    "fromNE = factor(emailDF$numEnd, labels = c(\"No #\", \"#\"))\n",
    "mosaicplot(table(isSpamLabs, fromNE), color = colM,\n",
    "           main = \"\", xlab=\"\", ylab = \"\")\n",
    "\n",
    "par(oldPar)\n",
    "\n",
    "#dev.off()\n",
    "\n",
    "library(rpart)\n",
    "\n",
    "setupRpart = function(data) {\n",
    "  logicalVars = which(sapply(data, is.logical))\n",
    "  facVars = lapply(data[ , logicalVars], \n",
    "                   function(x) {\n",
    "                      x = as.factor(x)\n",
    "                      levels(x) = c(\"F\", \"T\")\n",
    "                      x\n",
    "                   })\n",
    "  cbind(facVars, data[ , - logicalVars])\n",
    "}\n",
    "\n",
    "emailDFrp = setupRpart(emailDF)"
   ]
  },
  {
   "cell_type": "code",
   "execution_count": 48,
   "metadata": {},
   "outputs": [],
   "source": [
    "\n",
    "\n",
    "set.seed(418910)\n",
    "testSpamIdx = sample(numSpam, size = floor(numSpam/3))\n",
    "testHamIdx = sample(numHam, size = floor(numHam/3))\n",
    "\n",
    "testDF = \n",
    "  rbind( emailDFrp[ emailDFrp$isSpam == \"T\", ][testSpamIdx, ],\n",
    "         emailDFrp[emailDFrp$isSpam == \"F\", ][testHamIdx, ] )\n",
    "trainDF =\n",
    "  rbind( emailDFrp[emailDFrp$isSpam == \"T\", ][-testSpamIdx, ], \n",
    "         emailDFrp[emailDFrp$isSpam == \"F\", ][-testHamIdx, ])\n",
    "\n",
    "rpartFit = rpart(isSpam ~ ., data = trainDF, method = \"class\")\n"
   ]
  },
  {
   "cell_type": "code",
   "execution_count": 59,
   "metadata": {},
   "outputs": [
    {
     "name": "stderr",
     "output_type": "stream",
     "text": [
      "Warning message:\n",
      "\"package 'rpart.plot' was built under R version 3.5.3\""
     ]
    },
    {
     "data": {
      "text/html": [
       "<dl class=dl-horizontal>\n",
       "\t<dt>F</dt>\n",
       "\t\t<dd>1271</dd>\n",
       "\t<dt>T</dt>\n",
       "\t\t<dd>112</dd>\n",
       "</dl>\n"
      ],
      "text/latex": [
       "\\begin{description*}\n",
       "\\item[F] 1271\n",
       "\\item[T] 112\n",
       "\\end{description*}\n"
      ],
      "text/markdown": [
       "F\n",
       ":   1271T\n",
       ":   112\n",
       "\n"
      ],
      "text/plain": [
       "   F    T \n",
       "1271  112 "
      ]
     },
     "metadata": {},
     "output_type": "display_data"
    },
    {
     "data": {
      "text/html": [
       "0.0809833694866233"
      ],
      "text/latex": [
       "0.0809833694866233"
      ],
      "text/markdown": [
       "0.0809833694866233"
      ],
      "text/plain": [
       "[1] 0.08098337"
      ]
     },
     "metadata": {},
     "output_type": "display_data"
    },
    {
     "data": {
      "text/html": [
       "0.139240506329114"
      ],
      "text/latex": [
       "0.139240506329114"
      ],
      "text/markdown": [
       "0.139240506329114"
      ],
      "text/plain": [
       "[1] 0.1392405"
      ]
     },
     "metadata": {},
     "output_type": "display_data"
    },
    {
     "data": {
      "image/png": "[encoded data removed]",
      "text/plain": [
       "plot without title"
      ]
     },
     "metadata": {},
     "output_type": "display_data"
    }
   ],
   "source": [
    "\n",
    "library(rpart.plot)\n",
    "\n",
    "prp(rpartFit, extra = 1)\n",
    "\n",
    "library(rpart)\n",
    "#pdf(\"SPAM_rpartTree.pdf\", width = 7, height = 7)\n",
    "\n",
    "prp(rpartFit, extra = 1)\n",
    "#dev.off()\n",
    "\n",
    "predictions = predict(rpartFit, \n",
    "       newdata = testDF[, names(testDF) != \"isSpam\"],\n",
    "       type = \"class\")\n",
    " \n",
    "predsForHam = predictions[ testDF$isSpam == \"F\" ]\n",
    "summary(predsForHam)\n",
    "\n",
    "sum(predsForHam == \"T\") / length(predsForHam)\n",
    "\n",
    "predsForSpam = predictions[ testDF$isSpam == \"T\" ]\n",
    "sum(predsForSpam == \"F\") / length(predsForSpam)\n",
    "\n",
    "complexityVals = c(seq(0.00001, 0.0001, length=19),\n",
    "                   seq(0.0001, 0.001, length=19), \n",
    "                   seq(0.001, 0.005, length=9),\n",
    "                   seq(0.005, 0.01, length=9))"
   ]
  },
  {
   "cell_type": "code",
   "execution_count": 60,
   "metadata": {},
   "outputs": [],
   "source": [
    "fits = lapply(complexityVals, function(x) {\n",
    "         rpartObj = rpart(isSpam ~ ., data = trainDF,\n",
    "                          method=\"class\", \n",
    "                          control = rpart.control(cp=x) )\n",
    "           \n",
    "         predict(rpartObj, \n",
    "                 newdata = testDF[ , names(testDF) != \"isSpam\"],\n",
    "                 type = \"class\")\n",
    "        })\n",
    "\n",
    "spam = testDF$isSpam == \"T\"\n",
    "numSpam = sum(spam)\n",
    "numHam = sum(!spam)\n",
    "errs = sapply(fits, function(preds) {\n",
    "                      typeI = sum(preds[ !spam ] == \"T\") / numHam\n",
    "                      typeII = sum(preds[ spam ] == \"F\") / numSpam\n",
    "                      c(typeI = typeI, typeII = typeII)\n",
    "                     })\n"
   ]
  },
  {
   "cell_type": "code",
   "execution_count": 61,
   "metadata": {},
   "outputs": [
    {
     "data": {
      "image/png": "[encoded data removed]",
      "text/plain": [
       "plot without title"
      ]
     },
     "metadata": {},
     "output_type": "display_data"
    }
   ],
   "source": [
    "\n",
    "#pdf(\"SPAM_rpartTypeIandII.pdf\", width = 8, height = 7)\n",
    "library(RColorBrewer)\n",
    "cols = brewer.pal(9, \"Set1\")[c(3, 4, 5)]\n",
    "plot(errs[1,] ~ complexityVals, type=\"l\", col=cols[2], \n",
    "     lwd = 2, ylim = c(0,0.2), xlim = c(0,0.01), \n",
    "     ylab=\"Error\", xlab=\"complexity parameter values\")\n",
    "points(errs[2,] ~ complexityVals, type=\"l\", col=cols[1], lwd = 2)\n",
    "\n",
    "text(x =c(0.003, 0.0035), y = c(0.12, 0.05), \n",
    "     labels=c(\"Type II Error\", \"Type I Error\"))\n",
    "\n",
    "minI = which(errs[1,] == min(errs[1,]))[1]\n",
    "abline(v = complexityVals[minI], col =\"grey\", lty =3, lwd=2)\n",
    "\n",
    "text(0.0007, errs[1, minI]+0.01, \n",
    "     formatC(errs[1, minI], digits = 2))\n",
    "text(0.0007, errs[2, minI]+0.01, \n",
    "     formatC(errs[2, minI], digits = 3))\n",
    "\n",
    "#dev.off()"
   ]
  },
  {
   "cell_type": "code",
   "execution_count": 62,
   "metadata": {},
   "outputs": [],
   "source": [
    "save(emailDFrp,file=\"data.Rda\")"
   ]
  },
  {
   "cell_type": "code",
   "execution_count": 63,
   "metadata": {},
   "outputs": [],
   "source": [
    "library(caret)"
   ]
  },
  {
   "cell_type": "markdown",
   "metadata": {},
   "source": [
    "## Ok so first of all our data is in T/F 'factors'.  \n",
    "We need to change it to numbers.  And as it turns out, there are quite a few NANs as well.  Let's set those to zero because imputation was 9 weeks ago"
   ]
  },
  {
   "cell_type": "code",
   "execution_count": 64,
   "metadata": {},
   "outputs": [],
   "source": [
    "setupRnum = function(data) {\n",
    "  logicalVars = which(sapply(data, is.logical))\n",
    "  facVars = lapply(data[ , logicalVars], \n",
    "                   function(x) {\n",
    "                      x = as.numeric(x)\n",
    "                   })\n",
    "  cbind(facVars, data[ , - logicalVars])\n",
    "}\n",
    "\n",
    "emailDFnum = setupRnum(emailDF)\n",
    "\n",
    "emailDFnum[is.na(emailDFnum)]<-0"
   ]
  },
  {
   "cell_type": "markdown",
   "metadata": {},
   "source": [
    "## I think i may skip this and see if I can get the folds to work internally to caret\n",
    "However, one way to define your folds is to set a seed, and have your folds in a list that you can pass on to others to get the same splits."
   ]
  },
  {
   "cell_type": "code",
   "execution_count": 65,
   "metadata": {},
   "outputs": [
    {
     "data": {
      "text/html": [
       "<dl class=dl-horizontal>\n",
       "\t<dt>Fold1</dt>\n",
       "\t\t<dd>4836</dd>\n",
       "\t<dt>Fold2</dt>\n",
       "\t\t<dd>4837</dd>\n",
       "\t<dt>Fold3</dt>\n",
       "\t\t<dd>4837</dd>\n",
       "\t<dt>Fold4</dt>\n",
       "\t\t<dd>4837</dd>\n",
       "\t<dt>Fold5</dt>\n",
       "\t\t<dd>4837</dd>\n",
       "</dl>\n"
      ],
      "text/latex": [
       "\\begin{description*}\n",
       "\\item[Fold1] 4836\n",
       "\\item[Fold2] 4837\n",
       "\\item[Fold3] 4837\n",
       "\\item[Fold4] 4837\n",
       "\\item[Fold5] 4837\n",
       "\\end{description*}\n"
      ],
      "text/markdown": [
       "Fold1\n",
       ":   4836Fold2\n",
       ":   4837Fold3\n",
       ":   4837Fold4\n",
       ":   4837Fold5\n",
       ":   4837\n",
       "\n"
      ],
      "text/plain": [
       "Fold1 Fold2 Fold3 Fold4 Fold5 \n",
       " 4836  4837  4837  4837  4837 "
      ]
     },
     "metadata": {},
     "output_type": "display_data"
    }
   ],
   "source": [
    "\n",
    "cv_folds <- createFolds(emailDFnum$isSpam, k=5, list=TRUE, returnTrain = TRUE)\n",
    "lengths(cv_folds)"
   ]
  },
  {
   "cell_type": "markdown",
   "metadata": {},
   "source": [
    "## Finally Metric Stuff\n",
    "Because our authors prefer Type I/II errors, but the cool kids know that precision/recall/F1 is where its at, while the default of caret is accuracy and kappa.  To get us all on the same page, I create a function that returns the metrics we want.  However, rather than re-invent the wheel, I just install a package.  I am not sure if it had Type I/II errors so those I made my self.  \\#MLSwag"
   ]
  },
  {
   "cell_type": "code",
   "execution_count": 68,
   "metadata": {},
   "outputs": [
    {
     "name": "stderr",
     "output_type": "stream",
     "text": [
      "Warning message:\n",
      "\"package 'MLmetrics' was built under R version 3.5.3\"\n",
      "Attaching package: 'MLmetrics'\n",
      "\n",
      "The following objects are masked from 'package:caret':\n",
      "\n",
      "    MAE, RMSE\n",
      "\n",
      "The following object is masked from 'package:base':\n",
      "\n",
      "    Recall\n",
      "\n"
     ]
    }
   ],
   "source": [
    "library(MLmetrics)\n",
    "f1 <- function(data, lev = NULL, model = NULL) {\n",
    "  f1_val <- F1_Score(y_pred = data$pred, y_true = data$obs, positive = lev[1])\n",
    "  p <- Precision(y_pred = data$pred, y_true = data$obs, positive = lev[1])\n",
    "  r <- Recall(y_pred = data$pred, y_true = data$obs, positive = lev[1])\n",
    "  fp <-sum(data$pred==0 & data$obs==1)/length(data$pred)  \n",
    " \n",
    "  fn <-sum(data$pred==1 & data$obs==0)/length(data$pred)\n",
    "    c(F1 = f1_val,\n",
    "    prec = p,\n",
    "    rec = r,\n",
    "    Type_I_err=fp,\n",
    "    Type_II_err=fn\n",
    "   )\n",
    "}"
   ]
  },
  {
   "cell_type": "markdown",
   "metadata": {},
   "source": [
    "ok so lets get the naive bayes packages installed. (first 2 lines)\n",
    "The next line makes a dataframe of all the parameters to check.  \n",
    "If you don't know what they are, look them up\n",
    "https://topepo.github.io/caret/available-models.html\n",
    "\n",
    "Then we create a trainControl object.  It tells caret how to train--using a cross-validation ('cv') with 3 folds in this case (number = 3).  We want the final predictions of the best model and our summary is the custom function from above.\n",
    "\n",
    "Then we create our model: \"model_nb\".  We user the caret::train method.  We make 'isSpam' a factor because R is dumb and can't figure out that 1 and 0 are classes.  \n",
    "*as.factor(isSpam) ~ .*  means Y=as.factor(isSpam), X=everything else.\n",
    "    \n",
    "*method* is the package we are using, and we pass our tuning grid."
   ]
  },
  {
   "cell_type": "code",
   "execution_count": 71,
   "metadata": {},
   "outputs": [
    {
     "name": "stderr",
     "output_type": "stream",
     "text": [
      "Warning message:\n",
      "\"package 'naivebayes' was built under R version 3.5.3\"naivebayes 0.9.6 loaded\n",
      "Warning message:\n",
      "\"package 'e1071' was built under R version 3.5.3\"Warning message in train.default(x, y, weights = w, ...):\n",
      "\"The metric \"Accuracy\" was not in the result set. F1 will be used instead.\"Warning message:\n",
      "\"model fit failed for Fold1: laplace=0.0, usekernel= TRUE, adjust=FALSE Error in density.default(x, na.rm = TRUE, ...) : 'bw' is not positive.\n",
      "\"Warning message:\n",
      "\"model fit failed for Fold1: laplace=0.1, usekernel= TRUE, adjust=FALSE Error in density.default(x, na.rm = TRUE, ...) : 'bw' is not positive.\n",
      "\"Warning message:\n",
      "\"model fit failed for Fold1: laplace=0.3, usekernel= TRUE, adjust=FALSE Error in density.default(x, na.rm = TRUE, ...) : 'bw' is not positive.\n",
      "\"Warning message:\n",
      "\"model fit failed for Fold1: laplace=0.5, usekernel= TRUE, adjust=FALSE Error in density.default(x, na.rm = TRUE, ...) : 'bw' is not positive.\n",
      "\"Warning message:\n",
      "\"model fit failed for Fold1: laplace=1.0, usekernel= TRUE, adjust=FALSE Error in density.default(x, na.rm = TRUE, ...) : 'bw' is not positive.\n",
      "\"Warning message:\n",
      "\"model fit failed for Fold2: laplace=0.0, usekernel= TRUE, adjust=FALSE Error in density.default(x, na.rm = TRUE, ...) : 'bw' is not positive.\n",
      "\"Warning message:\n",
      "\"model fit failed for Fold2: laplace=0.1, usekernel= TRUE, adjust=FALSE Error in density.default(x, na.rm = TRUE, ...) : 'bw' is not positive.\n",
      "\"Warning message:\n",
      "\"model fit failed for Fold2: laplace=0.3, usekernel= TRUE, adjust=FALSE Error in density.default(x, na.rm = TRUE, ...) : 'bw' is not positive.\n",
      "\"Warning message:\n",
      "\"model fit failed for Fold2: laplace=0.5, usekernel= TRUE, adjust=FALSE Error in density.default(x, na.rm = TRUE, ...) : 'bw' is not positive.\n",
      "\"Warning message:\n",
      "\"model fit failed for Fold2: laplace=1.0, usekernel= TRUE, adjust=FALSE Error in density.default(x, na.rm = TRUE, ...) : 'bw' is not positive.\n",
      "\"Warning message:\n",
      "\"model fit failed for Fold3: laplace=0.0, usekernel= TRUE, adjust=FALSE Error in density.default(x, na.rm = TRUE, ...) : 'bw' is not positive.\n",
      "\"Warning message:\n",
      "\"model fit failed for Fold3: laplace=0.1, usekernel= TRUE, adjust=FALSE Error in density.default(x, na.rm = TRUE, ...) : 'bw' is not positive.\n",
      "\"Warning message:\n",
      "\"model fit failed for Fold3: laplace=0.3, usekernel= TRUE, adjust=FALSE Error in density.default(x, na.rm = TRUE, ...) : 'bw' is not positive.\n",
      "\"Warning message:\n",
      "\"model fit failed for Fold3: laplace=0.5, usekernel= TRUE, adjust=FALSE Error in density.default(x, na.rm = TRUE, ...) : 'bw' is not positive.\n",
      "\"Warning message:\n",
      "\"model fit failed for Fold3: laplace=1.0, usekernel= TRUE, adjust=FALSE Error in density.default(x, na.rm = TRUE, ...) : 'bw' is not positive.\n",
      "\"Warning message in nominalTrainWorkflow(x = x, y = y, wts = weights, info = trainInfo, :\n",
      "\"There were missing values in resampled performance measures.\"Warning message in train.default(x, y, weights = w, ...):\n",
      "\"missing values found in aggregated results\""
     ]
    },
    {
     "data": {
      "text/plain": [
       "Naive Bayes \n",
       "\n",
       "6046 samples\n",
       "  29 predictor\n",
       "   2 classes: '0', '1' \n",
       "\n",
       "No pre-processing\n",
       "Resampling: Cross-Validated (3 fold) \n",
       "Summary of sample sizes: 4031, 4030, 4031 \n",
       "Resampling results across tuning parameters:\n",
       "\n",
       "  laplace  usekernel  adjust  F1         prec       rec        Type_I_err\n",
       "  0.0      FALSE      FALSE   0.9169619  0.9351706  0.8995179  0.04283925\n",
       "  0.0      FALSE       TRUE   0.9169619  0.9351706  0.8995179  0.04283925\n",
       "  0.0       TRUE      FALSE         NaN        NaN        NaN         NaN\n",
       "  0.0       TRUE       TRUE   0.8610088  0.7587023  0.9954218  0.21766037\n",
       "  0.1      FALSE      FALSE   0.9169619  0.9351706  0.8995179  0.04283925\n",
       "  0.1      FALSE       TRUE   0.9169619  0.9351706  0.8995179  0.04283925\n",
       "  0.1       TRUE      FALSE         NaN        NaN        NaN         NaN\n",
       "  0.1       TRUE       TRUE   0.8610088  0.7587023  0.9954218  0.21766037\n",
       "  0.3      FALSE      FALSE   0.9169619  0.9351706  0.8995179  0.04283925\n",
       "  0.3      FALSE       TRUE   0.9169619  0.9351706  0.8995179  0.04283925\n",
       "  0.3       TRUE      FALSE         NaN        NaN        NaN         NaN\n",
       "  0.3       TRUE       TRUE   0.8610088  0.7587023  0.9954218  0.21766037\n",
       "  0.5      FALSE      FALSE   0.9169619  0.9351706  0.8995179  0.04283925\n",
       "  0.5      FALSE       TRUE   0.9169619  0.9351706  0.8995179  0.04283925\n",
       "  0.5       TRUE      FALSE         NaN        NaN        NaN         NaN\n",
       "  0.5       TRUE       TRUE   0.8610088  0.7587023  0.9954218  0.21766037\n",
       "  1.0      FALSE      FALSE   0.9169619  0.9351706  0.8995179  0.04283925\n",
       "  1.0      FALSE       TRUE   0.9169619  0.9351706  0.8995179  0.04283925\n",
       "  1.0       TRUE      FALSE         NaN        NaN        NaN         NaN\n",
       "  1.0       TRUE       TRUE   0.8610088  0.7587023  0.9954218  0.21766037\n",
       "  Type_II_err\n",
       "  0.068971306\n",
       "  0.068971306\n",
       "          NaN\n",
       "  0.003142519\n",
       "  0.068971306\n",
       "  0.068971306\n",
       "          NaN\n",
       "  0.003142519\n",
       "  0.068971306\n",
       "  0.068971306\n",
       "          NaN\n",
       "  0.003142519\n",
       "  0.068971306\n",
       "  0.068971306\n",
       "          NaN\n",
       "  0.003142519\n",
       "  0.068971306\n",
       "  0.068971306\n",
       "          NaN\n",
       "  0.003142519\n",
       "\n",
       "F1 was used to select the optimal model using the largest value.\n",
       "The final values used for the model were laplace = 0, usekernel = FALSE\n",
       " and adjust = FALSE."
      ]
     },
     "metadata": {},
     "output_type": "display_data"
    }
   ],
   "source": [
    "library(naivebayes)\n",
    "library(e1071)\n",
    "nb_grid<-expand.grid(laplace=c(0,0.1,0.3,0.5,1), usekernel=c(T,F), adjust=c(T,F))\n",
    "train_control<-trainControl(method=\"cv\", number=3, savePredictions = 'final',summaryFunction = f1)\n",
    "model_nb<-caret::train(as.factor(isSpam) ~ .,data=emailDFnum, trControl = train_control, method='naive_bayes',tuneGrid = nb_grid)\n",
    "model_nb"
   ]
  },
  {
   "cell_type": "code",
   "execution_count": 72,
   "metadata": {},
   "outputs": [
    {
     "data": {
      "text/plain": [
       "\n",
       "Fold1 Fold2 Fold3 \n",
       " 2015  2016  2015 "
      ]
     },
     "metadata": {},
     "output_type": "display_data"
    }
   ],
   "source": [
    "#Did the boss fool us with the folds?  Nope.\n",
    "table(model_nb$pred['Resample'])"
   ]
  },
  {
   "cell_type": "code",
   "execution_count": 73,
   "metadata": {},
   "outputs": [
    {
     "name": "stderr",
     "output_type": "stream",
     "text": [
      "Warning message in train.default(x, y, weights = w, ...):\n",
      "\"The metric \"Accuracy\" was not in the result set. F1 will be used instead.\""
     ]
    },
    {
     "data": {
      "text/plain": [
       "CART \n",
       "\n",
       "6046 samples\n",
       "  29 predictor\n",
       "   2 classes: '0', '1' \n",
       "\n",
       "No pre-processing\n",
       "Resampling: Cross-Validated (5 fold) \n",
       "Summary of sample sizes: 4836, 4837, 4837, 4837, 4837 \n",
       "Resampling results across tuning parameters:\n",
       "\n",
       "  cp      F1         prec       rec        Type_I_err  Type_II_err\n",
       "  0.0000  0.9419171  0.9400258  0.9438554  0.04134911  0.03853892 \n",
       "  0.0005  0.9427659  0.9427297  0.9428916  0.03936400  0.03920103 \n",
       "  0.0010  0.9450424  0.9455766  0.9445783  0.03737930  0.03804305 \n",
       "  0.0015  0.9456129  0.9489144  0.9424096  0.03489832  0.03953161 \n",
       "  0.0020  0.9437358  0.9522745  0.9354217  0.03225137  0.04432732 \n",
       "  0.0025  0.9419572  0.9516056  0.9327711  0.03274764  0.04614701 \n",
       "  0.0030  0.9416011  0.9489713  0.9344578  0.03456815  0.04498876 \n",
       "  0.0035  0.9408984  0.9477707  0.9342169  0.03539528  0.04515418 \n",
       "  0.0040  0.9411957  0.9471501  0.9354217  0.03589251  0.04432691 \n",
       "  0.0045  0.9411957  0.9471501  0.9354217  0.03589251  0.04432691 \n",
       "  0.0050  0.9394282  0.9463046  0.9327711  0.03638879  0.04614578 \n",
       "  0.0055  0.9387325  0.9451434  0.9325301  0.03721592  0.04631121 \n",
       "  0.0060  0.9370053  0.9440566  0.9301205  0.03787763  0.04796547 \n",
       "  0.0065  0.9370053  0.9440566  0.9301205  0.03787763  0.04796547 \n",
       "  0.0070  0.9344434  0.9418547  0.9272289  0.03936605  0.04995071 \n",
       "  0.0075  0.9332663  0.9402156  0.9265060  0.04052403  0.05044699 \n",
       "  0.0080  0.9319767  0.9351385  0.9289157  0.04432828  0.04879314 \n",
       "  0.0085  0.9319767  0.9351385  0.9289157  0.04432828  0.04879314 \n",
       "  0.0090  0.9298281  0.9339554  0.9257831  0.04498999  0.05094368 \n",
       "  0.0095  0.9293653  0.9332586  0.9255422  0.04548626  0.05110911 \n",
       "  0.0100  0.9275336  0.9258649  0.9293976  0.05127617  0.04846229 \n",
       "\n",
       "F1 was used to select the optimal model using the largest value.\n",
       "The final value used for the model was cp = 0.0015."
      ]
     },
     "metadata": {},
     "output_type": "display_data"
    }
   ],
   "source": [
    "val<-seq(from = 0, to=0.01, by=0.0005)\n",
    "library(rpart)\n",
    "cart_grid<-expand.grid(cp=val)\n",
    "train_control<-trainControl(method=\"cv\", number =5, savePredictions = 'final',summaryFunction = f1)\n",
    "model_rpart<-caret::train(as.factor(isSpam) ~ .,data=emailDFnum, trControl = train_control, method='rpart',tuneGrid = cart_grid)\n",
    "model_rpart"
   ]
  },
  {
   "cell_type": "code",
   "execution_count": 74,
   "metadata": {},
   "outputs": [
    {
     "name": "stderr",
     "output_type": "stream",
     "text": [
      "randomForest 4.6-14\n",
      "Type rfNews() to see new features/changes/bug fixes.\n",
      "\n",
      "Attaching package: 'randomForest'\n",
      "\n",
      "The following object is masked from 'package:ggplot2':\n",
      "\n",
      "    margin\n",
      "\n",
      "The following object is masked from 'package:dplyr':\n",
      "\n",
      "    combine\n",
      "\n",
      "Warning message in train.default(x, y, weights = w, ...):\n",
      "\"The metric \"Accuracy\" was not in the result set. F1 will be used instead.\""
     ]
    },
    {
     "data": {
      "text/plain": [
       "Random Forest \n",
       "\n",
       "6046 samples\n",
       "  29 predictor\n",
       "   2 classes: '0', '1' \n",
       "\n",
       "No pre-processing\n",
       "Resampling: Cross-Validated (3 fold) \n",
       "Summary of sample sizes: 4031, 4031, 4030 \n",
       "Resampling results across tuning parameters:\n",
       "\n",
       "  mtry  F1         prec       rec        Type_I_err  Type_II_err\n",
       "   1    0.9114773  0.8494252  0.9833735  0.11974658  0.01141250 \n",
       "   3    0.9623885  0.9568915  0.9679524  0.02993652  0.02199772 \n",
       "   5    0.9650842  0.9643938  0.9657838  0.02447927  0.02348630 \n",
       "   7    0.9642826  0.9656838  0.9628920  0.02348680  0.02547117 \n",
       "   9    0.9630749  0.9644794  0.9616871  0.02431384  0.02629822 \n",
       "  11    0.9625512  0.9648943  0.9602413  0.02398291  0.02729061 \n",
       "  13    0.9629206  0.9651479  0.9607230  0.02381773  0.02695992 \n",
       "  15    0.9613272  0.9641502  0.9585545  0.02447927  0.02844843 \n",
       "  17    0.9622931  0.9651118  0.9595182  0.02381757  0.02778689 \n",
       "  19    0.9610104  0.9627800  0.9592777  0.02547141  0.02795207 \n",
       "  21    0.9607657  0.9625316  0.9590367  0.02563684  0.02811749 \n",
       "  23    0.9602439  0.9629260  0.9575906  0.02530599  0.02911005 \n",
       "  25    0.9601410  0.9624978  0.9578316  0.02563684  0.02894462 \n",
       "\n",
       "F1 was used to select the optimal model using the largest value.\n",
       "The final value used for the model was mtry = 5."
      ]
     },
     "metadata": {},
     "output_type": "display_data"
    }
   ],
   "source": [
    "library(randomForest)\n",
    "rf_grid<-expand.grid(mtry=seq(from =1, to = 25, by = 2))\n",
    "train_control<-trainControl(method=\"cv\", number=3, savePredictions = 'final',summaryFunction = f1)\n",
    "model_rf<-caret::train(as.factor(isSpam) ~ .,data=emailDFnum, trControl = train_control, ntree=200,method='rf',tuneGrid = rf_grid)\n",
    "model_rf"
   ]
  },
  {
   "cell_type": "code",
   "execution_count": 77,
   "metadata": {
    "scrolled": true
   },
   "outputs": [
    {
     "name": "stderr",
     "output_type": "stream",
     "text": [
      "Warning message:\n",
      "\"package 'xgboost' was built under R version 3.5.3\"\n",
      "Attaching package: 'xgboost'\n",
      "\n",
      "The following object is masked from 'package:dplyr':\n",
      "\n",
      "    slice\n",
      "\n",
      "Warning message in train.default(x, y, weights = w, ...):\n",
      "\"The metric \"Accuracy\" was not in the result set. F1 will be used instead.\""
     ]
    },
    {
     "data": {
      "text/plain": [
       "eXtreme Gradient Boosting \n",
       "\n",
       "6046 samples\n",
       "  29 predictor\n",
       "   2 classes: '0', '1' \n",
       "\n",
       "No pre-processing\n",
       "Resampling: Cross-Validated (3 fold) \n",
       "Summary of sample sizes: 4031, 4030, 4031 \n",
       "Resampling results across tuning parameters:\n",
       "\n",
       "  eta   max_depth  gamma  F1         prec       rec        Type_I_err\n",
       "  0.01   3          1     0.9178543  0.8784701  0.9609633  0.09129930\n",
       "  0.01   3          3     0.9183178  0.8789236  0.9614452  0.09096837\n",
       "  0.01   3          5     0.9185156  0.8794927  0.9612044  0.09047209\n",
       "  0.01   3         10     0.9179981  0.8783301  0.9614452  0.09146481\n",
       "  0.01   5          1     0.9400270  0.9182402  0.9628917  0.05888246\n",
       "  0.01   5          3     0.9386836  0.9158944  0.9626510  0.06070165\n",
       "  0.01   5          5     0.9390420  0.9161359  0.9631327  0.06053606\n",
       "  0.01   5         10     0.9387984  0.9161227  0.9626507  0.06053631\n",
       "  0.01   7          1     0.9479303  0.9354777  0.9607230  0.04548418\n",
       "  0.01   7          3     0.9481957  0.9353081  0.9614457  0.04564969\n",
       "  0.01   7          5     0.9476185  0.9344104  0.9612054  0.04631131\n",
       "  0.01   7         10     0.9464871  0.9347443  0.9585545  0.04598120\n",
       "  0.01   9          1     0.9521032  0.9441328  0.9602420  0.03903462\n",
       "  0.01   9          3     0.9515149  0.9432060  0.9600019  0.03969600\n",
       "  0.01   9          5     0.9519369  0.9447242  0.9592786  0.03853802\n",
       "  0.01   9         10     0.9501038  0.9439369  0.9563858  0.03903454\n",
       "  0.01  11          1     0.9522220  0.9441134  0.9604830  0.03903421\n",
       "  0.01  11          3     0.9513010  0.9448798  0.9578327  0.03837267\n",
       "  0.01  11          5     0.9513462  0.9463800  0.9563865  0.03721477\n",
       "  0.01  11         10     0.9496676  0.9471098  0.9522892  0.03655348\n",
       "  0.03   3          1     0.9344628  0.9100358  0.9602413  0.06516725\n",
       "  0.03   3          3     0.9336105  0.9082144  0.9604818  0.06665584\n",
       "  0.03   3          5     0.9339419  0.9088474  0.9604820  0.06615939\n",
       "  0.03   3         10     0.9334085  0.9076189  0.9607232  0.06715211\n",
       "  0.03   5          1     0.9498732  0.9369886  0.9631330  0.04449228\n",
       "  0.03   5          3     0.9502059  0.9355860  0.9653017  0.04564969\n",
       "  0.03   5          5     0.9496325  0.9347035  0.9650607  0.04631131\n",
       "  0.03   5         10     0.9492830  0.9342542  0.9648199  0.04664249\n",
       "  0.03   7          1     0.9563853  0.9488072  0.9640968  0.03572627\n",
       "  0.03   7          3     0.9566858  0.9477736  0.9657838  0.03655323\n",
       "  0.03   7          5     0.9564564  0.9473248  0.9657839  0.03688417\n",
       "  0.03   7         10     0.9552739  0.9459326  0.9648200  0.03787639\n",
       "  0.03   9          1     0.9592264  0.9548826  0.9636149  0.03126034\n",
       "  0.03   9          3     0.9588126  0.9528836  0.9648202  0.03274884\n",
       "  0.03   9          5     0.9590731  0.9526931  0.9655427  0.03291435\n",
       "  0.03   9         10     0.9566042  0.9494757  0.9638558  0.03523007\n",
       "  0.03  11          1     0.9595892  0.9551252  0.9640971  0.03109475\n",
       "  0.03  11          3     0.9603458  0.9549720  0.9657841  0.03126018\n",
       "  0.03  11          5     0.9607700  0.9567553  0.9648195  0.02993685\n",
       "  0.03  11         10     0.9584135  0.9535128  0.9633741  0.03225281\n",
       "  0.10   3          1     0.9559590  0.9424632  0.9698796  0.04068781\n",
       "  0.10   3          3     0.9550703  0.9402808  0.9703613  0.04234158\n",
       "  0.10   3          5     0.9535425  0.9384671  0.9691562  0.04366483\n",
       "  0.10   3         10     0.9504673  0.9334423  0.9681928  0.04746921\n",
       "  0.10   5          1     0.9636711  0.9564054  0.9710847  0.03043288\n",
       "  0.10   5          3     0.9619911  0.9547292  0.9693979  0.03159045\n",
       "  0.10   5          5     0.9582294  0.9494385  0.9672294  0.03539517\n",
       "  0.10   5         10     0.9554347  0.9430442  0.9681933  0.04019195\n",
       "  0.10   7          1     0.9652202  0.9610966  0.9693981  0.02695910\n",
       "  0.10   7          3     0.9627946  0.9563082  0.9693981  0.03043263\n",
       "  0.10   7          5     0.9622752  0.9538779  0.9708435  0.03225265\n",
       "  0.10   7         10     0.9557798  0.9460115  0.9657829  0.03787615\n",
       "  0.10   9          1     0.9664501  0.9647196  0.9681931  0.02431310\n",
       "  0.10   9          3     0.9649380  0.9617091  0.9681942  0.02646340\n",
       "  0.10   9          5     0.9623467  0.9579908  0.9667479  0.02910988\n",
       "  0.10   9         10     0.9579108  0.9508787  0.9650609  0.03423768\n",
       "  0.10  11          1     0.9662002  0.9647210  0.9677109  0.02431319\n",
       "  0.10  11          3     0.9649927  0.9603998  0.9696392  0.02745612\n",
       "  0.10  11          5     0.9635349  0.9593989  0.9677119  0.02811733\n",
       "  0.10  11         10     0.9599987  0.9545357  0.9655426  0.03159136\n",
       "  Type_II_err\n",
       "  0.02679482 \n",
       "  0.02646405 \n",
       "  0.02662940 \n",
       "  0.02646405 \n",
       "  0.02547133 \n",
       "  0.02563659 \n",
       "  0.02530591 \n",
       "  0.02563676 \n",
       "  0.02695992 \n",
       "  0.02646381 \n",
       "  0.02662890 \n",
       "  0.02844843 \n",
       "  0.02729028 \n",
       "  0.02745530 \n",
       "  0.02795166 \n",
       "  0.02993701 \n",
       "  0.02712485 \n",
       "  0.02894413 \n",
       "  0.02993669 \n",
       "  0.03274893 \n",
       "  0.02729061 \n",
       "  0.02712543 \n",
       "  0.02712535 \n",
       "  0.02695984 \n",
       "  0.02530574 \n",
       "  0.02381716 \n",
       "  0.02398258 \n",
       "  0.02414792 \n",
       "  0.02464420 \n",
       "  0.02348630 \n",
       "  0.02348622 \n",
       "  0.02414784 \n",
       "  0.02497497 \n",
       "  0.02414776 \n",
       "  0.02365173 \n",
       "  0.02480963 \n",
       "  0.02464404 \n",
       "  0.02348614 \n",
       "  0.02414809 \n",
       "  0.02514032 \n",
       "  0.02067480 \n",
       "  0.02034411 \n",
       "  0.02117124 \n",
       "  0.02183262 \n",
       "  0.01984767 \n",
       "  0.02100549 \n",
       "  0.02249399 \n",
       "  0.02183237 \n",
       "  0.02100541 \n",
       "  0.02100541 \n",
       "  0.02001318 \n",
       "  0.02348671 \n",
       "  0.02183245 \n",
       "  0.02183196 \n",
       "  0.02282460 \n",
       "  0.02398250 \n",
       "  0.02216339 \n",
       "  0.02083990 \n",
       "  0.02216290 \n",
       "  0.02365181 \n",
       "\n",
       "Tuning parameter 'nrounds' was held constant at a value of 100\n",
       "Tuning\n",
       "\n",
       "Tuning parameter 'min_child_weight' was held constant at a value of 1\n",
       "\n",
       "Tuning parameter 'subsample' was held constant at a value of 1\n",
       "F1 was used to select the optimal model using the largest value.\n",
       "The final values used for the model were nrounds = 100, max_depth = 9, eta\n",
       " = 0.1, gamma = 1, colsample_bytree = 1, min_child_weight = 1 and subsample = 1."
      ]
     },
     "metadata": {},
     "output_type": "display_data"
    }
   ],
   "source": [
    "library(xgboost)\n",
    "xgb_grid<-expand.grid(nrounds = 100, max_depth = c(3,5,7,9,11), eta = c(0.01,0.03,0.1), gamma=c(1,3,5,10), colsample_bytree=1, min_child_weight=1, subsample=1)\n",
    "train_control<-trainControl(method=\"cv\", number=3, savePredictions = 'final',summaryFunction = f1)\n",
    "model_xgb<-caret::train(as.factor(isSpam) ~ .,data=emailDFnum, trControl = train_control,method='xgbTree',tuneGrid = xgb_grid)\n",
    "model_xgb"
   ]
  },
  {
   "cell_type": "code",
   "execution_count": null,
   "metadata": {},
   "outputs": [],
   "source": []
  }
 ],
 "metadata": {
  "kernelspec": {
   "display_name": "R",
   "language": "R",
   "name": "ir"
  },
  "language_info": {
   "codemirror_mode": "r",
   "file_extension": ".r",
   "mimetype": "text/x-r-source",
   "name": "R",
   "pygments_lexer": "r",
   "version": "3.5.1"
  }
 },
 "nbformat": 4,
 "nbformat_minor": 2
}
