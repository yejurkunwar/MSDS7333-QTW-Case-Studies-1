{
 "cells": [
  {
   "cell_type": "code",
   "execution_count": 1,
   "metadata": {},
   "outputs": [
    {
     "name": "stdout",
     "output_type": "stream",
     "text": [
      "1.14.0\n"
     ]
    }
   ],
   "source": [
    "import tensorflow as tf\n",
    "from tensorflow.keras import layers\n",
    "from sklearn import datasets\n",
    "import pandas as pd\n",
    "import numpy as np\n",
    "print(tf.__version__)"
   ]
  },
  {
   "cell_type": "markdown",
   "metadata": {},
   "source": [
    "## Load Data\n",
    "First get the data.  Sklearn presents the data in a dictionary.  \n",
    "\n",
    "The target is the price is thousands\n",
    "\n",
    "Note that X is a dataframe while y is an array!!"
   ]
  },
  {
   "cell_type": "code",
   "execution_count": 2,
   "metadata": {},
   "outputs": [],
   "source": [
    "bos = datasets.load_boston()"
   ]
  },
  {
   "cell_type": "code",
   "execution_count": 3,
   "metadata": {},
   "outputs": [
    {
     "data": {
      "text/plain": [
       "{'data': array([[6.3200e-03, 1.8000e+01, 2.3100e+00, ..., 1.5300e+01, 3.9690e+02,\n",
       "         4.9800e+00],\n",
       "        [2.7310e-02, 0.0000e+00, 7.0700e+00, ..., 1.7800e+01, 3.9690e+02,\n",
       "         9.1400e+00],\n",
       "        [2.7290e-02, 0.0000e+00, 7.0700e+00, ..., 1.7800e+01, 3.9283e+02,\n",
       "         4.0300e+00],\n",
       "        ...,\n",
       "        [6.0760e-02, 0.0000e+00, 1.1930e+01, ..., 2.1000e+01, 3.9690e+02,\n",
       "         5.6400e+00],\n",
       "        [1.0959e-01, 0.0000e+00, 1.1930e+01, ..., 2.1000e+01, 3.9345e+02,\n",
       "         6.4800e+00],\n",
       "        [4.7410e-02, 0.0000e+00, 1.1930e+01, ..., 2.1000e+01, 3.9690e+02,\n",
       "         7.8800e+00]]),\n",
       " 'target': array([24. , 21.6, 34.7, 33.4, 36.2, 28.7, 22.9, 27.1, 16.5, 18.9, 15. ,\n",
       "        18.9, 21.7, 20.4, 18.2, 19.9, 23.1, 17.5, 20.2, 18.2, 13.6, 19.6,\n",
       "        15.2, 14.5, 15.6, 13.9, 16.6, 14.8, 18.4, 21. , 12.7, 14.5, 13.2,\n",
       "        13.1, 13.5, 18.9, 20. , 21. , 24.7, 30.8, 34.9, 26.6, 25.3, 24.7,\n",
       "        21.2, 19.3, 20. , 16.6, 14.4, 19.4, 19.7, 20.5, 25. , 23.4, 18.9,\n",
       "        35.4, 24.7, 31.6, 23.3, 19.6, 18.7, 16. , 22.2, 25. , 33. , 23.5,\n",
       "        19.4, 22. , 17.4, 20.9, 24.2, 21.7, 22.8, 23.4, 24.1, 21.4, 20. ,\n",
       "        20.8, 21.2, 20.3, 28. , 23.9, 24.8, 22.9, 23.9, 26.6, 22.5, 22.2,\n",
       "        23.6, 28.7, 22.6, 22. , 22.9, 25. , 20.6, 28.4, 21.4, 38.7, 43.8,\n",
       "        33.2, 27.5, 26.5, 18.6, 19.3, 20.1, 19.5, 19.5, 20.4, 19.8, 19.4,\n",
       "        21.7, 22.8, 18.8, 18.7, 18.5, 18.3, 21.2, 19.2, 20.4, 19.3, 22. ,\n",
       "        20.3, 20.5, 17.3, 18.8, 21.4, 15.7, 16.2, 18. , 14.3, 19.2, 19.6,\n",
       "        23. , 18.4, 15.6, 18.1, 17.4, 17.1, 13.3, 17.8, 14. , 14.4, 13.4,\n",
       "        15.6, 11.8, 13.8, 15.6, 14.6, 17.8, 15.4, 21.5, 19.6, 15.3, 19.4,\n",
       "        17. , 15.6, 13.1, 41.3, 24.3, 23.3, 27. , 50. , 50. , 50. , 22.7,\n",
       "        25. , 50. , 23.8, 23.8, 22.3, 17.4, 19.1, 23.1, 23.6, 22.6, 29.4,\n",
       "        23.2, 24.6, 29.9, 37.2, 39.8, 36.2, 37.9, 32.5, 26.4, 29.6, 50. ,\n",
       "        32. , 29.8, 34.9, 37. , 30.5, 36.4, 31.1, 29.1, 50. , 33.3, 30.3,\n",
       "        34.6, 34.9, 32.9, 24.1, 42.3, 48.5, 50. , 22.6, 24.4, 22.5, 24.4,\n",
       "        20. , 21.7, 19.3, 22.4, 28.1, 23.7, 25. , 23.3, 28.7, 21.5, 23. ,\n",
       "        26.7, 21.7, 27.5, 30.1, 44.8, 50. , 37.6, 31.6, 46.7, 31.5, 24.3,\n",
       "        31.7, 41.7, 48.3, 29. , 24. , 25.1, 31.5, 23.7, 23.3, 22. , 20.1,\n",
       "        22.2, 23.7, 17.6, 18.5, 24.3, 20.5, 24.5, 26.2, 24.4, 24.8, 29.6,\n",
       "        42.8, 21.9, 20.9, 44. , 50. , 36. , 30.1, 33.8, 43.1, 48.8, 31. ,\n",
       "        36.5, 22.8, 30.7, 50. , 43.5, 20.7, 21.1, 25.2, 24.4, 35.2, 32.4,\n",
       "        32. , 33.2, 33.1, 29.1, 35.1, 45.4, 35.4, 46. , 50. , 32.2, 22. ,\n",
       "        20.1, 23.2, 22.3, 24.8, 28.5, 37.3, 27.9, 23.9, 21.7, 28.6, 27.1,\n",
       "        20.3, 22.5, 29. , 24.8, 22. , 26.4, 33.1, 36.1, 28.4, 33.4, 28.2,\n",
       "        22.8, 20.3, 16.1, 22.1, 19.4, 21.6, 23.8, 16.2, 17.8, 19.8, 23.1,\n",
       "        21. , 23.8, 23.1, 20.4, 18.5, 25. , 24.6, 23. , 22.2, 19.3, 22.6,\n",
       "        19.8, 17.1, 19.4, 22.2, 20.7, 21.1, 19.5, 18.5, 20.6, 19. , 18.7,\n",
       "        32.7, 16.5, 23.9, 31.2, 17.5, 17.2, 23.1, 24.5, 26.6, 22.9, 24.1,\n",
       "        18.6, 30.1, 18.2, 20.6, 17.8, 21.7, 22.7, 22.6, 25. , 19.9, 20.8,\n",
       "        16.8, 21.9, 27.5, 21.9, 23.1, 50. , 50. , 50. , 50. , 50. , 13.8,\n",
       "        13.8, 15. , 13.9, 13.3, 13.1, 10.2, 10.4, 10.9, 11.3, 12.3,  8.8,\n",
       "         7.2, 10.5,  7.4, 10.2, 11.5, 15.1, 23.2,  9.7, 13.8, 12.7, 13.1,\n",
       "        12.5,  8.5,  5. ,  6.3,  5.6,  7.2, 12.1,  8.3,  8.5,  5. , 11.9,\n",
       "        27.9, 17.2, 27.5, 15. , 17.2, 17.9, 16.3,  7. ,  7.2,  7.5, 10.4,\n",
       "         8.8,  8.4, 16.7, 14.2, 20.8, 13.4, 11.7,  8.3, 10.2, 10.9, 11. ,\n",
       "         9.5, 14.5, 14.1, 16.1, 14.3, 11.7, 13.4,  9.6,  8.7,  8.4, 12.8,\n",
       "        10.5, 17.1, 18.4, 15.4, 10.8, 11.8, 14.9, 12.6, 14.1, 13. , 13.4,\n",
       "        15.2, 16.1, 17.8, 14.9, 14.1, 12.7, 13.5, 14.9, 20. , 16.4, 17.7,\n",
       "        19.5, 20.2, 21.4, 19.9, 19. , 19.1, 19.1, 20.1, 19.9, 19.6, 23.2,\n",
       "        29.8, 13.8, 13.3, 16.7, 12. , 14.6, 21.4, 23. , 23.7, 25. , 21.8,\n",
       "        20.6, 21.2, 19.1, 20.6, 15.2,  7. ,  8.1, 13.6, 20.1, 21.8, 24.5,\n",
       "        23.1, 19.7, 18.3, 21.2, 17.5, 16.8, 22.4, 20.6, 23.9, 22. , 11.9]),\n",
       " 'feature_names': array(['CRIM', 'ZN', 'INDUS', 'CHAS', 'NOX', 'RM', 'AGE', 'DIS', 'RAD',\n",
       "        'TAX', 'PTRATIO', 'B', 'LSTAT'], dtype='<U7'),\n",
       " 'DESCR': \".. _boston_dataset:\\n\\nBoston house prices dataset\\n---------------------------\\n\\n**Data Set Characteristics:**  \\n\\n    :Number of Instances: 506 \\n\\n    :Number of Attributes: 13 numeric/categorical predictive. Median Value (attribute 14) is usually the target.\\n\\n    :Attribute Information (in order):\\n        - CRIM     per capita crime rate by town\\n        - ZN       proportion of residential land zoned for lots over 25,000 sq.ft.\\n        - INDUS    proportion of non-retail business acres per town\\n        - CHAS     Charles River dummy variable (= 1 if tract bounds river; 0 otherwise)\\n        - NOX      nitric oxides concentration (parts per 10 million)\\n        - RM       average number of rooms per dwelling\\n        - AGE      proportion of owner-occupied units built prior to 1940\\n        - DIS      weighted distances to five Boston employment centres\\n        - RAD      index of accessibility to radial highways\\n        - TAX      full-value property-tax rate per $10,000\\n        - PTRATIO  pupil-teacher ratio by town\\n        - B        1000(Bk - 0.63)^2 where Bk is the proportion of blacks by town\\n        - LSTAT    % lower status of the population\\n        - MEDV     Median value of owner-occupied homes in $1000's\\n\\n    :Missing Attribute Values: None\\n\\n    :Creator: Harrison, D. and Rubinfeld, D.L.\\n\\nThis is a copy of UCI ML housing dataset.\\nhttps://archive.ics.uci.edu/ml/machine-learning-databases/housing/\\n\\n\\nThis dataset was taken from the StatLib library which is maintained at Carnegie Mellon University.\\n\\nThe Boston house-price data of Harrison, D. and Rubinfeld, D.L. 'Hedonic\\nprices and the demand for clean air', J. Environ. Economics & Management,\\nvol.5, 81-102, 1978.   Used in Belsley, Kuh & Welsch, 'Regression diagnostics\\n...', Wiley, 1980.   N.B. Various transformations are used in the table on\\npages 244-261 of the latter.\\n\\nThe Boston house-price data has been used in many machine learning papers that address regression\\nproblems.   \\n     \\n.. topic:: References\\n\\n   - Belsley, Kuh & Welsch, 'Regression diagnostics: Identifying Influential Data and Sources of Collinearity', Wiley, 1980. 244-261.\\n   - Quinlan,R. (1993). Combining Instance-Based and Model-Based Learning. In Proceedings on the Tenth International Conference of Machine Learning, 236-243, University of Massachusetts, Amherst. Morgan Kaufmann.\\n\",\n",
       " 'filename': 'c:\\\\users\\\\rdsla\\\\appdata\\\\local\\\\programs\\\\python\\\\python36\\\\lib\\\\site-packages\\\\sklearn\\\\datasets\\\\data\\\\boston_house_prices.csv'}"
      ]
     },
     "execution_count": 3,
     "metadata": {},
     "output_type": "execute_result"
    }
   ],
   "source": [
    "bos"
   ]
  },
  {
   "cell_type": "code",
   "execution_count": 4,
   "metadata": {},
   "outputs": [],
   "source": [
    "x = pd.DataFrame(bos['data'])"
   ]
  },
  {
   "cell_type": "code",
   "execution_count": 5,
   "metadata": {},
   "outputs": [],
   "source": [
    "x.columns=bos['feature_names']"
   ]
  },
  {
   "cell_type": "code",
   "execution_count": 6,
   "metadata": {},
   "outputs": [
    {
     "data": {
      "text/html": [
       "<div>\n",
       "<style scoped>\n",
       "    .dataframe tbody tr th:only-of-type {\n",
       "        vertical-align: middle;\n",
       "    }\n",
       "\n",
       "    .dataframe tbody tr th {\n",
       "        vertical-align: top;\n",
       "    }\n",
       "\n",
       "    .dataframe thead th {\n",
       "        text-align: right;\n",
       "    }\n",
       "</style>\n",
       "<table border=\"1\" class=\"dataframe\">\n",
       "  <thead>\n",
       "    <tr style=\"text-align: right;\">\n",
       "      <th></th>\n",
       "      <th>CRIM</th>\n",
       "      <th>ZN</th>\n",
       "      <th>INDUS</th>\n",
       "      <th>CHAS</th>\n",
       "      <th>NOX</th>\n",
       "      <th>RM</th>\n",
       "      <th>AGE</th>\n",
       "      <th>DIS</th>\n",
       "      <th>RAD</th>\n",
       "      <th>TAX</th>\n",
       "      <th>PTRATIO</th>\n",
       "      <th>B</th>\n",
       "      <th>LSTAT</th>\n",
       "    </tr>\n",
       "  </thead>\n",
       "  <tbody>\n",
       "    <tr>\n",
       "      <th>0</th>\n",
       "      <td>0.00632</td>\n",
       "      <td>18.0</td>\n",
       "      <td>2.31</td>\n",
       "      <td>0.0</td>\n",
       "      <td>0.538</td>\n",
       "      <td>6.575</td>\n",
       "      <td>65.2</td>\n",
       "      <td>4.0900</td>\n",
       "      <td>1.0</td>\n",
       "      <td>296.0</td>\n",
       "      <td>15.3</td>\n",
       "      <td>396.90</td>\n",
       "      <td>4.98</td>\n",
       "    </tr>\n",
       "    <tr>\n",
       "      <th>1</th>\n",
       "      <td>0.02731</td>\n",
       "      <td>0.0</td>\n",
       "      <td>7.07</td>\n",
       "      <td>0.0</td>\n",
       "      <td>0.469</td>\n",
       "      <td>6.421</td>\n",
       "      <td>78.9</td>\n",
       "      <td>4.9671</td>\n",
       "      <td>2.0</td>\n",
       "      <td>242.0</td>\n",
       "      <td>17.8</td>\n",
       "      <td>396.90</td>\n",
       "      <td>9.14</td>\n",
       "    </tr>\n",
       "    <tr>\n",
       "      <th>2</th>\n",
       "      <td>0.02729</td>\n",
       "      <td>0.0</td>\n",
       "      <td>7.07</td>\n",
       "      <td>0.0</td>\n",
       "      <td>0.469</td>\n",
       "      <td>7.185</td>\n",
       "      <td>61.1</td>\n",
       "      <td>4.9671</td>\n",
       "      <td>2.0</td>\n",
       "      <td>242.0</td>\n",
       "      <td>17.8</td>\n",
       "      <td>392.83</td>\n",
       "      <td>4.03</td>\n",
       "    </tr>\n",
       "    <tr>\n",
       "      <th>3</th>\n",
       "      <td>0.03237</td>\n",
       "      <td>0.0</td>\n",
       "      <td>2.18</td>\n",
       "      <td>0.0</td>\n",
       "      <td>0.458</td>\n",
       "      <td>6.998</td>\n",
       "      <td>45.8</td>\n",
       "      <td>6.0622</td>\n",
       "      <td>3.0</td>\n",
       "      <td>222.0</td>\n",
       "      <td>18.7</td>\n",
       "      <td>394.63</td>\n",
       "      <td>2.94</td>\n",
       "    </tr>\n",
       "    <tr>\n",
       "      <th>4</th>\n",
       "      <td>0.06905</td>\n",
       "      <td>0.0</td>\n",
       "      <td>2.18</td>\n",
       "      <td>0.0</td>\n",
       "      <td>0.458</td>\n",
       "      <td>7.147</td>\n",
       "      <td>54.2</td>\n",
       "      <td>6.0622</td>\n",
       "      <td>3.0</td>\n",
       "      <td>222.0</td>\n",
       "      <td>18.7</td>\n",
       "      <td>396.90</td>\n",
       "      <td>5.33</td>\n",
       "    </tr>\n",
       "  </tbody>\n",
       "</table>\n",
       "</div>"
      ],
      "text/plain": [
       "      CRIM    ZN  INDUS  CHAS    NOX     RM   AGE     DIS  RAD    TAX  \\\n",
       "0  0.00632  18.0   2.31   0.0  0.538  6.575  65.2  4.0900  1.0  296.0   \n",
       "1  0.02731   0.0   7.07   0.0  0.469  6.421  78.9  4.9671  2.0  242.0   \n",
       "2  0.02729   0.0   7.07   0.0  0.469  7.185  61.1  4.9671  2.0  242.0   \n",
       "3  0.03237   0.0   2.18   0.0  0.458  6.998  45.8  6.0622  3.0  222.0   \n",
       "4  0.06905   0.0   2.18   0.0  0.458  7.147  54.2  6.0622  3.0  222.0   \n",
       "\n",
       "   PTRATIO       B  LSTAT  \n",
       "0     15.3  396.90   4.98  \n",
       "1     17.8  396.90   9.14  \n",
       "2     17.8  392.83   4.03  \n",
       "3     18.7  394.63   2.94  \n",
       "4     18.7  396.90   5.33  "
      ]
     },
     "execution_count": 6,
     "metadata": {},
     "output_type": "execute_result"
    }
   ],
   "source": [
    "x.head()"
   ]
  },
  {
   "cell_type": "code",
   "execution_count": 7,
   "metadata": {},
   "outputs": [],
   "source": [
    "y = bos['target']"
   ]
  },
  {
   "cell_type": "code",
   "execution_count": 8,
   "metadata": {},
   "outputs": [
    {
     "data": {
      "text/plain": [
       "array([24. , 21.6, 34.7, 33.4, 36.2, 28.7, 22.9, 27.1, 16.5, 18.9, 15. ,\n",
       "       18.9, 21.7, 20.4, 18.2, 19.9, 23.1, 17.5, 20.2, 18.2, 13.6, 19.6,\n",
       "       15.2, 14.5, 15.6, 13.9, 16.6, 14.8, 18.4, 21. , 12.7, 14.5, 13.2,\n",
       "       13.1, 13.5, 18.9, 20. , 21. , 24.7, 30.8, 34.9, 26.6, 25.3, 24.7,\n",
       "       21.2, 19.3, 20. , 16.6, 14.4, 19.4, 19.7, 20.5, 25. , 23.4, 18.9,\n",
       "       35.4, 24.7, 31.6, 23.3, 19.6, 18.7, 16. , 22.2, 25. , 33. , 23.5,\n",
       "       19.4, 22. , 17.4, 20.9, 24.2, 21.7, 22.8, 23.4, 24.1, 21.4, 20. ,\n",
       "       20.8, 21.2, 20.3, 28. , 23.9, 24.8, 22.9, 23.9, 26.6, 22.5, 22.2,\n",
       "       23.6, 28.7, 22.6, 22. , 22.9, 25. , 20.6, 28.4, 21.4, 38.7, 43.8,\n",
       "       33.2, 27.5, 26.5, 18.6, 19.3, 20.1, 19.5, 19.5, 20.4, 19.8, 19.4,\n",
       "       21.7, 22.8, 18.8, 18.7, 18.5, 18.3, 21.2, 19.2, 20.4, 19.3, 22. ,\n",
       "       20.3, 20.5, 17.3, 18.8, 21.4, 15.7, 16.2, 18. , 14.3, 19.2, 19.6,\n",
       "       23. , 18.4, 15.6, 18.1, 17.4, 17.1, 13.3, 17.8, 14. , 14.4, 13.4,\n",
       "       15.6, 11.8, 13.8, 15.6, 14.6, 17.8, 15.4, 21.5, 19.6, 15.3, 19.4,\n",
       "       17. , 15.6, 13.1, 41.3, 24.3, 23.3, 27. , 50. , 50. , 50. , 22.7,\n",
       "       25. , 50. , 23.8, 23.8, 22.3, 17.4, 19.1, 23.1, 23.6, 22.6, 29.4,\n",
       "       23.2, 24.6, 29.9, 37.2, 39.8, 36.2, 37.9, 32.5, 26.4, 29.6, 50. ,\n",
       "       32. , 29.8, 34.9, 37. , 30.5, 36.4, 31.1, 29.1, 50. , 33.3, 30.3,\n",
       "       34.6, 34.9, 32.9, 24.1, 42.3, 48.5, 50. , 22.6, 24.4, 22.5, 24.4,\n",
       "       20. , 21.7, 19.3, 22.4, 28.1, 23.7, 25. , 23.3, 28.7, 21.5, 23. ,\n",
       "       26.7, 21.7, 27.5, 30.1, 44.8, 50. , 37.6, 31.6, 46.7, 31.5, 24.3,\n",
       "       31.7, 41.7, 48.3, 29. , 24. , 25.1, 31.5, 23.7, 23.3, 22. , 20.1,\n",
       "       22.2, 23.7, 17.6, 18.5, 24.3, 20.5, 24.5, 26.2, 24.4, 24.8, 29.6,\n",
       "       42.8, 21.9, 20.9, 44. , 50. , 36. , 30.1, 33.8, 43.1, 48.8, 31. ,\n",
       "       36.5, 22.8, 30.7, 50. , 43.5, 20.7, 21.1, 25.2, 24.4, 35.2, 32.4,\n",
       "       32. , 33.2, 33.1, 29.1, 35.1, 45.4, 35.4, 46. , 50. , 32.2, 22. ,\n",
       "       20.1, 23.2, 22.3, 24.8, 28.5, 37.3, 27.9, 23.9, 21.7, 28.6, 27.1,\n",
       "       20.3, 22.5, 29. , 24.8, 22. , 26.4, 33.1, 36.1, 28.4, 33.4, 28.2,\n",
       "       22.8, 20.3, 16.1, 22.1, 19.4, 21.6, 23.8, 16.2, 17.8, 19.8, 23.1,\n",
       "       21. , 23.8, 23.1, 20.4, 18.5, 25. , 24.6, 23. , 22.2, 19.3, 22.6,\n",
       "       19.8, 17.1, 19.4, 22.2, 20.7, 21.1, 19.5, 18.5, 20.6, 19. , 18.7,\n",
       "       32.7, 16.5, 23.9, 31.2, 17.5, 17.2, 23.1, 24.5, 26.6, 22.9, 24.1,\n",
       "       18.6, 30.1, 18.2, 20.6, 17.8, 21.7, 22.7, 22.6, 25. , 19.9, 20.8,\n",
       "       16.8, 21.9, 27.5, 21.9, 23.1, 50. , 50. , 50. , 50. , 50. , 13.8,\n",
       "       13.8, 15. , 13.9, 13.3, 13.1, 10.2, 10.4, 10.9, 11.3, 12.3,  8.8,\n",
       "        7.2, 10.5,  7.4, 10.2, 11.5, 15.1, 23.2,  9.7, 13.8, 12.7, 13.1,\n",
       "       12.5,  8.5,  5. ,  6.3,  5.6,  7.2, 12.1,  8.3,  8.5,  5. , 11.9,\n",
       "       27.9, 17.2, 27.5, 15. , 17.2, 17.9, 16.3,  7. ,  7.2,  7.5, 10.4,\n",
       "        8.8,  8.4, 16.7, 14.2, 20.8, 13.4, 11.7,  8.3, 10.2, 10.9, 11. ,\n",
       "        9.5, 14.5, 14.1, 16.1, 14.3, 11.7, 13.4,  9.6,  8.7,  8.4, 12.8,\n",
       "       10.5, 17.1, 18.4, 15.4, 10.8, 11.8, 14.9, 12.6, 14.1, 13. , 13.4,\n",
       "       15.2, 16.1, 17.8, 14.9, 14.1, 12.7, 13.5, 14.9, 20. , 16.4, 17.7,\n",
       "       19.5, 20.2, 21.4, 19.9, 19. , 19.1, 19.1, 20.1, 19.9, 19.6, 23.2,\n",
       "       29.8, 13.8, 13.3, 16.7, 12. , 14.6, 21.4, 23. , 23.7, 25. , 21.8,\n",
       "       20.6, 21.2, 19.1, 20.6, 15.2,  7. ,  8.1, 13.6, 20.1, 21.8, 24.5,\n",
       "       23.1, 19.7, 18.3, 21.2, 17.5, 16.8, 22.4, 20.6, 23.9, 22. , 11.9])"
      ]
     },
     "execution_count": 8,
     "metadata": {},
     "output_type": "execute_result"
    }
   ],
   "source": [
    "y"
   ]
  },
  {
   "cell_type": "markdown",
   "metadata": {},
   "source": [
    "## Scale Data\n",
    "\n",
    "Neural Networks are especially sensitive do data scaling.  Nearly all the activation functions saturate at (0,1) or (-1,1)"
   ]
  },
  {
   "cell_type": "code",
   "execution_count": 9,
   "metadata": {},
   "outputs": [
    {
     "name": "stdout",
     "output_type": "stream",
     "text": [
      "Note: median values were scaled by multiplying by 0.0275938190 and adding -0.047737\n"
     ]
    }
   ],
   "source": [
    "from sklearn.preprocessing import MinMaxScaler\n",
    "\n",
    "scaler = MinMaxScaler(feature_range=(0, 1))\n",
    "scaled_train = scaler.fit_transform(x)\n",
    "\n",
    "# Print out the adjustment that the scaler applied to the total_earnings column of data\n",
    "print(\"Note: median values were scaled by multiplying by {:.10f} and adding {:.6f}\".format(scaler.scale_[12], scaler.min_[12]))\n",
    "multiplied_by = scaler.scale_[12]\n",
    "added = scaler.min_[12]\n",
    "\n",
    "scaled_train_df = pd.DataFrame(scaled_train, columns=x.columns.values)"
   ]
  },
  {
   "cell_type": "code",
   "execution_count": 10,
   "metadata": {},
   "outputs": [],
   "source": [
    "import matplotlib.pyplot as plt\n",
    "%matplotlib inline"
   ]
  },
  {
   "cell_type": "code",
   "execution_count": 11,
   "metadata": {
    "scrolled": true
   },
   "outputs": [
    {
     "data": {
      "image/png": "[encoded data removed]",
      "text/plain": [
       "<Figure size 432x288 with 1 Axes>"
      ]
     },
     "metadata": {
      "needs_background": "light"
     },
     "output_type": "display_data"
    },
    {
     "data": {
      "image/png": "[encoded data removed]",
      "text/plain": [
       "<Figure size 432x288 with 1 Axes>"
      ]
     },
     "metadata": {
      "needs_background": "light"
     },
     "output_type": "display_data"
    },
    {
     "data": {
      "image/png": "[encoded data removed]",
      "text/plain": [
       "<Figure size 432x288 with 1 Axes>"
      ]
     },
     "metadata": {
      "needs_background": "light"
     },
     "output_type": "display_data"
    },
    {
     "data": {
      "image/png": "[encoded data removed]",
      "text/plain": [
       "<Figure size 432x288 with 1 Axes>"
      ]
     },
     "metadata": {
      "needs_background": "light"
     },
     "output_type": "display_data"
    },
    {
     "data": {
      "image/png": "[encoded data removed]",
      "text/plain": [
       "<Figure size 432x288 with 1 Axes>"
      ]
     },
     "metadata": {
      "needs_background": "light"
     },
     "output_type": "display_data"
    },
    {
     "data": {
      "image/png": "[encoded data removed]",
      "text/plain": [
       "<Figure size 432x288 with 1 Axes>"
      ]
     },
     "metadata": {
      "needs_background": "light"
     },
     "output_type": "display_data"
    },
    {
     "data": {
      "image/png": "[encoded data removed]",
      "text/plain": [
       "<Figure size 432x288 with 1 Axes>"
      ]
     },
     "metadata": {
      "needs_background": "light"
     },
     "output_type": "display_data"
    },
    {
     "data": {
      "image/png": "[encoded data removed]",
      "text/plain": [
       "<Figure size 432x288 with 1 Axes>"
      ]
     },
     "metadata": {
      "needs_background": "light"
     },
     "output_type": "display_data"
    },
    {
     "data": {
      "image/png": "[encoded data removed]",
      "text/plain": [
       "<Figure size 432x288 with 1 Axes>"
      ]
     },
     "metadata": {
      "needs_background": "light"
     },
     "output_type": "display_data"
    },
    {
     "data": {
      "image/png": "[encoded data removed]",
      "text/plain": [
       "<Figure size 432x288 with 1 Axes>"
      ]
     },
     "metadata": {
      "needs_background": "light"
     },
     "output_type": "display_data"
    },
    {
     "data": {
      "image/png": "[encoded data removed]",
      "text/plain": [
       "<Figure size 432x288 with 1 Axes>"
      ]
     },
     "metadata": {
      "needs_background": "light"
     },
     "output_type": "display_data"
    },
    {
     "data": {
      "image/png": "[encoded data removed]",
      "text/plain": [
       "<Figure size 432x288 with 1 Axes>"
      ]
     },
     "metadata": {
      "needs_background": "light"
     },
     "output_type": "display_data"
    },
    {
     "data": {
      "image/png": "[encoded data removed]",
      "text/plain": [
       "<Figure size 432x288 with 1 Axes>"
      ]
     },
     "metadata": {
      "needs_background": "light"
     },
     "output_type": "display_data"
    }
   ],
   "source": [
    "for i in scaled_train_df:\n",
    "    scaled_train_df[i].hist()\n",
    "    plt.show()"
   ]
  },
  {
   "cell_type": "markdown",
   "metadata": {},
   "source": [
    "## Model \n",
    "Alright lets get down to business.  We will use the Sequential() class to build a model.  This means we just add layer after layer to the model (in order).\n",
    "\n",
    "Note that this is NOT the keras package proper.  This is an implementation of the Keras API in tensorflow.  THey are closely related, but this IS Tensorflow (package), not Keras (package)"
   ]
  },
  {
   "cell_type": "code",
   "execution_count": null,
   "metadata": {},
   "outputs": [],
   "source": []
  },
  {
   "cell_type": "code",
   "execution_count": 12,
   "metadata": {},
   "outputs": [
    {
     "name": "stderr",
     "output_type": "stream",
     "text": [
      "WARNING: Logging before flag parsing goes to stderr.\n",
      "W0715 22:15:26.337395 14628 deprecation.py:506] From c:\\users\\rdsla\\appdata\\local\\programs\\python\\python36\\lib\\site-packages\\tensorflow\\python\\ops\\init_ops.py:1251: calling VarianceScaling.__init__ (from tensorflow.python.ops.init_ops) with dtype is deprecated and will be removed in a future version.\n",
      "Instructions for updating:\n",
      "Call initializer instance with the dtype argument instead of passing it to the constructor\n"
     ]
    }
   ],
   "source": [
    "model = tf.keras.Sequential()\n",
    "model.add(layers.Dense(10, activation='sigmoid'))\n",
    "model.add(layers.Dense(1))\n",
    "\n"
   ]
  },
  {
   "cell_type": "markdown",
   "metadata": {},
   "source": [
    "## Compile Model\n",
    "\n",
    "The compile step adds an optimizer (solver) and your loss metrics."
   ]
  },
  {
   "cell_type": "code",
   "execution_count": 13,
   "metadata": {},
   "outputs": [],
   "source": [
    "model.compile(optimizer='sgd',\n",
    "              loss='mean_squared_error',\n",
    "              metrics=['mean_squared_error'])"
   ]
  },
  {
   "cell_type": "markdown",
   "metadata": {},
   "source": [
    "## Fit model\n",
    "Now it is time to train"
   ]
  },
  {
   "cell_type": "code",
   "execution_count": 14,
   "metadata": {},
   "outputs": [
    {
     "name": "stdout",
     "output_type": "stream",
     "text": [
      "Epoch 1/10\n",
      "506/506 [==============================] - 0s 725us/sample - loss: 238.5142 - mean_squared_error: 238.5141\n",
      "Epoch 2/10\n",
      "506/506 [==============================] - 0s 55us/sample - loss: 83.1794 - mean_squared_error: 83.1794\n",
      "Epoch 3/10\n",
      "506/506 [==============================] - 0s 51us/sample - loss: 74.4963 - mean_squared_error: 74.4963\n",
      "Epoch 4/10\n",
      "506/506 [==============================] - 0s 59us/sample - loss: 65.8368 - mean_squared_error: 65.8368\n",
      "Epoch 5/10\n",
      "506/506 [==============================] - 0s 55us/sample - loss: 58.5232 - mean_squared_error: 58.5232\n",
      "Epoch 6/10\n",
      "506/506 [==============================] - 0s 53us/sample - loss: 53.3749 - mean_squared_error: 53.3749\n",
      "Epoch 7/10\n",
      "506/506 [==============================] - 0s 57us/sample - loss: 50.3709 - mean_squared_error: 50.3709\n",
      "Epoch 8/10\n",
      "506/506 [==============================] - 0s 53us/sample - loss: 47.0566 - mean_squared_error: 47.0566\n",
      "Epoch 9/10\n",
      "506/506 [==============================] - 0s 55us/sample - loss: 44.9081 - mean_squared_error: 44.9081\n",
      "Epoch 10/10\n",
      "506/506 [==============================] - 0s 59us/sample - loss: 42.4887 - mean_squared_error: 42.4887\n"
     ]
    },
    {
     "data": {
      "text/plain": [
       "<tensorflow.python.keras.callbacks.History at 0x21366525da0>"
      ]
     },
     "execution_count": 14,
     "metadata": {},
     "output_type": "execute_result"
    }
   ],
   "source": [
    "model.fit(scaled_train_df.values, y, epochs=10, batch_size=32)"
   ]
  },
  {
   "cell_type": "markdown",
   "metadata": {},
   "source": [
    "## Visualize that data\n",
    "Tensorboard allows you to look at your training curves in real time.  All we need to do here is add a \"callback\" that is executed every epoch end.  Tensorboard writes a summary of the model output.  If you manually build a neural network, you need to add tf.summary operations.\n",
    "\n",
    "To run tensorboard type\n",
    "\n",
    "`tensorboard --logdir logs`\n",
    "\n",
    "Then go to localhost:6006 in your web browser"
   ]
  },
  {
   "cell_type": "code",
   "execution_count": 15,
   "metadata": {},
   "outputs": [],
   "source": [
    "from time import time\n",
    "from tensorflow.keras.callbacks import TensorBoard\n",
    "tb = TensorBoard(log_dir=f\"logs\\\\{time()}\")"
   ]
  },
  {
   "cell_type": "code",
   "execution_count": 16,
   "metadata": {},
   "outputs": [],
   "source": [
    "model.compile(optimizer=tf.train.GradientDescentOptimizer(0.001),\n",
    "              loss='mean_squared_error',\n",
    "              metrics=['mean_squared_error'])"
   ]
  },
  {
   "cell_type": "code",
   "execution_count": 17,
   "metadata": {
    "scrolled": true
   },
   "outputs": [
    {
     "name": "stdout",
     "output_type": "stream",
     "text": [
      "Epoch 1/100\n",
      "506/506 [==============================] - 0s 467us/sample - loss: 40.9899 - mean_squared_error: 40.9899\n",
      "Epoch 2/100\n",
      "506/506 [==============================] - 0s 130us/sample - loss: 40.6706 - mean_squared_error: 40.6706\n",
      "Epoch 3/100\n",
      "506/506 [==============================] - 0s 140us/sample - loss: 40.2714 - mean_squared_error: 40.2714\n",
      "Epoch 4/100\n",
      "506/506 [==============================] - 0s 117us/sample - loss: 39.9683 - mean_squared_error: 39.9683\n",
      "Epoch 5/100\n",
      "506/506 [==============================] - 0s 138us/sample - loss: 39.5957 - mean_squared_error: 39.5957\n",
      "Epoch 6/100\n",
      "506/506 [==============================] - 0s 117us/sample - loss: 39.2379 - mean_squared_error: 39.2379\n",
      "Epoch 7/100\n",
      "506/506 [==============================] - 0s 123us/sample - loss: 38.9252 - mean_squared_error: 38.9252\n",
      "Epoch 8/100\n",
      "506/506 [==============================] - 0s 130us/sample - loss: 38.6275 - mean_squared_error: 38.6275\n",
      "Epoch 9/100\n",
      "506/506 [==============================] - 0s 125us/sample - loss: 38.3185 - mean_squared_error: 38.3185\n",
      "Epoch 10/100\n",
      "506/506 [==============================] - 0s 117us/sample - loss: 37.9873 - mean_squared_error: 37.9873\n",
      "Epoch 11/100\n",
      "506/506 [==============================] - 0s 125us/sample - loss: 37.7129 - mean_squared_error: 37.7129\n",
      "Epoch 12/100\n",
      "506/506 [==============================] - 0s 134us/sample - loss: 37.3753 - mean_squared_error: 37.3753\n",
      "Epoch 13/100\n",
      "506/506 [==============================] - 0s 138us/sample - loss: 37.0638 - mean_squared_error: 37.0638\n",
      "Epoch 14/100\n",
      "506/506 [==============================] - 0s 117us/sample - loss: 36.7714 - mean_squared_error: 36.7714\n",
      "Epoch 15/100\n",
      "506/506 [==============================] - 0s 123us/sample - loss: 36.4442 - mean_squared_error: 36.4442\n",
      "Epoch 16/100\n",
      "506/506 [==============================] - 0s 117us/sample - loss: 36.1700 - mean_squared_error: 36.1700\n",
      "Epoch 17/100\n",
      "506/506 [==============================] - 0s 123us/sample - loss: 35.8259 - mean_squared_error: 35.8259\n",
      "Epoch 18/100\n",
      "506/506 [==============================] - 0s 117us/sample - loss: 35.5336 - mean_squared_error: 35.5336\n",
      "Epoch 19/100\n",
      "506/506 [==============================] - 0s 123us/sample - loss: 35.2846 - mean_squared_error: 35.2846\n",
      "Epoch 20/100\n",
      "506/506 [==============================] - 0s 117us/sample - loss: 34.9824 - mean_squared_error: 34.9824\n",
      "Epoch 21/100\n",
      "506/506 [==============================] - 0s 138us/sample - loss: 34.6853 - mean_squared_error: 34.6853\n",
      "Epoch 22/100\n",
      "506/506 [==============================] - 0s 117us/sample - loss: 34.3958 - mean_squared_error: 34.3958\n",
      "Epoch 23/100\n",
      "506/506 [==============================] - 0s 123us/sample - loss: 34.1178 - mean_squared_error: 34.1178\n",
      "Epoch 24/100\n",
      "506/506 [==============================] - 0s 117us/sample - loss: 33.8531 - mean_squared_error: 33.8531\n",
      "Epoch 25/100\n",
      "506/506 [==============================] - 0s 123us/sample - loss: 33.5751 - mean_squared_error: 33.5751\n",
      "Epoch 26/100\n",
      "506/506 [==============================] - 0s 162us/sample - loss: 33.3615 - mean_squared_error: 33.3615\n",
      "Epoch 27/100\n",
      "506/506 [==============================] - 0s 148us/sample - loss: 33.0650 - mean_squared_error: 33.0650\n",
      "Epoch 28/100\n",
      "506/506 [==============================] - 0s 123us/sample - loss: 32.8157 - mean_squared_error: 32.8157\n",
      "Epoch 29/100\n",
      "506/506 [==============================] - 0s 117us/sample - loss: 32.5173 - mean_squared_error: 32.5173\n",
      "Epoch 30/100\n",
      "506/506 [==============================] - 0s 123us/sample - loss: 32.3013 - mean_squared_error: 32.3013\n",
      "Epoch 31/100\n",
      "506/506 [==============================] - 0s 117us/sample - loss: 32.0607 - mean_squared_error: 32.0607\n",
      "Epoch 32/100\n",
      "506/506 [==============================] - 0s 125us/sample - loss: 31.7669 - mean_squared_error: 31.7669\n",
      "Epoch 33/100\n",
      "506/506 [==============================] - 0s 117us/sample - loss: 31.6263 - mean_squared_error: 31.6263\n",
      "Epoch 34/100\n",
      "506/506 [==============================] - 0s 125us/sample - loss: 31.3020 - mean_squared_error: 31.3020\n",
      "Epoch 35/100\n",
      "506/506 [==============================] - 0s 117us/sample - loss: 31.0783 - mean_squared_error: 31.0783\n",
      "Epoch 36/100\n",
      "506/506 [==============================] - 0s 125us/sample - loss: 30.9374 - mean_squared_error: 30.9374\n",
      "Epoch 37/100\n",
      "506/506 [==============================] - 0s 117us/sample - loss: 30.7149 - mean_squared_error: 30.7149\n",
      "Epoch 38/100\n",
      "506/506 [==============================] - 0s 125us/sample - loss: 30.4918 - mean_squared_error: 30.4918\n",
      "Epoch 39/100\n",
      "506/506 [==============================] - 0s 117us/sample - loss: 30.2875 - mean_squared_error: 30.2875\n",
      "Epoch 40/100\n",
      "506/506 [==============================] - 0s 123us/sample - loss: 30.0470 - mean_squared_error: 30.0470\n",
      "Epoch 41/100\n",
      "506/506 [==============================] - 0s 132us/sample - loss: 29.8939 - mean_squared_error: 29.8939\n",
      "Epoch 42/100\n",
      "506/506 [==============================] - 0s 123us/sample - loss: 29.6862 - mean_squared_error: 29.6862\n",
      "Epoch 43/100\n",
      "506/506 [==============================] - 0s 117us/sample - loss: 29.5082 - mean_squared_error: 29.5082\n",
      "Epoch 44/100\n",
      "506/506 [==============================] - 0s 123us/sample - loss: 29.2919 - mean_squared_error: 29.2919\n",
      "Epoch 45/100\n",
      "506/506 [==============================] - 0s 117us/sample - loss: 29.1073 - mean_squared_error: 29.1073\n",
      "Epoch 46/100\n",
      "506/506 [==============================] - 0s 140us/sample - loss: 28.9044 - mean_squared_error: 28.9044\n",
      "Epoch 47/100\n",
      "506/506 [==============================] - 0s 134us/sample - loss: 28.6855 - mean_squared_error: 28.6855\n",
      "Epoch 48/100\n",
      "506/506 [==============================] - 0s 125us/sample - loss: 28.5348 - mean_squared_error: 28.5348\n",
      "Epoch 49/100\n",
      "506/506 [==============================] - 0s 117us/sample - loss: 28.3657 - mean_squared_error: 28.3657\n",
      "Epoch 50/100\n",
      "506/506 [==============================] - 0s 125us/sample - loss: 28.2219 - mean_squared_error: 28.2219\n",
      "Epoch 51/100\n",
      "506/506 [==============================] - 0s 117us/sample - loss: 28.0629 - mean_squared_error: 28.0629\n",
      "Epoch 52/100\n",
      "506/506 [==============================] - 0s 140us/sample - loss: 27.8600 - mean_squared_error: 27.8600\n",
      "Epoch 53/100\n",
      "506/506 [==============================] - 0s 132us/sample - loss: 27.7139 - mean_squared_error: 27.7139\n",
      "Epoch 54/100\n",
      "506/506 [==============================] - 0s 123us/sample - loss: 27.5298 - mean_squared_error: 27.5298\n",
      "Epoch 55/100\n",
      "506/506 [==============================] - 0s 117us/sample - loss: 27.3120 - mean_squared_error: 27.3120\n",
      "Epoch 56/100\n",
      "506/506 [==============================] - 0s 123us/sample - loss: 27.2506 - mean_squared_error: 27.2506\n",
      "Epoch 57/100\n",
      "506/506 [==============================] - 0s 117us/sample - loss: 27.0758 - mean_squared_error: 27.0758\n",
      "Epoch 58/100\n",
      "506/506 [==============================] - 0s 123us/sample - loss: 26.9411 - mean_squared_error: 26.9411\n",
      "Epoch 59/100\n",
      "506/506 [==============================] - 0s 132us/sample - loss: 26.8219 - mean_squared_error: 26.8219\n",
      "Epoch 60/100\n",
      "506/506 [==============================] - 0s 125us/sample - loss: 26.6634 - mean_squared_error: 26.6634\n",
      "Epoch 61/100\n",
      "506/506 [==============================] - 0s 117us/sample - loss: 26.5097 - mean_squared_error: 26.5097\n",
      "Epoch 62/100\n",
      "506/506 [==============================] - 0s 125us/sample - loss: 26.3385 - mean_squared_error: 26.3385\n",
      "Epoch 63/100\n",
      "506/506 [==============================] - 0s 117us/sample - loss: 26.2686 - mean_squared_error: 26.2686\n",
      "Epoch 64/100\n",
      "506/506 [==============================] - 0s 125us/sample - loss: 26.0641 - mean_squared_error: 26.0641\n",
      "Epoch 65/100\n",
      "506/506 [==============================] - 0s 117us/sample - loss: 26.0530 - mean_squared_error: 26.0530\n",
      "Epoch 66/100\n",
      "506/506 [==============================] - 0s 140us/sample - loss: 25.8390 - mean_squared_error: 25.8390\n",
      "Epoch 67/100\n",
      "506/506 [==============================] - 0s 148us/sample - loss: 25.7139 - mean_squared_error: 25.7139\n",
      "Epoch 68/100\n",
      "506/506 [==============================] - 0s 140us/sample - loss: 25.5889 - mean_squared_error: 25.5889\n",
      "Epoch 69/100\n",
      "506/506 [==============================] - 0s 132us/sample - loss: 25.4382 - mean_squared_error: 25.4382\n",
      "Epoch 70/100\n"
     ]
    },
    {
     "name": "stdout",
     "output_type": "stream",
     "text": [
      "506/506 [==============================] - 0s 138us/sample - loss: 25.3323 - mean_squared_error: 25.3323\n",
      "Epoch 71/100\n",
      "506/506 [==============================] - 0s 117us/sample - loss: 25.2602 - mean_squared_error: 25.2602\n",
      "Epoch 72/100\n",
      "506/506 [==============================] - 0s 123us/sample - loss: 25.1076 - mean_squared_error: 25.1076\n",
      "Epoch 73/100\n",
      "506/506 [==============================] - 0s 117us/sample - loss: 24.9791 - mean_squared_error: 24.9791\n",
      "Epoch 74/100\n",
      "506/506 [==============================] - 0s 123us/sample - loss: 24.9159 - mean_squared_error: 24.9159\n",
      "Epoch 75/100\n",
      "506/506 [==============================] - 0s 115us/sample - loss: 24.8010 - mean_squared_error: 24.8010\n",
      "Epoch 76/100\n",
      "506/506 [==============================] - 0s 140us/sample - loss: 24.6430 - mean_squared_error: 24.6430\n",
      "Epoch 77/100\n",
      "506/506 [==============================] - 0s 132us/sample - loss: 24.5987 - mean_squared_error: 24.5987\n",
      "Epoch 78/100\n",
      "506/506 [==============================] - 0s 138us/sample - loss: 24.4379 - mean_squared_error: 24.4379\n",
      "Epoch 79/100\n",
      "506/506 [==============================] - 0s 132us/sample - loss: 24.3350 - mean_squared_error: 24.3350\n",
      "Epoch 80/100\n",
      "506/506 [==============================] - 0s 138us/sample - loss: 24.2489 - mean_squared_error: 24.2489\n",
      "Epoch 81/100\n",
      "506/506 [==============================] - 0s 132us/sample - loss: 24.1476 - mean_squared_error: 24.1476\n",
      "Epoch 82/100\n",
      "506/506 [==============================] - 0s 123us/sample - loss: 24.0662 - mean_squared_error: 24.0662\n",
      "Epoch 83/100\n",
      "506/506 [==============================] - 0s 117us/sample - loss: 23.9830 - mean_squared_error: 23.9830\n",
      "Epoch 84/100\n",
      "506/506 [==============================] - 0s 140us/sample - loss: 23.8564 - mean_squared_error: 23.8564\n",
      "Epoch 85/100\n",
      "506/506 [==============================] - 0s 115us/sample - loss: 23.8053 - mean_squared_error: 23.8053\n",
      "Epoch 86/100\n",
      "506/506 [==============================] - 0s 123us/sample - loss: 23.6792 - mean_squared_error: 23.6792\n",
      "Epoch 87/100\n",
      "506/506 [==============================] - 0s 117us/sample - loss: 23.6112 - mean_squared_error: 23.6112\n",
      "Epoch 88/100\n",
      "506/506 [==============================] - 0s 128us/sample - loss: 23.4834 - mean_squared_error: 23.4834\n",
      "Epoch 89/100\n",
      "506/506 [==============================] - 0s 138us/sample - loss: 23.4253 - mean_squared_error: 23.4253\n",
      "Epoch 90/100\n",
      "506/506 [==============================] - 0s 134us/sample - loss: 23.3492 - mean_squared_error: 23.3492\n",
      "Epoch 91/100\n",
      "506/506 [==============================] - 0s 138us/sample - loss: 23.3025 - mean_squared_error: 23.3025\n",
      "Epoch 92/100\n",
      "506/506 [==============================] - 0s 117us/sample - loss: 23.1712 - mean_squared_error: 23.1712\n",
      "Epoch 93/100\n",
      "506/506 [==============================] - 0s 123us/sample - loss: 23.0795 - mean_squared_error: 23.0795\n",
      "Epoch 94/100\n",
      "506/506 [==============================] - 0s 150us/sample - loss: 23.0342 - mean_squared_error: 23.0342\n",
      "Epoch 95/100\n",
      "506/506 [==============================] - 0s 138us/sample - loss: 22.9337 - mean_squared_error: 22.9337\n",
      "Epoch 96/100\n",
      "506/506 [==============================] - 0s 134us/sample - loss: 22.8350 - mean_squared_error: 22.8350\n",
      "Epoch 97/100\n",
      "506/506 [==============================] - 0s 138us/sample - loss: 22.7846 - mean_squared_error: 22.7846\n",
      "Epoch 98/100\n",
      "506/506 [==============================] - 0s 132us/sample - loss: 22.6879 - mean_squared_error: 22.6879\n",
      "Epoch 99/100\n",
      "506/506 [==============================] - 0s 123us/sample - loss: 22.6164 - mean_squared_error: 22.6164\n",
      "Epoch 100/100\n",
      "506/506 [==============================] - 0s 119us/sample - loss: 22.5823 - mean_squared_error: 22.5823\n"
     ]
    },
    {
     "data": {
      "text/plain": [
       "<tensorflow.python.keras.callbacks.History at 0x2130e9b5940>"
      ]
     },
     "execution_count": 17,
     "metadata": {},
     "output_type": "execute_result"
    }
   ],
   "source": [
    "model.fit(scaled_train_df.values, y, epochs=100, batch_size=20, callbacks=[tb])"
   ]
  },
  {
   "cell_type": "markdown",
   "metadata": {},
   "source": [
    "## Validate!!\n",
    "SO far we have used the entire dataset to train.  We know that Prof Slater frown upon this.  In Neural Networks, rahter than a cross validation, a validation split is done.  Lets repeat the experiment with splits\n"
   ]
  },
  {
   "cell_type": "code",
   "execution_count": 18,
   "metadata": {},
   "outputs": [],
   "source": [
    "from sklearn.model_selection import train_test_split\n",
    "x_train, x_test, y_train, y_test = train_test_split(scaled_train_df, y, test_size=0.20, random_state=1776)"
   ]
  },
  {
   "cell_type": "code",
   "execution_count": 19,
   "metadata": {},
   "outputs": [],
   "source": [
    "model_final = tf.keras.Sequential()\n",
    "# Adds a densely-connected layer with 64 units to the model:\n",
    "\n",
    "model_final.add(layers.Dense(100, activation='sigmoid'))\n",
    "model_final.add(layers.Dense(100, activation='sigmoid'))\n",
    "model_final.add(layers.Dense(1))"
   ]
  },
  {
   "cell_type": "code",
   "execution_count": 20,
   "metadata": {},
   "outputs": [],
   "source": [
    "model_final.compile(optimizer=tf.train.GradientDescentOptimizer(0.001),\n",
    "              loss='mean_squared_error',\n",
    "              metrics=['mean_squared_error'])"
   ]
  },
  {
   "cell_type": "code",
   "execution_count": 21,
   "metadata": {},
   "outputs": [
    {
     "name": "stdout",
     "output_type": "stream",
     "text": [
      "Train on 404 samples, validate on 102 samples\n",
      "Epoch 1/100\n",
      "404/404 [==============================] - 0s 381us/sample - loss: 263.8987 - mean_squared_error: 263.8987 - val_loss: 115.6671 - val_mean_squared_error: 115.6671\n",
      "Epoch 2/100\n",
      "404/404 [==============================] - 0s 156us/sample - loss: 86.5400 - mean_squared_error: 86.5400 - val_loss: 88.3012 - val_mean_squared_error: 88.3012\n",
      "Epoch 3/100\n",
      "404/404 [==============================] - 0s 166us/sample - loss: 83.2006 - mean_squared_error: 83.2006 - val_loss: 86.6435 - val_mean_squared_error: 86.6435\n",
      "Epoch 4/100\n",
      "404/404 [==============================] - 0s 158us/sample - loss: 84.1241 - mean_squared_error: 84.1241 - val_loss: 87.8545 - val_mean_squared_error: 87.8546\n",
      "Epoch 5/100\n",
      "404/404 [==============================] - 0s 158us/sample - loss: 83.5209 - mean_squared_error: 83.5209 - val_loss: 88.9810 - val_mean_squared_error: 88.9810\n",
      "Epoch 6/100\n",
      "404/404 [==============================] - 0s 166us/sample - loss: 83.0293 - mean_squared_error: 83.0293 - val_loss: 87.0103 - val_mean_squared_error: 87.0103\n",
      "Epoch 7/100\n",
      "404/404 [==============================] - 0s 156us/sample - loss: 83.2617 - mean_squared_error: 83.2617 - val_loss: 88.5446 - val_mean_squared_error: 88.5446\n",
      "Epoch 8/100\n",
      "404/404 [==============================] - 0s 163us/sample - loss: 82.7680 - mean_squared_error: 82.7679 - val_loss: 91.0471 - val_mean_squared_error: 91.0471\n",
      "Epoch 9/100\n",
      "404/404 [==============================] - 0s 156us/sample - loss: 82.7714 - mean_squared_error: 82.7714 - val_loss: 88.3753 - val_mean_squared_error: 88.3753\n",
      "Epoch 10/100\n",
      "404/404 [==============================] - 0s 144us/sample - loss: 82.3194 - mean_squared_error: 82.3194 - val_loss: 90.8326 - val_mean_squared_error: 90.8326\n",
      "Epoch 11/100\n",
      "404/404 [==============================] - 0s 156us/sample - loss: 82.3169 - mean_squared_error: 82.3169 - val_loss: 86.7090 - val_mean_squared_error: 86.7090\n",
      "Epoch 12/100\n",
      "404/404 [==============================] - 0s 163us/sample - loss: 82.1733 - mean_squared_error: 82.1733 - val_loss: 86.1991 - val_mean_squared_error: 86.1991\n",
      "Epoch 13/100\n",
      "404/404 [==============================] - 0s 156us/sample - loss: 82.1682 - mean_squared_error: 82.1682 - val_loss: 87.9632 - val_mean_squared_error: 87.9632\n",
      "Epoch 14/100\n",
      "404/404 [==============================] - 0s 144us/sample - loss: 81.9545 - mean_squared_error: 81.9545 - val_loss: 85.6302 - val_mean_squared_error: 85.6302\n",
      "Epoch 15/100\n",
      "404/404 [==============================] - 0s 156us/sample - loss: 81.7809 - mean_squared_error: 81.7809 - val_loss: 86.3043 - val_mean_squared_error: 86.3043\n",
      "Epoch 16/100\n",
      "404/404 [==============================] - 0s 166us/sample - loss: 81.7013 - mean_squared_error: 81.7013 - val_loss: 85.8156 - val_mean_squared_error: 85.8156\n",
      "Epoch 17/100\n",
      "404/404 [==============================] - 0s 156us/sample - loss: 81.2059 - mean_squared_error: 81.2059 - val_loss: 89.5551 - val_mean_squared_error: 89.5551\n",
      "Epoch 18/100\n",
      "404/404 [==============================] - 0s 146us/sample - loss: 81.2136 - mean_squared_error: 81.2136 - val_loss: 87.1526 - val_mean_squared_error: 87.1526\n",
      "Epoch 19/100\n",
      "404/404 [==============================] - 0s 156us/sample - loss: 80.8634 - mean_squared_error: 80.8634 - val_loss: 85.4160 - val_mean_squared_error: 85.4160\n",
      "Epoch 20/100\n",
      "404/404 [==============================] - 0s 183us/sample - loss: 80.6998 - mean_squared_error: 80.6998 - val_loss: 88.3595 - val_mean_squared_error: 88.3595\n",
      "Epoch 21/100\n",
      "404/404 [==============================] - 0s 176us/sample - loss: 80.3541 - mean_squared_error: 80.3541 - val_loss: 85.3091 - val_mean_squared_error: 85.3091\n",
      "Epoch 22/100\n",
      "404/404 [==============================] - 0s 183us/sample - loss: 80.3637 - mean_squared_error: 80.3637 - val_loss: 85.6909 - val_mean_squared_error: 85.6909\n",
      "Epoch 23/100\n",
      "404/404 [==============================] - 0s 178us/sample - loss: 79.9859 - mean_squared_error: 79.9859 - val_loss: 85.7361 - val_mean_squared_error: 85.7361\n",
      "Epoch 24/100\n",
      "404/404 [==============================] - 0s 183us/sample - loss: 79.4760 - mean_squared_error: 79.4760 - val_loss: 86.7414 - val_mean_squared_error: 86.7414\n",
      "Epoch 25/100\n",
      "404/404 [==============================] - 0s 156us/sample - loss: 79.6311 - mean_squared_error: 79.6311 - val_loss: 88.6329 - val_mean_squared_error: 88.6329\n",
      "Epoch 26/100\n",
      "404/404 [==============================] - 0s 166us/sample - loss: 79.1497 - mean_squared_error: 79.1497 - val_loss: 86.8836 - val_mean_squared_error: 86.8836\n",
      "Epoch 27/100\n",
      "404/404 [==============================] - 0s 161us/sample - loss: 78.7648 - mean_squared_error: 78.7648 - val_loss: 84.8220 - val_mean_squared_error: 84.8220\n",
      "Epoch 28/100\n",
      "404/404 [==============================] - 0s 203us/sample - loss: 78.6332 - mean_squared_error: 78.6332 - val_loss: 84.6982 - val_mean_squared_error: 84.6982\n",
      "Epoch 29/100\n",
      "404/404 [==============================] - 0s 156us/sample - loss: 78.3395 - mean_squared_error: 78.3395 - val_loss: 83.0624 - val_mean_squared_error: 83.0624\n",
      "Epoch 30/100\n",
      "404/404 [==============================] - 0s 186us/sample - loss: 78.0197 - mean_squared_error: 78.0197 - val_loss: 82.5412 - val_mean_squared_error: 82.5412\n",
      "Epoch 31/100\n",
      "404/404 [==============================] - 0s 173us/sample - loss: 77.6033 - mean_squared_error: 77.6033 - val_loss: 85.2925 - val_mean_squared_error: 85.2925\n",
      "Epoch 32/100\n",
      "404/404 [==============================] - 0s 186us/sample - loss: 77.1305 - mean_squared_error: 77.1305 - val_loss: 84.2250 - val_mean_squared_error: 84.2250\n",
      "Epoch 33/100\n",
      "404/404 [==============================] - 0s 176us/sample - loss: 76.7262 - mean_squared_error: 76.7262 - val_loss: 81.7632 - val_mean_squared_error: 81.7632\n",
      "Epoch 34/100\n",
      "404/404 [==============================] - 0s 186us/sample - loss: 76.5400 - mean_squared_error: 76.5400 - val_loss: 82.8668 - val_mean_squared_error: 82.8668\n",
      "Epoch 35/100\n",
      "404/404 [==============================] - 0s 250us/sample - loss: 75.9327 - mean_squared_error: 75.9327 - val_loss: 84.2104 - val_mean_squared_error: 84.2104\n",
      "Epoch 36/100\n",
      "404/404 [==============================] - 0s 233us/sample - loss: 75.6632 - mean_squared_error: 75.6632 - val_loss: 81.8828 - val_mean_squared_error: 81.8828\n",
      "Epoch 37/100\n",
      "404/404 [==============================] - 0s 215us/sample - loss: 74.7686 - mean_squared_error: 74.7686 - val_loss: 85.0239 - val_mean_squared_error: 85.0239\n",
      "Epoch 38/100\n",
      "404/404 [==============================] - 0s 223us/sample - loss: 74.3008 - mean_squared_error: 74.3008 - val_loss: 80.7668 - val_mean_squared_error: 80.7668\n",
      "Epoch 39/100\n",
      "404/404 [==============================] - 0s 238us/sample - loss: 73.9734 - mean_squared_error: 73.9734 - val_loss: 81.5644 - val_mean_squared_error: 81.5644\n",
      "Epoch 40/100\n",
      "404/404 [==============================] - 0s 225us/sample - loss: 73.4996 - mean_squared_error: 73.4996 - val_loss: 81.0919 - val_mean_squared_error: 81.0919\n",
      "Epoch 41/100\n",
      "404/404 [==============================] - 0s 176us/sample - loss: 72.7784 - mean_squared_error: 72.7784 - val_loss: 79.9095 - val_mean_squared_error: 79.9095\n",
      "Epoch 42/100\n",
      "404/404 [==============================] - 0s 166us/sample - loss: 72.2048 - mean_squared_error: 72.2048 - val_loss: 80.0808 - val_mean_squared_error: 80.0808\n",
      "Epoch 43/100\n",
      "404/404 [==============================] - 0s 156us/sample - loss: 71.3423 - mean_squared_error: 71.3423 - val_loss: 79.6532 - val_mean_squared_error: 79.6532\n",
      "Epoch 44/100\n",
      "404/404 [==============================] - 0s 166us/sample - loss: 70.6934 - mean_squared_error: 70.6934 - val_loss: 80.4302 - val_mean_squared_error: 80.4302\n",
      "Epoch 45/100\n",
      "404/404 [==============================] - 0s 156us/sample - loss: 70.2546 - mean_squared_error: 70.2546 - val_loss: 78.3572 - val_mean_squared_error: 78.3572\n",
      "Epoch 46/100\n",
      "404/404 [==============================] - 0s 186us/sample - loss: 69.0909 - mean_squared_error: 69.0909 - val_loss: 77.1878 - val_mean_squared_error: 77.1878\n",
      "Epoch 47/100\n",
      "404/404 [==============================] - 0s 178us/sample - loss: 68.3541 - mean_squared_error: 68.3541 - val_loss: 78.2395 - val_mean_squared_error: 78.2395\n",
      "Epoch 48/100\n"
     ]
    },
    {
     "name": "stdout",
     "output_type": "stream",
     "text": [
      "404/404 [==============================] - 0s 183us/sample - loss: 67.5673 - mean_squared_error: 67.5673 - val_loss: 77.3839 - val_mean_squared_error: 77.3839\n",
      "Epoch 49/100\n",
      "404/404 [==============================] - 0s 176us/sample - loss: 66.7720 - mean_squared_error: 66.7720 - val_loss: 75.2182 - val_mean_squared_error: 75.2182\n",
      "Epoch 50/100\n",
      "404/404 [==============================] - 0s 163us/sample - loss: 65.8347 - mean_squared_error: 65.8347 - val_loss: 77.4097 - val_mean_squared_error: 77.4097\n",
      "Epoch 51/100\n",
      "404/404 [==============================] - 0s 156us/sample - loss: 65.2626 - mean_squared_error: 65.2626 - val_loss: 74.5875 - val_mean_squared_error: 74.5875\n",
      "Epoch 52/100\n",
      "404/404 [==============================] - 0s 163us/sample - loss: 63.9110 - mean_squared_error: 63.9110 - val_loss: 72.8873 - val_mean_squared_error: 72.8873\n",
      "Epoch 53/100\n",
      "404/404 [==============================] - 0s 153us/sample - loss: 63.2243 - mean_squared_error: 63.2243 - val_loss: 71.4922 - val_mean_squared_error: 71.4922\n",
      "Epoch 54/100\n",
      "404/404 [==============================] - 0s 166us/sample - loss: 62.1910 - mean_squared_error: 62.1910 - val_loss: 70.6244 - val_mean_squared_error: 70.6245\n",
      "Epoch 55/100\n",
      "404/404 [==============================] - 0s 156us/sample - loss: 61.3334 - mean_squared_error: 61.3334 - val_loss: 70.0220 - val_mean_squared_error: 70.0220\n",
      "Epoch 56/100\n",
      "404/404 [==============================] - 0s 166us/sample - loss: 60.0589 - mean_squared_error: 60.0589 - val_loss: 70.7300 - val_mean_squared_error: 70.7300\n",
      "Epoch 57/100\n",
      "404/404 [==============================] - 0s 156us/sample - loss: 59.0659 - mean_squared_error: 59.0660 - val_loss: 70.6131 - val_mean_squared_error: 70.6131\n",
      "Epoch 58/100\n",
      "404/404 [==============================] - 0s 163us/sample - loss: 58.4466 - mean_squared_error: 58.4466 - val_loss: 69.2675 - val_mean_squared_error: 69.2675\n",
      "Epoch 59/100\n",
      "404/404 [==============================] - 0s 156us/sample - loss: 57.3419 - mean_squared_error: 57.3418 - val_loss: 67.4090 - val_mean_squared_error: 67.4090\n",
      "Epoch 60/100\n",
      "404/404 [==============================] - 0s 166us/sample - loss: 56.3827 - mean_squared_error: 56.3827 - val_loss: 70.1407 - val_mean_squared_error: 70.1407\n",
      "Epoch 61/100\n",
      "404/404 [==============================] - 0s 153us/sample - loss: 55.5514 - mean_squared_error: 55.5514 - val_loss: 67.2431 - val_mean_squared_error: 67.2431\n",
      "Epoch 62/100\n",
      "404/404 [==============================] - 0s 166us/sample - loss: 54.5558 - mean_squared_error: 54.5558 - val_loss: 67.2691 - val_mean_squared_error: 67.2691\n",
      "Epoch 63/100\n",
      "404/404 [==============================] - 0s 156us/sample - loss: 53.5028 - mean_squared_error: 53.5028 - val_loss: 64.9748 - val_mean_squared_error: 64.9748\n",
      "Epoch 64/100\n",
      "404/404 [==============================] - 0s 166us/sample - loss: 53.2625 - mean_squared_error: 53.2625 - val_loss: 64.8581 - val_mean_squared_error: 64.8581\n",
      "Epoch 65/100\n",
      "404/404 [==============================] - 0s 156us/sample - loss: 52.5062 - mean_squared_error: 52.5062 - val_loss: 64.3261 - val_mean_squared_error: 64.3261\n",
      "Epoch 66/100\n",
      "404/404 [==============================] - 0s 166us/sample - loss: 51.6353 - mean_squared_error: 51.6353 - val_loss: 64.4643 - val_mean_squared_error: 64.4643\n",
      "Epoch 67/100\n",
      "404/404 [==============================] - 0s 156us/sample - loss: 51.0159 - mean_squared_error: 51.0159 - val_loss: 63.7305 - val_mean_squared_error: 63.7305\n",
      "Epoch 68/100\n",
      "404/404 [==============================] - 0s 166us/sample - loss: 50.4505 - mean_squared_error: 50.4505 - val_loss: 64.3622 - val_mean_squared_error: 64.3622\n",
      "Epoch 69/100\n",
      "404/404 [==============================] - 0s 156us/sample - loss: 49.7799 - mean_squared_error: 49.7799 - val_loss: 63.3131 - val_mean_squared_error: 63.3131\n",
      "Epoch 70/100\n",
      "404/404 [==============================] - 0s 166us/sample - loss: 49.1002 - mean_squared_error: 49.1002 - val_loss: 63.4055 - val_mean_squared_error: 63.4055\n",
      "Epoch 71/100\n",
      "404/404 [==============================] - 0s 156us/sample - loss: 48.4427 - mean_squared_error: 48.4427 - val_loss: 61.7266 - val_mean_squared_error: 61.7266\n",
      "Epoch 72/100\n",
      "404/404 [==============================] - 0s 163us/sample - loss: 48.0192 - mean_squared_error: 48.0192 - val_loss: 61.3179 - val_mean_squared_error: 61.3179\n",
      "Epoch 73/100\n",
      "404/404 [==============================] - 0s 156us/sample - loss: 47.5035 - mean_squared_error: 47.5035 - val_loss: 61.2905 - val_mean_squared_error: 61.2905\n",
      "Epoch 74/100\n",
      "404/404 [==============================] - 0s 166us/sample - loss: 46.7513 - mean_squared_error: 46.7513 - val_loss: 60.8394 - val_mean_squared_error: 60.8394\n",
      "Epoch 75/100\n",
      "404/404 [==============================] - 0s 158us/sample - loss: 47.3360 - mean_squared_error: 47.3360 - val_loss: 60.4248 - val_mean_squared_error: 60.4248\n",
      "Epoch 76/100\n",
      "404/404 [==============================] - 0s 156us/sample - loss: 46.1175 - mean_squared_error: 46.1174 - val_loss: 60.5526 - val_mean_squared_error: 60.5526\n",
      "Epoch 77/100\n",
      "404/404 [==============================] - 0s 163us/sample - loss: 45.5015 - mean_squared_error: 45.5015 - val_loss: 61.5996 - val_mean_squared_error: 61.5996\n",
      "Epoch 78/100\n",
      "404/404 [==============================] - 0s 178us/sample - loss: 45.2655 - mean_squared_error: 45.2655 - val_loss: 60.6073 - val_mean_squared_error: 60.6073\n",
      "Epoch 79/100\n",
      "404/404 [==============================] - 0s 163us/sample - loss: 44.9566 - mean_squared_error: 44.9566 - val_loss: 59.8022 - val_mean_squared_error: 59.8022\n",
      "Epoch 80/100\n",
      "404/404 [==============================] - 0s 176us/sample - loss: 44.3993 - mean_squared_error: 44.3993 - val_loss: 59.1248 - val_mean_squared_error: 59.1248\n",
      "Epoch 81/100\n",
      "404/404 [==============================] - 0s 186us/sample - loss: 44.0026 - mean_squared_error: 44.0026 - val_loss: 58.5532 - val_mean_squared_error: 58.5532\n",
      "Epoch 82/100\n",
      "404/404 [==============================] - 0s 156us/sample - loss: 43.8939 - mean_squared_error: 43.8939 - val_loss: 58.5133 - val_mean_squared_error: 58.5133\n",
      "Epoch 83/100\n",
      "404/404 [==============================] - 0s 163us/sample - loss: 43.0115 - mean_squared_error: 43.0115 - val_loss: 58.0693 - val_mean_squared_error: 58.0693\n",
      "Epoch 84/100\n",
      "404/404 [==============================] - 0s 136us/sample - loss: 42.8672 - mean_squared_error: 42.8672 - val_loss: 57.6469 - val_mean_squared_error: 57.6469\n",
      "Epoch 85/100\n",
      "404/404 [==============================] - 0s 163us/sample - loss: 42.3324 - mean_squared_error: 42.3324 - val_loss: 57.6332 - val_mean_squared_error: 57.6332\n",
      "Epoch 86/100\n",
      "404/404 [==============================] - 0s 156us/sample - loss: 42.1767 - mean_squared_error: 42.1767 - val_loss: 58.4164 - val_mean_squared_error: 58.4164\n",
      "Epoch 87/100\n",
      "404/404 [==============================] - 0s 186us/sample - loss: 41.7427 - mean_squared_error: 41.7427 - val_loss: 56.5202 - val_mean_squared_error: 56.5202\n",
      "Epoch 88/100\n",
      "404/404 [==============================] - 0s 156us/sample - loss: 41.1905 - mean_squared_error: 41.1905 - val_loss: 55.9847 - val_mean_squared_error: 55.9847\n",
      "Epoch 89/100\n",
      "404/404 [==============================] - 0s 163us/sample - loss: 40.9223 - mean_squared_error: 40.9223 - val_loss: 56.7718 - val_mean_squared_error: 56.7718\n",
      "Epoch 90/100\n",
      "404/404 [==============================] - 0s 181us/sample - loss: 40.5781 - mean_squared_error: 40.5781 - val_loss: 55.0121 - val_mean_squared_error: 55.0121\n",
      "Epoch 91/100\n",
      "404/404 [==============================] - 0s 156us/sample - loss: 40.2801 - mean_squared_error: 40.2801 - val_loss: 56.9366 - val_mean_squared_error: 56.9366\n",
      "Epoch 92/100\n",
      "404/404 [==============================] - 0s 163us/sample - loss: 39.9275 - mean_squared_error: 39.9275 - val_loss: 54.8756 - val_mean_squared_error: 54.8756\n",
      "Epoch 93/100\n",
      "404/404 [==============================] - 0s 161us/sample - loss: 39.5609 - mean_squared_error: 39.5609 - val_loss: 53.8840 - val_mean_squared_error: 53.8840\n",
      "Epoch 94/100\n",
      "404/404 [==============================] - 0s 163us/sample - loss: 39.1469 - mean_squared_error: 39.1469 - val_loss: 53.7876 - val_mean_squared_error: 53.7876\n",
      "Epoch 95/100\n",
      "404/404 [==============================] - 0s 158us/sample - loss: 38.5178 - mean_squared_error: 38.5177 - val_loss: 53.5063 - val_mean_squared_error: 53.5063\n"
     ]
    },
    {
     "name": "stdout",
     "output_type": "stream",
     "text": [
      "Epoch 96/100\n",
      "404/404 [==============================] - 0s 156us/sample - loss: 38.1691 - mean_squared_error: 38.1691 - val_loss: 53.2908 - val_mean_squared_error: 53.2908\n",
      "Epoch 97/100\n",
      "404/404 [==============================] - 0s 163us/sample - loss: 37.8592 - mean_squared_error: 37.8592 - val_loss: 55.2295 - val_mean_squared_error: 55.2295\n",
      "Epoch 98/100\n",
      "404/404 [==============================] - 0s 161us/sample - loss: 37.6845 - mean_squared_error: 37.6845 - val_loss: 52.9044 - val_mean_squared_error: 52.9044\n",
      "Epoch 99/100\n",
      "404/404 [==============================] - 0s 161us/sample - loss: 37.2816 - mean_squared_error: 37.2816 - val_loss: 51.5594 - val_mean_squared_error: 51.5594\n",
      "Epoch 100/100\n",
      "404/404 [==============================] - 0s 139us/sample - loss: 36.7652 - mean_squared_error: 36.7652 - val_loss: 51.1481 - val_mean_squared_error: 51.1481\n"
     ]
    },
    {
     "data": {
      "text/plain": [
       "<tensorflow.python.keras.callbacks.History at 0x2130eb07e80>"
      ]
     },
     "execution_count": 21,
     "metadata": {},
     "output_type": "execute_result"
    }
   ],
   "source": [
    "model_final.fit(x_train.values, y_train, validation_data=(x_test,y_test), epochs=100, batch_size=20, callbacks=[tb])"
   ]
  },
  {
   "cell_type": "markdown",
   "metadata": {},
   "source": [
    "## Classification?\n",
    "The only thing we really need to change is the final layer to predict classes"
   ]
  },
  {
   "cell_type": "code",
   "execution_count": 22,
   "metadata": {},
   "outputs": [],
   "source": [
    "model_iris = tf.keras.Sequential()\n",
    "# Adds a densely-connected layer with 64 units to the model:\n",
    "\n",
    "model_iris.add(layers.Dense(100, activation='sigmoid'))\n",
    "model_iris.add(layers.Dense(100, activation='sigmoid'))\n",
    "model_iris.add(layers.Dense(3 ,activation='sigmoid'),)\n",
    "\n",
    "model_iris.compile(optimizer=tf.train.GradientDescentOptimizer(0.01),\n",
    "              loss=tf.keras.losses.SparseCategoricalCrossentropy(),\n",
    "              metrics=['accuracy'])"
   ]
  },
  {
   "cell_type": "code",
   "execution_count": 23,
   "metadata": {},
   "outputs": [],
   "source": [
    "iris = datasets.load_iris()"
   ]
  },
  {
   "cell_type": "code",
   "execution_count": 24,
   "metadata": {},
   "outputs": [],
   "source": [
    "x= iris['data']\n",
    "y = iris['target']\n",
    "# Why do I not have to scale?\n",
    "x_train, x_test, y_train, y_test = train_test_split(x, y, test_size=0.20, random_state=1776)"
   ]
  },
  {
   "cell_type": "code",
   "execution_count": 25,
   "metadata": {},
   "outputs": [
    {
     "name": "stderr",
     "output_type": "stream",
     "text": [
      "W0715 22:15:42.733117 14628 deprecation.py:323] From c:\\users\\rdsla\\appdata\\local\\programs\\python\\python36\\lib\\site-packages\\tensorflow\\python\\ops\\math_grad.py:1250: add_dispatch_support.<locals>.wrapper (from tensorflow.python.ops.array_ops) is deprecated and will be removed in a future version.\n",
      "Instructions for updating:\n",
      "Use tf.where in 2.0, which has the same broadcast rule as np.where\n"
     ]
    },
    {
     "name": "stdout",
     "output_type": "stream",
     "text": [
      "Train on 120 samples, validate on 30 samples\n",
      "Epoch 1/100\n",
      "120/120 [==============================] - 0s 1ms/sample - loss: 1.1171 - acc: 0.3417 - val_loss: 1.1183 - val_acc: 0.3000\n",
      "Epoch 2/100\n",
      "120/120 [==============================] - 0s 900us/sample - loss: 1.1082 - acc: 0.3417 - val_loss: 1.1078 - val_acc: 0.3000\n",
      "Epoch 3/100\n",
      "120/120 [==============================] - 0s 942us/sample - loss: 1.1052 - acc: 0.3417 - val_loss: 1.1024 - val_acc: 0.3000\n",
      "Epoch 4/100\n",
      "120/120 [==============================] - 0s 967us/sample - loss: 1.1042 - acc: 0.3250 - val_loss: 1.1009 - val_acc: 0.3000\n",
      "Epoch 5/100\n",
      "120/120 [==============================] - 0s 934us/sample - loss: 1.1006 - acc: 0.3333 - val_loss: 1.1006 - val_acc: 0.3000\n",
      "Epoch 6/100\n",
      "120/120 [==============================] - 0s 892us/sample - loss: 1.1011 - acc: 0.3417 - val_loss: 1.0989 - val_acc: 0.3000\n",
      "Epoch 7/100\n",
      "120/120 [==============================] - 0s 658us/sample - loss: 1.0980 - acc: 0.3417 - val_loss: 1.0964 - val_acc: 0.4667\n",
      "Epoch 8/100\n",
      "120/120 [==============================] - 0s 617us/sample - loss: 1.0979 - acc: 0.2917 - val_loss: 1.0948 - val_acc: 0.5000\n",
      "Epoch 9/100\n",
      "120/120 [==============================] - 0s 592us/sample - loss: 1.0953 - acc: 0.3333 - val_loss: 1.0933 - val_acc: 0.3000\n",
      "Epoch 10/100\n",
      "120/120 [==============================] - 0s 617us/sample - loss: 1.0956 - acc: 0.3250 - val_loss: 1.0914 - val_acc: 0.3000\n",
      "Epoch 11/100\n",
      "120/120 [==============================] - 0s 667us/sample - loss: 1.0935 - acc: 0.3250 - val_loss: 1.0901 - val_acc: 0.3000\n",
      "Epoch 12/100\n",
      "120/120 [==============================] - 0s 617us/sample - loss: 1.0912 - acc: 0.4167 - val_loss: 1.0897 - val_acc: 0.3000\n",
      "Epoch 13/100\n",
      "120/120 [==============================] - 0s 667us/sample - loss: 1.0890 - acc: 0.3333 - val_loss: 1.0878 - val_acc: 0.3667\n",
      "Epoch 14/100\n",
      "120/120 [==============================] - 0s 625us/sample - loss: 1.0871 - acc: 0.3583 - val_loss: 1.0865 - val_acc: 0.3000\n",
      "Epoch 15/100\n",
      "120/120 [==============================] - 0s 525us/sample - loss: 1.0860 - acc: 0.3167 - val_loss: 1.0835 - val_acc: 0.3000\n",
      "Epoch 16/100\n",
      "120/120 [==============================] - 0s 617us/sample - loss: 1.0852 - acc: 0.3417 - val_loss: 1.0797 - val_acc: 0.4667\n",
      "Epoch 17/100\n",
      "120/120 [==============================] - 0s 675us/sample - loss: 1.0823 - acc: 0.4083 - val_loss: 1.0774 - val_acc: 0.4667\n",
      "Epoch 18/100\n",
      "120/120 [==============================] - 0s 658us/sample - loss: 1.0814 - acc: 0.4083 - val_loss: 1.0768 - val_acc: 0.3000\n",
      "Epoch 19/100\n",
      "120/120 [==============================] - 0s 692us/sample - loss: 1.0786 - acc: 0.3917 - val_loss: 1.0751 - val_acc: 0.3000\n",
      "Epoch 20/100\n",
      "120/120 [==============================] - 0s 875us/sample - loss: 1.0770 - acc: 0.4083 - val_loss: 1.0722 - val_acc: 0.4667\n",
      "Epoch 21/100\n",
      "120/120 [==============================] - 0s 892us/sample - loss: 1.0746 - acc: 0.3917 - val_loss: 1.0705 - val_acc: 0.4000\n",
      "Epoch 22/100\n",
      "120/120 [==============================] - 0s 717us/sample - loss: 1.0718 - acc: 0.3667 - val_loss: 1.0660 - val_acc: 0.4667\n",
      "Epoch 23/100\n",
      "120/120 [==============================] - 0s 558us/sample - loss: 1.0679 - acc: 0.5417 - val_loss: 1.0637 - val_acc: 0.5000\n",
      "Epoch 24/100\n",
      "120/120 [==============================] - 0s 592us/sample - loss: 1.0665 - acc: 0.3750 - val_loss: 1.0625 - val_acc: 0.3000\n",
      "Epoch 25/100\n",
      "120/120 [==============================] - 0s 625us/sample - loss: 1.0633 - acc: 0.4500 - val_loss: 1.0584 - val_acc: 0.4667\n",
      "Epoch 26/100\n",
      "120/120 [==============================] - 0s 658us/sample - loss: 1.0600 - acc: 0.4583 - val_loss: 1.0524 - val_acc: 0.4333\n",
      "Epoch 27/100\n",
      "120/120 [==============================] - 0s 617us/sample - loss: 1.0556 - acc: 0.4667 - val_loss: 1.0477 - val_acc: 0.4667\n",
      "Epoch 28/100\n",
      "120/120 [==============================] - 0s 658us/sample - loss: 1.0524 - acc: 0.4083 - val_loss: 1.0443 - val_acc: 0.6333\n",
      "Epoch 29/100\n",
      "120/120 [==============================] - 0s 692us/sample - loss: 1.0486 - acc: 0.4333 - val_loss: 1.0374 - val_acc: 0.6667\n",
      "Epoch 30/100\n",
      "120/120 [==============================] - 0s 658us/sample - loss: 1.0431 - acc: 0.5500 - val_loss: 1.0321 - val_acc: 0.6667\n",
      "Epoch 31/100\n",
      "120/120 [==============================] - 0s 558us/sample - loss: 1.0364 - acc: 0.6167 - val_loss: 1.0263 - val_acc: 0.8667\n",
      "Epoch 32/100\n",
      "120/120 [==============================] - 0s 592us/sample - loss: 1.0309 - acc: 0.5583 - val_loss: 1.0210 - val_acc: 0.7000\n",
      "Epoch 33/100\n",
      "120/120 [==============================] - 0s 625us/sample - loss: 1.0235 - acc: 0.5583 - val_loss: 1.0206 - val_acc: 0.6667\n",
      "Epoch 34/100\n",
      "120/120 [==============================] - 0s 658us/sample - loss: 1.0208 - acc: 0.5500 - val_loss: 1.0067 - val_acc: 0.7000\n",
      "Epoch 35/100\n",
      "120/120 [==============================] - 0s 834us/sample - loss: 1.0140 - acc: 0.6917 - val_loss: 1.0010 - val_acc: 0.7000\n",
      "Epoch 36/100\n",
      "120/120 [==============================] - 0s 1ms/sample - loss: 1.0079 - acc: 0.6500 - val_loss: 0.9908 - val_acc: 0.7333\n",
      "Epoch 37/100\n",
      "120/120 [==============================] - 0s 725us/sample - loss: 0.9979 - acc: 0.6250 - val_loss: 0.9871 - val_acc: 0.7667\n",
      "Epoch 38/100\n",
      "120/120 [==============================] - 0s 625us/sample - loss: 0.9899 - acc: 0.5750 - val_loss: 0.9742 - val_acc: 0.6667\n",
      "Epoch 39/100\n",
      "120/120 [==============================] - 0s 658us/sample - loss: 0.9785 - acc: 0.7000 - val_loss: 0.9622 - val_acc: 0.7000\n",
      "Epoch 40/100\n",
      "120/120 [==============================] - 0s 767us/sample - loss: 0.9729 - acc: 0.6667 - val_loss: 0.9470 - val_acc: 0.9000\n",
      "Epoch 41/100\n",
      "120/120 [==============================] - 0s 867us/sample - loss: 0.9580 - acc: 0.7333 - val_loss: 0.9386 - val_acc: 0.7333\n",
      "Epoch 42/100\n",
      "120/120 [==============================] - 0s 825us/sample - loss: 0.9507 - acc: 0.7250 - val_loss: 0.9254 - val_acc: 0.8000\n",
      "Epoch 43/100\n",
      "120/120 [==============================] - 0s 658us/sample - loss: 0.9362 - acc: 0.7000 - val_loss: 0.9169 - val_acc: 0.7333\n",
      "Epoch 44/100\n",
      "120/120 [==============================] - 0s 633us/sample - loss: 0.9227 - acc: 0.6917 - val_loss: 0.9071 - val_acc: 0.6667\n",
      "Epoch 45/100\n",
      "120/120 [==============================] - 0s 725us/sample - loss: 0.9169 - acc: 0.7083 - val_loss: 0.8902 - val_acc: 0.6667\n",
      "Epoch 46/100\n",
      "120/120 [==============================] - 0s 759us/sample - loss: 0.9060 - acc: 0.7000 - val_loss: 0.8732 - val_acc: 0.6667\n",
      "Epoch 47/100\n",
      "120/120 [==============================] - 0s 725us/sample - loss: 0.8843 - acc: 0.6917 - val_loss: 0.8634 - val_acc: 0.7000\n",
      "Epoch 48/100\n",
      "120/120 [==============================] - 0s 692us/sample - loss: 0.8756 - acc: 0.7583 - val_loss: 0.8529 - val_acc: 0.9667\n",
      "Epoch 49/100\n",
      "120/120 [==============================] - 0s 658us/sample - loss: 0.8643 - acc: 0.7833 - val_loss: 0.8339 - val_acc: 0.7000\n",
      "Epoch 50/100\n",
      "120/120 [==============================] - 0s 567us/sample - loss: 0.8527 - acc: 0.6833 - val_loss: 0.8186 - val_acc: 0.7000\n",
      "Epoch 51/100\n",
      "120/120 [==============================] - 0s 658us/sample - loss: 0.8370 - acc: 0.7083 - val_loss: 0.7998 - val_acc: 0.9000\n",
      "Epoch 52/100\n",
      "120/120 [==============================] - 0s 692us/sample - loss: 0.8172 - acc: 0.7583 - val_loss: 0.7968 - val_acc: 0.6667\n",
      "Epoch 53/100\n",
      "120/120 [==============================] - 0s 733us/sample - loss: 0.8049 - acc: 0.7167 - val_loss: 0.7725 - val_acc: 0.6667\n",
      "Epoch 54/100\n",
      "120/120 [==============================] - 0s 625us/sample - loss: 0.7913 - acc: 0.7333 - val_loss: 0.7599 - val_acc: 0.9000\n",
      "Epoch 55/100\n",
      "120/120 [==============================] - 0s 658us/sample - loss: 0.7779 - acc: 0.7333 - val_loss: 0.7494 - val_acc: 0.7000\n",
      "Epoch 56/100\n",
      "120/120 [==============================] - 0s 625us/sample - loss: 0.7598 - acc: 0.7667 - val_loss: 0.7361 - val_acc: 0.8000\n",
      "Epoch 57/100\n",
      "120/120 [==============================] - 0s 825us/sample - loss: 0.7501 - acc: 0.7667 - val_loss: 0.7217 - val_acc: 0.6667\n",
      "Epoch 58/100\n",
      "120/120 [==============================] - 0s 600us/sample - loss: 0.7330 - acc: 0.7083 - val_loss: 0.6968 - val_acc: 0.9333\n",
      "Epoch 59/100\n",
      "120/120 [==============================] - 0s 592us/sample - loss: 0.7141 - acc: 0.7667 - val_loss: 0.6952 - val_acc: 0.7000\n",
      "Epoch 60/100\n"
     ]
    },
    {
     "name": "stdout",
     "output_type": "stream",
     "text": [
      "120/120 [==============================] - 0s 625us/sample - loss: 0.7090 - acc: 0.7583 - val_loss: 0.6715 - val_acc: 0.8000\n",
      "Epoch 61/100\n",
      "120/120 [==============================] - 0s 592us/sample - loss: 0.6935 - acc: 0.7667 - val_loss: 0.6632 - val_acc: 0.6667\n",
      "Epoch 62/100\n",
      "120/120 [==============================] - 0s 625us/sample - loss: 0.6770 - acc: 0.7417 - val_loss: 0.6441 - val_acc: 0.8333\n",
      "Epoch 63/100\n",
      "120/120 [==============================] - 0s 675us/sample - loss: 0.6644 - acc: 0.8083 - val_loss: 0.6345 - val_acc: 0.8333\n",
      "Epoch 64/100\n",
      "120/120 [==============================] - 0s 675us/sample - loss: 0.6587 - acc: 0.7667 - val_loss: 0.6201 - val_acc: 0.8333\n",
      "Epoch 65/100\n",
      "120/120 [==============================] - 0s 725us/sample - loss: 0.6454 - acc: 0.7333 - val_loss: 0.6090 - val_acc: 0.9000\n",
      "Epoch 66/100\n",
      "120/120 [==============================] - 0s 700us/sample - loss: 0.6323 - acc: 0.7583 - val_loss: 0.5966 - val_acc: 0.9000\n",
      "Epoch 67/100\n",
      "120/120 [==============================] - 0s 658us/sample - loss: 0.6237 - acc: 0.7833 - val_loss: 0.5874 - val_acc: 0.8333\n",
      "Epoch 68/100\n",
      "120/120 [==============================] - 0s 558us/sample - loss: 0.6112 - acc: 0.8417 - val_loss: 0.5772 - val_acc: 0.8333\n",
      "Epoch 69/100\n",
      "120/120 [==============================] - 0s 658us/sample - loss: 0.6008 - acc: 0.7833 - val_loss: 0.5678 - val_acc: 0.8333\n",
      "Epoch 70/100\n",
      "120/120 [==============================] - 0s 550us/sample - loss: 0.5929 - acc: 0.8250 - val_loss: 0.5637 - val_acc: 0.7000\n",
      "Epoch 71/100\n",
      "120/120 [==============================] - 0s 592us/sample - loss: 0.5812 - acc: 0.7917 - val_loss: 0.5494 - val_acc: 0.8333\n",
      "Epoch 72/100\n",
      "120/120 [==============================] - 0s 625us/sample - loss: 0.5777 - acc: 0.8000 - val_loss: 0.5417 - val_acc: 0.8333\n",
      "Epoch 73/100\n",
      "120/120 [==============================] - 0s 725us/sample - loss: 0.5684 - acc: 0.7750 - val_loss: 0.5324 - val_acc: 0.8333\n",
      "Epoch 74/100\n",
      "120/120 [==============================] - 0s 692us/sample - loss: 0.5574 - acc: 0.8500 - val_loss: 0.5259 - val_acc: 0.8333\n",
      "Epoch 75/100\n",
      "120/120 [==============================] - 0s 675us/sample - loss: 0.5504 - acc: 0.8750 - val_loss: 0.5213 - val_acc: 0.8000\n",
      "Epoch 76/100\n",
      "120/120 [==============================] - 0s 734us/sample - loss: 0.5378 - acc: 0.8167 - val_loss: 0.5227 - val_acc: 0.7000\n",
      "Epoch 77/100\n",
      "120/120 [==============================] - 0s 617us/sample - loss: 0.5383 - acc: 0.7500 - val_loss: 0.5020 - val_acc: 1.0000\n",
      "Epoch 78/100\n",
      "120/120 [==============================] - 0s 525us/sample - loss: 0.5320 - acc: 0.9083 - val_loss: 0.4954 - val_acc: 0.9000\n",
      "Epoch 79/100\n",
      "120/120 [==============================] - 0s 625us/sample - loss: 0.5219 - acc: 0.8500 - val_loss: 0.4889 - val_acc: 1.0000\n",
      "Epoch 80/100\n",
      "120/120 [==============================] - 0s 733us/sample - loss: 0.5195 - acc: 0.9083 - val_loss: 0.4874 - val_acc: 0.8333\n",
      "Epoch 81/100\n",
      "120/120 [==============================] - 0s 692us/sample - loss: 0.5107 - acc: 0.8833 - val_loss: 0.4823 - val_acc: 0.8333\n",
      "Epoch 82/100\n",
      "120/120 [==============================] - 0s 675us/sample - loss: 0.5040 - acc: 0.8500 - val_loss: 0.4705 - val_acc: 0.9333\n",
      "Epoch 83/100\n",
      "120/120 [==============================] - 0s 650us/sample - loss: 0.4996 - acc: 0.8333 - val_loss: 0.4649 - val_acc: 0.9333\n",
      "Epoch 84/100\n",
      "120/120 [==============================] - 0s 617us/sample - loss: 0.4881 - acc: 0.8917 - val_loss: 0.4761 - val_acc: 0.7000\n",
      "Epoch 85/100\n",
      "120/120 [==============================] - 0s 592us/sample - loss: 0.4891 - acc: 0.8167 - val_loss: 0.4547 - val_acc: 0.9333\n",
      "Epoch 86/100\n",
      "120/120 [==============================] - 0s 625us/sample - loss: 0.4825 - acc: 0.9250 - val_loss: 0.4516 - val_acc: 0.9000\n",
      "Epoch 87/100\n",
      "120/120 [==============================] - 0s 667us/sample - loss: 0.4748 - acc: 0.8833 - val_loss: 0.4448 - val_acc: 0.9333\n",
      "Epoch 88/100\n",
      "120/120 [==============================] - 0s 558us/sample - loss: 0.4727 - acc: 0.8583 - val_loss: 0.4399 - val_acc: 0.9333\n",
      "Epoch 89/100\n",
      "120/120 [==============================] - 0s 667us/sample - loss: 0.4641 - acc: 0.9000 - val_loss: 0.4362 - val_acc: 1.0000\n",
      "Epoch 90/100\n",
      "120/120 [==============================] - 0s 1ms/sample - loss: 0.4616 - acc: 0.8917 - val_loss: 0.4326 - val_acc: 0.9000\n",
      "Epoch 91/100\n",
      "120/120 [==============================] - 0s 775us/sample - loss: 0.4423 - acc: 0.8417 - val_loss: 0.4360 - val_acc: 0.8000\n",
      "Epoch 92/100\n",
      "120/120 [==============================] - 0s 667us/sample - loss: 0.4494 - acc: 0.8500 - val_loss: 0.4307 - val_acc: 0.8333\n",
      "Epoch 93/100\n",
      "120/120 [==============================] - 0s 625us/sample - loss: 0.4499 - acc: 0.8833 - val_loss: 0.4179 - val_acc: 0.9667\n",
      "Epoch 94/100\n",
      "120/120 [==============================] - 0s 667us/sample - loss: 0.4416 - acc: 0.8833 - val_loss: 0.4258 - val_acc: 0.8333\n",
      "Epoch 95/100\n",
      "120/120 [==============================] - 0s 567us/sample - loss: 0.4433 - acc: 0.8833 - val_loss: 0.4151 - val_acc: 0.8667\n",
      "Epoch 96/100\n",
      "120/120 [==============================] - 0s 725us/sample - loss: 0.4387 - acc: 0.9000 - val_loss: 0.4105 - val_acc: 0.9000\n",
      "Epoch 97/100\n",
      "120/120 [==============================] - 0s 700us/sample - loss: 0.4289 - acc: 0.9417 - val_loss: 0.4203 - val_acc: 0.8000\n",
      "Epoch 98/100\n",
      "120/120 [==============================] - 0s 725us/sample - loss: 0.4323 - acc: 0.8917 - val_loss: 0.3987 - val_acc: 0.9333\n",
      "Epoch 99/100\n",
      "120/120 [==============================] - 0s 625us/sample - loss: 0.4248 - acc: 0.9167 - val_loss: 0.3942 - val_acc: 0.9667\n",
      "Epoch 100/100\n",
      "120/120 [==============================] - 0s 658us/sample - loss: 0.4186 - acc: 0.9250 - val_loss: 0.3976 - val_acc: 0.8667\n"
     ]
    },
    {
     "data": {
      "text/plain": [
       "<tensorflow.python.keras.callbacks.History at 0x2151c4c6ef0>"
      ]
     },
     "execution_count": 25,
     "metadata": {},
     "output_type": "execute_result"
    }
   ],
   "source": [
    "model_iris.fit(x_train, y_train, validation_data=(x_test,y_test), epochs=100, batch_size=4, callbacks=[tb])"
   ]
  },
  {
   "cell_type": "code",
   "execution_count": 30,
   "metadata": {},
   "outputs": [
    {
     "data": {
      "text/plain": [
       "array([2, 2, 0, 2, 2, 2, 1, 2, 1, 2, 1, 0, 0, 0, 2, 2, 0, 1, 0, 2, 0, 0,\n",
       "       0, 1, 0, 1, 2, 2, 2, 0], dtype=int64)"
      ]
     },
     "execution_count": 30,
     "metadata": {},
     "output_type": "execute_result"
    }
   ],
   "source": [
    "np.argmax(model_iris.predict(x_test),axis=1)"
   ]
  },
  {
   "cell_type": "code",
   "execution_count": 31,
   "metadata": {},
   "outputs": [
    {
     "data": {
      "text/plain": [
       "array([2, 1, 0, 1, 1, 1, 1, 2, 1, 2, 1, 0, 0, 0, 2, 2, 0, 1, 0, 2, 0, 0,\n",
       "       0, 1, 0, 1, 2, 2, 2, 0])"
      ]
     },
     "execution_count": 31,
     "metadata": {},
     "output_type": "execute_result"
    }
   ],
   "source": [
    "y_test"
   ]
  },
  {
   "cell_type": "code",
   "execution_count": null,
   "metadata": {},
   "outputs": [],
   "source": []
  }
 ],
 "metadata": {
  "kernelspec": {
   "display_name": "Python 3",
   "language": "python",
   "name": "python3"
  },
  "language_info": {
   "codemirror_mode": {
    "name": "ipython",
    "version": 3
   },
   "file_extension": ".py",
   "mimetype": "text/x-python",
   "name": "python",
   "nbconvert_exporter": "python",
   "pygments_lexer": "ipython3",
   "version": "3.6.8"
  }
 },
 "nbformat": 4,
 "nbformat_minor": 2
}
